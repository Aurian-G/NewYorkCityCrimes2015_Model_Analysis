{
 "cells": [
  {
   "cell_type": "markdown",
   "metadata": {},
   "source": [
    "# New York City 5 Boroughs Crimes Data\n",
    "\n",
    "Team:  Brian Gaither, Aurian Ghaemmaghami, Drew Larsen and Sabrina Purvis  \n"
   ]
  },
  {
   "cell_type": "markdown",
   "metadata": {},
   "source": [
    "# Business Understanding"
   ]
  },
  {
   "cell_type": "markdown",
   "metadata": {},
   "source": [
    "The selected dataset documents all reported crimes in the 5 boroughs of New York City up to but excluding murder.  We hope to gather insights related to location, probability and crime type classification.  With these findings, we believe we could make recommendations on police training, shift allocations, and jail/prison capacity.  \n",
    "\n",
    "This data has been gathered from https://www.kaggle.com/adamschroeder/crimes-new-york-city.\n",
    "  \n",
    "Dataset has 1,048,575  observations with 24 variables.  \n",
    "  \n",
    "\n",
    "This dataset has a second file provided that provides each of the 5 borough population metrics by decade from 1950 with projections through 2040.\n",
    "\n",
    "\n"
   ]
  },
  {
   "cell_type": "markdown",
   "metadata": {},
   "source": [
    "# Data Meaning"
   ]
  },
  {
   "cell_type": "markdown",
   "metadata": {},
   "source": [
    "|Variable Label|Variable Type|Data Description|\n",
    "| :-|:-|:-|\n",
    "|CMPLNT_NUM|Continuous|Randomly generated persistent ID for each complaint |\n",
    "|CMPLNT_FR_DT|Datestamp|\tExact date of occurrence for the reported event (or starting date of occurrence, if CMPLNT_TO_DT exists)|\n",
    "|CMPLNT_FR_TM|Timestamp|\tExact time of occurrence for the reported event (or starting time of occurrence, if CMPLNT_TO_TM exists)|\n",
    "|CMPLNT_TO_DT|Datestamp|\tEnding date of occurrence for the reported event, if exact time of occurrence is unknown|\n",
    "|CMPLNT_TO_TM|Timestamp|\tEnding time of occurrence for the reported event, if exact time of occurrence is unknown|\n",
    "|RPT_DT|Datestamp|\tDate event was reported to police |\n",
    "|KY_CD|Categorical|\tThree digit offense classification code|\n",
    "|OFNS_DESC\t|Categorical (string)|Description of offense corresponding with key code|\n",
    "|PD_CD\t|Categorical|Three digit internal classification code (more granular than Key Code)|\n",
    "|PD_DESC|Categorical (string)|\tDescription of internal classification corresponding with PD code (more granular than Offense Description)|\n",
    "|CRM_ATPT_CPTD_CD|Categorical|\tIndicator of whether crime was successfully completed or attempted, but failed or was interrupted prematurely|\n",
    "|LAW_CAT_CD|Categorical|\tLevel of offense: felony, misdemeanor, violation |\n",
    "|JURIS_DESC|Categorical|\tJurisdiction responsible for incident. Either internal, like Police, Transit, and Housing; or external, like Correction, Port Authority, etc.|\n",
    "|BORO_NM\t|Categorical|The name of the borough in which the incident occurred|\n",
    "|ADDR_PCT_CD\t|Categorical|The precinct in which the incident occurred|\n",
    "|LOC_OF_OCCUR_DESC|Categorical|\tSpecific location of occurrence in or around the premises; inside, opposite of, front of, rear of|\n",
    "|PREM_TYP_DESC|Categorical|\tSpecific description of premises; grocery store, residence, street, etc.|\n",
    "|PARKS_NM\t|Categorical|Name of NYC park, playground or greenspace of occurrence, if applicable (state parks are not included)|\n",
    "|HADEVELOPT|Categorical|\tName of NYCHA housing development of occurrence, if applicable|\n",
    "|X_COORD_CD|Continuous|\tX-coordinate for New York State Plane Coordinate System, Long Island Zone, NAD 83, units feet (FIPS 3104)|\n",
    "|Y_COORD_CD|Continuous|\tY-coordinate for New York State Plane Coordinate System, Long Island Zone, NAD 83, units feet (FIPS 3104)|\n",
    "|Latitude|Continuous|\tLatitude coordinate for Global Coordinate System, WGS 1984, decimal degrees (EPSG 4326) |\n",
    "|Longitude|Continuous|\tLongitude coordinate for Global Coordinate System, WGS 1984, decimal degrees (EPSG 4326)|\n",
    "\n",
    "\n",
    "\n",
    "\n",
    "#### Weather Data\n",
    "\n",
    "Weather data was captured from https://www.ncdc.noaa.gov/.  We pulled all weather data from 2010 to 2020 and set the location as Central Park Station.  \n",
    "\n",
    "Variables captured are described as follows:\n",
    "\n",
    "|Variable code|Description|Unit of Measure|\n",
    "|:-|:-|:-|\n",
    "|PRCP|Precipitation|Inches|\n",
    "|SNOW|Snowfall|Inches|\n",
    "|TMAX|Maximum temperature|Fahrenheit|\n",
    "|TMIN|Minimum temperature|Fahrenheit|"
   ]
  },
  {
   "cell_type": "markdown",
   "metadata": {},
   "source": [
    "# Data Quality"
   ]
  },
  {
   "cell_type": "code",
   "execution_count": null,
   "metadata": {},
   "outputs": [],
   "source": []
  },
  {
   "cell_type": "markdown",
   "metadata": {},
   "source": [
    "# Simple Statistics"
   ]
  },
  {
   "cell_type": "code",
   "execution_count": null,
   "metadata": {},
   "outputs": [],
   "source": []
  },
  {
   "cell_type": "markdown",
   "metadata": {},
   "source": [
    "# Visualize Attributes"
   ]
  },
  {
   "cell_type": "code",
   "execution_count": null,
   "metadata": {},
   "outputs": [],
   "source": []
  },
  {
   "cell_type": "markdown",
   "metadata": {},
   "source": [
    "# Explore Joint Attributes"
   ]
  },
  {
   "cell_type": "code",
   "execution_count": null,
   "metadata": {},
   "outputs": [],
   "source": []
  },
  {
   "cell_type": "markdown",
   "metadata": {},
   "source": [
    "# New Features"
   ]
  },
  {
   "cell_type": "code",
   "execution_count": null,
   "metadata": {},
   "outputs": [],
   "source": []
  },
  {
   "cell_type": "markdown",
   "metadata": {},
   "source": [
    "# Exceptional Work"
   ]
  },
  {
   "cell_type": "code",
   "execution_count": null,
   "metadata": {},
   "outputs": [],
   "source": []
  }
 ],
 "metadata": {
  "kernelspec": {
   "display_name": "Python 3",
   "language": "python",
   "name": "python3"
  },
  "language_info": {
   "codemirror_mode": {
    "name": "ipython",
    "version": 3
   },
   "file_extension": ".py",
   "mimetype": "text/x-python",
   "name": "python",
   "nbconvert_exporter": "python",
   "pygments_lexer": "ipython3",
   "version": "3.8.5"
  }
 },
 "nbformat": 4,
 "nbformat_minor": 4
}
