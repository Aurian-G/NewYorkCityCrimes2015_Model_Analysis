{
 "cells": [
  {
   "cell_type": "code",
   "execution_count": 1,
   "metadata": {},
   "outputs": [
    {
     "data": {
      "text/html": [
       "<link href='https://fonts.googleapis.com/css?family=Passion+One' rel='stylesheet' type='text/css'><style>div.attn { font-family: 'Helvetica Neue'; font-size: 30px; line-height: 40px; color: #FFFFFF; text-align: center; margin: 30px 0; border-width: 10px 0; border-style: solid; border-color: #5AAAAA; padding: 30px 0; background-color: #DDDDFF; }hr { border: 0; background-color: #ffffff; border-top: 1px solid black; }hr.major { border-top: 10px solid #5AAA5A; }hr.minor { border: none; background-color: #ffffff; border-top: 5px dotted #CC3333; }div.bubble { width: 65%; padding: 20px; background: #DDDDDD; border-radius: 15px; margin: 0 auto; font-style: italic; color: #f00; }em { color: #AAA; }div.c1{visibility:hidden;margin:0;height:0;}div.note{color:red;}table{margin-left: 0 !important;}</style>"
      ],
      "text/plain": [
       "<IPython.core.display.HTML object>"
      ]
     },
     "execution_count": 1,
     "metadata": {},
     "output_type": "execute_result"
    }
   ],
   "source": [
    "#  Ebnable HTML/CSS \n",
    "from IPython.core.display import HTML\n",
    "HTML(\"<link href='https://fonts.googleapis.com/css?family=Passion+One' rel='stylesheet' type='text/css'><style>div.attn { font-family: 'Helvetica Neue'; font-size: 30px; line-height: 40px; color: #FFFFFF; text-align: center; margin: 30px 0; border-width: 10px 0; border-style: solid; border-color: #5AAAAA; padding: 30px 0; background-color: #DDDDFF; }hr { border: 0; background-color: #ffffff; border-top: 1px solid black; }hr.major { border-top: 10px solid #5AAA5A; }hr.minor { border: none; background-color: #ffffff; border-top: 5px dotted #CC3333; }div.bubble { width: 65%; padding: 20px; background: #DDDDDD; border-radius: 15px; margin: 0 auto; font-style: italic; color: #f00; }em { color: #AAA; }div.c1{visibility:hidden;margin:0;height:0;}div.note{color:red;}table{margin-left: 0 !important;}</style>\")"
   ]
  },
  {
   "cell_type": "markdown",
   "metadata": {},
   "source": [
    "# Team Member Names\n",
    "\n",
    "|Name |\n",
    "|:--------|\n",
    "|Sabrina Purvis |\n",
    "|Brian Gaither |\n",
    "|Aurian Ghaemmaghami |\n",
    "|Andrew Larsen |"
   ]
  },
  {
   "attachments": {},
   "cell_type": "markdown",
   "metadata": {},
   "source": [
    "# Business Understanding\n",
    "\n",
    "\n",
    "<a id=\"top\"></a>\n",
    "## Contents\n",
    "* <a href=\"#Approach1\">Approach 1</a>\n",
    "    * <a href=\"#App1ModEval1\">Modeling and Evaluation 1</a>\n",
    "        * <a href=\"#App1ModEval1DU\">Data Understanding</a>\n",
    "        * <a href=\"#App1ModEval1Cluster\">Cluster Analysis</a>\n",
    "        * <a href=\"#App1ModEval1Effectiveness\">Measuring Effectiveness</a>\n",
    "    * <a href=\"#App1ModEval2\">Modeling and Evaluation 2</a>\n",
    "        * <a href=\"#App1ModEval2DU\">Data Understanding</a>\n",
    "        * <a href=\"#App1ModEval2Cluster\">Cluster Analysis</a>\n",
    "        * <a href=\"#App1ModEval2Effectiveness\">Measuring Effectiveness</a>\n",
    "    * <a href=\"#App1Compare\">Approach 1 - Comparing Method 1 and 2</a>\n",
    "* <a href=\"#Approach2\">Approach 2</a>\n",
    "    * <a href=\"#App2ModEval1\">Modeling and Evaluation 1</a>\n",
    "        * <a href=\"#App2ModEval1DU\">Data Understanding</a>\n",
    "        * <a href=\"#App2ModEval1Cluster\">Cluster Analysis</a>\n",
    "        * <a href=\"#App2ModEval1Effectiveness\">Measuring Effectiveness</a>\n",
    "    * <a href=\"#App2ModEval2\">Modeling and Evaluation 2</a>\n",
    "        * <a href=\"#App2ModEval2DU\">Data Understanding</a>\n",
    "        * <a href=\"#App2ModEval2Cluster\">Cluster Analysis</a>\n",
    "        * <a href=\"#App2ModEval2Effectiveness\">Measuring Effectiveness</a>\n",
    "    * <a href=\"#App2Compare\">Approach 2 - Comparing Method 1 and 2</a>\n",
    "* <a href=\"#Deploy\">Deployment</a>\n",
    "* <a href=\"#Exceptional\">Exceptional Work</a>\n"
   ]
  },
  {
   "attachments": {},
   "cell_type": "markdown",
   "metadata": {},
   "source": [
    "<a id=\"Approach1\"></a>\n",
    "<a href=\"#top\">Back to Top</a>\n",
    "# Approach 1"
   ]
  },
  {
   "attachments": {},
   "cell_type": "markdown",
   "metadata": {},
   "source": [
    "<a id=\"App1ModEval1\"></a>\n",
    "<a href=\"#top\">Back to Top</a>\n",
    "## Modeling and Evaluation 1"
   ]
  },
  {
   "attachments": {},
   "cell_type": "markdown",
   "metadata": {},
   "source": [
    "<a id=\"App1ModEval1DU\"></a>\n",
    "<a href=\"#top\">Back to Top</a>\n",
    "### Data Understanding"
   ]
  },
  {
   "cell_type": "code",
   "execution_count": null,
   "metadata": {},
   "outputs": [],
   "source": []
  },
  {
   "cell_type": "markdown",
   "metadata": {},
   "source": [
    "<a id=\"App1ModEval1Cluster\"></a>\n",
    "<a href=\"#top\">Back to Top</a>\n",
    "### Cluster Analysis"
   ]
  },
  {
   "cell_type": "code",
   "execution_count": null,
   "metadata": {},
   "outputs": [],
   "source": []
  },
  {
   "attachments": {},
   "cell_type": "markdown",
   "metadata": {},
   "source": [
    "<a id=\"App1ModEval1Effectiveness\"></a>\n",
    "<a href=\"#top\">Back to Top</a>\n",
    "### Measure Effectiveness"
   ]
  },
  {
   "cell_type": "code",
   "execution_count": null,
   "metadata": {},
   "outputs": [],
   "source": []
  },
  {
   "attachments": {},
   "cell_type": "markdown",
   "metadata": {},
   "source": [
    "<a id=\"App1ModEval2\"></a>\n",
    "<a href=\"#top\">Back to Top</a>\n",
    "## Modeling and Evaluation 2"
   ]
  },
  {
   "attachments": {},
   "cell_type": "markdown",
   "metadata": {},
   "source": [
    "<a id=\"App1ModEval2DU\"></a>\n",
    "<a href=\"#top\">Back to Top</a>\n",
    "### Data Understanding"
   ]
  },
  {
   "cell_type": "code",
   "execution_count": null,
   "metadata": {},
   "outputs": [],
   "source": []
  },
  {
   "cell_type": "markdown",
   "metadata": {},
   "source": [
    "<a id=\"App1ModEval2Cluster\"></a>\n",
    "<a href=\"#top\">Back to Top</a>\n",
    "### Cluster Analysis"
   ]
  },
  {
   "cell_type": "code",
   "execution_count": null,
   "metadata": {},
   "outputs": [],
   "source": []
  },
  {
   "attachments": {},
   "cell_type": "markdown",
   "metadata": {},
   "source": [
    "<a id=\"App1ModEval2Effectiveness\"></a>\n",
    "<a href=\"#top\">Back to Top</a>\n",
    "### Measure Effectiveness"
   ]
  },
  {
   "cell_type": "code",
   "execution_count": null,
   "metadata": {},
   "outputs": [],
   "source": []
  },
  {
   "attachments": {},
   "cell_type": "markdown",
   "metadata": {},
   "source": [
    "<a id=\"App1Compare\"></a>\n",
    "<a href=\"#top\">Back to Top</a>\n",
    "## Approach 1 - Comparing Effectiveness of Method 1 and 2"
   ]
  },
  {
   "cell_type": "code",
   "execution_count": null,
   "metadata": {},
   "outputs": [],
   "source": []
  },
  {
   "attachments": {},
   "cell_type": "markdown",
   "metadata": {},
   "source": [
    "<a id=\"Approach2\"></a>\n",
    "<a href=\"#top\">Back to Top</a>\n",
    "# Approach 2"
   ]
  },
  {
   "attachments": {},
   "cell_type": "markdown",
   "metadata": {},
   "source": [
    "<a id=\"App2ModEval1\"></a>\n",
    "<a href=\"#top\">Back to Top</a>\n",
    "## Modeling and Evaluation 1"
   ]
  },
  {
   "attachments": {},
   "cell_type": "markdown",
   "metadata": {},
   "source": [
    "<a id=\"App2ModEval1DU\"></a>\n",
    "<a href=\"#top\">Back to Top</a>\n",
    "### Data Understanding"
   ]
  },
  {
   "cell_type": "code",
   "execution_count": null,
   "metadata": {},
   "outputs": [],
   "source": []
  },
  {
   "cell_type": "markdown",
   "metadata": {},
   "source": [
    "<a id=\"App2ModEval1Cluster\"></a>\n",
    "<a href=\"#top\">Back to Top</a>\n",
    "### Cluster Analysis"
   ]
  },
  {
   "cell_type": "code",
   "execution_count": null,
   "metadata": {},
   "outputs": [],
   "source": []
  },
  {
   "attachments": {},
   "cell_type": "markdown",
   "metadata": {},
   "source": [
    "<a id=\"App2ModEval1Effectiveness\"></a>\n",
    "<a href=\"#top\">Back to Top</a>\n",
    "### Measure Effectiveness"
   ]
  },
  {
   "cell_type": "code",
   "execution_count": null,
   "metadata": {},
   "outputs": [],
   "source": []
  },
  {
   "attachments": {},
   "cell_type": "markdown",
   "metadata": {},
   "source": [
    "<a id=\"App2ModEval2\"></a>\n",
    "<a href=\"#top\">Back to Top</a>\n",
    "## Modeling and Evaluation 2"
   ]
  },
  {
   "attachments": {},
   "cell_type": "markdown",
   "metadata": {},
   "source": [
    "<a id=\"App2ModEval2DU\"></a>\n",
    "<a href=\"#top\">Back to Top</a>\n",
    "### Data Understanding"
   ]
  },
  {
   "cell_type": "code",
   "execution_count": null,
   "metadata": {},
   "outputs": [],
   "source": []
  },
  {
   "attachments": {},
   "cell_type": "markdown",
   "metadata": {},
   "source": [
    "<a id=\"App2ModEval2Cluster\"></a>\n",
    "<a href=\"#top\">Back to Top</a>\n",
    "### Cluster Analysis"
   ]
  },
  {
   "cell_type": "code",
   "execution_count": null,
   "metadata": {},
   "outputs": [],
   "source": []
  },
  {
   "attachments": {},
   "cell_type": "markdown",
   "metadata": {},
   "source": [
    "<a id=\"App2ModEval2Effectiveness\"></a>\n",
    "<a href=\"#top\">Back to Top</a>\n",
    "### Measure Effectiveness"
   ]
  },
  {
   "cell_type": "code",
   "execution_count": null,
   "metadata": {},
   "outputs": [],
   "source": []
  },
  {
   "attachments": {},
   "cell_type": "markdown",
   "metadata": {},
   "source": [
    "<a id=\"App2Compare\"></a>\n",
    "<a href=\"#top\">Back to Top</a>\n",
    "## Approach 2 - Comparing Effectiveness of Method 1 and 2"
   ]
  },
  {
   "cell_type": "code",
   "execution_count": null,
   "metadata": {},
   "outputs": [],
   "source": []
  },
  {
   "attachments": {},
   "cell_type": "markdown",
   "metadata": {},
   "source": [
    "<a id=\"Deploy\"></a>\n",
    "<a href=\"#top\">Back to Top</a>\n",
    "# Deployment"
   ]
  },
  {
   "cell_type": "code",
   "execution_count": null,
   "metadata": {},
   "outputs": [],
   "source": []
  },
  {
   "attachments": {},
   "cell_type": "markdown",
   "metadata": {},
   "source": [
    "<a id=\"Exceptional\"></a>\n",
    "<a href=\"#top\">Back to Top</a>\n",
    "# Exceptional Work"
   ]
  },
  {
   "cell_type": "code",
   "execution_count": null,
   "metadata": {},
   "outputs": [],
   "source": []
  }
 ],
 "metadata": {
  "kernelspec": {
   "display_name": "Python 3",
   "language": "python",
   "name": "python3"
  },
  "language_info": {
   "codemirror_mode": {
    "name": "ipython",
    "version": 3
   },
   "file_extension": ".py",
   "mimetype": "text/x-python",
   "name": "python",
   "nbconvert_exporter": "python",
   "pygments_lexer": "ipython3",
   "version": "3.7.6"
  }
 },
 "nbformat": 4,
 "nbformat_minor": 4
}
