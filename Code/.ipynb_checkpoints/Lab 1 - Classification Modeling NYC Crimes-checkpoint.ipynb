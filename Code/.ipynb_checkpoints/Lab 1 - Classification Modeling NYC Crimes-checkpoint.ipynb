{
 "cells": [
  {
   "cell_type": "markdown",
   "metadata": {},
   "source": [
    "# Lab 1 - New York City 5 Boroughs Crimes Data\n",
    "\n",
    "Team:  Brian Gaither, Aurian Ghaemmaghami, Drew Larsen and Sabrina Purvis"
   ]
  },
  {
   "cell_type": "markdown",
   "metadata": {},
   "source": [
    "# Model Creation and Understanding"
   ]
  },
  {
   "cell_type": "markdown",
   "metadata": {},
   "source": [
    "We are exploring both Logistic Regression and Random Forest Classification to determine if crimes classify is either \"Violent\" or \"Non-Violent\". \n",
    "\n",
    "Accuracy and specificity will be our main benchmarks of model effectiveness as we are trying to correctly minimize our false positive rate of classifying a crime to be violent. Model effectiveness will be measured by an accuracy threshold of at least 70%, as well as, a specificity rate of 70%."
   ]
  },
  {
   "cell_type": "markdown",
   "metadata": {},
   "source": [
    "### Assumptions"
   ]
  },
  {
   "cell_type": "markdown",
   "metadata": {},
   "source": [
    "In logistic regression, there are a few assumptions that must be considered.  \n",
    " - For this evaluation, we determined that we are solving for a binary classification of 'Violent' and 'Non-Violent' crimes.  In binary classification, the dependent variable must be binary; we must only have two outcomes. \n",
    " - The second assumption to consider is independence.  The dataset may not use a method such as repeated measures.  Our dataset, as far as we understand, has measured unique, independent crime activities.\n",
    " - The third assumption or requirement is that the selected data must have little or no multicollinearity among the variables.  During our Exploratory Data Analysis, we did identify that we had correlation between months and temperature data.  We did not include the weather data in this modeling.  \n",
    " - A final requirement for logistic regression is a 'large' sample size.  At an original dataset of 1.4M observations, we comfortably met this metric."
   ]
  },
  {
   "cell_type": "code",
   "execution_count": null,
   "metadata": {},
   "outputs": [],
   "source": []
  },
  {
   "cell_type": "markdown",
   "metadata": {},
   "source": [
    "### Binary Variable Classification Curation"
   ]
  },
  {
   "cell_type": "markdown",
   "metadata": {},
   "source": [
    "There were 64 unique possibilities of crimes that were recroded in our dataset. Initially, we explored different avenues of multi-class classification, but those techniques added higher complexity and class imbalances. Ultimately, we managed to classify all 64 different types of crimes into two main subgroups: Violent vs Non-Violent. \n",
    "\n",
    "Our team has leveraged https://www1.nyc.gov/site/nypd/stats/crime-statistics/crime-statistics-landing.page as a benchmark to accurately classify each of our unique crimes into the binary subgroup descrbed above to continue on with our analysis. "
   ]
  },
  {
   "cell_type": "markdown",
   "metadata": {},
   "source": [
    "### Parameter Tuning"
   ]
  },
  {
   "cell_type": "code",
   "execution_count": null,
   "metadata": {},
   "outputs": [],
   "source": []
  },
  {
   "cell_type": "code",
   "execution_count": null,
   "metadata": {},
   "outputs": [],
   "source": []
  },
  {
   "cell_type": "markdown",
   "metadata": {},
   "source": [
    "# Model 1 - Logistic Regression Model"
   ]
  },
  {
   "cell_type": "markdown",
   "metadata": {},
   "source": [
    "### Model Description\n",
    "\n",
    "The first activity that had to occur was data manipulation, to dummy encode our categorical variables.  With a ratio of roughly 30/70 split on violent versus non-violent incidents, we also upsampled our dataset to balance it."
   ]
  },
  {
   "cell_type": "markdown",
   "metadata": {},
   "source": [
    "### Setting Up the Data"
   ]
  },
  {
   "cell_type": "code",
   "execution_count": 1,
   "metadata": {},
   "outputs": [],
   "source": [
    "import pandas as pd\n",
    "import numpy as np"
   ]
  },
  {
   "cell_type": "code",
   "execution_count": 2,
   "metadata": {},
   "outputs": [],
   "source": [
    "crime = pd.read_csv('Training_and_Test_Set.csv') # read in the csv %%file"
   ]
  },
  {
   "cell_type": "code",
   "execution_count": 3,
   "metadata": {},
   "outputs": [
    {
     "data": {
      "text/plain": [
       "JURIS_DESC            object\n",
       "BORO_NM               object\n",
       "ADDR_PCT_CD          float64\n",
       "LOC_OF_OCCUR_DESC     object\n",
       "PREM_TYP_DESC         object\n",
       "Day_Name              object\n",
       "Duration             float64\n",
       "Duration_to_PD       float64\n",
       "Month                 object\n",
       "Day                  float64\n",
       "Year                 float64\n",
       "Duration_lbl          object\n",
       "Season                object\n",
       "Daytime               object\n",
       "GeoCell              float64\n",
       "GeoCell_X            float64\n",
       "GeoCell_Y            float64\n",
       "y                      int64\n",
       "dtype: object"
      ]
     },
     "execution_count": 3,
     "metadata": {},
     "output_type": "execute_result"
    }
   ],
   "source": [
    "crime.dtypes #ensuring the data read in correctly"
   ]
  },
  {
   "cell_type": "code",
   "execution_count": 4,
   "metadata": {},
   "outputs": [
    {
     "data": {
      "text/html": [
       "<div>\n",
       "<style scoped>\n",
       "    .dataframe tbody tr th:only-of-type {\n",
       "        vertical-align: middle;\n",
       "    }\n",
       "\n",
       "    .dataframe tbody tr th {\n",
       "        vertical-align: top;\n",
       "    }\n",
       "\n",
       "    .dataframe thead th {\n",
       "        text-align: right;\n",
       "    }\n",
       "</style>\n",
       "<table border=\"1\" class=\"dataframe\">\n",
       "  <thead>\n",
       "    <tr style=\"text-align: right;\">\n",
       "      <th></th>\n",
       "      <th>JURIS_DESC</th>\n",
       "      <th>BORO_NM</th>\n",
       "      <th>ADDR_PCT_CD</th>\n",
       "      <th>LOC_OF_OCCUR_DESC</th>\n",
       "      <th>PREM_TYP_DESC</th>\n",
       "      <th>Day_Name</th>\n",
       "      <th>Duration</th>\n",
       "      <th>Duration_to_PD</th>\n",
       "      <th>Month</th>\n",
       "      <th>Day</th>\n",
       "      <th>Year</th>\n",
       "      <th>Duration_lbl</th>\n",
       "      <th>Season</th>\n",
       "      <th>Daytime</th>\n",
       "      <th>GeoCell</th>\n",
       "      <th>GeoCell_X</th>\n",
       "      <th>GeoCell_Y</th>\n",
       "      <th>y</th>\n",
       "    </tr>\n",
       "  </thead>\n",
       "  <tbody>\n",
       "    <tr>\n",
       "      <th>0</th>\n",
       "      <td>N.Y. POLICE DEPT</td>\n",
       "      <td>STATEN ISLAND</td>\n",
       "      <td>120.0</td>\n",
       "      <td>INSIDE</td>\n",
       "      <td>COMMERCIAL BUILDING</td>\n",
       "      <td>Friday</td>\n",
       "      <td>3.0</td>\n",
       "      <td>0.0</td>\n",
       "      <td>September</td>\n",
       "      <td>5.0</td>\n",
       "      <td>2014.0</td>\n",
       "      <td>Short</td>\n",
       "      <td>Fall</td>\n",
       "      <td>Morning</td>\n",
       "      <td>23.0</td>\n",
       "      <td>3.0</td>\n",
       "      <td>3.0</td>\n",
       "      <td>0</td>\n",
       "    </tr>\n",
       "    <tr>\n",
       "      <th>1</th>\n",
       "      <td>N.Y. POLICE DEPT</td>\n",
       "      <td>STATEN ISLAND</td>\n",
       "      <td>121.0</td>\n",
       "      <td>INSIDE</td>\n",
       "      <td>RESIDENCE-HOUSE</td>\n",
       "      <td>Sunday</td>\n",
       "      <td>1.0</td>\n",
       "      <td>0.0</td>\n",
       "      <td>December</td>\n",
       "      <td>27.0</td>\n",
       "      <td>2015.0</td>\n",
       "      <td>Short</td>\n",
       "      <td>Winter</td>\n",
       "      <td>Day</td>\n",
       "      <td>23.0</td>\n",
       "      <td>3.0</td>\n",
       "      <td>3.0</td>\n",
       "      <td>1</td>\n",
       "    </tr>\n",
       "    <tr>\n",
       "      <th>2</th>\n",
       "      <td>N.Y. POLICE DEPT</td>\n",
       "      <td>BRONX</td>\n",
       "      <td>43.0</td>\n",
       "      <td>INSIDE</td>\n",
       "      <td>RESIDENCE - APT. HOUSE</td>\n",
       "      <td>Sunday</td>\n",
       "      <td>14.0</td>\n",
       "      <td>171.0</td>\n",
       "      <td>September</td>\n",
       "      <td>1.0</td>\n",
       "      <td>2013.0</td>\n",
       "      <td>Medium</td>\n",
       "      <td>Fall</td>\n",
       "      <td>Night</td>\n",
       "      <td>78.0</td>\n",
       "      <td>8.0</td>\n",
       "      <td>8.0</td>\n",
       "      <td>0</td>\n",
       "    </tr>\n",
       "    <tr>\n",
       "      <th>3</th>\n",
       "      <td>N.Y. POLICE DEPT</td>\n",
       "      <td>BROOKLYN</td>\n",
       "      <td>75.0</td>\n",
       "      <td>INSIDE</td>\n",
       "      <td>RESIDENCE-HOUSE</td>\n",
       "      <td>Friday</td>\n",
       "      <td>6.0</td>\n",
       "      <td>28.0</td>\n",
       "      <td>October</td>\n",
       "      <td>10.0</td>\n",
       "      <td>2014.0</td>\n",
       "      <td>Short</td>\n",
       "      <td>Fall</td>\n",
       "      <td>Day</td>\n",
       "      <td>47.0</td>\n",
       "      <td>7.0</td>\n",
       "      <td>5.0</td>\n",
       "      <td>0</td>\n",
       "    </tr>\n",
       "    <tr>\n",
       "      <th>4</th>\n",
       "      <td>N.Y. POLICE DEPT</td>\n",
       "      <td>MANHATTAN</td>\n",
       "      <td>6.0</td>\n",
       "      <td>FRONT OF</td>\n",
       "      <td>STREET</td>\n",
       "      <td>Sunday</td>\n",
       "      <td>1.0</td>\n",
       "      <td>0.0</td>\n",
       "      <td>September</td>\n",
       "      <td>28.0</td>\n",
       "      <td>2014.0</td>\n",
       "      <td>Short</td>\n",
       "      <td>Fall</td>\n",
       "      <td>Early Morning</td>\n",
       "      <td>55.0</td>\n",
       "      <td>5.0</td>\n",
       "      <td>6.0</td>\n",
       "      <td>0</td>\n",
       "    </tr>\n",
       "  </tbody>\n",
       "</table>\n",
       "</div>"
      ],
      "text/plain": [
       "         JURIS_DESC        BORO_NM  ADDR_PCT_CD LOC_OF_OCCUR_DESC  \\\n",
       "0  N.Y. POLICE DEPT  STATEN ISLAND        120.0            INSIDE   \n",
       "1  N.Y. POLICE DEPT  STATEN ISLAND        121.0            INSIDE   \n",
       "2  N.Y. POLICE DEPT          BRONX         43.0            INSIDE   \n",
       "3  N.Y. POLICE DEPT       BROOKLYN         75.0            INSIDE   \n",
       "4  N.Y. POLICE DEPT      MANHATTAN          6.0          FRONT OF   \n",
       "\n",
       "            PREM_TYP_DESC Day_Name  Duration  Duration_to_PD      Month   Day  \\\n",
       "0     COMMERCIAL BUILDING   Friday       3.0             0.0  September   5.0   \n",
       "1         RESIDENCE-HOUSE   Sunday       1.0             0.0   December  27.0   \n",
       "2  RESIDENCE - APT. HOUSE   Sunday      14.0           171.0  September   1.0   \n",
       "3         RESIDENCE-HOUSE   Friday       6.0            28.0    October  10.0   \n",
       "4                  STREET   Sunday       1.0             0.0  September  28.0   \n",
       "\n",
       "     Year Duration_lbl  Season        Daytime  GeoCell  GeoCell_X  GeoCell_Y  \\\n",
       "0  2014.0        Short    Fall        Morning     23.0        3.0        3.0   \n",
       "1  2015.0        Short  Winter            Day     23.0        3.0        3.0   \n",
       "2  2013.0       Medium    Fall          Night     78.0        8.0        8.0   \n",
       "3  2014.0        Short    Fall            Day     47.0        7.0        5.0   \n",
       "4  2014.0        Short    Fall  Early Morning     55.0        5.0        6.0   \n",
       "\n",
       "   y  \n",
       "0  0  \n",
       "1  1  \n",
       "2  0  \n",
       "3  0  \n",
       "4  0  "
      ]
     },
     "execution_count": 4,
     "metadata": {},
     "output_type": "execute_result"
    }
   ],
   "source": [
    "crime.head()"
   ]
  },
  {
   "cell_type": "code",
   "execution_count": 5,
   "metadata": {},
   "outputs": [
    {
     "data": {
      "text/plain": [
       "0    365333\n",
       "1    163540\n",
       "Name: y, dtype: int64"
      ]
     },
     "execution_count": 5,
     "metadata": {},
     "output_type": "execute_result"
    }
   ],
   "source": [
    "#Value Counts by Crime Type - note the ration of Violent [0] vs Non-Violent [1]?\n",
    "crime['y'].value_counts()"
   ]
  },
  {
   "cell_type": "code",
   "execution_count": 6,
   "metadata": {},
   "outputs": [],
   "source": [
    "#dropping any remaining NANs\n",
    "crime = crime.dropna() "
   ]
  },
  {
   "cell_type": "code",
   "execution_count": 7,
   "metadata": {},
   "outputs": [
    {
     "data": {
      "text/plain": [
       "False"
      ]
     },
     "execution_count": 7,
     "metadata": {},
     "output_type": "execute_result"
    }
   ],
   "source": [
    "#confirming that we don't have any NaN's\n",
    "crime.isnull().values.any()"
   ]
  },
  {
   "cell_type": "code",
   "execution_count": 8,
   "metadata": {},
   "outputs": [
    {
     "name": "stdout",
     "output_type": "stream",
     "text": [
      "<class 'pandas.core.frame.DataFrame'>\n",
      "Int64Index: 528873 entries, 0 to 528872\n",
      "Data columns (total 18 columns):\n",
      " #   Column             Non-Null Count   Dtype  \n",
      "---  ------             --------------   -----  \n",
      " 0   JURIS_DESC         528873 non-null  object \n",
      " 1   BORO_NM            528873 non-null  object \n",
      " 2   ADDR_PCT_CD        528873 non-null  float64\n",
      " 3   LOC_OF_OCCUR_DESC  528873 non-null  object \n",
      " 4   PREM_TYP_DESC      528873 non-null  object \n",
      " 5   Day_Name           528873 non-null  object \n",
      " 6   Duration           528873 non-null  float64\n",
      " 7   Duration_to_PD     528873 non-null  float64\n",
      " 8   Month              528873 non-null  object \n",
      " 9   Day                528873 non-null  float64\n",
      " 10  Year               528873 non-null  float64\n",
      " 11  Duration_lbl       528873 non-null  object \n",
      " 12  Season             528873 non-null  object \n",
      " 13  Daytime            528873 non-null  object \n",
      " 14  GeoCell            528873 non-null  float64\n",
      " 15  GeoCell_X          528873 non-null  float64\n",
      " 16  GeoCell_Y          528873 non-null  float64\n",
      " 17  y                  528873 non-null  int64  \n",
      "dtypes: float64(8), int64(1), object(9)\n",
      "memory usage: 76.7+ MB\n"
     ]
    }
   ],
   "source": [
    "crime.info()"
   ]
  },
  {
   "cell_type": "code",
   "execution_count": 9,
   "metadata": {},
   "outputs": [],
   "source": [
    "# perform one-hot encoding of the categorical data on 'JURIS_DESC','BORO_NM','LOC_OF_OCCUR_DESC',\n",
    "#'ADDR_PCT_CD','PREM_TYP_DESC','Day_Name','Month','Duration_lbl','Season','Daytime'\n",
    "tmp_df = pd.get_dummies(crime.JURIS_DESC,prefix='JURIS_DESC')\n",
    "crime = pd.concat((crime,tmp_df),axis=1) # add back into the dataframe\n",
    "\n",
    "tmp_df = pd.get_dummies(crime.BORO_NM,prefix='BORO_NM')\n",
    "crime = pd.concat((crime,tmp_df),axis=1) # add back into the dataframe\n",
    "\n",
    "tmp_df = pd.get_dummies(crime.LOC_OF_OCCUR_DESC,prefix='LOC_OF_OCCUR_DESC')\n",
    "crime = pd.concat((crime,tmp_df),axis=1) # add back into the dataframe\n",
    "\n",
    "tmp_df = pd.get_dummies(crime.ADDR_PCT_CD,prefix='ADDR_PCT_CD')\n",
    "crime = pd.concat((crime,tmp_df),axis=1) # add back into the dataframe\n",
    "\n",
    "tmp_df = pd.get_dummies(crime.PREM_TYP_DESC,prefix='PREM_TYP_DESC')\n",
    "crime = pd.concat((crime,tmp_df),axis=1) # add back into the dataframe\n",
    "\n",
    "tmp_df = pd.get_dummies(crime.Day_Name,prefix='Day_Name')\n",
    "crime = pd.concat((crime,tmp_df),axis=1) # add back into the dataframe\n",
    "\n",
    "tmp_df = pd.get_dummies(crime.Month,prefix='Month')\n",
    "crime = pd.concat((crime,tmp_df),axis=1) # add back into the dataframe\n",
    "\n",
    "tmp_df = pd.get_dummies(crime.Duration_lbl,prefix='Duration_lbl')\n",
    "crime = pd.concat((crime,tmp_df),axis=1) # add back into the dataframe\n",
    "\n",
    "tmp_df = pd.get_dummies(crime.Season,prefix='Season')\n",
    "crime = pd.concat((crime,tmp_df),axis=1) # add back into the dataframe\n",
    "\n",
    "tmp_df = pd.get_dummies(crime.Daytime,prefix='Daytime')\n",
    "crime = pd.concat((crime,tmp_df),axis=1) # add back into the dataframe"
   ]
  },
  {
   "cell_type": "code",
   "execution_count": 10,
   "metadata": {},
   "outputs": [
    {
     "name": "stdout",
     "output_type": "stream",
     "text": [
      "<class 'pandas.core.frame.DataFrame'>\n",
      "Int64Index: 528873 entries, 0 to 528872\n",
      "Columns: 225 entries, JURIS_DESC to Daytime_Night\n",
      "dtypes: float64(8), int64(1), object(9), uint8(207)\n",
      "memory usage: 181.1+ MB\n"
     ]
    }
   ],
   "source": [
    "crime.info()"
   ]
  },
  {
   "cell_type": "code",
   "execution_count": 11,
   "metadata": {},
   "outputs": [],
   "source": [
    "#Now we drop the original variables\n",
    "if 'JURIS_DESC' in crime:    \n",
    "    del crime['JURIS_DESC'] # get rid of the original category as it is now one-hot encoded\n",
    "if 'BORO_NM' in crime:    \n",
    "    del crime['BORO_NM'] # get rid of the original category as it is now one-hot encoded\n",
    "if 'LOC_OF_OCCUR_DESC' in crime:    \n",
    "    del crime['LOC_OF_OCCUR_DESC'] # get rid of the original category as it is now one-hot encoded\n",
    "if 'ADDR_PCT_CD' in crime:    \n",
    "    del crime['ADDR_PCT_CD'] # get rid of the original category as it is now one-hot encoded\n",
    "if 'PREM_TYP_DESC' in crime:    \n",
    "    del crime['PREM_TYP_DESC'] # get rid of the original category as it is now one-hot encoded\n",
    "if 'Day_Name' in crime:    \n",
    "    del crime['Day_Name'] # get rid of the original category as it is now one-hot encoded\n",
    "if 'Month' in crime:    \n",
    "    del crime['Month'] # get rid of the original category as it is now one-hot encoded\n",
    "if 'Duration_lbl' in crime:    \n",
    "    del crime['Duration_lbl'] # get rid of the original category as it is now one-hot encoded\n",
    "if 'Season' in crime:    \n",
    "    del crime['Season'] # get rid of the original category as it is now one-hot encoded\n",
    "if 'Daytime' in crime:    \n",
    "    del crime['Daytime'] # get rid of the original category as it is now one-hot encoded"
   ]
  },
  {
   "cell_type": "code",
   "execution_count": 12,
   "metadata": {},
   "outputs": [
    {
     "data": {
      "text/plain": [
       "Duration                                      float64\n",
       "Duration_to_PD                                float64\n",
       "Day                                           float64\n",
       "Year                                          float64\n",
       "GeoCell                                       float64\n",
       "GeoCell_X                                     float64\n",
       "GeoCell_Y                                     float64\n",
       "y                                               int64\n",
       "JURIS_DESC_AMTRACK                              uint8\n",
       "JURIS_DESC_DEPT OF CORRECTIONS                  uint8\n",
       "JURIS_DESC_HEALTH & HOSP CORP                   uint8\n",
       "JURIS_DESC_LONG ISLAND RAILRD                   uint8\n",
       "JURIS_DESC_METRO NORTH                          uint8\n",
       "JURIS_DESC_N.Y. HOUSING POLICE                  uint8\n",
       "JURIS_DESC_N.Y. POLICE DEPT                     uint8\n",
       "JURIS_DESC_N.Y. STATE PARKS                     uint8\n",
       "JURIS_DESC_N.Y. STATE POLICE                    uint8\n",
       "JURIS_DESC_N.Y. TRANSIT POLICE                  uint8\n",
       "JURIS_DESC_NEW YORK CITY SHERIFF OFFICE         uint8\n",
       "JURIS_DESC_NYC PARKS                            uint8\n",
       "JURIS_DESC_NYS DEPT TAX AND FINANCE             uint8\n",
       "JURIS_DESC_OTHER                                uint8\n",
       "JURIS_DESC_POLICE DEPT NYC                      uint8\n",
       "JURIS_DESC_PORT AUTHORITY                       uint8\n",
       "JURIS_DESC_STATN IS RAPID TRANS                 uint8\n",
       "JURIS_DESC_TRI-BORO BRDG TUNNL                  uint8\n",
       "JURIS_DESC_U.S. PARK POLICE                     uint8\n",
       "BORO_NM_BRONX                                   uint8\n",
       "BORO_NM_BROOKLYN                                uint8\n",
       "BORO_NM_MANHATTAN                               uint8\n",
       "BORO_NM_QUEENS                                  uint8\n",
       "BORO_NM_STATEN ISLAND                           uint8\n",
       "LOC_OF_OCCUR_DESC_FRONT OF                      uint8\n",
       "LOC_OF_OCCUR_DESC_INSIDE                        uint8\n",
       "LOC_OF_OCCUR_DESC_OPPOSITE OF                   uint8\n",
       "LOC_OF_OCCUR_DESC_REAR OF                       uint8\n",
       "ADDR_PCT_CD_1.0                                 uint8\n",
       "ADDR_PCT_CD_5.0                                 uint8\n",
       "ADDR_PCT_CD_6.0                                 uint8\n",
       "ADDR_PCT_CD_7.0                                 uint8\n",
       "ADDR_PCT_CD_9.0                                 uint8\n",
       "ADDR_PCT_CD_10.0                                uint8\n",
       "ADDR_PCT_CD_13.0                                uint8\n",
       "ADDR_PCT_CD_14.0                                uint8\n",
       "ADDR_PCT_CD_17.0                                uint8\n",
       "ADDR_PCT_CD_18.0                                uint8\n",
       "ADDR_PCT_CD_19.0                                uint8\n",
       "ADDR_PCT_CD_20.0                                uint8\n",
       "ADDR_PCT_CD_22.0                                uint8\n",
       "ADDR_PCT_CD_23.0                                uint8\n",
       "ADDR_PCT_CD_24.0                                uint8\n",
       "ADDR_PCT_CD_25.0                                uint8\n",
       "ADDR_PCT_CD_26.0                                uint8\n",
       "ADDR_PCT_CD_28.0                                uint8\n",
       "ADDR_PCT_CD_30.0                                uint8\n",
       "ADDR_PCT_CD_32.0                                uint8\n",
       "ADDR_PCT_CD_33.0                                uint8\n",
       "ADDR_PCT_CD_34.0                                uint8\n",
       "ADDR_PCT_CD_40.0                                uint8\n",
       "ADDR_PCT_CD_41.0                                uint8\n",
       "ADDR_PCT_CD_42.0                                uint8\n",
       "ADDR_PCT_CD_43.0                                uint8\n",
       "ADDR_PCT_CD_44.0                                uint8\n",
       "ADDR_PCT_CD_45.0                                uint8\n",
       "ADDR_PCT_CD_46.0                                uint8\n",
       "ADDR_PCT_CD_47.0                                uint8\n",
       "ADDR_PCT_CD_48.0                                uint8\n",
       "ADDR_PCT_CD_49.0                                uint8\n",
       "ADDR_PCT_CD_50.0                                uint8\n",
       "ADDR_PCT_CD_52.0                                uint8\n",
       "ADDR_PCT_CD_60.0                                uint8\n",
       "ADDR_PCT_CD_61.0                                uint8\n",
       "ADDR_PCT_CD_62.0                                uint8\n",
       "ADDR_PCT_CD_63.0                                uint8\n",
       "ADDR_PCT_CD_66.0                                uint8\n",
       "ADDR_PCT_CD_67.0                                uint8\n",
       "ADDR_PCT_CD_68.0                                uint8\n",
       "ADDR_PCT_CD_69.0                                uint8\n",
       "ADDR_PCT_CD_70.0                                uint8\n",
       "ADDR_PCT_CD_71.0                                uint8\n",
       "ADDR_PCT_CD_72.0                                uint8\n",
       "ADDR_PCT_CD_73.0                                uint8\n",
       "ADDR_PCT_CD_75.0                                uint8\n",
       "ADDR_PCT_CD_76.0                                uint8\n",
       "ADDR_PCT_CD_77.0                                uint8\n",
       "ADDR_PCT_CD_78.0                                uint8\n",
       "ADDR_PCT_CD_79.0                                uint8\n",
       "ADDR_PCT_CD_81.0                                uint8\n",
       "ADDR_PCT_CD_83.0                                uint8\n",
       "ADDR_PCT_CD_84.0                                uint8\n",
       "ADDR_PCT_CD_88.0                                uint8\n",
       "ADDR_PCT_CD_90.0                                uint8\n",
       "ADDR_PCT_CD_94.0                                uint8\n",
       "ADDR_PCT_CD_100.0                               uint8\n",
       "ADDR_PCT_CD_101.0                               uint8\n",
       "ADDR_PCT_CD_102.0                               uint8\n",
       "ADDR_PCT_CD_103.0                               uint8\n",
       "ADDR_PCT_CD_104.0                               uint8\n",
       "ADDR_PCT_CD_105.0                               uint8\n",
       "ADDR_PCT_CD_106.0                               uint8\n",
       "ADDR_PCT_CD_107.0                               uint8\n",
       "ADDR_PCT_CD_108.0                               uint8\n",
       "ADDR_PCT_CD_109.0                               uint8\n",
       "ADDR_PCT_CD_110.0                               uint8\n",
       "ADDR_PCT_CD_111.0                               uint8\n",
       "ADDR_PCT_CD_112.0                               uint8\n",
       "ADDR_PCT_CD_113.0                               uint8\n",
       "ADDR_PCT_CD_114.0                               uint8\n",
       "ADDR_PCT_CD_115.0                               uint8\n",
       "ADDR_PCT_CD_120.0                               uint8\n",
       "ADDR_PCT_CD_121.0                               uint8\n",
       "ADDR_PCT_CD_122.0                               uint8\n",
       "ADDR_PCT_CD_123.0                               uint8\n",
       "PREM_TYP_DESC_ABANDONED BUILDING                uint8\n",
       "PREM_TYP_DESC_AIRPORT TERMINAL                  uint8\n",
       "PREM_TYP_DESC_ATM                               uint8\n",
       "PREM_TYP_DESC_BANK                              uint8\n",
       "PREM_TYP_DESC_BAR/NIGHT CLUB                    uint8\n",
       "PREM_TYP_DESC_BEAUTY & NAIL SALON               uint8\n",
       "PREM_TYP_DESC_BOOK/CARD                         uint8\n",
       "PREM_TYP_DESC_BRIDGE                            uint8\n",
       "PREM_TYP_DESC_BUS (NYC TRANSIT)                 uint8\n",
       "PREM_TYP_DESC_BUS (OTHER)                       uint8\n",
       "PREM_TYP_DESC_BUS STOP                          uint8\n",
       "PREM_TYP_DESC_BUS TERMINAL                      uint8\n",
       "PREM_TYP_DESC_CANDY STORE                       uint8\n",
       "PREM_TYP_DESC_CEMETERY                          uint8\n",
       "PREM_TYP_DESC_CHAIN STORE                       uint8\n",
       "PREM_TYP_DESC_CHECK CASHING BUSINESS            uint8\n",
       "PREM_TYP_DESC_CHURCH                            uint8\n",
       "PREM_TYP_DESC_CLOTHING/BOUTIQUE                 uint8\n",
       "PREM_TYP_DESC_COMMERCIAL BUILDING               uint8\n",
       "PREM_TYP_DESC_CONSTRUCTION SITE                 uint8\n",
       "PREM_TYP_DESC_DEPARTMENT STORE                  uint8\n",
       "PREM_TYP_DESC_DOCTOR/DENTIST OFFICE             uint8\n",
       "PREM_TYP_DESC_DRUG STORE                        uint8\n",
       "PREM_TYP_DESC_DRY CLEANER/LAUNDRY               uint8\n",
       "PREM_TYP_DESC_FACTORY/WAREHOUSE                 uint8\n",
       "PREM_TYP_DESC_FAST FOOD                         uint8\n",
       "PREM_TYP_DESC_FERRY/FERRY TERMINAL              uint8\n",
       "PREM_TYP_DESC_FOOD SUPERMARKET                  uint8\n",
       "PREM_TYP_DESC_GAS STATION                       uint8\n",
       "PREM_TYP_DESC_GROCERY/BODEGA                    uint8\n",
       "PREM_TYP_DESC_GYM/FITNESS FACILITY              uint8\n",
       "PREM_TYP_DESC_HIGHWAY/PARKWAY                   uint8\n",
       "PREM_TYP_DESC_HOSPITAL                          uint8\n",
       "PREM_TYP_DESC_HOTEL/MOTEL                       uint8\n",
       "PREM_TYP_DESC_JEWELRY                           uint8\n",
       "PREM_TYP_DESC_LIQUOR STORE                      uint8\n",
       "PREM_TYP_DESC_LOAN COMPANY                      uint8\n",
       "PREM_TYP_DESC_MARINA/PIER                       uint8\n",
       "PREM_TYP_DESC_MOSQUE                            uint8\n",
       "PREM_TYP_DESC_OPEN AREAS (OPEN LOTS)            uint8\n",
       "PREM_TYP_DESC_OTHER                             uint8\n",
       "PREM_TYP_DESC_OTHER HOUSE OF WORSHIP            uint8\n",
       "PREM_TYP_DESC_PARK/PLAYGROUND                   uint8\n",
       "PREM_TYP_DESC_PARKING LOT/GARAGE (PRIVATE)      uint8\n",
       "PREM_TYP_DESC_PARKING LOT/GARAGE (PUBLIC)       uint8\n",
       "PREM_TYP_DESC_PHOTO/COPY                        uint8\n",
       "PREM_TYP_DESC_PRIVATE/PAROCHIAL SCHOOL          uint8\n",
       "PREM_TYP_DESC_PUBLIC BUILDING                   uint8\n",
       "PREM_TYP_DESC_PUBLIC SCHOOL                     uint8\n",
       "PREM_TYP_DESC_RESIDENCE - APT. HOUSE            uint8\n",
       "PREM_TYP_DESC_RESIDENCE - PUBLIC HOUSING        uint8\n",
       "PREM_TYP_DESC_RESIDENCE-HOUSE                   uint8\n",
       "PREM_TYP_DESC_RESTAURANT/DINER                  uint8\n",
       "PREM_TYP_DESC_SHOE                              uint8\n",
       "PREM_TYP_DESC_SMALL MERCHANT                    uint8\n",
       "PREM_TYP_DESC_SOCIAL CLUB/POLICY                uint8\n",
       "PREM_TYP_DESC_STORAGE FACILITY                  uint8\n",
       "PREM_TYP_DESC_STORE UNCLASSIFIED                uint8\n",
       "PREM_TYP_DESC_STREET                            uint8\n",
       "PREM_TYP_DESC_SYNAGOGUE                         uint8\n",
       "PREM_TYP_DESC_TAXI (LIVERY LICENSED)            uint8\n",
       "PREM_TYP_DESC_TAXI (YELLOW LICENSED)            uint8\n",
       "PREM_TYP_DESC_TAXI/LIVERY (UNLICENSED)          uint8\n",
       "PREM_TYP_DESC_TELECOMM. STORE                   uint8\n",
       "PREM_TYP_DESC_TRAMWAY                           uint8\n",
       "PREM_TYP_DESC_TRANSIT - NYC SUBWAY              uint8\n",
       "PREM_TYP_DESC_TRANSIT FACILITY (OTHER)          uint8\n",
       "PREM_TYP_DESC_TUNNEL                            uint8\n",
       "PREM_TYP_DESC_VARIETY STORE                     uint8\n",
       "PREM_TYP_DESC_VIDEO STORE                       uint8\n",
       "Day_Name_Friday                                 uint8\n",
       "Day_Name_Monday                                 uint8\n",
       "Day_Name_Saturday                               uint8\n",
       "Day_Name_Sunday                                 uint8\n",
       "Day_Name_Thursday                               uint8\n",
       "Day_Name_Tuesday                                uint8\n",
       "Day_Name_Wednesday                              uint8\n",
       "Month_April                                     uint8\n",
       "Month_August                                    uint8\n",
       "Month_December                                  uint8\n",
       "Month_February                                  uint8\n",
       "Month_January                                   uint8\n",
       "Month_July                                      uint8\n",
       "Month_June                                      uint8\n",
       "Month_March                                     uint8\n",
       "Month_May                                       uint8\n",
       "Month_November                                  uint8\n",
       "Month_October                                   uint8\n",
       "Month_September                                 uint8\n",
       "Duration_lbl_Long                               uint8\n",
       "Duration_lbl_Medium                             uint8\n",
       "Duration_lbl_Short                              uint8\n",
       "Season_Fall                                     uint8\n",
       "Season_Spring                                   uint8\n",
       "Season_Summer                                   uint8\n",
       "Season_Winter                                   uint8\n",
       "Daytime_Day                                     uint8\n",
       "Daytime_Early Morning                           uint8\n",
       "Daytime_Evening                                 uint8\n",
       "Daytime_Late Night                              uint8\n",
       "Daytime_Morning                                 uint8\n",
       "Daytime_Night                                   uint8\n",
       "dtype: object"
      ]
     },
     "execution_count": 12,
     "metadata": {},
     "output_type": "execute_result"
    }
   ],
   "source": [
    "#confirming what was changed\n",
    "pd.set_option('display.max_rows', 300)\n",
    "crime.dtypes"
   ]
  },
  {
   "cell_type": "markdown",
   "metadata": {},
   "source": [
    "### Balancing the Dataset"
   ]
  },
  {
   "cell_type": "markdown",
   "metadata": {},
   "source": [
    "As noted previously, the dataset was not balanced.  Based on iterative testing, we determined that we would balance the data before fitting to optimize the results."
   ]
  },
  {
   "cell_type": "code",
   "execution_count": 13,
   "metadata": {},
   "outputs": [],
   "source": [
    "from sklearn.model_selection import ShuffleSplit\n",
    "\n",
    "# we want to predict the X and y data as follows:\n",
    "if 'y' in crime:\n",
    "    y = crime['y'].values # get the labels we want\n",
    "    del crime['y'] # get rid of the class label\n",
    "    X = crime.values # use everything else to predict!"
   ]
  },
  {
   "cell_type": "code",
   "execution_count": 14,
   "metadata": {},
   "outputs": [],
   "source": [
    "from imblearn.over_sampling import SMOTE\n",
    "#transform (balance) the dataset\n",
    "oversample = SMOTE()\n",
    "X, y = oversample.fit_resample(X,y)"
   ]
  },
  {
   "cell_type": "markdown",
   "metadata": {},
   "source": [
    "### Parameters"
   ]
  },
  {
   "cell_type": "markdown",
   "metadata": {},
   "source": [
    "### Logistic Regression Model: Iteration 1"
   ]
  },
  {
   "cell_type": "code",
   "execution_count": 15,
   "metadata": {},
   "outputs": [
    {
     "name": "stdout",
     "output_type": "stream",
     "text": [
      "ShuffleSplit(n_splits=3, random_state=None, test_size=0.2, train_size=None)\n"
     ]
    }
   ],
   "source": [
    "#Creating the object to do 3 fold cross validation.  We have defined an 80/20 split on the data as well\n",
    "num_cv_iterations = 3\n",
    "num_instances = len(y)\n",
    "cv_object = ShuffleSplit(n_splits=num_cv_iterations,\n",
    "                         test_size  = 0.2)\n",
    "                         \n",
    "print(cv_object)"
   ]
  },
  {
   "cell_type": "code",
   "execution_count": 16,
   "metadata": {},
   "outputs": [],
   "source": [
    "# run logistic regression and vary some parameters\n",
    "from sklearn.linear_model import LogisticRegression\n",
    "from sklearn import metrics as mt\n",
    "\n",
    "# Creating the Logistic Regression Object\n",
    "lr_clf = LogisticRegression(penalty='l2', C=1.0, class_weight=None, solver='liblinear' ) # get object"
   ]
  },
  {
   "cell_type": "code",
   "execution_count": 17,
   "metadata": {},
   "outputs": [],
   "source": [
    "iter_num=0"
   ]
  },
  {
   "cell_type": "code",
   "execution_count": 18,
   "metadata": {},
   "outputs": [
    {
     "name": "stdout",
     "output_type": "stream",
     "text": [
      "====Iteration 0  ====\n",
      "accuracy 0.7186075793449848\n",
      "confusion matrix\n",
      " [[45986 27172]\n",
      " [13949 59027]]\n",
      "====Iteration 1  ====\n",
      "accuracy 0.7193466270683072\n",
      "confusion matrix\n",
      " [[46221 27127]\n",
      " [13886 58900]]\n",
      "====Iteration 2  ====\n",
      "accuracy 0.7190729056892988\n",
      "confusion matrix\n",
      " [[45952 26887]\n",
      " [14166 59129]]\n"
     ]
    }
   ],
   "source": [
    "# the indices are the rows used for training and testing in each iteration\n",
    "for train_indices, test_indices in cv_object.split(X,y): \n",
    "\n",
    "    X_train = X[train_indices]\n",
    "    y_train = y[train_indices]\n",
    "    \n",
    "    X_test = X[test_indices]\n",
    "    y_test = y[test_indices]\n",
    "    \n",
    "    # train the reusable logistic regression model on the training data\n",
    "    lr_clf.fit(X_train,y_train)  # train object\n",
    "    y_hat = lr_clf.predict(X_test) # get test set precitions\n",
    "\n",
    "    # now let's get the accuracy and confusion matrix for this iterations of training/testing\n",
    "    acc = mt.accuracy_score(y_test,y_hat)\n",
    "    conf = mt.confusion_matrix(y_test,y_hat)\n",
    "    print(\"====Iteration\",iter_num,\" ====\")\n",
    "    print(\"accuracy\", acc )\n",
    "    print(\"confusion matrix\\n\",conf)\n",
    "    iter_num+=1"
   ]
  },
  {
   "cell_type": "code",
   "execution_count": 19,
   "metadata": {},
   "outputs": [
    {
     "name": "stdout",
     "output_type": "stream",
     "text": [
      "[0.72238493 0.72086578 0.72009252]\n"
     ]
    }
   ],
   "source": [
    "#printing just accuracies\n",
    "from sklearn.model_selection import cross_val_score\n",
    "accuracies = cross_val_score(lr_clf, X, y=y, cv=cv_object) # this also can help with parallelism\n",
    "print(accuracies)"
   ]
  },
  {
   "cell_type": "code",
   "execution_count": 20,
   "metadata": {},
   "outputs": [
    {
     "data": {
      "application/vnd.jupyter.widget-view+json": {
       "model_id": "702dc44367d94e488b5ffa26461cc8fb",
       "version_major": 2,
       "version_minor": 0
      },
      "text/plain": [
       "interactive(children=(FloatSlider(value=2.451, description='cost', max=5.0, min=0.001, step=0.05), Output()), …"
      ]
     },
     "metadata": {},
     "output_type": "display_data"
    },
    {
     "data": {
      "text/plain": [
       "<function __main__.lr_explor(cost)>"
      ]
     },
     "execution_count": 20,
     "metadata": {},
     "output_type": "execute_result"
    }
   ],
   "source": [
    "# here we can change some of the parameters interactively\n",
    "from ipywidgets import widgets as wd\n",
    "\n",
    "def lr_explor(cost):\n",
    "    lr_clf = LogisticRegression(penalty='l2', C=cost, class_weight=None,solver='liblinear') # get object\n",
    "    accuracies = cross_val_score(lr_clf,X,y=y,cv=cv_object) # this also can help with parallelism\n",
    "    print(accuracies)\n",
    "\n",
    "wd.interact(lr_explor,cost=(0.001,5.0,0.05),__manual=True)"
   ]
  },
  {
   "cell_type": "code",
   "execution_count": 21,
   "metadata": {},
   "outputs": [
    {
     "name": "stdout",
     "output_type": "stream",
     "text": [
      "Duration has weight of -0.35917563225859384\n",
      "Duration_to_PD has weight of -0.00017360665587026183\n",
      "Day has weight of 0.00028685259109663\n",
      "Year has weight of 0.0011265934118900572\n",
      "GeoCell has weight of 0.04740902219803416\n",
      "GeoCell_X has weight of -0.035805924023633987\n",
      "GeoCell_Y has weight of -0.4591963435146753\n",
      "JURIS_DESC_AMTRACK has weight of 0.2642909971705286\n",
      "JURIS_DESC_DEPT OF CORRECTIONS has weight of -0.06480897515383675\n",
      "JURIS_DESC_HEALTH & HOSP CORP has weight of 0.6804854541452097\n",
      "JURIS_DESC_LONG ISLAND RAILRD has weight of -0.2910599785249865\n",
      "JURIS_DESC_METRO NORTH has weight of 0.62158229260959\n",
      "JURIS_DESC_N.Y. HOUSING POLICE has weight of 0.10309193801316034\n",
      "JURIS_DESC_N.Y. POLICE DEPT has weight of 0.208275065056534\n",
      "JURIS_DESC_N.Y. STATE PARKS has weight of -0.10021400154449037\n",
      "JURIS_DESC_N.Y. STATE POLICE has weight of -0.3030951112649326\n",
      "JURIS_DESC_N.Y. TRANSIT POLICE has weight of -0.787094215566247\n",
      "JURIS_DESC_NEW YORK CITY SHERIFF OFFICE has weight of 0.3129557675596584\n",
      "JURIS_DESC_NYC PARKS has weight of 0.22952664819206342\n",
      "JURIS_DESC_NYS DEPT TAX AND FINANCE has weight of -0.6188618402010436\n",
      "JURIS_DESC_OTHER has weight of -0.37421145351300444\n",
      "JURIS_DESC_POLICE DEPT NYC has weight of 0.14358462773988806\n",
      "JURIS_DESC_PORT AUTHORITY has weight of 0.2774058036039387\n",
      "JURIS_DESC_STATN IS RAPID TRANS has weight of -0.356550638049646\n",
      "JURIS_DESC_TRI-BORO BRDG TUNNL has weight of -0.9068787075601642\n",
      "JURIS_DESC_U.S. PARK POLICE has weight of 0.49405849196781737\n",
      "BORO_NM_BRONX has weight of -0.07640167897131517\n",
      "BORO_NM_BROOKLYN has weight of -0.1157310657207862\n",
      "BORO_NM_MANHATTAN has weight of -0.34422089399203915\n",
      "BORO_NM_QUEENS has weight of -0.07068952209127906\n",
      "BORO_NM_STATEN ISLAND has weight of 0.1395253235051037\n",
      "LOC_OF_OCCUR_DESC_FRONT OF has weight of 0.3408730064430163\n",
      "LOC_OF_OCCUR_DESC_INSIDE has weight of 0.5642682068585394\n",
      "LOC_OF_OCCUR_DESC_OPPOSITE OF has weight of -0.6595059401988315\n",
      "LOC_OF_OCCUR_DESC_REAR OF has weight of -0.7131531091231027\n",
      "ADDR_PCT_CD_1.0 has weight of -0.05726804636754604\n",
      "ADDR_PCT_CD_5.0 has weight of 0.03695474747515572\n",
      "ADDR_PCT_CD_6.0 has weight of -0.24774756645087073\n",
      "ADDR_PCT_CD_7.0 has weight of 0.15063626269153332\n",
      "ADDR_PCT_CD_9.0 has weight of -0.2004880148192567\n",
      "ADDR_PCT_CD_10.0 has weight of -0.23311110907008256\n",
      "ADDR_PCT_CD_13.0 has weight of -0.1270940776445456\n",
      "ADDR_PCT_CD_14.0 has weight of -0.10729992696450154\n",
      "ADDR_PCT_CD_17.0 has weight of -0.09325416430488534\n",
      "ADDR_PCT_CD_18.0 has weight of 0.10465697158914926\n",
      "ADDR_PCT_CD_19.0 has weight of -0.4574270781916633\n",
      "ADDR_PCT_CD_20.0 has weight of -0.04278718581925096\n",
      "ADDR_PCT_CD_22.0 has weight of -0.2863063069356741\n",
      "ADDR_PCT_CD_23.0 has weight of 0.09783423260644475\n",
      "ADDR_PCT_CD_24.0 has weight of 0.06525287815385819\n",
      "ADDR_PCT_CD_25.0 has weight of 0.013187711910482553\n",
      "ADDR_PCT_CD_26.0 has weight of -0.10678861226384628\n",
      "ADDR_PCT_CD_28.0 has weight of 0.13886312116157554\n",
      "ADDR_PCT_CD_30.0 has weight of 0.34220986675119264\n",
      "ADDR_PCT_CD_32.0 has weight of 0.22233514170014332\n",
      "ADDR_PCT_CD_33.0 has weight of 0.17800003163423161\n",
      "ADDR_PCT_CD_34.0 has weight of 0.26542022934918\n",
      "ADDR_PCT_CD_40.0 has weight of -0.08354968903772961\n",
      "ADDR_PCT_CD_41.0 has weight of 0.11479022691290068\n",
      "ADDR_PCT_CD_42.0 has weight of 0.0565437038563474\n",
      "ADDR_PCT_CD_43.0 has weight of -0.059424404448789596\n",
      "ADDR_PCT_CD_44.0 has weight of 0.08277978224356962\n",
      "ADDR_PCT_CD_45.0 has weight of 0.10318604521030729\n",
      "ADDR_PCT_CD_46.0 has weight of 0.1100437290133148\n",
      "ADDR_PCT_CD_47.0 has weight of 0.10655631671850661\n",
      "ADDR_PCT_CD_48.0 has weight of -0.030195392747162493\n",
      "ADDR_PCT_CD_49.0 has weight of -0.09157636066923953\n",
      "ADDR_PCT_CD_50.0 has weight of -0.17952419079580795\n",
      "ADDR_PCT_CD_52.0 has weight of -0.20603144524305692\n",
      "ADDR_PCT_CD_60.0 has weight of 0.08903247429710894\n",
      "ADDR_PCT_CD_61.0 has weight of -0.11668486079550335\n",
      "ADDR_PCT_CD_62.0 has weight of 0.08375361180710518\n",
      "ADDR_PCT_CD_63.0 has weight of 0.01649247908212361\n",
      "ADDR_PCT_CD_66.0 has weight of -0.18251748725123407\n",
      "ADDR_PCT_CD_67.0 has weight of 0.3513929355474222\n",
      "ADDR_PCT_CD_68.0 has weight of -0.04122997025732616\n",
      "ADDR_PCT_CD_69.0 has weight of 0.306880493200204\n",
      "ADDR_PCT_CD_70.0 has weight of -0.01728878557541379\n",
      "ADDR_PCT_CD_71.0 has weight of -0.024633860576404765\n",
      "ADDR_PCT_CD_72.0 has weight of 0.11827424645211197\n",
      "ADDR_PCT_CD_73.0 has weight of 0.21459531416256641\n",
      "ADDR_PCT_CD_75.0 has weight of 0.16644459966700154\n",
      "ADDR_PCT_CD_76.0 has weight of -0.10629642804627208\n",
      "ADDR_PCT_CD_77.0 has weight of 0.08015133875363835\n",
      "ADDR_PCT_CD_78.0 has weight of -0.2905212862048464\n",
      "ADDR_PCT_CD_79.0 has weight of 0.1625630119722102\n",
      "ADDR_PCT_CD_81.0 has weight of 0.07648302386494404\n",
      "ADDR_PCT_CD_83.0 has weight of -0.11717556576898029\n",
      "ADDR_PCT_CD_84.0 has weight of -0.03591620995511956\n",
      "ADDR_PCT_CD_88.0 has weight of -0.06930080356105803\n",
      "ADDR_PCT_CD_90.0 has weight of -0.39148357726169386\n",
      "ADDR_PCT_CD_94.0 has weight of -0.33917882268291316\n",
      "ADDR_PCT_CD_100.0 has weight of 0.041952727020985306\n",
      "ADDR_PCT_CD_101.0 has weight of 0.13650193047805442\n",
      "ADDR_PCT_CD_102.0 has weight of 0.1370907175880352\n",
      "ADDR_PCT_CD_103.0 has weight of 0.20204893143968486\n",
      "ADDR_PCT_CD_104.0 has weight of 0.07368122380853209\n",
      "ADDR_PCT_CD_105.0 has weight of 0.1018066690168839\n",
      "ADDR_PCT_CD_106.0 has weight of -0.13363664241857134\n",
      "ADDR_PCT_CD_107.0 has weight of -0.15083595279775822\n",
      "ADDR_PCT_CD_108.0 has weight of 0.10894999487964076\n",
      "ADDR_PCT_CD_109.0 has weight of -0.020728897637798362\n",
      "ADDR_PCT_CD_110.0 has weight of -0.04268367259331013\n",
      "ADDR_PCT_CD_111.0 has weight of -0.34818104805266537\n",
      "ADDR_PCT_CD_112.0 has weight of -0.3388691071108039\n",
      "ADDR_PCT_CD_113.0 has weight of 0.0049257340190266945\n",
      "ADDR_PCT_CD_114.0 has weight of 0.07132311910221807\n",
      "ADDR_PCT_CD_115.0 has weight of 0.03639781495768478\n",
      "ADDR_PCT_CD_120.0 has weight of 0.09093635098067182\n",
      "ADDR_PCT_CD_121.0 has weight of -0.001400762077817554\n",
      "ADDR_PCT_CD_122.0 has weight of -0.031026976517904658\n",
      "ADDR_PCT_CD_123.0 has weight of 0.08101671112921813\n",
      "PREM_TYP_DESC_ABANDONED BUILDING has weight of -1.0015061677793635\n",
      "PREM_TYP_DESC_AIRPORT TERMINAL has weight of 0.5003122810637516\n",
      "PREM_TYP_DESC_ATM has weight of -2.3222370642392125\n",
      "PREM_TYP_DESC_BANK has weight of -0.8860028309284278\n",
      "PREM_TYP_DESC_BAR/NIGHT CLUB has weight of 0.7946247873746467\n",
      "PREM_TYP_DESC_BEAUTY & NAIL SALON has weight of 0.48842600849793827\n",
      "PREM_TYP_DESC_BOOK/CARD has weight of -0.736013468620343\n",
      "PREM_TYP_DESC_BRIDGE has weight of -1.0332142948530358\n",
      "PREM_TYP_DESC_BUS (NYC TRANSIT) has weight of 1.4320633883882297\n",
      "PREM_TYP_DESC_BUS (OTHER) has weight of 1.2054316251265704\n",
      "PREM_TYP_DESC_BUS STOP has weight of 0.5337973528028965\n",
      "PREM_TYP_DESC_BUS TERMINAL has weight of 0.4415486461579068\n",
      "PREM_TYP_DESC_CANDY STORE has weight of 0.416103257359832\n",
      "PREM_TYP_DESC_CEMETERY has weight of 0.12331993939217827\n",
      "PREM_TYP_DESC_CHAIN STORE has weight of -1.3372187806476787\n",
      "PREM_TYP_DESC_CHECK CASHING BUSINESS has weight of -0.8078221164494086\n",
      "PREM_TYP_DESC_CHURCH has weight of 0.18915989834416053\n",
      "PREM_TYP_DESC_CLOTHING/BOUTIQUE has weight of -1.6375350118011212\n",
      "PREM_TYP_DESC_COMMERCIAL BUILDING has weight of 0.13976393345203122\n",
      "PREM_TYP_DESC_CONSTRUCTION SITE has weight of -0.22720109627348967\n",
      "PREM_TYP_DESC_DEPARTMENT STORE has weight of -2.0810108465769934\n",
      "PREM_TYP_DESC_DOCTOR/DENTIST OFFICE has weight of 0.6124583032887335\n",
      "PREM_TYP_DESC_DRUG STORE has weight of -1.6960273248063757\n",
      "PREM_TYP_DESC_DRY CLEANER/LAUNDRY has weight of 0.06863411518582678\n",
      "PREM_TYP_DESC_FACTORY/WAREHOUSE has weight of 0.40644869193084726\n",
      "PREM_TYP_DESC_FAST FOOD has weight of 0.3420831642922922\n",
      "PREM_TYP_DESC_FERRY/FERRY TERMINAL has weight of 0.8655821221562481\n",
      "PREM_TYP_DESC_FOOD SUPERMARKET has weight of -1.0559517330659962\n",
      "PREM_TYP_DESC_GAS STATION has weight of -0.11734034512727025\n",
      "PREM_TYP_DESC_GROCERY/BODEGA has weight of 0.3320515117626522\n",
      "PREM_TYP_DESC_GYM/FITNESS FACILITY has weight of -0.9254965844277346\n",
      "PREM_TYP_DESC_HIGHWAY/PARKWAY has weight of -0.295988393522847\n",
      "PREM_TYP_DESC_HOSPITAL has weight of 1.263435839593767\n",
      "PREM_TYP_DESC_HOTEL/MOTEL has weight of 0.7045428049381355\n",
      "PREM_TYP_DESC_JEWELRY has weight of -0.7505759544048478\n",
      "PREM_TYP_DESC_LIQUOR STORE has weight of -0.6196061987801339\n",
      "PREM_TYP_DESC_LOAN COMPANY has weight of -0.4499056514369642\n",
      "PREM_TYP_DESC_MARINA/PIER has weight of -0.2735296421967651\n",
      "PREM_TYP_DESC_MOSQUE has weight of 0.35420850943263066\n",
      "PREM_TYP_DESC_OPEN AREAS (OPEN LOTS) has weight of 0.24082178220279418\n",
      "PREM_TYP_DESC_OTHER has weight of 0.8992159619760441\n",
      "PREM_TYP_DESC_OTHER HOUSE OF WORSHIP has weight of 0.7097761271545124\n",
      "PREM_TYP_DESC_PARK/PLAYGROUND has weight of 0.6860781733428472\n",
      "PREM_TYP_DESC_PARKING LOT/GARAGE (PRIVATE) has weight of -0.22034173858896494\n",
      "PREM_TYP_DESC_PARKING LOT/GARAGE (PUBLIC) has weight of -0.12180837817365163\n",
      "PREM_TYP_DESC_PHOTO/COPY has weight of -0.5014483567689355\n",
      "PREM_TYP_DESC_PRIVATE/PAROCHIAL SCHOOL has weight of 0.859169724876838\n",
      "PREM_TYP_DESC_PUBLIC BUILDING has weight of 0.6633417862406792\n",
      "PREM_TYP_DESC_PUBLIC SCHOOL has weight of 1.8220395865941688\n",
      "PREM_TYP_DESC_RESIDENCE - APT. HOUSE has weight of 1.5428153873881925\n",
      "PREM_TYP_DESC_RESIDENCE - PUBLIC HOUSING has weight of 1.3090246943075292\n",
      "PREM_TYP_DESC_RESIDENCE-HOUSE has weight of 1.289560098411253\n",
      "PREM_TYP_DESC_RESTAURANT/DINER has weight of 0.24466562364393996\n",
      "PREM_TYP_DESC_SHOE has weight of -0.9534694592188514\n",
      "PREM_TYP_DESC_SMALL MERCHANT has weight of -0.21584889123928566\n",
      "PREM_TYP_DESC_SOCIAL CLUB/POLICY has weight of 0.9379153865456781\n",
      "PREM_TYP_DESC_STORAGE FACILITY has weight of -0.10758463820346964\n",
      "PREM_TYP_DESC_STORE UNCLASSIFIED has weight of -0.29395309860527924\n",
      "PREM_TYP_DESC_STREET has weight of 0.7264328770368748\n",
      "PREM_TYP_DESC_SYNAGOGUE has weight of 0.5270569749958474\n",
      "PREM_TYP_DESC_TAXI (LIVERY LICENSED) has weight of -0.27557540349317944\n",
      "PREM_TYP_DESC_TAXI (YELLOW LICENSED) has weight of -0.594155110767317\n",
      "PREM_TYP_DESC_TAXI/LIVERY (UNLICENSED) has weight of -0.599059655193009\n",
      "PREM_TYP_DESC_TELECOMM. STORE has weight of -0.8534691626021964\n",
      "PREM_TYP_DESC_TRAMWAY has weight of -0.30278876426454016\n",
      "PREM_TYP_DESC_TRANSIT - NYC SUBWAY has weight of -0.2951110850289836\n",
      "PREM_TYP_DESC_TRANSIT FACILITY (OTHER) has weight of -0.049385556751904675\n",
      "PREM_TYP_DESC_TUNNEL has weight of 0.35307640799160567\n",
      "PREM_TYP_DESC_VARIETY STORE has weight of -0.532763122684635\n",
      "PREM_TYP_DESC_VIDEO STORE has weight of -0.3215586823569629\n",
      "Day_Name_Friday has weight of -0.10912461070833916\n",
      "Day_Name_Monday has weight of -0.07537370425624423\n",
      "Day_Name_Saturday has weight of -0.0045652779880281154\n",
      "Day_Name_Sunday has weight of 0.11196325529568485\n",
      "Day_Name_Thursday has weight of -0.1170672034450525\n",
      "Day_Name_Tuesday has weight of -0.14395473989793192\n",
      "Day_Name_Wednesday has weight of -0.12939555574909456\n",
      "Month_April has weight of -0.06947393903721134\n",
      "Month_August has weight of -0.037856279045195805\n",
      "Month_December has weight of -0.04530210231578097\n",
      "Month_February has weight of -0.05325912662230705\n",
      "Month_January has weight of -0.08124161347430503\n",
      "Month_July has weight of 0.01285625010434713\n",
      "Month_June has weight of -0.018464558303738464\n",
      "Month_March has weight of -0.09954083263376438\n",
      "Month_May has weight of 0.05356607837484384\n",
      "Month_November has weight of -0.08741965874749429\n",
      "Month_October has weight of -0.04385527545349445\n",
      "Month_September has weight of 0.002473220501797954\n",
      "Duration_lbl_Long has weight of 2.4007489041764183\n",
      "Duration_lbl_Medium has weight of -0.9676477477851426\n",
      "Duration_lbl_Short has weight of -1.9006189910203393\n",
      "Season_Fall has weight of -0.12880171389838702\n",
      "Season_Spring has weight of -0.11544869342019846\n",
      "Season_Summer has weight of -0.043464587330779327\n",
      "Season_Winter has weight of -0.17980284250889564\n",
      "Daytime_Day has weight of -0.1896300382671444\n",
      "Daytime_Early Morning has weight of 0.017130235550333682\n",
      "Daytime_Evening has weight of -0.10565165382195006\n",
      "Daytime_Late Night has weight of -0.0365163030248763\n",
      "Daytime_Morning has weight of -0.1325262257825487\n",
      "Daytime_Night has weight of -0.02032385165039957\n"
     ]
    }
   ],
   "source": [
    "# iterate over the coefficients\n",
    "weights = lr_clf.coef_.T # take transpose to make a column vector\n",
    "variable_names = crime.columns\n",
    "for coef, name in zip(weights,variable_names):\n",
    "    print(name, 'has weight of', coef[0])\n",
    "# by running the data model this way, we have not yet scaled the data - that step is next"
   ]
  },
  {
   "cell_type": "code",
   "execution_count": 22,
   "metadata": {},
   "outputs": [
    {
     "name": "stdout",
     "output_type": "stream",
     "text": [
      "accuracy: 0.7193192549304064\n",
      "[[45971 26868]\n",
      " [14149 59146]]\n"
     ]
    }
   ],
   "source": [
    "from sklearn.preprocessing import StandardScaler\n",
    "\n",
    "# we want to normalize the features based upon the mean and standard deviation of each column. \n",
    "# However, we do not want to accidentally use the testing data to find out the mean and std (this would be snooping)\n",
    "# to Make things easier, let's start by just using whatever was last stored in the variables:\n",
    "##    X_train , y_train , X_test, y_test (they were set in a for loop above)\n",
    "\n",
    "# scale attributes by the training set\n",
    "scl_obj = StandardScaler()\n",
    "scl_obj.fit(X_train) # find scalings for each column that make this zero mean and unit std\n",
    "# the line of code above only looks at training data to get mean and std and we can use it \n",
    "# to transform new feature data\n",
    "\n",
    "X_train_scaled = scl_obj.transform(X_train) # apply to training\n",
    "X_test_scaled = scl_obj.transform(X_test) # apply those means and std to the test set (without snooping at the test set values)\n",
    "\n",
    "# train the model just as before\n",
    "lr_clf = LogisticRegression(penalty='l2', C=0.05, solver='liblinear') # get object, the 'C' value is less (can you guess why??)\n",
    "lr_clf.fit(X_train_scaled,y_train)  # train object\n",
    "\n",
    "y_hat = lr_clf.predict(X_test_scaled) # get test set precitions\n",
    "\n",
    "acc = mt.accuracy_score(y_test,y_hat)\n",
    "conf = mt.confusion_matrix(y_test,y_hat)\n",
    "print('accuracy:', acc )\n",
    "print(conf )"
   ]
  },
  {
   "cell_type": "code",
   "execution_count": 23,
   "metadata": {},
   "outputs": [
    {
     "name": "stdout",
     "output_type": "stream",
     "text": [
      "Duration has weight of -1.7195881367229278\n",
      "PREM_TYP_DESC_DEPARTMENT STORE has weight of -0.41290479142796704\n",
      "Duration_lbl_Short has weight of -0.3825597028039069\n",
      "PREM_TYP_DESC_CHAIN STORE has weight of -0.3253698647905225\n",
      "PREM_TYP_DESC_DRUG STORE has weight of -0.23705705531448132\n",
      "PREM_TYP_DESC_CLOTHING/BOUTIQUE has weight of -0.23526101590618234\n",
      "LOC_OF_OCCUR_DESC_OPPOSITE OF has weight of -0.1639934590946728\n",
      "LOC_OF_OCCUR_DESC_REAR OF has weight of -0.15784600859016729\n",
      "PREM_TYP_DESC_FOOD SUPERMARKET has weight of -0.1445907211380509\n",
      "PREM_TYP_DESC_GYM/FITNESS FACILITY has weight of -0.10583807454703416\n",
      "PREM_TYP_DESC_COMMERCIAL BUILDING has weight of -0.10405395327355062\n",
      "PREM_TYP_DESC_BANK has weight of -0.10294593824787816\n",
      "PREM_TYP_DESC_ATM has weight of -0.09352408770965889\n",
      "PREM_TYP_DESC_PARKING LOT/GARAGE (PRIVATE) has weight of -0.06954172026656716\n",
      "PREM_TYP_DESC_TELECOMM. STORE has weight of -0.06904602361583512\n",
      "PREM_TYP_DESC_STORE UNCLASSIFIED has weight of -0.06854145068278839\n",
      "PREM_TYP_DESC_RESTAURANT/DINER has weight of -0.06420880880106584\n",
      "PREM_TYP_DESC_SMALL MERCHANT has weight of -0.06379496425731611\n",
      "PREM_TYP_DESC_PARKING LOT/GARAGE (PUBLIC) has weight of -0.061357629886008694\n",
      "Duration_lbl_Medium has weight of -0.0602856547068161\n",
      "ADDR_PCT_CD_19.0 has weight of -0.05953180487640394\n",
      "PREM_TYP_DESC_GROCERY/BODEGA has weight of -0.05707601173265993\n",
      "PREM_TYP_DESC_CHECK CASHING BUSINESS has weight of -0.05594808558999367\n",
      "PREM_TYP_DESC_VARIETY STORE has weight of -0.05242733779241901\n",
      "BORO_NM_MANHATTAN has weight of -0.05226605423951418\n",
      "PREM_TYP_DESC_SHOE has weight of -0.048118954092939106\n",
      "ADDR_PCT_CD_90.0 has weight of -0.04785268728757504\n",
      "PREM_TYP_DESC_LIQUOR STORE has weight of -0.045088975013589584\n",
      "PREM_TYP_DESC_JEWELRY has weight of -0.04209500384778918\n",
      "PREM_TYP_DESC_GAS STATION has weight of -0.040555621858533626\n",
      "Daytime_Day has weight of -0.03990816701678083\n",
      "PREM_TYP_DESC_CONSTRUCTION SITE has weight of -0.039746712349926674\n",
      "PREM_TYP_DESC_ABANDONED BUILDING has weight of -0.0367158510388163\n",
      "PREM_TYP_DESC_DRY CLEANER/LAUNDRY has weight of -0.035639445272777175\n",
      "PREM_TYP_DESC_FAST FOOD has weight of -0.03546949446668141\n",
      "PREM_TYP_DESC_TAXI (YELLOW LICENSED) has weight of -0.034773941489649254\n",
      "ADDR_PCT_CD_6.0 has weight of -0.033134783497127514\n",
      "ADDR_PCT_CD_9.0 has weight of -0.0317201003146832\n",
      "ADDR_PCT_CD_94.0 has weight of -0.0314831050324205\n",
      "PREM_TYP_DESC_BRIDGE has weight of -0.029592907661874803\n",
      "ADDR_PCT_CD_10.0 has weight of -0.028849679624942955\n",
      "ADDR_PCT_CD_78.0 has weight of -0.028161888456340482\n",
      "ADDR_PCT_CD_112.0 has weight of -0.028146507681623512\n",
      "ADDR_PCT_CD_14.0 has weight of -0.0273083087937676\n",
      "PREM_TYP_DESC_BOOK/CARD has weight of -0.027121952641780273\n",
      "PREM_TYP_DESC_STORAGE FACILITY has weight of -0.02702145175410102\n",
      "ADDR_PCT_CD_111.0 has weight of -0.026394031607815647\n",
      "Day_Name_Tuesday has weight of -0.026180616622437713\n",
      "PREM_TYP_DESC_CHURCH has weight of -0.02511053207021675\n",
      "PREM_TYP_DESC_TAXI (LIVERY LICENSED) has weight of -0.025027816890100876\n",
      "JURIS_DESC_OTHER has weight of -0.024548597457002122\n",
      "ADDR_PCT_CD_52.0 has weight of -0.024284866666971532\n",
      "JURIS_DESC_NYS DEPT TAX AND FINANCE has weight of -0.02424375968125218\n",
      "PREM_TYP_DESC_STREET has weight of -0.02416739170966855\n",
      "ADDR_PCT_CD_13.0 has weight of -0.02415130963805249\n",
      "Day_Name_Wednesday has weight of -0.021706410523703507\n",
      "ADDR_PCT_CD_66.0 has weight of -0.020797339251303\n",
      "Month_January has weight of -0.017784894728007535\n",
      "PREM_TYP_DESC_VIDEO STORE has weight of -0.017543958852110637\n",
      "Season_Winter has weight of -0.01742742594295045\n",
      "Day_Name_Thursday has weight of -0.017285657894135265\n",
      "PREM_TYP_DESC_OPEN AREAS (OPEN LOTS) has weight of -0.017277502482690006\n",
      "PREM_TYP_DESC_BEAUTY & NAIL SALON has weight of -0.017221324651125695\n",
      "PREM_TYP_DESC_MARINA/PIER has weight of -0.017061877132088878\n",
      "Month_March has weight of -0.016829196111387997\n",
      "PREM_TYP_DESC_TRANSIT - NYC SUBWAY has weight of -0.01656815328569899\n",
      "JURIS_DESC_TRI-BORO BRDG TUNNL has weight of -0.016441587576534987\n",
      "ADDR_PCT_CD_1.0 has weight of -0.016273839240580894\n",
      "ADDR_PCT_CD_83.0 has weight of -0.016212315121892872\n",
      "PREM_TYP_DESC_TRANSIT FACILITY (OTHER) has weight of -0.015758033597654177\n",
      "Daytime_Morning has weight of -0.015565632331156504\n",
      "ADDR_PCT_CD_61.0 has weight of -0.015492385145910085\n",
      "PREM_TYP_DESC_PHOTO/COPY has weight of -0.015334937269386758\n",
      "PREM_TYP_DESC_TRAMWAY has weight of -0.015087393884838868\n",
      "Day_Name_Friday has weight of -0.014812867693618236\n",
      "ADDR_PCT_CD_17.0 has weight of -0.014707953161413262\n",
      "ADDR_PCT_CD_50.0 has weight of -0.014681720757639996\n",
      "JURIS_DESC_N.Y. HOUSING POLICE has weight of -0.014649365644347318\n",
      "JURIS_DESC_STATN IS RAPID TRANS has weight of -0.014552233377508992\n",
      "ADDR_PCT_CD_26.0 has weight of -0.013793055915467676\n",
      "PREM_TYP_DESC_CANDY STORE has weight of -0.013449666640950755\n",
      "ADDR_PCT_CD_107.0 has weight of -0.013393542597797894\n",
      "ADDR_PCT_CD_106.0 has weight of -0.013306542468278774\n",
      "ADDR_PCT_CD_20.0 has weight of -0.012577600230317999\n",
      "PREM_TYP_DESC_HIGHWAY/PARKWAY has weight of -0.01240107916567888\n",
      "PREM_TYP_DESC_TAXI/LIVERY (UNLICENSED) has weight of -0.01232799356951076\n",
      "PREM_TYP_DESC_FACTORY/WAREHOUSE has weight of -0.012014090044762874\n",
      "JURIS_DESC_DEPT OF CORRECTIONS has weight of -0.011779123973005307\n",
      "JURIS_DESC_N.Y. STATE POLICE has weight of -0.011667173140258528\n",
      "ADDR_PCT_CD_25.0 has weight of -0.010370235925920537\n",
      "Month_February has weight of -0.010192494050954053\n",
      "PREM_TYP_DESC_BUS TERMINAL has weight of -0.009860970289779418\n",
      "ADDR_PCT_CD_76.0 has weight of -0.009755238315997047\n",
      "ADDR_PCT_CD_40.0 has weight of -0.009360073464259513\n",
      "PREM_TYP_DESC_DOCTOR/DENTIST OFFICE has weight of -0.009307964201920782\n",
      "PREM_TYP_DESC_LOAN COMPANY has weight of -0.00930368890184772\n",
      "Month_April has weight of -0.009145565025063496\n",
      "Month_November has weight of -0.009126594817346166\n",
      "PREM_TYP_DESC_PUBLIC BUILDING has weight of -0.00906601966985771\n",
      "Daytime_Evening has weight of -0.008282867320984794\n",
      "ADDR_PCT_CD_49.0 has weight of -0.008156899976963651\n",
      "ADDR_PCT_CD_88.0 has weight of -0.00813734707699717\n",
      "JURIS_DESC_N.Y. TRANSIT POLICE has weight of -0.007193178277859195\n",
      "PREM_TYP_DESC_TUNNEL has weight of -0.006694411827648698\n",
      "PREM_TYP_DESC_HOTEL/MOTEL has weight of -0.006086508851182735\n",
      "PREM_TYP_DESC_PARK/PLAYGROUND has weight of -0.005994644650833253\n",
      "ADDR_PCT_CD_68.0 has weight of -0.005867561090999525\n",
      "ADDR_PCT_CD_5.0 has weight of -0.005681872175965305\n",
      "ADDR_PCT_CD_84.0 has weight of -0.005636351087965982\n",
      "ADDR_PCT_CD_71.0 has weight of -0.005628832647390724\n",
      "ADDR_PCT_CD_43.0 has weight of -0.005472797068709762\n",
      "PREM_TYP_DESC_MOSQUE has weight of -0.0051305107741179985\n",
      "ADDR_PCT_CD_70.0 has weight of -0.005125895659544542\n",
      "PREM_TYP_DESC_SYNAGOGUE has weight of -0.004951796595536036\n",
      "ADDR_PCT_CD_110.0 has weight of -0.004515408454714766\n",
      "PREM_TYP_DESC_CEMETERY has weight of -0.004154340197195711\n",
      "PREM_TYP_DESC_BUS STOP has weight of -0.003971713779691928\n",
      "ADDR_PCT_CD_24.0 has weight of -0.0038216107099100457\n",
      "ADDR_PCT_CD_22.0 has weight of -0.0037699350780389285\n",
      "Season_Fall has weight of -0.003693139712080691\n",
      "Month_October has weight of -0.003677345117824816\n",
      "Day_Name_Monday has weight of -0.003009880961984898\n",
      "JURIS_DESC_LONG ISLAND RAILRD has weight of -0.002831292093950367\n",
      "Duration_to_PD has weight of -0.002275279400166232\n",
      "ADDR_PCT_CD_48.0 has weight of -0.002100332886935653\n",
      "ADDR_PCT_CD_109.0 has weight of -0.0020919854651970968\n",
      "Month_December has weight of -0.0015072239615645695\n",
      "JURIS_DESC_N.Y. STATE PARKS has weight of -0.0013752771019786055\n",
      "PREM_TYP_DESC_OTHER HOUSE OF WORSHIP has weight of -0.0010842418436688846\n",
      "ADDR_PCT_CD_23.0 has weight of -0.0009508329174302881\n",
      "ADDR_PCT_CD_63.0 has weight of -0.0006637297960308786\n",
      "Season_Spring has weight of -0.0004236392949926638\n",
      "PREM_TYP_DESC_AIRPORT TERMINAL has weight of 0.00027803865009910084\n",
      "ADDR_PCT_CD_18.0 has weight of 0.0004973568755891021\n",
      "JURIS_DESC_NYC PARKS has weight of 0.0008347917054859191\n",
      "JURIS_DESC_POLICE DEPT NYC has weight of 0.000894137451591606\n",
      "JURIS_DESC_NEW YORK CITY SHERIFF OFFICE has weight of 0.0009073933939805514\n",
      "PREM_TYP_DESC_BAR/NIGHT CLUB has weight of 0.0009421335709704309\n",
      "JURIS_DESC_AMTRACK has weight of 0.0010640853433726038\n",
      "ADDR_PCT_CD_113.0 has weight of 0.0011463149443665165\n",
      "PREM_TYP_DESC_FERRY/FERRY TERMINAL has weight of 0.002043881138024045\n",
      "PREM_TYP_DESC_PRIVATE/PAROCHIAL SCHOOL has weight of 0.002664361283954155\n",
      "Day has weight of 0.0027454038761287086\n",
      "LOC_OF_OCCUR_DESC_FRONT OF has weight of 0.0028769402081883083\n",
      "ADDR_PCT_CD_28.0 has weight of 0.0031127331343744403\n",
      "JURIS_DESC_U.S. PARK POLICE has weight of 0.003160311145399935\n",
      "PREM_TYP_DESC_SOCIAL CLUB/POLICY has weight of 0.003687736223798707\n",
      "ADDR_PCT_CD_100.0 has weight of 0.003981259342742757\n",
      "JURIS_DESC_METRO NORTH has weight of 0.0041978510345534415\n",
      "ADDR_PCT_CD_7.0 has weight of 0.004210008258030878\n",
      "Month_August has weight of 0.004858091561385684\n",
      "JURIS_DESC_PORT AUTHORITY has weight of 0.005002404170454683\n",
      "ADDR_PCT_CD_115.0 has weight of 0.005531935829262399\n",
      "ADDR_PCT_CD_33.0 has weight of 0.005867496215586308\n",
      "ADDR_PCT_CD_81.0 has weight of 0.006396384111985912\n",
      "ADDR_PCT_CD_62.0 has weight of 0.006832712851469851\n",
      "ADDR_PCT_CD_77.0 has weight of 0.007260111510452176\n",
      "BORO_NM_BRONX has weight of 0.007272467017863522\n",
      "PREM_TYP_DESC_BUS (OTHER) has weight of 0.007377997132638738\n",
      "ADDR_PCT_CD_122.0 has weight of 0.007533493300275306\n",
      "ADDR_PCT_CD_60.0 has weight of 0.00817149092331021\n",
      "Month_September has weight of 0.008198777967068922\n",
      "ADDR_PCT_CD_42.0 has weight of 0.008969005796417507\n",
      "ADDR_PCT_CD_72.0 has weight of 0.009901779465644873\n",
      "ADDR_PCT_CD_104.0 has weight of 0.009990158887324699\n",
      "Month_June has weight of 0.01010229346251863\n",
      "BORO_NM_BROOKLYN has weight of 0.010679516689015994\n",
      "ADDR_PCT_CD_108.0 has weight of 0.010942948051779578\n",
      "ADDR_PCT_CD_114.0 has weight of 0.011225262937917955\n",
      "ADDR_PCT_CD_44.0 has weight of 0.011995390239351542\n",
      "ADDR_PCT_CD_121.0 has weight of 0.012995983531609627\n",
      "ADDR_PCT_CD_32.0 has weight of 0.013133809559323027\n",
      "ADDR_PCT_CD_105.0 has weight of 0.01322085302826101\n",
      "ADDR_PCT_CD_45.0 has weight of 0.013545793220687895\n",
      "JURIS_DESC_HEALTH & HOSP CORP has weight of 0.014286454044171202\n",
      "ADDR_PCT_CD_47.0 has weight of 0.01507131988064443\n",
      "ADDR_PCT_CD_123.0 has weight of 0.015252246781930047\n",
      "PREM_TYP_DESC_BUS (NYC TRANSIT) has weight of 0.015416349313038341\n",
      "Daytime_Late Night has weight of 0.015742434626150395\n",
      "ADDR_PCT_CD_101.0 has weight of 0.01576416154622299\n",
      "GeoCell_X has weight of 0.015778766590847346\n",
      "BORO_NM_QUEENS has weight of 0.016007998639716633\n",
      "GeoCell_Y has weight of 0.016066475935629723\n",
      "ADDR_PCT_CD_34.0 has weight of 0.016160670958410783\n",
      "GeoCell has weight of 0.016800138001614222\n",
      "ADDR_PCT_CD_46.0 has weight of 0.016915399179132498\n",
      "PREM_TYP_DESC_OTHER has weight of 0.017359333300614174\n",
      "ADDR_PCT_CD_102.0 has weight of 0.01749336102283902\n",
      "ADDR_PCT_CD_41.0 has weight of 0.0178320830813042\n",
      "ADDR_PCT_CD_79.0 has weight of 0.01847500812025389\n",
      "Month_July has weight of 0.01881044876752082\n",
      "JURIS_DESC_N.Y. POLICE DEPT has weight of 0.020182611860970846\n",
      "Season_Summer has weight of 0.02145028094987777\n",
      "Day_Name_Saturday has weight of 0.021914437563117874\n",
      "ADDR_PCT_CD_30.0 has weight of 0.02318630442924281\n",
      "Month_May has weight of 0.024102711398836924\n",
      "ADDR_PCT_CD_75.0 has weight of 0.025657558403253813\n",
      "ADDR_PCT_CD_103.0 has weight of 0.026261130566815914\n",
      "Daytime_Night has weight of 0.02693286156779846\n",
      "ADDR_PCT_CD_73.0 has weight of 0.02722031043652002\n",
      "ADDR_PCT_CD_120.0 has weight of 0.02743806982340375\n",
      "Daytime_Early Morning has weight of 0.027902044333570665\n",
      "ADDR_PCT_CD_69.0 has weight of 0.029257069353612615\n",
      "BORO_NM_STATEN ISLAND has weight of 0.03325866257418926\n",
      "PREM_TYP_DESC_HOSPITAL has weight of 0.035776972423906456\n",
      "Year has weight of 0.047793547303885714\n",
      "ADDR_PCT_CD_67.0 has weight of 0.05185477134417477\n",
      "Day_Name_Sunday has weight of 0.06103169667367733\n",
      "LOC_OF_OCCUR_DESC_INSIDE has weight of 0.10706519150918876\n",
      "PREM_TYP_DESC_PUBLIC SCHOOL has weight of 0.11545575349500435\n",
      "PREM_TYP_DESC_RESIDENCE - PUBLIC HOUSING has weight of 0.15904386907584944\n",
      "PREM_TYP_DESC_RESIDENCE-HOUSE has weight of 0.1593405637538844\n",
      "PREM_TYP_DESC_RESIDENCE - APT. HOUSE has weight of 0.3386142597333719\n",
      "Duration_lbl_Long has weight of 0.6724767500968455\n"
     ]
    }
   ],
   "source": [
    "# sort these attributes and spit them out\n",
    "zip_vars = zip(lr_clf.coef_.T,crime.columns) # combine attributes\n",
    "zip_vars = sorted(zip_vars)\n",
    "for coef, name in zip_vars:\n",
    "    print(name, 'has weight of', coef[0]) # now print them out"
   ]
  },
  {
   "cell_type": "code",
   "execution_count": 24,
   "metadata": {},
   "outputs": [
    {
     "data": {
      "image/png": "[encoded data removed]",
      "text/plain": [
       "<Figure size 1152x720 with 1 Axes>"
      ]
     },
     "metadata": {},
     "output_type": "display_data"
    }
   ],
   "source": [
    "# now let's make a pandas Series with the names and values, and plot them\n",
    "from matplotlib import pyplot as plt\n",
    "%matplotlib inline\n",
    "plt.style.use('ggplot')\n",
    "\n",
    "\n",
    "weights = pd.Series(lr_clf.coef_[0],index=crime.columns)\n",
    "weights.plot(kind='bar', figsize = (16,10))\n",
    "plt.show()"
   ]
  },
  {
   "cell_type": "code",
   "execution_count": 25,
   "metadata": {},
   "outputs": [
    {
     "name": "stdout",
     "output_type": "stream",
     "text": [
      "              precision    recall  f1-score   support\n",
      "\n",
      "           0       0.76      0.63      0.69     72839\n",
      "           1       0.69      0.81      0.74     73295\n",
      "\n",
      "    accuracy                           0.72    146134\n",
      "   macro avg       0.73      0.72      0.72    146134\n",
      "weighted avg       0.73      0.72      0.72    146134\n",
      "\n"
     ]
    }
   ],
   "source": [
    "#Compute precision, recall, F-measure and support\n",
    "from sklearn.metrics import *\n",
    "print(classification_report(y_test,y_hat))"
   ]
  },
  {
   "cell_type": "code",
   "execution_count": 26,
   "metadata": {},
   "outputs": [
    {
     "data": {
      "text/plain": [
       "[(array([-1.71958814]), 'Duration'),\n",
       " (array([-0.41290479]), 'PREM_TYP_DESC_DEPARTMENT STORE'),\n",
       " (array([-0.3825597]), 'Duration_lbl_Short'),\n",
       " (array([-0.32536986]), 'PREM_TYP_DESC_CHAIN STORE'),\n",
       " (array([-0.23705706]), 'PREM_TYP_DESC_DRUG STORE'),\n",
       " (array([-0.23526102]), 'PREM_TYP_DESC_CLOTHING/BOUTIQUE'),\n",
       " (array([-0.16399346]), 'LOC_OF_OCCUR_DESC_OPPOSITE OF'),\n",
       " (array([-0.15784601]), 'LOC_OF_OCCUR_DESC_REAR OF'),\n",
       " (array([-0.14459072]), 'PREM_TYP_DESC_FOOD SUPERMARKET'),\n",
       " (array([-0.10583807]), 'PREM_TYP_DESC_GYM/FITNESS FACILITY'),\n",
       " (array([-0.10405395]), 'PREM_TYP_DESC_COMMERCIAL BUILDING'),\n",
       " (array([-0.10294594]), 'PREM_TYP_DESC_BANK'),\n",
       " (array([-0.09352409]), 'PREM_TYP_DESC_ATM'),\n",
       " (array([-0.06954172]), 'PREM_TYP_DESC_PARKING LOT/GARAGE (PRIVATE)'),\n",
       " (array([-0.06904602]), 'PREM_TYP_DESC_TELECOMM. STORE'),\n",
       " (array([-0.06854145]), 'PREM_TYP_DESC_STORE UNCLASSIFIED'),\n",
       " (array([-0.06420881]), 'PREM_TYP_DESC_RESTAURANT/DINER'),\n",
       " (array([-0.06379496]), 'PREM_TYP_DESC_SMALL MERCHANT'),\n",
       " (array([-0.06135763]), 'PREM_TYP_DESC_PARKING LOT/GARAGE (PUBLIC)'),\n",
       " (array([-0.06028565]), 'Duration_lbl_Medium'),\n",
       " (array([-0.0595318]), 'ADDR_PCT_CD_19.0'),\n",
       " (array([-0.05707601]), 'PREM_TYP_DESC_GROCERY/BODEGA'),\n",
       " (array([-0.05594809]), 'PREM_TYP_DESC_CHECK CASHING BUSINESS'),\n",
       " (array([-0.05242734]), 'PREM_TYP_DESC_VARIETY STORE'),\n",
       " (array([-0.05226605]), 'BORO_NM_MANHATTAN'),\n",
       " (array([-0.04811895]), 'PREM_TYP_DESC_SHOE'),\n",
       " (array([-0.04785269]), 'ADDR_PCT_CD_90.0'),\n",
       " (array([-0.04508898]), 'PREM_TYP_DESC_LIQUOR STORE'),\n",
       " (array([-0.042095]), 'PREM_TYP_DESC_JEWELRY'),\n",
       " (array([-0.04055562]), 'PREM_TYP_DESC_GAS STATION'),\n",
       " (array([-0.03990817]), 'Daytime_Day'),\n",
       " (array([-0.03974671]), 'PREM_TYP_DESC_CONSTRUCTION SITE'),\n",
       " (array([-0.03671585]), 'PREM_TYP_DESC_ABANDONED BUILDING'),\n",
       " (array([-0.03563945]), 'PREM_TYP_DESC_DRY CLEANER/LAUNDRY'),\n",
       " (array([-0.03546949]), 'PREM_TYP_DESC_FAST FOOD'),\n",
       " (array([-0.03477394]), 'PREM_TYP_DESC_TAXI (YELLOW LICENSED)'),\n",
       " (array([-0.03313478]), 'ADDR_PCT_CD_6.0'),\n",
       " (array([-0.0317201]), 'ADDR_PCT_CD_9.0'),\n",
       " (array([-0.03148311]), 'ADDR_PCT_CD_94.0'),\n",
       " (array([-0.02959291]), 'PREM_TYP_DESC_BRIDGE'),\n",
       " (array([-0.02884968]), 'ADDR_PCT_CD_10.0'),\n",
       " (array([-0.02816189]), 'ADDR_PCT_CD_78.0'),\n",
       " (array([-0.02814651]), 'ADDR_PCT_CD_112.0'),\n",
       " (array([-0.02730831]), 'ADDR_PCT_CD_14.0'),\n",
       " (array([-0.02712195]), 'PREM_TYP_DESC_BOOK/CARD'),\n",
       " (array([-0.02702145]), 'PREM_TYP_DESC_STORAGE FACILITY'),\n",
       " (array([-0.02639403]), 'ADDR_PCT_CD_111.0'),\n",
       " (array([-0.02618062]), 'Day_Name_Tuesday'),\n",
       " (array([-0.02511053]), 'PREM_TYP_DESC_CHURCH'),\n",
       " (array([-0.02502782]), 'PREM_TYP_DESC_TAXI (LIVERY LICENSED)'),\n",
       " (array([-0.0245486]), 'JURIS_DESC_OTHER'),\n",
       " (array([-0.02428487]), 'ADDR_PCT_CD_52.0'),\n",
       " (array([-0.02424376]), 'JURIS_DESC_NYS DEPT TAX AND FINANCE'),\n",
       " (array([-0.02416739]), 'PREM_TYP_DESC_STREET'),\n",
       " (array([-0.02415131]), 'ADDR_PCT_CD_13.0'),\n",
       " (array([-0.02170641]), 'Day_Name_Wednesday'),\n",
       " (array([-0.02079734]), 'ADDR_PCT_CD_66.0'),\n",
       " (array([-0.01778489]), 'Month_January'),\n",
       " (array([-0.01754396]), 'PREM_TYP_DESC_VIDEO STORE'),\n",
       " (array([-0.01742743]), 'Season_Winter'),\n",
       " (array([-0.01728566]), 'Day_Name_Thursday'),\n",
       " (array([-0.0172775]), 'PREM_TYP_DESC_OPEN AREAS (OPEN LOTS)'),\n",
       " (array([-0.01722132]), 'PREM_TYP_DESC_BEAUTY & NAIL SALON'),\n",
       " (array([-0.01706188]), 'PREM_TYP_DESC_MARINA/PIER'),\n",
       " (array([-0.0168292]), 'Month_March'),\n",
       " (array([-0.01656815]), 'PREM_TYP_DESC_TRANSIT - NYC SUBWAY'),\n",
       " (array([-0.01644159]), 'JURIS_DESC_TRI-BORO BRDG TUNNL'),\n",
       " (array([-0.01627384]), 'ADDR_PCT_CD_1.0'),\n",
       " (array([-0.01621232]), 'ADDR_PCT_CD_83.0'),\n",
       " (array([-0.01575803]), 'PREM_TYP_DESC_TRANSIT FACILITY (OTHER)'),\n",
       " (array([-0.01556563]), 'Daytime_Morning'),\n",
       " (array([-0.01549239]), 'ADDR_PCT_CD_61.0'),\n",
       " (array([-0.01533494]), 'PREM_TYP_DESC_PHOTO/COPY'),\n",
       " (array([-0.01508739]), 'PREM_TYP_DESC_TRAMWAY'),\n",
       " (array([-0.01481287]), 'Day_Name_Friday'),\n",
       " (array([-0.01470795]), 'ADDR_PCT_CD_17.0'),\n",
       " (array([-0.01468172]), 'ADDR_PCT_CD_50.0'),\n",
       " (array([-0.01464937]), 'JURIS_DESC_N.Y. HOUSING POLICE'),\n",
       " (array([-0.01455223]), 'JURIS_DESC_STATN IS RAPID TRANS'),\n",
       " (array([-0.01379306]), 'ADDR_PCT_CD_26.0'),\n",
       " (array([-0.01344967]), 'PREM_TYP_DESC_CANDY STORE'),\n",
       " (array([-0.01339354]), 'ADDR_PCT_CD_107.0'),\n",
       " (array([-0.01330654]), 'ADDR_PCT_CD_106.0'),\n",
       " (array([-0.0125776]), 'ADDR_PCT_CD_20.0'),\n",
       " (array([-0.01240108]), 'PREM_TYP_DESC_HIGHWAY/PARKWAY'),\n",
       " (array([-0.01232799]), 'PREM_TYP_DESC_TAXI/LIVERY (UNLICENSED)'),\n",
       " (array([-0.01201409]), 'PREM_TYP_DESC_FACTORY/WAREHOUSE'),\n",
       " (array([-0.01177912]), 'JURIS_DESC_DEPT OF CORRECTIONS'),\n",
       " (array([-0.01166717]), 'JURIS_DESC_N.Y. STATE POLICE'),\n",
       " (array([-0.01037024]), 'ADDR_PCT_CD_25.0'),\n",
       " (array([-0.01019249]), 'Month_February'),\n",
       " (array([-0.00986097]), 'PREM_TYP_DESC_BUS TERMINAL'),\n",
       " (array([-0.00975524]), 'ADDR_PCT_CD_76.0'),\n",
       " (array([-0.00936007]), 'ADDR_PCT_CD_40.0'),\n",
       " (array([-0.00930796]), 'PREM_TYP_DESC_DOCTOR/DENTIST OFFICE'),\n",
       " (array([-0.00930369]), 'PREM_TYP_DESC_LOAN COMPANY'),\n",
       " (array([-0.00914557]), 'Month_April'),\n",
       " (array([-0.00912659]), 'Month_November'),\n",
       " (array([-0.00906602]), 'PREM_TYP_DESC_PUBLIC BUILDING'),\n",
       " (array([-0.00828287]), 'Daytime_Evening'),\n",
       " (array([-0.0081569]), 'ADDR_PCT_CD_49.0'),\n",
       " (array([-0.00813735]), 'ADDR_PCT_CD_88.0'),\n",
       " (array([-0.00719318]), 'JURIS_DESC_N.Y. TRANSIT POLICE'),\n",
       " (array([-0.00669441]), 'PREM_TYP_DESC_TUNNEL'),\n",
       " (array([-0.00608651]), 'PREM_TYP_DESC_HOTEL/MOTEL'),\n",
       " (array([-0.00599464]), 'PREM_TYP_DESC_PARK/PLAYGROUND'),\n",
       " (array([-0.00586756]), 'ADDR_PCT_CD_68.0'),\n",
       " (array([-0.00568187]), 'ADDR_PCT_CD_5.0'),\n",
       " (array([-0.00563635]), 'ADDR_PCT_CD_84.0'),\n",
       " (array([-0.00562883]), 'ADDR_PCT_CD_71.0'),\n",
       " (array([-0.0054728]), 'ADDR_PCT_CD_43.0'),\n",
       " (array([-0.00513051]), 'PREM_TYP_DESC_MOSQUE'),\n",
       " (array([-0.0051259]), 'ADDR_PCT_CD_70.0'),\n",
       " (array([-0.0049518]), 'PREM_TYP_DESC_SYNAGOGUE'),\n",
       " (array([-0.00451541]), 'ADDR_PCT_CD_110.0'),\n",
       " (array([-0.00415434]), 'PREM_TYP_DESC_CEMETERY'),\n",
       " (array([-0.00397171]), 'PREM_TYP_DESC_BUS STOP'),\n",
       " (array([-0.00382161]), 'ADDR_PCT_CD_24.0'),\n",
       " (array([-0.00376994]), 'ADDR_PCT_CD_22.0'),\n",
       " (array([-0.00369314]), 'Season_Fall'),\n",
       " (array([-0.00367735]), 'Month_October'),\n",
       " (array([-0.00300988]), 'Day_Name_Monday'),\n",
       " (array([-0.00283129]), 'JURIS_DESC_LONG ISLAND RAILRD'),\n",
       " (array([-0.00227528]), 'Duration_to_PD'),\n",
       " (array([-0.00210033]), 'ADDR_PCT_CD_48.0'),\n",
       " (array([-0.00209199]), 'ADDR_PCT_CD_109.0'),\n",
       " (array([-0.00150722]), 'Month_December'),\n",
       " (array([-0.00137528]), 'JURIS_DESC_N.Y. STATE PARKS'),\n",
       " (array([-0.00108424]), 'PREM_TYP_DESC_OTHER HOUSE OF WORSHIP'),\n",
       " (array([-0.00095083]), 'ADDR_PCT_CD_23.0'),\n",
       " (array([-0.00066373]), 'ADDR_PCT_CD_63.0'),\n",
       " (array([-0.00042364]), 'Season_Spring'),\n",
       " (array([0.00027804]), 'PREM_TYP_DESC_AIRPORT TERMINAL'),\n",
       " (array([0.00049736]), 'ADDR_PCT_CD_18.0'),\n",
       " (array([0.00083479]), 'JURIS_DESC_NYC PARKS'),\n",
       " (array([0.00089414]), 'JURIS_DESC_POLICE DEPT NYC'),\n",
       " (array([0.00090739]), 'JURIS_DESC_NEW YORK CITY SHERIFF OFFICE'),\n",
       " (array([0.00094213]), 'PREM_TYP_DESC_BAR/NIGHT CLUB'),\n",
       " (array([0.00106409]), 'JURIS_DESC_AMTRACK'),\n",
       " (array([0.00114631]), 'ADDR_PCT_CD_113.0'),\n",
       " (array([0.00204388]), 'PREM_TYP_DESC_FERRY/FERRY TERMINAL'),\n",
       " (array([0.00266436]), 'PREM_TYP_DESC_PRIVATE/PAROCHIAL SCHOOL'),\n",
       " (array([0.0027454]), 'Day'),\n",
       " (array([0.00287694]), 'LOC_OF_OCCUR_DESC_FRONT OF'),\n",
       " (array([0.00311273]), 'ADDR_PCT_CD_28.0'),\n",
       " (array([0.00316031]), 'JURIS_DESC_U.S. PARK POLICE'),\n",
       " (array([0.00368774]), 'PREM_TYP_DESC_SOCIAL CLUB/POLICY'),\n",
       " (array([0.00398126]), 'ADDR_PCT_CD_100.0'),\n",
       " (array([0.00419785]), 'JURIS_DESC_METRO NORTH'),\n",
       " (array([0.00421001]), 'ADDR_PCT_CD_7.0'),\n",
       " (array([0.00485809]), 'Month_August'),\n",
       " (array([0.0050024]), 'JURIS_DESC_PORT AUTHORITY'),\n",
       " (array([0.00553194]), 'ADDR_PCT_CD_115.0'),\n",
       " (array([0.0058675]), 'ADDR_PCT_CD_33.0'),\n",
       " (array([0.00639638]), 'ADDR_PCT_CD_81.0'),\n",
       " (array([0.00683271]), 'ADDR_PCT_CD_62.0'),\n",
       " (array([0.00726011]), 'ADDR_PCT_CD_77.0'),\n",
       " (array([0.00727247]), 'BORO_NM_BRONX'),\n",
       " (array([0.007378]), 'PREM_TYP_DESC_BUS (OTHER)'),\n",
       " (array([0.00753349]), 'ADDR_PCT_CD_122.0'),\n",
       " (array([0.00817149]), 'ADDR_PCT_CD_60.0'),\n",
       " (array([0.00819878]), 'Month_September'),\n",
       " (array([0.00896901]), 'ADDR_PCT_CD_42.0'),\n",
       " (array([0.00990178]), 'ADDR_PCT_CD_72.0'),\n",
       " (array([0.00999016]), 'ADDR_PCT_CD_104.0'),\n",
       " (array([0.01010229]), 'Month_June'),\n",
       " (array([0.01067952]), 'BORO_NM_BROOKLYN'),\n",
       " (array([0.01094295]), 'ADDR_PCT_CD_108.0'),\n",
       " (array([0.01122526]), 'ADDR_PCT_CD_114.0'),\n",
       " (array([0.01199539]), 'ADDR_PCT_CD_44.0'),\n",
       " (array([0.01299598]), 'ADDR_PCT_CD_121.0'),\n",
       " (array([0.01313381]), 'ADDR_PCT_CD_32.0'),\n",
       " (array([0.01322085]), 'ADDR_PCT_CD_105.0'),\n",
       " (array([0.01354579]), 'ADDR_PCT_CD_45.0'),\n",
       " (array([0.01428645]), 'JURIS_DESC_HEALTH & HOSP CORP'),\n",
       " (array([0.01507132]), 'ADDR_PCT_CD_47.0'),\n",
       " (array([0.01525225]), 'ADDR_PCT_CD_123.0'),\n",
       " (array([0.01541635]), 'PREM_TYP_DESC_BUS (NYC TRANSIT)'),\n",
       " (array([0.01574243]), 'Daytime_Late Night'),\n",
       " (array([0.01576416]), 'ADDR_PCT_CD_101.0'),\n",
       " (array([0.01577877]), 'GeoCell_X'),\n",
       " (array([0.016008]), 'BORO_NM_QUEENS'),\n",
       " (array([0.01606648]), 'GeoCell_Y'),\n",
       " (array([0.01616067]), 'ADDR_PCT_CD_34.0'),\n",
       " (array([0.01680014]), 'GeoCell'),\n",
       " (array([0.0169154]), 'ADDR_PCT_CD_46.0'),\n",
       " (array([0.01735933]), 'PREM_TYP_DESC_OTHER'),\n",
       " (array([0.01749336]), 'ADDR_PCT_CD_102.0'),\n",
       " (array([0.01783208]), 'ADDR_PCT_CD_41.0'),\n",
       " (array([0.01847501]), 'ADDR_PCT_CD_79.0'),\n",
       " (array([0.01881045]), 'Month_July'),\n",
       " (array([0.02018261]), 'JURIS_DESC_N.Y. POLICE DEPT'),\n",
       " (array([0.02145028]), 'Season_Summer'),\n",
       " (array([0.02191444]), 'Day_Name_Saturday'),\n",
       " (array([0.0231863]), 'ADDR_PCT_CD_30.0'),\n",
       " (array([0.02410271]), 'Month_May'),\n",
       " (array([0.02565756]), 'ADDR_PCT_CD_75.0'),\n",
       " (array([0.02626113]), 'ADDR_PCT_CD_103.0'),\n",
       " (array([0.02693286]), 'Daytime_Night'),\n",
       " (array([0.02722031]), 'ADDR_PCT_CD_73.0'),\n",
       " (array([0.02743807]), 'ADDR_PCT_CD_120.0'),\n",
       " (array([0.02790204]), 'Daytime_Early Morning'),\n",
       " (array([0.02925707]), 'ADDR_PCT_CD_69.0'),\n",
       " (array([0.03325866]), 'BORO_NM_STATEN ISLAND'),\n",
       " (array([0.03577697]), 'PREM_TYP_DESC_HOSPITAL'),\n",
       " (array([0.04779355]), 'Year'),\n",
       " (array([0.05185477]), 'ADDR_PCT_CD_67.0'),\n",
       " (array([0.0610317]), 'Day_Name_Sunday'),\n",
       " (array([0.10706519]), 'LOC_OF_OCCUR_DESC_INSIDE'),\n",
       " (array([0.11545575]), 'PREM_TYP_DESC_PUBLIC SCHOOL'),\n",
       " (array([0.15904387]), 'PREM_TYP_DESC_RESIDENCE - PUBLIC HOUSING'),\n",
       " (array([0.15934056]), 'PREM_TYP_DESC_RESIDENCE-HOUSE'),\n",
       " (array([0.33861426]), 'PREM_TYP_DESC_RESIDENCE - APT. HOUSE'),\n",
       " (array([0.67247675]), 'Duration_lbl_Long')]"
      ]
     },
     "execution_count": 26,
     "metadata": {},
     "output_type": "execute_result"
    }
   ],
   "source": [
    "zip_vars #this lists out the weights in a slightly more readable list"
   ]
  },
  {
   "cell_type": "markdown",
   "metadata": {},
   "source": [
    "### Logistic Regression Model: Iteration 2"
   ]
  },
  {
   "cell_type": "markdown",
   "metadata": {},
   "source": [
    "For the next iteration of the model evaluation, we are using a subset of variables based on an importance threshold set at |.03| from the initial model created"
   ]
  },
  {
   "cell_type": "code",
   "execution_count": 27,
   "metadata": {},
   "outputs": [],
   "source": [
    "import pandas as pd\n",
    "import numpy as np"
   ]
  },
  {
   "cell_type": "code",
   "execution_count": 28,
   "metadata": {},
   "outputs": [],
   "source": [
    "crime = pd.read_csv('Training_and_Test_Set.csv') # read in the csv %%file"
   ]
  },
  {
   "cell_type": "code",
   "execution_count": 29,
   "metadata": {},
   "outputs": [
    {
     "data": {
      "text/plain": [
       "JURIS_DESC            object\n",
       "BORO_NM               object\n",
       "ADDR_PCT_CD          float64\n",
       "LOC_OF_OCCUR_DESC     object\n",
       "PREM_TYP_DESC         object\n",
       "Day_Name              object\n",
       "Duration             float64\n",
       "Duration_to_PD       float64\n",
       "Month                 object\n",
       "Day                  float64\n",
       "Year                 float64\n",
       "Duration_lbl          object\n",
       "Season                object\n",
       "Daytime               object\n",
       "GeoCell              float64\n",
       "GeoCell_X            float64\n",
       "GeoCell_Y            float64\n",
       "y                      int64\n",
       "dtype: object"
      ]
     },
     "execution_count": 29,
     "metadata": {},
     "output_type": "execute_result"
    }
   ],
   "source": [
    "crime.dtypes #data check that it read in correctly"
   ]
  },
  {
   "cell_type": "code",
   "execution_count": 30,
   "metadata": {},
   "outputs": [
    {
     "data": {
      "text/plain": [
       "0    365333\n",
       "1    163540\n",
       "Name: y, dtype: int64"
      ]
     },
     "execution_count": 30,
     "metadata": {},
     "output_type": "execute_result"
    }
   ],
   "source": [
    "#Value Counts by Crime Type\n",
    "crime['y'].value_counts()"
   ]
  },
  {
   "cell_type": "code",
   "execution_count": 31,
   "metadata": {},
   "outputs": [],
   "source": [
    "#dropping any remaining NANs\n",
    "crime = crime.dropna() "
   ]
  },
  {
   "cell_type": "code",
   "execution_count": 32,
   "metadata": {},
   "outputs": [
    {
     "data": {
      "text/plain": [
       "False"
      ]
     },
     "execution_count": 32,
     "metadata": {},
     "output_type": "execute_result"
    }
   ],
   "source": [
    "crime.isnull().values.any()"
   ]
  },
  {
   "cell_type": "code",
   "execution_count": 33,
   "metadata": {},
   "outputs": [],
   "source": [
    "# perform one-hot encoding of the categorical data on 'JURIS_DESC','BORO_NM','LOC_OF_OCCUR_DESC',\n",
    "#'ADDR_PCT_CD','PREM_TYP_DESC','Day_Name','Month','Duration_lbl','Season','Daytime'\n",
    "tmp_df = pd.get_dummies(crime.JURIS_DESC,prefix='JURIS_DESC')\n",
    "crime = pd.concat((crime,tmp_df),axis=1) # add back into the dataframe\n",
    "\n",
    "tmp_df = pd.get_dummies(crime.BORO_NM,prefix='BORO_NM')\n",
    "crime = pd.concat((crime,tmp_df),axis=1) # add back into the dataframe\n",
    "\n",
    "tmp_df = pd.get_dummies(crime.LOC_OF_OCCUR_DESC,prefix='LOC_OF_OCCUR_DESC')\n",
    "crime = pd.concat((crime,tmp_df),axis=1) # add back into the dataframe\n",
    "\n",
    "tmp_df = pd.get_dummies(crime.ADDR_PCT_CD,prefix='ADDR_PCT_CD')\n",
    "crime = pd.concat((crime,tmp_df),axis=1) # add back into the dataframe\n",
    "\n",
    "tmp_df = pd.get_dummies(crime.PREM_TYP_DESC,prefix='PREM_TYP_DESC')\n",
    "crime = pd.concat((crime,tmp_df),axis=1) # add back into the dataframe\n",
    "\n",
    "tmp_df = pd.get_dummies(crime.Day_Name,prefix='Day_Name')\n",
    "crime = pd.concat((crime,tmp_df),axis=1) # add back into the dataframe\n",
    "\n",
    "tmp_df = pd.get_dummies(crime.Month,prefix='Month')\n",
    "crime = pd.concat((crime,tmp_df),axis=1) # add back into the dataframe\n",
    "\n",
    "tmp_df = pd.get_dummies(crime.Duration_lbl,prefix='Duration_lbl')\n",
    "crime = pd.concat((crime,tmp_df),axis=1) # add back into the dataframe\n",
    "\n",
    "tmp_df = pd.get_dummies(crime.Season,prefix='Season')\n",
    "crime = pd.concat((crime,tmp_df),axis=1) # add back into the dataframe\n",
    "\n",
    "tmp_df = pd.get_dummies(crime.Daytime,prefix='Daytime')\n",
    "crime = pd.concat((crime,tmp_df),axis=1) # add back into the dataframe"
   ]
  },
  {
   "cell_type": "code",
   "execution_count": 34,
   "metadata": {},
   "outputs": [],
   "source": [
    "#Now we drop the original variables\n",
    "if 'JURIS_DESC' in crime:    \n",
    "    del crime['JURIS_DESC'] # get rid of the original category as it is now one-hot encoded\n",
    "if 'BORO_NM' in crime:    \n",
    "    del crime['BORO_NM'] # get rid of the original category as it is now one-hot encoded\n",
    "if 'LOC_OF_OCCUR_DESC' in crime:    \n",
    "    del crime['LOC_OF_OCCUR_DESC'] # get rid of the original category as it is now one-hot encoded\n",
    "if 'ADDR_PCT_CD' in crime:    \n",
    "    del crime['ADDR_PCT_CD'] # get rid of the original category as it is now one-hot encoded\n",
    "if 'PREM_TYP_DESC' in crime:    \n",
    "    del crime['PREM_TYP_DESC'] # get rid of the original category as it is now one-hot encoded\n",
    "if 'Day_Name' in crime:    \n",
    "    del crime['Day_Name'] # get rid of the original category as it is now one-hot encoded\n",
    "if 'Month' in crime:    \n",
    "    del crime['Month'] # get rid of the original category as it is now one-hot encoded\n",
    "if 'Duration_lbl' in crime:    \n",
    "    del crime['Duration_lbl'] # get rid of the original category as it is now one-hot encoded\n",
    "if 'Season' in crime:    \n",
    "    del crime['Season'] # get rid of the original category as it is now one-hot encoded\n",
    "if 'Daytime' in crime:    \n",
    "    del crime['Daytime'] # get rid of the original category as it is now one-hot encoded"
   ]
  },
  {
   "cell_type": "code",
   "execution_count": 35,
   "metadata": {},
   "outputs": [],
   "source": [
    "#Now I want to pare down the variables - cutting off at  |.03|%\n",
    "X_sm = crime[[ 'PREM_TYP_DESC_HIGHWAY/PARKWAY', 'BORO_NM_MANHATTAN', 'BORO_NM_QUEENS', 'GeoCell_X', 'Year',\n",
    "          'ADDR_PCT_CD_66.0', 'Day_Name_Saturday', 'LOC_OF_OCCUR_DESC_FRONT OF', 'PREM_TYP_DESC_PUBLIC BUILDING', \n",
    "          'PREM_TYP_DESC_RESIDENCE - PUBLIC HOUSING', 'PREM_TYP_DESC_RESIDENCE - APT. HOUSE', \n",
    "          'PREM_TYP_DESC_PUBLIC SCHOOL', 'Month_September', 'Duration', 'PREM_TYP_DESC_CONSTRUCTION SITE',\n",
    "          'Duration_lbl_Medium', 'PREM_TYP_DESC_CEMETERY', 'PREM_TYP_DESC_CHURCH', 'PREM_TYP_DESC_DOCTOR/DENTIST OFFICE',\n",
    "          'LOC_OF_OCCUR_DESC_INSIDE', 'LOC_OF_OCCUR_DESC_OPPOSITE OF', 'PREM_TYP_DESC_FERRY/FERRY TERMINAL',\n",
    "          'PREM_TYP_DESC_GROCERY/BODEGA', 'PREM_TYP_DESC_CLOTHING/BOUTIQUE', 'PREM_TYP_DESC_ATM', 'PREM_TYP_DESC_AIRPORT TERMINAL',  'PREM_TYP_DESC_TAXI/LIVERY (UNLICENSED)',  'PREM_TYP_DESC_STORAGE FACILITY', \n",
    "          'PREM_TYP_DESC_PARK/PLAYGROUND', 'PREM_TYP_DESC_SHOE', 'PREM_TYP_DESC_RESIDENCE-HOUSE', \n",
    "          'PREM_TYP_DESC_PARKING LOT/GARAGE (PRIVATE)', 'ADDR_PCT_CD_18.0', 'PREM_TYP_DESC_GAS STATION',\n",
    "          'Duration_lbl_Long', 'PREM_TYP_DESC_CHAIN STORE', 'PREM_TYP_DESC_TUNNEL', 'PREM_TYP_DESC_RESTAURANT/DINER',          'BORO_NM_BROOKLYN',  'PREM_TYP_DESC_JEWELRY',  'ADDR_PCT_CD_88.0',  'PREM_TYP_DESC_HOTEL/MOTEL', \n",
    "          'Season_Winter', 'PREM_TYP_DESC_FOOD SUPERMARKET', 'PREM_TYP_DESC_BOOK/CARD', 'PREM_TYP_DESC_FACTORY/WAREHOUSE',          'ADDR_PCT_CD_123.0',  'PREM_TYP_DESC_DRUG STORE',  'PREM_TYP_DESC_COMMERCIAL BUILDING', \n",
    "          'PREM_TYP_DESC_TAXI (LIVERY LICENSED)', 'ADDR_PCT_CD_111.0', 'ADDR_PCT_CD_5.0', 'ADDR_PCT_CD_7.0', \n",
    "          'ADDR_PCT_CD_110.0', 'ADDR_PCT_CD_9.0','y']]"
   ]
  },
  {
   "cell_type": "code",
   "execution_count": 36,
   "metadata": {},
   "outputs": [],
   "source": [
    "from sklearn.model_selection import ShuffleSplit\n",
    "\n",
    "# we want to predict the X and y data as follows:\n",
    "if 'y' in X_sm:\n",
    "    y = X_sm['y'].values # get the labels we want\n",
    "    del X_sm['y'] # get rid of the class label\n",
    "    X = X_sm.values # use everything else to predict!\n",
    "\n",
    "    ## X and y are now numpy matrices, by calling 'values' on the pandas data frames we\n",
    "    #    have converted them into simple matrices to use with scikit learn"
   ]
  },
  {
   "cell_type": "code",
   "execution_count": 37,
   "metadata": {},
   "outputs": [],
   "source": [
    "from imblearn.over_sampling import SMOTE\n",
    "\n",
    "#transform the dataset\n",
    "oversample = SMOTE()\n",
    "X, y = oversample.fit_resample(X,y)"
   ]
  },
  {
   "cell_type": "code",
   "execution_count": 38,
   "metadata": {},
   "outputs": [
    {
     "data": {
      "text/plain": [
       "(730666,)"
      ]
     },
     "execution_count": 38,
     "metadata": {},
     "output_type": "execute_result"
    }
   ],
   "source": [
    "y.shape"
   ]
  },
  {
   "cell_type": "code",
   "execution_count": 39,
   "metadata": {},
   "outputs": [
    {
     "data": {
      "text/plain": [
       "(730666, 55)"
      ]
     },
     "execution_count": 39,
     "metadata": {},
     "output_type": "execute_result"
    }
   ],
   "source": [
    "X.shape"
   ]
  },
  {
   "cell_type": "code",
   "execution_count": 40,
   "metadata": {},
   "outputs": [
    {
     "name": "stdout",
     "output_type": "stream",
     "text": [
      "ShuffleSplit(n_splits=3, random_state=None, test_size=0.2, train_size=None)\n"
     ]
    }
   ],
   "source": [
    "# to use the cross validation object in scikit learn, we need to grab an instance\n",
    "#    of the object and set it up. This object will be able to split our data into \n",
    "#    training and testing splits\n",
    "num_cv_iterations = 3\n",
    "num_instances = len(y)\n",
    "cv_object = ShuffleSplit(n_splits=num_cv_iterations,\n",
    "                         test_size  = 0.2)\n",
    "                         \n",
    "print(cv_object)"
   ]
  },
  {
   "cell_type": "code",
   "execution_count": 41,
   "metadata": {},
   "outputs": [
    {
     "name": "stdout",
     "output_type": "stream",
     "text": [
      "====Iteration 0  ====\n",
      "accuracy 0.6937194629586544\n",
      "confusion matrix\n",
      " [[45553 27378]\n",
      " [17380 55823]]\n",
      "====Iteration 1  ====\n",
      "accuracy 0.6966756538519441\n",
      "confusion matrix\n",
      " [[45495 27350]\n",
      " [16976 56313]]\n",
      "====Iteration 2  ====\n",
      "accuracy 0.6959366061286216\n",
      "confusion matrix\n",
      " [[45777 27429]\n",
      " [17005 55923]]\n"
     ]
    }
   ],
   "source": [
    "# run logistic regression and vary some parameters\n",
    "from sklearn.linear_model import LogisticRegression\n",
    "from sklearn import metrics as mt\n",
    "\n",
    "# first we create a reusable logisitic regression object\n",
    "#   here we can setup the object with different learning parameters and constants\n",
    "lr_clf = LogisticRegression(penalty='l2', C=1.0, class_weight=None, solver='liblinear' ) # get object\n",
    "\n",
    "# now we can use the cv_object that we setup before to iterate through the \n",
    "#    different training and testing sets. Each time we will reuse the logisitic regression \n",
    "#    object, but it gets trained on different data each time we use it.\n",
    "\n",
    "iter_num=0\n",
    "# the indices are the rows used for training and testing in each iteration\n",
    "for train_indices, test_indices in cv_object.split(X,y): \n",
    "    # I will create new variables here so that it is more obvious what \n",
    "    # the code is doing (you can compact this syntax and avoid duplicating memory,\n",
    "    # but it makes this code less readable)\n",
    "    X_train = X[train_indices]\n",
    "    y_train = y[train_indices]\n",
    "    \n",
    "    X_test = X[test_indices]\n",
    "    y_test = y[test_indices]\n",
    "    \n",
    "    # train the reusable logisitc regression model on the training data\n",
    "    lr_clf.fit(X_train,y_train)  # train object\n",
    "    y_hat = lr_clf.predict(X_test) # get test set precitions\n",
    "\n",
    "    # now let's get the accuracy and confusion matrix for this iterations of training/testing\n",
    "    acc = mt.accuracy_score(y_test,y_hat)\n",
    "    conf = mt.confusion_matrix(y_test,y_hat)\n",
    "    print(\"====Iteration\",iter_num,\" ====\")\n",
    "    print(\"accuracy\", acc )\n",
    "    print(\"confusion matrix\\n\",conf)\n",
    "    iter_num+=1\n",
    "    \n",
    "# Also note that every time you run the above code\n",
    "#   it randomly creates a new training and testing set, \n",
    "#   so accuracy will be different each time"
   ]
  },
  {
   "cell_type": "code",
   "execution_count": 42,
   "metadata": {},
   "outputs": [
    {
     "name": "stdout",
     "output_type": "stream",
     "text": [
      "[0.69463643 0.69631297 0.69523862]\n"
     ]
    }
   ],
   "source": [
    "# and here is an even shorter way of getting the accuracies for each training and test set\n",
    "from sklearn.model_selection import cross_val_score\n",
    "accuracies = cross_val_score(lr_clf, X, y=y, cv=cv_object) # this also can help with parallelism\n",
    "print(accuracies)"
   ]
  },
  {
   "cell_type": "code",
   "execution_count": 43,
   "metadata": {},
   "outputs": [
    {
     "name": "stdout",
     "output_type": "stream",
     "text": [
      "PREM_TYP_DESC_HIGHWAY/PARKWAY has weight of -0.8083624481852504\n",
      "BORO_NM_MANHATTAN has weight of -0.3023822110409794\n",
      "BORO_NM_QUEENS has weight of -0.05462462475709064\n",
      "GeoCell_X has weight of 0.028182448462826526\n",
      "Year has weight of -0.00027840657282975344\n",
      "ADDR_PCT_CD_66.0 has weight of -0.15818813305345678\n",
      "Day_Name_Saturday has weight of 0.05944456851934535\n",
      "LOC_OF_OCCUR_DESC_FRONT OF has weight of 1.0448552279367511\n",
      "PREM_TYP_DESC_PUBLIC BUILDING has weight of 0.2052768157163573\n",
      "PREM_TYP_DESC_RESIDENCE - PUBLIC HOUSING has weight of 0.795484429832201\n",
      "PREM_TYP_DESC_RESIDENCE - APT. HOUSE has weight of 1.0808981808705047\n",
      "PREM_TYP_DESC_PUBLIC SCHOOL has weight of 1.2782759251136266\n",
      "Month_September has weight of -0.05347540660518815\n",
      "Duration has weight of -0.35056199816738537\n",
      "PREM_TYP_DESC_CONSTRUCTION SITE has weight of -0.7462432047199965\n",
      "Duration_lbl_Medium has weight of 0.9155189760381567\n",
      "PREM_TYP_DESC_CEMETERY has weight of -0.11872939010180734\n",
      "PREM_TYP_DESC_CHURCH has weight of -0.3429212645155526\n",
      "PREM_TYP_DESC_DOCTOR/DENTIST OFFICE has weight of 0.1224545272000047\n",
      "LOC_OF_OCCUR_DESC_INSIDE has weight of 0.963095896203527\n",
      "LOC_OF_OCCUR_DESC_OPPOSITE OF has weight of 0.21624275671404827\n",
      "PREM_TYP_DESC_FERRY/FERRY TERMINAL has weight of 0.6244107207153033\n",
      "PREM_TYP_DESC_GROCERY/BODEGA has weight of 0.07441768128031423\n",
      "PREM_TYP_DESC_CLOTHING/BOUTIQUE has weight of -2.125399147026675\n",
      "PREM_TYP_DESC_ATM has weight of -2.5523832249868503\n",
      "PREM_TYP_DESC_AIRPORT TERMINAL has weight of 0.0871314327645722\n",
      "PREM_TYP_DESC_TAXI/LIVERY (UNLICENSED) has weight of -0.7297392968739328\n",
      "PREM_TYP_DESC_STORAGE FACILITY has weight of -0.651579172852905\n",
      "PREM_TYP_DESC_PARK/PLAYGROUND has weight of 0.2167659766125395\n",
      "PREM_TYP_DESC_SHOE has weight of -1.6639854384505248\n",
      "PREM_TYP_DESC_RESIDENCE-HOUSE has weight of 0.8639020439179328\n",
      "PREM_TYP_DESC_PARKING LOT/GARAGE (PRIVATE) has weight of -0.7961928345170153\n",
      "ADDR_PCT_CD_18.0 has weight of 0.07153780727895657\n",
      "PREM_TYP_DESC_GAS STATION has weight of -0.6240767690264503\n",
      "Duration_lbl_Long has weight of 4.168626846811096\n",
      "PREM_TYP_DESC_CHAIN STORE has weight of -1.6722281380369575\n",
      "PREM_TYP_DESC_TUNNEL has weight of -0.6815417103144704\n",
      "PREM_TYP_DESC_RESTAURANT/DINER has weight of -0.09598745904309994\n",
      "BORO_NM_BROOKLYN has weight of -0.06955913162398168\n",
      "PREM_TYP_DESC_JEWELRY has weight of -1.0898624290544434\n",
      "ADDR_PCT_CD_88.0 has weight of -0.10762991214578556\n",
      "PREM_TYP_DESC_HOTEL/MOTEL has weight of 0.3194320095103366\n",
      "Season_Winter has weight of -0.10182329174838001\n",
      "PREM_TYP_DESC_FOOD SUPERMARKET has weight of -1.3969994829747943\n",
      "PREM_TYP_DESC_BOOK/CARD has weight of -1.2933857471951213\n",
      "PREM_TYP_DESC_FACTORY/WAREHOUSE has weight of -0.07287791772314742\n",
      "ADDR_PCT_CD_123.0 has weight of 0.15331988930538595\n",
      "PREM_TYP_DESC_DRUG STORE has weight of -2.052576995625255\n",
      "PREM_TYP_DESC_COMMERCIAL BUILDING has weight of -0.26358141389373413\n",
      "PREM_TYP_DESC_TAXI (LIVERY LICENSED) has weight of -1.1001993678524096\n",
      "ADDR_PCT_CD_111.0 has weight of -0.39584950654126655\n",
      "ADDR_PCT_CD_5.0 has weight of -0.027533357461074853\n",
      "ADDR_PCT_CD_7.0 has weight of 0.09466289975058846\n",
      "ADDR_PCT_CD_110.0 has weight of -0.290621497252788\n",
      "ADDR_PCT_CD_9.0 has weight of -0.22299773830203196\n"
     ]
    }
   ],
   "source": [
    "# interpret the weights\n",
    "\n",
    "# iterate over the coefficients\n",
    "weights = lr_clf.coef_.T # take transpose to make a column vector\n",
    "variable_names = X_sm.columns\n",
    "for coef, name in zip(weights,variable_names):\n",
    "    print(name, 'has weight of', coef[0])\n",
    "    \n",
    "# does this look correct? "
   ]
  },
  {
   "cell_type": "code",
   "execution_count": 44,
   "metadata": {},
   "outputs": [
    {
     "name": "stdout",
     "output_type": "stream",
     "text": [
      "accuracy: 0.6959981934388986\n",
      "[[45872 27334]\n",
      " [17091 55837]]\n",
      "Duration has weight of -1.6714172211939748\n",
      "PREM_TYP_DESC_CHAIN STORE has weight of -0.25850903479519755\n",
      "PREM_TYP_DESC_CLOTHING/BOUTIQUE has weight of -0.20717493457031722\n",
      "PREM_TYP_DESC_DRUG STORE has weight of -0.1978079095512061\n",
      "BORO_NM_MANHATTAN has weight of -0.12537690843091046\n",
      "PREM_TYP_DESC_FOOD SUPERMARKET has weight of -0.11044385084354136\n",
      "PREM_TYP_DESC_ATM has weight of -0.08523409857673436\n",
      "PREM_TYP_DESC_PARKING LOT/GARAGE (PRIVATE) has weight of -0.05533229001855758\n",
      "PREM_TYP_DESC_SHOE has weight of -0.04700029911007844\n",
      "PREM_TYP_DESC_COMMERCIAL BUILDING has weight of -0.04361157031517991\n",
      "Season_Winter has weight of -0.03962564269393395\n",
      "ADDR_PCT_CD_110.0 has weight of -0.035381886670958505\n",
      "BORO_NM_BROOKLYN has weight of -0.03232192345375007\n",
      "PREM_TYP_DESC_JEWELRY has weight of -0.030463180638882564\n",
      "ADDR_PCT_CD_111.0 has weight of -0.03024059587218317\n",
      "PREM_TYP_DESC_GAS STATION has weight of -0.029084034459150178\n",
      "PREM_TYP_DESC_CONSTRUCTION SITE has weight of -0.027996563243193696\n",
      "PREM_TYP_DESC_TAXI (LIVERY LICENSED) has weight of -0.026863737358506935\n",
      "PREM_TYP_DESC_BOOK/CARD has weight of -0.023605434100943193\n",
      "ADDR_PCT_CD_9.0 has weight of -0.023414848242281943\n",
      "BORO_NM_QUEENS has weight of -0.021537618587399113\n",
      "PREM_TYP_DESC_STORAGE FACILITY has weight of -0.020148103277742285\n",
      "ADDR_PCT_CD_66.0 has weight of -0.01666391912443082\n",
      "Month_September has weight of -0.015864108124316316\n",
      "PREM_TYP_DESC_CHURCH has weight of -0.014314215493079988\n",
      "PREM_TYP_DESC_HIGHWAY/PARKWAY has weight of -0.012183501074707748\n",
      "PREM_TYP_DESC_RESTAURANT/DINER has weight of -0.011887816736920784\n",
      "PREM_TYP_DESC_TUNNEL has weight of -0.011523854529299923\n",
      "PREM_TYP_DESC_TAXI/LIVERY (UNLICENSED) has weight of -0.011378172376107089\n",
      "ADDR_PCT_CD_88.0 has weight of -0.009848993763550334\n",
      "ADDR_PCT_CD_5.0 has weight of -0.002259961659653556\n",
      "PREM_TYP_DESC_FACTORY/WAREHOUSE has weight of -0.0022041231546304726\n",
      "PREM_TYP_DESC_CEMETERY has weight of -0.0021711813247422703\n",
      "PREM_TYP_DESC_AIRPORT TERMINAL has weight of 0.001851460818964551\n",
      "PREM_TYP_DESC_DOCTOR/DENTIST OFFICE has weight of 0.006630274157977992\n",
      "ADDR_PCT_CD_18.0 has weight of 0.008678751070146798\n",
      "ADDR_PCT_CD_7.0 has weight of 0.008718395343631766\n",
      "PREM_TYP_DESC_GROCERY/BODEGA has weight of 0.009341305664029258\n",
      "ADDR_PCT_CD_123.0 has weight of 0.012208654366850213\n",
      "PREM_TYP_DESC_PARK/PLAYGROUND has weight of 0.013507269624885474\n",
      "PREM_TYP_DESC_FERRY/FERRY TERMINAL has weight of 0.014557641243846162\n",
      "PREM_TYP_DESC_PUBLIC BUILDING has weight of 0.016188881745763106\n",
      "Day_Name_Saturday has weight of 0.021429222982729375\n",
      "PREM_TYP_DESC_HOTEL/MOTEL has weight of 0.023036648971416246\n",
      "LOC_OF_OCCUR_DESC_OPPOSITE OF has weight of 0.03677461933070442\n",
      "GeoCell_X has weight of 0.040777940124353866\n",
      "Year has weight of 0.047622712086505856\n",
      "PREM_TYP_DESC_PUBLIC SCHOOL has weight of 0.15213515411630688\n",
      "PREM_TYP_DESC_RESIDENCE - PUBLIC HOUSING has weight of 0.24160795358865986\n",
      "Duration_lbl_Medium has weight of 0.24514756006717014\n",
      "PREM_TYP_DESC_RESIDENCE-HOUSE has weight of 0.2814311866482481\n",
      "LOC_OF_OCCUR_DESC_INSIDE has weight of 0.45465928850157206\n",
      "LOC_OF_OCCUR_DESC_FRONT OF has weight of 0.46859909585516046\n",
      "PREM_TYP_DESC_RESIDENCE - APT. HOUSE has weight of 0.4913384536768701\n",
      "Duration_lbl_Long has weight of 0.8852176357288354\n"
     ]
    }
   ],
   "source": [
    "from sklearn.preprocessing import StandardScaler\n",
    "\n",
    "# we want to normalize the features based upon the mean and standard deviation of each column. \n",
    "# However, we do not want to accidentally use the testing data to find out the mean and std (this would be snooping)\n",
    "# to Make things easier, let's start by just using whatever was last stored in the variables:\n",
    "##    X_train , y_train , X_test, y_test (they were set in a for loop above)\n",
    "\n",
    "# scale attributes by the training set\n",
    "scl_obj = StandardScaler()\n",
    "scl_obj.fit(X_train) # find scalings for each column that make this zero mean and unit std\n",
    "# the line of code above only looks at training data to get mean and std and we can use it \n",
    "# to transform new feature data\n",
    "\n",
    "X_train_scaled = scl_obj.transform(X_train) # apply to training\n",
    "X_test_scaled = scl_obj.transform(X_test) # apply those means and std to the test set (without snooping at the test set values)\n",
    "\n",
    "# train the model just as before\n",
    "lr_clf = LogisticRegression(penalty='l2', C=0.05, solver='liblinear') # get object, the 'C' value is less (can you guess why??)\n",
    "lr_clf.fit(X_train_scaled,y_train)  # train object\n",
    "\n",
    "y_hat = lr_clf.predict(X_test_scaled) # get test set precitions\n",
    "\n",
    "acc = mt.accuracy_score(y_test,y_hat)\n",
    "conf = mt.confusion_matrix(y_test,y_hat)\n",
    "print('accuracy:', acc )\n",
    "print(conf )\n",
    "\n",
    "# sort these attributes and spit them out\n",
    "zip_vars = zip(lr_clf.coef_.T,X_sm.columns) # combine attributes\n",
    "zip_vars = sorted(zip_vars)\n",
    "for coef, name in zip_vars:\n",
    "    print(name, 'has weight of', coef[0]) # now print them out"
   ]
  },
  {
   "cell_type": "code",
   "execution_count": 45,
   "metadata": {},
   "outputs": [
    {
     "data": {
      "image/png": "[encoded data removed]",
      "text/plain": [
       "<Figure size 1152x576 with 1 Axes>"
      ]
     },
     "metadata": {},
     "output_type": "display_data"
    }
   ],
   "source": [
    "# now let's make a pandas Series with the names and values, and plot them\n",
    "from matplotlib import pyplot as plt\n",
    "%matplotlib inline\n",
    "plt.style.use('ggplot')\n",
    "\n",
    "\n",
    "weights = pd.Series(lr_clf.coef_[0],index=X_sm.columns)\n",
    "weights.plot(kind='bar', figsize = (16,8))  #added figsize - trying to see if it expands the view\n",
    "plt.show()"
   ]
  },
  {
   "cell_type": "markdown",
   "metadata": {},
   "source": [
    "### Interpretation"
   ]
  },
  {
   "cell_type": "code",
   "execution_count": null,
   "metadata": {},
   "outputs": [],
   "source": []
  },
  {
   "cell_type": "markdown",
   "metadata": {},
   "source": [
    "### ROC Curve and Thresholds"
   ]
  },
  {
   "cell_type": "code",
   "execution_count": null,
   "metadata": {},
   "outputs": [],
   "source": []
  },
  {
   "cell_type": "markdown",
   "metadata": {},
   "source": [
    "### Performance Metrics"
   ]
  },
  {
   "cell_type": "code",
   "execution_count": 46,
   "metadata": {},
   "outputs": [
    {
     "name": "stdout",
     "output_type": "stream",
     "text": [
      "              precision    recall  f1-score   support\n",
      "\n",
      "           0       0.73      0.63      0.67     73206\n",
      "           1       0.67      0.77      0.72     72928\n",
      "\n",
      "    accuracy                           0.70    146134\n",
      "   macro avg       0.70      0.70      0.69    146134\n",
      "weighted avg       0.70      0.70      0.69    146134\n",
      "\n"
     ]
    }
   ],
   "source": [
    "#Compute precision, recall, F-measure and support\n",
    "from sklearn.metrics import *\n",
    "print(classification_report(y_test,y_hat))"
   ]
  },
  {
   "cell_type": "markdown",
   "metadata": {},
   "source": [
    "# Model 2 - Random Forest Classification"
   ]
  },
  {
   "cell_type": "markdown",
   "metadata": {},
   "source": [
    "### Model Description"
   ]
  },
  {
   "cell_type": "code",
   "execution_count": null,
   "metadata": {},
   "outputs": [],
   "source": []
  },
  {
   "cell_type": "markdown",
   "metadata": {},
   "source": [
    "### Parameters"
   ]
  },
  {
   "cell_type": "code",
   "execution_count": null,
   "metadata": {},
   "outputs": [],
   "source": []
  },
  {
   "cell_type": "markdown",
   "metadata": {},
   "source": [
    "### Interpretation"
   ]
  },
  {
   "cell_type": "code",
   "execution_count": null,
   "metadata": {},
   "outputs": [],
   "source": []
  },
  {
   "cell_type": "markdown",
   "metadata": {},
   "source": [
    "### ROC Curve and Thresholds"
   ]
  },
  {
   "cell_type": "code",
   "execution_count": null,
   "metadata": {},
   "outputs": [],
   "source": []
  },
  {
   "cell_type": "markdown",
   "metadata": {},
   "source": [
    "### Performance Metrics"
   ]
  },
  {
   "cell_type": "code",
   "execution_count": null,
   "metadata": {},
   "outputs": [],
   "source": []
  },
  {
   "cell_type": "markdown",
   "metadata": {},
   "source": [
    "# Model Validation"
   ]
  },
  {
   "cell_type": "markdown",
   "metadata": {},
   "source": [
    "### Model 1, Logistic Regression - Pros and Cons"
   ]
  },
  {
   "cell_type": "markdown",
   "metadata": {},
   "source": [
    "#### Holdout Testing"
   ]
  },
  {
   "cell_type": "code",
   "execution_count": 47,
   "metadata": {},
   "outputs": [],
   "source": [
    "#test model against the holdout set\n",
    "holdout = pd.read_csv('Hold_Out_Set.csv')"
   ]
  },
  {
   "cell_type": "code",
   "execution_count": 48,
   "metadata": {},
   "outputs": [
    {
     "data": {
      "text/plain": [
       "False"
      ]
     },
     "execution_count": 48,
     "metadata": {},
     "output_type": "execute_result"
    }
   ],
   "source": [
    "#check for nulls\n",
    "holdout.isnull().values.any()"
   ]
  },
  {
   "cell_type": "code",
   "execution_count": 49,
   "metadata": {},
   "outputs": [],
   "source": [
    "# perform one-hot encoding of the categorical data on 'JURIS_DESC','BORO_NM','LOC_OF_OCCUR_DESC',\n",
    "#'ADDR_PCT_CD','PREM_TYP_DESC','Day_Name','Month','Duration_lbl','Season','Daytime'\n",
    "tmp_df = pd.get_dummies(holdout.JURIS_DESC,prefix='JURIS_DESC')\n",
    "holdout = pd.concat((holdout,tmp_df),axis=1) # add back into the dataframe\n",
    "\n",
    "tmp_df = pd.get_dummies(holdout.BORO_NM,prefix='BORO_NM')\n",
    "holdout = pd.concat((holdout,tmp_df),axis=1) # add back into the dataframe\n",
    "\n",
    "tmp_df = pd.get_dummies(holdout.LOC_OF_OCCUR_DESC,prefix='LOC_OF_OCCUR_DESC')\n",
    "holdout = pd.concat((holdout,tmp_df),axis=1) # add back into the dataframe\n",
    "\n",
    "tmp_df = pd.get_dummies(holdout.ADDR_PCT_CD,prefix='ADDR_PCT_CD')\n",
    "holdout = pd.concat((holdout,tmp_df),axis=1) # add back into the dataframe\n",
    "\n",
    "tmp_df = pd.get_dummies(holdout.PREM_TYP_DESC,prefix='PREM_TYP_DESC')\n",
    "holdout = pd.concat((holdout,tmp_df),axis=1) # add back into the dataframe\n",
    "\n",
    "tmp_df = pd.get_dummies(holdout.Day_Name,prefix='Day_Name')\n",
    "holdout = pd.concat((holdout,tmp_df),axis=1) # add back into the dataframe\n",
    "\n",
    "tmp_df = pd.get_dummies(holdout.Month,prefix='Month')\n",
    "holdout = pd.concat((holdout,tmp_df),axis=1) # add back into the dataframe\n",
    "\n",
    "tmp_df = pd.get_dummies(holdout.Duration_lbl,prefix='Duration_lbl')\n",
    "holdout = pd.concat((holdout,tmp_df),axis=1) # add back into the dataframe\n",
    "\n",
    "tmp_df = pd.get_dummies(holdout.Season,prefix='Season')\n",
    "holdout = pd.concat((holdout,tmp_df),axis=1) # add back into the dataframe\n",
    "\n",
    "tmp_df = pd.get_dummies(holdout.Daytime,prefix='Daytime')\n",
    "holdout = pd.concat((holdout,tmp_df),axis=1) # add back into the dataframe"
   ]
  },
  {
   "cell_type": "code",
   "execution_count": 50,
   "metadata": {},
   "outputs": [],
   "source": [
    "#Now we drop the original variables\n",
    "if 'JURIS_DESC' in holdout:    \n",
    "    del holdout['JURIS_DESC'] # get rid of the original category as it is now one-hot encoded\n",
    "if 'BORO_NM' in holdout:    \n",
    "    del holdout['BORO_NM'] # get rid of the original category as it is now one-hot encoded\n",
    "if 'LOC_OF_OCCUR_DESC' in holdout:    \n",
    "    del holdout['LOC_OF_OCCUR_DESC'] # get rid of the original category as it is now one-hot encoded\n",
    "if 'ADDR_PCT_CD' in holdout:    \n",
    "    del holdout['ADDR_PCT_CD'] # get rid of the original category as it is now one-hot encoded\n",
    "if 'PREM_TYP_DESC' in holdout:    \n",
    "    del holdout['PREM_TYP_DESC'] # get rid of the original category as it is now one-hot encoded\n",
    "if 'Day_Name' in holdout:    \n",
    "    del holdout['Day_Name'] # get rid of the original category as it is now one-hot encoded\n",
    "if 'Month' in holdout:    \n",
    "    del holdout['Month'] # get rid of the original category as it is now one-hot encoded\n",
    "if 'Duration_lbl' in holdout:    \n",
    "    del holdout['Duration_lbl'] # get rid of the original category as it is now one-hot encoded\n",
    "if 'Season' in holdout:    \n",
    "    del holdout['Season'] # get rid of the original category as it is now one-hot encoded\n",
    "if 'Daytime' in holdout:    \n",
    "    del holdout['Daytime'] # get rid of the original category as it is now one-hot encoded"
   ]
  },
  {
   "cell_type": "code",
   "execution_count": 51,
   "metadata": {},
   "outputs": [],
   "source": [
    "#Now I want to pare down the variables - replicating the original adjustment cutting off at  |.03|%\n",
    "holdout = holdout[[ 'PREM_TYP_DESC_HIGHWAY/PARKWAY', 'BORO_NM_MANHATTAN', 'BORO_NM_QUEENS', 'GeoCell_X', 'Year',\n",
    "          'ADDR_PCT_CD_66.0', 'Day_Name_Saturday', 'LOC_OF_OCCUR_DESC_FRONT OF', 'PREM_TYP_DESC_PUBLIC BUILDING', \n",
    "          'PREM_TYP_DESC_RESIDENCE - PUBLIC HOUSING', 'PREM_TYP_DESC_RESIDENCE - APT. HOUSE', \n",
    "          'PREM_TYP_DESC_PUBLIC SCHOOL', 'Month_September', 'Duration', 'PREM_TYP_DESC_CONSTRUCTION SITE',\n",
    "          'Duration_lbl_Medium', 'PREM_TYP_DESC_CEMETERY', 'PREM_TYP_DESC_CHURCH', 'PREM_TYP_DESC_DOCTOR/DENTIST OFFICE',\n",
    "          'LOC_OF_OCCUR_DESC_INSIDE', 'LOC_OF_OCCUR_DESC_OPPOSITE OF', 'PREM_TYP_DESC_FERRY/FERRY TERMINAL',\n",
    "          'PREM_TYP_DESC_GROCERY/BODEGA', 'PREM_TYP_DESC_CLOTHING/BOUTIQUE', 'PREM_TYP_DESC_ATM', 'PREM_TYP_DESC_AIRPORT TERMINAL',  'PREM_TYP_DESC_TAXI/LIVERY (UNLICENSED)',  'PREM_TYP_DESC_STORAGE FACILITY', \n",
    "          'PREM_TYP_DESC_PARK/PLAYGROUND', 'PREM_TYP_DESC_SHOE', 'PREM_TYP_DESC_RESIDENCE-HOUSE', \n",
    "          'PREM_TYP_DESC_PARKING LOT/GARAGE (PRIVATE)', 'ADDR_PCT_CD_18.0', 'PREM_TYP_DESC_GAS STATION',\n",
    "          'Duration_lbl_Long', 'PREM_TYP_DESC_CHAIN STORE', 'PREM_TYP_DESC_TUNNEL', 'PREM_TYP_DESC_RESTAURANT/DINER',          'BORO_NM_BROOKLYN',  'PREM_TYP_DESC_JEWELRY',  'ADDR_PCT_CD_88.0',  'PREM_TYP_DESC_HOTEL/MOTEL', \n",
    "          'Season_Winter', 'PREM_TYP_DESC_FOOD SUPERMARKET', 'PREM_TYP_DESC_BOOK/CARD', 'PREM_TYP_DESC_FACTORY/WAREHOUSE',          'ADDR_PCT_CD_123.0',  'PREM_TYP_DESC_DRUG STORE',  'PREM_TYP_DESC_COMMERCIAL BUILDING', \n",
    "          'PREM_TYP_DESC_TAXI (LIVERY LICENSED)', 'ADDR_PCT_CD_111.0', 'ADDR_PCT_CD_5.0', 'ADDR_PCT_CD_7.0', \n",
    "          'ADDR_PCT_CD_110.0', 'ADDR_PCT_CD_9.0','y']]"
   ]
  },
  {
   "cell_type": "code",
   "execution_count": 52,
   "metadata": {},
   "outputs": [
    {
     "data": {
      "text/html": [
       "<div>\n",
       "<style scoped>\n",
       "    .dataframe tbody tr th:only-of-type {\n",
       "        vertical-align: middle;\n",
       "    }\n",
       "\n",
       "    .dataframe tbody tr th {\n",
       "        vertical-align: top;\n",
       "    }\n",
       "\n",
       "    .dataframe thead th {\n",
       "        text-align: right;\n",
       "    }\n",
       "</style>\n",
       "<table border=\"1\" class=\"dataframe\">\n",
       "  <thead>\n",
       "    <tr style=\"text-align: right;\">\n",
       "      <th></th>\n",
       "      <th>PREM_TYP_DESC_HIGHWAY/PARKWAY</th>\n",
       "      <th>BORO_NM_MANHATTAN</th>\n",
       "      <th>BORO_NM_QUEENS</th>\n",
       "      <th>GeoCell_X</th>\n",
       "      <th>Year</th>\n",
       "      <th>ADDR_PCT_CD_66.0</th>\n",
       "      <th>Day_Name_Saturday</th>\n",
       "      <th>LOC_OF_OCCUR_DESC_FRONT OF</th>\n",
       "      <th>PREM_TYP_DESC_PUBLIC BUILDING</th>\n",
       "      <th>PREM_TYP_DESC_RESIDENCE - PUBLIC HOUSING</th>\n",
       "      <th>...</th>\n",
       "      <th>ADDR_PCT_CD_123.0</th>\n",
       "      <th>PREM_TYP_DESC_DRUG STORE</th>\n",
       "      <th>PREM_TYP_DESC_COMMERCIAL BUILDING</th>\n",
       "      <th>PREM_TYP_DESC_TAXI (LIVERY LICENSED)</th>\n",
       "      <th>ADDR_PCT_CD_111.0</th>\n",
       "      <th>ADDR_PCT_CD_5.0</th>\n",
       "      <th>ADDR_PCT_CD_7.0</th>\n",
       "      <th>ADDR_PCT_CD_110.0</th>\n",
       "      <th>ADDR_PCT_CD_9.0</th>\n",
       "      <th>y</th>\n",
       "    </tr>\n",
       "  </thead>\n",
       "  <tbody>\n",
       "    <tr>\n",
       "      <th>0</th>\n",
       "      <td>0</td>\n",
       "      <td>0</td>\n",
       "      <td>0</td>\n",
       "      <td>7.0</td>\n",
       "      <td>2015.0</td>\n",
       "      <td>0</td>\n",
       "      <td>0</td>\n",
       "      <td>0</td>\n",
       "      <td>0</td>\n",
       "      <td>0</td>\n",
       "      <td>...</td>\n",
       "      <td>0</td>\n",
       "      <td>0</td>\n",
       "      <td>0</td>\n",
       "      <td>0</td>\n",
       "      <td>0</td>\n",
       "      <td>0</td>\n",
       "      <td>0</td>\n",
       "      <td>0</td>\n",
       "      <td>0</td>\n",
       "      <td>0</td>\n",
       "    </tr>\n",
       "    <tr>\n",
       "      <th>1</th>\n",
       "      <td>0</td>\n",
       "      <td>1</td>\n",
       "      <td>0</td>\n",
       "      <td>6.0</td>\n",
       "      <td>2014.0</td>\n",
       "      <td>0</td>\n",
       "      <td>0</td>\n",
       "      <td>0</td>\n",
       "      <td>0</td>\n",
       "      <td>1</td>\n",
       "      <td>...</td>\n",
       "      <td>0</td>\n",
       "      <td>0</td>\n",
       "      <td>0</td>\n",
       "      <td>0</td>\n",
       "      <td>0</td>\n",
       "      <td>0</td>\n",
       "      <td>0</td>\n",
       "      <td>0</td>\n",
       "      <td>1</td>\n",
       "      <td>0</td>\n",
       "    </tr>\n",
       "    <tr>\n",
       "      <th>2</th>\n",
       "      <td>0</td>\n",
       "      <td>0</td>\n",
       "      <td>0</td>\n",
       "      <td>6.0</td>\n",
       "      <td>2014.0</td>\n",
       "      <td>0</td>\n",
       "      <td>0</td>\n",
       "      <td>0</td>\n",
       "      <td>0</td>\n",
       "      <td>0</td>\n",
       "      <td>...</td>\n",
       "      <td>0</td>\n",
       "      <td>0</td>\n",
       "      <td>0</td>\n",
       "      <td>0</td>\n",
       "      <td>0</td>\n",
       "      <td>0</td>\n",
       "      <td>0</td>\n",
       "      <td>0</td>\n",
       "      <td>0</td>\n",
       "      <td>0</td>\n",
       "    </tr>\n",
       "    <tr>\n",
       "      <th>3</th>\n",
       "      <td>0</td>\n",
       "      <td>0</td>\n",
       "      <td>1</td>\n",
       "      <td>9.0</td>\n",
       "      <td>2014.0</td>\n",
       "      <td>0</td>\n",
       "      <td>0</td>\n",
       "      <td>1</td>\n",
       "      <td>0</td>\n",
       "      <td>0</td>\n",
       "      <td>...</td>\n",
       "      <td>0</td>\n",
       "      <td>0</td>\n",
       "      <td>0</td>\n",
       "      <td>0</td>\n",
       "      <td>0</td>\n",
       "      <td>0</td>\n",
       "      <td>0</td>\n",
       "      <td>0</td>\n",
       "      <td>0</td>\n",
       "      <td>0</td>\n",
       "    </tr>\n",
       "    <tr>\n",
       "      <th>4</th>\n",
       "      <td>0</td>\n",
       "      <td>0</td>\n",
       "      <td>1</td>\n",
       "      <td>8.0</td>\n",
       "      <td>2014.0</td>\n",
       "      <td>0</td>\n",
       "      <td>0</td>\n",
       "      <td>0</td>\n",
       "      <td>0</td>\n",
       "      <td>0</td>\n",
       "      <td>...</td>\n",
       "      <td>0</td>\n",
       "      <td>0</td>\n",
       "      <td>0</td>\n",
       "      <td>0</td>\n",
       "      <td>0</td>\n",
       "      <td>0</td>\n",
       "      <td>0</td>\n",
       "      <td>0</td>\n",
       "      <td>0</td>\n",
       "      <td>1</td>\n",
       "    </tr>\n",
       "  </tbody>\n",
       "</table>\n",
       "<p>5 rows × 56 columns</p>\n",
       "</div>"
      ],
      "text/plain": [
       "   PREM_TYP_DESC_HIGHWAY/PARKWAY  BORO_NM_MANHATTAN  BORO_NM_QUEENS  \\\n",
       "0                              0                  0               0   \n",
       "1                              0                  1               0   \n",
       "2                              0                  0               0   \n",
       "3                              0                  0               1   \n",
       "4                              0                  0               1   \n",
       "\n",
       "   GeoCell_X    Year  ADDR_PCT_CD_66.0  Day_Name_Saturday  \\\n",
       "0        7.0  2015.0                 0                  0   \n",
       "1        6.0  2014.0                 0                  0   \n",
       "2        6.0  2014.0                 0                  0   \n",
       "3        9.0  2014.0                 0                  0   \n",
       "4        8.0  2014.0                 0                  0   \n",
       "\n",
       "   LOC_OF_OCCUR_DESC_FRONT OF  PREM_TYP_DESC_PUBLIC BUILDING  \\\n",
       "0                           0                              0   \n",
       "1                           0                              0   \n",
       "2                           0                              0   \n",
       "3                           1                              0   \n",
       "4                           0                              0   \n",
       "\n",
       "   PREM_TYP_DESC_RESIDENCE - PUBLIC HOUSING  ...  ADDR_PCT_CD_123.0  \\\n",
       "0                                         0  ...                  0   \n",
       "1                                         1  ...                  0   \n",
       "2                                         0  ...                  0   \n",
       "3                                         0  ...                  0   \n",
       "4                                         0  ...                  0   \n",
       "\n",
       "   PREM_TYP_DESC_DRUG STORE  PREM_TYP_DESC_COMMERCIAL BUILDING  \\\n",
       "0                         0                                  0   \n",
       "1                         0                                  0   \n",
       "2                         0                                  0   \n",
       "3                         0                                  0   \n",
       "4                         0                                  0   \n",
       "\n",
       "   PREM_TYP_DESC_TAXI (LIVERY LICENSED)  ADDR_PCT_CD_111.0  ADDR_PCT_CD_5.0  \\\n",
       "0                                     0                  0                0   \n",
       "1                                     0                  0                0   \n",
       "2                                     0                  0                0   \n",
       "3                                     0                  0                0   \n",
       "4                                     0                  0                0   \n",
       "\n",
       "   ADDR_PCT_CD_7.0  ADDR_PCT_CD_110.0  ADDR_PCT_CD_9.0  y  \n",
       "0                0                  0                0  0  \n",
       "1                0                  0                1  0  \n",
       "2                0                  0                0  0  \n",
       "3                0                  0                0  0  \n",
       "4                0                  0                0  1  \n",
       "\n",
       "[5 rows x 56 columns]"
      ]
     },
     "execution_count": 52,
     "metadata": {},
     "output_type": "execute_result"
    }
   ],
   "source": [
    "holdout.head()"
   ]
  },
  {
   "cell_type": "code",
   "execution_count": 53,
   "metadata": {},
   "outputs": [],
   "source": [
    "from sklearn.model_selection import ShuffleSplit\n",
    "\n",
    "# we want to predict the X and y data as follows:\n",
    "if 'y' in holdout:\n",
    "    y = holdout['y'].values # get the labels we want\n",
    "    del holdout['y'] # get rid of the class label\n",
    "    X = holdout.values # use everything else to predict!\n",
    "\n",
    "    ## X and y are now numpy matrices, by calling 'values' on the pandas data frames we\n",
    "    #    have converted them into simple matrices to use with scikit learn"
   ]
  },
  {
   "cell_type": "code",
   "execution_count": 54,
   "metadata": {},
   "outputs": [
    {
     "name": "stdout",
     "output_type": "stream",
     "text": [
      "accuracy: 0.6703934381594173\n",
      "[[25458 15110]\n",
      " [ 4259 13937]]\n"
     ]
    }
   ],
   "source": [
    "from sklearn.preprocessing import StandardScaler\n",
    "\n",
    "#scl_obj = StandardScaler()\n",
    "\n",
    "holdout_test_scaled = scl_obj.transform(X) # apply those means and std to the test set (without snooping at the test set values)\n",
    "\n",
    "y_holdout_hat = lr_clf.predict(holdout_test_scaled) # get test set precitions\n",
    "\n",
    "acc = mt.accuracy_score(y,y_holdout_hat)\n",
    "conf = mt.confusion_matrix(y,y_holdout_hat)\n",
    "print('accuracy:', acc )\n",
    "print(conf )"
   ]
  },
  {
   "cell_type": "code",
   "execution_count": 55,
   "metadata": {},
   "outputs": [
    {
     "name": "stdout",
     "output_type": "stream",
     "text": [
      "              precision    recall  f1-score   support\n",
      "\n",
      "           0       0.86      0.63      0.72     40568\n",
      "           1       0.48      0.77      0.59     18196\n",
      "\n",
      "    accuracy                           0.67     58764\n",
      "   macro avg       0.67      0.70      0.66     58764\n",
      "weighted avg       0.74      0.67      0.68     58764\n",
      "\n"
     ]
    }
   ],
   "source": [
    "#Compute precision, recall, F-measure and support\n",
    "from sklearn.metrics import *\n",
    "print(classification_report(y,y_holdout_hat))"
   ]
  },
  {
   "cell_type": "markdown",
   "metadata": {},
   "source": [
    "We compared the test, training and holdout variable metrics to evaluation overall model performance\n",
    "\n",
    "|Metric|Training/Test Set|Holdout Set|\n",
    "|---|:-:|:-:|\n",
    "|Accuracy|70%|67%|\n",
    "|Precision|70%|67%|\n",
    "Recall|70%|70%|"
   ]
  },
  {
   "cell_type": "markdown",
   "metadata": {},
   "source": [
    "### Model 2, Random Forest - Pros and Cons"
   ]
  },
  {
   "cell_type": "code",
   "execution_count": null,
   "metadata": {},
   "outputs": [],
   "source": []
  }
 ],
 "metadata": {
  "kernelspec": {
   "display_name": "Python 3",
   "language": "python",
   "name": "python3"
  },
  "language_info": {
   "codemirror_mode": {
    "name": "ipython",
    "version": 3
   },
   "file_extension": ".py",
   "mimetype": "text/x-python",
   "name": "python",
   "nbconvert_exporter": "python",
   "pygments_lexer": "ipython3",
   "version": "3.8.5"
  }
 },
 "nbformat": 4,
 "nbformat_minor": 2
}
