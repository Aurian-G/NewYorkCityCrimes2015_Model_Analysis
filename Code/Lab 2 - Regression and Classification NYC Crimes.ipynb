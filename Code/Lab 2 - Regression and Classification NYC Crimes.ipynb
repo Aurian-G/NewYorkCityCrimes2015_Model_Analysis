{
 "cells": [
  {
   "cell_type": "markdown",
   "metadata": {},
   "source": [
    "# Team Members:\n",
    "\n",
    "- Brian Gaither\n",
    "- Sabrina Purvis\n",
    "- Andrew Larsen\n",
    "- Aurian Ghaemmaghami"
   ]
  },
  {
   "cell_type": "markdown",
   "metadata": {},
   "source": [
    "# Overview\n",
    "\n",
    "This notebook is organized in sections by Model.  There are two tasks. Task 1 is regression and Task 2 is Classification.  There are three models per task.\n",
    "\n",
    "For each Model in each Task, we will walk the reader through the various phases of this deliverable: Data Preparation,  Modeling and Evaluation\n",
    "\n",
    "<a id=\"top\"></a>\n",
    "## Contents\n",
    "* **<a href=\"#task1\">Task 1 - Regression</a>**\n",
    "    - <a href=\"#task1Model1\">Model 1 - KNN</a>\n",
    "    - <a href=\"#task1Model2\">Model 2 - Logistic Regression</a>\n",
    "    - <a href=\"#task1Model3\">Model 3 - Random Forest Regression</a>\n",
    "    - <a href=\"#task1Compare\">Task 1 - Comparing the Three Models</a>\n",
    "    - <a href=\"#task1Attributes\">Task 1 - Important Attributes</a>\n",
    "    - <a href=\"#task1Deployment\">Task 1 - Deployment</a>\n",
    "* **<a href=\"#task2\">Task 2 - Classification</a>**\n",
    "    - <a href=\"#task2Model1\">Model 1 - Random Forest (Approach 1)</a>\n",
    "    - <a href=\"#task2Model2\">Model 2 - Logistic Regression</a>\n",
    "    - <a href=\"#task2Model3\">Model 3 - Random Forest (Approach 2)</a>\n",
    "    - <a href=\"#task2Compare\">Task 2 - Comparing the Three Models</a>\n",
    "    - <a href=\"#task2Attributes\">Task 2 - Important Attributes</a>\n",
    "    - <a href=\"#task2Deployment\">Task 2 - Deployment</a>\n",
    "* **<a href=\"#Exceptional\">Exceptional Work</a>**\n"
   ]
  },
  {
   "cell_type": "markdown",
   "metadata": {},
   "source": [
    "<a href=\"#top\">Back to Top</a>\n",
    "<a id=\"task1\"></a>\n",
    "# Task 1 - Regression\n",
    "\n",
    "The regression task is aiming to predict the volume of crime on a given day, for a given time period of the day (Early Morning, Morning, Day, Afternoon, etc...) by location."
   ]
  },
  {
   "cell_type": "markdown",
   "metadata": {},
   "source": [
    "<a href=\"#top\">Back to Top</a>\n",
    "<a id=\"task1Model1\"></a>\n",
    "## Task 1 - Regression - Model 1 - KNN"
   ]
  },
  {
   "cell_type": "code",
   "execution_count": null,
   "metadata": {},
   "outputs": [],
   "source": [
    "import pandas as pd\n",
    "import numpy as np\n",
    "import matplotlib.pyplot as plt\n",
    "from statsmodels.nonparametric.smoothers_lowess import lowess\n",
    "from matplotlib.dates import DayLocator, MonthLocator, DateFormatter, drange\n",
    "import seaborn as sns"
   ]
  },
  {
   "cell_type": "markdown",
   "metadata": {},
   "source": [
    "## Data Preparation Part 1"
   ]
  },
  {
   "cell_type": "markdown",
   "metadata": {},
   "source": [
    "Here, we read in the data and parse the CMPLNT_FR_DT variable as datetime."
   ]
  },
  {
   "cell_type": "code",
   "execution_count": 4,
   "metadata": {},
   "outputs": [],
   "source": [
    "df = pd.read_csv('/home/drew/School/Semester4/ML1/NewYorkCityCrimes2015/Data/Lab2_Daily_Crime_Volume_Data/Training_and_Test_Set.csv',\n",
    "                parse_dates = ['CMPLNT_FR_DT'])"
   ]
  },
  {
   "cell_type": "markdown",
   "metadata": {},
   "source": [
    "As you can see below, there are many variables that are non-numeric. KNN accepts only numeric variables, so we must do some pre-processing in order to use these variables in our model."
   ]
  },
  {
   "cell_type": "code",
   "execution_count": 4,
   "metadata": {
    "scrolled": true
   },
   "outputs": [
    {
     "data": {
      "text/html": [
       "<div>\n",
       "<style scoped>\n",
       "    .dataframe tbody tr th:only-of-type {\n",
       "        vertical-align: middle;\n",
       "    }\n",
       "\n",
       "    .dataframe tbody tr th {\n",
       "        vertical-align: top;\n",
       "    }\n",
       "\n",
       "    .dataframe thead th {\n",
       "        text-align: right;\n",
       "    }\n",
       "</style>\n",
       "<table border=\"1\" class=\"dataframe\">\n",
       "  <thead>\n",
       "    <tr style=\"text-align: right;\">\n",
       "      <th></th>\n",
       "      <th>CMPLNT_FR_DT</th>\n",
       "      <th>Daytime</th>\n",
       "      <th>Day_Name</th>\n",
       "      <th>Month</th>\n",
       "      <th>Day</th>\n",
       "      <th>Year</th>\n",
       "      <th>Season</th>\n",
       "      <th>GeoCell</th>\n",
       "      <th>BORO_NM</th>\n",
       "      <th>PRCP</th>\n",
       "      <th>...</th>\n",
       "      <th>TMIN</th>\n",
       "      <th>TMAX</th>\n",
       "      <th>Population</th>\n",
       "      <th>PC_INCOME</th>\n",
       "      <th>Hm_Sls_Price_Range</th>\n",
       "      <th>Holiday</th>\n",
       "      <th>Event</th>\n",
       "      <th>is_Holiday</th>\n",
       "      <th>is_Event</th>\n",
       "      <th>count_cmplnt</th>\n",
       "    </tr>\n",
       "  </thead>\n",
       "  <tbody>\n",
       "    <tr>\n",
       "      <th>0</th>\n",
       "      <td>2014-11-26</td>\n",
       "      <td>Morning</td>\n",
       "      <td>Wednesday</td>\n",
       "      <td>November</td>\n",
       "      <td>26.0</td>\n",
       "      <td>2014.0</td>\n",
       "      <td>Fall</td>\n",
       "      <td>66.0</td>\n",
       "      <td>QUEENS</td>\n",
       "      <td>1.24</td>\n",
       "      <td>...</td>\n",
       "      <td>34</td>\n",
       "      <td>51</td>\n",
       "      <td>2,250,002</td>\n",
       "      <td>40997</td>\n",
       "      <td>Medium</td>\n",
       "      <td>NaN</td>\n",
       "      <td>NaN</td>\n",
       "      <td>0</td>\n",
       "      <td>0</td>\n",
       "      <td>1</td>\n",
       "    </tr>\n",
       "    <tr>\n",
       "      <th>1</th>\n",
       "      <td>2014-12-01</td>\n",
       "      <td>Late Night</td>\n",
       "      <td>Monday</td>\n",
       "      <td>December</td>\n",
       "      <td>1.0</td>\n",
       "      <td>2014.0</td>\n",
       "      <td>Winter</td>\n",
       "      <td>60.0</td>\n",
       "      <td>QUEENS</td>\n",
       "      <td>0.09</td>\n",
       "      <td>...</td>\n",
       "      <td>42</td>\n",
       "      <td>65</td>\n",
       "      <td>2,250,002</td>\n",
       "      <td>40997</td>\n",
       "      <td>Medium</td>\n",
       "      <td>NaN</td>\n",
       "      <td>NaN</td>\n",
       "      <td>0</td>\n",
       "      <td>0</td>\n",
       "      <td>1</td>\n",
       "    </tr>\n",
       "    <tr>\n",
       "      <th>2</th>\n",
       "      <td>2015-11-10</td>\n",
       "      <td>Morning</td>\n",
       "      <td>Tuesday</td>\n",
       "      <td>November</td>\n",
       "      <td>10.0</td>\n",
       "      <td>2015.0</td>\n",
       "      <td>Fall</td>\n",
       "      <td>15.0</td>\n",
       "      <td>BROOKLYN</td>\n",
       "      <td>0.26</td>\n",
       "      <td>...</td>\n",
       "      <td>51</td>\n",
       "      <td>57</td>\n",
       "      <td>2,552,911</td>\n",
       "      <td>43915</td>\n",
       "      <td>High</td>\n",
       "      <td>NaN</td>\n",
       "      <td>NaN</td>\n",
       "      <td>0</td>\n",
       "      <td>0</td>\n",
       "      <td>2</td>\n",
       "    </tr>\n",
       "    <tr>\n",
       "      <th>3</th>\n",
       "      <td>2014-02-04</td>\n",
       "      <td>Morning</td>\n",
       "      <td>Tuesday</td>\n",
       "      <td>February</td>\n",
       "      <td>4.0</td>\n",
       "      <td>2014.0</td>\n",
       "      <td>Winter</td>\n",
       "      <td>48.0</td>\n",
       "      <td>QUEENS</td>\n",
       "      <td>0.00</td>\n",
       "      <td>...</td>\n",
       "      <td>22</td>\n",
       "      <td>35</td>\n",
       "      <td>2,250,002</td>\n",
       "      <td>40997</td>\n",
       "      <td>Medium</td>\n",
       "      <td>NaN</td>\n",
       "      <td>NaN</td>\n",
       "      <td>0</td>\n",
       "      <td>0</td>\n",
       "      <td>3</td>\n",
       "    </tr>\n",
       "    <tr>\n",
       "      <th>4</th>\n",
       "      <td>2015-08-25</td>\n",
       "      <td>Late Night</td>\n",
       "      <td>Tuesday</td>\n",
       "      <td>August</td>\n",
       "      <td>25.0</td>\n",
       "      <td>2015.0</td>\n",
       "      <td>Summer</td>\n",
       "      <td>35.0</td>\n",
       "      <td>BROOKLYN</td>\n",
       "      <td>0.00</td>\n",
       "      <td>...</td>\n",
       "      <td>73</td>\n",
       "      <td>90</td>\n",
       "      <td>2,552,911</td>\n",
       "      <td>43915</td>\n",
       "      <td>High</td>\n",
       "      <td>NaN</td>\n",
       "      <td>NaN</td>\n",
       "      <td>0</td>\n",
       "      <td>0</td>\n",
       "      <td>1</td>\n",
       "    </tr>\n",
       "    <tr>\n",
       "      <th>5</th>\n",
       "      <td>2014-09-03</td>\n",
       "      <td>Morning</td>\n",
       "      <td>Wednesday</td>\n",
       "      <td>September</td>\n",
       "      <td>3.0</td>\n",
       "      <td>2014.0</td>\n",
       "      <td>Fall</td>\n",
       "      <td>23.0</td>\n",
       "      <td>STATEN ISLAND</td>\n",
       "      <td>0.00</td>\n",
       "      <td>...</td>\n",
       "      <td>72</td>\n",
       "      <td>86</td>\n",
       "      <td>468,730</td>\n",
       "      <td>48123</td>\n",
       "      <td>Low</td>\n",
       "      <td>NaN</td>\n",
       "      <td>US Open Tennis</td>\n",
       "      <td>0</td>\n",
       "      <td>1</td>\n",
       "      <td>1</td>\n",
       "    </tr>\n",
       "    <tr>\n",
       "      <th>6</th>\n",
       "      <td>2015-09-17</td>\n",
       "      <td>Morning</td>\n",
       "      <td>Thursday</td>\n",
       "      <td>September</td>\n",
       "      <td>17.0</td>\n",
       "      <td>2015.0</td>\n",
       "      <td>Fall</td>\n",
       "      <td>49.0</td>\n",
       "      <td>QUEENS</td>\n",
       "      <td>0.00</td>\n",
       "      <td>...</td>\n",
       "      <td>68</td>\n",
       "      <td>89</td>\n",
       "      <td>2,250,002</td>\n",
       "      <td>44031</td>\n",
       "      <td>Medium</td>\n",
       "      <td>NaN</td>\n",
       "      <td>New York Boat Show</td>\n",
       "      <td>0</td>\n",
       "      <td>1</td>\n",
       "      <td>7</td>\n",
       "    </tr>\n",
       "    <tr>\n",
       "      <th>7</th>\n",
       "      <td>2015-01-29</td>\n",
       "      <td>Morning</td>\n",
       "      <td>Thursday</td>\n",
       "      <td>January</td>\n",
       "      <td>29.0</td>\n",
       "      <td>2015.0</td>\n",
       "      <td>Winter</td>\n",
       "      <td>35.0</td>\n",
       "      <td>BROOKLYN</td>\n",
       "      <td>0.02</td>\n",
       "      <td>...</td>\n",
       "      <td>19</td>\n",
       "      <td>36</td>\n",
       "      <td>2,552,911</td>\n",
       "      <td>43915</td>\n",
       "      <td>High</td>\n",
       "      <td>NaN</td>\n",
       "      <td>NaN</td>\n",
       "      <td>0</td>\n",
       "      <td>0</td>\n",
       "      <td>5</td>\n",
       "    </tr>\n",
       "    <tr>\n",
       "      <th>8</th>\n",
       "      <td>2015-03-12</td>\n",
       "      <td>Evening</td>\n",
       "      <td>Thursday</td>\n",
       "      <td>March</td>\n",
       "      <td>12.0</td>\n",
       "      <td>2015.0</td>\n",
       "      <td>Spring</td>\n",
       "      <td>67.0</td>\n",
       "      <td>QUEENS</td>\n",
       "      <td>0.00</td>\n",
       "      <td>...</td>\n",
       "      <td>36</td>\n",
       "      <td>47</td>\n",
       "      <td>2,250,002</td>\n",
       "      <td>44031</td>\n",
       "      <td>Medium</td>\n",
       "      <td>NaN</td>\n",
       "      <td>NaN</td>\n",
       "      <td>0</td>\n",
       "      <td>0</td>\n",
       "      <td>1</td>\n",
       "    </tr>\n",
       "    <tr>\n",
       "      <th>9</th>\n",
       "      <td>2014-06-23</td>\n",
       "      <td>Late Night</td>\n",
       "      <td>Monday</td>\n",
       "      <td>June</td>\n",
       "      <td>23.0</td>\n",
       "      <td>2014.0</td>\n",
       "      <td>Summer</td>\n",
       "      <td>48.0</td>\n",
       "      <td>QUEENS</td>\n",
       "      <td>0.00</td>\n",
       "      <td>...</td>\n",
       "      <td>65</td>\n",
       "      <td>81</td>\n",
       "      <td>2,250,002</td>\n",
       "      <td>40997</td>\n",
       "      <td>Medium</td>\n",
       "      <td>NaN</td>\n",
       "      <td>NaN</td>\n",
       "      <td>0</td>\n",
       "      <td>0</td>\n",
       "      <td>3</td>\n",
       "    </tr>\n",
       "  </tbody>\n",
       "</table>\n",
       "<p>10 rows × 21 columns</p>\n",
       "</div>"
      ],
      "text/plain": [
       "  CMPLNT_FR_DT     Daytime   Day_Name      Month   Day    Year  Season  \\\n",
       "0   2014-11-26     Morning  Wednesday   November  26.0  2014.0    Fall   \n",
       "1   2014-12-01  Late Night     Monday   December   1.0  2014.0  Winter   \n",
       "2   2015-11-10     Morning    Tuesday   November  10.0  2015.0    Fall   \n",
       "3   2014-02-04     Morning    Tuesday   February   4.0  2014.0  Winter   \n",
       "4   2015-08-25  Late Night    Tuesday     August  25.0  2015.0  Summer   \n",
       "5   2014-09-03     Morning  Wednesday  September   3.0  2014.0    Fall   \n",
       "6   2015-09-17     Morning   Thursday  September  17.0  2015.0    Fall   \n",
       "7   2015-01-29     Morning   Thursday    January  29.0  2015.0  Winter   \n",
       "8   2015-03-12     Evening   Thursday      March  12.0  2015.0  Spring   \n",
       "9   2014-06-23  Late Night     Monday       June  23.0  2014.0  Summer   \n",
       "\n",
       "   GeoCell        BORO_NM  PRCP  ...  TMIN  TMAX  Population PC_INCOME  \\\n",
       "0     66.0         QUEENS  1.24  ...    34    51   2,250,002     40997   \n",
       "1     60.0         QUEENS  0.09  ...    42    65   2,250,002     40997   \n",
       "2     15.0       BROOKLYN  0.26  ...    51    57   2,552,911     43915   \n",
       "3     48.0         QUEENS  0.00  ...    22    35   2,250,002     40997   \n",
       "4     35.0       BROOKLYN  0.00  ...    73    90   2,552,911     43915   \n",
       "5     23.0  STATEN ISLAND  0.00  ...    72    86     468,730     48123   \n",
       "6     49.0         QUEENS  0.00  ...    68    89   2,250,002     44031   \n",
       "7     35.0       BROOKLYN  0.02  ...    19    36   2,552,911     43915   \n",
       "8     67.0         QUEENS  0.00  ...    36    47   2,250,002     44031   \n",
       "9     48.0         QUEENS  0.00  ...    65    81   2,250,002     40997   \n",
       "\n",
       "   Hm_Sls_Price_Range Holiday               Event is_Holiday  is_Event  \\\n",
       "0              Medium     NaN                 NaN          0         0   \n",
       "1              Medium     NaN                 NaN          0         0   \n",
       "2                High     NaN                 NaN          0         0   \n",
       "3              Medium     NaN                 NaN          0         0   \n",
       "4                High     NaN                 NaN          0         0   \n",
       "5                 Low     NaN      US Open Tennis          0         1   \n",
       "6              Medium     NaN  New York Boat Show          0         1   \n",
       "7                High     NaN                 NaN          0         0   \n",
       "8              Medium     NaN                 NaN          0         0   \n",
       "9              Medium     NaN                 NaN          0         0   \n",
       "\n",
       "   count_cmplnt  \n",
       "0             1  \n",
       "1             1  \n",
       "2             2  \n",
       "3             3  \n",
       "4             1  \n",
       "5             1  \n",
       "6             7  \n",
       "7             5  \n",
       "8             1  \n",
       "9             3  \n",
       "\n",
       "[10 rows x 21 columns]"
      ]
     },
     "execution_count": 4,
     "metadata": {},
     "output_type": "execute_result"
    }
   ],
   "source": [
    "df.head(10)"
   ]
  },
  {
   "cell_type": "markdown",
   "metadata": {},
   "source": [
    "Our Day_Name variable was built off of the CMPLNT_FR_DT variable. In order to turn that variable into a numeric variable, we simply use the dt.dayofweek function from pandas in order to change \"Monday\" to 0, \"Tuesday\" to 1 etc. "
   ]
  },
  {
   "cell_type": "code",
   "execution_count": 6,
   "metadata": {},
   "outputs": [],
   "source": [
    "df['DayOfWeek'] = df['CMPLNT_FR_DT'].dt.dayofweek"
   ]
  },
  {
   "cell_type": "markdown",
   "metadata": {},
   "source": [
    "Similar to the dayofweek function, dt.month turns January into 1, February into 2, etc. We use this function to change our Month variable into a numeric variable. "
   ]
  },
  {
   "cell_type": "code",
   "execution_count": 7,
   "metadata": {},
   "outputs": [],
   "source": [
    "df['Month_No'] = df['CMPLNT_FR_DT'].dt.month\n",
    "df_Crime = df"
   ]
  },
  {
   "cell_type": "markdown",
   "metadata": {},
   "source": [
    "As you can see in the plot below, there does seem to be a temporal dependence of number of crimes. Crimes seem to peak in the summer and drop in the winter. We encode this temporal dependence as numeric variables identifying the month, the year and the day. "
   ]
  },
  {
   "cell_type": "code",
   "execution_count": 7,
   "metadata": {},
   "outputs": [
    {
     "data": {
      "image/png": "[encoded data removed]",
      "text/plain": [
       "<Figure size 432x288 with 1 Axes>"
      ]
     },
     "metadata": {
      "needs_background": "light"
     },
     "output_type": "display_data"
    }
   ],
   "source": [
    "df_Crime['CMPLNT_FR_DT'] = pd.to_datetime(df_Crime['CMPLNT_FR_DT'], format = '%m/%d/%Y')\n",
    "crimeByDate = df_Crime.groupby('CMPLNT_FR_DT')['count_cmplnt'].sum().reset_index()\n",
    "fig, ax = plt.subplots()\n",
    "plt.xlabel('Date of Crime')\n",
    "plt.ylabel('Number of Crimes')\n",
    "plt.grid(True)\n",
    "plt.ylim(-5, 2000)\n",
    "plt.title('Number of Crimes per Date in NYC with LOWESS Curve')\n",
    "plt.plot_date(crimeByDate['CMPLNT_FR_DT'], crimeByDate['count_cmplnt'])\n",
    "plt.plot_date(crimeByDate['CMPLNT_FR_DT'],lowess(crimeByDate['count_cmplnt'],crimeByDate['CMPLNT_FR_DT'], frac = .25))\n",
    "ax.xaxis.set_tick_params(rotation=45, labelsize=10)\n",
    "ax.xaxis.set_major_formatter(DateFormatter('%m/%Y'))\n",
    "plt.show()"
   ]
  },
  {
   "cell_type": "markdown",
   "metadata": {},
   "source": [
    "As you can see in the plot below, there does seem to be a dependence of number of crimes on the burough. Borough is categorical, but we have 3 numeric variables that correspond to the borough: Population, Hm_Sls_Price_Range and PC_INCOME, so we only need one of these variables in our final model. The population variable was chosen due to the ease of turning this variable into numeric, though we could have used any other variable listed above. "
   ]
  },
  {
   "cell_type": "code",
   "execution_count": 8,
   "metadata": {
    "scrolled": true
   },
   "outputs": [
    {
     "data": {
      "image/png": "[encoded data removed]",
      "text/plain": [
       "<Figure size 432x288 with 1 Axes>"
      ]
     },
     "metadata": {
      "needs_background": "light"
     },
     "output_type": "display_data"
    }
   ],
   "source": [
    "borodf = df_Crime.groupby('BORO_NM')['count_cmplnt'].sum().reset_index()\n",
    "fig, ax = plt.subplots()\n",
    "plt.xlabel('Borough')\n",
    "plt.ylabel('Number of Crimes')\n",
    "plt.title('Total Crimes per Borough over 2014 - 2015')\n",
    "plt.bar(borodf['BORO_NM'], borodf['count_cmplnt']);"
   ]
  },
  {
   "cell_type": "markdown",
   "metadata": {},
   "source": [
    "The time of day does look to have some influence on the number of crimes as well, with evening and day time seeming to have the most crimes, although morning and night have the 4 largest count_cmplnts. "
   ]
  },
  {
   "cell_type": "code",
   "execution_count": 9,
   "metadata": {},
   "outputs": [
    {
     "data": {
      "image/png": "[encoded data removed]",
      "text/plain": [
       "<Figure size 432x288 with 1 Axes>"
      ]
     },
     "metadata": {
      "needs_background": "light"
     },
     "output_type": "display_data"
    }
   ],
   "source": [
    "ax = sns.boxplot(x=\"Daytime\", y=\"count_cmplnt\", data=df_Crime)\n",
    "ax.set_title(\"Boxplot of Number of Crimes Crime by Daytime\");"
   ]
  },
  {
   "cell_type": "markdown",
   "metadata": {},
   "source": [
    "Below is a graph of the total crimes per day of the week over 2014 - 2015. The most crimes occur on Friday, and the fewest crimes occur on Sunday. There isn't a large difference between the individual days of the week, but there may be enough difference between Friday and Sunday to have an impact on our models. "
   ]
  },
  {
   "cell_type": "code",
   "execution_count": 10,
   "metadata": {},
   "outputs": [
    {
     "data": {
      "image/png": "[encoded data removed]",
      "text/plain": [
       "<Figure size 432x288 with 1 Axes>"
      ]
     },
     "metadata": {
      "needs_background": "light"
     },
     "output_type": "display_data"
    }
   ],
   "source": [
    "dowdf = df_Crime.groupby('DayOfWeek')['count_cmplnt'].sum().reset_index()\n",
    "fig, ax = plt.subplots()\n",
    "plt.xlabel('Day of Week')\n",
    "plt.ylabel('Number of Crimes')\n",
    "plt.title('Total Crimes per Day of Week over 2014 - 2015')\n",
    "plt.bar(dowdf['DayOfWeek'], dowdf['count_cmplnt']);\n",
    "ax.xaxis.set_tick_params(rotation=45, labelsize=10)\n",
    "plt.xticks(np.arange(7),['Monday', 'Tuesday', 'Wednesday', 'Thursday', 'Friday', 'Saturday', 'Sunday']);"
   ]
  },
  {
   "cell_type": "markdown",
   "metadata": {},
   "source": [
    "In order to bring the latitude and longitude into the grouped analysis, we created 100 GeoCells to bin the locations of crimes. When we plot the number of crimes by location, we find a large difference between the 100 geocells. GeoCell number 87 has a two year crime count of 48,434, while many of these GeoCells have no crime at all. Crime count has a large dependence on location. A bar plot was chosen since we were interested in looking at the total number of crimes across levels of a categorical variable. "
   ]
  },
  {
   "cell_type": "code",
   "execution_count": 11,
   "metadata": {},
   "outputs": [
    {
     "data": {
      "image/png": "[encoded data removed]",
      "text/plain": [
       "<Figure size 432x288 with 1 Axes>"
      ]
     },
     "metadata": {
      "needs_background": "light"
     },
     "output_type": "display_data"
    }
   ],
   "source": [
    "locdf = df_Crime.groupby('GeoCell')['count_cmplnt'].sum().reset_index()\n",
    "fig, ax = plt.subplots()\n",
    "plt.xlabel('GeoCell')\n",
    "plt.ylabel('Number of Crimes')\n",
    "plt.title('Total Crimes per GeoCell over 2014 - 2015')\n",
    "plt.bar(locdf['GeoCell'], locdf['count_cmplnt']);"
   ]
  },
  {
   "cell_type": "markdown",
   "metadata": {},
   "source": [
    "When we look at the number of crimes per day vs. the daily high temperature, we can see that crime seems to increase lineraly as temperature increases. This seems to confirm what we saw in the plot of crimes per month: the colder winter months have lower amounts of crime, while the warmer summer months have larger amounts of crime. "
   ]
  },
  {
   "cell_type": "code",
   "execution_count": 8,
   "metadata": {},
   "outputs": [
    {
     "name": "stderr",
     "output_type": "stream",
     "text": [
      "<ipython-input-8-12e0611d08f5>:2: FutureWarning: Indexing with multiple keys (implicitly converted to a tuple of keys) will be deprecated, use a list instead.\n",
      "  temp_df = df_Crime.groupby('CMPLNT_FR_DT')['TMAX','TMIN', 'SNOW', 'PRCP'].max();\n"
     ]
    },
    {
     "data": {
      "image/png": "[encoded data removed]",
      "text/plain": [
       "<Figure size 432x288 with 1 Axes>"
      ]
     },
     "metadata": {
      "needs_background": "light"
     },
     "output_type": "display_data"
    }
   ],
   "source": [
    "datedf = df_Crime.groupby('CMPLNT_FR_DT')['count_cmplnt'].sum().reset_index()\n",
    "temp_df = df_Crime.groupby('CMPLNT_FR_DT')['TMAX','TMIN', 'SNOW', 'PRCP'].max();\n",
    "tempdf = datedf.join(temp_df, on = 'CMPLNT_FR_DT');\n",
    "fig, ax = plt.subplots()\n",
    "plt.scatter(tempdf['TMAX'], tempdf['count_cmplnt']);\n",
    "plt.xlabel('High Temperature')\n",
    "plt.ylabel('Number of Crimes')\n",
    "plt.title('Total Crimes per High Temperature over 2014 - 2015');"
   ]
  },
  {
   "cell_type": "markdown",
   "metadata": {},
   "source": [
    "The daily low temperature is highly correlated with the daily high temperature, so the plot of low temperature vs. number of crimes is nearly identical to the high temperature vs. number of crimes. Both were included in the KNN model due to potential extreme fluxuations in temperature in New York City. "
   ]
  },
  {
   "cell_type": "code",
   "execution_count": 13,
   "metadata": {},
   "outputs": [
    {
     "data": {
      "image/png": "[encoded data removed]",
      "text/plain": [
       "<Figure size 432x288 with 1 Axes>"
      ]
     },
     "metadata": {
      "needs_background": "light"
     },
     "output_type": "display_data"
    }
   ],
   "source": [
    "fig, ax = plt.subplots()\n",
    "plt.scatter(tempdf['TMIN'], tempdf['count_cmplnt'])\n",
    "plt.xlabel('Low Temperature')\n",
    "plt.ylabel('Number of Crimes')\n",
    "plt.title('Total Crimes per Low Temperature over 2014 - 2015');"
   ]
  },
  {
   "cell_type": "markdown",
   "metadata": {},
   "source": [
    "Here, we look at the amount of snow vs. the crime count. It does not snow very often in New York so it is hard to tell if there is a trend with so few data points, but number of crimes does seem to have a negative linear dependence on the amount of snow that New York recieves."
   ]
  },
  {
   "cell_type": "code",
   "execution_count": 14,
   "metadata": {},
   "outputs": [
    {
     "data": {
      "image/png": "[encoded data removed]",
      "text/plain": [
       "<Figure size 432x288 with 1 Axes>"
      ]
     },
     "metadata": {
      "needs_background": "light"
     },
     "output_type": "display_data"
    }
   ],
   "source": [
    "snowdf = tempdf[tempdf['SNOW'] > 0]\n",
    "fig, ax = plt.subplots()\n",
    "\n",
    "plt.scatter(snowdf['SNOW'], snowdf['count_cmplnt'])\n",
    "plt.xlabel('Snow in Inches')\n",
    "plt.ylabel('Number of Crimes')\n",
    "plt.title('Total Crimes and Snow over 2014 - 2015');"
   ]
  },
  {
   "cell_type": "markdown",
   "metadata": {},
   "source": [
    "Here, we look at the amount of daily rain that New York recieved vs. the number of crimes that day. Removing days where there was no rain, there may be a slight negative trend."
   ]
  },
  {
   "cell_type": "code",
   "execution_count": 15,
   "metadata": {
    "scrolled": true
   },
   "outputs": [
    {
     "data": {
      "image/png": "[encoded data removed]",
      "text/plain": [
       "<Figure size 432x288 with 1 Axes>"
      ]
     },
     "metadata": {
      "needs_background": "light"
     },
     "output_type": "display_data"
    }
   ],
   "source": [
    "prcpdf = tempdf[tempdf['PRCP'] > 0]\n",
    "fig, ax = plt.subplots()\n",
    "plt.scatter(prcpdf['PRCP'], prcpdf['count_cmplnt'])\n",
    "plt.xlabel('Precipitation in Inches')\n",
    "plt.ylabel('Number of Crimes')\n",
    "plt.title('Total Crimes and Precipitation over 2014 - 2015');"
   ]
  },
  {
   "cell_type": "markdown",
   "metadata": {},
   "source": [
    "There isn't a lot to visually separate holidays from non-holidays as far as crime count goes, but we are going to keep it in the model as that could be due to the relatively large outliers.  "
   ]
  },
  {
   "cell_type": "code",
   "execution_count": 16,
   "metadata": {},
   "outputs": [
    {
     "data": {
      "image/png": "[encoded data removed]",
      "text/plain": [
       "<Figure size 432x288 with 1 Axes>"
      ]
     },
     "metadata": {
      "needs_background": "light"
     },
     "output_type": "display_data"
    }
   ],
   "source": [
    "ax = sns.boxplot(x=\"is_Holiday\", y=\"count_cmplnt\", data=df_Crime)\n",
    "ax.set_title(\"Boxplot of Number of Crimes Crime by Holday\");"
   ]
  },
  {
   "cell_type": "markdown",
   "metadata": {},
   "source": [
    "Similar to holiday, there isn't a lot to visually separate events from non-events as far as crime count goes, but we are going to keep it in the model as that could be due to the relatively large outliers.  "
   ]
  },
  {
   "cell_type": "code",
   "execution_count": 17,
   "metadata": {},
   "outputs": [
    {
     "data": {
      "image/png": "[encoded data removed]",
      "text/plain": [
       "<Figure size 432x288 with 1 Axes>"
      ]
     },
     "metadata": {
      "needs_background": "light"
     },
     "output_type": "display_data"
    }
   ],
   "source": [
    "ax = sns.boxplot(x=\"is_Event\", y=\"count_cmplnt\", data=df_Crime)\n",
    "ax.set_title(\"Boxplot of Number of Crimes Crime by Event\");"
   ]
  },
  {
   "cell_type": "markdown",
   "metadata": {},
   "source": [
    "Below we remove commas and turn Population into a numeric variable. "
   ]
  },
  {
   "cell_type": "code",
   "execution_count": 18,
   "metadata": {},
   "outputs": [],
   "source": [
    "df['Population'] = pd.to_numeric(df['Population'].str.replace(',','', regex = False))"
   ]
  },
  {
   "cell_type": "markdown",
   "metadata": {},
   "source": [
    "Below is the list of variables still in our dataframe. There are still some non-numeric variables listed."
   ]
  },
  {
   "cell_type": "code",
   "execution_count": 19,
   "metadata": {
    "scrolled": true
   },
   "outputs": [
    {
     "data": {
      "text/plain": [
       "['CMPLNT_FR_DT',\n",
       " 'Daytime',\n",
       " 'Day_Name',\n",
       " 'Month',\n",
       " 'Day',\n",
       " 'Year',\n",
       " 'Season',\n",
       " 'GeoCell',\n",
       " 'BORO_NM',\n",
       " 'PRCP',\n",
       " 'SNOW',\n",
       " 'TMIN',\n",
       " 'TMAX',\n",
       " 'Population',\n",
       " 'PC_INCOME',\n",
       " 'Hm_Sls_Price_Range',\n",
       " 'Holiday',\n",
       " 'Event',\n",
       " 'is_Holiday',\n",
       " 'is_Event',\n",
       " 'count_cmplnt',\n",
       " 'DayOfWeek',\n",
       " 'Month_No']"
      ]
     },
     "execution_count": 19,
     "metadata": {},
     "output_type": "execute_result"
    }
   ],
   "source": [
    "list(df)"
   ]
  },
  {
   "cell_type": "markdown",
   "metadata": {},
   "source": [
    "Here, we drop the variables that are non-numeric and have been represented in numeric in a different variable. The only variable that hadn't been transformed into numeric was the daytime variable, which was one-hot-encoded using the get_dummies function, which automatically one-hot-encodes then drops the categorical variables remaining in the dataframe."
   ]
  },
  {
   "cell_type": "code",
   "execution_count": 20,
   "metadata": {},
   "outputs": [],
   "source": [
    "KNNdf = df.drop(['Holiday', 'Event', 'Day_Name', 'Month', 'BORO_NM', 'PC_INCOME','Hm_Sls_Price_Range', 'Season', 'CMPLNT_FR_DT'], axis = 1)\n",
    "KNNdf = pd.get_dummies(KNNdf)"
   ]
  },
  {
   "cell_type": "markdown",
   "metadata": {},
   "source": [
    "As you can see below, all variables are now numeric."
   ]
  },
  {
   "cell_type": "code",
   "execution_count": 21,
   "metadata": {},
   "outputs": [
    {
     "name": "stdout",
     "output_type": "stream",
     "text": [
      "<class 'pandas.core.frame.DataFrame'>\n",
      "RangeIndex: 170650 entries, 0 to 170649\n",
      "Data columns (total 19 columns):\n",
      " #   Column                 Non-Null Count   Dtype  \n",
      "---  ------                 --------------   -----  \n",
      " 0   Day                    170650 non-null  float64\n",
      " 1   Year                   170650 non-null  float64\n",
      " 2   GeoCell                170650 non-null  float64\n",
      " 3   PRCP                   170650 non-null  float64\n",
      " 4   SNOW                   170650 non-null  float64\n",
      " 5   TMIN                   170650 non-null  int64  \n",
      " 6   TMAX                   170650 non-null  int64  \n",
      " 7   Population             170650 non-null  int64  \n",
      " 8   is_Holiday             170650 non-null  int64  \n",
      " 9   is_Event               170650 non-null  int64  \n",
      " 10  count_cmplnt           170650 non-null  int64  \n",
      " 11  DayOfWeek              170650 non-null  int64  \n",
      " 12  Month_No               170650 non-null  int64  \n",
      " 13  Daytime_Day            170650 non-null  uint8  \n",
      " 14  Daytime_Early Morning  170650 non-null  uint8  \n",
      " 15  Daytime_Evening        170650 non-null  uint8  \n",
      " 16  Daytime_Late Night     170650 non-null  uint8  \n",
      " 17  Daytime_Morning        170650 non-null  uint8  \n",
      " 18  Daytime_Night          170650 non-null  uint8  \n",
      "dtypes: float64(5), int64(8), uint8(6)\n",
      "memory usage: 17.9 MB\n"
     ]
    }
   ],
   "source": [
    "KNNdf.info()"
   ]
  },
  {
   "cell_type": "markdown",
   "metadata": {},
   "source": [
    "We did scale the variables, but in order to avoid data leakage, we scaled after creating the train/test split. This will be addressed in the Modeling and Evaluation 2 section where we address our train/test split. "
   ]
  },
  {
   "cell_type": "markdown",
   "metadata": {},
   "source": [
    "## Data Preparation Part 2"
   ]
  },
  {
   "cell_type": "markdown",
   "metadata": {},
   "source": [
    "These are the variables that we will use in our KNN regression model, as well as the target variable: count_cmplnt. Here are descriptions of the variables below:  "
   ]
  },
  {
   "cell_type": "markdown",
   "metadata": {},
   "source": [
    "|Variable Label|Variable Type|Data Description|  \n",
    "| :-|:-|:-|  \n",
    "|count_cmplnt|Numeric|\tNumber of crimes per day per time of day per GeoCell. Our target variable|  \n",
    "|Day|Numeric|Day of the month from 1 to 31|  \n",
    "|Year|Numeric|The year, either 2014 or 2015|  \n",
    "|GeoCell|Numeric|The GeoCell that the crime occurred in. We split New York City into 100 GeoCells and used the latitude and longitude of the crime to determine which GeoCell the crime was located in.|  \n",
    "|PRCP|Numeric|Amount of precipitation on the day the crimes occurred, in inches|  \n",
    "|SNOW|Numeric|Amount of snow on the day the crimes occurred, in inches|  \n",
    "|TMIN|Numeric|\tThe maximum temperature on the day the crimes occurred, in Farenheit|  \n",
    "|TMAX|Numeric|\tThe minimum temperature on the day the crimes occurred, in Farenheit|  \n",
    "|Population|Numeric| Population of the borough in which the GeoCell is located|  \n",
    "|is_Holiday|Binary| 1 if the day in question was a holiday, 0 if not|  \n",
    "|is_Event|Binary|\t1 if the day in question had a major event, 0 if not|  \n",
    "|DayOfWeek|Numeric|\tThe day of the week. 0 for Monday, 1 for Tuesday etc. |  \n",
    "|Month_No|Numeric|\tThe month. 1 for January, 2 for February etc. |  \n",
    "|Daytime_Day|Binary| 1 signifies if the count_cmplnt variable is related to crimes between 10:00am and 2:00pm, 0 if not|  \n",
    "|Daytime_Early Morning|Binary|1 signifies if the count_cmplnt variable is related to crimes between 2:00am and 6:00am, 0 if not|  \n",
    "|Daytime_Evening|Binary|\t1 signifies if the count_cmplnt variable is related to crimes between 2:00pm and 6:00pm, 0 if not|  \n",
    "|Daytime_Late Night|Binary|\t1 signifies if the count_cmplnt variable is related to crimes between 10:00pm and 2:00am, 0 if not|  \n",
    "|Daytime_Morning|Binary|1 signifies if the count_cmplnt variable is related to crimes between 6:00am and 10:00am, 0 if not|  \n",
    "|Daytime_Night|Binary|\t1 signifies if the count_cmplnt variable is related to crimes between 6:00pm and 10:00pm, 0 if not|  "
   ]
  },
  {
   "cell_type": "markdown",
   "metadata": {},
   "source": [
    "## Modeling and Evaluation 1"
   ]
  },
  {
   "cell_type": "markdown",
   "metadata": {},
   "source": [
    "In our analysis, we used the following metrics to determine how well our models fit the data:"
   ]
  },
  {
   "cell_type": "markdown",
   "metadata": {},
   "source": [
    "|Metric|Used Where?|Metric Description|  \n",
    "| :-|:-|:-|  \n",
    "|Root Mean Squared Error (RMSE)|Training, Testing, Holdout|Defined as $\\sum\\sqrt{(predicted - actual)^2}$ This metric is in terms of the target variable, in this case number of crimes. RMSE is used to choose the best K for both weighted and non-weighted KNN, and to compare our best weighted and non-weighted KNN models. Lower is better. RMSE is better than MAE when large errors are especially bad.|  \n",
    "|Mean Absolute Error (MAE)|Testing, Holdout|Defined as $\\sum |actual - predicted|$ This metric is also in terms of the target variable, which is the number of crimes. MAE is used to directly compare our KNN models to the other regression models that were explored. Lower is better. MAE is better when comparing models tested with different numbers of data points.|  "
   ]
  },
  {
   "cell_type": "markdown",
   "metadata": {},
   "source": [
    "These two metrics are often used for regression problems such as this one. "
   ]
  },
  {
   "cell_type": "markdown",
   "metadata": {},
   "source": [
    "## Modeling and Evaluation 2"
   ]
  },
  {
   "cell_type": "markdown",
   "metadata": {},
   "source": [
    "Here, we create our train/test split. We choose to do a simple 70%/30% train test split of the non-hold out data for this model. This was chosen since we have a sufficiently large data set, we use 3-fold cross validation of the training set in order to choose the correct K, and we have a 10% hold out in order to compare our final 3 regression models. "
   ]
  },
  {
   "cell_type": "code",
   "execution_count": 22,
   "metadata": {},
   "outputs": [],
   "source": [
    "from sklearn.model_selection import train_test_split\n",
    "X = KNNdf.drop(['count_cmplnt'], axis = 1)\n",
    "y = KNNdf['count_cmplnt']\n",
    "X_train_unscaled, X_test_unscaled, y_train, y_test = train_test_split(X, y, test_size=0.3, random_state=1234)"
   ]
  },
  {
   "cell_type": "markdown",
   "metadata": {},
   "source": [
    "Here, we scale our data. The standard scaler uses the formula z = (x - u) / s, where x is the value of the variable, s is the standard deviation and u is the mean, to calculate the transformation, z, of the variable. This scaling was chosen since it allows for outliers to still be outliers and allows the data to keep its distribution, while making sure that all variables are using the standard deviation as \"distance.\" This allows for the scale of the variables to all be the same, which is extremely important in a KNN model. A single variable with an extremely large scale would dominate variable importance if we did not scale. In order to avoid data leakage, the transformation was fit on the training split. The testing data was then scaled based on the training data. "
   ]
  },
  {
   "cell_type": "code",
   "execution_count": 23,
   "metadata": {},
   "outputs": [],
   "source": [
    "from sklearn.preprocessing import StandardScaler\n",
    "scaler = StandardScaler()\n",
    "scaleFit = scaler.fit(X_train_unscaled)\n",
    "X_train = scaleFit.transform(X_train_unscaled)\n",
    "X_test = scaleFit.transform(X_test_unscaled)"
   ]
  },
  {
   "cell_type": "markdown",
   "metadata": {},
   "source": [
    "## Modeling and Evaluation 3"
   ]
  },
  {
   "cell_type": "markdown",
   "metadata": {},
   "source": [
    "Below, we create our non-weighted KNN model. This model weights the K nearest neighbors the same when calculating the value of the point in question. Using 3-fold cross validation, we checked all k's from 1 to 50, and it was determined that the best K for the non-weighted model was 25. We did have a few options for potential distance measures, but since the variables are mostly numeric and they are scaled, it was decided that Euclidean made the most sense as a distance measurement. "
   ]
  },
  {
   "cell_type": "code",
   "execution_count": 75,
   "metadata": {},
   "outputs": [
    {
     "data": {
      "text/plain": [
       "GridSearchCV(cv=3, estimator=KNeighborsRegressor(),\n",
       "             param_grid={'n_neighbors': [1, 2, 3, 4, 5, 6, 7, 8, 9, 10, 11, 12,\n",
       "                                         13, 14, 15, 16, 17, 18, 19, 20, 21, 22,\n",
       "                                         23, 24, 25, 26, 27, 28, 29, 30, ...]},\n",
       "             scoring='neg_root_mean_squared_error')"
      ]
     },
     "execution_count": 75,
     "metadata": {},
     "output_type": "execute_result"
    }
   ],
   "source": [
    "from sklearn.metrics import mean_squared_error\n",
    "from sklearn.neighbors import KNeighborsRegressor\n",
    "from sklearn.model_selection import GridSearchCV\n",
    "params = {'n_neighbors':[1,2,3,4,5,6,7,8,9,10,11,12,13,14,15,16,17,18,19,20,21,22,23,24,25,26,27,28,29,30,31,32,33,34,35,36,37,38,39,40,41,42,43,44,45,46,47,48,49,50]}\n",
    "clf = GridSearchCV(KNeighborsRegressor(), params, cv = 3, scoring = 'neg_root_mean_squared_error')\n",
    "clf.fit(X_train, y_train)"
   ]
  },
  {
   "cell_type": "markdown",
   "metadata": {},
   "source": [
    "Below, we create the weighted KNN model. This model \"weights\" the k nearest neighbors based on distance from the point in question. The closer neighbors have a larger effect on the prediction of the target variable of the data point in question. We used 3-fold cross validation to iterate over all K's from 1 through 500, and it was determined that K = 115 minimizes the root mean square error of the model. We did have a few options for potential distance measures, but since the variables are mostly numeric and they are scaled, it was decided that Euclidean made the most sense as a distance measurement. "
   ]
  },
  {
   "cell_type": "code",
   "execution_count": 131,
   "metadata": {},
   "outputs": [
    {
     "data": {
      "text/plain": [
       "GridSearchCV(cv=3, estimator=KNeighborsRegressor(),\n",
       "             param_grid={'n_neighbors': range(1, 501), 'weights': ['distance']},\n",
       "             scoring='neg_root_mean_squared_error')"
      ]
     },
     "execution_count": 131,
     "metadata": {},
     "output_type": "execute_result"
    }
   ],
   "source": [
    "paramsweighted = {'n_neighbors':range(1,501),\n",
    "         'weights':['distance']}\n",
    "clfWeighted = GridSearchCV(KNeighborsRegressor(), paramsweighted, cv = 3, scoring = 'neg_root_mean_squared_error')\n",
    "clfWeighted.fit(X_train, y_train)"
   ]
  },
  {
   "cell_type": "markdown",
   "metadata": {},
   "source": [
    "## Modeling and Evaluation 4"
   ]
  },
  {
   "cell_type": "markdown",
   "metadata": {},
   "source": [
    "Below is a plot of the root mean squared errors of the non-weighted KNN model for each K. The red dot signifies which K minimizes the root mean squred error. "
   ]
  },
  {
   "cell_type": "code",
   "execution_count": 133,
   "metadata": {},
   "outputs": [
    {
     "data": {
      "text/plain": [
       "[<matplotlib.lines.Line2D at 0x7f991245cc40>]"
      ]
     },
     "execution_count": 133,
     "metadata": {},
     "output_type": "execute_result"
    },
    {
     "data": {
      "image/png": "[encoded data removed]",
      "text/plain": [
       "<Figure size 432x288 with 1 Axes>"
      ]
     },
     "metadata": {
      "needs_background": "light"
     },
     "output_type": "display_data"
    }
   ],
   "source": [
    "plt.plot(abs(clf.cv_results_['mean_test_score']), marker = 'o')\n",
    "plt.plot(clf.best_index_, abs(clf.best_score_), marker = 'o', color = 'red')"
   ]
  },
  {
   "cell_type": "markdown",
   "metadata": {},
   "source": [
    "Below is a plot of the root mean squared errors of the weighted KNN model. The red dot signifies which K minimizes the root mean squred error. "
   ]
  },
  {
   "cell_type": "code",
   "execution_count": 134,
   "metadata": {},
   "outputs": [
    {
     "data": {
      "text/plain": [
       "[<matplotlib.lines.Line2D at 0x7f99120190a0>]"
      ]
     },
     "execution_count": 134,
     "metadata": {},
     "output_type": "execute_result"
    },
    {
     "data": {
      "image/png": "[encoded data removed]",
      "text/plain": [
       "<Figure size 432x288 with 1 Axes>"
      ]
     },
     "metadata": {
      "needs_background": "light"
     },
     "output_type": "display_data"
    }
   ],
   "source": [
    "plt.plot(abs(clfWeighted.cv_results_['mean_test_score']), marker = 'o')\n",
    "plt.plot(clfWeighted.best_index_, abs(clfWeighted.best_score_), marker = 'o', color = 'red')"
   ]
  },
  {
   "cell_type": "markdown",
   "metadata": {},
   "source": [
    "Below are the RMSE's of our best weighted and non-weighted KNN models on our training set. Note that the best non-weighted model is slightly better than the best weighted model. "
   ]
  },
  {
   "cell_type": "code",
   "execution_count": 64,
   "metadata": {},
   "outputs": [
    {
     "name": "stdout",
     "output_type": "stream",
     "text": [
      "The best non-weighted k is 25 with a root mean squared error of 4.541938998318994\n",
      "The best weighted k is 115 with a root mean squared error of 4.6503048395451145\n"
     ]
    }
   ],
   "source": [
    "print('The best non-weighted k is', '25', 'with a root mean squared error of', '4.541938998318994')\n",
    "print('The best weighted k is', '115', 'with a root mean squared error of', '4.6503048395451145')"
   ]
  },
  {
   "cell_type": "markdown",
   "metadata": {},
   "source": [
    "Below are the results of the predictions on our test set using our non-weighted KNN model."
   ]
  },
  {
   "cell_type": "code",
   "execution_count": 24,
   "metadata": {},
   "outputs": [
    {
     "name": "stdout",
     "output_type": "stream",
     "text": [
      "The RMSE of the test set using a non-weighted KNN model with K = 25 is 4.614308202484779\n",
      "The MAE of the test set using a non-weighted KNN model with K = 25 is 3.1304893055962495\n"
     ]
    }
   ],
   "source": [
    "from sklearn.neighbors import KNeighborsRegressor\n",
    "from sklearn.metrics import mean_squared_error\n",
    "from sklearn.metrics import mean_absolute_error\n",
    "model1 = KNeighborsRegressor(n_neighbors = 25, weights = 'uniform')\n",
    "model1fit = model1.fit(X_train, y_train)\n",
    "predz = model1fit.predict(X_test)\n",
    "print('The RMSE of the test set using a non-weighted KNN model with K = 25 is', mean_squared_error(y_test,predz, squared = False))\n",
    "print('The MAE of the test set using a non-weighted KNN model with K = 25 is', mean_absolute_error(y_test,predz))"
   ]
  },
  {
   "cell_type": "markdown",
   "metadata": {},
   "source": [
    "Below are the results of our weighted KNN model on our test set. Note that the best non-weighted model is slightly better than the best weighted model."
   ]
  },
  {
   "cell_type": "code",
   "execution_count": 25,
   "metadata": {},
   "outputs": [
    {
     "name": "stdout",
     "output_type": "stream",
     "text": [
      "The RMSE of the test set using a weighted KNN model with K = 115 is 4.72525055874405\n",
      "The MAE of the test set using a weighted KNN model with K = 115 is 3.19833053952896\n"
     ]
    }
   ],
   "source": [
    "from sklearn.neighbors import KNeighborsRegressor\n",
    "from sklearn.metrics import mean_squared_error\n",
    "model2 = KNeighborsRegressor(n_neighbors = 115, weights = 'distance')\n",
    "model2fit = model2.fit(X_train, y_train)\n",
    "predz = model2fit.predict(X_test)\n",
    "print('The RMSE of the test set using a weighted KNN model with K = 115 is', mean_squared_error(y_test,predz, squared = False))\n",
    "print('The MAE of the test set using a weighted KNN model with K = 115 is', mean_absolute_error(y_test,predz))"
   ]
  },
  {
   "cell_type": "markdown",
   "metadata": {},
   "source": [
    "Here, we read in the hold out set. We must preprocess the holdout set in the same way we did the training set. "
   ]
  },
  {
   "cell_type": "code",
   "execution_count": 26,
   "metadata": {},
   "outputs": [],
   "source": [
    "holdOut = pd.read_csv('/home/drew/School/Semester4/ML1/NewYorkCityCrimes2015/Data/Lab2_Daily_Crime_Volume_Data/Hold_Out_Set.csv', parse_dates = ['CMPLNT_FR_DT'])\n"
   ]
  },
  {
   "cell_type": "markdown",
   "metadata": {},
   "source": [
    "Here, we turn day of week into a numeric variable."
   ]
  },
  {
   "cell_type": "code",
   "execution_count": 27,
   "metadata": {},
   "outputs": [],
   "source": [
    "holdOut['DayOfWeek'] = holdOut['CMPLNT_FR_DT'].dt.dayofweek"
   ]
  },
  {
   "cell_type": "markdown",
   "metadata": {},
   "source": [
    "Here, we turn month into a numeric variable."
   ]
  },
  {
   "cell_type": "code",
   "execution_count": 28,
   "metadata": {},
   "outputs": [],
   "source": [
    "holdOut['Month_No'] = holdOut['CMPLNT_FR_DT'].dt.month"
   ]
  },
  {
   "cell_type": "markdown",
   "metadata": {},
   "source": [
    "Here, we turn population from a string to a numeric variable."
   ]
  },
  {
   "cell_type": "code",
   "execution_count": 29,
   "metadata": {},
   "outputs": [],
   "source": [
    "holdOut['Population'] = pd.to_numeric(holdOut['Population'].str.replace(',','', regex = False))"
   ]
  },
  {
   "cell_type": "markdown",
   "metadata": {},
   "source": [
    "Here, we remove all the non-numeric variables and create dummy variables for the Daytime variable. "
   ]
  },
  {
   "cell_type": "code",
   "execution_count": 30,
   "metadata": {},
   "outputs": [],
   "source": [
    "holdOutKNNdf = holdOut.drop(['Holiday', 'Event', 'Day_Name', 'Month', 'BORO_NM', 'PC_INCOME', 'Hm_Sls_Price_Range', 'Season', 'CMPLNT_FR_DT'], axis = 1)\n",
    "holdOutKNNdf = pd.get_dummies(holdOutKNNdf)"
   ]
  },
  {
   "cell_type": "markdown",
   "metadata": {},
   "source": [
    "Here, we double check that all our variables are numeric. They are, so we may proceed."
   ]
  },
  {
   "cell_type": "code",
   "execution_count": 32,
   "metadata": {},
   "outputs": [
    {
     "name": "stdout",
     "output_type": "stream",
     "text": [
      "<class 'pandas.core.frame.DataFrame'>\n",
      "RangeIndex: 18962 entries, 0 to 18961\n",
      "Data columns (total 19 columns):\n",
      " #   Column                 Non-Null Count  Dtype  \n",
      "---  ------                 --------------  -----  \n",
      " 0   Day                    18962 non-null  float64\n",
      " 1   Year                   18962 non-null  float64\n",
      " 2   GeoCell                18962 non-null  float64\n",
      " 3   PRCP                   18962 non-null  float64\n",
      " 4   SNOW                   18962 non-null  float64\n",
      " 5   TMIN                   18962 non-null  int64  \n",
      " 6   TMAX                   18962 non-null  int64  \n",
      " 7   Population             18962 non-null  int64  \n",
      " 8   is_Holiday             18962 non-null  int64  \n",
      " 9   is_Event               18962 non-null  int64  \n",
      " 10  count_cmplnt           18962 non-null  int64  \n",
      " 11  DayOfWeek              18962 non-null  int64  \n",
      " 12  Month_No               18962 non-null  int64  \n",
      " 13  Daytime_Day            18962 non-null  uint8  \n",
      " 14  Daytime_Early Morning  18962 non-null  uint8  \n",
      " 15  Daytime_Evening        18962 non-null  uint8  \n",
      " 16  Daytime_Late Night     18962 non-null  uint8  \n",
      " 17  Daytime_Morning        18962 non-null  uint8  \n",
      " 18  Daytime_Night          18962 non-null  uint8  \n",
      "dtypes: float64(5), int64(8), uint8(6)\n",
      "memory usage: 2.0 MB\n"
     ]
    }
   ],
   "source": [
    "holdOutKNNdf.info()"
   ]
  },
  {
   "cell_type": "markdown",
   "metadata": {},
   "source": [
    "Here we separate our response variable from our explanatory variables."
   ]
  },
  {
   "cell_type": "code",
   "execution_count": 33,
   "metadata": {},
   "outputs": [],
   "source": [
    "from sklearn.model_selection import train_test_split\n",
    "holdoutX_unscaled = holdOutKNNdf.drop(['count_cmplnt'], axis = 1)\n",
    "holdouty = holdOutKNNdf['count_cmplnt']\n"
   ]
  },
  {
   "cell_type": "markdown",
   "metadata": {},
   "source": [
    "Here, we scale our explanatory variables using the scaler from our training data set. "
   ]
  },
  {
   "cell_type": "code",
   "execution_count": 34,
   "metadata": {},
   "outputs": [],
   "source": [
    "from sklearn.preprocessing import StandardScaler\n",
    "holdoutX = scaleFit.transform(holdoutX_unscaled)\n"
   ]
  },
  {
   "cell_type": "markdown",
   "metadata": {},
   "source": [
    "Here, we predict the holdout data using the non-weighted KNN model. "
   ]
  },
  {
   "cell_type": "code",
   "execution_count": 36,
   "metadata": {},
   "outputs": [
    {
     "name": "stdout",
     "output_type": "stream",
     "text": [
      "The RMSE of the holdout set using a non-weighted KNN model with K = 25 is 4.505020893131099\n",
      "The MAE of the holdout set using a non-weighted KNN model with K = 25 is 3.0963400485180888\n"
     ]
    }
   ],
   "source": [
    "predz = model1fit.predict(holdoutX)\n",
    "print('The RMSE of the holdout set using a non-weighted KNN model with K = 25 is', mean_squared_error(holdouty,predz, squared = False))\n",
    "print('The MAE of the holdout set using a non-weighted KNN model with K = 25 is', mean_absolute_error(holdouty,predz))"
   ]
  },
  {
   "cell_type": "markdown",
   "metadata": {},
   "source": [
    "Here, we predict the holdout data using the weighted KNN model."
   ]
  },
  {
   "cell_type": "code",
   "execution_count": 38,
   "metadata": {},
   "outputs": [
    {
     "name": "stdout",
     "output_type": "stream",
     "text": [
      "The RMSE of the holdout set using a weighted KNN model with K = 115 is 4.610143714899564\n",
      "The MAE of the holdout set using a weighted KNN model with K = 115 is 3.1598076914580737\n"
     ]
    }
   ],
   "source": [
    "predz = model2fit.predict(holdoutX)\n",
    "print('The RMSE of the holdout set using a weighted KNN model with K = 115 is', mean_squared_error(holdouty,predz, squared = False))\n",
    "print('The MAE of the holdout set using a weighted KNN model with K = 115 is', mean_absolute_error(holdouty,predz))"
   ]
  },
  {
   "cell_type": "markdown",
   "metadata": {},
   "source": [
    "Below are the results of our KNN model building. Note that the Non-Weighted KNN model performed slightly better than our weighted KNN model in every single metric, so we will move forward with the non-weighted model in our comparison to our other two regression models. "
   ]
  },
  {
   "cell_type": "markdown",
   "metadata": {},
   "source": [
    "|Model|K|Training RMSE|Test Set RMSE|Holdout Set RMSE|Test Set MAE|Holdout Set MAE|\n",
    "|:--|:-:|:-:|:-:|:-:|:-:|:-:|\n",
    "|Non-Weighted KNN|25|4.54|4.61|4.51|3.13|3.10|\n",
    "|Weighted KNN|115|4.65|4.73|4.61|3.19|3.16|"
   ]
  },
  {
   "cell_type": "markdown",
   "metadata": {},
   "source": [
    "## Modeling and Evaluation 5"
   ]
  },
  {
   "cell_type": "markdown",
   "metadata": {},
   "source": [
    "|Model|Advantages|Disadvantages|\n",
    "|:--|:-:|:-:|\n",
    "|Model Creation|No model creation necessary. Once you figure out your optimal K, you can immediately fit your data.|Finding optimal K is time consuming and may not be the same across data sets|\n",
    "|Variable Importance||There is no way to find variable importance directly from a KNN model.|\n",
    "|Speed|Since we don't have to create a model, KNN has incredibly fast model creation.|It may take a while to fit data if you have many dimensions.|\n",
    "|Accuracy||Performed the worst out of all of our regression models for this problem|\n",
    "|Misc|Non-parametric|Needs an appropriate distance measure|"
   ]
  },
  {
   "cell_type": "markdown",
   "metadata": {},
   "source": [
    "## Modeling and Evaluation 6"
   ]
  },
  {
   "cell_type": "markdown",
   "metadata": {},
   "source": [
    "KNN doesn't lend itself to variable importances, since we regress on how close nearest data points are. Please look at the results of other analyses in order to see what variables are most important to predicting number of crimes in each geo cell at each time. "
   ]
  },
  {
   "cell_type": "markdown",
   "metadata": {},
   "source": [
    "<a href=\"#top\">Back to Top</a>\n",
    "<a id=\"task1Model2\"></a>\n",
    "## Task 1 - Regression - Model 2 - Logistic Regression"
   ]
  },
  {
   "cell_type": "code",
   "execution_count": null,
   "metadata": {},
   "outputs": [],
   "source": []
  },
  {
   "cell_type": "markdown",
   "metadata": {},
   "source": [
    "### Data Preparation Part 1"
   ]
  },
  {
   "cell_type": "markdown",
   "metadata": {},
   "source": [
    "Much of the data preparation occured in the submission made for the EDA and Mini-lab.  "
   ]
  },
  {
   "cell_type": "code",
   "execution_count": 2,
   "metadata": {},
   "outputs": [],
   "source": [
    "import pandas as pd\n",
    "import numpy as np\n",
    "from sklearn.linear_model import LinearRegression"
   ]
  },
  {
   "cell_type": "code",
   "execution_count": 8,
   "metadata": {},
   "outputs": [],
   "source": [
    "crime = pd.read_csv('C:/Users/sabri/Documents/GitHub/NewYorkCityCrimes2015/Lab2_Individual_Files/Sabrina/Training_and_Test_Set.csv') # read in the csv %%file"
   ]
  },
  {
   "cell_type": "markdown",
   "metadata": {},
   "source": [
    "This version of the dataset has been amended to include exogenous variables not part of the original datset.  These items were introduced in the EDA portion of our work, but will be revisited here.\n",
    "\n",
    "\n",
    "|Variable Label|Variable Type|Data Description|\n",
    "| :-|:-|:-|\n",
    "|CMPLNT_FR_DT|Datestamp|\tExact date of occurrence for the reported event (or starting date of occurrence, if CMPLNT_TO_DT exists)|\n",
    "|Daytime|Categorical|Binned Timeframe |Data creating six groups per day ranging from early morning to late night|\n",
    "|Day_Name|Categorical|Day Of Week|\n",
    "|Month|Categorical|Month of Year|\n",
    "|Day|Categorical|Day number of the month|\n",
    "|Year|Categorical|Year of occurance (2014 or 2015)|\n",
    "|Season|Categorical|Seasonal Category created from Month Name|\n",
    "|GeoCell|Categorical|Conversion of Latitude/Longitude into 100 cells in a 10x10 grid of NYC|\n",
    "|Boro_NM|Categorical|One of 5 Borough Names|\n",
    "|PRCP|Continuous|Precipitation measured on that date (in inches)|\n",
    "|SNOW|Continuous|Snow measured on that date (in inches)|\n",
    "|TMIN|Continuous|Minimum temperature measured on that date (Farenheit)|\n",
    "|TMAX|Continuous|Maximum temperature measured on that date (Farenheit)|\n",
    "|Population|Continuous|Borough Population as defined inthe 2010 Census|\n",
    "|PC_INCOME|Continuous|Borough Population Average Income|\n",
    "|HM_Sls_Price_Range|Categorical|Binned Housing price ranges|\n",
    "|Holiday|Categorical|Named Holiday|\n",
    "|Event|Categorical|City Event that Occured|\n",
    "|is_Holiday|Boolean|Y/N description of if Holiday occured|\n",
    "|is_Event|Boolean|Y/N description of if Event occured|\n",
    "|count_cmplnt|Continous|TARGET VARIABLE FOR PREDICTION|"
   ]
  },
  {
   "cell_type": "code",
   "execution_count": 9,
   "metadata": {
    "scrolled": true
   },
   "outputs": [
    {
     "data": {
      "text/html": [
       "<div>\n",
       "<style scoped>\n",
       "    .dataframe tbody tr th:only-of-type {\n",
       "        vertical-align: middle;\n",
       "    }\n",
       "\n",
       "    .dataframe tbody tr th {\n",
       "        vertical-align: top;\n",
       "    }\n",
       "\n",
       "    .dataframe thead th {\n",
       "        text-align: right;\n",
       "    }\n",
       "</style>\n",
       "<table border=\"1\" class=\"dataframe\">\n",
       "  <thead>\n",
       "    <tr style=\"text-align: right;\">\n",
       "      <th></th>\n",
       "      <th>CMPLNT_FR_DT</th>\n",
       "      <th>Daytime</th>\n",
       "      <th>Day_Name</th>\n",
       "      <th>Month</th>\n",
       "      <th>Day</th>\n",
       "      <th>Year</th>\n",
       "      <th>Season</th>\n",
       "      <th>GeoCell</th>\n",
       "      <th>BORO_NM</th>\n",
       "      <th>PRCP</th>\n",
       "      <th>...</th>\n",
       "      <th>TMIN</th>\n",
       "      <th>TMAX</th>\n",
       "      <th>Population</th>\n",
       "      <th>PC_INCOME</th>\n",
       "      <th>Hm_Sls_Price_Range</th>\n",
       "      <th>Holiday</th>\n",
       "      <th>Event</th>\n",
       "      <th>is_Holiday</th>\n",
       "      <th>is_Event</th>\n",
       "      <th>count_cmplnt</th>\n",
       "    </tr>\n",
       "  </thead>\n",
       "  <tbody>\n",
       "    <tr>\n",
       "      <th>0</th>\n",
       "      <td>11/26/2014</td>\n",
       "      <td>Morning</td>\n",
       "      <td>Wednesday</td>\n",
       "      <td>November</td>\n",
       "      <td>26</td>\n",
       "      <td>2014</td>\n",
       "      <td>Fall</td>\n",
       "      <td>66</td>\n",
       "      <td>QUEENS</td>\n",
       "      <td>1.24</td>\n",
       "      <td>...</td>\n",
       "      <td>34</td>\n",
       "      <td>51</td>\n",
       "      <td>2250002</td>\n",
       "      <td>40997</td>\n",
       "      <td>Medium</td>\n",
       "      <td>NaN</td>\n",
       "      <td>NaN</td>\n",
       "      <td>0</td>\n",
       "      <td>0</td>\n",
       "      <td>1</td>\n",
       "    </tr>\n",
       "    <tr>\n",
       "      <th>1</th>\n",
       "      <td>12/1/2014</td>\n",
       "      <td>Late Night</td>\n",
       "      <td>Monday</td>\n",
       "      <td>December</td>\n",
       "      <td>1</td>\n",
       "      <td>2014</td>\n",
       "      <td>Winter</td>\n",
       "      <td>60</td>\n",
       "      <td>QUEENS</td>\n",
       "      <td>0.09</td>\n",
       "      <td>...</td>\n",
       "      <td>42</td>\n",
       "      <td>65</td>\n",
       "      <td>2250002</td>\n",
       "      <td>40997</td>\n",
       "      <td>Medium</td>\n",
       "      <td>NaN</td>\n",
       "      <td>NaN</td>\n",
       "      <td>0</td>\n",
       "      <td>0</td>\n",
       "      <td>1</td>\n",
       "    </tr>\n",
       "    <tr>\n",
       "      <th>2</th>\n",
       "      <td>11/10/2015</td>\n",
       "      <td>Morning</td>\n",
       "      <td>Tuesday</td>\n",
       "      <td>November</td>\n",
       "      <td>10</td>\n",
       "      <td>2015</td>\n",
       "      <td>Fall</td>\n",
       "      <td>15</td>\n",
       "      <td>BROOKLYN</td>\n",
       "      <td>0.26</td>\n",
       "      <td>...</td>\n",
       "      <td>51</td>\n",
       "      <td>57</td>\n",
       "      <td>2552911</td>\n",
       "      <td>43915</td>\n",
       "      <td>High</td>\n",
       "      <td>NaN</td>\n",
       "      <td>NaN</td>\n",
       "      <td>0</td>\n",
       "      <td>0</td>\n",
       "      <td>2</td>\n",
       "    </tr>\n",
       "    <tr>\n",
       "      <th>3</th>\n",
       "      <td>2/4/2014</td>\n",
       "      <td>Morning</td>\n",
       "      <td>Tuesday</td>\n",
       "      <td>February</td>\n",
       "      <td>4</td>\n",
       "      <td>2014</td>\n",
       "      <td>Winter</td>\n",
       "      <td>48</td>\n",
       "      <td>QUEENS</td>\n",
       "      <td>0.00</td>\n",
       "      <td>...</td>\n",
       "      <td>22</td>\n",
       "      <td>35</td>\n",
       "      <td>2250002</td>\n",
       "      <td>40997</td>\n",
       "      <td>Medium</td>\n",
       "      <td>NaN</td>\n",
       "      <td>NaN</td>\n",
       "      <td>0</td>\n",
       "      <td>0</td>\n",
       "      <td>3</td>\n",
       "    </tr>\n",
       "    <tr>\n",
       "      <th>4</th>\n",
       "      <td>8/25/2015</td>\n",
       "      <td>Late Night</td>\n",
       "      <td>Tuesday</td>\n",
       "      <td>August</td>\n",
       "      <td>25</td>\n",
       "      <td>2015</td>\n",
       "      <td>Summer</td>\n",
       "      <td>35</td>\n",
       "      <td>BROOKLYN</td>\n",
       "      <td>0.00</td>\n",
       "      <td>...</td>\n",
       "      <td>73</td>\n",
       "      <td>90</td>\n",
       "      <td>2552911</td>\n",
       "      <td>43915</td>\n",
       "      <td>High</td>\n",
       "      <td>NaN</td>\n",
       "      <td>NaN</td>\n",
       "      <td>0</td>\n",
       "      <td>0</td>\n",
       "      <td>1</td>\n",
       "    </tr>\n",
       "  </tbody>\n",
       "</table>\n",
       "<p>5 rows × 21 columns</p>\n",
       "</div>"
      ],
      "text/plain": [
       "  CMPLNT_FR_DT     Daytime   Day_Name     Month  Day  Year  Season  GeoCell  \\\n",
       "0   11/26/2014     Morning  Wednesday  November   26  2014    Fall       66   \n",
       "1    12/1/2014  Late Night     Monday  December    1  2014  Winter       60   \n",
       "2   11/10/2015     Morning    Tuesday  November   10  2015    Fall       15   \n",
       "3     2/4/2014     Morning    Tuesday  February    4  2014  Winter       48   \n",
       "4    8/25/2015  Late Night    Tuesday    August   25  2015  Summer       35   \n",
       "\n",
       "    BORO_NM  PRCP  ...  TMIN  TMAX  Population  PC_INCOME  Hm_Sls_Price_Range  \\\n",
       "0    QUEENS  1.24  ...    34    51     2250002      40997              Medium   \n",
       "1    QUEENS  0.09  ...    42    65     2250002      40997              Medium   \n",
       "2  BROOKLYN  0.26  ...    51    57     2552911      43915                High   \n",
       "3    QUEENS  0.00  ...    22    35     2250002      40997              Medium   \n",
       "4  BROOKLYN  0.00  ...    73    90     2552911      43915                High   \n",
       "\n",
       "  Holiday Event is_Holiday  is_Event  count_cmplnt  \n",
       "0     NaN   NaN          0         0             1  \n",
       "1     NaN   NaN          0         0             1  \n",
       "2     NaN   NaN          0         0             2  \n",
       "3     NaN   NaN          0         0             3  \n",
       "4     NaN   NaN          0         0             1  \n",
       "\n",
       "[5 rows x 21 columns]"
      ]
     },
     "execution_count": 9,
     "metadata": {},
     "output_type": "execute_result"
    }
   ],
   "source": [
    "crime.head()"
   ]
  },
  {
   "cell_type": "code",
   "execution_count": 10,
   "metadata": {},
   "outputs": [
    {
     "name": "stdout",
     "output_type": "stream",
     "text": [
      "<class 'pandas.core.frame.DataFrame'>\n",
      "RangeIndex: 170650 entries, 0 to 170649\n",
      "Data columns (total 21 columns):\n",
      " #   Column              Non-Null Count   Dtype  \n",
      "---  ------              --------------   -----  \n",
      " 0   CMPLNT_FR_DT        170650 non-null  object \n",
      " 1   Daytime             170650 non-null  object \n",
      " 2   Day_Name            170650 non-null  object \n",
      " 3   Month               170650 non-null  object \n",
      " 4   Day                 170650 non-null  int64  \n",
      " 5   Year                170650 non-null  int64  \n",
      " 6   Season              170650 non-null  object \n",
      " 7   GeoCell             170650 non-null  int64  \n",
      " 8   BORO_NM             170650 non-null  object \n",
      " 9   PRCP                170650 non-null  float64\n",
      " 10  SNOW                170650 non-null  float64\n",
      " 11  TMIN                170650 non-null  int64  \n",
      " 12  TMAX                170650 non-null  int64  \n",
      " 13  Population          170650 non-null  int64  \n",
      " 14  PC_INCOME           170650 non-null  int64  \n",
      " 15  Hm_Sls_Price_Range  170650 non-null  object \n",
      " 16  Holiday             4588 non-null    object \n",
      " 17  Event               25870 non-null   object \n",
      " 18  is_Holiday          170650 non-null  int64  \n",
      " 19  is_Event            170650 non-null  int64  \n",
      " 20  count_cmplnt        170650 non-null  int64  \n",
      "dtypes: float64(2), int64(10), object(9)\n",
      "memory usage: 27.3+ MB\n"
     ]
    }
   ],
   "source": [
    "crime.info()"
   ]
  },
  {
   "cell_type": "markdown",
   "metadata": {},
   "source": [
    "As noted above, there are categorical variables that need to be transformed into a format that can be used in linear regression.  For that, we will use one-hot encoding."
   ]
  },
  {
   "cell_type": "code",
   "execution_count": 11,
   "metadata": {},
   "outputs": [],
   "source": [
    "# perform one-hot encoding of the categorical data \n",
    "tmp_df = pd.get_dummies(crime.BORO_NM,prefix='BORO_NM')\n",
    "crime = pd.concat((crime,tmp_df),axis=1) # add back into the dataframe\n",
    "\n",
    "tmp_df = pd.get_dummies(crime.Day_Name,prefix='Day_Name')\n",
    "crime = pd.concat((crime,tmp_df),axis=1) # add back into the dataframe\n",
    "\n",
    "tmp_df = pd.get_dummies(crime.Month,prefix='Month')\n",
    "crime = pd.concat((crime,tmp_df),axis=1) # add back into the dataframe\n",
    "\n",
    "tmp_df = pd.get_dummies(crime.Season,prefix='Season')\n",
    "crime = pd.concat((crime,tmp_df),axis=1) # add back into the dataframe\n",
    "\n",
    "tmp_df = pd.get_dummies(crime.Daytime,prefix='Daytime')\n",
    "crime = pd.concat((crime,tmp_df),axis=1) # add back into the dataframe\n",
    "\n",
    "tmp_df = pd.get_dummies(crime.Daytime,prefix='Hm_Sls_Price_Range')\n",
    "crime = pd.concat((crime,tmp_df),axis=1) # add back into the dataframe"
   ]
  },
  {
   "cell_type": "code",
   "execution_count": 13,
   "metadata": {},
   "outputs": [],
   "source": [
    "#Now we drop the original variables\n",
    "if 'BORO_NM' in crime:    \n",
    "    del crime['BORO_NM'] # get rid of the original category as it is now one-hot encoded\n",
    "if 'Day_Name' in crime:    \n",
    "    del crime['Day_Name'] # get rid of the original category as it is now one-hot encoded\n",
    "if 'Month' in crime:    \n",
    "    del crime['Month'] # get rid of the original category as it is now one-hot encoded\n",
    "if 'Season' in crime:    \n",
    "    del crime['Season'] # get rid of the original category as it is now one-hot encoded\n",
    "if 'Daytime' in crime:    \n",
    "    del crime['Daytime'] # get rid of the original category as it is now one-hot encoded\n",
    "if 'Hm_Sls_Price_Range' in crime:    \n",
    "    del crime['Hm_Sls_Price_Range'] # get rid of the original category as it is now one-hot encoded"
   ]
  },
  {
   "cell_type": "code",
   "execution_count": 14,
   "metadata": {},
   "outputs": [],
   "source": [
    "#binary Y/N converted to Is Holiday or Is Event.  Can drop originals\n",
    "if 'Holiday' in crime:    \n",
    "    del crime['Holiday']\n",
    "if 'Event' in crime:    \n",
    "    del crime['Event']"
   ]
  },
  {
   "cell_type": "markdown",
   "metadata": {},
   "source": [
    "### Data Preparation Part 2"
   ]
  },
  {
   "cell_type": "code",
   "execution_count": 15,
   "metadata": {},
   "outputs": [
    {
     "name": "stdout",
     "output_type": "stream",
     "text": [
      "<class 'pandas.core.frame.DataFrame'>\n",
      "RangeIndex: 170650 entries, 0 to 170649\n",
      "Data columns (total 53 columns):\n",
      " #   Column                            Non-Null Count   Dtype  \n",
      "---  ------                            --------------   -----  \n",
      " 0   CMPLNT_FR_DT                      170650 non-null  object \n",
      " 1   Day                               170650 non-null  int64  \n",
      " 2   Year                              170650 non-null  int64  \n",
      " 3   GeoCell                           170650 non-null  int64  \n",
      " 4   PRCP                              170650 non-null  float64\n",
      " 5   SNOW                              170650 non-null  float64\n",
      " 6   TMIN                              170650 non-null  int64  \n",
      " 7   TMAX                              170650 non-null  int64  \n",
      " 8   Population                        170650 non-null  int64  \n",
      " 9   PC_INCOME                         170650 non-null  int64  \n",
      " 10  is_Holiday                        170650 non-null  int64  \n",
      " 11  is_Event                          170650 non-null  int64  \n",
      " 12  count_cmplnt                      170650 non-null  int64  \n",
      " 13  BORO_NM_BRONX                     170650 non-null  uint8  \n",
      " 14  BORO_NM_BROOKLYN                  170650 non-null  uint8  \n",
      " 15  BORO_NM_MANHATTAN                 170650 non-null  uint8  \n",
      " 16  BORO_NM_QUEENS                    170650 non-null  uint8  \n",
      " 17  BORO_NM_STATEN ISLAND             170650 non-null  uint8  \n",
      " 18  Day_Name_Friday                   170650 non-null  uint8  \n",
      " 19  Day_Name_Monday                   170650 non-null  uint8  \n",
      " 20  Day_Name_Saturday                 170650 non-null  uint8  \n",
      " 21  Day_Name_Sunday                   170650 non-null  uint8  \n",
      " 22  Day_Name_Thursday                 170650 non-null  uint8  \n",
      " 23  Day_Name_Tuesday                  170650 non-null  uint8  \n",
      " 24  Day_Name_Wednesday                170650 non-null  uint8  \n",
      " 25  Month_April                       170650 non-null  uint8  \n",
      " 26  Month_August                      170650 non-null  uint8  \n",
      " 27  Month_December                    170650 non-null  uint8  \n",
      " 28  Month_February                    170650 non-null  uint8  \n",
      " 29  Month_January                     170650 non-null  uint8  \n",
      " 30  Month_July                        170650 non-null  uint8  \n",
      " 31  Month_June                        170650 non-null  uint8  \n",
      " 32  Month_March                       170650 non-null  uint8  \n",
      " 33  Month_May                         170650 non-null  uint8  \n",
      " 34  Month_November                    170650 non-null  uint8  \n",
      " 35  Month_October                     170650 non-null  uint8  \n",
      " 36  Month_September                   170650 non-null  uint8  \n",
      " 37  Season_Fall                       170650 non-null  uint8  \n",
      " 38  Season_Spring                     170650 non-null  uint8  \n",
      " 39  Season_Summer                     170650 non-null  uint8  \n",
      " 40  Season_Winter                     170650 non-null  uint8  \n",
      " 41  Daytime_Day                       170650 non-null  uint8  \n",
      " 42  Daytime_Early Morning             170650 non-null  uint8  \n",
      " 43  Daytime_Evening                   170650 non-null  uint8  \n",
      " 44  Daytime_Late Night                170650 non-null  uint8  \n",
      " 45  Daytime_Morning                   170650 non-null  uint8  \n",
      " 46  Daytime_Night                     170650 non-null  uint8  \n",
      " 47  Hm_Sls_Price_Range_Day            170650 non-null  uint8  \n",
      " 48  Hm_Sls_Price_Range_Early Morning  170650 non-null  uint8  \n",
      " 49  Hm_Sls_Price_Range_Evening        170650 non-null  uint8  \n",
      " 50  Hm_Sls_Price_Range_Late Night     170650 non-null  uint8  \n",
      " 51  Hm_Sls_Price_Range_Morning        170650 non-null  uint8  \n",
      " 52  Hm_Sls_Price_Range_Night          170650 non-null  uint8  \n",
      "dtypes: float64(2), int64(10), object(1), uint8(40)\n",
      "memory usage: 23.4+ MB\n"
     ]
    }
   ],
   "source": [
    "crime.info()"
   ]
  },
  {
   "cell_type": "markdown",
   "metadata": {},
   "source": [
    "### Modeling and Evaluation 1"
   ]
  },
  {
   "cell_type": "markdown",
   "metadata": {},
   "source": [
    "For Linear Regression, we are using Mean Absolute Error to compare the models.  We feel this is the best measure by which to assert model efficacy because we are predicting a continuous variable.  There is no logical penalty for being above or below the target response, so we feel we can weight them equally."
   ]
  },
  {
   "cell_type": "markdown",
   "metadata": {},
   "source": [
    "### Modeling and Evaluation 2"
   ]
  },
  {
   "cell_type": "code",
   "execution_count": 16,
   "metadata": {},
   "outputs": [],
   "source": [
    "from sklearn.model_selection import ShuffleSplit\n",
    "\n",
    "if 'count_cmplnt' in crime:\n",
    "    y = crime['count_cmplnt'] # get the labels we want\n",
    "    del crime['count_cmplnt'] # get rid of the class label\n",
    "    X = crime.values # use everything else to predict!\n",
    "    \n",
    "X = crime.drop('CMPLNT_FR_DT', axis=1) #dropping this because I have day, month and year as columns"
   ]
  },
  {
   "cell_type": "code",
   "execution_count": 17,
   "metadata": {},
   "outputs": [
    {
     "name": "stdout",
     "output_type": "stream",
     "text": [
      "<class 'pandas.core.frame.DataFrame'>\n",
      "RangeIndex: 170650 entries, 0 to 170649\n",
      "Data columns (total 51 columns):\n",
      " #   Column                            Non-Null Count   Dtype  \n",
      "---  ------                            --------------   -----  \n",
      " 0   Day                               170650 non-null  int64  \n",
      " 1   Year                              170650 non-null  int64  \n",
      " 2   GeoCell                           170650 non-null  int64  \n",
      " 3   PRCP                              170650 non-null  float64\n",
      " 4   SNOW                              170650 non-null  float64\n",
      " 5   TMIN                              170650 non-null  int64  \n",
      " 6   TMAX                              170650 non-null  int64  \n",
      " 7   Population                        170650 non-null  int64  \n",
      " 8   PC_INCOME                         170650 non-null  int64  \n",
      " 9   is_Holiday                        170650 non-null  int64  \n",
      " 10  is_Event                          170650 non-null  int64  \n",
      " 11  BORO_NM_BRONX                     170650 non-null  uint8  \n",
      " 12  BORO_NM_BROOKLYN                  170650 non-null  uint8  \n",
      " 13  BORO_NM_MANHATTAN                 170650 non-null  uint8  \n",
      " 14  BORO_NM_QUEENS                    170650 non-null  uint8  \n",
      " 15  BORO_NM_STATEN ISLAND             170650 non-null  uint8  \n",
      " 16  Day_Name_Friday                   170650 non-null  uint8  \n",
      " 17  Day_Name_Monday                   170650 non-null  uint8  \n",
      " 18  Day_Name_Saturday                 170650 non-null  uint8  \n",
      " 19  Day_Name_Sunday                   170650 non-null  uint8  \n",
      " 20  Day_Name_Thursday                 170650 non-null  uint8  \n",
      " 21  Day_Name_Tuesday                  170650 non-null  uint8  \n",
      " 22  Day_Name_Wednesday                170650 non-null  uint8  \n",
      " 23  Month_April                       170650 non-null  uint8  \n",
      " 24  Month_August                      170650 non-null  uint8  \n",
      " 25  Month_December                    170650 non-null  uint8  \n",
      " 26  Month_February                    170650 non-null  uint8  \n",
      " 27  Month_January                     170650 non-null  uint8  \n",
      " 28  Month_July                        170650 non-null  uint8  \n",
      " 29  Month_June                        170650 non-null  uint8  \n",
      " 30  Month_March                       170650 non-null  uint8  \n",
      " 31  Month_May                         170650 non-null  uint8  \n",
      " 32  Month_November                    170650 non-null  uint8  \n",
      " 33  Month_October                     170650 non-null  uint8  \n",
      " 34  Month_September                   170650 non-null  uint8  \n",
      " 35  Season_Fall                       170650 non-null  uint8  \n",
      " 36  Season_Spring                     170650 non-null  uint8  \n",
      " 37  Season_Summer                     170650 non-null  uint8  \n",
      " 38  Season_Winter                     170650 non-null  uint8  \n",
      " 39  Daytime_Day                       170650 non-null  uint8  \n",
      " 40  Daytime_Early Morning             170650 non-null  uint8  \n",
      " 41  Daytime_Evening                   170650 non-null  uint8  \n",
      " 42  Daytime_Late Night                170650 non-null  uint8  \n",
      " 43  Daytime_Morning                   170650 non-null  uint8  \n",
      " 44  Daytime_Night                     170650 non-null  uint8  \n",
      " 45  Hm_Sls_Price_Range_Day            170650 non-null  uint8  \n",
      " 46  Hm_Sls_Price_Range_Early Morning  170650 non-null  uint8  \n",
      " 47  Hm_Sls_Price_Range_Evening        170650 non-null  uint8  \n",
      " 48  Hm_Sls_Price_Range_Late Night     170650 non-null  uint8  \n",
      " 49  Hm_Sls_Price_Range_Morning        170650 non-null  uint8  \n",
      " 50  Hm_Sls_Price_Range_Night          170650 non-null  uint8  \n",
      "dtypes: float64(2), int64(9), uint8(40)\n",
      "memory usage: 20.8 MB\n"
     ]
    }
   ],
   "source": [
    "#check datatypes for conversions needed\n",
    "X.info()"
   ]
  },
  {
   "cell_type": "code",
   "execution_count": 18,
   "metadata": {},
   "outputs": [
    {
     "data": {
      "text/plain": [
       "count    170650.000000\n",
       "mean          4.714122\n",
       "std           5.140051\n",
       "min           1.000000\n",
       "25%           1.000000\n",
       "50%           3.000000\n",
       "75%           6.000000\n",
       "max         132.000000\n",
       "Name: count_cmplnt, dtype: float64"
      ]
     },
     "execution_count": 18,
     "metadata": {},
     "output_type": "execute_result"
    }
   ],
   "source": [
    "y.describe()"
   ]
  },
  {
   "cell_type": "code",
   "execution_count": 19,
   "metadata": {},
   "outputs": [],
   "source": [
    "#Divide data into test and training splits\n",
    "from sklearn.model_selection import ShuffleSplit\n",
    "cv = ShuffleSplit(n_splits=10, test_size=0.10, random_state=0)"
   ]
  },
  {
   "cell_type": "markdown",
   "metadata": {},
   "source": [
    "### Modeling and Evaluation 3"
   ]
  },
  {
   "cell_type": "code",
   "execution_count": 21,
   "metadata": {},
   "outputs": [],
   "source": [
    "#Use mean absolute error (MAE) to score the regression models created \n",
    "#(the scale of MAE is identical to the response variable)\n",
    "from sklearn.metrics import mean_absolute_error, make_scorer, mean_squared_error"
   ]
  },
  {
   "cell_type": "code",
   "execution_count": 22,
   "metadata": {},
   "outputs": [],
   "source": [
    "#Use mean absolute error (MAE) to score the regression models created \n",
    "#(the scale of MAE is identical to the response variable)\n",
    "from sklearn.metrics import mean_absolute_error, make_scorer, mean_squared_error\n",
    "\n",
    "#Function for Root mean squared error\n",
    "#https://stackoverflow.com/questions/17197492/root-mean-square-error-in-python\n",
    "def rmse(y_actual, y_predicted):\n",
    "    return np.sqrt(mean_squared_error(y_actual, y_predicted))\n",
    "\n",
    "#Function for Mean Absolute Percentage Error (MAPE) - Untested\n",
    "#Adapted from - https://stackoverflow.com/questions/42250958/how-to-optimize-mape-code-in-python\n",
    "def mape(y_actual, y_predicted): \n",
    "    mask = y_actual != 0\n",
    "    return (np.fabs(y_actual - y_predicted)/y_actual)[mask].mean() * 100\n",
    "\n",
    "#Create scorers for rmse and mape functions\n",
    "mae_scorer = make_scorer(score_func=mean_absolute_error, greater_is_better=False)\n",
    "rmse_scorer = make_scorer(score_func=rmse, greater_is_better=False)\n",
    "mape_scorer = make_scorer(score_func=mape, greater_is_better=False)\n",
    "\n",
    "#Make scorer array to pass into cross_validate() function for producing mutiple scores for each cv fold.\n",
    "errorScoring = {'MAE':  mae_scorer, \n",
    "                'RMSE': rmse_scorer,\n",
    "                'MAPE': mape_scorer\n",
    "               } "
   ]
  },
  {
   "cell_type": "code",
   "execution_count": 23,
   "metadata": {},
   "outputs": [],
   "source": [
    "from sklearn.model_selection import cross_validate\n",
    "\n",
    "def EvaluateRegressionEstimator(regEstimator, X, y, cv):\n",
    "    \n",
    "    scores = cross_validate(regEstimator, X, y, scoring=errorScoring, cv=cv, return_train_score=True)\n",
    "\n",
    "    #cross val score sign-flips the outputs of MAE\n",
    "    # https://github.com/scikit-learn/scikit-learn/issues/2439\n",
    "    scores['test_MAE'] = scores['test_MAE'] * -1\n",
    "    scores['test_MAPE'] = scores['test_MAPE'] * -1\n",
    "    scores['test_RMSE'] = scores['test_RMSE'] * -1\n",
    "\n",
    "    #print mean MAE for all folds \n",
    "    maeAvg = scores['test_MAE'].mean()\n",
    "    print_str = \"The average MAE for all cv folds is: \\t\\t\\t {maeAvg:.5}\"\n",
    "    print(print_str.format(maeAvg=maeAvg))\n",
    "\n",
    "    #print mean test_MAPE for all folds\n",
    "    scores['test_MAPE'] = scores['test_MAPE']\n",
    "    mape_avg = scores['test_MAPE'].mean()\n",
    "    print_str = \"The average MAE percentage (MAPE) for all cv folds is: \\t {mape_avg:.5}\"\n",
    "    print(print_str.format(mape_avg=mape_avg))\n",
    "\n",
    "    #print mean MAE for all folds \n",
    "    RMSEavg = scores['test_RMSE'].mean()\n",
    "    print_str = \"The average RMSE for all cv folds is: \\t\\t\\t {RMSEavg:.5}\"\n",
    "    print(print_str.format(RMSEavg=RMSEavg))\n",
    "    print('*********************************************************')\n",
    "\n",
    "    print('Cross Validation Fold Mean Error Scores')\n",
    "    scoresResults = pd.DataFrame()\n",
    "    scoresResults['MAE'] = scores['test_MAE']\n",
    "    scoresResults['MAPE'] = scores['test_MAPE']\n",
    "    scoresResults['RMSE'] = scores['test_RMSE']\n",
    "    return scoresResults"
   ]
  },
  {
   "cell_type": "code",
   "execution_count": 24,
   "metadata": {},
   "outputs": [
    {
     "name": "stdout",
     "output_type": "stream",
     "text": [
      "Fitting 10 folds for each of 4 candidates, totalling 40 fits\n"
     ]
    },
    {
     "name": "stderr",
     "output_type": "stream",
     "text": [
      "[Parallel(n_jobs=1)]: Using backend SequentialBackend with 1 concurrent workers.\n",
      "[Parallel(n_jobs=1)]: Done  40 out of  40 | elapsed:   12.6s finished\n"
     ]
    },
    {
     "data": {
      "text/plain": [
       "GridSearchCV(cv=ShuffleSplit(n_splits=10, random_state=0, test_size=0.1, train_size=None),\n",
       "             estimator=LinearRegression(),\n",
       "             param_grid={'fit_intercept': (True, False),\n",
       "                         'normalize': (True, False)},\n",
       "             scoring=make_scorer(mean_absolute_error, greater_is_better=False),\n",
       "             verbose=1)"
      ]
     },
     "execution_count": 24,
     "metadata": {},
     "output_type": "execute_result"
    }
   ],
   "source": [
    "#Create a Linear Regression object and perform a grid search to find the best parameters\n",
    "linreg = LinearRegression()\n",
    "parameters = {'normalize':(True,False), 'fit_intercept':(True,False)}\n",
    "\n",
    "#Create a grid search object using the  \n",
    "from sklearn.model_selection import GridSearchCV\n",
    "regGridSearch = GridSearchCV(estimator=linreg\n",
    "                   , verbose=1 # low verbosity\n",
    "                   , param_grid=parameters\n",
    "                   , cv=cv # KFolds = 10\n",
    "                   , scoring=mae_scorer)\n",
    "\n",
    "#Perform hyperparameter search to find the best combination of parameters for our data\n",
    "regGridSearch.fit(X, y)"
   ]
  },
  {
   "cell_type": "code",
   "execution_count": 25,
   "metadata": {},
   "outputs": [
    {
     "data": {
      "text/plain": [
       "LinearRegression(fit_intercept=False, normalize=True)"
      ]
     },
     "execution_count": 25,
     "metadata": {},
     "output_type": "execute_result"
    }
   ],
   "source": [
    "#Print the parameterization of the best estimator\n",
    "regGridSearch.best_estimator_"
   ]
  },
  {
   "cell_type": "code",
   "execution_count": 26,
   "metadata": {},
   "outputs": [],
   "source": [
    "regEstimator = regGridSearch.best_estimator_"
   ]
  },
  {
   "cell_type": "code",
   "execution_count": 27,
   "metadata": {},
   "outputs": [
    {
     "name": "stdout",
     "output_type": "stream",
     "text": [
      "The average MAE for all cv folds is: \t\t\t 3.142\n",
      "The average MAE percentage (MAPE) for all cv folds is: \t 124.78\n",
      "The average RMSE for all cv folds is: \t\t\t 4.5832\n",
      "*********************************************************\n",
      "Cross Validation Fold Mean Error Scores\n"
     ]
    },
    {
     "data": {
      "text/html": [
       "<div>\n",
       "<style scoped>\n",
       "    .dataframe tbody tr th:only-of-type {\n",
       "        vertical-align: middle;\n",
       "    }\n",
       "\n",
       "    .dataframe tbody tr th {\n",
       "        vertical-align: top;\n",
       "    }\n",
       "\n",
       "    .dataframe thead th {\n",
       "        text-align: right;\n",
       "    }\n",
       "</style>\n",
       "<table border=\"1\" class=\"dataframe\">\n",
       "  <thead>\n",
       "    <tr style=\"text-align: right;\">\n",
       "      <th></th>\n",
       "      <th>MAE</th>\n",
       "      <th>MAPE</th>\n",
       "      <th>RMSE</th>\n",
       "    </tr>\n",
       "  </thead>\n",
       "  <tbody>\n",
       "    <tr>\n",
       "      <th>0</th>\n",
       "      <td>3.124101</td>\n",
       "      <td>124.761171</td>\n",
       "      <td>4.529424</td>\n",
       "    </tr>\n",
       "    <tr>\n",
       "      <th>1</th>\n",
       "      <td>3.162885</td>\n",
       "      <td>125.349461</td>\n",
       "      <td>4.619970</td>\n",
       "    </tr>\n",
       "    <tr>\n",
       "      <th>2</th>\n",
       "      <td>3.090418</td>\n",
       "      <td>123.418469</td>\n",
       "      <td>4.568485</td>\n",
       "    </tr>\n",
       "    <tr>\n",
       "      <th>3</th>\n",
       "      <td>3.145296</td>\n",
       "      <td>125.423979</td>\n",
       "      <td>4.532882</td>\n",
       "    </tr>\n",
       "    <tr>\n",
       "      <th>4</th>\n",
       "      <td>3.182328</td>\n",
       "      <td>125.392895</td>\n",
       "      <td>4.661333</td>\n",
       "    </tr>\n",
       "    <tr>\n",
       "      <th>5</th>\n",
       "      <td>3.126304</td>\n",
       "      <td>122.497441</td>\n",
       "      <td>4.534450</td>\n",
       "    </tr>\n",
       "    <tr>\n",
       "      <th>6</th>\n",
       "      <td>3.145072</td>\n",
       "      <td>126.952563</td>\n",
       "      <td>4.581990</td>\n",
       "    </tr>\n",
       "    <tr>\n",
       "      <th>7</th>\n",
       "      <td>3.152822</td>\n",
       "      <td>123.560703</td>\n",
       "      <td>4.634324</td>\n",
       "    </tr>\n",
       "    <tr>\n",
       "      <th>8</th>\n",
       "      <td>3.171695</td>\n",
       "      <td>124.848679</td>\n",
       "      <td>4.653639</td>\n",
       "    </tr>\n",
       "    <tr>\n",
       "      <th>9</th>\n",
       "      <td>3.119182</td>\n",
       "      <td>125.609772</td>\n",
       "      <td>4.515929</td>\n",
       "    </tr>\n",
       "  </tbody>\n",
       "</table>\n",
       "</div>"
      ],
      "text/plain": [
       "        MAE        MAPE      RMSE\n",
       "0  3.124101  124.761171  4.529424\n",
       "1  3.162885  125.349461  4.619970\n",
       "2  3.090418  123.418469  4.568485\n",
       "3  3.145296  125.423979  4.532882\n",
       "4  3.182328  125.392895  4.661333\n",
       "5  3.126304  122.497441  4.534450\n",
       "6  3.145072  126.952563  4.581990\n",
       "7  3.152822  123.560703  4.634324\n",
       "8  3.171695  124.848679  4.653639\n",
       "9  3.119182  125.609772  4.515929"
      ]
     },
     "execution_count": 27,
     "metadata": {},
     "output_type": "execute_result"
    }
   ],
   "source": [
    "#Evaluate the regression estimator above using our pre-defined cross validation and scoring metrics. \n",
    "EvaluateRegressionEstimator(regEstimator, X, y, cv)"
   ]
  },
  {
   "cell_type": "markdown",
   "metadata": {},
   "source": [
    "### Modeling and Evaluation 4"
   ]
  },
  {
   "cell_type": "code",
   "execution_count": 28,
   "metadata": {},
   "outputs": [],
   "source": [
    "import pandas as pd\n",
    "import numpy as np\n",
    "from sklearn.linear_model import LinearRegression"
   ]
  },
  {
   "cell_type": "code",
   "execution_count": 38,
   "metadata": {},
   "outputs": [
    {
     "data": {
      "text/html": [
       "<div>\n",
       "<style scoped>\n",
       "    .dataframe tbody tr th:only-of-type {\n",
       "        vertical-align: middle;\n",
       "    }\n",
       "\n",
       "    .dataframe tbody tr th {\n",
       "        vertical-align: top;\n",
       "    }\n",
       "\n",
       "    .dataframe thead th {\n",
       "        text-align: right;\n",
       "    }\n",
       "</style>\n",
       "<table border=\"1\" class=\"dataframe\">\n",
       "  <thead>\n",
       "    <tr style=\"text-align: right;\">\n",
       "      <th></th>\n",
       "      <th>Daytime</th>\n",
       "      <th>Day_Name</th>\n",
       "      <th>Month</th>\n",
       "      <th>Day</th>\n",
       "      <th>Year</th>\n",
       "      <th>Season</th>\n",
       "      <th>GeoCell</th>\n",
       "      <th>BORO_NM</th>\n",
       "      <th>PRCP</th>\n",
       "      <th>SNOW</th>\n",
       "      <th>TMIN</th>\n",
       "      <th>TMAX</th>\n",
       "      <th>Population</th>\n",
       "      <th>PC_INCOME</th>\n",
       "      <th>Hm_Sls_Price_Range</th>\n",
       "      <th>Holiday</th>\n",
       "      <th>Event</th>\n",
       "      <th>is_Holiday</th>\n",
       "      <th>is_Event</th>\n",
       "      <th>count_cmplnt</th>\n",
       "    </tr>\n",
       "  </thead>\n",
       "  <tbody>\n",
       "    <tr>\n",
       "      <th>0</th>\n",
       "      <td>Evening</td>\n",
       "      <td>Wednesday</td>\n",
       "      <td>November</td>\n",
       "      <td>5</td>\n",
       "      <td>2014</td>\n",
       "      <td>Fall</td>\n",
       "      <td>16</td>\n",
       "      <td>BROOKLYN</td>\n",
       "      <td>0.0</td>\n",
       "      <td>0.0</td>\n",
       "      <td>56</td>\n",
       "      <td>64</td>\n",
       "      <td>2552911</td>\n",
       "      <td>41399</td>\n",
       "      <td>High</td>\n",
       "      <td>NaN</td>\n",
       "      <td>NaN</td>\n",
       "      <td>0</td>\n",
       "      <td>0</td>\n",
       "      <td>4</td>\n",
       "    </tr>\n",
       "    <tr>\n",
       "      <th>1</th>\n",
       "      <td>Night</td>\n",
       "      <td>Sunday</td>\n",
       "      <td>December</td>\n",
       "      <td>21</td>\n",
       "      <td>2014</td>\n",
       "      <td>Winter</td>\n",
       "      <td>36</td>\n",
       "      <td>BROOKLYN</td>\n",
       "      <td>0.0</td>\n",
       "      <td>0.0</td>\n",
       "      <td>31</td>\n",
       "      <td>36</td>\n",
       "      <td>2552911</td>\n",
       "      <td>41399</td>\n",
       "      <td>High</td>\n",
       "      <td>NaN</td>\n",
       "      <td>NaN</td>\n",
       "      <td>0</td>\n",
       "      <td>0</td>\n",
       "      <td>14</td>\n",
       "    </tr>\n",
       "    <tr>\n",
       "      <th>2</th>\n",
       "      <td>Morning</td>\n",
       "      <td>Sunday</td>\n",
       "      <td>October</td>\n",
       "      <td>11</td>\n",
       "      <td>2015</td>\n",
       "      <td>Fall</td>\n",
       "      <td>88</td>\n",
       "      <td>BRONX</td>\n",
       "      <td>0.0</td>\n",
       "      <td>0.0</td>\n",
       "      <td>53</td>\n",
       "      <td>69</td>\n",
       "      <td>1385108</td>\n",
       "      <td>32778</td>\n",
       "      <td>Low</td>\n",
       "      <td>NaN</td>\n",
       "      <td>NaN</td>\n",
       "      <td>0</td>\n",
       "      <td>0</td>\n",
       "      <td>4</td>\n",
       "    </tr>\n",
       "    <tr>\n",
       "      <th>3</th>\n",
       "      <td>Night</td>\n",
       "      <td>Sunday</td>\n",
       "      <td>May</td>\n",
       "      <td>10</td>\n",
       "      <td>2015</td>\n",
       "      <td>Spring</td>\n",
       "      <td>56</td>\n",
       "      <td>MANHATTAN</td>\n",
       "      <td>0.0</td>\n",
       "      <td>0.0</td>\n",
       "      <td>61</td>\n",
       "      <td>83</td>\n",
       "      <td>1585873</td>\n",
       "      <td>155779</td>\n",
       "      <td>Very High</td>\n",
       "      <td>NaN</td>\n",
       "      <td>NaN</td>\n",
       "      <td>0</td>\n",
       "      <td>0</td>\n",
       "      <td>1</td>\n",
       "    </tr>\n",
       "    <tr>\n",
       "      <th>4</th>\n",
       "      <td>Late Night</td>\n",
       "      <td>Thursday</td>\n",
       "      <td>December</td>\n",
       "      <td>10</td>\n",
       "      <td>2015</td>\n",
       "      <td>Winter</td>\n",
       "      <td>59</td>\n",
       "      <td>QUEENS</td>\n",
       "      <td>0.0</td>\n",
       "      <td>0.0</td>\n",
       "      <td>51</td>\n",
       "      <td>60</td>\n",
       "      <td>2250002</td>\n",
       "      <td>44031</td>\n",
       "      <td>Medium</td>\n",
       "      <td>NaN</td>\n",
       "      <td>NaN</td>\n",
       "      <td>0</td>\n",
       "      <td>0</td>\n",
       "      <td>1</td>\n",
       "    </tr>\n",
       "  </tbody>\n",
       "</table>\n",
       "</div>"
      ],
      "text/plain": [
       "      Daytime   Day_Name     Month  Day  Year  Season  GeoCell    BORO_NM  \\\n",
       "0     Evening  Wednesday  November    5  2014    Fall       16   BROOKLYN   \n",
       "1       Night     Sunday  December   21  2014  Winter       36   BROOKLYN   \n",
       "2     Morning     Sunday   October   11  2015    Fall       88      BRONX   \n",
       "3       Night     Sunday       May   10  2015  Spring       56  MANHATTAN   \n",
       "4  Late Night   Thursday  December   10  2015  Winter       59     QUEENS   \n",
       "\n",
       "   PRCP  SNOW  TMIN  TMAX  Population  PC_INCOME Hm_Sls_Price_Range Holiday  \\\n",
       "0   0.0   0.0    56    64     2552911      41399               High     NaN   \n",
       "1   0.0   0.0    31    36     2552911      41399               High     NaN   \n",
       "2   0.0   0.0    53    69     1385108      32778                Low     NaN   \n",
       "3   0.0   0.0    61    83     1585873     155779          Very High     NaN   \n",
       "4   0.0   0.0    51    60     2250002      44031             Medium     NaN   \n",
       "\n",
       "  Event  is_Holiday  is_Event  count_cmplnt  \n",
       "0   NaN           0         0             4  \n",
       "1   NaN           0         0            14  \n",
       "2   NaN           0         0             4  \n",
       "3   NaN           0         0             1  \n",
       "4   NaN           0         0             1  "
      ]
     },
     "execution_count": 38,
     "metadata": {},
     "output_type": "execute_result"
    }
   ],
   "source": [
    "crime_holdout = pd.read_csv('C:/Users/sabri/Documents/GitHub/NewYorkCityCrimes2015/Lab2_Individual_Files/Sabrina/Hold_Out_Set.csv') # read in the csv %%file\n",
    "crime_holdout.head()"
   ]
  },
  {
   "cell_type": "code",
   "execution_count": 39,
   "metadata": {},
   "outputs": [],
   "source": [
    "# perform one-hot encoding of the categorical data \n",
    "tmp_df = pd.get_dummies(crime_holdout.BORO_NM,prefix='BORO_NM')\n",
    "crime_holdout = pd.concat((crime_holdout,tmp_df),axis=1) # add back into the dataframe\n",
    "\n",
    "tmp_df = pd.get_dummies(crime_holdout.Day_Name,prefix='Day_Name')\n",
    "crime_holdout = pd.concat((crime_holdout,tmp_df),axis=1) # add back into the dataframe\n",
    "\n",
    "tmp_df = pd.get_dummies(crime_holdout.Month,prefix='Month')\n",
    "crime_holdout = pd.concat((crime_holdout,tmp_df),axis=1) # add back into the dataframe\n",
    "\n",
    "tmp_df = pd.get_dummies(crime_holdout.Season,prefix='Season')\n",
    "crime_holdout = pd.concat((crime_holdout,tmp_df),axis=1) # add back into the dataframe\n",
    "\n",
    "tmp_df = pd.get_dummies(crime_holdout.Daytime,prefix='Daytime')\n",
    "crime_holdout = pd.concat((crime_holdout,tmp_df),axis=1) # add back into the dataframe\n",
    "\n",
    "tmp_df = pd.get_dummies(crime_holdout.Daytime,prefix='Hm_Sls_Price_Range')\n",
    "crime_holdout = pd.concat((crime_holdout,tmp_df),axis=1) # add back into the dataframe"
   ]
  },
  {
   "cell_type": "code",
   "execution_count": 40,
   "metadata": {},
   "outputs": [],
   "source": [
    "#Now we drop the original variables\n",
    "if 'BORO_NM' in crime_holdout:    \n",
    "    del crime_holdout['BORO_NM'] # get rid of the original category as it is now one-hot encoded\n",
    "if 'Day_Name' in crime_holdout:    \n",
    "    del crime_holdout['Day_Name'] # get rid of the original category as it is now one-hot encoded\n",
    "if 'Month' in crime_holdout:    \n",
    "    del crime_holdout['Month'] # get rid of the original category as it is now one-hot encoded\n",
    "if 'Season' in crime_holdout:    \n",
    "    del crime_holdout['Season'] # get rid of the original category as it is now one-hot encoded\n",
    "if 'Daytime' in crime_holdout:    \n",
    "    del crime_holdout['Daytime'] # get rid of the original category as it is now one-hot encoded\n",
    "if 'Hm_Sls_Price_Range' in crime_holdout:    \n",
    "    del crime_holdout['Hm_Sls_Price_Range'] # get rid of the original category as it is now one-hot encoded"
   ]
  },
  {
   "cell_type": "code",
   "execution_count": 41,
   "metadata": {},
   "outputs": [],
   "source": [
    "#binary Y/N converted to Is Holiday or Is Event.  Can drop originals\n",
    "if 'Holiday' in crime_holdout:    \n",
    "    del crime_holdout['Holiday']\n",
    "if 'Event' in crime_holdout:    \n",
    "    del crime_holdout['Event']"
   ]
  },
  {
   "cell_type": "code",
   "execution_count": 42,
   "metadata": {},
   "outputs": [],
   "source": [
    "from sklearn.model_selection import ShuffleSplit\n",
    "\n",
    "if 'count_cmplnt' in crime_holdout:\n",
    "    y_holdout = crime_holdout['count_cmplnt'] # get the labels we want\n",
    "    del crime_holdout['count_cmplnt'] # get rid of the class label\n",
    "    X_holdout = crime_holdout.values # use everything else to predict!  "
   ]
  },
  {
   "cell_type": "code",
   "execution_count": 43,
   "metadata": {},
   "outputs": [
    {
     "data": {
      "text/plain": [
       "count    18962.000000\n",
       "mean         4.728879\n",
       "std          5.088475\n",
       "min          1.000000\n",
       "25%          1.000000\n",
       "50%          3.000000\n",
       "75%          6.000000\n",
       "max         44.000000\n",
       "Name: count_cmplnt, dtype: float64"
      ]
     },
     "execution_count": 43,
     "metadata": {},
     "output_type": "execute_result"
    }
   ],
   "source": [
    "y_holdout.describe()"
   ]
  },
  {
   "cell_type": "code",
   "execution_count": 44,
   "metadata": {},
   "outputs": [],
   "source": [
    "y_holdout_pred = regEstimator.predict(X_holdout)"
   ]
  },
  {
   "cell_type": "code",
   "execution_count": 45,
   "metadata": {},
   "outputs": [
    {
     "name": "stdout",
     "output_type": "stream",
     "text": [
      "Mean Absolute Error 3.1117755067258623 crimes per period\n"
     ]
    }
   ],
   "source": [
    "from sklearn.metrics import *\n",
    "print('Mean Absolute Error', mean_absolute_error(y_holdout, y_holdout_pred),'crimes per period')"
   ]
  },
  {
   "cell_type": "markdown",
   "metadata": {},
   "source": [
    "<a href=\"#top\">Back to Top</a>\n",
    "<a id=\"task1Model3\"></a>\n",
    "## Task 1 - Regression - Model 3 - Random Forest Regression"
   ]
  },
  {
   "cell_type": "markdown",
   "metadata": {},
   "source": [
    "**Goal:**  \n",
    "We want to develop a model that will predict crime volume for different NYC Borough locations for different times of day around the year.  Therefore, we've implemented a regression model using Random Forest Regression. \n",
    "\n",
    "This model can be used to get an accurate idea of the volume of crime to expect and could be useful for law enforcement to know how to distribute man power throughout the city for maximum coverage on give days and times of day."
   ]
  },
  {
   "cell_type": "markdown",
   "metadata": {},
   "source": [
    "### Data Preparation Part 1"
   ]
  },
  {
   "cell_type": "markdown",
   "metadata": {},
   "source": [
    "For initial model development and feature analysis, the features were reduced down to a subset that sought to avoid data leakage and maximize liklihood of importance based on whether or not the value changed daily.  We dropped features such as population, income and home sales prices as they were annual figures so didn't change on a daily basis, thus do not have discriminatory power.  \n",
    "\n",
    "Preprocessing of the data consisted of aggregating the raw data creating the count_cmplnt field that will be used as our target variable.  The count_cmplnt field is the total volume of crimes that occurred during a given period of the day (Early Morning, Morning, Day, Afternoon, etc..)  \n",
    "\n",
    "For this model, we dropped variables that have very little to no predictive power or were captured by other variables. These included, population, PC_Income, Hm_Sls_Price_Range and cmplnt_fr_dt as that is captured by month, day, and year.\n",
    "\n",
    "We chose to one hot encode the categorical features and scale the continuous variables.\n",
    "\n",
    "One Hot encoded features:\n",
    "- Daytime\n",
    "- Day_Name\n",
    "- Month\n",
    "- Season\n",
    "- BORO_NM\n",
    "- Holiday\n",
    "- Event\n",
    "\n",
    "Scaled features:\n",
    "- PRCP\n",
    "- SNOW\n",
    "- TMIN\n",
    "- TMAX\n",
    "\n",
    "Features left unchanged:\n",
    "- is_Holiday\n",
    "- is_Event\n",
    "- Day\n",
    "- Year\n",
    "- GeoCell\n",
    "\n",
    "These features were used for initial model development.  In Data Preparation Part 2, we detail which are the final features selected based in Gini-Importance along with their meaning."
   ]
  },
  {
   "cell_type": "code",
   "execution_count": 3,
   "metadata": {},
   "outputs": [
    {
     "name": "stderr",
     "output_type": "stream",
     "text": [
      "In C:\\Users\\BGaither\\Anaconda3\\lib\\site-packages\\matplotlib\\mpl-data\\stylelib\\_classic_test.mplstyle: \n",
      "The text.latex.preview rcparam was deprecated in Matplotlib 3.3 and will be removed two minor releases later.\n",
      "In C:\\Users\\BGaither\\Anaconda3\\lib\\site-packages\\matplotlib\\mpl-data\\stylelib\\_classic_test.mplstyle: \n",
      "The mathtext.fallback_to_cm rcparam was deprecated in Matplotlib 3.3 and will be removed two minor releases later.\n",
      "In C:\\Users\\BGaither\\Anaconda3\\lib\\site-packages\\matplotlib\\mpl-data\\stylelib\\_classic_test.mplstyle: Support for setting the 'mathtext.fallback_to_cm' rcParam is deprecated since 3.3 and will be removed two minor releases later; use 'mathtext.fallback : 'cm' instead.\n",
      "In C:\\Users\\BGaither\\Anaconda3\\lib\\site-packages\\matplotlib\\mpl-data\\stylelib\\_classic_test.mplstyle: \n",
      "The validate_bool_maybe_none function was deprecated in Matplotlib 3.3 and will be removed two minor releases later.\n",
      "In C:\\Users\\BGaither\\Anaconda3\\lib\\site-packages\\matplotlib\\mpl-data\\stylelib\\_classic_test.mplstyle: \n",
      "The savefig.jpeg_quality rcparam was deprecated in Matplotlib 3.3 and will be removed two minor releases later.\n",
      "In C:\\Users\\BGaither\\Anaconda3\\lib\\site-packages\\matplotlib\\mpl-data\\stylelib\\_classic_test.mplstyle: \n",
      "The keymap.all_axes rcparam was deprecated in Matplotlib 3.3 and will be removed two minor releases later.\n",
      "In C:\\Users\\BGaither\\Anaconda3\\lib\\site-packages\\matplotlib\\mpl-data\\stylelib\\_classic_test.mplstyle: \n",
      "The animation.avconv_path rcparam was deprecated in Matplotlib 3.3 and will be removed two minor releases later.\n",
      "In C:\\Users\\BGaither\\Anaconda3\\lib\\site-packages\\matplotlib\\mpl-data\\stylelib\\_classic_test.mplstyle: \n",
      "The animation.avconv_args rcparam was deprecated in Matplotlib 3.3 and will be removed two minor releases later.\n"
     ]
    }
   ],
   "source": [
    "import altair as alt\n",
    "import pandas as pd\n",
    "import numpy as np\n",
    "from sklearn.model_selection import train_test_split\n",
    "import matplotlib.pyplot as plt\n",
    "import seaborn as sns\n",
    "from sklearn import metrics\n",
    "\n",
    "#load csv\n",
    "file_path = \"C:\\\\Users\\\\BGaither\\\\OneDrive - McAfee\\\\Other\\\\school\\\\SMU\\\\Courses\\\\Fall 2020\\\\Machine Learning I\\\\Lab 2\\\\Data\\\\Training_and_Test_Set.csv\"\n",
    "#load Data into Pandas\n",
    "df_Crime = pd.read_csv(file_path)"
   ]
  },
  {
   "cell_type": "code",
   "execution_count": 4,
   "metadata": {},
   "outputs": [
    {
     "data": {
      "text/html": [
       "<div>\n",
       "<style scoped>\n",
       "    .dataframe tbody tr th:only-of-type {\n",
       "        vertical-align: middle;\n",
       "    }\n",
       "\n",
       "    .dataframe tbody tr th {\n",
       "        vertical-align: top;\n",
       "    }\n",
       "\n",
       "    .dataframe thead th {\n",
       "        text-align: right;\n",
       "    }\n",
       "</style>\n",
       "<table border=\"1\" class=\"dataframe\">\n",
       "  <thead>\n",
       "    <tr style=\"text-align: right;\">\n",
       "      <th></th>\n",
       "      <th>CMPLNT_FR_DT</th>\n",
       "      <th>Daytime</th>\n",
       "      <th>Day_Name</th>\n",
       "      <th>Month</th>\n",
       "      <th>Day</th>\n",
       "      <th>Year</th>\n",
       "      <th>Season</th>\n",
       "      <th>GeoCell</th>\n",
       "      <th>BORO_NM</th>\n",
       "      <th>PRCP</th>\n",
       "      <th>...</th>\n",
       "      <th>TMIN</th>\n",
       "      <th>TMAX</th>\n",
       "      <th>Population</th>\n",
       "      <th>PC_INCOME</th>\n",
       "      <th>Hm_Sls_Price_Range</th>\n",
       "      <th>Holiday</th>\n",
       "      <th>Event</th>\n",
       "      <th>is_Holiday</th>\n",
       "      <th>is_Event</th>\n",
       "      <th>count_cmplnt</th>\n",
       "    </tr>\n",
       "  </thead>\n",
       "  <tbody>\n",
       "    <tr>\n",
       "      <th>0</th>\n",
       "      <td>11/26/2014</td>\n",
       "      <td>Morning</td>\n",
       "      <td>Wednesday</td>\n",
       "      <td>November</td>\n",
       "      <td>26.0</td>\n",
       "      <td>2014.0</td>\n",
       "      <td>Fall</td>\n",
       "      <td>66.0</td>\n",
       "      <td>QUEENS</td>\n",
       "      <td>1.24</td>\n",
       "      <td>...</td>\n",
       "      <td>34</td>\n",
       "      <td>51</td>\n",
       "      <td>2,250,002</td>\n",
       "      <td>40997</td>\n",
       "      <td>Medium</td>\n",
       "      <td>NaN</td>\n",
       "      <td>NaN</td>\n",
       "      <td>0</td>\n",
       "      <td>0</td>\n",
       "      <td>1</td>\n",
       "    </tr>\n",
       "    <tr>\n",
       "      <th>1</th>\n",
       "      <td>12/1/2014</td>\n",
       "      <td>Late Night</td>\n",
       "      <td>Monday</td>\n",
       "      <td>December</td>\n",
       "      <td>1.0</td>\n",
       "      <td>2014.0</td>\n",
       "      <td>Winter</td>\n",
       "      <td>60.0</td>\n",
       "      <td>QUEENS</td>\n",
       "      <td>0.09</td>\n",
       "      <td>...</td>\n",
       "      <td>42</td>\n",
       "      <td>65</td>\n",
       "      <td>2,250,002</td>\n",
       "      <td>40997</td>\n",
       "      <td>Medium</td>\n",
       "      <td>NaN</td>\n",
       "      <td>NaN</td>\n",
       "      <td>0</td>\n",
       "      <td>0</td>\n",
       "      <td>1</td>\n",
       "    </tr>\n",
       "    <tr>\n",
       "      <th>2</th>\n",
       "      <td>11/10/2015</td>\n",
       "      <td>Morning</td>\n",
       "      <td>Tuesday</td>\n",
       "      <td>November</td>\n",
       "      <td>10.0</td>\n",
       "      <td>2015.0</td>\n",
       "      <td>Fall</td>\n",
       "      <td>15.0</td>\n",
       "      <td>BROOKLYN</td>\n",
       "      <td>0.26</td>\n",
       "      <td>...</td>\n",
       "      <td>51</td>\n",
       "      <td>57</td>\n",
       "      <td>2,552,911</td>\n",
       "      <td>43915</td>\n",
       "      <td>High</td>\n",
       "      <td>NaN</td>\n",
       "      <td>NaN</td>\n",
       "      <td>0</td>\n",
       "      <td>0</td>\n",
       "      <td>2</td>\n",
       "    </tr>\n",
       "    <tr>\n",
       "      <th>3</th>\n",
       "      <td>2/4/2014</td>\n",
       "      <td>Morning</td>\n",
       "      <td>Tuesday</td>\n",
       "      <td>February</td>\n",
       "      <td>4.0</td>\n",
       "      <td>2014.0</td>\n",
       "      <td>Winter</td>\n",
       "      <td>48.0</td>\n",
       "      <td>QUEENS</td>\n",
       "      <td>0.00</td>\n",
       "      <td>...</td>\n",
       "      <td>22</td>\n",
       "      <td>35</td>\n",
       "      <td>2,250,002</td>\n",
       "      <td>40997</td>\n",
       "      <td>Medium</td>\n",
       "      <td>NaN</td>\n",
       "      <td>NaN</td>\n",
       "      <td>0</td>\n",
       "      <td>0</td>\n",
       "      <td>3</td>\n",
       "    </tr>\n",
       "    <tr>\n",
       "      <th>4</th>\n",
       "      <td>8/25/2015</td>\n",
       "      <td>Late Night</td>\n",
       "      <td>Tuesday</td>\n",
       "      <td>August</td>\n",
       "      <td>25.0</td>\n",
       "      <td>2015.0</td>\n",
       "      <td>Summer</td>\n",
       "      <td>35.0</td>\n",
       "      <td>BROOKLYN</td>\n",
       "      <td>0.00</td>\n",
       "      <td>...</td>\n",
       "      <td>73</td>\n",
       "      <td>90</td>\n",
       "      <td>2,552,911</td>\n",
       "      <td>43915</td>\n",
       "      <td>High</td>\n",
       "      <td>NaN</td>\n",
       "      <td>NaN</td>\n",
       "      <td>0</td>\n",
       "      <td>0</td>\n",
       "      <td>1</td>\n",
       "    </tr>\n",
       "  </tbody>\n",
       "</table>\n",
       "<p>5 rows × 21 columns</p>\n",
       "</div>"
      ],
      "text/plain": [
       "  CMPLNT_FR_DT     Daytime   Day_Name     Month   Day    Year  Season  \\\n",
       "0   11/26/2014     Morning  Wednesday  November  26.0  2014.0    Fall   \n",
       "1    12/1/2014  Late Night     Monday  December   1.0  2014.0  Winter   \n",
       "2   11/10/2015     Morning    Tuesday  November  10.0  2015.0    Fall   \n",
       "3     2/4/2014     Morning    Tuesday  February   4.0  2014.0  Winter   \n",
       "4    8/25/2015  Late Night    Tuesday    August  25.0  2015.0  Summer   \n",
       "\n",
       "   GeoCell   BORO_NM  PRCP  ...  TMIN  TMAX  Population PC_INCOME  \\\n",
       "0     66.0    QUEENS  1.24  ...    34    51   2,250,002     40997   \n",
       "1     60.0    QUEENS  0.09  ...    42    65   2,250,002     40997   \n",
       "2     15.0  BROOKLYN  0.26  ...    51    57   2,552,911     43915   \n",
       "3     48.0    QUEENS  0.00  ...    22    35   2,250,002     40997   \n",
       "4     35.0  BROOKLYN  0.00  ...    73    90   2,552,911     43915   \n",
       "\n",
       "   Hm_Sls_Price_Range Holiday Event is_Holiday  is_Event  count_cmplnt  \n",
       "0              Medium     NaN   NaN          0         0             1  \n",
       "1              Medium     NaN   NaN          0         0             1  \n",
       "2                High     NaN   NaN          0         0             2  \n",
       "3              Medium     NaN   NaN          0         0             3  \n",
       "4                High     NaN   NaN          0         0             1  \n",
       "\n",
       "[5 rows x 21 columns]"
      ]
     },
     "execution_count": 4,
     "metadata": {},
     "output_type": "execute_result"
    }
   ],
   "source": [
    "df_Crime.head(5)"
   ]
  },
  {
   "cell_type": "code",
   "execution_count": 5,
   "metadata": {},
   "outputs": [
    {
     "data": {
      "text/plain": [
       "(170650, 21)"
      ]
     },
     "execution_count": 5,
     "metadata": {},
     "output_type": "execute_result"
    }
   ],
   "source": [
    "df_Crime.shape"
   ]
  },
  {
   "cell_type": "code",
   "execution_count": 6,
   "metadata": {},
   "outputs": [
    {
     "data": {
      "text/plain": [
       "CMPLNT_FR_DT               0\n",
       "Daytime                    0\n",
       "Day_Name                   0\n",
       "Month                      0\n",
       "Day                        0\n",
       "Year                       0\n",
       "Season                     0\n",
       "GeoCell                    0\n",
       "BORO_NM                    0\n",
       "PRCP                       0\n",
       "SNOW                       0\n",
       "TMIN                       0\n",
       "TMAX                       0\n",
       "Population                 0\n",
       "PC_INCOME                  0\n",
       "Hm_Sls_Price_Range         0\n",
       "Holiday               166062\n",
       "Event                 144780\n",
       "is_Holiday                 0\n",
       "is_Event                   0\n",
       "count_cmplnt               0\n",
       "dtype: int64"
      ]
     },
     "execution_count": 6,
     "metadata": {},
     "output_type": "execute_result"
    }
   ],
   "source": [
    "#let's check for NaN values in the dataset\n",
    "len(df_Crime) - df_Crime.count()"
   ]
  },
  {
   "cell_type": "code",
   "execution_count": 7,
   "metadata": {},
   "outputs": [],
   "source": [
    "#since the only NANs are in Holiday and Event, we'll replace those NaNs with 'None'\n",
    "df_Crime = df_Crime.fillna('None')"
   ]
  },
  {
   "cell_type": "code",
   "execution_count": 8,
   "metadata": {},
   "outputs": [
    {
     "data": {
      "text/plain": [
       "CMPLNT_FR_DT          0\n",
       "Daytime               0\n",
       "Day_Name              0\n",
       "Month                 0\n",
       "Day                   0\n",
       "Year                  0\n",
       "Season                0\n",
       "GeoCell               0\n",
       "BORO_NM               0\n",
       "PRCP                  0\n",
       "SNOW                  0\n",
       "TMIN                  0\n",
       "TMAX                  0\n",
       "Population            0\n",
       "PC_INCOME             0\n",
       "Hm_Sls_Price_Range    0\n",
       "Holiday               0\n",
       "Event                 0\n",
       "is_Holiday            0\n",
       "is_Event              0\n",
       "count_cmplnt          0\n",
       "dtype: int64"
      ]
     },
     "execution_count": 8,
     "metadata": {},
     "output_type": "execute_result"
    }
   ],
   "source": [
    "#let's make sure we've taken care of all the NaNs\n",
    "len(df_Crime) - df_Crime.count()"
   ]
  },
  {
   "cell_type": "code",
   "execution_count": 9,
   "metadata": {},
   "outputs": [],
   "source": [
    "#drop population, PC_Income and Hm_Sls_Price_Range as they do not vary daily\n",
    "#drop cmplnt_fr_dt as that is captured by month, day, and year\n",
    "df_Crime = df_Crime[['Daytime','Day_Name','Month','Day','Year','Season','GeoCell','BORO_NM','PRCP','SNOW','TMIN','TMAX','Holiday','Event','is_Holiday','is_Event','count_cmplnt']]"
   ]
  },
  {
   "cell_type": "code",
   "execution_count": 10,
   "metadata": {},
   "outputs": [],
   "source": [
    "X = df_Crime[['Daytime','Day_Name','Month','Day','Year','Season','GeoCell','BORO_NM','PRCP','SNOW','TMIN','TMAX','Holiday','Event','is_Holiday','is_Event']]\n",
    "y = df_Crime[['count_cmplnt']]"
   ]
  },
  {
   "cell_type": "markdown",
   "metadata": {},
   "source": [
    "### Data Preparation Part 2"
   ]
  },
  {
   "cell_type": "markdown",
   "metadata": {},
   "source": [
    "After fitting a preliminary Random Forest Regression model, we've identified the top performing features using the Gini-importances with a threshold of >.004 which selects 22 features to feed into the model.\n",
    "\n",
    "**Inputs to the model are:**\n",
    "\n",
    "The following features are scaled:\n",
    "- PRCP: amount of rainfall for the day\n",
    "- TMIN: minimum temp for the day\n",
    "- TMAX: maximum temp for the day\n",
    "\n",
    "The following features are one hot encoded:\n",
    "- Daytime:  time period of the day (Early Morning, Morning, Day, Afternoon, Evening, etc...)\n",
    "- Month: the month for which you would like to predict crime volume\n",
    "- Day_Name:  Day of the week (Monday, Tuesday, Wednesday, ect...)\n",
    "- BORO_NM: Name of the borough you would like to predict crime volume\n",
    "\n",
    "The following features are left unchanged:\n",
    "- Day: the day of the month in numerical format\n",
    "- Year: the year in numerical format YYYY\n",
    "- GeoCell: We would need to perform feature transformation taking inputs x_coordinate and y_coordinate to calculate the GeoCell and then pass GeoCell value to the model.  This allows us to use geolocation details in a more abstract way to avoid overfitting to an exact location."
   ]
  },
  {
   "cell_type": "code",
   "execution_count": 11,
   "metadata": {},
   "outputs": [],
   "source": [
    "#one hot encode the categorical features\n",
    "from sklearn.preprocessing import StandardScaler, OneHotEncoder\n",
    "\n",
    "columns_to_encode = ['Daytime','Day_Name','Month','Season','BORO_NM','Holiday','Event']\n",
    "columns_no_change = ['is_Holiday','is_Event','Day','Year','GeoCell','PRCP','SNOW','TMIN','TMAX']\n",
    "\n",
    "df_existing = X[columns_no_change]\n",
    "existing_cols = df_existing.to_numpy()\n",
    "\n",
    "#encoder \n",
    "ohe = OneHotEncoder(sparse=False)\n",
    "\n",
    "#ohe separate columns\n",
    "encoded_columns = ohe.fit_transform(X[columns_to_encode])\n",
    "\n",
    "#concatenate processed columns back together for X\n",
    "X = np.concatenate([encoded_columns,existing_cols],axis=1)\n",
    "\n",
    "#get the column names back to the dataframe\n",
    "df1 = pd.DataFrame(X)\n",
    "feature_names = ohe.get_feature_names().tolist()\n",
    "col_names = feature_names+columns_no_change\n",
    "df1.columns = col_names\n",
    "X = df1"
   ]
  },
  {
   "cell_type": "code",
   "execution_count": 12,
   "metadata": {},
   "outputs": [],
   "source": [
    "#scale specific columns\n",
    "from sklearn.preprocessing import StandardScaler, OneHotEncoder\n",
    "\n",
    "#go ahead and split the data so we can scale data separately on training and then on test so we don't have leakage\n",
    "X_train, X_test, y_train, y_test = train_test_split(X, y, test_size=0.2, random_state=0)\n",
    "\n",
    "columns_to_scale = ['PRCP','SNOW','TMIN','TMAX']\n",
    "#get a list of all columns without the columns to scale above\n",
    "lstCols = X.columns.values.tolist()\n",
    "lstCols.remove('PRCP')\n",
    "lstCols.remove('SNOW')\n",
    "lstCols.remove('TMIN')\n",
    "lstCols.remove('TMAX')\n",
    "columns_no_change = lstCols\n",
    "\n",
    "df_existing = X_train[columns_no_change]\n",
    "existing_cols = df_existing.to_numpy()\n",
    "\n",
    "#scaler\n",
    "scaler = StandardScaler()\n",
    "\n",
    "#scale and encode separate columns\n",
    "scaled_columns = scaler.fit_transform(X_train[columns_to_scale])\n",
    "\n",
    "#concatenate processed columns back together for X_train\n",
    "X_train_np = np.concatenate([scaled_columns,existing_cols],axis=1)\n",
    "\n",
    "df_existing = X_test[columns_no_change]\n",
    "existing_cols = df_existing.to_numpy()\n",
    "\n",
    "#separately scale X_test\n",
    "scaled_columns = scaler.transform(X_test[columns_to_scale]) #use the fit scaler object from X_train to scale X_test\n",
    "\n",
    "X_test_np = np.concatenate([scaled_columns,existing_cols],axis=1)"
   ]
  },
  {
   "cell_type": "code",
   "execution_count": 13,
   "metadata": {},
   "outputs": [],
   "source": [
    "#convert the numpy array back to a pandas dataframe for X_train\n",
    "df1 = pd.DataFrame(X_train_np)\n",
    "#get the column names back to the dataframe\n",
    "col_names = columns_to_scale+columns_no_change\n",
    "df1.columns = col_names\n",
    "X_train = df1\n",
    "\n",
    "#convert the numpy array back to a pandas dataframe for X_test\n",
    "df1 = pd.DataFrame(X_test_np)\n",
    "#get the column names back to the dataframe\n",
    "col_names = columns_to_scale+columns_no_change\n",
    "df1.columns = col_names\n",
    "X_test = df1"
   ]
  },
  {
   "cell_type": "code",
   "execution_count": 14,
   "metadata": {},
   "outputs": [
    {
     "data": {
      "text/html": [
       "<div>\n",
       "<style scoped>\n",
       "    .dataframe tbody tr th:only-of-type {\n",
       "        vertical-align: middle;\n",
       "    }\n",
       "\n",
       "    .dataframe tbody tr th {\n",
       "        vertical-align: top;\n",
       "    }\n",
       "\n",
       "    .dataframe thead th {\n",
       "        text-align: right;\n",
       "    }\n",
       "</style>\n",
       "<table border=\"1\" class=\"dataframe\">\n",
       "  <thead>\n",
       "    <tr style=\"text-align: right;\">\n",
       "      <th></th>\n",
       "      <th>count_cmplnt</th>\n",
       "    </tr>\n",
       "  </thead>\n",
       "  <tbody>\n",
       "    <tr>\n",
       "      <th>count</th>\n",
       "      <td>136520.000000</td>\n",
       "    </tr>\n",
       "    <tr>\n",
       "      <th>mean</th>\n",
       "      <td>4.711742</td>\n",
       "    </tr>\n",
       "    <tr>\n",
       "      <th>std</th>\n",
       "      <td>5.144352</td>\n",
       "    </tr>\n",
       "    <tr>\n",
       "      <th>min</th>\n",
       "      <td>1.000000</td>\n",
       "    </tr>\n",
       "    <tr>\n",
       "      <th>25%</th>\n",
       "      <td>1.000000</td>\n",
       "    </tr>\n",
       "    <tr>\n",
       "      <th>50%</th>\n",
       "      <td>3.000000</td>\n",
       "    </tr>\n",
       "    <tr>\n",
       "      <th>75%</th>\n",
       "      <td>6.000000</td>\n",
       "    </tr>\n",
       "    <tr>\n",
       "      <th>max</th>\n",
       "      <td>132.000000</td>\n",
       "    </tr>\n",
       "  </tbody>\n",
       "</table>\n",
       "</div>"
      ],
      "text/plain": [
       "        count_cmplnt\n",
       "count  136520.000000\n",
       "mean        4.711742\n",
       "std         5.144352\n",
       "min         1.000000\n",
       "25%         1.000000\n",
       "50%         3.000000\n",
       "75%         6.000000\n",
       "max       132.000000"
      ]
     },
     "execution_count": 14,
     "metadata": {},
     "output_type": "execute_result"
    }
   ],
   "source": [
    "#Let's take a look at the count_cmplnt target variable and get an idea of the distribution of crime volumes\n",
    "#we can see that 75% of the data is between 1 and 6 crimes with some outliers of up to 132 crimes per period\n",
    "y_train[['count_cmplnt']].describe()"
   ]
  },
  {
   "cell_type": "code",
   "execution_count": 15,
   "metadata": {},
   "outputs": [
    {
     "name": "stdout",
     "output_type": "stream",
     "text": [
      "Wall time: 3min 53s\n",
      "Cross Validation Results: [-1.65603575 -1.64081234 -1.63430779 -1.637207   -1.6277864 ]\n"
     ]
    }
   ],
   "source": [
    "#let's perform a 5 fold cross validation using a baseline Random Forest Regression model and evaluate the results\n",
    "#we can see that the five results are very close to one another so our model is quite stable\n",
    "from sklearn.model_selection import train_test_split\n",
    "from sklearn.model_selection import cross_val_score\n",
    "from sklearn.ensemble import RandomForestRegressor\n",
    "from sklearn.model_selection import GridSearchCV\n",
    "\n",
    "#create regressor object\n",
    "reg = RandomForestRegressor(n_estimators = 50, random_state = 0)\n",
    "\n",
    "#5 fold cross validation\n",
    "%time cv_results = cross_val_score(reg, X_train, y_train.values.ravel(), cv=5, scoring='neg_mean_absolute_error')\n",
    "print('Cross Validation Results: {}'.format(cv_results))"
   ]
  },
  {
   "cell_type": "code",
   "execution_count": 16,
   "metadata": {},
   "outputs": [
    {
     "name": "stdout",
     "output_type": "stream",
     "text": [
      "Wall time: 1min\n"
     ]
    }
   ],
   "source": [
    "#Next, we'll fit a base Random Forest Regression model again so that we can grab the most important features\n",
    "from sklearn.ensemble import RandomForestRegressor\n",
    "reg = RandomForestRegressor(n_estimators = 50, random_state = 0)\n",
    "%time reg.fit(X_train,y_train.values.ravel())\n",
    "y_pred = reg.predict(X_test)"
   ]
  },
  {
   "cell_type": "code",
   "execution_count": null,
   "metadata": {},
   "outputs": [],
   "source": []
  },
  {
   "cell_type": "markdown",
   "metadata": {},
   "source": [
    "### Modeling and Evaluation 1"
   ]
  },
  {
   "cell_type": "markdown",
   "metadata": {},
   "source": [
    "To assess our regression models, we will be comparing the Root Mean Squared Error (RMSE) and Mean Absolute Error.  The best model will have the smallest resulting value from these metrics as it is indicative of the amount of error in our model.\n",
    "\n",
    "RMSE is a measure of the goodness of fit of the model.  RMSE gives a penalty to large prediction errors by squaring it.\n",
    "MAE is taking the sum of the absolute error.  MAE is a more direct representation of the sum of error terms.\n"
   ]
  },
  {
   "cell_type": "code",
   "execution_count": 17,
   "metadata": {},
   "outputs": [
    {
     "data": {
      "text/plain": [
       "<AxesSubplot:>"
      ]
     },
     "execution_count": 17,
     "metadata": {},
     "output_type": "execute_result"
    },
    {
     "data": {
      "image/png": "[encoded data removed]",
      "text/plain": [
       "<Figure size 1296x360 with 1 Axes>"
      ]
     },
     "metadata": {
      "needs_background": "light"
     },
     "output_type": "display_data"
    }
   ],
   "source": [
    "#get feature importance\n",
    "feats = {} # a dict to hold feature_name: feature_importance\n",
    "for feature, importance in zip(X_test.columns, reg.feature_importances_):\n",
    "    feats[feature] = importance #add the name/value pair \n",
    "    #print('{}, Score: %.5f'.format(feature) %(importance))\n",
    "\n",
    "importances = pd.DataFrame.from_dict(feats, orient='index').rename(columns={0: 'Gini-importance'})\n",
    "importances.sort_values(by='Gini-importance').plot(figsize=(18,5),kind='bar', rot=45)"
   ]
  },
  {
   "cell_type": "code",
   "execution_count": 18,
   "metadata": {},
   "outputs": [
    {
     "name": "stderr",
     "output_type": "stream",
     "text": [
      "C:\\Users\\BGaither\\Anaconda3\\lib\\site-packages\\ipykernel_launcher.py:3: SettingWithCopyWarning: \n",
      "A value is trying to be set on a copy of a slice from a DataFrame.\n",
      "Try using .loc[row_indexer,col_indexer] = value instead\n",
      "\n",
      "See the caveats in the documentation: https://pandas.pydata.org/pandas-docs/stable/user_guide/indexing.html#returning-a-view-versus-a-copy\n",
      "  This is separate from the ipykernel package so we can avoid doing imports until\n"
     ]
    },
    {
     "data": {
      "text/html": [
       "<div>\n",
       "<style scoped>\n",
       "    .dataframe tbody tr th:only-of-type {\n",
       "        vertical-align: middle;\n",
       "    }\n",
       "\n",
       "    .dataframe tbody tr th {\n",
       "        vertical-align: top;\n",
       "    }\n",
       "\n",
       "    .dataframe thead th {\n",
       "        text-align: right;\n",
       "    }\n",
       "</style>\n",
       "<table border=\"1\" class=\"dataframe\">\n",
       "  <thead>\n",
       "    <tr style=\"text-align: right;\">\n",
       "      <th></th>\n",
       "      <th>Gini-importance</th>\n",
       "      <th>feature</th>\n",
       "    </tr>\n",
       "  </thead>\n",
       "  <tbody>\n",
       "    <tr>\n",
       "      <th>GeoCell</th>\n",
       "      <td>0.453479</td>\n",
       "      <td>GeoCell</td>\n",
       "    </tr>\n",
       "    <tr>\n",
       "      <th>x4_QUEENS</th>\n",
       "      <td>0.092685</td>\n",
       "      <td>x4_QUEENS</td>\n",
       "    </tr>\n",
       "    <tr>\n",
       "      <th>x4_MANHATTAN</th>\n",
       "      <td>0.070824</td>\n",
       "      <td>x4_MANHATTAN</td>\n",
       "    </tr>\n",
       "    <tr>\n",
       "      <th>Day</th>\n",
       "      <td>0.039940</td>\n",
       "      <td>Day</td>\n",
       "    </tr>\n",
       "    <tr>\n",
       "      <th>TMAX</th>\n",
       "      <td>0.036671</td>\n",
       "      <td>TMAX</td>\n",
       "    </tr>\n",
       "    <tr>\n",
       "      <th>TMIN</th>\n",
       "      <td>0.035702</td>\n",
       "      <td>TMIN</td>\n",
       "    </tr>\n",
       "    <tr>\n",
       "      <th>x4_BRONX</th>\n",
       "      <td>0.033021</td>\n",
       "      <td>x4_BRONX</td>\n",
       "    </tr>\n",
       "    <tr>\n",
       "      <th>x0_Night</th>\n",
       "      <td>0.032610</td>\n",
       "      <td>x0_Night</td>\n",
       "    </tr>\n",
       "    <tr>\n",
       "      <th>x0_Evening</th>\n",
       "      <td>0.030263</td>\n",
       "      <td>x0_Evening</td>\n",
       "    </tr>\n",
       "    <tr>\n",
       "      <th>x0_Day</th>\n",
       "      <td>0.019059</td>\n",
       "      <td>x0_Day</td>\n",
       "    </tr>\n",
       "    <tr>\n",
       "      <th>PRCP</th>\n",
       "      <td>0.016485</td>\n",
       "      <td>PRCP</td>\n",
       "    </tr>\n",
       "    <tr>\n",
       "      <th>x1_Sunday</th>\n",
       "      <td>0.014150</td>\n",
       "      <td>x1_Sunday</td>\n",
       "    </tr>\n",
       "    <tr>\n",
       "      <th>x1_Saturday</th>\n",
       "      <td>0.010036</td>\n",
       "      <td>x1_Saturday</td>\n",
       "    </tr>\n",
       "    <tr>\n",
       "      <th>x4_BROOKLYN</th>\n",
       "      <td>0.008953</td>\n",
       "      <td>x4_BROOKLYN</td>\n",
       "    </tr>\n",
       "    <tr>\n",
       "      <th>x0_Early Morning</th>\n",
       "      <td>0.008850</td>\n",
       "      <td>x0_Early Morning</td>\n",
       "    </tr>\n",
       "    <tr>\n",
       "      <th>Year</th>\n",
       "      <td>0.008067</td>\n",
       "      <td>Year</td>\n",
       "    </tr>\n",
       "    <tr>\n",
       "      <th>x0_Morning</th>\n",
       "      <td>0.008059</td>\n",
       "      <td>x0_Morning</td>\n",
       "    </tr>\n",
       "    <tr>\n",
       "      <th>x1_Friday</th>\n",
       "      <td>0.006750</td>\n",
       "      <td>x1_Friday</td>\n",
       "    </tr>\n",
       "    <tr>\n",
       "      <th>x1_Monday</th>\n",
       "      <td>0.004929</td>\n",
       "      <td>x1_Monday</td>\n",
       "    </tr>\n",
       "    <tr>\n",
       "      <th>x0_Late Night</th>\n",
       "      <td>0.004314</td>\n",
       "      <td>x0_Late Night</td>\n",
       "    </tr>\n",
       "    <tr>\n",
       "      <th>x1_Wednesday</th>\n",
       "      <td>0.004311</td>\n",
       "      <td>x1_Wednesday</td>\n",
       "    </tr>\n",
       "    <tr>\n",
       "      <th>x1_Thursday</th>\n",
       "      <td>0.004171</td>\n",
       "      <td>x1_Thursday</td>\n",
       "    </tr>\n",
       "  </tbody>\n",
       "</table>\n",
       "</div>"
      ],
      "text/plain": [
       "                  Gini-importance           feature\n",
       "GeoCell                  0.453479           GeoCell\n",
       "x4_QUEENS                0.092685         x4_QUEENS\n",
       "x4_MANHATTAN             0.070824      x4_MANHATTAN\n",
       "Day                      0.039940               Day\n",
       "TMAX                     0.036671              TMAX\n",
       "TMIN                     0.035702              TMIN\n",
       "x4_BRONX                 0.033021          x4_BRONX\n",
       "x0_Night                 0.032610          x0_Night\n",
       "x0_Evening               0.030263        x0_Evening\n",
       "x0_Day                   0.019059            x0_Day\n",
       "PRCP                     0.016485              PRCP\n",
       "x1_Sunday                0.014150         x1_Sunday\n",
       "x1_Saturday              0.010036       x1_Saturday\n",
       "x4_BROOKLYN              0.008953       x4_BROOKLYN\n",
       "x0_Early Morning         0.008850  x0_Early Morning\n",
       "Year                     0.008067              Year\n",
       "x0_Morning               0.008059        x0_Morning\n",
       "x1_Friday                0.006750         x1_Friday\n",
       "x1_Monday                0.004929         x1_Monday\n",
       "x0_Late Night            0.004314     x0_Late Night\n",
       "x1_Wednesday             0.004311      x1_Wednesday\n",
       "x1_Thursday              0.004171       x1_Thursday"
      ]
     },
     "execution_count": 18,
     "metadata": {},
     "output_type": "execute_result"
    }
   ],
   "source": [
    "#next, we'll grab the most important features using the threshold of gini-importance > .004\n",
    "df_top_features = importances[importances['Gini-importance']>.004]\n",
    "df_top_features['feature'] = df_top_features.index\n",
    "top_features = df_top_features['feature'].tolist()\n",
    "\n",
    "df_top_features.sort_values(by='Gini-importance',ascending=False)"
   ]
  },
  {
   "cell_type": "code",
   "execution_count": 19,
   "metadata": {},
   "outputs": [],
   "source": [
    "#columns to keep based on feature importance\n",
    "X_train=X_train[top_features]\n",
    "\n",
    "X_test = X_test[top_features]"
   ]
  },
  {
   "cell_type": "markdown",
   "metadata": {},
   "source": [
    "### Modeling and Evaluation 2"
   ]
  },
  {
   "cell_type": "markdown",
   "metadata": {},
   "source": [
    "First off, we randomly selected 10% of the total dataset as a holdout set that we'll use to compare all models against for the regression task. This will ensure we're comparing models against the same dataset. \n",
    "\n",
    "Then, from the remaining 90% of the data, we split the data into an 80/20 training/test set.\n",
    "\n",
    "This approach is appropriate as we want the model to learn how to predict crime volumes based on given independent variables.  The split was actually performed above in Data Perparation Part 2 of this section."
   ]
  },
  {
   "cell_type": "markdown",
   "metadata": {},
   "source": [
    "### Modeling and Evaluation 3"
   ]
  },
  {
   "cell_type": "markdown",
   "metadata": {},
   "source": [
    "Now we will implement the Random Forest Regression model utilizing the data prepared above."
   ]
  },
  {
   "cell_type": "code",
   "execution_count": null,
   "metadata": {},
   "outputs": [],
   "source": [
    "#First, we'll perform a grid search to identify the optimal hyperparameters for the model\n",
    "#Set up the parameters for grid search\n",
    "parameters = {'n_estimators' : (30,50,70,90),\n",
    "              'criterion' : ('mse','mae'),\n",
    "              'max_depth' : (5,7,9,10),\n",
    "              'max_features' : ('auto','sqrt'),\n",
    "              'min_samples_split' : (2,4,6)\n",
    "             }"
   ]
  },
  {
   "cell_type": "code",
   "execution_count": null,
   "metadata": {},
   "outputs": [],
   "source": [
    "#since grid search is taking a long time with full training data, we'll subsample \n",
    "y_train.reset_index(drop=True,inplace=True)\n",
    "df = pd.concat([X_train,y_train], axis=1)\n",
    "len(df) - df.count()"
   ]
  },
  {
   "cell_type": "code",
   "execution_count": null,
   "metadata": {},
   "outputs": [],
   "source": [
    "#take a randome 50% sample of the data for grid search\n",
    "df_ds = df.sample(frac=.5,replace=True,random_state=1)\n",
    "lstCols = df_ds.columns.values.tolist()\n",
    "lstCols.remove('count_cmplnt')\n",
    "X_ds_train = df_ds[lstCols]\n",
    "y_ds_train = df_ds[['count_cmplnt']]"
   ]
  },
  {
   "cell_type": "markdown",
   "metadata": {},
   "source": [
    "Since the grid search put a lot of load on my local machine, I used an AWS Sagemaker instance with an EC2 instance with a lot of compute to perform the Grid Search.  Therefore, the code to perform the grid search is below but I've included the results of the Grid Search in Markdown below to avoid running the code again locally."
   ]
  },
  {
   "cell_type": "code",
   "execution_count": null,
   "metadata": {},
   "outputs": [],
   "source": [
    "# reg_grid = GridSearchCV(RandomForestRegressor(n_jobs=-1,oob_score=False),param_grid=parameters,cv=3,verbose=True)\n",
    "# %time reg_grid_model = reg_grid.fit(X_ds_train,y_ds_train.values.ravel())"
   ]
  },
  {
   "cell_type": "code",
   "execution_count": null,
   "metadata": {},
   "outputs": [],
   "source": [
    "# reg_grid_model.best_estimator_"
   ]
  },
  {
   "cell_type": "markdown",
   "metadata": {},
   "source": [
    "#### Results of the Grid Search\n",
    "\n",
    "\n",
    "Time taken:  4h 30min using SageMaker ml.c5.9xlarge\n",
    "\n",
    "<b> Best Estimator: </b>\n",
    "\n",
    "RandomForestRegressor(bootstrap=True, ccp_alpha=0.0, criterion='mae',\n",
    "                      max_depth=10, max_features='auto', max_leaf_nodes=None,\n",
    "                      max_samples=None, min_impurity_decrease=0.0,\n",
    "                      min_impurity_split=None, min_samples_leaf=1,\n",
    "                      min_samples_split=2, min_weight_fraction_leaf=0.0,\n",
    "                      n_estimators=50, n_jobs=-1, oob_score=False,\n",
    "                      random_state=None, verbose=0, warm_start=False)\n",
    "                      \n",
    "                      \n",
    "<b> Best Score (MAE)</b>\n",
    "\n",
    "0.7295567982206977"
   ]
  },
  {
   "cell_type": "markdown",
   "metadata": {},
   "source": [
    "#### Implement the Best Model from Grid Search"
   ]
  },
  {
   "cell_type": "code",
   "execution_count": 20,
   "metadata": {},
   "outputs": [
    {
     "name": "stdout",
     "output_type": "stream",
     "text": [
      "Wall time: 1h 1min 10s\n"
     ]
    },
    {
     "data": {
      "text/plain": [
       "RandomForestRegressor(criterion='mae', max_depth=10, n_estimators=50, n_jobs=-1)"
      ]
     },
     "execution_count": 20,
     "metadata": {},
     "output_type": "execute_result"
    }
   ],
   "source": [
    "from sklearn.ensemble import RandomForestRegressor\n",
    "\n",
    "reg = RandomForestRegressor(bootstrap=True, \n",
    "                            ccp_alpha=0.0, \n",
    "                            criterion='mae',\n",
    "                            max_depth=10, \n",
    "                            max_features='auto', \n",
    "                            max_leaf_nodes=None,\n",
    "                            max_samples=None, \n",
    "                            min_impurity_decrease=0.0,\n",
    "                            min_impurity_split=None, \n",
    "                            min_samples_leaf=1,\n",
    "                            min_samples_split=2, \n",
    "                            min_weight_fraction_leaf=0.0,\n",
    "                            n_estimators=50, \n",
    "                            n_jobs=-1, \n",
    "                            oob_score=False,\n",
    "                            random_state=None, \n",
    "                            verbose=0, \n",
    "                            warm_start=False)\n",
    "%time reg.fit(X_train,y_train.values.ravel())"
   ]
  },
  {
   "cell_type": "code",
   "execution_count": 21,
   "metadata": {},
   "outputs": [],
   "source": [
    "y_pred = reg.predict(X_test)"
   ]
  },
  {
   "cell_type": "markdown",
   "metadata": {},
   "source": [
    "### Modeling and Evaluation 4"
   ]
  },
  {
   "cell_type": "markdown",
   "metadata": {},
   "source": [
    "#### Analyze the model against the Test Set\n",
    "\n",
    "Analyzing the results of the final Random Forest Regression model.\n",
    "\n",
    "Below, we can see the model metrics MAE, RMSE and the R<sup>2</sup> against the test set"
   ]
  },
  {
   "cell_type": "code",
   "execution_count": 22,
   "metadata": {},
   "outputs": [
    {
     "name": "stdout",
     "output_type": "stream",
     "text": [
      "Mean Absolute Error: 1.7450969821271607 crimes per period\n",
      "Root Mean Squared Error: 2.7592213367177587 crimes per period\n",
      "r2: 0.7098933109052783\n"
     ]
    }
   ],
   "source": [
    "from sklearn.metrics import *\n",
    "\n",
    "#print out the mean absolute error (mae)\n",
    "print('Mean Absolute Error:', mean_absolute_error(y_test,y_pred),'crimes per period')\n",
    "print('Root Mean Squared Error:', mean_squared_error(y_test,y_pred, squared=False),'crimes per period')\n",
    "print('r2:',r2_score(y_test,y_pred))"
   ]
  },
  {
   "cell_type": "code",
   "execution_count": 23,
   "metadata": {},
   "outputs": [
    {
     "data": {
      "image/png": "[encoded data removed]",
      "text/plain": [
       "<Figure size 432x288 with 1 Axes>"
      ]
     },
     "metadata": {},
     "output_type": "display_data"
    }
   ],
   "source": [
    "importances = list(reg.feature_importances_)\n",
    "feature_list = X_train.columns.values.tolist()\n",
    "\n",
    "%matplotlib inline\n",
    "# Set the style\n",
    "plt.style.use('fivethirtyeight')\n",
    "# list of x locations for plotting\n",
    "x_values = list(range(len(importances)))\n",
    "# Make a bar chart\n",
    "plt.bar(x_values, importances, orientation = 'vertical')\n",
    "# Tick labels for x axis\n",
    "plt.xticks(x_values, feature_list, rotation='vertical')\n",
    "# Axis labels and title\n",
    "plt.ylabel('Importance'); plt.xlabel('Variable'); plt.title('Variable Importances');"
   ]
  },
  {
   "cell_type": "code",
   "execution_count": 24,
   "metadata": {},
   "outputs": [],
   "source": [
    "#let's combine the data so that we can plot the predicted agains the actuals for a subset of the data to visually inspect\n",
    "y_test.reset_index(drop=True,inplace=True)\n",
    "df_testWithPreds = pd.concat([X_test,y_test],axis=1)\n",
    "df_testWithPreds[\"prediction\"] = reg.predict(X_test)\n",
    "df_testWithPreds['PredLessActual'] = df_testWithPreds['prediction']-df_testWithPreds['count_cmplnt']"
   ]
  },
  {
   "cell_type": "code",
   "execution_count": 25,
   "metadata": {},
   "outputs": [
    {
     "data": {
      "text/plain": [
       "Text(0.5, 1.0, 'Actual and Predicted Values against Test Set')"
      ]
     },
     "execution_count": 25,
     "metadata": {},
     "output_type": "execute_result"
    },
    {
     "data": {
      "image/png": "[encoded data removed]",
      "text/plain": [
       "<Figure size 432x288 with 1 Axes>"
      ]
     },
     "metadata": {},
     "output_type": "display_data"
    }
   ],
   "source": [
    "plt.plot(df_testWithPreds['count_cmplnt'].head(100),'b-',label='Actual')\n",
    "plt.plot(df_testWithPreds['prediction'].head(100),'ro',label='Prediction')\n",
    "plt.legend()\n",
    "plt.xlabel('observation'); plt.ylabel('crime_volume'); plt.title('Actual and Predicted Values against Test Set')"
   ]
  },
  {
   "cell_type": "code",
   "execution_count": 26,
   "metadata": {},
   "outputs": [
    {
     "data": {
      "text/plain": [
       "{'whiskers': [<matplotlib.lines.Line2D at 0x26e8aea4788>,\n",
       "  <matplotlib.lines.Line2D at 0x26e8aecf9c8>],\n",
       " 'caps': [<matplotlib.lines.Line2D at 0x26e8aed2ec8>,\n",
       "  <matplotlib.lines.Line2D at 0x26e8aed2f08>],\n",
       " 'boxes': [<matplotlib.lines.Line2D at 0x26e8aecf908>],\n",
       " 'medians': [<matplotlib.lines.Line2D at 0x26e8aed2fc8>],\n",
       " 'fliers': [<matplotlib.lines.Line2D at 0x26e8aed8f08>],\n",
       " 'means': []}"
      ]
     },
     "execution_count": 26,
     "metadata": {},
     "output_type": "execute_result"
    },
    {
     "data": {
      "image/png": "[encoded data removed]",
      "text/plain": [
       "<Figure size 432x288 with 1 Axes>"
      ]
     },
     "metadata": {},
     "output_type": "display_data"
    }
   ],
   "source": [
    "fig1, ax1 = plt.subplots()\n",
    "ax1.set_title('residual boxplot')\n",
    "ax1.boxplot(df_testWithPreds['PredLessActual'])"
   ]
  },
  {
   "cell_type": "markdown",
   "metadata": {},
   "source": [
    "#### Run model against holdout data\n",
    "\n",
    "We have created a holdout set so that we can compare various regression models against the same dataset.  Below, we'll load the data and run inference using the trained model. \n",
    "\n",
    "We'll first need to perform the same preprocessing to the holdout set that was done for the train and test set above."
   ]
  },
  {
   "cell_type": "code",
   "execution_count": 27,
   "metadata": {},
   "outputs": [],
   "source": [
    "#load csv\n",
    "file_path = \"C:\\\\Users\\\\BGaither\\\\OneDrive - McAfee\\\\Other\\\\school\\\\SMU\\\\Courses\\\\Fall 2020\\\\Machine Learning I\\\\Lab 2\\\\Data\\\\Hold_Out_Set.csv\"\n",
    "#load Data into Pandas\n",
    "df_Holdout = pd.read_csv(file_path)"
   ]
  },
  {
   "cell_type": "code",
   "execution_count": 28,
   "metadata": {},
   "outputs": [],
   "source": [
    "#since the only NANs are in Holiday and Event, we'll replace those NaNs with 'None' as we did in the train and test set\n",
    "df_Holdout = df_Holdout.fillna('None')"
   ]
  },
  {
   "cell_type": "code",
   "execution_count": 29,
   "metadata": {},
   "outputs": [
    {
     "data": {
      "text/plain": [
       "CMPLNT_FR_DT          0\n",
       "Daytime               0\n",
       "Day_Name              0\n",
       "Month                 0\n",
       "Day                   0\n",
       "Year                  0\n",
       "Season                0\n",
       "GeoCell               0\n",
       "BORO_NM               0\n",
       "PRCP                  0\n",
       "SNOW                  0\n",
       "TMIN                  0\n",
       "TMAX                  0\n",
       "Population            0\n",
       "PC_INCOME             0\n",
       "Hm_Sls_Price_Range    0\n",
       "Holiday               0\n",
       "Event                 0\n",
       "is_Holiday            0\n",
       "is_Event              0\n",
       "count_cmplnt          0\n",
       "dtype: int64"
      ]
     },
     "execution_count": 29,
     "metadata": {},
     "output_type": "execute_result"
    }
   ],
   "source": [
    "#check for NaNs again to verify we've taken care of them all\n",
    "len(df_Holdout) - df_Holdout.count()"
   ]
  },
  {
   "cell_type": "code",
   "execution_count": 30,
   "metadata": {},
   "outputs": [],
   "source": [
    "#grab the candidate variables we want to preprocess by one hot encoding and scaling as we did with the train and test sets\n",
    "X_holdout = df_Holdout[['Daytime','Day_Name','Month','Day','Year','Season','GeoCell','BORO_NM','PRCP','SNOW','TMIN','TMAX','Holiday','Event','is_Holiday','is_Event']]\n",
    "y_holdout = df_Holdout[['count_cmplnt']]"
   ]
  },
  {
   "cell_type": "code",
   "execution_count": 31,
   "metadata": {},
   "outputs": [],
   "source": [
    "#one hot encode the categorical features\n",
    "from sklearn.preprocessing import StandardScaler, OneHotEncoder\n",
    "\n",
    "columns_to_encode = ['Daytime','Day_Name','Month','Season','BORO_NM','Holiday','Event']\n",
    "columns_no_change = ['is_Holiday','is_Event','Day','Year','GeoCell','PRCP','SNOW','TMIN','TMAX']\n",
    "\n",
    "df_existing = X_holdout[columns_no_change]\n",
    "existing_cols = df_existing.to_numpy()\n",
    "\n",
    "#encoder \n",
    "ohe = OneHotEncoder(sparse=False)\n",
    "\n",
    "#ohe separate columns\n",
    "encoded_columns = ohe.fit_transform(X_holdout[columns_to_encode])\n",
    "\n",
    "#concatenate processed columns back together for X\n",
    "X_holdout = np.concatenate([encoded_columns,existing_cols],axis=1)\n",
    "\n",
    "#get the column names back to the dataframe\n",
    "df1 = pd.DataFrame(X_holdout)\n",
    "feature_names = ohe.get_feature_names().tolist()\n",
    "col_names = feature_names+columns_no_change\n",
    "df1.columns = col_names\n",
    "X_holdout = df1"
   ]
  },
  {
   "cell_type": "code",
   "execution_count": 32,
   "metadata": {},
   "outputs": [],
   "source": [
    "#scale specific columns\n",
    "from sklearn.preprocessing import StandardScaler, OneHotEncoder\n",
    "\n",
    "columns_to_scale = ['PRCP','SNOW','TMIN','TMAX']\n",
    "#get a list of all columns without the columns to scale above\n",
    "lstCols = X_holdout.columns.values.tolist()\n",
    "lstCols.remove('PRCP')\n",
    "lstCols.remove('SNOW')\n",
    "lstCols.remove('TMIN')\n",
    "lstCols.remove('TMAX')\n",
    "columns_no_change = lstCols\n",
    "\n",
    "df_existing = X_holdout[columns_no_change]\n",
    "existing_cols = df_existing.to_numpy()\n",
    "\n",
    "#separately scale X_holdout\n",
    "scaled_columns = scaler.transform(X_holdout[columns_to_scale]) #use the fit scaler object from X_train to scale X_holdout\n",
    "\n",
    "X_holdout_np = np.concatenate([scaled_columns,existing_cols],axis=1)"
   ]
  },
  {
   "cell_type": "code",
   "execution_count": 33,
   "metadata": {},
   "outputs": [],
   "source": [
    "#convert the numpy array back to a pandas dataframe for X_holdout\n",
    "df1 = pd.DataFrame(X_holdout_np)\n",
    "#get the column names back to the dataframe\n",
    "col_names = columns_to_scale+columns_no_change\n",
    "df1.columns = col_names\n",
    "X_holdout = df1"
   ]
  },
  {
   "cell_type": "code",
   "execution_count": 34,
   "metadata": {},
   "outputs": [],
   "source": [
    "#get our x and y variables set to the appropriate columns\n",
    "y_holdout = df_Holdout[['count_cmplnt']]\n",
    "X_holdout = X_holdout[top_features]"
   ]
  },
  {
   "cell_type": "code",
   "execution_count": 35,
   "metadata": {},
   "outputs": [
    {
     "data": {
      "text/plain": [
       "Index(['PRCP', 'TMIN', 'TMAX', 'x0_Day', 'x0_Early Morning', 'x0_Evening',\n",
       "       'x0_Late Night', 'x0_Morning', 'x0_Night', 'x1_Friday', 'x1_Monday',\n",
       "       'x1_Saturday', 'x1_Sunday', 'x1_Thursday', 'x1_Wednesday', 'x4_BRONX',\n",
       "       'x4_BROOKLYN', 'x4_MANHATTAN', 'x4_QUEENS', 'Day', 'Year', 'GeoCell'],\n",
       "      dtype='object')"
      ]
     },
     "execution_count": 35,
     "metadata": {},
     "output_type": "execute_result"
    }
   ],
   "source": [
    "#verify our columns in the x are as we expect\n",
    "X_holdout.columns"
   ]
  },
  {
   "cell_type": "code",
   "execution_count": 36,
   "metadata": {},
   "outputs": [],
   "source": [
    "#run inference against the holdout set\n",
    "y_pred_holdout = reg.predict(X_holdout)"
   ]
  },
  {
   "cell_type": "markdown",
   "metadata": {},
   "source": [
    "#### Analyze the model against the Holdout Set\n",
    "\n",
    "Analyzing the results of the final Random Forest Regression model.\n",
    "\n",
    "Below, we can see the model metrics MAE, RMSE and the R<sup>2</sup> against the holdout set"
   ]
  },
  {
   "cell_type": "code",
   "execution_count": 37,
   "metadata": {},
   "outputs": [
    {
     "name": "stdout",
     "output_type": "stream",
     "text": [
      "Mean Absolute Error: 1.7405859086594244 crimes per period\n",
      "Root Mean Squared Error: 2.715710900010807 crimes per period\n",
      "r2: 0.7151510083013456\n"
     ]
    }
   ],
   "source": [
    "from sklearn.metrics import *\n",
    "\n",
    "#print out the mean absolute error (mae)\n",
    "print('Mean Absolute Error:', mean_absolute_error(y_holdout,y_pred_holdout),'crimes per period')\n",
    "print('Root Mean Squared Error:', mean_squared_error(y_holdout,y_pred_holdout, squared=False),'crimes per period')\n",
    "print('r2:',r2_score(y_holdout,y_pred_holdout))"
   ]
  },
  {
   "cell_type": "code",
   "execution_count": 38,
   "metadata": {},
   "outputs": [],
   "source": [
    "y_holdout.reset_index(drop=True,inplace=True)\n",
    "df_holdoutWithPreds = pd.concat([X_holdout,y_holdout],axis=1)\n",
    "df_holdoutWithPreds[\"prediction\"] = reg.predict(X_holdout)\n",
    "df_holdoutWithPreds['PredLessActual'] = df_holdoutWithPreds['prediction']-df_holdoutWithPreds['count_cmplnt']"
   ]
  },
  {
   "cell_type": "code",
   "execution_count": 39,
   "metadata": {},
   "outputs": [
    {
     "data": {
      "text/plain": [
       "Text(0.5, 1.0, 'Actual and Predicted Values against Holdout Set')"
      ]
     },
     "execution_count": 39,
     "metadata": {},
     "output_type": "execute_result"
    },
    {
     "data": {
      "image/png": "[encoded data removed]",
      "text/plain": [
       "<Figure size 432x288 with 1 Axes>"
      ]
     },
     "metadata": {},
     "output_type": "display_data"
    }
   ],
   "source": [
    "plt.plot(df_holdoutWithPreds['count_cmplnt'].head(100),'b-',label='Actual')\n",
    "plt.plot(df_holdoutWithPreds['prediction'].head(100),'ro',label='Prediction')\n",
    "plt.legend()\n",
    "plt.xlabel('observation'); plt.ylabel('crime_volume'); plt.title('Actual and Predicted Values against Holdout Set')"
   ]
  },
  {
   "cell_type": "code",
   "execution_count": 40,
   "metadata": {},
   "outputs": [
    {
     "data": {
      "text/plain": [
       "count    18962.000000\n",
       "mean        -0.372613\n",
       "std          2.690098\n",
       "min        -36.000000\n",
       "25%         -1.280000\n",
       "50%          0.000000\n",
       "75%          0.960000\n",
       "max         15.710000\n",
       "Name: PredLessActual, dtype: float64"
      ]
     },
     "execution_count": 40,
     "metadata": {},
     "output_type": "execute_result"
    }
   ],
   "source": [
    "df_holdoutWithPreds['PredLessActual'].describe()"
   ]
  },
  {
   "cell_type": "code",
   "execution_count": 41,
   "metadata": {},
   "outputs": [
    {
     "data": {
      "text/plain": [
       "{'whiskers': [<matplotlib.lines.Line2D at 0x26e8a4b51c8>,\n",
       "  <matplotlib.lines.Line2D at 0x26e8a4d0f48>],\n",
       " 'caps': [<matplotlib.lines.Line2D at 0x26e8a4d4b08>,\n",
       "  <matplotlib.lines.Line2D at 0x26e8a4d4c88>],\n",
       " 'boxes': [<matplotlib.lines.Line2D at 0x26e8a4d0d88>],\n",
       " 'medians': [<matplotlib.lines.Line2D at 0x26e8a4dbfc8>],\n",
       " 'fliers': [<matplotlib.lines.Line2D at 0x26e8a4dba48>],\n",
       " 'means': []}"
      ]
     },
     "execution_count": 41,
     "metadata": {},
     "output_type": "execute_result"
    },
    {
     "data": {
      "image/png": "[encoded data removed]",
      "text/plain": [
       "<Figure size 432x288 with 1 Axes>"
      ]
     },
     "metadata": {},
     "output_type": "display_data"
    }
   ],
   "source": [
    "fig1, ax1 = plt.subplots()\n",
    "ax1.set_title('residual boxplot')\n",
    "ax1.boxplot(df_holdoutWithPreds['PredLessActual'])"
   ]
  },
  {
   "cell_type": "markdown",
   "metadata": {},
   "source": [
    "Below are the final metrics for the Random Forest Regression including Root Mean Squared Error and Mean Absolute Error\n",
    "\n",
    "| Model | Test Set RMSE | Holdout Set RMSE | Test Set MAE | Holdout Set MAE |\n",
    "| :----------- | ----------- |----------- |----------- |----------- |\n",
    "| Random Forest Regression | 2.77 | 2.72 | 1.75 | 1.74 |"
   ]
  },
  {
   "cell_type": "markdown",
   "metadata": {},
   "source": [
    "<a href=\"#top\">Back to Top</a>\n",
    "<a id=\"task1Compare\"></a>\n",
    "## Task 1 - Modeling and Evaluation 5 - Comparing 3 Models"
   ]
  },
  {
   "cell_type": "code",
   "execution_count": null,
   "metadata": {},
   "outputs": [],
   "source": []
  },
  {
   "cell_type": "markdown",
   "metadata": {},
   "source": [
    "<a href=\"#top\">Back to Top</a>\n",
    "<a id=\"task1Attributes\"></a>\n",
    "## Task 1 - Modeling and Evaluation 6 - Important Attributes"
   ]
  },
  {
   "cell_type": "code",
   "execution_count": null,
   "metadata": {},
   "outputs": [],
   "source": []
  },
  {
   "cell_type": "markdown",
   "metadata": {},
   "source": [
    "<a href=\"#top\">Back to Top</a>\n",
    "<a id=\"task1Deployment\"></a>\n",
    "## Task 1 - Deployment"
   ]
  },
  {
   "cell_type": "code",
   "execution_count": null,
   "metadata": {},
   "outputs": [],
   "source": []
  },
  {
   "cell_type": "markdown",
   "metadata": {},
   "source": [
    "<a href=\"#top\">Back to Top</a>\n",
    "<a id=\"task2\"></a>\n",
    "# Task 2 - Classification\n",
    "\n",
    "The classification task is aiming to classify a given crime as being either a Viloent or Non-Violent crime."
   ]
  },
  {
   "cell_type": "markdown",
   "metadata": {},
   "source": [
    "<a href=\"#top\">Back to Top</a>\n",
    "<a id=\"task2Model1\"></a>\n",
    "## Task 2 - Classification - Model 1 - Random Forest (Approach 1)"
   ]
  },
  {
   "cell_type": "code",
   "execution_count": null,
   "metadata": {},
   "outputs": [],
   "source": []
  },
  {
   "cell_type": "markdown",
   "metadata": {},
   "source": [
    "### Data Preparation Part 1"
   ]
  },
  {
   "cell_type": "code",
   "execution_count": null,
   "metadata": {},
   "outputs": [],
   "source": []
  },
  {
   "cell_type": "markdown",
   "metadata": {},
   "source": [
    "### Data Preparation Part 2"
   ]
  },
  {
   "cell_type": "code",
   "execution_count": null,
   "metadata": {},
   "outputs": [],
   "source": []
  },
  {
   "cell_type": "markdown",
   "metadata": {},
   "source": [
    "### Modeling and Evaluation 1"
   ]
  },
  {
   "cell_type": "code",
   "execution_count": null,
   "metadata": {},
   "outputs": [],
   "source": []
  },
  {
   "cell_type": "markdown",
   "metadata": {},
   "source": [
    "### Modeling and Evaluation 2"
   ]
  },
  {
   "cell_type": "code",
   "execution_count": null,
   "metadata": {},
   "outputs": [],
   "source": []
  },
  {
   "cell_type": "markdown",
   "metadata": {},
   "source": [
    "### Modeling and Evaluation 3"
   ]
  },
  {
   "cell_type": "code",
   "execution_count": null,
   "metadata": {},
   "outputs": [],
   "source": []
  },
  {
   "cell_type": "markdown",
   "metadata": {},
   "source": [
    "### Modeling and Evaluation 4"
   ]
  },
  {
   "cell_type": "code",
   "execution_count": null,
   "metadata": {},
   "outputs": [],
   "source": []
  },
  {
   "cell_type": "markdown",
   "metadata": {},
   "source": [
    "<a href=\"#top\">Back to Top</a>\n",
    "<a id=\"task2Model2\"></a>\n",
    "## Task 2 - Classification - Model 2 - Logistic Regression"
   ]
  },
  {
   "cell_type": "code",
   "execution_count": null,
   "metadata": {},
   "outputs": [],
   "source": []
  },
  {
   "cell_type": "markdown",
   "metadata": {},
   "source": [
    "### Data Preparation Part 1"
   ]
  },
  {
   "cell_type": "code",
   "execution_count": null,
   "metadata": {},
   "outputs": [],
   "source": []
  },
  {
   "cell_type": "markdown",
   "metadata": {},
   "source": [
    "### Data Preparation Part 2"
   ]
  },
  {
   "cell_type": "code",
   "execution_count": null,
   "metadata": {},
   "outputs": [],
   "source": []
  },
  {
   "cell_type": "markdown",
   "metadata": {},
   "source": [
    "### Modeling and Evaluation 1"
   ]
  },
  {
   "cell_type": "code",
   "execution_count": null,
   "metadata": {},
   "outputs": [],
   "source": []
  },
  {
   "cell_type": "markdown",
   "metadata": {},
   "source": [
    "### Modeling and Evaluation 2"
   ]
  },
  {
   "cell_type": "code",
   "execution_count": null,
   "metadata": {},
   "outputs": [],
   "source": []
  },
  {
   "cell_type": "markdown",
   "metadata": {},
   "source": [
    "### Modeling and Evaluation 3"
   ]
  },
  {
   "cell_type": "code",
   "execution_count": null,
   "metadata": {},
   "outputs": [],
   "source": []
  },
  {
   "cell_type": "markdown",
   "metadata": {},
   "source": [
    "### Modeling and Evaluation 4"
   ]
  },
  {
   "cell_type": "code",
   "execution_count": null,
   "metadata": {},
   "outputs": [],
   "source": []
  },
  {
   "cell_type": "markdown",
   "metadata": {},
   "source": [
    "<a href=\"#top\">Back to Top</a>\n",
    "<a id=\"task2Model3\"></a>\n",
    "## Task 2 - Classification - Model 3 - Random Forest (Approach 2)"
   ]
  },
  {
   "cell_type": "code",
   "execution_count": null,
   "metadata": {},
   "outputs": [],
   "source": []
  },
  {
   "cell_type": "markdown",
   "metadata": {},
   "source": [
    "### Data Preparation Part 1"
   ]
  },
  {
   "cell_type": "code",
   "execution_count": null,
   "metadata": {},
   "outputs": [],
   "source": []
  },
  {
   "cell_type": "markdown",
   "metadata": {},
   "source": [
    "### Data Preparation Part 2"
   ]
  },
  {
   "cell_type": "code",
   "execution_count": null,
   "metadata": {},
   "outputs": [],
   "source": []
  },
  {
   "cell_type": "markdown",
   "metadata": {},
   "source": [
    "### Modeling and Evaluation 1"
   ]
  },
  {
   "cell_type": "code",
   "execution_count": null,
   "metadata": {},
   "outputs": [],
   "source": []
  },
  {
   "cell_type": "markdown",
   "metadata": {},
   "source": [
    "### Modeling and Evaluation 2"
   ]
  },
  {
   "cell_type": "code",
   "execution_count": null,
   "metadata": {},
   "outputs": [],
   "source": []
  },
  {
   "cell_type": "markdown",
   "metadata": {},
   "source": [
    "### Modeling and Evaluation 3"
   ]
  },
  {
   "cell_type": "code",
   "execution_count": null,
   "metadata": {},
   "outputs": [],
   "source": []
  },
  {
   "cell_type": "markdown",
   "metadata": {},
   "source": [
    "### Modeling and Evaluation 4"
   ]
  },
  {
   "cell_type": "code",
   "execution_count": null,
   "metadata": {},
   "outputs": [],
   "source": []
  },
  {
   "cell_type": "markdown",
   "metadata": {},
   "source": [
    "<a href=\"#top\">Back to Top</a>\n",
    "<a id=\"task2Compare\"></a>\n",
    "## Task 2 - Modeling and Evaluation 5 - Comparing 3 Models"
   ]
  },
  {
   "cell_type": "code",
   "execution_count": null,
   "metadata": {},
   "outputs": [],
   "source": []
  },
  {
   "cell_type": "markdown",
   "metadata": {},
   "source": [
    "<a href=\"#top\">Back to Top</a>\n",
    "<a id=\"task2Attributes\"></a>\n",
    "## Task 2 -  Modeling and Evaluation 6 - Important Attributes"
   ]
  },
  {
   "cell_type": "markdown",
   "metadata": {},
   "source": [
    "<a href=\"#top\">Back to Top</a>\n",
    "<a id=\"task2Deployment\"></a>\n",
    "## Task 2 - Deployment"
   ]
  },
  {
   "cell_type": "code",
   "execution_count": null,
   "metadata": {},
   "outputs": [],
   "source": []
  },
  {
   "cell_type": "markdown",
   "metadata": {},
   "source": [
    "<a href=\"#top\">Back to Top</a>\n",
    "<a id=\"Exceptional\"></a>\n",
    "# Exceptional Work"
   ]
  },
  {
   "cell_type": "code",
   "execution_count": null,
   "metadata": {},
   "outputs": [],
   "source": []
  }
 ],
 "metadata": {
  "kernelspec": {
   "display_name": "Python 3",
   "language": "python",
   "name": "python3"
  },
  "language_info": {
   "codemirror_mode": {
    "name": "ipython",
    "version": 3
   },
   "file_extension": ".py",
   "mimetype": "text/x-python",
   "name": "python",
   "nbconvert_exporter": "python",
   "pygments_lexer": "ipython3",
   "version": "3.8.3"
  }
 },
 "nbformat": 4,
 "nbformat_minor": 4
}
