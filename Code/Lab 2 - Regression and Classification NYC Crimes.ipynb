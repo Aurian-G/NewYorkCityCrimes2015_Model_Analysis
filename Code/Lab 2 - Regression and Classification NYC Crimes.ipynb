{
 "cells": [
  {
   "cell_type": "markdown",
   "metadata": {},
   "source": [
    "# Team Members:\n",
    "\n",
    "- Brian Gaither\n",
    "- Sabrina Purvis\n",
    "- Andrew Larsen\n",
    "- Aurian Ghaemmaghami"
   ]
  },
  {
   "cell_type": "markdown",
   "metadata": {},
   "source": [
    "# Overview\n",
    "\n",
    "This notebook is organized in sections by Model.  There are two tasks. Task 1 is regression and Task 2 is Classification.  There are three models per task.\n",
    "\n",
    "For each Model in each Task, we will walk the reader through the various phases of this deliverable: Data Preparation,  Modeling and Evaluation\n",
    "\n",
    "<a id=\"top\"></a>\n",
    "## Contents\n",
    "* **<a href=\"#task1\">Task 1 - Regression</a>**\n",
    "    - <a href=\"#task1Model1\">Model 1 - KNN</a>\n",
    "    - <a href=\"#task1Model2\">Model 2 - Logistic Regression</a>\n",
    "    - <a href=\"#task1Model3\">Model 3 - Random Forest Regression</a>\n",
    "    - <a href=\"#task1Compare\">Task 1 - Comparing the Three Models</a>\n",
    "    - <a href=\"#task1Attributes\">Task 1 - Important Attributes</a>\n",
    "    - <a href=\"#task1Deployment\">Task 1 - Deployment</a>\n",
    "* **<a href=\"#task2\">Task 2 - Classification</a>**\n",
    "    - <a href=\"#task2Model1\">Model 1 - Random Forest (Approach 1)</a>\n",
    "    - <a href=\"#task2Model2\">Model 2 - Logistic Regression</a>\n",
    "    - <a href=\"#task2Model3\">Model 3 - Random Forest (Approach 2)</a>\n",
    "    - <a href=\"#task2Compare\">Task 2 - Comparing the Three Models</a>\n",
    "    - <a href=\"#task2Attributes\">Task 2 - Important Attributes</a>\n",
    "    - <a href=\"#task2Deployment\">Task 2 - Deployment</a>\n",
    "* **<a href=\"#Exceptional\">Exceptional Work</a>**\n"
   ]
  },
  {
   "cell_type": "markdown",
   "metadata": {},
   "source": [
    "<a href=\"#top\">Back to Top</a>\n",
    "<a id=\"task1\"></a>\n",
    "# Task 1 - Regression\n",
    "\n",
    "The regression task is aiming to predict the volume of crime on a given day, for a given time period of the day (Early Morning, Morning, Day, Afternoon, etc...) by location."
   ]
  },
  {
   "cell_type": "markdown",
   "metadata": {},
   "source": [
    "<a href=\"#top\">Back to Top</a>\n",
    "<a id=\"task1Model1\"></a>\n",
    "## Task 1 - Regression - Model 1 - KNN"
   ]
  },
  {
   "cell_type": "markdown",
   "metadata": {},
   "source": [
    "### Data Preparation Part 1"
   ]
  },
  {
   "cell_type": "code",
   "execution_count": null,
   "metadata": {},
   "outputs": [],
   "source": []
  },
  {
   "cell_type": "markdown",
   "metadata": {},
   "source": [
    "### Data Preparation Part 2"
   ]
  },
  {
   "cell_type": "code",
   "execution_count": null,
   "metadata": {},
   "outputs": [],
   "source": []
  },
  {
   "cell_type": "markdown",
   "metadata": {},
   "source": [
    "### Modeling and Evaluation 1"
   ]
  },
  {
   "cell_type": "code",
   "execution_count": null,
   "metadata": {},
   "outputs": [],
   "source": []
  },
  {
   "cell_type": "markdown",
   "metadata": {},
   "source": [
    "### Modeling and Evaluation 2"
   ]
  },
  {
   "cell_type": "code",
   "execution_count": null,
   "metadata": {},
   "outputs": [],
   "source": []
  },
  {
   "cell_type": "markdown",
   "metadata": {},
   "source": [
    "### Modeling and Evaluation 3"
   ]
  },
  {
   "cell_type": "code",
   "execution_count": null,
   "metadata": {},
   "outputs": [],
   "source": []
  },
  {
   "cell_type": "markdown",
   "metadata": {},
   "source": [
    "### Modeling and Evaluation 4"
   ]
  },
  {
   "cell_type": "code",
   "execution_count": null,
   "metadata": {},
   "outputs": [],
   "source": []
  },
  {
   "cell_type": "markdown",
   "metadata": {},
   "source": [
    "<a href=\"#top\">Back to Top</a>\n",
    "<a id=\"task1Model2\"></a>\n",
    "## Task 1 - Regression - Model 2 - Logistic Regression"
   ]
  },
  {
   "cell_type": "code",
   "execution_count": null,
   "metadata": {},
   "outputs": [],
   "source": []
  },
  {
   "cell_type": "markdown",
   "metadata": {},
   "source": [
    "### Data Preparation Part 1"
   ]
  },
  {
   "cell_type": "markdown",
   "metadata": {},
   "source": [
    "### Data Preparation Part 2"
   ]
  },
  {
   "cell_type": "markdown",
   "metadata": {},
   "source": [
    "### Modeling and Evaluation 1"
   ]
  },
  {
   "cell_type": "markdown",
   "metadata": {},
   "source": [
    "### Modeling and Evaluation 2"
   ]
  },
  {
   "cell_type": "markdown",
   "metadata": {},
   "source": [
    "### Modeling and Evaluation 3"
   ]
  },
  {
   "cell_type": "markdown",
   "metadata": {},
   "source": [
    "### Modeling and Evaluation 4"
   ]
  },
  {
   "cell_type": "markdown",
   "metadata": {},
   "source": [
    "<a href=\"#top\">Back to Top</a>\n",
    "<a id=\"task1Model3\"></a>\n",
    "## Task 1 - Regression - Model 3 - Random Forest Regression"
   ]
  },
  {
   "cell_type": "markdown",
   "metadata": {},
   "source": [
    "**Goal:**  \n",
    "We want to develop a model that will predict crime volume for different NYC Borough locations for different times of day around the year.  Therefore, we've implemented a regression model using Random Forest Regression. \n",
    "\n",
    "This model can be used to get an accurate idea of the volume of crime to expect and could be useful for law enforcement to know how to distribute man power throughout the city for maximum coverage on give days and times of day."
   ]
  },
  {
   "cell_type": "markdown",
   "metadata": {},
   "source": [
    "### Data Preparation Part 1"
   ]
  },
  {
   "cell_type": "markdown",
   "metadata": {},
   "source": [
    "For initial model development and feature analysis, the features were reduced down to a subset that sought to avoid data leakage and maximize liklihood of importance based on whether or not the value changed daily.  We dropped features such as population, income and home sales prices as they were annual figures so didn't change on a daily basis, thus do not have discriminatory power.  \n",
    "\n",
    "Preprocessing of the data consisted of aggregating the raw data creating the count_cmplnt field that will be used as our target variable.  The count_cmplnt field is the total volume of crimes that occurred during a given period of the day (Early Morning, Morning, Day, Afternoon, etc..)  \n",
    "\n",
    "For this model, we dropped variables that have very little to no predictive power or were captured by other variables. These included, population, PC_Income, Hm_Sls_Price_Range and cmplnt_fr_dt as that is captured by month, day, and year.\n",
    "\n",
    "We chose to one hot encode the categorical features and scale the continuous variables.\n",
    "\n",
    "One Hot encoded features:\n",
    "- Daytime\n",
    "- Day_Name\n",
    "- Month\n",
    "- Season\n",
    "- BORO_NM\n",
    "- Holiday\n",
    "- Event\n",
    "\n",
    "Scaled features:\n",
    "- PRCP\n",
    "- SNOW\n",
    "- TMIN\n",
    "- TMAX\n",
    "\n",
    "Features left unchanged:\n",
    "- is_Holiday\n",
    "- is_Event\n",
    "- Day\n",
    "- Year\n",
    "- GeoCell\n",
    "\n",
    "These features were used for initial model development.  In Data Preparation Part 2, we detail which are the final features selected based in Gini-Importance along with their meaning."
   ]
  },
  {
   "cell_type": "code",
   "execution_count": 3,
   "metadata": {},
   "outputs": [
    {
     "name": "stderr",
     "output_type": "stream",
     "text": [
      "In C:\\Users\\BGaither\\Anaconda3\\lib\\site-packages\\matplotlib\\mpl-data\\stylelib\\_classic_test.mplstyle: \n",
      "The text.latex.preview rcparam was deprecated in Matplotlib 3.3 and will be removed two minor releases later.\n",
      "In C:\\Users\\BGaither\\Anaconda3\\lib\\site-packages\\matplotlib\\mpl-data\\stylelib\\_classic_test.mplstyle: \n",
      "The mathtext.fallback_to_cm rcparam was deprecated in Matplotlib 3.3 and will be removed two minor releases later.\n",
      "In C:\\Users\\BGaither\\Anaconda3\\lib\\site-packages\\matplotlib\\mpl-data\\stylelib\\_classic_test.mplstyle: Support for setting the 'mathtext.fallback_to_cm' rcParam is deprecated since 3.3 and will be removed two minor releases later; use 'mathtext.fallback : 'cm' instead.\n",
      "In C:\\Users\\BGaither\\Anaconda3\\lib\\site-packages\\matplotlib\\mpl-data\\stylelib\\_classic_test.mplstyle: \n",
      "The validate_bool_maybe_none function was deprecated in Matplotlib 3.3 and will be removed two minor releases later.\n",
      "In C:\\Users\\BGaither\\Anaconda3\\lib\\site-packages\\matplotlib\\mpl-data\\stylelib\\_classic_test.mplstyle: \n",
      "The savefig.jpeg_quality rcparam was deprecated in Matplotlib 3.3 and will be removed two minor releases later.\n",
      "In C:\\Users\\BGaither\\Anaconda3\\lib\\site-packages\\matplotlib\\mpl-data\\stylelib\\_classic_test.mplstyle: \n",
      "The keymap.all_axes rcparam was deprecated in Matplotlib 3.3 and will be removed two minor releases later.\n",
      "In C:\\Users\\BGaither\\Anaconda3\\lib\\site-packages\\matplotlib\\mpl-data\\stylelib\\_classic_test.mplstyle: \n",
      "The animation.avconv_path rcparam was deprecated in Matplotlib 3.3 and will be removed two minor releases later.\n",
      "In C:\\Users\\BGaither\\Anaconda3\\lib\\site-packages\\matplotlib\\mpl-data\\stylelib\\_classic_test.mplstyle: \n",
      "The animation.avconv_args rcparam was deprecated in Matplotlib 3.3 and will be removed two minor releases later.\n"
     ]
    }
   ],
   "source": [
    "import altair as alt\n",
    "import pandas as pd\n",
    "import numpy as np\n",
    "from sklearn.model_selection import train_test_split\n",
    "import matplotlib.pyplot as plt\n",
    "import seaborn as sns\n",
    "from sklearn import metrics\n",
    "\n",
    "#load csv\n",
    "file_path = \"C:\\\\Users\\\\BGaither\\\\OneDrive - McAfee\\\\Other\\\\school\\\\SMU\\\\Courses\\\\Fall 2020\\\\Machine Learning I\\\\Lab 2\\\\Data\\\\Training_and_Test_Set.csv\"\n",
    "#load Data into Pandas\n",
    "df_Crime = pd.read_csv(file_path)"
   ]
  },
  {
   "cell_type": "code",
   "execution_count": 4,
   "metadata": {},
   "outputs": [
    {
     "data": {
      "text/html": [
       "<div>\n",
       "<style scoped>\n",
       "    .dataframe tbody tr th:only-of-type {\n",
       "        vertical-align: middle;\n",
       "    }\n",
       "\n",
       "    .dataframe tbody tr th {\n",
       "        vertical-align: top;\n",
       "    }\n",
       "\n",
       "    .dataframe thead th {\n",
       "        text-align: right;\n",
       "    }\n",
       "</style>\n",
       "<table border=\"1\" class=\"dataframe\">\n",
       "  <thead>\n",
       "    <tr style=\"text-align: right;\">\n",
       "      <th></th>\n",
       "      <th>CMPLNT_FR_DT</th>\n",
       "      <th>Daytime</th>\n",
       "      <th>Day_Name</th>\n",
       "      <th>Month</th>\n",
       "      <th>Day</th>\n",
       "      <th>Year</th>\n",
       "      <th>Season</th>\n",
       "      <th>GeoCell</th>\n",
       "      <th>BORO_NM</th>\n",
       "      <th>PRCP</th>\n",
       "      <th>...</th>\n",
       "      <th>TMIN</th>\n",
       "      <th>TMAX</th>\n",
       "      <th>Population</th>\n",
       "      <th>PC_INCOME</th>\n",
       "      <th>Hm_Sls_Price_Range</th>\n",
       "      <th>Holiday</th>\n",
       "      <th>Event</th>\n",
       "      <th>is_Holiday</th>\n",
       "      <th>is_Event</th>\n",
       "      <th>count_cmplnt</th>\n",
       "    </tr>\n",
       "  </thead>\n",
       "  <tbody>\n",
       "    <tr>\n",
       "      <th>0</th>\n",
       "      <td>11/26/2014</td>\n",
       "      <td>Morning</td>\n",
       "      <td>Wednesday</td>\n",
       "      <td>November</td>\n",
       "      <td>26.0</td>\n",
       "      <td>2014.0</td>\n",
       "      <td>Fall</td>\n",
       "      <td>66.0</td>\n",
       "      <td>QUEENS</td>\n",
       "      <td>1.24</td>\n",
       "      <td>...</td>\n",
       "      <td>34</td>\n",
       "      <td>51</td>\n",
       "      <td>2,250,002</td>\n",
       "      <td>40997</td>\n",
       "      <td>Medium</td>\n",
       "      <td>NaN</td>\n",
       "      <td>NaN</td>\n",
       "      <td>0</td>\n",
       "      <td>0</td>\n",
       "      <td>1</td>\n",
       "    </tr>\n",
       "    <tr>\n",
       "      <th>1</th>\n",
       "      <td>12/1/2014</td>\n",
       "      <td>Late Night</td>\n",
       "      <td>Monday</td>\n",
       "      <td>December</td>\n",
       "      <td>1.0</td>\n",
       "      <td>2014.0</td>\n",
       "      <td>Winter</td>\n",
       "      <td>60.0</td>\n",
       "      <td>QUEENS</td>\n",
       "      <td>0.09</td>\n",
       "      <td>...</td>\n",
       "      <td>42</td>\n",
       "      <td>65</td>\n",
       "      <td>2,250,002</td>\n",
       "      <td>40997</td>\n",
       "      <td>Medium</td>\n",
       "      <td>NaN</td>\n",
       "      <td>NaN</td>\n",
       "      <td>0</td>\n",
       "      <td>0</td>\n",
       "      <td>1</td>\n",
       "    </tr>\n",
       "    <tr>\n",
       "      <th>2</th>\n",
       "      <td>11/10/2015</td>\n",
       "      <td>Morning</td>\n",
       "      <td>Tuesday</td>\n",
       "      <td>November</td>\n",
       "      <td>10.0</td>\n",
       "      <td>2015.0</td>\n",
       "      <td>Fall</td>\n",
       "      <td>15.0</td>\n",
       "      <td>BROOKLYN</td>\n",
       "      <td>0.26</td>\n",
       "      <td>...</td>\n",
       "      <td>51</td>\n",
       "      <td>57</td>\n",
       "      <td>2,552,911</td>\n",
       "      <td>43915</td>\n",
       "      <td>High</td>\n",
       "      <td>NaN</td>\n",
       "      <td>NaN</td>\n",
       "      <td>0</td>\n",
       "      <td>0</td>\n",
       "      <td>2</td>\n",
       "    </tr>\n",
       "    <tr>\n",
       "      <th>3</th>\n",
       "      <td>2/4/2014</td>\n",
       "      <td>Morning</td>\n",
       "      <td>Tuesday</td>\n",
       "      <td>February</td>\n",
       "      <td>4.0</td>\n",
       "      <td>2014.0</td>\n",
       "      <td>Winter</td>\n",
       "      <td>48.0</td>\n",
       "      <td>QUEENS</td>\n",
       "      <td>0.00</td>\n",
       "      <td>...</td>\n",
       "      <td>22</td>\n",
       "      <td>35</td>\n",
       "      <td>2,250,002</td>\n",
       "      <td>40997</td>\n",
       "      <td>Medium</td>\n",
       "      <td>NaN</td>\n",
       "      <td>NaN</td>\n",
       "      <td>0</td>\n",
       "      <td>0</td>\n",
       "      <td>3</td>\n",
       "    </tr>\n",
       "    <tr>\n",
       "      <th>4</th>\n",
       "      <td>8/25/2015</td>\n",
       "      <td>Late Night</td>\n",
       "      <td>Tuesday</td>\n",
       "      <td>August</td>\n",
       "      <td>25.0</td>\n",
       "      <td>2015.0</td>\n",
       "      <td>Summer</td>\n",
       "      <td>35.0</td>\n",
       "      <td>BROOKLYN</td>\n",
       "      <td>0.00</td>\n",
       "      <td>...</td>\n",
       "      <td>73</td>\n",
       "      <td>90</td>\n",
       "      <td>2,552,911</td>\n",
       "      <td>43915</td>\n",
       "      <td>High</td>\n",
       "      <td>NaN</td>\n",
       "      <td>NaN</td>\n",
       "      <td>0</td>\n",
       "      <td>0</td>\n",
       "      <td>1</td>\n",
       "    </tr>\n",
       "  </tbody>\n",
       "</table>\n",
       "<p>5 rows × 21 columns</p>\n",
       "</div>"
      ],
      "text/plain": [
       "  CMPLNT_FR_DT     Daytime   Day_Name     Month   Day    Year  Season  \\\n",
       "0   11/26/2014     Morning  Wednesday  November  26.0  2014.0    Fall   \n",
       "1    12/1/2014  Late Night     Monday  December   1.0  2014.0  Winter   \n",
       "2   11/10/2015     Morning    Tuesday  November  10.0  2015.0    Fall   \n",
       "3     2/4/2014     Morning    Tuesday  February   4.0  2014.0  Winter   \n",
       "4    8/25/2015  Late Night    Tuesday    August  25.0  2015.0  Summer   \n",
       "\n",
       "   GeoCell   BORO_NM  PRCP  ...  TMIN  TMAX  Population PC_INCOME  \\\n",
       "0     66.0    QUEENS  1.24  ...    34    51   2,250,002     40997   \n",
       "1     60.0    QUEENS  0.09  ...    42    65   2,250,002     40997   \n",
       "2     15.0  BROOKLYN  0.26  ...    51    57   2,552,911     43915   \n",
       "3     48.0    QUEENS  0.00  ...    22    35   2,250,002     40997   \n",
       "4     35.0  BROOKLYN  0.00  ...    73    90   2,552,911     43915   \n",
       "\n",
       "   Hm_Sls_Price_Range Holiday Event is_Holiday  is_Event  count_cmplnt  \n",
       "0              Medium     NaN   NaN          0         0             1  \n",
       "1              Medium     NaN   NaN          0         0             1  \n",
       "2                High     NaN   NaN          0         0             2  \n",
       "3              Medium     NaN   NaN          0         0             3  \n",
       "4                High     NaN   NaN          0         0             1  \n",
       "\n",
       "[5 rows x 21 columns]"
      ]
     },
     "execution_count": 4,
     "metadata": {},
     "output_type": "execute_result"
    }
   ],
   "source": [
    "df_Crime.head(5)"
   ]
  },
  {
   "cell_type": "code",
   "execution_count": 5,
   "metadata": {},
   "outputs": [
    {
     "data": {
      "text/plain": [
       "(170650, 21)"
      ]
     },
     "execution_count": 5,
     "metadata": {},
     "output_type": "execute_result"
    }
   ],
   "source": [
    "df_Crime.shape"
   ]
  },
  {
   "cell_type": "code",
   "execution_count": 6,
   "metadata": {},
   "outputs": [
    {
     "data": {
      "text/plain": [
       "CMPLNT_FR_DT               0\n",
       "Daytime                    0\n",
       "Day_Name                   0\n",
       "Month                      0\n",
       "Day                        0\n",
       "Year                       0\n",
       "Season                     0\n",
       "GeoCell                    0\n",
       "BORO_NM                    0\n",
       "PRCP                       0\n",
       "SNOW                       0\n",
       "TMIN                       0\n",
       "TMAX                       0\n",
       "Population                 0\n",
       "PC_INCOME                  0\n",
       "Hm_Sls_Price_Range         0\n",
       "Holiday               166062\n",
       "Event                 144780\n",
       "is_Holiday                 0\n",
       "is_Event                   0\n",
       "count_cmplnt               0\n",
       "dtype: int64"
      ]
     },
     "execution_count": 6,
     "metadata": {},
     "output_type": "execute_result"
    }
   ],
   "source": [
    "#let's check for NaN values in the dataset\n",
    "len(df_Crime) - df_Crime.count()"
   ]
  },
  {
   "cell_type": "code",
   "execution_count": 7,
   "metadata": {},
   "outputs": [],
   "source": [
    "#since the only NANs are in Holiday and Event, we'll replace those NaNs with 'None'\n",
    "df_Crime = df_Crime.fillna('None')"
   ]
  },
  {
   "cell_type": "code",
   "execution_count": 8,
   "metadata": {},
   "outputs": [
    {
     "data": {
      "text/plain": [
       "CMPLNT_FR_DT          0\n",
       "Daytime               0\n",
       "Day_Name              0\n",
       "Month                 0\n",
       "Day                   0\n",
       "Year                  0\n",
       "Season                0\n",
       "GeoCell               0\n",
       "BORO_NM               0\n",
       "PRCP                  0\n",
       "SNOW                  0\n",
       "TMIN                  0\n",
       "TMAX                  0\n",
       "Population            0\n",
       "PC_INCOME             0\n",
       "Hm_Sls_Price_Range    0\n",
       "Holiday               0\n",
       "Event                 0\n",
       "is_Holiday            0\n",
       "is_Event              0\n",
       "count_cmplnt          0\n",
       "dtype: int64"
      ]
     },
     "execution_count": 8,
     "metadata": {},
     "output_type": "execute_result"
    }
   ],
   "source": [
    "#let's make sure we've taken care of all the NaNs\n",
    "len(df_Crime) - df_Crime.count()"
   ]
  },
  {
   "cell_type": "code",
   "execution_count": 9,
   "metadata": {},
   "outputs": [],
   "source": [
    "#drop population, PC_Income and Hm_Sls_Price_Range as they do not vary daily\n",
    "#drop cmplnt_fr_dt as that is captured by month, day, and year\n",
    "df_Crime = df_Crime[['Daytime','Day_Name','Month','Day','Year','Season','GeoCell','BORO_NM','PRCP','SNOW','TMIN','TMAX','Holiday','Event','is_Holiday','is_Event','count_cmplnt']]"
   ]
  },
  {
   "cell_type": "code",
   "execution_count": 10,
   "metadata": {},
   "outputs": [],
   "source": [
    "X = df_Crime[['Daytime','Day_Name','Month','Day','Year','Season','GeoCell','BORO_NM','PRCP','SNOW','TMIN','TMAX','Holiday','Event','is_Holiday','is_Event']]\n",
    "y = df_Crime[['count_cmplnt']]"
   ]
  },
  {
   "cell_type": "markdown",
   "metadata": {},
   "source": [
    "### Data Preparation Part 2"
   ]
  },
  {
   "cell_type": "markdown",
   "metadata": {},
   "source": [
    "After fitting a preliminary Random Forest Regression model, we've identified the top performing features using the Gini-importances with a threshold of >.004 which selects 22 features to feed into the model.\n",
    "\n",
    "**Inputs to the model are:**\n",
    "\n",
    "The following features are scaled:\n",
    "- PRCP: amount of rainfall for the day\n",
    "- TMIN: minimum temp for the day\n",
    "- TMAX: maximum temp for the day\n",
    "\n",
    "The following features are one hot encoded:\n",
    "- Daytime:  time period of the day (Early Morning, Morning, Day, Afternoon, Evening, etc...)\n",
    "- Month: the month for which you would like to predict crime volume\n",
    "- Day_Name:  Day of the week (Monday, Tuesday, Wednesday, ect...)\n",
    "- BORO_NM: Name of the borough you would like to predict crime volume\n",
    "\n",
    "The following features are left unchanged:\n",
    "- Day: the day of the month in numerical format\n",
    "- Year: the year in numerical format YYYY\n",
    "- GeoCell: We would need to perform feature transformation taking inputs x_coordinate and y_coordinate to calculate the GeoCell and then pass GeoCell value to the model.  This allows us to use geolocation details in a more abstract way to avoid overfitting to an exact location."
   ]
  },
  {
   "cell_type": "code",
   "execution_count": 11,
   "metadata": {},
   "outputs": [],
   "source": [
    "#one hot encode the categorical features\n",
    "from sklearn.preprocessing import StandardScaler, OneHotEncoder\n",
    "\n",
    "columns_to_encode = ['Daytime','Day_Name','Month','Season','BORO_NM','Holiday','Event']\n",
    "columns_no_change = ['is_Holiday','is_Event','Day','Year','GeoCell','PRCP','SNOW','TMIN','TMAX']\n",
    "\n",
    "df_existing = X[columns_no_change]\n",
    "existing_cols = df_existing.to_numpy()\n",
    "\n",
    "#encoder \n",
    "ohe = OneHotEncoder(sparse=False)\n",
    "\n",
    "#ohe separate columns\n",
    "encoded_columns = ohe.fit_transform(X[columns_to_encode])\n",
    "\n",
    "#concatenate processed columns back together for X\n",
    "X = np.concatenate([encoded_columns,existing_cols],axis=1)\n",
    "\n",
    "#get the column names back to the dataframe\n",
    "df1 = pd.DataFrame(X)\n",
    "feature_names = ohe.get_feature_names().tolist()\n",
    "col_names = feature_names+columns_no_change\n",
    "df1.columns = col_names\n",
    "X = df1"
   ]
  },
  {
   "cell_type": "code",
   "execution_count": 12,
   "metadata": {},
   "outputs": [],
   "source": [
    "#scale specific columns\n",
    "from sklearn.preprocessing import StandardScaler, OneHotEncoder\n",
    "\n",
    "#go ahead and split the data so we can scale data separately on training and then on test so we don't have leakage\n",
    "X_train, X_test, y_train, y_test = train_test_split(X, y, test_size=0.2, random_state=0)\n",
    "\n",
    "columns_to_scale = ['PRCP','SNOW','TMIN','TMAX']\n",
    "#get a list of all columns without the columns to scale above\n",
    "lstCols = X.columns.values.tolist()\n",
    "lstCols.remove('PRCP')\n",
    "lstCols.remove('SNOW')\n",
    "lstCols.remove('TMIN')\n",
    "lstCols.remove('TMAX')\n",
    "columns_no_change = lstCols\n",
    "\n",
    "df_existing = X_train[columns_no_change]\n",
    "existing_cols = df_existing.to_numpy()\n",
    "\n",
    "#scaler\n",
    "scaler = StandardScaler()\n",
    "\n",
    "#scale and encode separate columns\n",
    "scaled_columns = scaler.fit_transform(X_train[columns_to_scale])\n",
    "\n",
    "#concatenate processed columns back together for X_train\n",
    "X_train_np = np.concatenate([scaled_columns,existing_cols],axis=1)\n",
    "\n",
    "df_existing = X_test[columns_no_change]\n",
    "existing_cols = df_existing.to_numpy()\n",
    "\n",
    "#separately scale X_test\n",
    "scaled_columns = scaler.transform(X_test[columns_to_scale]) #use the fit scaler object from X_train to scale X_test\n",
    "\n",
    "X_test_np = np.concatenate([scaled_columns,existing_cols],axis=1)"
   ]
  },
  {
   "cell_type": "code",
   "execution_count": 13,
   "metadata": {},
   "outputs": [],
   "source": [
    "#convert the numpy array back to a pandas dataframe for X_train\n",
    "df1 = pd.DataFrame(X_train_np)\n",
    "#get the column names back to the dataframe\n",
    "col_names = columns_to_scale+columns_no_change\n",
    "df1.columns = col_names\n",
    "X_train = df1\n",
    "\n",
    "#convert the numpy array back to a pandas dataframe for X_test\n",
    "df1 = pd.DataFrame(X_test_np)\n",
    "#get the column names back to the dataframe\n",
    "col_names = columns_to_scale+columns_no_change\n",
    "df1.columns = col_names\n",
    "X_test = df1"
   ]
  },
  {
   "cell_type": "code",
   "execution_count": 14,
   "metadata": {},
   "outputs": [
    {
     "data": {
      "text/html": [
       "<div>\n",
       "<style scoped>\n",
       "    .dataframe tbody tr th:only-of-type {\n",
       "        vertical-align: middle;\n",
       "    }\n",
       "\n",
       "    .dataframe tbody tr th {\n",
       "        vertical-align: top;\n",
       "    }\n",
       "\n",
       "    .dataframe thead th {\n",
       "        text-align: right;\n",
       "    }\n",
       "</style>\n",
       "<table border=\"1\" class=\"dataframe\">\n",
       "  <thead>\n",
       "    <tr style=\"text-align: right;\">\n",
       "      <th></th>\n",
       "      <th>count_cmplnt</th>\n",
       "    </tr>\n",
       "  </thead>\n",
       "  <tbody>\n",
       "    <tr>\n",
       "      <th>count</th>\n",
       "      <td>136520.000000</td>\n",
       "    </tr>\n",
       "    <tr>\n",
       "      <th>mean</th>\n",
       "      <td>4.711742</td>\n",
       "    </tr>\n",
       "    <tr>\n",
       "      <th>std</th>\n",
       "      <td>5.144352</td>\n",
       "    </tr>\n",
       "    <tr>\n",
       "      <th>min</th>\n",
       "      <td>1.000000</td>\n",
       "    </tr>\n",
       "    <tr>\n",
       "      <th>25%</th>\n",
       "      <td>1.000000</td>\n",
       "    </tr>\n",
       "    <tr>\n",
       "      <th>50%</th>\n",
       "      <td>3.000000</td>\n",
       "    </tr>\n",
       "    <tr>\n",
       "      <th>75%</th>\n",
       "      <td>6.000000</td>\n",
       "    </tr>\n",
       "    <tr>\n",
       "      <th>max</th>\n",
       "      <td>132.000000</td>\n",
       "    </tr>\n",
       "  </tbody>\n",
       "</table>\n",
       "</div>"
      ],
      "text/plain": [
       "        count_cmplnt\n",
       "count  136520.000000\n",
       "mean        4.711742\n",
       "std         5.144352\n",
       "min         1.000000\n",
       "25%         1.000000\n",
       "50%         3.000000\n",
       "75%         6.000000\n",
       "max       132.000000"
      ]
     },
     "execution_count": 14,
     "metadata": {},
     "output_type": "execute_result"
    }
   ],
   "source": [
    "#Let's take a look at the count_cmplnt target variable and get an idea of the distribution of crime volumes\n",
    "#we can see that 75% of the data is between 1 and 6 crimes with some outliers of up to 132 crimes per period\n",
    "y_train[['count_cmplnt']].describe()"
   ]
  },
  {
   "cell_type": "code",
   "execution_count": 15,
   "metadata": {},
   "outputs": [
    {
     "name": "stdout",
     "output_type": "stream",
     "text": [
      "Wall time: 3min 53s\n",
      "Cross Validation Results: [-1.65603575 -1.64081234 -1.63430779 -1.637207   -1.6277864 ]\n"
     ]
    }
   ],
   "source": [
    "#let's perform a 5 fold cross validation using a baseline Random Forest Regression model and evaluate the results\n",
    "#we can see that the five results are very close to one another so our model is quite stable\n",
    "from sklearn.model_selection import train_test_split\n",
    "from sklearn.model_selection import cross_val_score\n",
    "from sklearn.ensemble import RandomForestRegressor\n",
    "from sklearn.model_selection import GridSearchCV\n",
    "\n",
    "#create regressor object\n",
    "reg = RandomForestRegressor(n_estimators = 50, random_state = 0)\n",
    "\n",
    "#5 fold cross validation\n",
    "%time cv_results = cross_val_score(reg, X_train, y_train.values.ravel(), cv=5, scoring='neg_mean_absolute_error')\n",
    "print('Cross Validation Results: {}'.format(cv_results))"
   ]
  },
  {
   "cell_type": "code",
   "execution_count": 16,
   "metadata": {},
   "outputs": [
    {
     "name": "stdout",
     "output_type": "stream",
     "text": [
      "Wall time: 1min\n"
     ]
    }
   ],
   "source": [
    "#Next, we'll fit a base Random Forest Regression model again so that we can grab the most important features\n",
    "from sklearn.ensemble import RandomForestRegressor\n",
    "reg = RandomForestRegressor(n_estimators = 50, random_state = 0)\n",
    "%time reg.fit(X_train,y_train.values.ravel())\n",
    "y_pred = reg.predict(X_test)"
   ]
  },
  {
   "cell_type": "code",
   "execution_count": null,
   "metadata": {},
   "outputs": [],
   "source": []
  },
  {
   "cell_type": "markdown",
   "metadata": {},
   "source": [
    "### Modeling and Evaluation 1"
   ]
  },
  {
   "cell_type": "markdown",
   "metadata": {},
   "source": [
    "To assess our regression models, we will be comparing the Root Mean Squared Error (RMSE) and Mean Absolute Error.  The best model will have the smallest resulting value from these metrics as it is indicative of the amount of error in our model.\n",
    "\n",
    "RMSE is a measure of the goodness of fit of the model.  RMSE gives a penalty to large prediction errors by squaring it.\n",
    "MAE is taking the sum of the absolute error.  MAE is a more direct representation of the sum of error terms.\n"
   ]
  },
  {
   "cell_type": "code",
   "execution_count": 17,
   "metadata": {},
   "outputs": [
    {
     "data": {
      "text/plain": [
       "<AxesSubplot:>"
      ]
     },
     "execution_count": 17,
     "metadata": {},
     "output_type": "execute_result"
    },
    {
     "data": {
      "image/png": "[encoded data removed]",
      "text/plain": [
       "<Figure size 1296x360 with 1 Axes>"
      ]
     },
     "metadata": {
      "needs_background": "light"
     },
     "output_type": "display_data"
    }
   ],
   "source": [
    "#get feature importance\n",
    "feats = {} # a dict to hold feature_name: feature_importance\n",
    "for feature, importance in zip(X_test.columns, reg.feature_importances_):\n",
    "    feats[feature] = importance #add the name/value pair \n",
    "    #print('{}, Score: %.5f'.format(feature) %(importance))\n",
    "\n",
    "importances = pd.DataFrame.from_dict(feats, orient='index').rename(columns={0: 'Gini-importance'})\n",
    "importances.sort_values(by='Gini-importance').plot(figsize=(18,5),kind='bar', rot=45)"
   ]
  },
  {
   "cell_type": "code",
   "execution_count": 18,
   "metadata": {},
   "outputs": [
    {
     "name": "stderr",
     "output_type": "stream",
     "text": [
      "C:\\Users\\BGaither\\Anaconda3\\lib\\site-packages\\ipykernel_launcher.py:3: SettingWithCopyWarning: \n",
      "A value is trying to be set on a copy of a slice from a DataFrame.\n",
      "Try using .loc[row_indexer,col_indexer] = value instead\n",
      "\n",
      "See the caveats in the documentation: https://pandas.pydata.org/pandas-docs/stable/user_guide/indexing.html#returning-a-view-versus-a-copy\n",
      "  This is separate from the ipykernel package so we can avoid doing imports until\n"
     ]
    },
    {
     "data": {
      "text/html": [
       "<div>\n",
       "<style scoped>\n",
       "    .dataframe tbody tr th:only-of-type {\n",
       "        vertical-align: middle;\n",
       "    }\n",
       "\n",
       "    .dataframe tbody tr th {\n",
       "        vertical-align: top;\n",
       "    }\n",
       "\n",
       "    .dataframe thead th {\n",
       "        text-align: right;\n",
       "    }\n",
       "</style>\n",
       "<table border=\"1\" class=\"dataframe\">\n",
       "  <thead>\n",
       "    <tr style=\"text-align: right;\">\n",
       "      <th></th>\n",
       "      <th>Gini-importance</th>\n",
       "      <th>feature</th>\n",
       "    </tr>\n",
       "  </thead>\n",
       "  <tbody>\n",
       "    <tr>\n",
       "      <th>GeoCell</th>\n",
       "      <td>0.453479</td>\n",
       "      <td>GeoCell</td>\n",
       "    </tr>\n",
       "    <tr>\n",
       "      <th>x4_QUEENS</th>\n",
       "      <td>0.092685</td>\n",
       "      <td>x4_QUEENS</td>\n",
       "    </tr>\n",
       "    <tr>\n",
       "      <th>x4_MANHATTAN</th>\n",
       "      <td>0.070824</td>\n",
       "      <td>x4_MANHATTAN</td>\n",
       "    </tr>\n",
       "    <tr>\n",
       "      <th>Day</th>\n",
       "      <td>0.039940</td>\n",
       "      <td>Day</td>\n",
       "    </tr>\n",
       "    <tr>\n",
       "      <th>TMAX</th>\n",
       "      <td>0.036671</td>\n",
       "      <td>TMAX</td>\n",
       "    </tr>\n",
       "    <tr>\n",
       "      <th>TMIN</th>\n",
       "      <td>0.035702</td>\n",
       "      <td>TMIN</td>\n",
       "    </tr>\n",
       "    <tr>\n",
       "      <th>x4_BRONX</th>\n",
       "      <td>0.033021</td>\n",
       "      <td>x4_BRONX</td>\n",
       "    </tr>\n",
       "    <tr>\n",
       "      <th>x0_Night</th>\n",
       "      <td>0.032610</td>\n",
       "      <td>x0_Night</td>\n",
       "    </tr>\n",
       "    <tr>\n",
       "      <th>x0_Evening</th>\n",
       "      <td>0.030263</td>\n",
       "      <td>x0_Evening</td>\n",
       "    </tr>\n",
       "    <tr>\n",
       "      <th>x0_Day</th>\n",
       "      <td>0.019059</td>\n",
       "      <td>x0_Day</td>\n",
       "    </tr>\n",
       "    <tr>\n",
       "      <th>PRCP</th>\n",
       "      <td>0.016485</td>\n",
       "      <td>PRCP</td>\n",
       "    </tr>\n",
       "    <tr>\n",
       "      <th>x1_Sunday</th>\n",
       "      <td>0.014150</td>\n",
       "      <td>x1_Sunday</td>\n",
       "    </tr>\n",
       "    <tr>\n",
       "      <th>x1_Saturday</th>\n",
       "      <td>0.010036</td>\n",
       "      <td>x1_Saturday</td>\n",
       "    </tr>\n",
       "    <tr>\n",
       "      <th>x4_BROOKLYN</th>\n",
       "      <td>0.008953</td>\n",
       "      <td>x4_BROOKLYN</td>\n",
       "    </tr>\n",
       "    <tr>\n",
       "      <th>x0_Early Morning</th>\n",
       "      <td>0.008850</td>\n",
       "      <td>x0_Early Morning</td>\n",
       "    </tr>\n",
       "    <tr>\n",
       "      <th>Year</th>\n",
       "      <td>0.008067</td>\n",
       "      <td>Year</td>\n",
       "    </tr>\n",
       "    <tr>\n",
       "      <th>x0_Morning</th>\n",
       "      <td>0.008059</td>\n",
       "      <td>x0_Morning</td>\n",
       "    </tr>\n",
       "    <tr>\n",
       "      <th>x1_Friday</th>\n",
       "      <td>0.006750</td>\n",
       "      <td>x1_Friday</td>\n",
       "    </tr>\n",
       "    <tr>\n",
       "      <th>x1_Monday</th>\n",
       "      <td>0.004929</td>\n",
       "      <td>x1_Monday</td>\n",
       "    </tr>\n",
       "    <tr>\n",
       "      <th>x0_Late Night</th>\n",
       "      <td>0.004314</td>\n",
       "      <td>x0_Late Night</td>\n",
       "    </tr>\n",
       "    <tr>\n",
       "      <th>x1_Wednesday</th>\n",
       "      <td>0.004311</td>\n",
       "      <td>x1_Wednesday</td>\n",
       "    </tr>\n",
       "    <tr>\n",
       "      <th>x1_Thursday</th>\n",
       "      <td>0.004171</td>\n",
       "      <td>x1_Thursday</td>\n",
       "    </tr>\n",
       "  </tbody>\n",
       "</table>\n",
       "</div>"
      ],
      "text/plain": [
       "                  Gini-importance           feature\n",
       "GeoCell                  0.453479           GeoCell\n",
       "x4_QUEENS                0.092685         x4_QUEENS\n",
       "x4_MANHATTAN             0.070824      x4_MANHATTAN\n",
       "Day                      0.039940               Day\n",
       "TMAX                     0.036671              TMAX\n",
       "TMIN                     0.035702              TMIN\n",
       "x4_BRONX                 0.033021          x4_BRONX\n",
       "x0_Night                 0.032610          x0_Night\n",
       "x0_Evening               0.030263        x0_Evening\n",
       "x0_Day                   0.019059            x0_Day\n",
       "PRCP                     0.016485              PRCP\n",
       "x1_Sunday                0.014150         x1_Sunday\n",
       "x1_Saturday              0.010036       x1_Saturday\n",
       "x4_BROOKLYN              0.008953       x4_BROOKLYN\n",
       "x0_Early Morning         0.008850  x0_Early Morning\n",
       "Year                     0.008067              Year\n",
       "x0_Morning               0.008059        x0_Morning\n",
       "x1_Friday                0.006750         x1_Friday\n",
       "x1_Monday                0.004929         x1_Monday\n",
       "x0_Late Night            0.004314     x0_Late Night\n",
       "x1_Wednesday             0.004311      x1_Wednesday\n",
       "x1_Thursday              0.004171       x1_Thursday"
      ]
     },
     "execution_count": 18,
     "metadata": {},
     "output_type": "execute_result"
    }
   ],
   "source": [
    "#next, we'll grab the most important features using the threshold of gini-importance > .004\n",
    "df_top_features = importances[importances['Gini-importance']>.004]\n",
    "df_top_features['feature'] = df_top_features.index\n",
    "top_features = df_top_features['feature'].tolist()\n",
    "\n",
    "df_top_features.sort_values(by='Gini-importance',ascending=False)"
   ]
  },
  {
   "cell_type": "code",
   "execution_count": 19,
   "metadata": {},
   "outputs": [],
   "source": [
    "#columns to keep based on feature importance\n",
    "X_train=X_train[top_features]\n",
    "\n",
    "X_test = X_test[top_features]"
   ]
  },
  {
   "cell_type": "markdown",
   "metadata": {},
   "source": [
    "### Modeling and Evaluation 2"
   ]
  },
  {
   "cell_type": "markdown",
   "metadata": {},
   "source": [
    "First off, we randomly selected 10% of the total dataset as a holdout set that we'll use to compare all models against for the regression task. This will ensure we're comparing models against the same dataset. \n",
    "\n",
    "Then, from the remaining 90% of the data, we split the data into an 80/20 training/test set.\n",
    "\n",
    "This approach is appropriate as we want the model to learn how to predict crime volumes based on given independent variables.  The split was actually performed above in Data Perparation Part 2 of this section."
   ]
  },
  {
   "cell_type": "markdown",
   "metadata": {},
   "source": [
    "### Modeling and Evaluation 3"
   ]
  },
  {
   "cell_type": "markdown",
   "metadata": {},
   "source": [
    "Now we will implement the Random Forest Regression model utilizing the data prepared above."
   ]
  },
  {
   "cell_type": "code",
   "execution_count": null,
   "metadata": {},
   "outputs": [],
   "source": [
    "#First, we'll perform a grid search to identify the optimal hyperparameters for the model\n",
    "#Set up the parameters for grid search\n",
    "parameters = {'n_estimators' : (30,50,70,90),\n",
    "              'criterion' : ('mse','mae'),\n",
    "              'max_depth' : (5,7,9,10),\n",
    "              'max_features' : ('auto','sqrt'),\n",
    "              'min_samples_split' : (2,4,6)\n",
    "             }"
   ]
  },
  {
   "cell_type": "code",
   "execution_count": null,
   "metadata": {},
   "outputs": [],
   "source": [
    "#since grid search is taking a long time with full training data, we'll subsample \n",
    "y_train.reset_index(drop=True,inplace=True)\n",
    "df = pd.concat([X_train,y_train], axis=1)\n",
    "len(df) - df.count()"
   ]
  },
  {
   "cell_type": "code",
   "execution_count": null,
   "metadata": {},
   "outputs": [],
   "source": [
    "#take a randome 50% sample of the data for grid search\n",
    "df_ds = df.sample(frac=.5,replace=True,random_state=1)\n",
    "lstCols = df_ds.columns.values.tolist()\n",
    "lstCols.remove('count_cmplnt')\n",
    "X_ds_train = df_ds[lstCols]\n",
    "y_ds_train = df_ds[['count_cmplnt']]"
   ]
  },
  {
   "cell_type": "markdown",
   "metadata": {},
   "source": [
    "Since the grid search put a lot of load on my local machine, I used an AWS Sagemaker instance with an EC2 instance with a lot of compute to perform the Grid Search.  Therefore, the code to perform the grid search is below but I've included the results of the Grid Search in Markdown below to avoid running the code again locally."
   ]
  },
  {
   "cell_type": "code",
   "execution_count": null,
   "metadata": {},
   "outputs": [],
   "source": [
    "# reg_grid = GridSearchCV(RandomForestRegressor(n_jobs=-1,oob_score=False),param_grid=parameters,cv=3,verbose=True)\n",
    "# %time reg_grid_model = reg_grid.fit(X_ds_train,y_ds_train.values.ravel())"
   ]
  },
  {
   "cell_type": "code",
   "execution_count": null,
   "metadata": {},
   "outputs": [],
   "source": [
    "# reg_grid_model.best_estimator_"
   ]
  },
  {
   "cell_type": "markdown",
   "metadata": {},
   "source": [
    "#### Results of the Grid Search\n",
    "\n",
    "\n",
    "Time taken:  4h 30min using SageMaker ml.c5.9xlarge\n",
    "\n",
    "<b> Best Estimator: </b>\n",
    "\n",
    "RandomForestRegressor(bootstrap=True, ccp_alpha=0.0, criterion='mae',\n",
    "                      max_depth=10, max_features='auto', max_leaf_nodes=None,\n",
    "                      max_samples=None, min_impurity_decrease=0.0,\n",
    "                      min_impurity_split=None, min_samples_leaf=1,\n",
    "                      min_samples_split=2, min_weight_fraction_leaf=0.0,\n",
    "                      n_estimators=50, n_jobs=-1, oob_score=False,\n",
    "                      random_state=None, verbose=0, warm_start=False)\n",
    "                      \n",
    "                      \n",
    "<b> Best Score (MAE)</b>\n",
    "\n",
    "0.7295567982206977"
   ]
  },
  {
   "cell_type": "markdown",
   "metadata": {},
   "source": [
    "#### Implement the Best Model from Grid Search"
   ]
  },
  {
   "cell_type": "code",
   "execution_count": 20,
   "metadata": {},
   "outputs": [
    {
     "name": "stdout",
     "output_type": "stream",
     "text": [
      "Wall time: 1h 1min 10s\n"
     ]
    },
    {
     "data": {
      "text/plain": [
       "RandomForestRegressor(criterion='mae', max_depth=10, n_estimators=50, n_jobs=-1)"
      ]
     },
     "execution_count": 20,
     "metadata": {},
     "output_type": "execute_result"
    }
   ],
   "source": [
    "from sklearn.ensemble import RandomForestRegressor\n",
    "\n",
    "reg = RandomForestRegressor(bootstrap=True, \n",
    "                            ccp_alpha=0.0, \n",
    "                            criterion='mae',\n",
    "                            max_depth=10, \n",
    "                            max_features='auto', \n",
    "                            max_leaf_nodes=None,\n",
    "                            max_samples=None, \n",
    "                            min_impurity_decrease=0.0,\n",
    "                            min_impurity_split=None, \n",
    "                            min_samples_leaf=1,\n",
    "                            min_samples_split=2, \n",
    "                            min_weight_fraction_leaf=0.0,\n",
    "                            n_estimators=50, \n",
    "                            n_jobs=-1, \n",
    "                            oob_score=False,\n",
    "                            random_state=None, \n",
    "                            verbose=0, \n",
    "                            warm_start=False)\n",
    "%time reg.fit(X_train,y_train.values.ravel())"
   ]
  },
  {
   "cell_type": "code",
   "execution_count": 21,
   "metadata": {},
   "outputs": [],
   "source": [
    "y_pred = reg.predict(X_test)"
   ]
  },
  {
   "cell_type": "markdown",
   "metadata": {},
   "source": [
    "### Modeling and Evaluation 4"
   ]
  },
  {
   "cell_type": "markdown",
   "metadata": {},
   "source": [
    "#### Analyze the model against the Test Set\n",
    "\n",
    "Analyzing the results of the final Random Forest Regression model.\n",
    "\n",
    "Below, we can see the model metrics MAE, RMSE and the R<sup>2</sup> against the test set"
   ]
  },
  {
   "cell_type": "code",
   "execution_count": 22,
   "metadata": {},
   "outputs": [
    {
     "name": "stdout",
     "output_type": "stream",
     "text": [
      "Mean Absolute Error: 1.7450969821271607 crimes per period\n",
      "Root Mean Squared Error: 2.7592213367177587 crimes per period\n",
      "r2: 0.7098933109052783\n"
     ]
    }
   ],
   "source": [
    "from sklearn.metrics import *\n",
    "\n",
    "#print out the mean absolute error (mae)\n",
    "print('Mean Absolute Error:', mean_absolute_error(y_test,y_pred),'crimes per period')\n",
    "print('Root Mean Squared Error:', mean_squared_error(y_test,y_pred, squared=False),'crimes per period')\n",
    "print('r2:',r2_score(y_test,y_pred))"
   ]
  },
  {
   "cell_type": "code",
   "execution_count": 23,
   "metadata": {},
   "outputs": [
    {
     "data": {
      "image/png": "[encoded data removed]",
      "text/plain": [
       "<Figure size 432x288 with 1 Axes>"
      ]
     },
     "metadata": {},
     "output_type": "display_data"
    }
   ],
   "source": [
    "importances = list(reg.feature_importances_)\n",
    "feature_list = X_train.columns.values.tolist()\n",
    "\n",
    "%matplotlib inline\n",
    "# Set the style\n",
    "plt.style.use('fivethirtyeight')\n",
    "# list of x locations for plotting\n",
    "x_values = list(range(len(importances)))\n",
    "# Make a bar chart\n",
    "plt.bar(x_values, importances, orientation = 'vertical')\n",
    "# Tick labels for x axis\n",
    "plt.xticks(x_values, feature_list, rotation='vertical')\n",
    "# Axis labels and title\n",
    "plt.ylabel('Importance'); plt.xlabel('Variable'); plt.title('Variable Importances');"
   ]
  },
  {
   "cell_type": "code",
   "execution_count": 24,
   "metadata": {},
   "outputs": [],
   "source": [
    "#let's combine the data so that we can plot the predicted agains the actuals for a subset of the data to visually inspect\n",
    "y_test.reset_index(drop=True,inplace=True)\n",
    "df_testWithPreds = pd.concat([X_test,y_test],axis=1)\n",
    "df_testWithPreds[\"prediction\"] = reg.predict(X_test)\n",
    "df_testWithPreds['PredLessActual'] = df_testWithPreds['prediction']-df_testWithPreds['count_cmplnt']"
   ]
  },
  {
   "cell_type": "code",
   "execution_count": 25,
   "metadata": {},
   "outputs": [
    {
     "data": {
      "text/plain": [
       "Text(0.5, 1.0, 'Actual and Predicted Values against Test Set')"
      ]
     },
     "execution_count": 25,
     "metadata": {},
     "output_type": "execute_result"
    },
    {
     "data": {
      "image/png": "[encoded data removed]",
      "text/plain": [
       "<Figure size 432x288 with 1 Axes>"
      ]
     },
     "metadata": {},
     "output_type": "display_data"
    }
   ],
   "source": [
    "plt.plot(df_testWithPreds['count_cmplnt'].head(100),'b-',label='Actual')\n",
    "plt.plot(df_testWithPreds['prediction'].head(100),'ro',label='Prediction')\n",
    "plt.legend()\n",
    "plt.xlabel('observation'); plt.ylabel('crime_volume'); plt.title('Actual and Predicted Values against Test Set')"
   ]
  },
  {
   "cell_type": "code",
   "execution_count": 26,
   "metadata": {},
   "outputs": [
    {
     "data": {
      "text/plain": [
       "{'whiskers': [<matplotlib.lines.Line2D at 0x26e8aea4788>,\n",
       "  <matplotlib.lines.Line2D at 0x26e8aecf9c8>],\n",
       " 'caps': [<matplotlib.lines.Line2D at 0x26e8aed2ec8>,\n",
       "  <matplotlib.lines.Line2D at 0x26e8aed2f08>],\n",
       " 'boxes': [<matplotlib.lines.Line2D at 0x26e8aecf908>],\n",
       " 'medians': [<matplotlib.lines.Line2D at 0x26e8aed2fc8>],\n",
       " 'fliers': [<matplotlib.lines.Line2D at 0x26e8aed8f08>],\n",
       " 'means': []}"
      ]
     },
     "execution_count": 26,
     "metadata": {},
     "output_type": "execute_result"
    },
    {
     "data": {
      "image/png": "[encoded data removed]",
      "text/plain": [
       "<Figure size 432x288 with 1 Axes>"
      ]
     },
     "metadata": {},
     "output_type": "display_data"
    }
   ],
   "source": [
    "fig1, ax1 = plt.subplots()\n",
    "ax1.set_title('residual boxplot')\n",
    "ax1.boxplot(df_testWithPreds['PredLessActual'])"
   ]
  },
  {
   "cell_type": "markdown",
   "metadata": {},
   "source": [
    "#### Run model against holdout data\n",
    "\n",
    "We have created a holdout set so that we can compare various regression models against the same dataset.  Below, we'll load the data and run inference using the trained model. \n",
    "\n",
    "We'll first need to perform the same preprocessing to the holdout set that was done for the train and test set above."
   ]
  },
  {
   "cell_type": "code",
   "execution_count": 27,
   "metadata": {},
   "outputs": [],
   "source": [
    "#load csv\n",
    "file_path = \"C:\\\\Users\\\\BGaither\\\\OneDrive - McAfee\\\\Other\\\\school\\\\SMU\\\\Courses\\\\Fall 2020\\\\Machine Learning I\\\\Lab 2\\\\Data\\\\Hold_Out_Set.csv\"\n",
    "#load Data into Pandas\n",
    "df_Holdout = pd.read_csv(file_path)"
   ]
  },
  {
   "cell_type": "code",
   "execution_count": 28,
   "metadata": {},
   "outputs": [],
   "source": [
    "#since the only NANs are in Holiday and Event, we'll replace those NaNs with 'None' as we did in the train and test set\n",
    "df_Holdout = df_Holdout.fillna('None')"
   ]
  },
  {
   "cell_type": "code",
   "execution_count": 29,
   "metadata": {},
   "outputs": [
    {
     "data": {
      "text/plain": [
       "CMPLNT_FR_DT          0\n",
       "Daytime               0\n",
       "Day_Name              0\n",
       "Month                 0\n",
       "Day                   0\n",
       "Year                  0\n",
       "Season                0\n",
       "GeoCell               0\n",
       "BORO_NM               0\n",
       "PRCP                  0\n",
       "SNOW                  0\n",
       "TMIN                  0\n",
       "TMAX                  0\n",
       "Population            0\n",
       "PC_INCOME             0\n",
       "Hm_Sls_Price_Range    0\n",
       "Holiday               0\n",
       "Event                 0\n",
       "is_Holiday            0\n",
       "is_Event              0\n",
       "count_cmplnt          0\n",
       "dtype: int64"
      ]
     },
     "execution_count": 29,
     "metadata": {},
     "output_type": "execute_result"
    }
   ],
   "source": [
    "#check for NaNs again to verify we've taken care of them all\n",
    "len(df_Holdout) - df_Holdout.count()"
   ]
  },
  {
   "cell_type": "code",
   "execution_count": 30,
   "metadata": {},
   "outputs": [],
   "source": [
    "#grab the candidate variables we want to preprocess by one hot encoding and scaling as we did with the train and test sets\n",
    "X_holdout = df_Holdout[['Daytime','Day_Name','Month','Day','Year','Season','GeoCell','BORO_NM','PRCP','SNOW','TMIN','TMAX','Holiday','Event','is_Holiday','is_Event']]\n",
    "y_holdout = df_Holdout[['count_cmplnt']]"
   ]
  },
  {
   "cell_type": "code",
   "execution_count": 31,
   "metadata": {},
   "outputs": [],
   "source": [
    "#one hot encode the categorical features\n",
    "from sklearn.preprocessing import StandardScaler, OneHotEncoder\n",
    "\n",
    "columns_to_encode = ['Daytime','Day_Name','Month','Season','BORO_NM','Holiday','Event']\n",
    "columns_no_change = ['is_Holiday','is_Event','Day','Year','GeoCell','PRCP','SNOW','TMIN','TMAX']\n",
    "\n",
    "df_existing = X_holdout[columns_no_change]\n",
    "existing_cols = df_existing.to_numpy()\n",
    "\n",
    "#encoder \n",
    "ohe = OneHotEncoder(sparse=False)\n",
    "\n",
    "#ohe separate columns\n",
    "encoded_columns = ohe.fit_transform(X_holdout[columns_to_encode])\n",
    "\n",
    "#concatenate processed columns back together for X\n",
    "X_holdout = np.concatenate([encoded_columns,existing_cols],axis=1)\n",
    "\n",
    "#get the column names back to the dataframe\n",
    "df1 = pd.DataFrame(X_holdout)\n",
    "feature_names = ohe.get_feature_names().tolist()\n",
    "col_names = feature_names+columns_no_change\n",
    "df1.columns = col_names\n",
    "X_holdout = df1"
   ]
  },
  {
   "cell_type": "code",
   "execution_count": 32,
   "metadata": {},
   "outputs": [],
   "source": [
    "#scale specific columns\n",
    "from sklearn.preprocessing import StandardScaler, OneHotEncoder\n",
    "\n",
    "columns_to_scale = ['PRCP','SNOW','TMIN','TMAX']\n",
    "#get a list of all columns without the columns to scale above\n",
    "lstCols = X_holdout.columns.values.tolist()\n",
    "lstCols.remove('PRCP')\n",
    "lstCols.remove('SNOW')\n",
    "lstCols.remove('TMIN')\n",
    "lstCols.remove('TMAX')\n",
    "columns_no_change = lstCols\n",
    "\n",
    "df_existing = X_holdout[columns_no_change]\n",
    "existing_cols = df_existing.to_numpy()\n",
    "\n",
    "#separately scale X_holdout\n",
    "scaled_columns = scaler.transform(X_holdout[columns_to_scale]) #use the fit scaler object from X_train to scale X_holdout\n",
    "\n",
    "X_holdout_np = np.concatenate([scaled_columns,existing_cols],axis=1)"
   ]
  },
  {
   "cell_type": "code",
   "execution_count": 33,
   "metadata": {},
   "outputs": [],
   "source": [
    "#convert the numpy array back to a pandas dataframe for X_holdout\n",
    "df1 = pd.DataFrame(X_holdout_np)\n",
    "#get the column names back to the dataframe\n",
    "col_names = columns_to_scale+columns_no_change\n",
    "df1.columns = col_names\n",
    "X_holdout = df1"
   ]
  },
  {
   "cell_type": "code",
   "execution_count": 34,
   "metadata": {},
   "outputs": [],
   "source": [
    "#get our x and y variables set to the appropriate columns\n",
    "y_holdout = df_Holdout[['count_cmplnt']]\n",
    "X_holdout = X_holdout[top_features]"
   ]
  },
  {
   "cell_type": "code",
   "execution_count": 35,
   "metadata": {},
   "outputs": [
    {
     "data": {
      "text/plain": [
       "Index(['PRCP', 'TMIN', 'TMAX', 'x0_Day', 'x0_Early Morning', 'x0_Evening',\n",
       "       'x0_Late Night', 'x0_Morning', 'x0_Night', 'x1_Friday', 'x1_Monday',\n",
       "       'x1_Saturday', 'x1_Sunday', 'x1_Thursday', 'x1_Wednesday', 'x4_BRONX',\n",
       "       'x4_BROOKLYN', 'x4_MANHATTAN', 'x4_QUEENS', 'Day', 'Year', 'GeoCell'],\n",
       "      dtype='object')"
      ]
     },
     "execution_count": 35,
     "metadata": {},
     "output_type": "execute_result"
    }
   ],
   "source": [
    "#verify our columns in the x are as we expect\n",
    "X_holdout.columns"
   ]
  },
  {
   "cell_type": "code",
   "execution_count": 36,
   "metadata": {},
   "outputs": [],
   "source": [
    "#run inference against the holdout set\n",
    "y_pred_holdout = reg.predict(X_holdout)"
   ]
  },
  {
   "cell_type": "markdown",
   "metadata": {},
   "source": [
    "#### Analyze the model against the Holdout Set\n",
    "\n",
    "Analyzing the results of the final Random Forest Regression model.\n",
    "\n",
    "Below, we can see the model metrics MAE, RMSE and the R<sup>2</sup> against the holdout set"
   ]
  },
  {
   "cell_type": "code",
   "execution_count": 37,
   "metadata": {},
   "outputs": [
    {
     "name": "stdout",
     "output_type": "stream",
     "text": [
      "Mean Absolute Error: 1.7405859086594244 crimes per period\n",
      "Root Mean Squared Error: 2.715710900010807 crimes per period\n",
      "r2: 0.7151510083013456\n"
     ]
    }
   ],
   "source": [
    "from sklearn.metrics import *\n",
    "\n",
    "#print out the mean absolute error (mae)\n",
    "print('Mean Absolute Error:', mean_absolute_error(y_holdout,y_pred_holdout),'crimes per period')\n",
    "print('Root Mean Squared Error:', mean_squared_error(y_holdout,y_pred_holdout, squared=False),'crimes per period')\n",
    "print('r2:',r2_score(y_holdout,y_pred_holdout))"
   ]
  },
  {
   "cell_type": "code",
   "execution_count": 38,
   "metadata": {},
   "outputs": [],
   "source": [
    "y_holdout.reset_index(drop=True,inplace=True)\n",
    "df_holdoutWithPreds = pd.concat([X_holdout,y_holdout],axis=1)\n",
    "df_holdoutWithPreds[\"prediction\"] = reg.predict(X_holdout)\n",
    "df_holdoutWithPreds['PredLessActual'] = df_holdoutWithPreds['prediction']-df_holdoutWithPreds['count_cmplnt']"
   ]
  },
  {
   "cell_type": "code",
   "execution_count": 39,
   "metadata": {},
   "outputs": [
    {
     "data": {
      "text/plain": [
       "Text(0.5, 1.0, 'Actual and Predicted Values against Holdout Set')"
      ]
     },
     "execution_count": 39,
     "metadata": {},
     "output_type": "execute_result"
    },
    {
     "data": {
      "image/png": "[encoded data removed]",
      "text/plain": [
       "<Figure size 432x288 with 1 Axes>"
      ]
     },
     "metadata": {},
     "output_type": "display_data"
    }
   ],
   "source": [
    "plt.plot(df_holdoutWithPreds['count_cmplnt'].head(100),'b-',label='Actual')\n",
    "plt.plot(df_holdoutWithPreds['prediction'].head(100),'ro',label='Prediction')\n",
    "plt.legend()\n",
    "plt.xlabel('observation'); plt.ylabel('crime_volume'); plt.title('Actual and Predicted Values against Holdout Set')"
   ]
  },
  {
   "cell_type": "code",
   "execution_count": 40,
   "metadata": {},
   "outputs": [
    {
     "data": {
      "text/plain": [
       "count    18962.000000\n",
       "mean        -0.372613\n",
       "std          2.690098\n",
       "min        -36.000000\n",
       "25%         -1.280000\n",
       "50%          0.000000\n",
       "75%          0.960000\n",
       "max         15.710000\n",
       "Name: PredLessActual, dtype: float64"
      ]
     },
     "execution_count": 40,
     "metadata": {},
     "output_type": "execute_result"
    }
   ],
   "source": [
    "df_holdoutWithPreds['PredLessActual'].describe()"
   ]
  },
  {
   "cell_type": "code",
   "execution_count": 41,
   "metadata": {},
   "outputs": [
    {
     "data": {
      "text/plain": [
       "{'whiskers': [<matplotlib.lines.Line2D at 0x26e8a4b51c8>,\n",
       "  <matplotlib.lines.Line2D at 0x26e8a4d0f48>],\n",
       " 'caps': [<matplotlib.lines.Line2D at 0x26e8a4d4b08>,\n",
       "  <matplotlib.lines.Line2D at 0x26e8a4d4c88>],\n",
       " 'boxes': [<matplotlib.lines.Line2D at 0x26e8a4d0d88>],\n",
       " 'medians': [<matplotlib.lines.Line2D at 0x26e8a4dbfc8>],\n",
       " 'fliers': [<matplotlib.lines.Line2D at 0x26e8a4dba48>],\n",
       " 'means': []}"
      ]
     },
     "execution_count": 41,
     "metadata": {},
     "output_type": "execute_result"
    },
    {
     "data": {
      "image/png": "[encoded data removed]",
      "text/plain": [
       "<Figure size 432x288 with 1 Axes>"
      ]
     },
     "metadata": {},
     "output_type": "display_data"
    }
   ],
   "source": [
    "fig1, ax1 = plt.subplots()\n",
    "ax1.set_title('residual boxplot')\n",
    "ax1.boxplot(df_holdoutWithPreds['PredLessActual'])"
   ]
  },
  {
   "cell_type": "markdown",
   "metadata": {},
   "source": [
    "Below are the final metrics for the Random Forest Regression including Root Mean Squared Error and Mean Absolute Error\n",
    "\n",
    "| Model | Test Set RMSE | Holdout Set RMSE | Test Set MAE | Holdout Set MAE |\n",
    "| :----------- | ----------- |----------- |----------- |----------- |\n",
    "| Random Forest Regression | 2.77 | 2.72 | 1.75 | 1.74 |"
   ]
  },
  {
   "cell_type": "markdown",
   "metadata": {},
   "source": [
    "<a href=\"#top\">Back to Top</a>\n",
    "<a id=\"task1Compare\"></a>\n",
    "## Task 1 - Modeling and Evaluation 5 - Comparing 3 Models"
   ]
  },
  {
   "cell_type": "code",
   "execution_count": null,
   "metadata": {},
   "outputs": [],
   "source": []
  },
  {
   "cell_type": "markdown",
   "metadata": {},
   "source": [
    "<a href=\"#top\">Back to Top</a>\n",
    "<a id=\"task1Attributes\"></a>\n",
    "## Task 1 - Modeling and Evaluation 6 - Important Attributes"
   ]
  },
  {
   "cell_type": "code",
   "execution_count": null,
   "metadata": {},
   "outputs": [],
   "source": []
  },
  {
   "cell_type": "markdown",
   "metadata": {},
   "source": [
    "<a href=\"#top\">Back to Top</a>\n",
    "<a id=\"task1Deployment\"></a>\n",
    "## Task 1 - Deployment"
   ]
  },
  {
   "cell_type": "code",
   "execution_count": null,
   "metadata": {},
   "outputs": [],
   "source": []
  },
  {
   "cell_type": "markdown",
   "metadata": {},
   "source": [
    "<a href=\"#top\">Back to Top</a>\n",
    "<a id=\"task2\"></a>\n",
    "# Task 2 - Classification\n",
    "\n",
    "The classification task is aiming to classify a given crime as being either a Viloent or Non-Violent crime."
   ]
  },
  {
   "cell_type": "markdown",
   "metadata": {},
   "source": [
    "<a href=\"#top\">Back to Top</a>\n",
    "<a id=\"task2Model1\"></a>\n",
    "## Task 2 - Classification - Model 1 - Random Forest (Approach 1)"
   ]
  },
  {
   "cell_type": "code",
   "execution_count": null,
   "metadata": {},
   "outputs": [],
   "source": []
  },
  {
   "cell_type": "markdown",
   "metadata": {},
   "source": [
    "### Data Preparation Part 1"
   ]
  },
  {
   "cell_type": "code",
   "execution_count": null,
   "metadata": {},
   "outputs": [],
   "source": []
  },
  {
   "cell_type": "markdown",
   "metadata": {},
   "source": [
    "### Data Preparation Part 2"
   ]
  },
  {
   "cell_type": "code",
   "execution_count": null,
   "metadata": {},
   "outputs": [],
   "source": []
  },
  {
   "cell_type": "markdown",
   "metadata": {},
   "source": [
    "### Modeling and Evaluation 1"
   ]
  },
  {
   "cell_type": "code",
   "execution_count": null,
   "metadata": {},
   "outputs": [],
   "source": []
  },
  {
   "cell_type": "markdown",
   "metadata": {},
   "source": [
    "### Modeling and Evaluation 2"
   ]
  },
  {
   "cell_type": "code",
   "execution_count": null,
   "metadata": {},
   "outputs": [],
   "source": []
  },
  {
   "cell_type": "markdown",
   "metadata": {},
   "source": [
    "### Modeling and Evaluation 3"
   ]
  },
  {
   "cell_type": "code",
   "execution_count": null,
   "metadata": {},
   "outputs": [],
   "source": []
  },
  {
   "cell_type": "markdown",
   "metadata": {},
   "source": [
    "### Modeling and Evaluation 4"
   ]
  },
  {
   "cell_type": "code",
   "execution_count": null,
   "metadata": {},
   "outputs": [],
   "source": []
  },
  {
   "cell_type": "markdown",
   "metadata": {},
   "source": [
    "<a href=\"#top\">Back to Top</a>\n",
    "<a id=\"task2Model2\"></a>\n",
    "## Task 2 - Classification - Model 2 - Logistic Regression"
   ]
  },
  {
   "cell_type": "code",
   "execution_count": null,
   "metadata": {},
   "outputs": [],
   "source": []
  },
  {
   "cell_type": "markdown",
   "metadata": {},
   "source": [
    "### Data Preparation Part 1"
   ]
  },
  {
   "cell_type": "code",
   "execution_count": null,
   "metadata": {},
   "outputs": [],
   "source": []
  },
  {
   "cell_type": "markdown",
   "metadata": {},
   "source": [
    "### Data Preparation Part 2"
   ]
  },
  {
   "cell_type": "code",
   "execution_count": null,
   "metadata": {},
   "outputs": [],
   "source": []
  },
  {
   "cell_type": "markdown",
   "metadata": {},
   "source": [
    "### Modeling and Evaluation 1"
   ]
  },
  {
   "cell_type": "code",
   "execution_count": null,
   "metadata": {},
   "outputs": [],
   "source": []
  },
  {
   "cell_type": "markdown",
   "metadata": {},
   "source": [
    "### Modeling and Evaluation 2"
   ]
  },
  {
   "cell_type": "code",
   "execution_count": null,
   "metadata": {},
   "outputs": [],
   "source": []
  },
  {
   "cell_type": "markdown",
   "metadata": {},
   "source": [
    "### Modeling and Evaluation 3"
   ]
  },
  {
   "cell_type": "code",
   "execution_count": null,
   "metadata": {},
   "outputs": [],
   "source": []
  },
  {
   "cell_type": "markdown",
   "metadata": {},
   "source": [
    "### Modeling and Evaluation 4"
   ]
  },
  {
   "cell_type": "code",
   "execution_count": null,
   "metadata": {},
   "outputs": [],
   "source": []
  },
  {
   "cell_type": "markdown",
   "metadata": {},
   "source": [
    "<a href=\"#top\">Back to Top</a>\n",
    "<a id=\"task2Model3\"></a>\n",
    "## Task 2 - Classification - Model 3 - Random Forest (Approach 2)"
   ]
  },
  {
   "cell_type": "code",
   "execution_count": null,
   "metadata": {},
   "outputs": [],
   "source": []
  },
  {
   "cell_type": "markdown",
   "metadata": {},
   "source": [
    "### Data Preparation Part 1"
   ]
  },
  {
   "cell_type": "code",
   "execution_count": null,
   "metadata": {},
   "outputs": [],
   "source": []
  },
  {
   "cell_type": "markdown",
   "metadata": {},
   "source": [
    "### Data Preparation Part 2"
   ]
  },
  {
   "cell_type": "code",
   "execution_count": null,
   "metadata": {},
   "outputs": [],
   "source": []
  },
  {
   "cell_type": "markdown",
   "metadata": {},
   "source": [
    "### Modeling and Evaluation 1"
   ]
  },
  {
   "cell_type": "code",
   "execution_count": null,
   "metadata": {},
   "outputs": [],
   "source": []
  },
  {
   "cell_type": "markdown",
   "metadata": {},
   "source": [
    "### Modeling and Evaluation 2"
   ]
  },
  {
   "cell_type": "code",
   "execution_count": null,
   "metadata": {},
   "outputs": [],
   "source": []
  },
  {
   "cell_type": "markdown",
   "metadata": {},
   "source": [
    "### Modeling and Evaluation 3"
   ]
  },
  {
   "cell_type": "code",
   "execution_count": null,
   "metadata": {},
   "outputs": [],
   "source": []
  },
  {
   "cell_type": "markdown",
   "metadata": {},
   "source": [
    "### Modeling and Evaluation 4"
   ]
  },
  {
   "cell_type": "code",
   "execution_count": null,
   "metadata": {},
   "outputs": [],
   "source": []
  },
  {
   "cell_type": "markdown",
   "metadata": {},
   "source": [
    "<a href=\"#top\">Back to Top</a>\n",
    "<a id=\"task2Compare\"></a>\n",
    "## Task 2 - Modeling and Evaluation 5 - Comparing 3 Models"
   ]
  },
  {
   "cell_type": "code",
   "execution_count": null,
   "metadata": {},
   "outputs": [],
   "source": []
  },
  {
   "cell_type": "markdown",
   "metadata": {},
   "source": [
    "<a href=\"#top\">Back to Top</a>\n",
    "<a id=\"task2Attributes\"></a>\n",
    "## Task 2 -  Modeling and Evaluation 6 - Important Attributes"
   ]
  },
  {
   "cell_type": "markdown",
   "metadata": {},
   "source": [
    "<a href=\"#top\">Back to Top</a>\n",
    "<a id=\"task2Deployment\"></a>\n",
    "## Task 2 - Deployment"
   ]
  },
  {
   "cell_type": "code",
   "execution_count": null,
   "metadata": {},
   "outputs": [],
   "source": []
  },
  {
   "cell_type": "markdown",
   "metadata": {},
   "source": [
    "<a href=\"#top\">Back to Top</a>\n",
    "<a id=\"Exceptional\"></a>\n",
    "# Exceptional Work"
   ]
  },
  {
   "cell_type": "code",
   "execution_count": null,
   "metadata": {},
   "outputs": [],
   "source": []
  }
 ],
 "metadata": {
  "kernelspec": {
   "display_name": "Python 3",
   "language": "python",
   "name": "python3"
  },
  "language_info": {
   "codemirror_mode": {
    "name": "ipython",
    "version": 3
   },
   "file_extension": ".py",
   "mimetype": "text/x-python",
   "name": "python",
   "nbconvert_exporter": "python",
   "pygments_lexer": "ipython3",
   "version": "3.7.6"
  }
 },
 "nbformat": 4,
 "nbformat_minor": 4
}
