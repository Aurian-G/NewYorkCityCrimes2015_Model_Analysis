{
 "cells": [
  {
   "cell_type": "code",
   "execution_count": 3,
   "metadata": {},
   "outputs": [],
   "source": [
    "import pandas as pd\n",
    "import numpy as np\n",
    "import matplotlib.pyplot as plt\n",
    "from statsmodels.nonparametric.smoothers_lowess import lowess\n",
    "from matplotlib.dates import DayLocator, MonthLocator, DateFormatter, drange\n",
    "import seaborn as sns"
   ]
  },
  {
   "cell_type": "markdown",
   "metadata": {},
   "source": [
    "## Data Preparation Part 1"
   ]
  },
  {
   "cell_type": "markdown",
   "metadata": {},
   "source": [
    "Here, we read in the data and parse the CMPLNT_FR_DT variable as datetime."
   ]
  },
  {
   "cell_type": "code",
   "execution_count": 4,
   "metadata": {},
   "outputs": [],
   "source": [
    "df = pd.read_csv('/home/drew/School/Semester4/ML1/NewYorkCityCrimes2015/Data/Lab2_Daily_Crime_Volume_Data/Training_and_Test_Set.csv',\n",
    "                parse_dates = ['CMPLNT_FR_DT'])\n"
   ]
  },
  {
   "cell_type": "markdown",
   "metadata": {},
   "source": [
    "As you can see below, there are many variables that are non-numeric. KNN accepts only numeric variables, so we must do some pre-processing in order to use these variables in our model."
   ]
  },
  {
   "cell_type": "code",
   "execution_count": 4,
   "metadata": {
    "scrolled": false
   },
   "outputs": [
    {
     "data": {
      "text/html": [
       "<div>\n",
       "<style scoped>\n",
       "    .dataframe tbody tr th:only-of-type {\n",
       "        vertical-align: middle;\n",
       "    }\n",
       "\n",
       "    .dataframe tbody tr th {\n",
       "        vertical-align: top;\n",
       "    }\n",
       "\n",
       "    .dataframe thead th {\n",
       "        text-align: right;\n",
       "    }\n",
       "</style>\n",
       "<table border=\"1\" class=\"dataframe\">\n",
       "  <thead>\n",
       "    <tr style=\"text-align: right;\">\n",
       "      <th></th>\n",
       "      <th>CMPLNT_FR_DT</th>\n",
       "      <th>Daytime</th>\n",
       "      <th>Day_Name</th>\n",
       "      <th>Month</th>\n",
       "      <th>Day</th>\n",
       "      <th>Year</th>\n",
       "      <th>Season</th>\n",
       "      <th>GeoCell</th>\n",
       "      <th>BORO_NM</th>\n",
       "      <th>PRCP</th>\n",
       "      <th>...</th>\n",
       "      <th>TMIN</th>\n",
       "      <th>TMAX</th>\n",
       "      <th>Population</th>\n",
       "      <th>PC_INCOME</th>\n",
       "      <th>Hm_Sls_Price_Range</th>\n",
       "      <th>Holiday</th>\n",
       "      <th>Event</th>\n",
       "      <th>is_Holiday</th>\n",
       "      <th>is_Event</th>\n",
       "      <th>count_cmplnt</th>\n",
       "    </tr>\n",
       "  </thead>\n",
       "  <tbody>\n",
       "    <tr>\n",
       "      <th>0</th>\n",
       "      <td>2014-11-26</td>\n",
       "      <td>Morning</td>\n",
       "      <td>Wednesday</td>\n",
       "      <td>November</td>\n",
       "      <td>26.0</td>\n",
       "      <td>2014.0</td>\n",
       "      <td>Fall</td>\n",
       "      <td>66.0</td>\n",
       "      <td>QUEENS</td>\n",
       "      <td>1.24</td>\n",
       "      <td>...</td>\n",
       "      <td>34</td>\n",
       "      <td>51</td>\n",
       "      <td>2,250,002</td>\n",
       "      <td>40997</td>\n",
       "      <td>Medium</td>\n",
       "      <td>NaN</td>\n",
       "      <td>NaN</td>\n",
       "      <td>0</td>\n",
       "      <td>0</td>\n",
       "      <td>1</td>\n",
       "    </tr>\n",
       "    <tr>\n",
       "      <th>1</th>\n",
       "      <td>2014-12-01</td>\n",
       "      <td>Late Night</td>\n",
       "      <td>Monday</td>\n",
       "      <td>December</td>\n",
       "      <td>1.0</td>\n",
       "      <td>2014.0</td>\n",
       "      <td>Winter</td>\n",
       "      <td>60.0</td>\n",
       "      <td>QUEENS</td>\n",
       "      <td>0.09</td>\n",
       "      <td>...</td>\n",
       "      <td>42</td>\n",
       "      <td>65</td>\n",
       "      <td>2,250,002</td>\n",
       "      <td>40997</td>\n",
       "      <td>Medium</td>\n",
       "      <td>NaN</td>\n",
       "      <td>NaN</td>\n",
       "      <td>0</td>\n",
       "      <td>0</td>\n",
       "      <td>1</td>\n",
       "    </tr>\n",
       "    <tr>\n",
       "      <th>2</th>\n",
       "      <td>2015-11-10</td>\n",
       "      <td>Morning</td>\n",
       "      <td>Tuesday</td>\n",
       "      <td>November</td>\n",
       "      <td>10.0</td>\n",
       "      <td>2015.0</td>\n",
       "      <td>Fall</td>\n",
       "      <td>15.0</td>\n",
       "      <td>BROOKLYN</td>\n",
       "      <td>0.26</td>\n",
       "      <td>...</td>\n",
       "      <td>51</td>\n",
       "      <td>57</td>\n",
       "      <td>2,552,911</td>\n",
       "      <td>43915</td>\n",
       "      <td>High</td>\n",
       "      <td>NaN</td>\n",
       "      <td>NaN</td>\n",
       "      <td>0</td>\n",
       "      <td>0</td>\n",
       "      <td>2</td>\n",
       "    </tr>\n",
       "    <tr>\n",
       "      <th>3</th>\n",
       "      <td>2014-02-04</td>\n",
       "      <td>Morning</td>\n",
       "      <td>Tuesday</td>\n",
       "      <td>February</td>\n",
       "      <td>4.0</td>\n",
       "      <td>2014.0</td>\n",
       "      <td>Winter</td>\n",
       "      <td>48.0</td>\n",
       "      <td>QUEENS</td>\n",
       "      <td>0.00</td>\n",
       "      <td>...</td>\n",
       "      <td>22</td>\n",
       "      <td>35</td>\n",
       "      <td>2,250,002</td>\n",
       "      <td>40997</td>\n",
       "      <td>Medium</td>\n",
       "      <td>NaN</td>\n",
       "      <td>NaN</td>\n",
       "      <td>0</td>\n",
       "      <td>0</td>\n",
       "      <td>3</td>\n",
       "    </tr>\n",
       "    <tr>\n",
       "      <th>4</th>\n",
       "      <td>2015-08-25</td>\n",
       "      <td>Late Night</td>\n",
       "      <td>Tuesday</td>\n",
       "      <td>August</td>\n",
       "      <td>25.0</td>\n",
       "      <td>2015.0</td>\n",
       "      <td>Summer</td>\n",
       "      <td>35.0</td>\n",
       "      <td>BROOKLYN</td>\n",
       "      <td>0.00</td>\n",
       "      <td>...</td>\n",
       "      <td>73</td>\n",
       "      <td>90</td>\n",
       "      <td>2,552,911</td>\n",
       "      <td>43915</td>\n",
       "      <td>High</td>\n",
       "      <td>NaN</td>\n",
       "      <td>NaN</td>\n",
       "      <td>0</td>\n",
       "      <td>0</td>\n",
       "      <td>1</td>\n",
       "    </tr>\n",
       "    <tr>\n",
       "      <th>5</th>\n",
       "      <td>2014-09-03</td>\n",
       "      <td>Morning</td>\n",
       "      <td>Wednesday</td>\n",
       "      <td>September</td>\n",
       "      <td>3.0</td>\n",
       "      <td>2014.0</td>\n",
       "      <td>Fall</td>\n",
       "      <td>23.0</td>\n",
       "      <td>STATEN ISLAND</td>\n",
       "      <td>0.00</td>\n",
       "      <td>...</td>\n",
       "      <td>72</td>\n",
       "      <td>86</td>\n",
       "      <td>468,730</td>\n",
       "      <td>48123</td>\n",
       "      <td>Low</td>\n",
       "      <td>NaN</td>\n",
       "      <td>US Open Tennis</td>\n",
       "      <td>0</td>\n",
       "      <td>1</td>\n",
       "      <td>1</td>\n",
       "    </tr>\n",
       "    <tr>\n",
       "      <th>6</th>\n",
       "      <td>2015-09-17</td>\n",
       "      <td>Morning</td>\n",
       "      <td>Thursday</td>\n",
       "      <td>September</td>\n",
       "      <td>17.0</td>\n",
       "      <td>2015.0</td>\n",
       "      <td>Fall</td>\n",
       "      <td>49.0</td>\n",
       "      <td>QUEENS</td>\n",
       "      <td>0.00</td>\n",
       "      <td>...</td>\n",
       "      <td>68</td>\n",
       "      <td>89</td>\n",
       "      <td>2,250,002</td>\n",
       "      <td>44031</td>\n",
       "      <td>Medium</td>\n",
       "      <td>NaN</td>\n",
       "      <td>New York Boat Show</td>\n",
       "      <td>0</td>\n",
       "      <td>1</td>\n",
       "      <td>7</td>\n",
       "    </tr>\n",
       "    <tr>\n",
       "      <th>7</th>\n",
       "      <td>2015-01-29</td>\n",
       "      <td>Morning</td>\n",
       "      <td>Thursday</td>\n",
       "      <td>January</td>\n",
       "      <td>29.0</td>\n",
       "      <td>2015.0</td>\n",
       "      <td>Winter</td>\n",
       "      <td>35.0</td>\n",
       "      <td>BROOKLYN</td>\n",
       "      <td>0.02</td>\n",
       "      <td>...</td>\n",
       "      <td>19</td>\n",
       "      <td>36</td>\n",
       "      <td>2,552,911</td>\n",
       "      <td>43915</td>\n",
       "      <td>High</td>\n",
       "      <td>NaN</td>\n",
       "      <td>NaN</td>\n",
       "      <td>0</td>\n",
       "      <td>0</td>\n",
       "      <td>5</td>\n",
       "    </tr>\n",
       "    <tr>\n",
       "      <th>8</th>\n",
       "      <td>2015-03-12</td>\n",
       "      <td>Evening</td>\n",
       "      <td>Thursday</td>\n",
       "      <td>March</td>\n",
       "      <td>12.0</td>\n",
       "      <td>2015.0</td>\n",
       "      <td>Spring</td>\n",
       "      <td>67.0</td>\n",
       "      <td>QUEENS</td>\n",
       "      <td>0.00</td>\n",
       "      <td>...</td>\n",
       "      <td>36</td>\n",
       "      <td>47</td>\n",
       "      <td>2,250,002</td>\n",
       "      <td>44031</td>\n",
       "      <td>Medium</td>\n",
       "      <td>NaN</td>\n",
       "      <td>NaN</td>\n",
       "      <td>0</td>\n",
       "      <td>0</td>\n",
       "      <td>1</td>\n",
       "    </tr>\n",
       "    <tr>\n",
       "      <th>9</th>\n",
       "      <td>2014-06-23</td>\n",
       "      <td>Late Night</td>\n",
       "      <td>Monday</td>\n",
       "      <td>June</td>\n",
       "      <td>23.0</td>\n",
       "      <td>2014.0</td>\n",
       "      <td>Summer</td>\n",
       "      <td>48.0</td>\n",
       "      <td>QUEENS</td>\n",
       "      <td>0.00</td>\n",
       "      <td>...</td>\n",
       "      <td>65</td>\n",
       "      <td>81</td>\n",
       "      <td>2,250,002</td>\n",
       "      <td>40997</td>\n",
       "      <td>Medium</td>\n",
       "      <td>NaN</td>\n",
       "      <td>NaN</td>\n",
       "      <td>0</td>\n",
       "      <td>0</td>\n",
       "      <td>3</td>\n",
       "    </tr>\n",
       "  </tbody>\n",
       "</table>\n",
       "<p>10 rows × 21 columns</p>\n",
       "</div>"
      ],
      "text/plain": [
       "  CMPLNT_FR_DT     Daytime   Day_Name      Month   Day    Year  Season  \\\n",
       "0   2014-11-26     Morning  Wednesday   November  26.0  2014.0    Fall   \n",
       "1   2014-12-01  Late Night     Monday   December   1.0  2014.0  Winter   \n",
       "2   2015-11-10     Morning    Tuesday   November  10.0  2015.0    Fall   \n",
       "3   2014-02-04     Morning    Tuesday   February   4.0  2014.0  Winter   \n",
       "4   2015-08-25  Late Night    Tuesday     August  25.0  2015.0  Summer   \n",
       "5   2014-09-03     Morning  Wednesday  September   3.0  2014.0    Fall   \n",
       "6   2015-09-17     Morning   Thursday  September  17.0  2015.0    Fall   \n",
       "7   2015-01-29     Morning   Thursday    January  29.0  2015.0  Winter   \n",
       "8   2015-03-12     Evening   Thursday      March  12.0  2015.0  Spring   \n",
       "9   2014-06-23  Late Night     Monday       June  23.0  2014.0  Summer   \n",
       "\n",
       "   GeoCell        BORO_NM  PRCP  ...  TMIN  TMAX  Population PC_INCOME  \\\n",
       "0     66.0         QUEENS  1.24  ...    34    51   2,250,002     40997   \n",
       "1     60.0         QUEENS  0.09  ...    42    65   2,250,002     40997   \n",
       "2     15.0       BROOKLYN  0.26  ...    51    57   2,552,911     43915   \n",
       "3     48.0         QUEENS  0.00  ...    22    35   2,250,002     40997   \n",
       "4     35.0       BROOKLYN  0.00  ...    73    90   2,552,911     43915   \n",
       "5     23.0  STATEN ISLAND  0.00  ...    72    86     468,730     48123   \n",
       "6     49.0         QUEENS  0.00  ...    68    89   2,250,002     44031   \n",
       "7     35.0       BROOKLYN  0.02  ...    19    36   2,552,911     43915   \n",
       "8     67.0         QUEENS  0.00  ...    36    47   2,250,002     44031   \n",
       "9     48.0         QUEENS  0.00  ...    65    81   2,250,002     40997   \n",
       "\n",
       "   Hm_Sls_Price_Range Holiday               Event is_Holiday  is_Event  \\\n",
       "0              Medium     NaN                 NaN          0         0   \n",
       "1              Medium     NaN                 NaN          0         0   \n",
       "2                High     NaN                 NaN          0         0   \n",
       "3              Medium     NaN                 NaN          0         0   \n",
       "4                High     NaN                 NaN          0         0   \n",
       "5                 Low     NaN      US Open Tennis          0         1   \n",
       "6              Medium     NaN  New York Boat Show          0         1   \n",
       "7                High     NaN                 NaN          0         0   \n",
       "8              Medium     NaN                 NaN          0         0   \n",
       "9              Medium     NaN                 NaN          0         0   \n",
       "\n",
       "   count_cmplnt  \n",
       "0             1  \n",
       "1             1  \n",
       "2             2  \n",
       "3             3  \n",
       "4             1  \n",
       "5             1  \n",
       "6             7  \n",
       "7             5  \n",
       "8             1  \n",
       "9             3  \n",
       "\n",
       "[10 rows x 21 columns]"
      ]
     },
     "execution_count": 4,
     "metadata": {},
     "output_type": "execute_result"
    }
   ],
   "source": [
    "df.head(10)"
   ]
  },
  {
   "cell_type": "markdown",
   "metadata": {},
   "source": [
    "Our Day_Name variable was built off of the CMPLNT_FR_DT variable. In order to turn that variable into a numeric variable, we simply use the dt.dayofweek function from pandas in order to change \"Monday\" to 0, \"Tuesday\" to 1 etc. "
   ]
  },
  {
   "cell_type": "code",
   "execution_count": 6,
   "metadata": {},
   "outputs": [],
   "source": [
    "df['DayOfWeek'] = df['CMPLNT_FR_DT'].dt.dayofweek"
   ]
  },
  {
   "cell_type": "markdown",
   "metadata": {},
   "source": [
    "Similar to the dayofweek function, dt.month turns January into 1, February into 2, etc. We use this function to change our Month variable into a numeric variable. "
   ]
  },
  {
   "cell_type": "code",
   "execution_count": 7,
   "metadata": {},
   "outputs": [],
   "source": [
    "df['Month_No'] = df['CMPLNT_FR_DT'].dt.month\n",
    "df_Crime = df"
   ]
  },
  {
   "cell_type": "markdown",
   "metadata": {},
   "source": [
    "As you can see in the plot below, there does seem to be a temporal dependence of number of crimes. Crimes seem to peak in the summer and drop in the winter. We encode this temporal dependence as numeric variables identifying the month, the year and the day. "
   ]
  },
  {
   "cell_type": "code",
   "execution_count": 7,
   "metadata": {},
   "outputs": [
    {
     "data": {
      "image/png": "[encoded data removed]",
      "text/plain": [
       "<Figure size 432x288 with 1 Axes>"
      ]
     },
     "metadata": {
      "needs_background": "light"
     },
     "output_type": "display_data"
    }
   ],
   "source": [
    "df_Crime['CMPLNT_FR_DT'] = pd.to_datetime(df_Crime['CMPLNT_FR_DT'], format = '%m/%d/%Y')\n",
    "crimeByDate = df_Crime.groupby('CMPLNT_FR_DT')['count_cmplnt'].sum().reset_index()\n",
    "fig, ax = plt.subplots()\n",
    "plt.xlabel('Date of Crime')\n",
    "plt.ylabel('Number of Crimes')\n",
    "plt.grid(True)\n",
    "plt.ylim(-5, 2000)\n",
    "plt.title('Number of Crimes per Date in NYC with LOWESS Curve')\n",
    "plt.plot_date(crimeByDate['CMPLNT_FR_DT'], crimeByDate['count_cmplnt'])\n",
    "plt.plot_date(crimeByDate['CMPLNT_FR_DT'],lowess(crimeByDate['count_cmplnt'],crimeByDate['CMPLNT_FR_DT'], frac = .25))\n",
    "ax.xaxis.set_tick_params(rotation=45, labelsize=10)\n",
    "ax.xaxis.set_major_formatter(DateFormatter('%m/%Y'))\n",
    "plt.show()"
   ]
  },
  {
   "cell_type": "markdown",
   "metadata": {},
   "source": [
    "As you can see in the plot below, there does seem to be a dependence of number of crimes on the burough. Borough is categorical, but we have 3 numeric variables that correspond to the borough: Population, Hm_Sls_Price_Range and PC_INCOME, so we only need one of these variables in our final model. The population variable was chosen due to the ease of turning this variable into numeric, though we could have used any other variable listed above. "
   ]
  },
  {
   "cell_type": "code",
   "execution_count": 8,
   "metadata": {
    "scrolled": true
   },
   "outputs": [
    {
     "data": {
      "image/png": "[encoded data removed]",
      "text/plain": [
       "<Figure size 432x288 with 1 Axes>"
      ]
     },
     "metadata": {
      "needs_background": "light"
     },
     "output_type": "display_data"
    }
   ],
   "source": [
    "borodf = df_Crime.groupby('BORO_NM')['count_cmplnt'].sum().reset_index()\n",
    "fig, ax = plt.subplots()\n",
    "plt.xlabel('Borough')\n",
    "plt.ylabel('Number of Crimes')\n",
    "plt.title('Total Crimes per Borough over 2014 - 2015')\n",
    "plt.bar(borodf['BORO_NM'], borodf['count_cmplnt']);"
   ]
  },
  {
   "cell_type": "markdown",
   "metadata": {},
   "source": [
    "The time of day does look to have some influence on the number of crimes as well, with evening and day time seeming to have the most crimes, although morning and night have the 4 largest count_cmplnts. "
   ]
  },
  {
   "cell_type": "code",
   "execution_count": 9,
   "metadata": {},
   "outputs": [
    {
     "data": {
      "image/png": "[encoded data removed]",
      "text/plain": [
       "<Figure size 432x288 with 1 Axes>"
      ]
     },
     "metadata": {
      "needs_background": "light"
     },
     "output_type": "display_data"
    }
   ],
   "source": [
    "ax = sns.boxplot(x=\"Daytime\", y=\"count_cmplnt\", data=df_Crime)\n",
    "ax.set_title(\"Boxplot of Number of Crimes Crime by Daytime\");"
   ]
  },
  {
   "cell_type": "markdown",
   "metadata": {},
   "source": [
    "Below is a graph of the total crimes per day of the week over 2014 - 2015. The most crimes occur on Friday, and the fewest crimes occur on Sunday. There isn't a large difference between the individual days of the week, but there may be enough difference between Friday and Sunday to have an impact on our models. "
   ]
  },
  {
   "cell_type": "code",
   "execution_count": 10,
   "metadata": {},
   "outputs": [
    {
     "data": {
      "image/png": "[encoded data removed]",
      "text/plain": [
       "<Figure size 432x288 with 1 Axes>"
      ]
     },
     "metadata": {
      "needs_background": "light"
     },
     "output_type": "display_data"
    }
   ],
   "source": [
    "dowdf = df_Crime.groupby('DayOfWeek')['count_cmplnt'].sum().reset_index()\n",
    "fig, ax = plt.subplots()\n",
    "plt.xlabel('Day of Week')\n",
    "plt.ylabel('Number of Crimes')\n",
    "plt.title('Total Crimes per Day of Week over 2014 - 2015')\n",
    "plt.bar(dowdf['DayOfWeek'], dowdf['count_cmplnt']);\n",
    "ax.xaxis.set_tick_params(rotation=45, labelsize=10)\n",
    "plt.xticks(np.arange(7),['Monday', 'Tuesday', 'Wednesday', 'Thursday', 'Friday', 'Saturday', 'Sunday']);"
   ]
  },
  {
   "cell_type": "markdown",
   "metadata": {},
   "source": [
    "In order to bring the latitude and longitude into the grouped analysis, we created 100 GeoCells to bin the locations of crimes. When we plot the number of crimes by location, we find a large difference between the 100 geocells. GeoCell number 87 has a two year crime count of 48,434, while many of these GeoCells have no crime at all. Crime count has a large dependence on location. A bar plot was chosen since we were interested in looking at the total number of crimes across levels of a categorical variable. "
   ]
  },
  {
   "cell_type": "code",
   "execution_count": 11,
   "metadata": {},
   "outputs": [
    {
     "data": {
      "image/png": "[encoded data removed]",
      "text/plain": [
       "<Figure size 432x288 with 1 Axes>"
      ]
     },
     "metadata": {
      "needs_background": "light"
     },
     "output_type": "display_data"
    }
   ],
   "source": [
    "locdf = df_Crime.groupby('GeoCell')['count_cmplnt'].sum().reset_index()\n",
    "fig, ax = plt.subplots()\n",
    "plt.xlabel('GeoCell')\n",
    "plt.ylabel('Number of Crimes')\n",
    "plt.title('Total Crimes per GeoCell over 2014 - 2015')\n",
    "plt.bar(locdf['GeoCell'], locdf['count_cmplnt']);"
   ]
  },
  {
   "cell_type": "markdown",
   "metadata": {},
   "source": [
    "When we look at the number of crimes per day vs. the daily high temperature, we can see that crime seems to increase lineraly as temperature increases. This seems to confirm what we saw in the plot of crimes per month: the colder winter months have lower amounts of crime, while the warmer summer months have larger amounts of crime. "
   ]
  },
  {
   "cell_type": "code",
   "execution_count": 8,
   "metadata": {},
   "outputs": [
    {
     "name": "stderr",
     "output_type": "stream",
     "text": [
      "<ipython-input-8-12e0611d08f5>:2: FutureWarning: Indexing with multiple keys (implicitly converted to a tuple of keys) will be deprecated, use a list instead.\n",
      "  temp_df = df_Crime.groupby('CMPLNT_FR_DT')['TMAX','TMIN', 'SNOW', 'PRCP'].max();\n"
     ]
    },
    {
     "data": {
      "image/png": "[encoded data removed]",
      "text/plain": [
       "<Figure size 432x288 with 1 Axes>"
      ]
     },
     "metadata": {
      "needs_background": "light"
     },
     "output_type": "display_data"
    }
   ],
   "source": [
    "datedf = df_Crime.groupby('CMPLNT_FR_DT')['count_cmplnt'].sum().reset_index()\n",
    "temp_df = df_Crime.groupby('CMPLNT_FR_DT')['TMAX','TMIN', 'SNOW', 'PRCP'].max();\n",
    "tempdf = datedf.join(temp_df, on = 'CMPLNT_FR_DT');\n",
    "fig, ax = plt.subplots()\n",
    "plt.scatter(tempdf['TMAX'], tempdf['count_cmplnt']);\n",
    "plt.xlabel('High Temperature')\n",
    "plt.ylabel('Number of Crimes')\n",
    "plt.title('Total Crimes per High Temperature over 2014 - 2015');"
   ]
  },
  {
   "cell_type": "markdown",
   "metadata": {},
   "source": [
    "The daily low temperature is highly correlated with the daily high temperature, so the plot of low temperature vs. number of crimes is nearly identical to the high temperature vs. number of crimes. Both were included in the KNN model due to potential extreme fluxuations in temperature in New York City. "
   ]
  },
  {
   "cell_type": "code",
   "execution_count": 13,
   "metadata": {},
   "outputs": [
    {
     "data": {
      "image/png": "[encoded data removed]",
      "text/plain": [
       "<Figure size 432x288 with 1 Axes>"
      ]
     },
     "metadata": {
      "needs_background": "light"
     },
     "output_type": "display_data"
    }
   ],
   "source": [
    "fig, ax = plt.subplots()\n",
    "plt.scatter(tempdf['TMIN'], tempdf['count_cmplnt'])\n",
    "plt.xlabel('Low Temperature')\n",
    "plt.ylabel('Number of Crimes')\n",
    "plt.title('Total Crimes per Low Temperature over 2014 - 2015');"
   ]
  },
  {
   "cell_type": "markdown",
   "metadata": {},
   "source": [
    "Here, we look at the amount of snow vs. the crime count. It does not snow very often in New York so it is hard to tell if there is a trend with so few data points, but number of crimes does seem to have a negative linear dependence on the amount of snow that New York recieves."
   ]
  },
  {
   "cell_type": "code",
   "execution_count": 14,
   "metadata": {},
   "outputs": [
    {
     "data": {
      "image/png": "[encoded data removed]",
      "text/plain": [
       "<Figure size 432x288 with 1 Axes>"
      ]
     },
     "metadata": {
      "needs_background": "light"
     },
     "output_type": "display_data"
    }
   ],
   "source": [
    "snowdf = tempdf[tempdf['SNOW'] > 0]\n",
    "fig, ax = plt.subplots()\n",
    "\n",
    "plt.scatter(snowdf['SNOW'], snowdf['count_cmplnt'])\n",
    "plt.xlabel('Snow in Inches')\n",
    "plt.ylabel('Number of Crimes')\n",
    "plt.title('Total Crimes and Snow over 2014 - 2015');"
   ]
  },
  {
   "cell_type": "markdown",
   "metadata": {},
   "source": [
    "Here, we look at the amount of daily rain that New York recieved vs. the number of crimes that day. Removing days where there was no rain, there may be a slight negative trend."
   ]
  },
  {
   "cell_type": "code",
   "execution_count": 15,
   "metadata": {
    "scrolled": true
   },
   "outputs": [
    {
     "data": {
      "image/png": "[encoded data removed]",
      "text/plain": [
       "<Figure size 432x288 with 1 Axes>"
      ]
     },
     "metadata": {
      "needs_background": "light"
     },
     "output_type": "display_data"
    }
   ],
   "source": [
    "prcpdf = tempdf[tempdf['PRCP'] > 0]\n",
    "fig, ax = plt.subplots()\n",
    "plt.scatter(prcpdf['PRCP'], prcpdf['count_cmplnt'])\n",
    "plt.xlabel('Precipitation in Inches')\n",
    "plt.ylabel('Number of Crimes')\n",
    "plt.title('Total Crimes and Precipitation over 2014 - 2015');"
   ]
  },
  {
   "cell_type": "markdown",
   "metadata": {},
   "source": [
    "There isn't a lot to visually separate holidays from non-holidays as far as crime count goes, but we are going to keep it in the model as that could be due to the relatively large outliers.  "
   ]
  },
  {
   "cell_type": "code",
   "execution_count": 16,
   "metadata": {},
   "outputs": [
    {
     "data": {
      "image/png": "[encoded data removed]",
      "text/plain": [
       "<Figure size 432x288 with 1 Axes>"
      ]
     },
     "metadata": {
      "needs_background": "light"
     },
     "output_type": "display_data"
    }
   ],
   "source": [
    "ax = sns.boxplot(x=\"is_Holiday\", y=\"count_cmplnt\", data=df_Crime)\n",
    "ax.set_title(\"Boxplot of Number of Crimes Crime by Holday\");"
   ]
  },
  {
   "cell_type": "markdown",
   "metadata": {},
   "source": [
    "Similar to holiday, there isn't a lot to visually separate events from non-events as far as crime count goes, but we are going to keep it in the model as that could be due to the relatively large outliers.  "
   ]
  },
  {
   "cell_type": "code",
   "execution_count": 17,
   "metadata": {},
   "outputs": [
    {
     "data": {
      "image/png": "[encoded data removed]",
      "text/plain": [
       "<Figure size 432x288 with 1 Axes>"
      ]
     },
     "metadata": {
      "needs_background": "light"
     },
     "output_type": "display_data"
    }
   ],
   "source": [
    "ax = sns.boxplot(x=\"is_Event\", y=\"count_cmplnt\", data=df_Crime)\n",
    "ax.set_title(\"Boxplot of Number of Crimes Crime by Event\");"
   ]
  },
  {
   "cell_type": "markdown",
   "metadata": {},
   "source": [
    "Below we remove commas and turn Population into a numeric variable. "
   ]
  },
  {
   "cell_type": "code",
   "execution_count": 18,
   "metadata": {},
   "outputs": [],
   "source": [
    "df['Population'] = pd.to_numeric(df['Population'].str.replace(',','', regex = False))"
   ]
  },
  {
   "cell_type": "markdown",
   "metadata": {},
   "source": [
    "Below is the list of variables still in our dataframe. There are still some non-numeric variables listed."
   ]
  },
  {
   "cell_type": "code",
   "execution_count": 19,
   "metadata": {
    "scrolled": true
   },
   "outputs": [
    {
     "data": {
      "text/plain": [
       "['CMPLNT_FR_DT',\n",
       " 'Daytime',\n",
       " 'Day_Name',\n",
       " 'Month',\n",
       " 'Day',\n",
       " 'Year',\n",
       " 'Season',\n",
       " 'GeoCell',\n",
       " 'BORO_NM',\n",
       " 'PRCP',\n",
       " 'SNOW',\n",
       " 'TMIN',\n",
       " 'TMAX',\n",
       " 'Population',\n",
       " 'PC_INCOME',\n",
       " 'Hm_Sls_Price_Range',\n",
       " 'Holiday',\n",
       " 'Event',\n",
       " 'is_Holiday',\n",
       " 'is_Event',\n",
       " 'count_cmplnt',\n",
       " 'DayOfWeek',\n",
       " 'Month_No']"
      ]
     },
     "execution_count": 19,
     "metadata": {},
     "output_type": "execute_result"
    }
   ],
   "source": [
    "list(df)"
   ]
  },
  {
   "cell_type": "markdown",
   "metadata": {},
   "source": [
    "Here, we drop the variables that are non-numeric and have been represented in numeric in a different variable. The only variable that hadn't been transformed into numeric was the daytime variable, which was one-hot-encoded using the get_dummies function, which automatically one-hot-encodes then drops the categorical variables remaining in the dataframe."
   ]
  },
  {
   "cell_type": "code",
   "execution_count": 20,
   "metadata": {},
   "outputs": [],
   "source": [
    "KNNdf = df.drop(['Holiday', 'Event', 'Day_Name', 'Month', 'BORO_NM', 'PC_INCOME','Hm_Sls_Price_Range', 'Season', 'CMPLNT_FR_DT'], axis = 1)\n",
    "KNNdf = pd.get_dummies(KNNdf)"
   ]
  },
  {
   "cell_type": "markdown",
   "metadata": {},
   "source": [
    "As you can see below, all variables are now numeric."
   ]
  },
  {
   "cell_type": "code",
   "execution_count": 21,
   "metadata": {},
   "outputs": [
    {
     "name": "stdout",
     "output_type": "stream",
     "text": [
      "<class 'pandas.core.frame.DataFrame'>\n",
      "RangeIndex: 170650 entries, 0 to 170649\n",
      "Data columns (total 19 columns):\n",
      " #   Column                 Non-Null Count   Dtype  \n",
      "---  ------                 --------------   -----  \n",
      " 0   Day                    170650 non-null  float64\n",
      " 1   Year                   170650 non-null  float64\n",
      " 2   GeoCell                170650 non-null  float64\n",
      " 3   PRCP                   170650 non-null  float64\n",
      " 4   SNOW                   170650 non-null  float64\n",
      " 5   TMIN                   170650 non-null  int64  \n",
      " 6   TMAX                   170650 non-null  int64  \n",
      " 7   Population             170650 non-null  int64  \n",
      " 8   is_Holiday             170650 non-null  int64  \n",
      " 9   is_Event               170650 non-null  int64  \n",
      " 10  count_cmplnt           170650 non-null  int64  \n",
      " 11  DayOfWeek              170650 non-null  int64  \n",
      " 12  Month_No               170650 non-null  int64  \n",
      " 13  Daytime_Day            170650 non-null  uint8  \n",
      " 14  Daytime_Early Morning  170650 non-null  uint8  \n",
      " 15  Daytime_Evening        170650 non-null  uint8  \n",
      " 16  Daytime_Late Night     170650 non-null  uint8  \n",
      " 17  Daytime_Morning        170650 non-null  uint8  \n",
      " 18  Daytime_Night          170650 non-null  uint8  \n",
      "dtypes: float64(5), int64(8), uint8(6)\n",
      "memory usage: 17.9 MB\n"
     ]
    }
   ],
   "source": [
    "KNNdf.info()"
   ]
  },
  {
   "cell_type": "markdown",
   "metadata": {},
   "source": [
    "We did scale the variables, but in order to avoid data leakage, we scaled after creating the train/test split. This will be addressed in the Modeling and Evaluation 2 section where we address our train/test split. "
   ]
  },
  {
   "cell_type": "markdown",
   "metadata": {},
   "source": [
    "## Data Preparation Part 2"
   ]
  },
  {
   "cell_type": "markdown",
   "metadata": {},
   "source": [
    "These are the variables that we will use in our KNN regression model, as well as the target variable: count_cmplnt. Here are descriptions of the variables below:  "
   ]
  },
  {
   "cell_type": "markdown",
   "metadata": {},
   "source": [
    "|Variable Label|Variable Type|Data Description|  \n",
    "| :-|:-|:-|  \n",
    "|count_cmplnt|Numeric|\tNumber of crimes per day per time of day per GeoCell. Our target variable|  \n",
    "|Day|Numeric|Day of the month from 1 to 31|  \n",
    "|Year|Numeric|The year, either 2014 or 2015|  \n",
    "|GeoCell|Numeric|The GeoCell that the crime occurred in. We split New York City into 100 GeoCells and used the latitude and longitude of the crime to determine which GeoCell the crime was located in.|  \n",
    "|PRCP|Numeric|Amount of precipitation on the day the crimes occurred, in inches|  \n",
    "|SNOW|Numeric|Amount of snow on the day the crimes occurred, in inches|  \n",
    "|TMIN|Numeric|\tThe maximum temperature on the day the crimes occurred, in Farenheit|  \n",
    "|TMAX|Numeric|\tThe minimum temperature on the day the crimes occurred, in Farenheit|  \n",
    "|Population|Numeric| Population of the borough in which the GeoCell is located|  \n",
    "|is_Holiday|Binary| 1 if the day in question was a holiday, 0 if not|  \n",
    "|is_Event|Binary|\t1 if the day in question had a major event, 0 if not|  \n",
    "|DayOfWeek|Numeric|\tThe day of the week. 0 for Monday, 1 for Tuesday etc. |  \n",
    "|Month_No|Numeric|\tThe month. 1 for January, 2 for February etc. |  \n",
    "|Daytime_Day|Binary| 1 signifies if the count_cmplnt variable is related to crimes between 10:00am and 2:00pm, 0 if not|  \n",
    "|Daytime_Early Morning|Binary|1 signifies if the count_cmplnt variable is related to crimes between 2:00am and 6:00am, 0 if not|  \n",
    "|Daytime_Evening|Binary|\t1 signifies if the count_cmplnt variable is related to crimes between 2:00pm and 6:00pm, 0 if not|  \n",
    "|Daytime_Late Night|Binary|\t1 signifies if the count_cmplnt variable is related to crimes between 10:00pm and 2:00am, 0 if not|  \n",
    "|Daytime_Morning|Binary|1 signifies if the count_cmplnt variable is related to crimes between 6:00am and 10:00am, 0 if not|  \n",
    "|Daytime_Night|Binary|\t1 signifies if the count_cmplnt variable is related to crimes between 6:00pm and 10:00pm, 0 if not|  "
   ]
  },
  {
   "cell_type": "markdown",
   "metadata": {},
   "source": [
    "## Modeling and Evaluation 1"
   ]
  },
  {
   "cell_type": "markdown",
   "metadata": {},
   "source": [
    "In our analysis, we used the following metrics to determine how well our models fit the data:"
   ]
  },
  {
   "cell_type": "markdown",
   "metadata": {},
   "source": [
    "|Metric|Used Where?|Metric Description|  \n",
    "| :-|:-|:-|  \n",
    "|Root Mean Squared Error (RMSE)|Training, Testing, Holdout|Defined as $\\sum\\sqrt{(predicted - actual)^2}$ This metric is in terms of the target variable, in this case number of crimes. RMSE is used to choose the best K for both weighted and non-weighted KNN, and to compare our best weighted and non-weighted KNN models. Lower is better. RMSE is better than MAE when large errors are especially bad.|  \n",
    "|Mean Absolute Error (MAE)|Testing, Holdout|Defined as $\\sum |actual - predicted|$ This metric is also in terms of the target variable, which is the number of crimes. MAE is used to directly compare our KNN models to the other regression models that were explored. Lower is better. MAE is better when comparing models tested with different numbers of data points.|  "
   ]
  },
  {
   "cell_type": "markdown",
   "metadata": {},
   "source": [
    "These two metrics are often used for regression problems such as this one. "
   ]
  },
  {
   "cell_type": "markdown",
   "metadata": {},
   "source": [
    "## Modeling and Evaluation 2"
   ]
  },
  {
   "cell_type": "markdown",
   "metadata": {},
   "source": [
    "Here, we create our train/test split. We choose to do a simple 70%/30% train test split of the non-hold out data for this model. This was chosen since we have a sufficiently large data set, we use 3-fold cross validation of the training set in order to choose the correct K, and we have a 10% hold out in order to compare our final 3 regression models. "
   ]
  },
  {
   "cell_type": "code",
   "execution_count": 22,
   "metadata": {},
   "outputs": [],
   "source": [
    "from sklearn.model_selection import train_test_split\n",
    "X = KNNdf.drop(['count_cmplnt'], axis = 1)\n",
    "y = KNNdf['count_cmplnt']\n",
    "X_train_unscaled, X_test_unscaled, y_train, y_test = train_test_split(X, y, test_size=0.3, random_state=1234)"
   ]
  },
  {
   "cell_type": "markdown",
   "metadata": {},
   "source": [
    "Here, we scale our data. The standard scaler uses the formula z = (x - u) / s, where x is the value of the variable, s is the standard deviation and u is the mean, to calculate the transformation, z, of the variable. This scaling was chosen since it allows for outliers to still be outliers and allows the data to keep its distribution, while making sure that all variables are using the standard deviation as \"distance.\" This allows for the scale of the variables to all be the same, which is extremely important in a KNN model. A single variable with an extremely large scale would dominate variable importance if we did not scale. In order to avoid data leakage, the transformation was fit on the training split. The testing data was then scaled based on the training data. "
   ]
  },
  {
   "cell_type": "code",
   "execution_count": 23,
   "metadata": {},
   "outputs": [],
   "source": [
    "from sklearn.preprocessing import StandardScaler\n",
    "scaler = StandardScaler()\n",
    "scaleFit = scaler.fit(X_train_unscaled)\n",
    "X_train = scaleFit.transform(X_train_unscaled)\n",
    "X_test = scaleFit.transform(X_test_unscaled)"
   ]
  },
  {
   "cell_type": "markdown",
   "metadata": {},
   "source": [
    "## Modeling and Evaluation 3"
   ]
  },
  {
   "cell_type": "markdown",
   "metadata": {},
   "source": [
    "Below, we create our non-weighted KNN model. This model weights the K nearest neighbors the same when calculating the value of the point in question. Using 3-fold cross validation, we checked all k's from 1 to 50, and it was determined that the best K for the non-weighted model was 25. "
   ]
  },
  {
   "cell_type": "code",
   "execution_count": 75,
   "metadata": {},
   "outputs": [
    {
     "data": {
      "text/plain": [
       "GridSearchCV(cv=3, estimator=KNeighborsRegressor(),\n",
       "             param_grid={'n_neighbors': [1, 2, 3, 4, 5, 6, 7, 8, 9, 10, 11, 12,\n",
       "                                         13, 14, 15, 16, 17, 18, 19, 20, 21, 22,\n",
       "                                         23, 24, 25, 26, 27, 28, 29, 30, ...]},\n",
       "             scoring='neg_root_mean_squared_error')"
      ]
     },
     "execution_count": 75,
     "metadata": {},
     "output_type": "execute_result"
    }
   ],
   "source": [
    "from sklearn.metrics import mean_squared_error\n",
    "from sklearn.neighbors import KNeighborsRegressor\n",
    "from sklearn.model_selection import GridSearchCV\n",
    "params = {'n_neighbors':[1,2,3,4,5,6,7,8,9,10,11,12,13,14,15,16,17,18,19,20,21,22,23,24,25,26,27,28,29,30,31,32,33,34,35,36,37,38,39,40,41,42,43,44,45,46,47,48,49,50]}\n",
    "clf = GridSearchCV(KNeighborsRegressor(), params, cv = 3, scoring = 'neg_root_mean_squared_error')\n",
    "clf.fit(X_train, y_train)"
   ]
  },
  {
   "cell_type": "markdown",
   "metadata": {},
   "source": [
    "Below, we create the weighted KNN model. This model \"weights\" the k nearest neighbors based on distance from the point in question. The closer neighbors have a larger effect on the prediction of the target variable of the data point in question. We used 3-fold cross validation to iterate over all K's from 1 through 500, and it was determined that K = 115 minimizes the root mean square error of the model. "
   ]
  },
  {
   "cell_type": "code",
   "execution_count": 131,
   "metadata": {},
   "outputs": [
    {
     "data": {
      "text/plain": [
       "GridSearchCV(cv=3, estimator=KNeighborsRegressor(),\n",
       "             param_grid={'n_neighbors': range(1, 501), 'weights': ['distance']},\n",
       "             scoring='neg_root_mean_squared_error')"
      ]
     },
     "execution_count": 131,
     "metadata": {},
     "output_type": "execute_result"
    }
   ],
   "source": [
    "paramsweighted = {'n_neighbors':range(1,501),\n",
    "         'weights':['distance']}\n",
    "clfWeighted = GridSearchCV(KNeighborsRegressor(), paramsweighted, cv = 3, scoring = 'neg_root_mean_squared_error')\n",
    "clfWeighted.fit(X_train, y_train)"
   ]
  },
  {
   "cell_type": "markdown",
   "metadata": {},
   "source": [
    "## Modeling and Evaluation 4"
   ]
  },
  {
   "cell_type": "markdown",
   "metadata": {},
   "source": [
    "Below is a plot of the root mean squared errors of the non-weighted KNN model for each K. The red dot signifies which K minimizes the root mean squred error. "
   ]
  },
  {
   "cell_type": "code",
   "execution_count": 133,
   "metadata": {},
   "outputs": [
    {
     "data": {
      "text/plain": [
       "[<matplotlib.lines.Line2D at 0x7f991245cc40>]"
      ]
     },
     "execution_count": 133,
     "metadata": {},
     "output_type": "execute_result"
    },
    {
     "data": {
      "image/png": "[encoded data removed]",
      "text/plain": [
       "<Figure size 432x288 with 1 Axes>"
      ]
     },
     "metadata": {
      "needs_background": "light"
     },
     "output_type": "display_data"
    }
   ],
   "source": [
    "plt.plot(abs(clf.cv_results_['mean_test_score']), marker = 'o')\n",
    "plt.plot(clf.best_index_, abs(clf.best_score_), marker = 'o', color = 'red')"
   ]
  },
  {
   "cell_type": "markdown",
   "metadata": {},
   "source": [
    "Below is a plot of the root mean squared errors of the weighted KNN model. The red dot signifies which K minimizes the root mean squred error. "
   ]
  },
  {
   "cell_type": "code",
   "execution_count": 134,
   "metadata": {},
   "outputs": [
    {
     "data": {
      "text/plain": [
       "[<matplotlib.lines.Line2D at 0x7f99120190a0>]"
      ]
     },
     "execution_count": 134,
     "metadata": {},
     "output_type": "execute_result"
    },
    {
     "data": {
      "image/png": "[encoded data removed]",
      "text/plain": [
       "<Figure size 432x288 with 1 Axes>"
      ]
     },
     "metadata": {
      "needs_background": "light"
     },
     "output_type": "display_data"
    }
   ],
   "source": [
    "plt.plot(abs(clfWeighted.cv_results_['mean_test_score']), marker = 'o')\n",
    "plt.plot(clfWeighted.best_index_, abs(clfWeighted.best_score_), marker = 'o', color = 'red')"
   ]
  },
  {
   "cell_type": "markdown",
   "metadata": {},
   "source": [
    "Below are the RMSE's of our best weighted and non-weighted KNN models on our training set. Note that the best non-weighted model is slightly better than the best weighted model. "
   ]
  },
  {
   "cell_type": "code",
   "execution_count": 64,
   "metadata": {},
   "outputs": [
    {
     "name": "stdout",
     "output_type": "stream",
     "text": [
      "The best non-weighted k is 25 with a root mean squared error of 4.541938998318994\n",
      "The best weighted k is 115 with a root mean squared error of 4.6503048395451145\n"
     ]
    }
   ],
   "source": [
    "print('The best non-weighted k is', '25', 'with a root mean squared error of', '4.541938998318994')\n",
    "print('The best weighted k is', '115', 'with a root mean squared error of', '4.6503048395451145')"
   ]
  },
  {
   "cell_type": "markdown",
   "metadata": {},
   "source": [
    "Below are the results of the predictions on our test set using our non-weighted KNN model."
   ]
  },
  {
   "cell_type": "code",
   "execution_count": 24,
   "metadata": {},
   "outputs": [
    {
     "name": "stdout",
     "output_type": "stream",
     "text": [
      "The RMSE of the test set using a non-weighted KNN model with K = 25 is 4.614308202484779\n",
      "The MAE of the test set using a non-weighted KNN model with K = 25 is 3.1304893055962495\n"
     ]
    }
   ],
   "source": [
    "from sklearn.neighbors import KNeighborsRegressor\n",
    "from sklearn.metrics import mean_squared_error\n",
    "from sklearn.metrics import mean_absolute_error\n",
    "model1 = KNeighborsRegressor(n_neighbors = 25, weights = 'uniform')\n",
    "model1fit = model1.fit(X_train, y_train)\n",
    "predz = model1fit.predict(X_test)\n",
    "print('The RMSE of the test set using a non-weighted KNN model with K = 25 is', mean_squared_error(y_test,predz, squared = False))\n",
    "print('The MAE of the test set using a non-weighted KNN model with K = 25 is', mean_absolute_error(y_test,predz))"
   ]
  },
  {
   "cell_type": "markdown",
   "metadata": {},
   "source": [
    "Below are the results of our weighted KNN model on our test set. Note that the best non-weighted model is slightly better than the best weighted model."
   ]
  },
  {
   "cell_type": "code",
   "execution_count": 25,
   "metadata": {},
   "outputs": [
    {
     "name": "stdout",
     "output_type": "stream",
     "text": [
      "The RMSE of the test set using a weighted KNN model with K = 115 is 4.72525055874405\n",
      "The MAE of the test set using a weighted KNN model with K = 115 is 3.19833053952896\n"
     ]
    }
   ],
   "source": [
    "from sklearn.neighbors import KNeighborsRegressor\n",
    "from sklearn.metrics import mean_squared_error\n",
    "model2 = KNeighborsRegressor(n_neighbors = 115, weights = 'distance')\n",
    "model2fit = model2.fit(X_train, y_train)\n",
    "predz = model2fit.predict(X_test)\n",
    "print('The RMSE of the test set using a weighted KNN model with K = 115 is', mean_squared_error(y_test,predz, squared = False))\n",
    "print('The MAE of the test set using a weighted KNN model with K = 115 is', mean_absolute_error(y_test,predz))"
   ]
  },
  {
   "cell_type": "markdown",
   "metadata": {},
   "source": [
    "Here, we read in the hold out set. We must preprocess the holdout set in the same way we did the training set. "
   ]
  },
  {
   "cell_type": "code",
   "execution_count": 26,
   "metadata": {},
   "outputs": [],
   "source": [
    "holdOut = pd.read_csv('/home/drew/School/Semester4/ML1/NewYorkCityCrimes2015/Data/Lab2_Daily_Crime_Volume_Data/Hold_Out_Set.csv', parse_dates = ['CMPLNT_FR_DT'])\n"
   ]
  },
  {
   "cell_type": "markdown",
   "metadata": {},
   "source": [
    "Here, we turn day of week into a numeric variable."
   ]
  },
  {
   "cell_type": "code",
   "execution_count": 27,
   "metadata": {},
   "outputs": [],
   "source": [
    "holdOut['DayOfWeek'] = holdOut['CMPLNT_FR_DT'].dt.dayofweek"
   ]
  },
  {
   "cell_type": "markdown",
   "metadata": {},
   "source": [
    "Here, we turn month into a numeric variable."
   ]
  },
  {
   "cell_type": "code",
   "execution_count": 28,
   "metadata": {},
   "outputs": [],
   "source": [
    "holdOut['Month_No'] = holdOut['CMPLNT_FR_DT'].dt.month"
   ]
  },
  {
   "cell_type": "markdown",
   "metadata": {},
   "source": [
    "Here, we turn population from a string to a numeric variable."
   ]
  },
  {
   "cell_type": "code",
   "execution_count": 29,
   "metadata": {},
   "outputs": [],
   "source": [
    "holdOut['Population'] = pd.to_numeric(holdOut['Population'].str.replace(',','', regex = False))"
   ]
  },
  {
   "cell_type": "markdown",
   "metadata": {},
   "source": [
    "Here, we remove all the non-numeric variables and create dummy variables for the Daytime variable. "
   ]
  },
  {
   "cell_type": "code",
   "execution_count": 30,
   "metadata": {},
   "outputs": [],
   "source": [
    "holdOutKNNdf = holdOut.drop(['Holiday', 'Event', 'Day_Name', 'Month', 'BORO_NM', 'PC_INCOME', 'Hm_Sls_Price_Range', 'Season', 'CMPLNT_FR_DT'], axis = 1)\n",
    "holdOutKNNdf = pd.get_dummies(holdOutKNNdf)"
   ]
  },
  {
   "cell_type": "markdown",
   "metadata": {},
   "source": [
    "Here, we double check that all our variables are numeric. They are, so we may proceed."
   ]
  },
  {
   "cell_type": "code",
   "execution_count": 32,
   "metadata": {},
   "outputs": [
    {
     "name": "stdout",
     "output_type": "stream",
     "text": [
      "<class 'pandas.core.frame.DataFrame'>\n",
      "RangeIndex: 18962 entries, 0 to 18961\n",
      "Data columns (total 19 columns):\n",
      " #   Column                 Non-Null Count  Dtype  \n",
      "---  ------                 --------------  -----  \n",
      " 0   Day                    18962 non-null  float64\n",
      " 1   Year                   18962 non-null  float64\n",
      " 2   GeoCell                18962 non-null  float64\n",
      " 3   PRCP                   18962 non-null  float64\n",
      " 4   SNOW                   18962 non-null  float64\n",
      " 5   TMIN                   18962 non-null  int64  \n",
      " 6   TMAX                   18962 non-null  int64  \n",
      " 7   Population             18962 non-null  int64  \n",
      " 8   is_Holiday             18962 non-null  int64  \n",
      " 9   is_Event               18962 non-null  int64  \n",
      " 10  count_cmplnt           18962 non-null  int64  \n",
      " 11  DayOfWeek              18962 non-null  int64  \n",
      " 12  Month_No               18962 non-null  int64  \n",
      " 13  Daytime_Day            18962 non-null  uint8  \n",
      " 14  Daytime_Early Morning  18962 non-null  uint8  \n",
      " 15  Daytime_Evening        18962 non-null  uint8  \n",
      " 16  Daytime_Late Night     18962 non-null  uint8  \n",
      " 17  Daytime_Morning        18962 non-null  uint8  \n",
      " 18  Daytime_Night          18962 non-null  uint8  \n",
      "dtypes: float64(5), int64(8), uint8(6)\n",
      "memory usage: 2.0 MB\n"
     ]
    }
   ],
   "source": [
    "holdOutKNNdf.info()"
   ]
  },
  {
   "cell_type": "markdown",
   "metadata": {},
   "source": [
    "Here we separate our response variable from our explanatory variables."
   ]
  },
  {
   "cell_type": "code",
   "execution_count": 33,
   "metadata": {},
   "outputs": [],
   "source": [
    "from sklearn.model_selection import train_test_split\n",
    "holdoutX_unscaled = holdOutKNNdf.drop(['count_cmplnt'], axis = 1)\n",
    "holdouty = holdOutKNNdf['count_cmplnt']\n"
   ]
  },
  {
   "cell_type": "markdown",
   "metadata": {},
   "source": [
    "Here, we scale our explanatory variables using the scaler from our training data set. "
   ]
  },
  {
   "cell_type": "code",
   "execution_count": 34,
   "metadata": {},
   "outputs": [],
   "source": [
    "from sklearn.preprocessing import StandardScaler\n",
    "holdoutX = scaleFit.transform(holdoutX_unscaled)\n"
   ]
  },
  {
   "cell_type": "markdown",
   "metadata": {},
   "source": [
    "Here, we predict the holdout data using the non-weighted KNN model. "
   ]
  },
  {
   "cell_type": "code",
   "execution_count": 36,
   "metadata": {},
   "outputs": [
    {
     "name": "stdout",
     "output_type": "stream",
     "text": [
      "The RMSE of the holdout set using a non-weighted KNN model with K = 25 is 4.505020893131099\n",
      "The MAE of the holdout set using a non-weighted KNN model with K = 25 is 3.0963400485180888\n"
     ]
    }
   ],
   "source": [
    "predz = model1fit.predict(holdoutX)\n",
    "print('The RMSE of the holdout set using a non-weighted KNN model with K = 25 is', mean_squared_error(holdouty,predz, squared = False))\n",
    "print('The MAE of the holdout set using a non-weighted KNN model with K = 25 is', mean_absolute_error(holdouty,predz))"
   ]
  },
  {
   "cell_type": "markdown",
   "metadata": {},
   "source": [
    "Here, we predict the holdout data using the weighted KNN model."
   ]
  },
  {
   "cell_type": "code",
   "execution_count": 38,
   "metadata": {},
   "outputs": [
    {
     "name": "stdout",
     "output_type": "stream",
     "text": [
      "The RMSE of the holdout set using a weighted KNN model with K = 115 is 4.610143714899564\n",
      "The MAE of the holdout set using a weighted KNN model with K = 115 is 3.1598076914580737\n"
     ]
    }
   ],
   "source": [
    "predz = model2fit.predict(holdoutX)\n",
    "print('The RMSE of the holdout set using a weighted KNN model with K = 115 is', mean_squared_error(holdouty,predz, squared = False))\n",
    "print('The MAE of the holdout set using a weighted KNN model with K = 115 is', mean_absolute_error(holdouty,predz))"
   ]
  },
  {
   "cell_type": "markdown",
   "metadata": {},
   "source": [
    "Below are the results of our KNN model building. Note that the Non-Weighted KNN model performed slightly better than our weighted KNN model in every single metric, so we will move forward with the non-weighted model in our comparison to our other two regression models. "
   ]
  },
  {
   "cell_type": "markdown",
   "metadata": {},
   "source": [
    "|Model|K|Training RMSE|Test Set RMSE|Holdout Set RMSE|Test Set MAE|Holdout Set MAE|\n",
    "|:--|:-:|:-:|:-:|:-:|:-:|:-:|\n",
    "|Non-Weighted KNN|25|4.54|4.61|4.51|3.13|3.10|\n",
    "|Weighted KNN|115|4.65|4.73|4.61|3.19|3.16|"
   ]
  },
  {
   "cell_type": "markdown",
   "metadata": {},
   "source": [
    "## Modeling and Evaluation 5"
   ]
  },
  {
   "cell_type": "markdown",
   "metadata": {},
   "source": [
    "|Model|Advantages|Disadvantages|\n",
    "|:--|:-:|:-:|\n",
    "|Model Creation|No model creation necessary. Once you figure out your optimal K, you can immediately fit your data.|Finding optimal K is time consuming and may not be the same across data sets|\n",
    "|Variable Importance||There is no way to find variable importance directly from a KNN model.|\n",
    "|Speed|Since we don't have to create a model, KNN has incredibly fast model creation.|It may take a while to fit data if you have many dimensions.|\n",
    "|Accuracy||Performed the worst out of all of our regression models for this problem|\n",
    "|Misc|Non-parametric|Needs an appropriate distance measure|"
   ]
  },
  {
   "cell_type": "markdown",
   "metadata": {},
   "source": [
    "## Modeling and Evaluation 6"
   ]
  },
  {
   "cell_type": "markdown",
   "metadata": {},
   "source": [
    "KNN doesn't lend itself to variable importances, since we regress on how close nearest data points are. Please look at the results of other analyses in order to see what variables are most important to predicting number of crimes in each geo cell at each time. "
   ]
  }
 ],
 "metadata": {
  "kernelspec": {
   "display_name": "Python 3",
   "language": "python",
   "name": "python3"
  },
  "language_info": {
   "codemirror_mode": {
    "name": "ipython",
    "version": 3
   },
   "file_extension": ".py",
   "mimetype": "text/x-python",
   "name": "python",
   "nbconvert_exporter": "python",
   "pygments_lexer": "ipython3",
   "version": "3.8.3"
  }
 },
 "nbformat": 4,
 "nbformat_minor": 4
}
