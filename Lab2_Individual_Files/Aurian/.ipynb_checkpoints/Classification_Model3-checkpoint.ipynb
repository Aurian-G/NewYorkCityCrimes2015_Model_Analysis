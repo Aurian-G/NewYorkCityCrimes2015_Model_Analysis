{
 "cells": [
  {
   "cell_type": "markdown",
   "metadata": {},
   "source": [
    "<a href=\"#top\">Back to Top</a>\n",
    "<a id=\"task2Model1\"></a>\n",
    "## Task 2 - Classification - Model 3 - Logistic Regression (2)"
   ]
  },
  {
   "cell_type": "markdown",
   "metadata": {},
   "source": [
    "Goal: \n",
    "The goal of this logistic regression model is to leverage binary classification that will classify whether or not a crime is violent or non-violent. The reason for this model is to give insights to for police within the NYC boroughs to have an idea of the factors that are common within crimes in their jurisdictions. \n",
    "\n",
    "Our belief is that this model will allow for an opportunity to enhance policing efforts by essentially giving them enhanced intuition on how to prepare or deal with a crime before concluding their investigation. This model should also be able to point out key characteristics within violent or non-violent crimes that can aid in the most adequate form of requirement gathering on a per case basis (increased staffing during certain times of day, increased policing in certain areas, etc..)."
   ]
  },
  {
   "cell_type": "markdown",
   "metadata": {},
   "source": [
    "### Data Preparation Part 1"
   ]
  },
  {
   "cell_type": "markdown",
   "metadata": {},
   "source": [
    "We wanted to explore an alternative method using minimal manipulation exclusive of scaling variables and up/down sampling. The only manipulation we will be leveraging is dummy variables for our categorical predictors."
   ]
  },
  {
   "cell_type": "markdown",
   "metadata": {},
   "source": [
    "Below are the set of all categorical predictors that we have chosen to dummy:  \n",
    "-JURIS_DESC  \n",
    "-BORO_NM  \n",
    "-LOC_OF_OCCUR_DESC  \n",
    "-ADDR_PCT_CD  \n",
    "-PREM_TYP_DESC  \n",
    "-Day_Name  \n",
    "-Month  \n",
    "-Duration_lbl  \n",
    "-Season  \n",
    "-Daytime"
   ]
  },
  {
   "cell_type": "markdown",
   "metadata": {},
   "source": [
    "Below are the variables we left unchanged:  \n",
    "-Duration  \n",
    "-Duration_to_PD  \n",
    "-Day  \n",
    "-Year  \n",
    "-GeoCell  \n",
    "-GeoCell_X  \n",
    "-GeoCell_Y"
   ]
  },
  {
   "cell_type": "markdown",
   "metadata": {},
   "source": [
    "Our target variable denoted as \"y\" has levels of \"0\" = non-violent and \"1\" = non-violent  "
   ]
  },
  {
   "cell_type": "markdown",
   "metadata": {},
   "source": [
    "Here we are loading in our initial libraries for basic data manipulation and pre-processing."
   ]
  },
  {
   "cell_type": "code",
   "execution_count": null,
   "metadata": {},
   "outputs": [],
   "source": [
    "#Python 3.7.2\n",
    "#Import initial libraries\n",
    "import numpy as np\n",
    "import pandas as pd\n",
    "import matplotlib.pyplot as plt\n",
    "import os\n",
    "%config IPCompleter.greedy=True"
   ]
  },
  {
   "cell_type": "markdown",
   "metadata": {},
   "source": [
    "In this portion we are reading in two CSV files:  \n",
    "1. Our training and test data set  \n",
    "2. Our 10% holdout set of the original data  \n",
    "\n",
    "The reason we decided to go with a holdout set is to really make sure we are both building our a robust model, and also testing that model outside of the training and test split given to ensure maximum effectiveness. It also gives us an opportunity to test the model on independent data since it wasn't included in any of our train/test splits."
   ]
  },
  {
   "cell_type": "code",
   "execution_count": 2,
   "metadata": {},
   "outputs": [],
   "source": [
    "#Read in CSV\n",
    "df = pd.read_csv(r\"C:\\Users\\Aurian\\Documents\\SMU_LAB_ML1\\NewYorkCityCrimes2015\\Mini_Lab_Individual_Files\\Brian\\Data\\Training_and_Test_Set.csv\")\n",
    "df_holdout = pd.read_csv(r\"C:\\Users\\Aurian\\Documents\\SMU_LAB_ML1\\NewYorkCityCrimes2015\\Mini_Lab_Individual_Files\\Brian\\Data\\Hold_Out_Set.csv\")"
   ]
  },
  {
   "cell_type": "markdown",
   "metadata": {},
   "source": [
    "### Data Preparation Part 2"
   ]
  },
  {
   "cell_type": "markdown",
   "metadata": {},
   "source": [
    "Here we are running some shape and info methods to get an idea of the predictors we are working with"
   ]
  },
  {
   "cell_type": "code",
   "execution_count": 3,
   "metadata": {},
   "outputs": [
    {
     "name": "stdout",
     "output_type": "stream",
     "text": [
      "(528873, 18)\n",
      "(58764, 18)\n",
      "<class 'pandas.core.frame.DataFrame'>\n",
      "RangeIndex: 528873 entries, 0 to 528872\n",
      "Data columns (total 18 columns):\n",
      " #   Column             Non-Null Count   Dtype  \n",
      "---  ------             --------------   -----  \n",
      " 0   JURIS_DESC         528873 non-null  object \n",
      " 1   BORO_NM            528873 non-null  object \n",
      " 2   ADDR_PCT_CD        528873 non-null  float64\n",
      " 3   LOC_OF_OCCUR_DESC  528873 non-null  object \n",
      " 4   PREM_TYP_DESC      528873 non-null  object \n",
      " 5   Day_Name           528873 non-null  object \n",
      " 6   Duration           528873 non-null  float64\n",
      " 7   Duration_to_PD     528873 non-null  float64\n",
      " 8   Month              528873 non-null  object \n",
      " 9   Day                528873 non-null  float64\n",
      " 10  Year               528873 non-null  float64\n",
      " 11  Duration_lbl       528873 non-null  object \n",
      " 12  Season             528873 non-null  object \n",
      " 13  Daytime            528873 non-null  object \n",
      " 14  GeoCell            528873 non-null  float64\n",
      " 15  GeoCell_X          528873 non-null  float64\n",
      " 16  GeoCell_Y          528873 non-null  float64\n",
      " 17  y                  528873 non-null  int64  \n",
      "dtypes: float64(8), int64(1), object(9)\n",
      "memory usage: 72.6+ MB\n",
      "None\n"
     ]
    },
    {
     "data": {
      "text/html": [
       "<div>\n",
       "<style scoped>\n",
       "    .dataframe tbody tr th:only-of-type {\n",
       "        vertical-align: middle;\n",
       "    }\n",
       "\n",
       "    .dataframe tbody tr th {\n",
       "        vertical-align: top;\n",
       "    }\n",
       "\n",
       "    .dataframe thead th {\n",
       "        text-align: right;\n",
       "    }\n",
       "</style>\n",
       "<table border=\"1\" class=\"dataframe\">\n",
       "  <thead>\n",
       "    <tr style=\"text-align: right;\">\n",
       "      <th></th>\n",
       "      <th>JURIS_DESC</th>\n",
       "      <th>BORO_NM</th>\n",
       "      <th>ADDR_PCT_CD</th>\n",
       "      <th>LOC_OF_OCCUR_DESC</th>\n",
       "      <th>PREM_TYP_DESC</th>\n",
       "      <th>Day_Name</th>\n",
       "      <th>Duration</th>\n",
       "      <th>Duration_to_PD</th>\n",
       "      <th>Month</th>\n",
       "      <th>Day</th>\n",
       "      <th>Year</th>\n",
       "      <th>Duration_lbl</th>\n",
       "      <th>Season</th>\n",
       "      <th>Daytime</th>\n",
       "      <th>GeoCell</th>\n",
       "      <th>GeoCell_X</th>\n",
       "      <th>GeoCell_Y</th>\n",
       "      <th>y</th>\n",
       "    </tr>\n",
       "  </thead>\n",
       "  <tbody>\n",
       "    <tr>\n",
       "      <th>0</th>\n",
       "      <td>N.Y. POLICE DEPT</td>\n",
       "      <td>STATEN ISLAND</td>\n",
       "      <td>120.0</td>\n",
       "      <td>INSIDE</td>\n",
       "      <td>COMMERCIAL BUILDING</td>\n",
       "      <td>Friday</td>\n",
       "      <td>3.0</td>\n",
       "      <td>0.0</td>\n",
       "      <td>September</td>\n",
       "      <td>5.0</td>\n",
       "      <td>2014.0</td>\n",
       "      <td>Short</td>\n",
       "      <td>Fall</td>\n",
       "      <td>Morning</td>\n",
       "      <td>23.0</td>\n",
       "      <td>3.0</td>\n",
       "      <td>3.0</td>\n",
       "      <td>0</td>\n",
       "    </tr>\n",
       "    <tr>\n",
       "      <th>1</th>\n",
       "      <td>N.Y. POLICE DEPT</td>\n",
       "      <td>STATEN ISLAND</td>\n",
       "      <td>121.0</td>\n",
       "      <td>INSIDE</td>\n",
       "      <td>RESIDENCE-HOUSE</td>\n",
       "      <td>Sunday</td>\n",
       "      <td>1.0</td>\n",
       "      <td>0.0</td>\n",
       "      <td>December</td>\n",
       "      <td>27.0</td>\n",
       "      <td>2015.0</td>\n",
       "      <td>Short</td>\n",
       "      <td>Winter</td>\n",
       "      <td>Day</td>\n",
       "      <td>23.0</td>\n",
       "      <td>3.0</td>\n",
       "      <td>3.0</td>\n",
       "      <td>1</td>\n",
       "    </tr>\n",
       "    <tr>\n",
       "      <th>2</th>\n",
       "      <td>N.Y. POLICE DEPT</td>\n",
       "      <td>BRONX</td>\n",
       "      <td>43.0</td>\n",
       "      <td>INSIDE</td>\n",
       "      <td>RESIDENCE - APT. HOUSE</td>\n",
       "      <td>Sunday</td>\n",
       "      <td>14.0</td>\n",
       "      <td>171.0</td>\n",
       "      <td>September</td>\n",
       "      <td>1.0</td>\n",
       "      <td>2013.0</td>\n",
       "      <td>Medium</td>\n",
       "      <td>Fall</td>\n",
       "      <td>Night</td>\n",
       "      <td>78.0</td>\n",
       "      <td>8.0</td>\n",
       "      <td>8.0</td>\n",
       "      <td>0</td>\n",
       "    </tr>\n",
       "    <tr>\n",
       "      <th>3</th>\n",
       "      <td>N.Y. POLICE DEPT</td>\n",
       "      <td>BROOKLYN</td>\n",
       "      <td>75.0</td>\n",
       "      <td>INSIDE</td>\n",
       "      <td>RESIDENCE-HOUSE</td>\n",
       "      <td>Friday</td>\n",
       "      <td>6.0</td>\n",
       "      <td>28.0</td>\n",
       "      <td>October</td>\n",
       "      <td>10.0</td>\n",
       "      <td>2014.0</td>\n",
       "      <td>Short</td>\n",
       "      <td>Fall</td>\n",
       "      <td>Day</td>\n",
       "      <td>47.0</td>\n",
       "      <td>7.0</td>\n",
       "      <td>5.0</td>\n",
       "      <td>0</td>\n",
       "    </tr>\n",
       "    <tr>\n",
       "      <th>4</th>\n",
       "      <td>N.Y. POLICE DEPT</td>\n",
       "      <td>MANHATTAN</td>\n",
       "      <td>6.0</td>\n",
       "      <td>FRONT OF</td>\n",
       "      <td>STREET</td>\n",
       "      <td>Sunday</td>\n",
       "      <td>1.0</td>\n",
       "      <td>0.0</td>\n",
       "      <td>September</td>\n",
       "      <td>28.0</td>\n",
       "      <td>2014.0</td>\n",
       "      <td>Short</td>\n",
       "      <td>Fall</td>\n",
       "      <td>Early Morning</td>\n",
       "      <td>55.0</td>\n",
       "      <td>5.0</td>\n",
       "      <td>6.0</td>\n",
       "      <td>0</td>\n",
       "    </tr>\n",
       "  </tbody>\n",
       "</table>\n",
       "</div>"
      ],
      "text/plain": [
       "         JURIS_DESC        BORO_NM  ADDR_PCT_CD LOC_OF_OCCUR_DESC  \\\n",
       "0  N.Y. POLICE DEPT  STATEN ISLAND        120.0            INSIDE   \n",
       "1  N.Y. POLICE DEPT  STATEN ISLAND        121.0            INSIDE   \n",
       "2  N.Y. POLICE DEPT          BRONX         43.0            INSIDE   \n",
       "3  N.Y. POLICE DEPT       BROOKLYN         75.0            INSIDE   \n",
       "4  N.Y. POLICE DEPT      MANHATTAN          6.0          FRONT OF   \n",
       "\n",
       "            PREM_TYP_DESC Day_Name  Duration  Duration_to_PD      Month   Day  \\\n",
       "0     COMMERCIAL BUILDING   Friday       3.0             0.0  September   5.0   \n",
       "1         RESIDENCE-HOUSE   Sunday       1.0             0.0   December  27.0   \n",
       "2  RESIDENCE - APT. HOUSE   Sunday      14.0           171.0  September   1.0   \n",
       "3         RESIDENCE-HOUSE   Friday       6.0            28.0    October  10.0   \n",
       "4                  STREET   Sunday       1.0             0.0  September  28.0   \n",
       "\n",
       "     Year Duration_lbl  Season        Daytime  GeoCell  GeoCell_X  GeoCell_Y  \\\n",
       "0  2014.0        Short    Fall        Morning     23.0        3.0        3.0   \n",
       "1  2015.0        Short  Winter            Day     23.0        3.0        3.0   \n",
       "2  2013.0       Medium    Fall          Night     78.0        8.0        8.0   \n",
       "3  2014.0        Short    Fall            Day     47.0        7.0        5.0   \n",
       "4  2014.0        Short    Fall  Early Morning     55.0        5.0        6.0   \n",
       "\n",
       "   y  \n",
       "0  0  \n",
       "1  1  \n",
       "2  0  \n",
       "3  0  \n",
       "4  0  "
      ]
     },
     "execution_count": 3,
     "metadata": {},
     "output_type": "execute_result"
    }
   ],
   "source": [
    "#Check dimensions\n",
    "print(df.shape)\n",
    "print(df_holdout.shape)\n",
    "\n",
    "#Check data types\n",
    "print(df.info())\n",
    "\n",
    "#Check Head\n",
    "df.head()"
   ]
  },
  {
   "cell_type": "markdown",
   "metadata": {},
   "source": [
    "Now we are checking the value counts of our target variable within each of our two datasets"
   ]
  },
  {
   "cell_type": "code",
   "execution_count": 4,
   "metadata": {},
   "outputs": [
    {
     "name": "stdout",
     "output_type": "stream",
     "text": [
      "0    365333\n",
      "1    163540\n",
      "Name: y, dtype: int64\n",
      "0    40568\n",
      "1    18196\n",
      "Name: y, dtype: int64\n"
     ]
    }
   ],
   "source": [
    "#Check out target var\n",
    "print(df.y.value_counts())\n",
    "print(df_holdout.y.value_counts())"
   ]
  },
  {
   "cell_type": "markdown",
   "metadata": {},
   "source": [
    "Here we wanted to separate the categorical vs continuous variables to allow for a more clean way to see which variables we want to manipulate"
   ]
  },
  {
   "cell_type": "code",
   "execution_count": 5,
   "metadata": {},
   "outputs": [],
   "source": [
    "#Separate out cont. and cat. columns\n",
    "\n",
    "cat_col = ['JURIS_DESC','BORO_NM','LOC_OF_OCCUR_DESC','ADDR_PCT_CD','PREM_TYP_DESC','Day_Name','Month','Duration_lbl','Season','Daytime']\n",
    "num_col = ['Duration','Duration_to_PD','Day','Year','GeoCell','GeoCell_X','GeoCell_Y']"
   ]
  },
  {
   "cell_type": "markdown",
   "metadata": {},
   "source": [
    "Below we are creating our dummies variables and concatenating them back to a new dataframe that we will use moving forward to do our modeling.  \n",
    "\n",
    "*Please Note*: this dummy variable section is the only manipulation we will be doing with our base predictors"
   ]
  },
  {
   "cell_type": "code",
   "execution_count": 6,
   "metadata": {},
   "outputs": [
    {
     "data": {
      "text/plain": [
       "array(['Duration', 'Duration_to_PD', 'Day', 'Year', 'GeoCell',\n",
       "       'GeoCell_X', 'GeoCell_Y', 'y', 'JURIS_DESC_AMTRACK',\n",
       "       'JURIS_DESC_DEPT OF CORRECTIONS', 'JURIS_DESC_HEALTH & HOSP CORP',\n",
       "       'JURIS_DESC_LONG ISLAND RAILRD', 'JURIS_DESC_METRO NORTH',\n",
       "       'JURIS_DESC_N.Y. HOUSING POLICE', 'JURIS_DESC_N.Y. POLICE DEPT',\n",
       "       'JURIS_DESC_N.Y. STATE PARKS', 'JURIS_DESC_N.Y. STATE POLICE',\n",
       "       'JURIS_DESC_N.Y. TRANSIT POLICE',\n",
       "       'JURIS_DESC_NEW YORK CITY SHERIFF OFFICE', 'JURIS_DESC_NYC PARKS',\n",
       "       'JURIS_DESC_NYS DEPT TAX AND FINANCE', 'JURIS_DESC_OTHER',\n",
       "       'JURIS_DESC_POLICE DEPT NYC', 'JURIS_DESC_PORT AUTHORITY',\n",
       "       'JURIS_DESC_STATN IS RAPID TRANS',\n",
       "       'JURIS_DESC_TRI-BORO BRDG TUNNL', 'JURIS_DESC_U.S. PARK POLICE',\n",
       "       'BORO_NM_BRONX', 'BORO_NM_BROOKLYN', 'BORO_NM_MANHATTAN',\n",
       "       'BORO_NM_QUEENS', 'BORO_NM_STATEN ISLAND',\n",
       "       'LOC_OF_OCCUR_DESC_FRONT OF', 'LOC_OF_OCCUR_DESC_INSIDE',\n",
       "       'LOC_OF_OCCUR_DESC_OPPOSITE OF', 'LOC_OF_OCCUR_DESC_REAR OF',\n",
       "       'ADDR_PCT_CD_1.0', 'ADDR_PCT_CD_5.0', 'ADDR_PCT_CD_6.0',\n",
       "       'ADDR_PCT_CD_7.0', 'ADDR_PCT_CD_9.0', 'ADDR_PCT_CD_10.0',\n",
       "       'ADDR_PCT_CD_13.0', 'ADDR_PCT_CD_14.0', 'ADDR_PCT_CD_17.0',\n",
       "       'ADDR_PCT_CD_18.0', 'ADDR_PCT_CD_19.0', 'ADDR_PCT_CD_20.0',\n",
       "       'ADDR_PCT_CD_22.0', 'ADDR_PCT_CD_23.0', 'ADDR_PCT_CD_24.0',\n",
       "       'ADDR_PCT_CD_25.0', 'ADDR_PCT_CD_26.0', 'ADDR_PCT_CD_28.0',\n",
       "       'ADDR_PCT_CD_30.0', 'ADDR_PCT_CD_32.0', 'ADDR_PCT_CD_33.0',\n",
       "       'ADDR_PCT_CD_34.0', 'ADDR_PCT_CD_40.0', 'ADDR_PCT_CD_41.0',\n",
       "       'ADDR_PCT_CD_42.0', 'ADDR_PCT_CD_43.0', 'ADDR_PCT_CD_44.0',\n",
       "       'ADDR_PCT_CD_45.0', 'ADDR_PCT_CD_46.0', 'ADDR_PCT_CD_47.0',\n",
       "       'ADDR_PCT_CD_48.0', 'ADDR_PCT_CD_49.0', 'ADDR_PCT_CD_50.0',\n",
       "       'ADDR_PCT_CD_52.0', 'ADDR_PCT_CD_60.0', 'ADDR_PCT_CD_61.0',\n",
       "       'ADDR_PCT_CD_62.0', 'ADDR_PCT_CD_63.0', 'ADDR_PCT_CD_66.0',\n",
       "       'ADDR_PCT_CD_67.0', 'ADDR_PCT_CD_68.0', 'ADDR_PCT_CD_69.0',\n",
       "       'ADDR_PCT_CD_70.0', 'ADDR_PCT_CD_71.0', 'ADDR_PCT_CD_72.0',\n",
       "       'ADDR_PCT_CD_73.0', 'ADDR_PCT_CD_75.0', 'ADDR_PCT_CD_76.0',\n",
       "       'ADDR_PCT_CD_77.0', 'ADDR_PCT_CD_78.0', 'ADDR_PCT_CD_79.0',\n",
       "       'ADDR_PCT_CD_81.0', 'ADDR_PCT_CD_83.0', 'ADDR_PCT_CD_84.0',\n",
       "       'ADDR_PCT_CD_88.0', 'ADDR_PCT_CD_90.0', 'ADDR_PCT_CD_94.0',\n",
       "       'ADDR_PCT_CD_100.0', 'ADDR_PCT_CD_101.0', 'ADDR_PCT_CD_102.0',\n",
       "       'ADDR_PCT_CD_103.0', 'ADDR_PCT_CD_104.0', 'ADDR_PCT_CD_105.0',\n",
       "       'ADDR_PCT_CD_106.0', 'ADDR_PCT_CD_107.0', 'ADDR_PCT_CD_108.0',\n",
       "       'ADDR_PCT_CD_109.0', 'ADDR_PCT_CD_110.0', 'ADDR_PCT_CD_111.0',\n",
       "       'ADDR_PCT_CD_112.0', 'ADDR_PCT_CD_113.0', 'ADDR_PCT_CD_114.0',\n",
       "       'ADDR_PCT_CD_115.0', 'ADDR_PCT_CD_120.0', 'ADDR_PCT_CD_121.0',\n",
       "       'ADDR_PCT_CD_122.0', 'ADDR_PCT_CD_123.0',\n",
       "       'PREM_TYP_DESC_ABANDONED BUILDING',\n",
       "       'PREM_TYP_DESC_AIRPORT TERMINAL', 'PREM_TYP_DESC_ATM',\n",
       "       'PREM_TYP_DESC_BANK', 'PREM_TYP_DESC_BAR/NIGHT CLUB',\n",
       "       'PREM_TYP_DESC_BEAUTY & NAIL SALON', 'PREM_TYP_DESC_BOOK/CARD',\n",
       "       'PREM_TYP_DESC_BRIDGE', 'PREM_TYP_DESC_BUS (NYC TRANSIT)',\n",
       "       'PREM_TYP_DESC_BUS (OTHER)', 'PREM_TYP_DESC_BUS STOP',\n",
       "       'PREM_TYP_DESC_BUS TERMINAL', 'PREM_TYP_DESC_CANDY STORE',\n",
       "       'PREM_TYP_DESC_CEMETERY', 'PREM_TYP_DESC_CHAIN STORE',\n",
       "       'PREM_TYP_DESC_CHECK CASHING BUSINESS', 'PREM_TYP_DESC_CHURCH',\n",
       "       'PREM_TYP_DESC_CLOTHING/BOUTIQUE',\n",
       "       'PREM_TYP_DESC_COMMERCIAL BUILDING',\n",
       "       'PREM_TYP_DESC_CONSTRUCTION SITE',\n",
       "       'PREM_TYP_DESC_DEPARTMENT STORE',\n",
       "       'PREM_TYP_DESC_DOCTOR/DENTIST OFFICE', 'PREM_TYP_DESC_DRUG STORE',\n",
       "       'PREM_TYP_DESC_DRY CLEANER/LAUNDRY',\n",
       "       'PREM_TYP_DESC_FACTORY/WAREHOUSE', 'PREM_TYP_DESC_FAST FOOD',\n",
       "       'PREM_TYP_DESC_FERRY/FERRY TERMINAL',\n",
       "       'PREM_TYP_DESC_FOOD SUPERMARKET', 'PREM_TYP_DESC_GAS STATION',\n",
       "       'PREM_TYP_DESC_GROCERY/BODEGA',\n",
       "       'PREM_TYP_DESC_GYM/FITNESS FACILITY',\n",
       "       'PREM_TYP_DESC_HIGHWAY/PARKWAY', 'PREM_TYP_DESC_HOSPITAL',\n",
       "       'PREM_TYP_DESC_HOTEL/MOTEL', 'PREM_TYP_DESC_JEWELRY',\n",
       "       'PREM_TYP_DESC_LIQUOR STORE', 'PREM_TYP_DESC_LOAN COMPANY',\n",
       "       'PREM_TYP_DESC_MARINA/PIER', 'PREM_TYP_DESC_MOSQUE',\n",
       "       'PREM_TYP_DESC_OPEN AREAS (OPEN LOTS)', 'PREM_TYP_DESC_OTHER',\n",
       "       'PREM_TYP_DESC_OTHER HOUSE OF WORSHIP',\n",
       "       'PREM_TYP_DESC_PARK/PLAYGROUND',\n",
       "       'PREM_TYP_DESC_PARKING LOT/GARAGE (PRIVATE)',\n",
       "       'PREM_TYP_DESC_PARKING LOT/GARAGE (PUBLIC)',\n",
       "       'PREM_TYP_DESC_PHOTO/COPY',\n",
       "       'PREM_TYP_DESC_PRIVATE/PAROCHIAL SCHOOL',\n",
       "       'PREM_TYP_DESC_PUBLIC BUILDING', 'PREM_TYP_DESC_PUBLIC SCHOOL',\n",
       "       'PREM_TYP_DESC_RESIDENCE - APT. HOUSE',\n",
       "       'PREM_TYP_DESC_RESIDENCE - PUBLIC HOUSING',\n",
       "       'PREM_TYP_DESC_RESIDENCE-HOUSE', 'PREM_TYP_DESC_RESTAURANT/DINER',\n",
       "       'PREM_TYP_DESC_SHOE', 'PREM_TYP_DESC_SMALL MERCHANT',\n",
       "       'PREM_TYP_DESC_SOCIAL CLUB/POLICY',\n",
       "       'PREM_TYP_DESC_STORAGE FACILITY',\n",
       "       'PREM_TYP_DESC_STORE UNCLASSIFIED', 'PREM_TYP_DESC_STREET',\n",
       "       'PREM_TYP_DESC_SYNAGOGUE', 'PREM_TYP_DESC_TAXI (LIVERY LICENSED)',\n",
       "       'PREM_TYP_DESC_TAXI (YELLOW LICENSED)',\n",
       "       'PREM_TYP_DESC_TAXI/LIVERY (UNLICENSED)',\n",
       "       'PREM_TYP_DESC_TELECOMM. STORE', 'PREM_TYP_DESC_TRAMWAY',\n",
       "       'PREM_TYP_DESC_TRANSIT - NYC SUBWAY',\n",
       "       'PREM_TYP_DESC_TRANSIT FACILITY (OTHER)', 'PREM_TYP_DESC_TUNNEL',\n",
       "       'PREM_TYP_DESC_VARIETY STORE', 'PREM_TYP_DESC_VIDEO STORE',\n",
       "       'Day_Name_Friday', 'Day_Name_Monday', 'Day_Name_Saturday',\n",
       "       'Day_Name_Sunday', 'Day_Name_Thursday', 'Day_Name_Tuesday',\n",
       "       'Day_Name_Wednesday', 'Month_April', 'Month_August',\n",
       "       'Month_December', 'Month_February', 'Month_January', 'Month_July',\n",
       "       'Month_June', 'Month_March', 'Month_May', 'Month_November',\n",
       "       'Month_October', 'Month_September', 'Duration_lbl_Long',\n",
       "       'Duration_lbl_Medium', 'Duration_lbl_Short', 'Season_Fall',\n",
       "       'Season_Spring', 'Season_Summer', 'Season_Winter', 'Daytime_Day',\n",
       "       'Daytime_Early Morning', 'Daytime_Evening', 'Daytime_Late Night',\n",
       "       'Daytime_Morning', 'Daytime_Night'], dtype=object)"
      ]
     },
     "execution_count": 6,
     "metadata": {},
     "output_type": "execute_result"
    }
   ],
   "source": [
    "#Create dummies for Train/Test data set\n",
    "for var in cat_col:\n",
    "    cat_list='var'+'_'+var\n",
    "    cat_list = pd.get_dummies(df[var], prefix=var)\n",
    "    df1=df.join(cat_list)\n",
    "    df=df1\n",
    "    \n",
    "cat_col = ['JURIS_DESC','BORO_NM','LOC_OF_OCCUR_DESC','ADDR_PCT_CD','PREM_TYP_DESC','Day_Name','Month','Duration_lbl','Season','Daytime']\n",
    "data_vars=df.columns.values.tolist()\n",
    "to_keep=[i for i in data_vars if i not in cat_col]\n",
    "\n",
    "#Create new df with new vars\n",
    "newdf = df[to_keep]\n",
    "newdf.columns.values"
   ]
  },
  {
   "cell_type": "markdown",
   "metadata": {},
   "source": [
    "Here we are performing the same exact categorical manipulation as above, but for the holdout dataset"
   ]
  },
  {
   "cell_type": "code",
   "execution_count": 7,
   "metadata": {},
   "outputs": [
    {
     "data": {
      "text/plain": [
       "array(['Duration', 'Duration_to_PD', 'Day', 'Year', 'GeoCell',\n",
       "       'GeoCell_X', 'GeoCell_Y', 'y', 'JURIS_DESC_AMTRACK',\n",
       "       'JURIS_DESC_DEPT OF CORRECTIONS', 'JURIS_DESC_HEALTH & HOSP CORP',\n",
       "       'JURIS_DESC_LONG ISLAND RAILRD', 'JURIS_DESC_METRO NORTH',\n",
       "       'JURIS_DESC_N.Y. HOUSING POLICE', 'JURIS_DESC_N.Y. POLICE DEPT',\n",
       "       'JURIS_DESC_N.Y. STATE PARKS', 'JURIS_DESC_N.Y. STATE POLICE',\n",
       "       'JURIS_DESC_NEW YORK CITY SHERIFF OFFICE', 'JURIS_DESC_NYC PARKS',\n",
       "       'JURIS_DESC_NYS DEPT TAX AND FINANCE', 'JURIS_DESC_OTHER',\n",
       "       'JURIS_DESC_POLICE DEPT NYC', 'JURIS_DESC_PORT AUTHORITY',\n",
       "       'JURIS_DESC_TRI-BORO BRDG TUNNL', 'JURIS_DESC_U.S. PARK POLICE',\n",
       "       'BORO_NM_BRONX', 'BORO_NM_BROOKLYN', 'BORO_NM_MANHATTAN',\n",
       "       'BORO_NM_QUEENS', 'BORO_NM_STATEN ISLAND',\n",
       "       'LOC_OF_OCCUR_DESC_FRONT OF', 'LOC_OF_OCCUR_DESC_INSIDE',\n",
       "       'LOC_OF_OCCUR_DESC_OPPOSITE OF', 'LOC_OF_OCCUR_DESC_REAR OF',\n",
       "       'ADDR_PCT_CD_1.0', 'ADDR_PCT_CD_5.0', 'ADDR_PCT_CD_6.0',\n",
       "       'ADDR_PCT_CD_7.0', 'ADDR_PCT_CD_9.0', 'ADDR_PCT_CD_10.0',\n",
       "       'ADDR_PCT_CD_13.0', 'ADDR_PCT_CD_14.0', 'ADDR_PCT_CD_17.0',\n",
       "       'ADDR_PCT_CD_18.0', 'ADDR_PCT_CD_19.0', 'ADDR_PCT_CD_20.0',\n",
       "       'ADDR_PCT_CD_22.0', 'ADDR_PCT_CD_23.0', 'ADDR_PCT_CD_24.0',\n",
       "       'ADDR_PCT_CD_25.0', 'ADDR_PCT_CD_26.0', 'ADDR_PCT_CD_28.0',\n",
       "       'ADDR_PCT_CD_30.0', 'ADDR_PCT_CD_32.0', 'ADDR_PCT_CD_33.0',\n",
       "       'ADDR_PCT_CD_34.0', 'ADDR_PCT_CD_40.0', 'ADDR_PCT_CD_41.0',\n",
       "       'ADDR_PCT_CD_42.0', 'ADDR_PCT_CD_43.0', 'ADDR_PCT_CD_44.0',\n",
       "       'ADDR_PCT_CD_45.0', 'ADDR_PCT_CD_46.0', 'ADDR_PCT_CD_47.0',\n",
       "       'ADDR_PCT_CD_48.0', 'ADDR_PCT_CD_49.0', 'ADDR_PCT_CD_50.0',\n",
       "       'ADDR_PCT_CD_52.0', 'ADDR_PCT_CD_60.0', 'ADDR_PCT_CD_61.0',\n",
       "       'ADDR_PCT_CD_62.0', 'ADDR_PCT_CD_63.0', 'ADDR_PCT_CD_66.0',\n",
       "       'ADDR_PCT_CD_67.0', 'ADDR_PCT_CD_68.0', 'ADDR_PCT_CD_69.0',\n",
       "       'ADDR_PCT_CD_70.0', 'ADDR_PCT_CD_71.0', 'ADDR_PCT_CD_72.0',\n",
       "       'ADDR_PCT_CD_73.0', 'ADDR_PCT_CD_75.0', 'ADDR_PCT_CD_76.0',\n",
       "       'ADDR_PCT_CD_77.0', 'ADDR_PCT_CD_78.0', 'ADDR_PCT_CD_79.0',\n",
       "       'ADDR_PCT_CD_81.0', 'ADDR_PCT_CD_83.0', 'ADDR_PCT_CD_84.0',\n",
       "       'ADDR_PCT_CD_88.0', 'ADDR_PCT_CD_90.0', 'ADDR_PCT_CD_94.0',\n",
       "       'ADDR_PCT_CD_100.0', 'ADDR_PCT_CD_101.0', 'ADDR_PCT_CD_102.0',\n",
       "       'ADDR_PCT_CD_103.0', 'ADDR_PCT_CD_104.0', 'ADDR_PCT_CD_105.0',\n",
       "       'ADDR_PCT_CD_106.0', 'ADDR_PCT_CD_107.0', 'ADDR_PCT_CD_108.0',\n",
       "       'ADDR_PCT_CD_109.0', 'ADDR_PCT_CD_110.0', 'ADDR_PCT_CD_111.0',\n",
       "       'ADDR_PCT_CD_112.0', 'ADDR_PCT_CD_113.0', 'ADDR_PCT_CD_114.0',\n",
       "       'ADDR_PCT_CD_115.0', 'ADDR_PCT_CD_120.0', 'ADDR_PCT_CD_121.0',\n",
       "       'ADDR_PCT_CD_122.0', 'ADDR_PCT_CD_123.0',\n",
       "       'PREM_TYP_DESC_ABANDONED BUILDING',\n",
       "       'PREM_TYP_DESC_AIRPORT TERMINAL', 'PREM_TYP_DESC_ATM',\n",
       "       'PREM_TYP_DESC_BANK', 'PREM_TYP_DESC_BAR/NIGHT CLUB',\n",
       "       'PREM_TYP_DESC_BEAUTY & NAIL SALON', 'PREM_TYP_DESC_BOOK/CARD',\n",
       "       'PREM_TYP_DESC_BRIDGE', 'PREM_TYP_DESC_BUS (NYC TRANSIT)',\n",
       "       'PREM_TYP_DESC_BUS (OTHER)', 'PREM_TYP_DESC_BUS STOP',\n",
       "       'PREM_TYP_DESC_BUS TERMINAL', 'PREM_TYP_DESC_CANDY STORE',\n",
       "       'PREM_TYP_DESC_CEMETERY', 'PREM_TYP_DESC_CHAIN STORE',\n",
       "       'PREM_TYP_DESC_CHECK CASHING BUSINESS', 'PREM_TYP_DESC_CHURCH',\n",
       "       'PREM_TYP_DESC_CLOTHING/BOUTIQUE',\n",
       "       'PREM_TYP_DESC_COMMERCIAL BUILDING',\n",
       "       'PREM_TYP_DESC_CONSTRUCTION SITE',\n",
       "       'PREM_TYP_DESC_DEPARTMENT STORE',\n",
       "       'PREM_TYP_DESC_DOCTOR/DENTIST OFFICE', 'PREM_TYP_DESC_DRUG STORE',\n",
       "       'PREM_TYP_DESC_DRY CLEANER/LAUNDRY',\n",
       "       'PREM_TYP_DESC_FACTORY/WAREHOUSE', 'PREM_TYP_DESC_FAST FOOD',\n",
       "       'PREM_TYP_DESC_FERRY/FERRY TERMINAL',\n",
       "       'PREM_TYP_DESC_FOOD SUPERMARKET', 'PREM_TYP_DESC_GAS STATION',\n",
       "       'PREM_TYP_DESC_GROCERY/BODEGA',\n",
       "       'PREM_TYP_DESC_GYM/FITNESS FACILITY',\n",
       "       'PREM_TYP_DESC_HIGHWAY/PARKWAY', 'PREM_TYP_DESC_HOSPITAL',\n",
       "       'PREM_TYP_DESC_HOTEL/MOTEL', 'PREM_TYP_DESC_JEWELRY',\n",
       "       'PREM_TYP_DESC_LIQUOR STORE', 'PREM_TYP_DESC_LOAN COMPANY',\n",
       "       'PREM_TYP_DESC_MARINA/PIER', 'PREM_TYP_DESC_MOSQUE',\n",
       "       'PREM_TYP_DESC_OPEN AREAS (OPEN LOTS)', 'PREM_TYP_DESC_OTHER',\n",
       "       'PREM_TYP_DESC_OTHER HOUSE OF WORSHIP',\n",
       "       'PREM_TYP_DESC_PARK/PLAYGROUND',\n",
       "       'PREM_TYP_DESC_PARKING LOT/GARAGE (PRIVATE)',\n",
       "       'PREM_TYP_DESC_PARKING LOT/GARAGE (PUBLIC)',\n",
       "       'PREM_TYP_DESC_PHOTO/COPY',\n",
       "       'PREM_TYP_DESC_PRIVATE/PAROCHIAL SCHOOL',\n",
       "       'PREM_TYP_DESC_PUBLIC BUILDING', 'PREM_TYP_DESC_PUBLIC SCHOOL',\n",
       "       'PREM_TYP_DESC_RESIDENCE - APT. HOUSE',\n",
       "       'PREM_TYP_DESC_RESIDENCE - PUBLIC HOUSING',\n",
       "       'PREM_TYP_DESC_RESIDENCE-HOUSE', 'PREM_TYP_DESC_RESTAURANT/DINER',\n",
       "       'PREM_TYP_DESC_SHOE', 'PREM_TYP_DESC_SMALL MERCHANT',\n",
       "       'PREM_TYP_DESC_SOCIAL CLUB/POLICY',\n",
       "       'PREM_TYP_DESC_STORAGE FACILITY',\n",
       "       'PREM_TYP_DESC_STORE UNCLASSIFIED', 'PREM_TYP_DESC_STREET',\n",
       "       'PREM_TYP_DESC_SYNAGOGUE', 'PREM_TYP_DESC_TAXI (LIVERY LICENSED)',\n",
       "       'PREM_TYP_DESC_TAXI (YELLOW LICENSED)',\n",
       "       'PREM_TYP_DESC_TAXI/LIVERY (UNLICENSED)',\n",
       "       'PREM_TYP_DESC_TELECOMM. STORE',\n",
       "       'PREM_TYP_DESC_TRANSIT FACILITY (OTHER)', 'PREM_TYP_DESC_TUNNEL',\n",
       "       'PREM_TYP_DESC_VARIETY STORE', 'PREM_TYP_DESC_VIDEO STORE',\n",
       "       'Day_Name_Friday', 'Day_Name_Monday', 'Day_Name_Saturday',\n",
       "       'Day_Name_Sunday', 'Day_Name_Thursday', 'Day_Name_Tuesday',\n",
       "       'Day_Name_Wednesday', 'Month_April', 'Month_August',\n",
       "       'Month_December', 'Month_February', 'Month_January', 'Month_July',\n",
       "       'Month_June', 'Month_March', 'Month_May', 'Month_November',\n",
       "       'Month_October', 'Month_September', 'Duration_lbl_Long',\n",
       "       'Duration_lbl_Medium', 'Duration_lbl_Short', 'Season_Fall',\n",
       "       'Season_Spring', 'Season_Summer', 'Season_Winter', 'Daytime_Day',\n",
       "       'Daytime_Early Morning', 'Daytime_Evening', 'Daytime_Late Night',\n",
       "       'Daytime_Morning', 'Daytime_Night'], dtype=object)"
      ]
     },
     "execution_count": 7,
     "metadata": {},
     "output_type": "execute_result"
    }
   ],
   "source": [
    "### Create same manipulation on holdout set\n",
    "#Separate out cont. and cat. columns\n",
    "cat_col = ['JURIS_DESC','BORO_NM','LOC_OF_OCCUR_DESC','ADDR_PCT_CD','PREM_TYP_DESC','Day_Name','Month','Duration_lbl','Season','Daytime']\n",
    "num_col = ['Duration','Duration_to_PD','Day','Year','GeoCell','GeoCell_X','GeoCell_Y']\n",
    "\n",
    "#Create dummies for Train/Test data set\n",
    "for var in cat_col:\n",
    "    cat_list='var'+'_'+var\n",
    "    cat_list = pd.get_dummies(df_holdout[var], prefix=var)\n",
    "    df_holdout1=df_holdout.join(cat_list)\n",
    "    df_holdout=df_holdout1\n",
    "    \n",
    "cat_col = ['JURIS_DESC','BORO_NM','LOC_OF_OCCUR_DESC','ADDR_PCT_CD','PREM_TYP_DESC','Day_Name','Month','Duration_lbl','Season','Daytime']\n",
    "data_vars=df_holdout.columns.values.tolist()\n",
    "to_keep=[i for i in data_vars if i not in cat_col]\n",
    "\n",
    "#Create new df with new vars\n",
    "newdf_holdout = df_holdout[to_keep]\n",
    "newdf_holdout.columns.values"
   ]
  },
  {
   "cell_type": "markdown",
   "metadata": {},
   "source": [
    "### Modeling and Evaluation 1"
   ]
  },
  {
   "cell_type": "markdown",
   "metadata": {},
   "source": [
    "*Please Note*: As stated above in previous models, we are running a tree-based classifier as our feature selection and leveraging gini importance to assess which features are best. We understand the nuances related to using tree-based classifiers on dummy variables; however, it is imperative to know from an interpretation standpoint that we need our categorical variables to be dummies - specific levels of a categorical predictor are very informative for our problem at hand and will be leveraged as such moving forward.  \n",
    "\n",
    "Here we will load in our modeling and feature selection libraries to start working on building out our logistic regression model. We will also split out our predictors and target variable into their respected X and y alias."
   ]
  },
  {
   "cell_type": "code",
   "execution_count": 54,
   "metadata": {},
   "outputs": [],
   "source": [
    "#Random Forest Feature Selection\n",
    "from sklearn.ensemble.forest import RandomForestClassifier\n",
    "from sklearn.feature_selection import SelectFromModel\n",
    "from sklearn.model_selection import train_test_split\n",
    "from sklearn.model_selection import cross_val_score\n",
    "from sklearn.model_selection import StratifiedKFold\n",
    "\n",
    "#Create X and y\n",
    "X = newdf.drop(['y'], axis = 1)\n",
    "y = newdf[['y']]\n",
    "\n",
    "#Create splits 80/20\n",
    "X_train, X_test, y_train, y_test = train_test_split(X, y, test_size=0.2, random_state=0)"
   ]
  },
  {
   "cell_type": "markdown",
   "metadata": {},
   "source": [
    "Here we are using the random forest classifier as a feature selection technique and fitting it as such"
   ]
  },
  {
   "cell_type": "code",
   "execution_count": 46,
   "metadata": {},
   "outputs": [
    {
     "data": {
      "text/plain": [
       "SelectFromModel(estimator=RandomForestClassifier())"
      ]
     },
     "execution_count": 46,
     "metadata": {},
     "output_type": "execute_result"
    }
   ],
   "source": [
    "## Testing out selectfrommodel class - most likely will not move forward since syntax is less intuitive vs sklearn modules\n",
    "#Set RF Class\n",
    "feats = SelectFromModel(RandomForestClassifier(n_estimators = 100))\n",
    "feats.fit(X_train, y_train.values.ravel())"
   ]
  },
  {
   "cell_type": "markdown",
   "metadata": {},
   "source": [
    "This method returns an array of all the features that are most important based on the average gini importance. If the gini importance of a predictor is greater than the mean total gini importance, then that predictor will stay. If not, the predictor will be deemed as \"False\" and not included."
   ]
  },
  {
   "cell_type": "code",
   "execution_count": 47,
   "metadata": {},
   "outputs": [
    {
     "data": {
      "text/plain": [
       "array([ True,  True,  True,  True,  True,  True,  True, False, False,\n",
       "       False, False, False, False, False, False, False, False, False,\n",
       "       False, False, False, False, False, False, False, False, False,\n",
       "       False,  True, False, False,  True,  True, False, False, False,\n",
       "       False, False, False, False, False, False, False, False, False,\n",
       "       False, False, False, False, False, False, False, False, False,\n",
       "       False, False, False, False, False, False, False, False, False,\n",
       "       False, False, False, False, False, False, False, False, False,\n",
       "       False, False, False, False, False, False, False, False, False,\n",
       "       False, False, False, False, False, False, False, False, False,\n",
       "       False, False, False, False, False, False, False, False, False,\n",
       "       False, False, False, False, False, False, False, False, False,\n",
       "       False, False, False, False, False, False, False, False, False,\n",
       "       False, False, False, False, False, False, False, False, False,\n",
       "        True, False, False, False, False, False,  True, False, False,\n",
       "       False, False, False, False, False, False, False, False, False,\n",
       "       False, False, False, False, False, False, False, False, False,\n",
       "       False, False, False, False, False, False, False, False,  True,\n",
       "       False,  True, False, False, False, False, False, False,  True,\n",
       "       False, False, False, False, False, False, False, False, False,\n",
       "       False, False,  True,  True,  True,  True,  True,  True,  True,\n",
       "        True,  True,  True,  True,  True,  True,  True,  True,  True,\n",
       "        True,  True,  True,  True,  True,  True,  True,  True,  True,\n",
       "        True,  True,  True,  True,  True,  True,  True])"
      ]
     },
     "execution_count": 47,
     "metadata": {},
     "output_type": "execute_result"
    }
   ],
   "source": [
    "#Which features are most important\n",
    "feats.get_support()"
   ]
  },
  {
   "cell_type": "markdown",
   "metadata": {},
   "source": [
    "Here we index'd the training columns by the boolean array above. Then we printed the columns that were best from our random forest classifier. Lastly, we assigned those columns to the \"good_cols\" variable."
   ]
  },
  {
   "cell_type": "code",
   "execution_count": 48,
   "metadata": {},
   "outputs": [
    {
     "name": "stdout",
     "output_type": "stream",
     "text": [
      "47\n",
      "Index(['Duration', 'Duration_to_PD', 'Day', 'Year', 'GeoCell', 'GeoCell_X',\n",
      "       'GeoCell_Y', 'BORO_NM_MANHATTAN', 'LOC_OF_OCCUR_DESC_FRONT OF',\n",
      "       'LOC_OF_OCCUR_DESC_INSIDE', 'PREM_TYP_DESC_CHAIN STORE',\n",
      "       'PREM_TYP_DESC_DEPARTMENT STORE',\n",
      "       'PREM_TYP_DESC_RESIDENCE - APT. HOUSE', 'PREM_TYP_DESC_RESIDENCE-HOUSE',\n",
      "       'PREM_TYP_DESC_STREET', 'Day_Name_Friday', 'Day_Name_Monday',\n",
      "       'Day_Name_Saturday', 'Day_Name_Sunday', 'Day_Name_Thursday',\n",
      "       'Day_Name_Tuesday', 'Day_Name_Wednesday', 'Month_April', 'Month_August',\n",
      "       'Month_December', 'Month_February', 'Month_January', 'Month_July',\n",
      "       'Month_June', 'Month_March', 'Month_May', 'Month_November',\n",
      "       'Month_October', 'Month_September', 'Duration_lbl_Long',\n",
      "       'Duration_lbl_Medium', 'Duration_lbl_Short', 'Season_Fall',\n",
      "       'Season_Spring', 'Season_Summer', 'Season_Winter', 'Daytime_Day',\n",
      "       'Daytime_Early Morning', 'Daytime_Evening', 'Daytime_Late Night',\n",
      "       'Daytime_Morning', 'Daytime_Night'],\n",
      "      dtype='object')\n"
     ]
    }
   ],
   "source": [
    "#List of features that are most important\n",
    "selected_feats= X_train.columns[(feats.get_support())]\n",
    "print(len(selected_feats))\n",
    "print(selected_feats)\n",
    "\n",
    "#Store columns for later use\n",
    "good_cols = ['Duration', 'Duration_to_PD', 'Day', 'Year', 'GeoCell', 'GeoCell_X',\n",
    "       'GeoCell_Y', 'BORO_NM_MANHATTAN', 'LOC_OF_OCCUR_DESC_FRONT OF',\n",
    "       'LOC_OF_OCCUR_DESC_INSIDE', 'PREM_TYP_DESC_CHAIN STORE',\n",
    "       'PREM_TYP_DESC_DEPARTMENT STORE',\n",
    "       'PREM_TYP_DESC_RESIDENCE - APT. HOUSE', 'PREM_TYP_DESC_RESIDENCE-HOUSE',\n",
    "       'PREM_TYP_DESC_STREET', 'Day_Name_Friday', 'Day_Name_Monday',\n",
    "       'Day_Name_Saturday', 'Day_Name_Sunday', 'Day_Name_Thursday',\n",
    "       'Day_Name_Tuesday', 'Day_Name_Wednesday', 'Month_April', 'Month_August',\n",
    "       'Month_December', 'Month_February', 'Month_January', 'Month_July',\n",
    "       'Month_June', 'Month_March', 'Month_May', 'Month_November',\n",
    "       'Month_October', 'Month_September', 'Duration_lbl_Long',\n",
    "       'Duration_lbl_Medium', 'Duration_lbl_Short', 'Season_Fall',\n",
    "       'Season_Spring', 'Season_Summer', 'Season_Winter', 'Daytime_Day',\n",
    "       'Daytime_Early Morning', 'Daytime_Evening', 'Daytime_Late Night',\n",
    "       'Daytime_Morning', 'Daytime_Night']"
   ]
  },
  {
   "cell_type": "markdown",
   "metadata": {},
   "source": [
    "Here we want to index out both our data sets with their appropriate X y splits with the good columns above"
   ]
  },
  {
   "cell_type": "code",
   "execution_count": 49,
   "metadata": {},
   "outputs": [],
   "source": [
    "#Set the right columns\n",
    "X_train=X_train[good_cols]\n",
    "\n",
    "X_test = X_test[good_cols]\n",
    "\n",
    "X_holdout=newdf_holdout[good_cols]\n",
    "y_holdout=newdf_holdout[['y']]"
   ]
  },
  {
   "cell_type": "markdown",
   "metadata": {},
   "source": [
    "Here we are running the same random forest classifier and fitting it to a new alias to create a visual representation of feature importance depicted below"
   ]
  },
  {
   "cell_type": "code",
   "execution_count": 13,
   "metadata": {},
   "outputs": [
    {
     "data": {
      "text/plain": [
       "RandomForestClassifier()"
      ]
     },
     "execution_count": 13,
     "metadata": {},
     "output_type": "execute_result"
    }
   ],
   "source": [
    "#Set RF Class\n",
    "rf = RandomForestClassifier(n_estimators = 100)\n",
    "rf.fit(X_train, y_train.values.ravel())"
   ]
  },
  {
   "cell_type": "markdown",
   "metadata": {},
   "source": [
    "Here is the function to show the visual representation of our features by gini importance"
   ]
  },
  {
   "cell_type": "code",
   "execution_count": 14,
   "metadata": {},
   "outputs": [],
   "source": [
    "#Function for plotting feature importance\n",
    "import seaborn as sns\n",
    "def plot_feature_importance(importance,names,model_type):\n",
    "\n",
    "    #Create arrays from feature importance and feature names\n",
    "    feature_importance = np.array(importance)\n",
    "    feature_names = np.array(names)\n",
    "\n",
    "    #Create a DataFrame using a Dictionary\n",
    "    data={'feature_names':feature_names,'feature_importance':feature_importance}\n",
    "    fi_df = pd.DataFrame(data)\n",
    "\n",
    "    #Sort the DataFrame in order decreasing feature importance\n",
    "    fi_df.sort_values(by=['feature_importance'], ascending=False,inplace=True)\n",
    "\n",
    "    #Define size of bar plot\n",
    "    plt.figure(figsize=(10,8))\n",
    "    \n",
    "    #Plot Searborn bar chart\n",
    "    sns.barplot(x=fi_df['feature_importance'], y=fi_df['feature_names'])\n",
    "    \n",
    "    #Add chart labels\n",
    "    plt.title(model_type + 'FEATURE IMPORTANCE')\n",
    "    plt.xlabel('FEATURE IMPORTANCE')\n",
    "    plt.ylabel('FEATURE NAMES')"
   ]
  },
  {
   "cell_type": "markdown",
   "metadata": {},
   "source": [
    "Create feature importance plot"
   ]
  },
  {
   "cell_type": "code",
   "execution_count": 15,
   "metadata": {},
   "outputs": [
    {
     "data": {
      "image/png": "[encoded data removed]",
      "text/plain": [
       "<Figure size 720x576 with 1 Axes>"
      ]
     },
     "metadata": {
      "needs_background": "light"
     },
     "output_type": "display_data"
    }
   ],
   "source": [
    "#Plot feature importance by GINI\n",
    "plot_feature_importance(rf.feature_importances_,X_train.columns,'RANDOM FOREST')"
   ]
  },
  {
   "cell_type": "markdown",
   "metadata": {},
   "source": [
    "Function below shows our gini importance numbers by feature. We see the optimal cut off level by mean gini importance is 0.0042"
   ]
  },
  {
   "cell_type": "code",
   "execution_count": 16,
   "metadata": {},
   "outputs": [
    {
     "name": "stdout",
     "output_type": "stream",
     "text": [
      "Features sorted by their score:\n",
      "[(0.197, 'Day'), (0.0938, 'GeoCell'), (0.0706, 'Duration'), (0.0628, 'Duration_to_PD'), (0.0587, 'GeoCell_X'), (0.0566, 'GeoCell_Y'), (0.0459, 'Year'), (0.0358, 'PREM_TYP_DESC_RESIDENCE - APT. HOUSE'), (0.0187, 'Duration_lbl_Short'), (0.0143, 'Day_Name_Friday'), (0.0139, 'Day_Name_Monday'), (0.0138, 'Day_Name_Wednesday'), (0.0136, 'Day_Name_Thursday'), (0.0135, 'Day_Name_Tuesday'), (0.0135, 'Day_Name_Saturday'), (0.0133, 'PREM_TYP_DESC_RESIDENCE-HOUSE'), (0.0125, 'Daytime_Night'), (0.012, 'LOC_OF_OCCUR_DESC_INSIDE'), (0.0116, 'PREM_TYP_DESC_STREET'), (0.0114, 'Daytime_Day'), (0.0113, 'PREM_TYP_DESC_DEPARTMENT STORE'), (0.0113, 'Daytime_Evening'), (0.0111, 'PREM_TYP_DESC_CHAIN STORE'), (0.0106, 'Day_Name_Sunday'), (0.0102, 'Duration_lbl_Medium'), (0.0099, 'BORO_NM_MANHATTAN'), (0.0098, 'Daytime_Late Night'), (0.0094, 'Daytime_Morning'), (0.0092, 'LOC_OF_OCCUR_DESC_FRONT OF'), (0.008, 'Daytime_Early Morning'), (0.0077, 'Season_Fall'), (0.0076, 'Month_November'), (0.0074, 'Season_Spring'), (0.0073, 'Month_September'), (0.0072, 'Month_October'), (0.007, 'Season_Winter'), (0.007, 'Month_May'), (0.0069, 'Month_March'), (0.0069, 'Month_December'), (0.0069, 'Month_August'), (0.0069, 'Month_April'), (0.0068, 'Season_Summer'), (0.0068, 'Month_July'), (0.0067, 'Month_June'), (0.0062, 'Month_January'), (0.0061, 'Month_February'), (0.0042, 'Duration_lbl_Long')]\n"
     ]
    }
   ],
   "source": [
    "#Check out actual feature names associated with their gini score\n",
    "print (\"Features sorted by their score:\")\n",
    "print (sorted(zip(map(lambda x: round(x, 4), rf.feature_importances_), X_train.columns), \n",
    "             reverse=True))\n",
    "\n",
    "#Optimal cut off is at 0.006 for this RF Model"
   ]
  },
  {
   "cell_type": "markdown",
   "metadata": {},
   "source": [
    "Here we have a simple function to display the same gini importance above, but in a cleaner dataframe related look."
   ]
  },
  {
   "cell_type": "code",
   "execution_count": 17,
   "metadata": {},
   "outputs": [
    {
     "name": "stderr",
     "output_type": "stream",
     "text": [
      "C:\\Users\\Aurian\\Anaconda3\\lib\\site-packages\\ipykernel_launcher.py:10: SettingWithCopyWarning: \n",
      "A value is trying to be set on a copy of a slice from a DataFrame.\n",
      "Try using .loc[row_indexer,col_indexer] = value instead\n",
      "\n",
      "See the caveats in the documentation: https://pandas.pydata.org/pandas-docs/stable/user_guide/indexing.html#returning-a-view-versus-a-copy\n",
      "  # Remove the CWD from sys.path while we load stuff.\n"
     ]
    },
    {
     "data": {
      "text/html": [
       "<div>\n",
       "<style scoped>\n",
       "    .dataframe tbody tr th:only-of-type {\n",
       "        vertical-align: middle;\n",
       "    }\n",
       "\n",
       "    .dataframe tbody tr th {\n",
       "        vertical-align: top;\n",
       "    }\n",
       "\n",
       "    .dataframe thead th {\n",
       "        text-align: right;\n",
       "    }\n",
       "</style>\n",
       "<table border=\"1\" class=\"dataframe\">\n",
       "  <thead>\n",
       "    <tr style=\"text-align: right;\">\n",
       "      <th></th>\n",
       "      <th>Gini-importance</th>\n",
       "      <th>feature</th>\n",
       "    </tr>\n",
       "  </thead>\n",
       "  <tbody>\n",
       "    <tr>\n",
       "      <th>Day</th>\n",
       "      <td>0.197033</td>\n",
       "      <td>Day</td>\n",
       "    </tr>\n",
       "    <tr>\n",
       "      <th>GeoCell</th>\n",
       "      <td>0.093826</td>\n",
       "      <td>GeoCell</td>\n",
       "    </tr>\n",
       "    <tr>\n",
       "      <th>Duration</th>\n",
       "      <td>0.070618</td>\n",
       "      <td>Duration</td>\n",
       "    </tr>\n",
       "    <tr>\n",
       "      <th>Duration_to_PD</th>\n",
       "      <td>0.062846</td>\n",
       "      <td>Duration_to_PD</td>\n",
       "    </tr>\n",
       "    <tr>\n",
       "      <th>GeoCell_X</th>\n",
       "      <td>0.058746</td>\n",
       "      <td>GeoCell_X</td>\n",
       "    </tr>\n",
       "    <tr>\n",
       "      <th>GeoCell_Y</th>\n",
       "      <td>0.056618</td>\n",
       "      <td>GeoCell_Y</td>\n",
       "    </tr>\n",
       "    <tr>\n",
       "      <th>Year</th>\n",
       "      <td>0.045883</td>\n",
       "      <td>Year</td>\n",
       "    </tr>\n",
       "    <tr>\n",
       "      <th>PREM_TYP_DESC_RESIDENCE - APT. HOUSE</th>\n",
       "      <td>0.035840</td>\n",
       "      <td>PREM_TYP_DESC_RESIDENCE - APT. HOUSE</td>\n",
       "    </tr>\n",
       "    <tr>\n",
       "      <th>Duration_lbl_Short</th>\n",
       "      <td>0.018732</td>\n",
       "      <td>Duration_lbl_Short</td>\n",
       "    </tr>\n",
       "    <tr>\n",
       "      <th>Day_Name_Friday</th>\n",
       "      <td>0.014285</td>\n",
       "      <td>Day_Name_Friday</td>\n",
       "    </tr>\n",
       "    <tr>\n",
       "      <th>Day_Name_Monday</th>\n",
       "      <td>0.013917</td>\n",
       "      <td>Day_Name_Monday</td>\n",
       "    </tr>\n",
       "    <tr>\n",
       "      <th>Day_Name_Wednesday</th>\n",
       "      <td>0.013821</td>\n",
       "      <td>Day_Name_Wednesday</td>\n",
       "    </tr>\n",
       "    <tr>\n",
       "      <th>Day_Name_Thursday</th>\n",
       "      <td>0.013591</td>\n",
       "      <td>Day_Name_Thursday</td>\n",
       "    </tr>\n",
       "    <tr>\n",
       "      <th>Day_Name_Tuesday</th>\n",
       "      <td>0.013526</td>\n",
       "      <td>Day_Name_Tuesday</td>\n",
       "    </tr>\n",
       "    <tr>\n",
       "      <th>Day_Name_Saturday</th>\n",
       "      <td>0.013526</td>\n",
       "      <td>Day_Name_Saturday</td>\n",
       "    </tr>\n",
       "    <tr>\n",
       "      <th>PREM_TYP_DESC_RESIDENCE-HOUSE</th>\n",
       "      <td>0.013349</td>\n",
       "      <td>PREM_TYP_DESC_RESIDENCE-HOUSE</td>\n",
       "    </tr>\n",
       "    <tr>\n",
       "      <th>Daytime_Night</th>\n",
       "      <td>0.012473</td>\n",
       "      <td>Daytime_Night</td>\n",
       "    </tr>\n",
       "    <tr>\n",
       "      <th>LOC_OF_OCCUR_DESC_INSIDE</th>\n",
       "      <td>0.012027</td>\n",
       "      <td>LOC_OF_OCCUR_DESC_INSIDE</td>\n",
       "    </tr>\n",
       "    <tr>\n",
       "      <th>PREM_TYP_DESC_STREET</th>\n",
       "      <td>0.011552</td>\n",
       "      <td>PREM_TYP_DESC_STREET</td>\n",
       "    </tr>\n",
       "    <tr>\n",
       "      <th>Daytime_Day</th>\n",
       "      <td>0.011385</td>\n",
       "      <td>Daytime_Day</td>\n",
       "    </tr>\n",
       "    <tr>\n",
       "      <th>Daytime_Evening</th>\n",
       "      <td>0.011333</td>\n",
       "      <td>Daytime_Evening</td>\n",
       "    </tr>\n",
       "    <tr>\n",
       "      <th>PREM_TYP_DESC_DEPARTMENT STORE</th>\n",
       "      <td>0.011322</td>\n",
       "      <td>PREM_TYP_DESC_DEPARTMENT STORE</td>\n",
       "    </tr>\n",
       "    <tr>\n",
       "      <th>PREM_TYP_DESC_CHAIN STORE</th>\n",
       "      <td>0.011081</td>\n",
       "      <td>PREM_TYP_DESC_CHAIN STORE</td>\n",
       "    </tr>\n",
       "    <tr>\n",
       "      <th>Day_Name_Sunday</th>\n",
       "      <td>0.010621</td>\n",
       "      <td>Day_Name_Sunday</td>\n",
       "    </tr>\n",
       "    <tr>\n",
       "      <th>Duration_lbl_Medium</th>\n",
       "      <td>0.010227</td>\n",
       "      <td>Duration_lbl_Medium</td>\n",
       "    </tr>\n",
       "    <tr>\n",
       "      <th>BORO_NM_MANHATTAN</th>\n",
       "      <td>0.009882</td>\n",
       "      <td>BORO_NM_MANHATTAN</td>\n",
       "    </tr>\n",
       "    <tr>\n",
       "      <th>Daytime_Late Night</th>\n",
       "      <td>0.009839</td>\n",
       "      <td>Daytime_Late Night</td>\n",
       "    </tr>\n",
       "    <tr>\n",
       "      <th>Daytime_Morning</th>\n",
       "      <td>0.009414</td>\n",
       "      <td>Daytime_Morning</td>\n",
       "    </tr>\n",
       "    <tr>\n",
       "      <th>LOC_OF_OCCUR_DESC_FRONT OF</th>\n",
       "      <td>0.009196</td>\n",
       "      <td>LOC_OF_OCCUR_DESC_FRONT OF</td>\n",
       "    </tr>\n",
       "    <tr>\n",
       "      <th>Daytime_Early Morning</th>\n",
       "      <td>0.008040</td>\n",
       "      <td>Daytime_Early Morning</td>\n",
       "    </tr>\n",
       "    <tr>\n",
       "      <th>Season_Fall</th>\n",
       "      <td>0.007653</td>\n",
       "      <td>Season_Fall</td>\n",
       "    </tr>\n",
       "    <tr>\n",
       "      <th>Month_November</th>\n",
       "      <td>0.007556</td>\n",
       "      <td>Month_November</td>\n",
       "    </tr>\n",
       "    <tr>\n",
       "      <th>Season_Spring</th>\n",
       "      <td>0.007358</td>\n",
       "      <td>Season_Spring</td>\n",
       "    </tr>\n",
       "    <tr>\n",
       "      <th>Month_September</th>\n",
       "      <td>0.007253</td>\n",
       "      <td>Month_September</td>\n",
       "    </tr>\n",
       "    <tr>\n",
       "      <th>Month_October</th>\n",
       "      <td>0.007163</td>\n",
       "      <td>Month_October</td>\n",
       "    </tr>\n",
       "    <tr>\n",
       "      <th>Month_May</th>\n",
       "      <td>0.007047</td>\n",
       "      <td>Month_May</td>\n",
       "    </tr>\n",
       "    <tr>\n",
       "      <th>Season_Winter</th>\n",
       "      <td>0.006978</td>\n",
       "      <td>Season_Winter</td>\n",
       "    </tr>\n",
       "    <tr>\n",
       "      <th>Month_December</th>\n",
       "      <td>0.006922</td>\n",
       "      <td>Month_December</td>\n",
       "    </tr>\n",
       "    <tr>\n",
       "      <th>Month_August</th>\n",
       "      <td>0.006908</td>\n",
       "      <td>Month_August</td>\n",
       "    </tr>\n",
       "    <tr>\n",
       "      <th>Month_March</th>\n",
       "      <td>0.006880</td>\n",
       "      <td>Month_March</td>\n",
       "    </tr>\n",
       "    <tr>\n",
       "      <th>Month_April</th>\n",
       "      <td>0.006862</td>\n",
       "      <td>Month_April</td>\n",
       "    </tr>\n",
       "    <tr>\n",
       "      <th>Month_July</th>\n",
       "      <td>0.006831</td>\n",
       "      <td>Month_July</td>\n",
       "    </tr>\n",
       "    <tr>\n",
       "      <th>Season_Summer</th>\n",
       "      <td>0.006816</td>\n",
       "      <td>Season_Summer</td>\n",
       "    </tr>\n",
       "    <tr>\n",
       "      <th>Month_June</th>\n",
       "      <td>0.006663</td>\n",
       "      <td>Month_June</td>\n",
       "    </tr>\n",
       "    <tr>\n",
       "      <th>Month_January</th>\n",
       "      <td>0.006228</td>\n",
       "      <td>Month_January</td>\n",
       "    </tr>\n",
       "    <tr>\n",
       "      <th>Month_February</th>\n",
       "      <td>0.006121</td>\n",
       "      <td>Month_February</td>\n",
       "    </tr>\n",
       "  </tbody>\n",
       "</table>\n",
       "</div>"
      ],
      "text/plain": [
       "                                      Gini-importance  \\\n",
       "Day                                          0.197033   \n",
       "GeoCell                                      0.093826   \n",
       "Duration                                     0.070618   \n",
       "Duration_to_PD                               0.062846   \n",
       "GeoCell_X                                    0.058746   \n",
       "GeoCell_Y                                    0.056618   \n",
       "Year                                         0.045883   \n",
       "PREM_TYP_DESC_RESIDENCE - APT. HOUSE         0.035840   \n",
       "Duration_lbl_Short                           0.018732   \n",
       "Day_Name_Friday                              0.014285   \n",
       "Day_Name_Monday                              0.013917   \n",
       "Day_Name_Wednesday                           0.013821   \n",
       "Day_Name_Thursday                            0.013591   \n",
       "Day_Name_Tuesday                             0.013526   \n",
       "Day_Name_Saturday                            0.013526   \n",
       "PREM_TYP_DESC_RESIDENCE-HOUSE                0.013349   \n",
       "Daytime_Night                                0.012473   \n",
       "LOC_OF_OCCUR_DESC_INSIDE                     0.012027   \n",
       "PREM_TYP_DESC_STREET                         0.011552   \n",
       "Daytime_Day                                  0.011385   \n",
       "Daytime_Evening                              0.011333   \n",
       "PREM_TYP_DESC_DEPARTMENT STORE               0.011322   \n",
       "PREM_TYP_DESC_CHAIN STORE                    0.011081   \n",
       "Day_Name_Sunday                              0.010621   \n",
       "Duration_lbl_Medium                          0.010227   \n",
       "BORO_NM_MANHATTAN                            0.009882   \n",
       "Daytime_Late Night                           0.009839   \n",
       "Daytime_Morning                              0.009414   \n",
       "LOC_OF_OCCUR_DESC_FRONT OF                   0.009196   \n",
       "Daytime_Early Morning                        0.008040   \n",
       "Season_Fall                                  0.007653   \n",
       "Month_November                               0.007556   \n",
       "Season_Spring                                0.007358   \n",
       "Month_September                              0.007253   \n",
       "Month_October                                0.007163   \n",
       "Month_May                                    0.007047   \n",
       "Season_Winter                                0.006978   \n",
       "Month_December                               0.006922   \n",
       "Month_August                                 0.006908   \n",
       "Month_March                                  0.006880   \n",
       "Month_April                                  0.006862   \n",
       "Month_July                                   0.006831   \n",
       "Season_Summer                                0.006816   \n",
       "Month_June                                   0.006663   \n",
       "Month_January                                0.006228   \n",
       "Month_February                               0.006121   \n",
       "\n",
       "                                                                   feature  \n",
       "Day                                                                    Day  \n",
       "GeoCell                                                            GeoCell  \n",
       "Duration                                                          Duration  \n",
       "Duration_to_PD                                              Duration_to_PD  \n",
       "GeoCell_X                                                        GeoCell_X  \n",
       "GeoCell_Y                                                        GeoCell_Y  \n",
       "Year                                                                  Year  \n",
       "PREM_TYP_DESC_RESIDENCE - APT. HOUSE  PREM_TYP_DESC_RESIDENCE - APT. HOUSE  \n",
       "Duration_lbl_Short                                      Duration_lbl_Short  \n",
       "Day_Name_Friday                                            Day_Name_Friday  \n",
       "Day_Name_Monday                                            Day_Name_Monday  \n",
       "Day_Name_Wednesday                                      Day_Name_Wednesday  \n",
       "Day_Name_Thursday                                        Day_Name_Thursday  \n",
       "Day_Name_Tuesday                                          Day_Name_Tuesday  \n",
       "Day_Name_Saturday                                        Day_Name_Saturday  \n",
       "PREM_TYP_DESC_RESIDENCE-HOUSE                PREM_TYP_DESC_RESIDENCE-HOUSE  \n",
       "Daytime_Night                                                Daytime_Night  \n",
       "LOC_OF_OCCUR_DESC_INSIDE                          LOC_OF_OCCUR_DESC_INSIDE  \n",
       "PREM_TYP_DESC_STREET                                  PREM_TYP_DESC_STREET  \n",
       "Daytime_Day                                                    Daytime_Day  \n",
       "Daytime_Evening                                            Daytime_Evening  \n",
       "PREM_TYP_DESC_DEPARTMENT STORE              PREM_TYP_DESC_DEPARTMENT STORE  \n",
       "PREM_TYP_DESC_CHAIN STORE                        PREM_TYP_DESC_CHAIN STORE  \n",
       "Day_Name_Sunday                                            Day_Name_Sunday  \n",
       "Duration_lbl_Medium                                    Duration_lbl_Medium  \n",
       "BORO_NM_MANHATTAN                                        BORO_NM_MANHATTAN  \n",
       "Daytime_Late Night                                      Daytime_Late Night  \n",
       "Daytime_Morning                                            Daytime_Morning  \n",
       "LOC_OF_OCCUR_DESC_FRONT OF                      LOC_OF_OCCUR_DESC_FRONT OF  \n",
       "Daytime_Early Morning                                Daytime_Early Morning  \n",
       "Season_Fall                                                    Season_Fall  \n",
       "Month_November                                              Month_November  \n",
       "Season_Spring                                                Season_Spring  \n",
       "Month_September                                            Month_September  \n",
       "Month_October                                                Month_October  \n",
       "Month_May                                                        Month_May  \n",
       "Season_Winter                                                Season_Winter  \n",
       "Month_December                                              Month_December  \n",
       "Month_August                                                  Month_August  \n",
       "Month_March                                                    Month_March  \n",
       "Month_April                                                    Month_April  \n",
       "Month_July                                                      Month_July  \n",
       "Season_Summer                                                Season_Summer  \n",
       "Month_June                                                      Month_June  \n",
       "Month_January                                                Month_January  \n",
       "Month_February                                              Month_February  "
      ]
     },
     "execution_count": 17,
     "metadata": {},
     "output_type": "execute_result"
    }
   ],
   "source": [
    "#Get feature importance\n",
    "feats = {} # a dict to hold feature_name: feature_importance\n",
    "for feature, importance in zip(X_test.columns, rf.feature_importances_):\n",
    "    feats[feature] = importance #add the name/value pair \n",
    "    \n",
    "importances = pd.DataFrame.from_dict(feats, orient='index').rename(columns={0: 'Gini-importance'})\n",
    "\n",
    "#Assort by importance > 0.0042\n",
    "df_top_features = importances[importances['Gini-importance']>=.0042]\n",
    "df_top_features['feature'] = df_top_features.index\n",
    "top_features = df_top_features['feature'].tolist()\n",
    "\n",
    "df_top_features.sort_values(by='Gini-importance',ascending=False)"
   ]
  },
  {
   "cell_type": "markdown",
   "metadata": {},
   "source": [
    "### Modeling and Evaluation 2"
   ]
  },
  {
   "cell_type": "markdown",
   "metadata": {},
   "source": [
    "Here we will important our confusion matrix metrics to see our weighted averages of both the train/test dataset and holdout set.  \n",
    "\n",
    "The metrics of interest we are trying to focus on the most is precision, recall, and average. This will allow us to get the necessary information to explain the importance and robustness of our model."
   ]
  },
  {
   "cell_type": "code",
   "execution_count": 18,
   "metadata": {},
   "outputs": [
    {
     "name": "stdout",
     "output_type": "stream",
     "text": [
      "Confusion Matrix for Train/Test\n",
      "--------------------------------\n",
      "              precision    recall  f1-score   support\n",
      "\n",
      "           0       0.77      0.84      0.80     72942\n",
      "           1       0.56      0.43      0.49     32833\n",
      "\n",
      "    accuracy                           0.72    105775\n",
      "   macro avg       0.66      0.64      0.65    105775\n",
      "weighted avg       0.70      0.72      0.71    105775\n",
      "\n",
      "Confusion Matrix for Holdout\n",
      "--------------------------------\n",
      "              precision    recall  f1-score   support\n",
      "\n",
      "           0       0.77      0.85      0.81     40568\n",
      "           1       0.56      0.43      0.49     18196\n",
      "\n",
      "    accuracy                           0.72     58764\n",
      "   macro avg       0.66      0.64      0.65     58764\n",
      "weighted avg       0.70      0.72      0.71     58764\n",
      "\n"
     ]
    }
   ],
   "source": [
    "#Random Forest Model\n",
    "from sklearn.metrics import *\n",
    "\n",
    "#Create predictions for test and holdout\n",
    "y_pred = rf.predict(X_test)\n",
    "y_hold_pred = rf.predict(X_holdout)\n",
    "\n",
    "#Classification matrix\n",
    "print('Confusion Matrix for Train/Test')\n",
    "print('--------------------------------')\n",
    "print(classification_report(y_test,y_pred))\n",
    "print('Confusion Matrix for Holdout')\n",
    "print('--------------------------------')\n",
    "print(classification_report(y_holdout,y_hold_pred))"
   ]
  },
  {
   "cell_type": "markdown",
   "metadata": {},
   "source": [
    "Now that we see our model fits nicely with our holdout set, we will run a 10-fold cross validation to see how well our model will perform on other train test splits. If we get skewed accuracy results, then that means we may have overfit our model and need to go back to our data preparation and feature selection steps to see where the issue resides.  \n",
    "\n",
    "We can observe that the cross validation method checks out and can continue forward with our ROC curve."
   ]
  },
  {
   "cell_type": "code",
   "execution_count": 28,
   "metadata": {},
   "outputs": [
    {
     "name": "stdout",
     "output_type": "stream",
     "text": [
      "Results of 10 Fold Cross Validation\n",
      "[0.71727724 0.71654455 0.71822264 0.71666273 0.71571732 0.72079887\n",
      " 0.71668636 0.72056251 0.71734146 0.71417429]\n",
      "--------------------------------\n",
      "Average of 10 Fold Cross Validation\n",
      "0.717398798193697\n"
     ]
    }
   ],
   "source": [
    "#10 fold Cross validation of model fit\n",
    "ten_fold = cross_val_score(rf, X_train, y_train.values.ravel(), cv=10)\n",
    "print('Results of 10 Fold Cross Validation')\n",
    "print(ten_fold)\n",
    "print('--------------------------------')\n",
    "print('Average of 10 Fold Cross Validation')\n",
    "print(np.mean(ten_fold))"
   ]
  },
  {
   "cell_type": "markdown",
   "metadata": {},
   "source": [
    "Here we run our ROC curve and see a pretty okay curve. Next steps will be to optimize our parameters to find the best fit parameters for our model. From there, we can re-run our model + ROC curve to observe any changes."
   ]
  },
  {
   "cell_type": "code",
   "execution_count": 19,
   "metadata": {},
   "outputs": [
    {
     "data": {
      "image/png": "[encoded data removed]",
      "text/plain": [
       "<Figure size 432x288 with 1 Axes>"
      ]
     },
     "metadata": {
      "needs_background": "light"
     },
     "output_type": "display_data"
    }
   ],
   "source": [
    "#ROC Curve for Random Forest\n",
    "from sklearn.metrics import roc_auc_score\n",
    "from sklearn.metrics import roc_curve\n",
    "\n",
    "rf_roc_auc = roc_auc_score(y_test, rf.predict(X_test))\n",
    "fpr, tpr, thresholds = roc_curve(y_test, rf.predict_proba(X_test)[:,1])\n",
    "plt.figure()\n",
    "plt.plot(fpr, tpr, label='Random Forest Classifier (area = %0.2f)' % rf_roc_auc)\n",
    "plt.plot([0, 1], [0, 1],'r--')\n",
    "plt.xlim([0.0, 1.0])\n",
    "plt.ylim([0.0, 1.05])\n",
    "plt.xlabel('False Positive Rate')\n",
    "plt.ylabel('True Positive Rate')\n",
    "plt.title('Receiver operating characteristic')\n",
    "plt.legend(loc=\"lower right\")\n",
    "plt.savefig('RF_ROC')\n",
    "plt.show()"
   ]
  },
  {
   "cell_type": "markdown",
   "metadata": {},
   "source": [
    "Here we import the statsmodel api for our logistic model fit.  \n",
    "\n",
    "We will fit our model with the good columns we identified above earlier.  \n",
    "\n",
    "We can observe a lot of NaN's which is in part of many correlated variables which is skewing our p-value scores. We will continue by keeping the top 20 featues associated by gini importance"
   ]
  },
  {
   "cell_type": "code",
   "execution_count": 52,
   "metadata": {},
   "outputs": [
    {
     "name": "stdout",
     "output_type": "stream",
     "text": [
      "Optimization terminated successfully.\n",
      "         Current function value: 0.528526\n",
      "         Iterations 20\n",
      "                           Logit Regression Results                           \n",
      "==============================================================================\n",
      "Dep. Variable:                      y   No. Observations:               423098\n",
      "Model:                          Logit   Df Residuals:                   423059\n",
      "Method:                           MLE   Df Model:                           38\n",
      "Date:                Thu, 15 Oct 2020   Pseudo R-squ.:                  0.1451\n",
      "Time:                        14:28:01   Log-Likelihood:            -2.2362e+05\n",
      "converged:                       True   LL-Null:                   -2.6158e+05\n",
      "Covariance Type:            nonrobust   LLR p-value:                     0.000\n",
      "========================================================================================================\n",
      "                                           coef    std err          z      P>|z|      [0.025      0.975]\n",
      "--------------------------------------------------------------------------------------------------------\n",
      "Duration                                -0.3624      0.004    -98.801      0.000      -0.370      -0.355\n",
      "Duration_to_PD                          -0.0001   6.16e-05     -1.804      0.071      -0.000    9.62e-06\n",
      "Day                                      0.0005      0.000      1.291      0.197      -0.000       0.001\n",
      "Year                                     0.0511      0.006      8.319      0.000       0.039       0.063\n",
      "GeoCell                                  4.7018        nan        nan        nan         nan         nan\n",
      "GeoCell_X                               -4.6885        nan        nan        nan         nan         nan\n",
      "GeoCell_Y                              -47.0055        nan        nan        nan         nan         nan\n",
      "BORO_NM_MANHATTAN                       -0.3495      0.010    -33.600      0.000      -0.370      -0.329\n",
      "LOC_OF_OCCUR_DESC_FRONT OF               0.7651      0.020     39.114      0.000       0.727       0.803\n",
      "LOC_OF_OCCUR_DESC_INSIDE                 0.8440      0.019     43.629      0.000       0.806       0.882\n",
      "PREM_TYP_DESC_CHAIN STORE               -1.8015      0.035    -51.874      0.000      -1.870      -1.733\n",
      "PREM_TYP_DESC_DEPARTMENT STORE          -2.5513      0.051    -50.293      0.000      -2.651      -2.452\n",
      "PREM_TYP_DESC_RESIDENCE - APT. HOUSE     0.8507      0.009     93.612      0.000       0.833       0.868\n",
      "PREM_TYP_DESC_RESIDENCE-HOUSE            0.6730      0.012     54.562      0.000       0.649       0.697\n",
      "PREM_TYP_DESC_STREET                    -0.0035      0.013     -0.274      0.784      -0.029       0.022\n",
      "Day_Name_Friday                         -8.8913        nan        nan        nan         nan         nan\n",
      "Day_Name_Monday                         -8.8503        nan        nan        nan         nan         nan\n",
      "Day_Name_Saturday                       -8.8080        nan        nan        nan         nan         nan\n",
      "Day_Name_Sunday                         -8.6824        nan        nan        nan         nan         nan\n",
      "Day_Name_Thursday                       -8.8870        nan        nan        nan         nan         nan\n",
      "Day_Name_Tuesday                        -8.9075        nan        nan        nan         nan         nan\n",
      "Day_Name_Wednesday                      -8.8982        nan        nan        nan         nan         nan\n",
      "Month_April                             -3.0054        nan        nan        nan         nan         nan\n",
      "Month_August                            -2.9838   2.82e+05  -1.06e-05      1.000   -5.54e+05    5.54e+05\n",
      "Month_December                          -4.4229   5.47e+05  -8.09e-06      1.000   -1.07e+06    1.07e+06\n",
      "Month_February                          -4.4392   5.47e+05  -8.12e-06      1.000   -1.07e+06    1.07e+06\n",
      "Month_January                           -4.4619   5.47e+05  -8.16e-06      1.000   -1.07e+06    1.07e+06\n",
      "Month_July                              -2.9231   2.82e+05  -1.03e-05      1.000   -5.54e+05    5.54e+05\n",
      "Month_June                              -2.9422   2.83e+05  -1.04e-05      1.000   -5.54e+05    5.54e+05\n",
      "Month_March                             -3.0050        nan        nan        nan         nan         nan\n",
      "Month_May                               -2.8862        nan        nan        nan         nan         nan\n",
      "Month_November                          -2.8251        nan        nan        nan         nan         nan\n",
      "Month_October                           -2.8282        nan        nan        nan         nan         nan\n",
      "Month_September                         -2.8010        nan        nan        nan         nan         nan\n",
      "Duration_lbl_Long                      -17.2032   1.36e+05     -0.000      1.000   -2.66e+05    2.66e+05\n",
      "Duration_lbl_Medium                    -20.5812   1.36e+05     -0.000      1.000   -2.66e+05    2.66e+05\n",
      "Duration_lbl_Short                     -21.5060   1.36e+05     -0.000      1.000   -2.66e+05    2.66e+05\n",
      "Season_Fall                            -15.1783        nan        nan        nan         nan         nan\n",
      "Season_Spring                          -15.0083        nan        nan        nan         nan         nan\n",
      "Season_Summer                          -14.9608        nan        nan        nan         nan         nan\n",
      "Season_Winter                          -13.5952   3.69e+05  -3.69e-05      1.000   -7.22e+05    7.22e+05\n",
      "Daytime_Day                             -8.8494        nan        nan        nan         nan         nan\n",
      "Daytime_Early Morning                   -8.6245        nan        nan        nan         nan         nan\n",
      "Daytime_Evening                         -8.8123        nan        nan        nan         nan         nan\n",
      "Daytime_Late Night                      -8.5991        nan        nan        nan         nan         nan\n",
      "Daytime_Morning                         -8.7047        nan        nan        nan         nan         nan\n",
      "Daytime_Night                           -8.6743        nan        nan        nan         nan         nan\n",
      "========================================================================================================\n"
     ]
    },
    {
     "name": "stderr",
     "output_type": "stream",
     "text": [
      "C:\\Users\\Aurian\\Anaconda3\\lib\\site-packages\\statsmodels\\base\\model.py:1354: RuntimeWarning: invalid value encountered in sqrt\n",
      "  bse_ = np.sqrt(np.diag(self.cov_params()))\n",
      "C:\\Users\\Aurian\\Anaconda3\\lib\\site-packages\\scipy\\stats\\_distn_infrastructure.py:1932: RuntimeWarning: invalid value encountered in less_equal\n",
      "  cond2 = cond0 & (x <= _a)\n"
     ]
    }
   ],
   "source": [
    "#Logistic Reg using stats model API\n",
    "import statsmodels.api as sm\n",
    "\n",
    "#Keep top 20 features associated by gini importance\n",
    "good_cols = ['Duration', 'Duration_to_PD', 'Day', 'Year', 'GeoCell', 'GeoCell_X',\n",
    "       'GeoCell_Y', 'BORO_NM_MANHATTAN', 'LOC_OF_OCCUR_DESC_FRONT OF',\n",
    "       'LOC_OF_OCCUR_DESC_INSIDE', 'PREM_TYP_DESC_CHAIN STORE',\n",
    "       'PREM_TYP_DESC_DEPARTMENT STORE',\n",
    "       'PREM_TYP_DESC_RESIDENCE - APT. HOUSE', 'PREM_TYP_DESC_RESIDENCE-HOUSE',\n",
    "       'PREM_TYP_DESC_STREET', 'Day_Name_Friday', 'Day_Name_Monday',\n",
    "       'Day_Name_Saturday', 'Day_Name_Sunday', 'Day_Name_Thursday',\n",
    "       'Day_Name_Tuesday', 'Day_Name_Wednesday', 'Month_April', 'Month_August',\n",
    "       'Month_December', 'Month_February', 'Month_January', 'Month_July',\n",
    "       'Month_June', 'Month_March', 'Month_May', 'Month_November',\n",
    "       'Month_October', 'Month_September', 'Duration_lbl_Long',\n",
    "       'Duration_lbl_Medium', 'Duration_lbl_Short', 'Season_Fall',\n",
    "       'Season_Spring', 'Season_Summer', 'Season_Winter', 'Daytime_Day',\n",
    "       'Daytime_Early Morning', 'Daytime_Evening', 'Daytime_Late Night',\n",
    "       'Daytime_Morning', 'Daytime_Night']\n",
    "\n",
    "#Built out logistic Model\n",
    "X_train = X_train[good_cols]\n",
    "log_model=sm.Logit(y_train,X_train)\n",
    "result=log_model.fit()\n",
    "print(result.summary())"
   ]
  },
  {
   "cell_type": "markdown",
   "metadata": {},
   "source": [
    "Here we are applying the top 20 features by gini importance only and refitting our logistic regression model.  \n",
    "\n",
    "We can observe our results are much better outside of our \"Day\" predictor. This predictor may be correlated with some of the dummy \"Day_Name\" variables we have below. We will take \"Day\" out of our model since it was deemed statistically insignificant."
   ]
  },
  {
   "cell_type": "code",
   "execution_count": 53,
   "metadata": {},
   "outputs": [
    {
     "name": "stdout",
     "output_type": "stream",
     "text": [
      "Optimization terminated successfully.\n",
      "         Current function value: 0.550287\n",
      "         Iterations 8\n",
      "                           Logit Regression Results                           \n",
      "==============================================================================\n",
      "Dep. Variable:                      y   No. Observations:               423098\n",
      "Model:                          Logit   Df Residuals:                   423078\n",
      "Method:                           MLE   Df Model:                           19\n",
      "Date:                Thu, 15 Oct 2020   Pseudo R-squ.:                  0.1099\n",
      "Time:                        14:28:11   Log-Likelihood:            -2.3283e+05\n",
      "converged:                       True   LL-Null:                   -2.6158e+05\n",
      "Covariance Type:            nonrobust   LLR p-value:                     0.000\n",
      "========================================================================================================\n",
      "                                           coef    std err          z      P>|z|      [0.025      0.975]\n",
      "--------------------------------------------------------------------------------------------------------\n",
      "Duration                                -0.2186      0.003    -76.907      0.000      -0.224      -0.213\n",
      "Duration_to_PD                          -0.0002   6.34e-05     -2.741      0.006      -0.000   -4.95e-05\n",
      "Day                                      0.0005      0.000      1.331      0.183      -0.000       0.001\n",
      "Year                                     0.0557      0.006      9.810      0.000       0.045       0.067\n",
      "GeoCell                                 11.2764      1.143      9.862      0.000       9.035      13.517\n",
      "GeoCell_X                              -11.2208      1.143     -9.814      0.000     -13.462      -8.980\n",
      "GeoCell_Y                             -112.7788     11.434     -9.863      0.000    -135.189     -90.368\n",
      "Day_Name_Friday                         -0.2192      0.013    -16.688      0.000      -0.245      -0.193\n",
      "Day_Name_Monday                         -0.1904      0.013    -14.198      0.000      -0.217      -0.164\n",
      "Day_Name_Saturday                       -0.1290      0.013     -9.869      0.000      -0.155      -0.103\n",
      "Day_Name_Thursday                       -0.2225      0.013    -16.682      0.000      -0.249      -0.196\n",
      "Day_Name_Tuesday                        -0.2447      0.013    -18.294      0.000      -0.271      -0.218\n",
      "Day_Name_Wednesday                      -0.2372      0.013    -17.862      0.000      -0.263      -0.211\n",
      "PREM_TYP_DESC_RESIDENCE - APT. HOUSE     1.0814      0.009    124.148      0.000       1.064       1.099\n",
      "PREM_TYP_DESC_RESIDENCE-HOUSE            0.8904      0.012     74.367      0.000       0.867       0.914\n",
      "Duration_lbl_Short                      -0.2484      0.033     -7.605      0.000      -0.312      -0.184\n",
      "Daytime_Day                             -0.1645      0.009    -17.585      0.000      -0.183      -0.146\n",
      "Daytime_Night                            0.0364      0.009      4.154      0.000       0.019       0.054\n",
      "PREM_TYP_DESC_STREET                     0.1828      0.013     14.452      0.000       0.158       0.208\n",
      "LOC_OF_OCCUR_DESC_INSIDE                 0.0841      0.010      8.385      0.000       0.064       0.104\n",
      "========================================================================================================\n"
     ]
    }
   ],
   "source": [
    "#Keep top 20 features associated by gini importance\n",
    "good_cols = ['Duration', 'Duration_to_PD', 'Day', 'Year', 'GeoCell', 'GeoCell_X',\n",
    "       'GeoCell_Y','Day_Name_Friday', 'Day_Name_Monday',\n",
    "       'Day_Name_Saturday', 'Day_Name_Thursday',\n",
    "       'Day_Name_Tuesday', 'Day_Name_Wednesday',\n",
    "       'PREM_TYP_DESC_RESIDENCE - APT. HOUSE', 'PREM_TYP_DESC_RESIDENCE-HOUSE', 'Duration_lbl_Short', 'Daytime_Day', 'Daytime_Night', 'PREM_TYP_DESC_STREET', 'LOC_OF_OCCUR_DESC_INSIDE']\n",
    "\n",
    "#Built out logistic Model\n",
    "X_train = X_train[good_cols]\n",
    "log_model=sm.Logit(y_train,X_train)\n",
    "result=log_model.fit()\n",
    "print(result.summary())"
   ]
  },
  {
   "cell_type": "markdown",
   "metadata": {},
   "source": [
    "Refit the model without the \"Day\" variable and see if we see any improvements."
   ]
  },
  {
   "cell_type": "code",
   "execution_count": 55,
   "metadata": {},
   "outputs": [
    {
     "name": "stdout",
     "output_type": "stream",
     "text": [
      "Optimization terminated successfully.\n",
      "         Current function value: 0.550289\n",
      "         Iterations 8\n",
      "                           Logit Regression Results                           \n",
      "==============================================================================\n",
      "Dep. Variable:                      y   No. Observations:               423098\n",
      "Model:                          Logit   Df Residuals:                   423079\n",
      "Method:                           MLE   Df Model:                           18\n",
      "Date:                Thu, 15 Oct 2020   Pseudo R-squ.:                  0.1099\n",
      "Time:                        14:46:06   Log-Likelihood:            -2.3283e+05\n",
      "converged:                       True   LL-Null:                   -2.6158e+05\n",
      "Covariance Type:            nonrobust   LLR p-value:                     0.000\n",
      "========================================================================================================\n",
      "                                           coef    std err          z      P>|z|      [0.025      0.975]\n",
      "--------------------------------------------------------------------------------------------------------\n",
      "Duration                                -0.2186      0.003    -76.912      0.000      -0.224      -0.213\n",
      "Duration_to_PD                          -0.0002   6.34e-05     -2.771      0.006      -0.000   -5.15e-05\n",
      "Year                                     0.0557      0.006      9.808      0.000       0.045       0.067\n",
      "GeoCell                                 11.2734      1.143      9.860      0.000       9.032      13.514\n",
      "GeoCell_X                              -11.2178      1.143     -9.811      0.000     -13.459      -8.977\n",
      "GeoCell_Y                             -112.7490     11.434     -9.861      0.000    -135.159     -90.339\n",
      "Day_Name_Friday                         -0.2189      0.013    -16.668      0.000      -0.245      -0.193\n",
      "Day_Name_Monday                         -0.1903      0.013    -14.189      0.000      -0.217      -0.164\n",
      "Day_Name_Saturday                       -0.1288      0.013     -9.853      0.000      -0.154      -0.103\n",
      "Day_Name_Thursday                       -0.2224      0.013    -16.675      0.000      -0.249      -0.196\n",
      "Day_Name_Tuesday                        -0.2446      0.013    -18.291      0.000      -0.271      -0.218\n",
      "Day_Name_Wednesday                      -0.2373      0.013    -17.867      0.000      -0.263      -0.211\n",
      "PREM_TYP_DESC_RESIDENCE - APT. HOUSE     1.0814      0.009    124.147      0.000       1.064       1.098\n",
      "PREM_TYP_DESC_RESIDENCE-HOUSE            0.8904      0.012     74.368      0.000       0.867       0.914\n",
      "Duration_lbl_Short                      -0.2484      0.033     -7.606      0.000      -0.312      -0.184\n",
      "Daytime_Day                             -0.1645      0.009    -17.586      0.000      -0.183      -0.146\n",
      "Daytime_Night                            0.0365      0.009      4.161      0.000       0.019       0.054\n",
      "PREM_TYP_DESC_STREET                     0.1828      0.013     14.454      0.000       0.158       0.208\n",
      "LOC_OF_OCCUR_DESC_INSIDE                 0.0841      0.010      8.388      0.000       0.064       0.104\n",
      "========================================================================================================\n"
     ]
    }
   ],
   "source": [
    "#Logistic Model without Day\n",
    "good_cols = ['Duration', 'Duration_to_PD', 'Year', 'GeoCell', 'GeoCell_X',\n",
    "       'GeoCell_Y','Day_Name_Friday', 'Day_Name_Monday',\n",
    "       'Day_Name_Saturday', 'Day_Name_Thursday',\n",
    "       'Day_Name_Tuesday', 'Day_Name_Wednesday',\n",
    "       'PREM_TYP_DESC_RESIDENCE - APT. HOUSE', 'PREM_TYP_DESC_RESIDENCE-HOUSE', 'Duration_lbl_Short', 'Daytime_Day', 'Daytime_Night', 'PREM_TYP_DESC_STREET', 'LOC_OF_OCCUR_DESC_INSIDE']\n",
    "\n",
    "#Built out logistic Model\n",
    "X_train = X_train[good_cols]\n",
    "log_model=sm.Logit(y_train,X_train)\n",
    "result=log_model.fit()\n",
    "print(result.summary())"
   ]
  },
  {
   "cell_type": "markdown",
   "metadata": {},
   "source": [
    "Here we have created our logistic regression class within the sklearn library so we can leverage the use of confusion matrix's that isn't compatible with the STATSAPI library we used above.  \n",
    "\n",
    "We observe very similar scores for both our train/test model and holdset set model. Next we will explore a 10-fold cross validation to ensure our model is robust and not overfitting."
   ]
  },
  {
   "cell_type": "code",
   "execution_count": 57,
   "metadata": {},
   "outputs": [
    {
     "name": "stdout",
     "output_type": "stream",
     "text": [
      "Confusion Matrix for Train/Test\n",
      "--------------------------------\n",
      "              precision    recall  f1-score   support\n",
      "\n",
      "           0       0.76      0.88      0.81     72942\n",
      "           1       0.58      0.38      0.46     32833\n",
      "\n",
      "    accuracy                           0.72    105775\n",
      "   macro avg       0.67      0.63      0.64    105775\n",
      "weighted avg       0.70      0.72      0.70    105775\n",
      "\n",
      "Confusion Matrix for Holdout\n",
      "--------------------------------\n",
      "              precision    recall  f1-score   support\n",
      "\n",
      "           0       0.76      0.88      0.82     40568\n",
      "           1       0.59      0.38      0.46     18196\n",
      "\n",
      "    accuracy                           0.73     58764\n",
      "   macro avg       0.67      0.63      0.64     58764\n",
      "weighted avg       0.71      0.73      0.71     58764\n",
      "\n"
     ]
    }
   ],
   "source": [
    "#Create predictions for test and holdout\n",
    "from sklearn.linear_model import LogisticRegression\n",
    "logreg = LogisticRegression(max_iter = 1000)\n",
    "\n",
    "#Columns\n",
    "#Set the right columns\n",
    "X_train=X_train[good_cols]\n",
    "X_test = X_test[good_cols]\n",
    "X_holdout=newdf_holdout[good_cols]\n",
    "y_holdout=newdf_holdout[['y']]\n",
    "\n",
    "#FIT\n",
    "logreg.fit(X_train, y_train.values.ravel())\n",
    "\n",
    "#Create predictions for test and holdout\n",
    "y_pred = logreg.predict(X_test)\n",
    "y_hold_pred = logreg.predict(X_holdout)\n",
    "\n",
    "#Classification matrix\n",
    "print('Confusion Matrix for Train/Test')\n",
    "print('--------------------------------')\n",
    "print(classification_report(y_test,y_pred))\n",
    "print('Confusion Matrix for Holdout')\n",
    "print('--------------------------------')\n",
    "print(classification_report(y_holdout,y_hold_pred))"
   ]
  },
  {
   "cell_type": "markdown",
   "metadata": {},
   "source": [
    "Our 10-fold cross validation results hold well and we can comfortably move forward with this model."
   ]
  },
  {
   "cell_type": "code",
   "execution_count": 60,
   "metadata": {},
   "outputs": [
    {
     "name": "stdout",
     "output_type": "stream",
     "text": [
      "Results of 10 Fold Cross Validation\n",
      "[0.72181517 0.72297329 0.71593004 0.72167336 0.72193335 0.71713543\n",
      " 0.72190971 0.72448594 0.72325037 0.7156397 ]\n",
      "--------------------------------\n",
      "Average of 10 Fold Cross Validation\n",
      "0.7206746369417885\n"
     ]
    }
   ],
   "source": [
    "#10 fold Cross validation of model fit\n",
    "ten_fold = cross_val_score(logreg, X_train, y_train.values.ravel(), cv=10)\n",
    "print('Results of 10 Fold Cross Validation')\n",
    "print(ten_fold)\n",
    "print('--------------------------------')\n",
    "print('Average of 10 Fold Cross Validation')\n",
    "print(np.mean(ten_fold))"
   ]
  },
  {
   "cell_type": "markdown",
   "metadata": {},
   "source": [
    "Here we plot out ROC curve for the logistic regression model.  \n",
    "\n",
    "Next steps is to utilize the use of hyperparameters. We will find the most optimal parameters in the next iteration to see if we can improve our metrics."
   ]
  },
  {
   "cell_type": "code",
   "execution_count": 61,
   "metadata": {},
   "outputs": [
    {
     "data": {
      "image/png": "[encoded data removed]",
      "text/plain": [
       "<Figure size 432x288 with 1 Axes>"
      ]
     },
     "metadata": {
      "needs_background": "light"
     },
     "output_type": "display_data"
    }
   ],
   "source": [
    "#ROC Curve\n",
    "\n",
    "lm_roc_auc = roc_auc_score(y_test, logreg.predict(X_test))\n",
    "fpr, tpr, thresholds = roc_curve(y_test, logreg.predict_proba(X_test)[:,1])\n",
    "plt.figure()\n",
    "plt.plot(fpr, tpr, label='Logistic Regression (area = %0.2f)' % lm_roc_auc)\n",
    "plt.plot([0, 1], [0, 1],'r--')\n",
    "plt.xlim([0.0, 1.0])\n",
    "plt.ylim([0.0, 1.05])\n",
    "plt.xlabel('False Positive Rate')\n",
    "plt.ylabel('True Positive Rate')\n",
    "plt.title('Receiver operating characteristic')\n",
    "plt.legend(loc=\"lower right\")\n",
    "plt.savefig('RF_ROC')\n",
    "plt.show()"
   ]
  },
  {
   "cell_type": "markdown",
   "metadata": {},
   "source": [
    "### Modeling and Evaluation 3"
   ]
  },
  {
   "cell_type": "markdown",
   "metadata": {},
   "source": [
    "#### Hyperparameter Tuning"
   ]
  },
  {
   "cell_type": "code",
   "execution_count": null,
   "metadata": {},
   "outputs": [],
   "source": []
  }
 ],
 "metadata": {
  "kernelspec": {
   "display_name": "Python 3",
   "language": "python",
   "name": "python3"
  },
  "language_info": {
   "codemirror_mode": {
    "name": "ipython",
    "version": 3
   },
   "file_extension": ".py",
   "mimetype": "text/x-python",
   "name": "python",
   "nbconvert_exporter": "python",
   "pygments_lexer": "ipython3",
   "version": "3.7.3"
  }
 },
 "nbformat": 4,
 "nbformat_minor": 4
}
