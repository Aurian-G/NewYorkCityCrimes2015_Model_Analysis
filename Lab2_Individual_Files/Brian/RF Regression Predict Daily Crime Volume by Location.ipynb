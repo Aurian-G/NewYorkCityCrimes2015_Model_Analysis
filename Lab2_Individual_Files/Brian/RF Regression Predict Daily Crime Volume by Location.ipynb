{
 "cells": [
  {
   "cell_type": "code",
   "execution_count": 2,
   "metadata": {},
   "outputs": [
    {
     "name": "stderr",
     "output_type": "stream",
     "text": [
      "In C:\\Users\\BGaither\\Anaconda3\\lib\\site-packages\\matplotlib\\mpl-data\\stylelib\\_classic_test.mplstyle: \n",
      "The text.latex.preview rcparam was deprecated in Matplotlib 3.3 and will be removed two minor releases later.\n",
      "In C:\\Users\\BGaither\\Anaconda3\\lib\\site-packages\\matplotlib\\mpl-data\\stylelib\\_classic_test.mplstyle: \n",
      "The mathtext.fallback_to_cm rcparam was deprecated in Matplotlib 3.3 and will be removed two minor releases later.\n",
      "In C:\\Users\\BGaither\\Anaconda3\\lib\\site-packages\\matplotlib\\mpl-data\\stylelib\\_classic_test.mplstyle: Support for setting the 'mathtext.fallback_to_cm' rcParam is deprecated since 3.3 and will be removed two minor releases later; use 'mathtext.fallback : 'cm' instead.\n",
      "In C:\\Users\\BGaither\\Anaconda3\\lib\\site-packages\\matplotlib\\mpl-data\\stylelib\\_classic_test.mplstyle: \n",
      "The validate_bool_maybe_none function was deprecated in Matplotlib 3.3 and will be removed two minor releases later.\n",
      "In C:\\Users\\BGaither\\Anaconda3\\lib\\site-packages\\matplotlib\\mpl-data\\stylelib\\_classic_test.mplstyle: \n",
      "The savefig.jpeg_quality rcparam was deprecated in Matplotlib 3.3 and will be removed two minor releases later.\n",
      "In C:\\Users\\BGaither\\Anaconda3\\lib\\site-packages\\matplotlib\\mpl-data\\stylelib\\_classic_test.mplstyle: \n",
      "The keymap.all_axes rcparam was deprecated in Matplotlib 3.3 and will be removed two minor releases later.\n",
      "In C:\\Users\\BGaither\\Anaconda3\\lib\\site-packages\\matplotlib\\mpl-data\\stylelib\\_classic_test.mplstyle: \n",
      "The animation.avconv_path rcparam was deprecated in Matplotlib 3.3 and will be removed two minor releases later.\n",
      "In C:\\Users\\BGaither\\Anaconda3\\lib\\site-packages\\matplotlib\\mpl-data\\stylelib\\_classic_test.mplstyle: \n",
      "The animation.avconv_args rcparam was deprecated in Matplotlib 3.3 and will be removed two minor releases later.\n"
     ]
    }
   ],
   "source": [
    "import altair as alt\n",
    "import pandas as pd\n",
    "import numpy as np\n",
    "from sklearn.model_selection import train_test_split\n",
    "import matplotlib.pyplot as plt\n",
    "import seaborn as sns\n",
    "from sklearn import metrics"
   ]
  },
  {
   "cell_type": "markdown",
   "metadata": {},
   "source": [
    "**Goal:**  \n",
    "We want to develop a model that will predict crime volume for different NYC Borough locations for different times of day around the year. "
   ]
  },
  {
   "cell_type": "code",
   "execution_count": 3,
   "metadata": {},
   "outputs": [],
   "source": [
    "#load csv\n",
    "file_path = \"C:\\\\Users\\\\BGaither\\\\OneDrive - McAfee\\\\Other\\\\school\\\\SMU\\\\Courses\\\\Fall 2020\\\\Machine Learning I\\\\Lab 2\\\\Data\\\\Training_and_Test_Set.csv\"\n",
    "#load Data into Pandas\n",
    "df_Crime = pd.read_csv(file_path)"
   ]
  },
  {
   "cell_type": "code",
   "execution_count": 4,
   "metadata": {},
   "outputs": [
    {
     "data": {
      "text/html": [
       "<div>\n",
       "<style scoped>\n",
       "    .dataframe tbody tr th:only-of-type {\n",
       "        vertical-align: middle;\n",
       "    }\n",
       "\n",
       "    .dataframe tbody tr th {\n",
       "        vertical-align: top;\n",
       "    }\n",
       "\n",
       "    .dataframe thead th {\n",
       "        text-align: right;\n",
       "    }\n",
       "</style>\n",
       "<table border=\"1\" class=\"dataframe\">\n",
       "  <thead>\n",
       "    <tr style=\"text-align: right;\">\n",
       "      <th></th>\n",
       "      <th>CMPLNT_FR_DT</th>\n",
       "      <th>Daytime</th>\n",
       "      <th>Day_Name</th>\n",
       "      <th>Month</th>\n",
       "      <th>Day</th>\n",
       "      <th>Year</th>\n",
       "      <th>Season</th>\n",
       "      <th>GeoCell</th>\n",
       "      <th>BORO_NM</th>\n",
       "      <th>PRCP</th>\n",
       "      <th>...</th>\n",
       "      <th>TMIN</th>\n",
       "      <th>TMAX</th>\n",
       "      <th>Population</th>\n",
       "      <th>PC_INCOME</th>\n",
       "      <th>Hm_Sls_Price_Range</th>\n",
       "      <th>Holiday</th>\n",
       "      <th>Event</th>\n",
       "      <th>is_Holiday</th>\n",
       "      <th>is_Event</th>\n",
       "      <th>count_cmplnt</th>\n",
       "    </tr>\n",
       "  </thead>\n",
       "  <tbody>\n",
       "    <tr>\n",
       "      <th>0</th>\n",
       "      <td>11/26/2014</td>\n",
       "      <td>Morning</td>\n",
       "      <td>Wednesday</td>\n",
       "      <td>November</td>\n",
       "      <td>26.0</td>\n",
       "      <td>2014.0</td>\n",
       "      <td>Fall</td>\n",
       "      <td>66.0</td>\n",
       "      <td>QUEENS</td>\n",
       "      <td>1.24</td>\n",
       "      <td>...</td>\n",
       "      <td>34</td>\n",
       "      <td>51</td>\n",
       "      <td>2,250,002</td>\n",
       "      <td>40997</td>\n",
       "      <td>Medium</td>\n",
       "      <td>NaN</td>\n",
       "      <td>NaN</td>\n",
       "      <td>0</td>\n",
       "      <td>0</td>\n",
       "      <td>1</td>\n",
       "    </tr>\n",
       "    <tr>\n",
       "      <th>1</th>\n",
       "      <td>12/1/2014</td>\n",
       "      <td>Late Night</td>\n",
       "      <td>Monday</td>\n",
       "      <td>December</td>\n",
       "      <td>1.0</td>\n",
       "      <td>2014.0</td>\n",
       "      <td>Winter</td>\n",
       "      <td>60.0</td>\n",
       "      <td>QUEENS</td>\n",
       "      <td>0.09</td>\n",
       "      <td>...</td>\n",
       "      <td>42</td>\n",
       "      <td>65</td>\n",
       "      <td>2,250,002</td>\n",
       "      <td>40997</td>\n",
       "      <td>Medium</td>\n",
       "      <td>NaN</td>\n",
       "      <td>NaN</td>\n",
       "      <td>0</td>\n",
       "      <td>0</td>\n",
       "      <td>1</td>\n",
       "    </tr>\n",
       "    <tr>\n",
       "      <th>2</th>\n",
       "      <td>11/10/2015</td>\n",
       "      <td>Morning</td>\n",
       "      <td>Tuesday</td>\n",
       "      <td>November</td>\n",
       "      <td>10.0</td>\n",
       "      <td>2015.0</td>\n",
       "      <td>Fall</td>\n",
       "      <td>15.0</td>\n",
       "      <td>BROOKLYN</td>\n",
       "      <td>0.26</td>\n",
       "      <td>...</td>\n",
       "      <td>51</td>\n",
       "      <td>57</td>\n",
       "      <td>2,552,911</td>\n",
       "      <td>43915</td>\n",
       "      <td>High</td>\n",
       "      <td>NaN</td>\n",
       "      <td>NaN</td>\n",
       "      <td>0</td>\n",
       "      <td>0</td>\n",
       "      <td>2</td>\n",
       "    </tr>\n",
       "    <tr>\n",
       "      <th>3</th>\n",
       "      <td>2/4/2014</td>\n",
       "      <td>Morning</td>\n",
       "      <td>Tuesday</td>\n",
       "      <td>February</td>\n",
       "      <td>4.0</td>\n",
       "      <td>2014.0</td>\n",
       "      <td>Winter</td>\n",
       "      <td>48.0</td>\n",
       "      <td>QUEENS</td>\n",
       "      <td>0.00</td>\n",
       "      <td>...</td>\n",
       "      <td>22</td>\n",
       "      <td>35</td>\n",
       "      <td>2,250,002</td>\n",
       "      <td>40997</td>\n",
       "      <td>Medium</td>\n",
       "      <td>NaN</td>\n",
       "      <td>NaN</td>\n",
       "      <td>0</td>\n",
       "      <td>0</td>\n",
       "      <td>3</td>\n",
       "    </tr>\n",
       "    <tr>\n",
       "      <th>4</th>\n",
       "      <td>8/25/2015</td>\n",
       "      <td>Late Night</td>\n",
       "      <td>Tuesday</td>\n",
       "      <td>August</td>\n",
       "      <td>25.0</td>\n",
       "      <td>2015.0</td>\n",
       "      <td>Summer</td>\n",
       "      <td>35.0</td>\n",
       "      <td>BROOKLYN</td>\n",
       "      <td>0.00</td>\n",
       "      <td>...</td>\n",
       "      <td>73</td>\n",
       "      <td>90</td>\n",
       "      <td>2,552,911</td>\n",
       "      <td>43915</td>\n",
       "      <td>High</td>\n",
       "      <td>NaN</td>\n",
       "      <td>NaN</td>\n",
       "      <td>0</td>\n",
       "      <td>0</td>\n",
       "      <td>1</td>\n",
       "    </tr>\n",
       "  </tbody>\n",
       "</table>\n",
       "<p>5 rows × 21 columns</p>\n",
       "</div>"
      ],
      "text/plain": [
       "  CMPLNT_FR_DT     Daytime   Day_Name     Month   Day    Year  Season  \\\n",
       "0   11/26/2014     Morning  Wednesday  November  26.0  2014.0    Fall   \n",
       "1    12/1/2014  Late Night     Monday  December   1.0  2014.0  Winter   \n",
       "2   11/10/2015     Morning    Tuesday  November  10.0  2015.0    Fall   \n",
       "3     2/4/2014     Morning    Tuesday  February   4.0  2014.0  Winter   \n",
       "4    8/25/2015  Late Night    Tuesday    August  25.0  2015.0  Summer   \n",
       "\n",
       "   GeoCell   BORO_NM  PRCP  ...  TMIN  TMAX  Population PC_INCOME  \\\n",
       "0     66.0    QUEENS  1.24  ...    34    51   2,250,002     40997   \n",
       "1     60.0    QUEENS  0.09  ...    42    65   2,250,002     40997   \n",
       "2     15.0  BROOKLYN  0.26  ...    51    57   2,552,911     43915   \n",
       "3     48.0    QUEENS  0.00  ...    22    35   2,250,002     40997   \n",
       "4     35.0  BROOKLYN  0.00  ...    73    90   2,552,911     43915   \n",
       "\n",
       "   Hm_Sls_Price_Range Holiday Event is_Holiday  is_Event  count_cmplnt  \n",
       "0              Medium     NaN   NaN          0         0             1  \n",
       "1              Medium     NaN   NaN          0         0             1  \n",
       "2                High     NaN   NaN          0         0             2  \n",
       "3              Medium     NaN   NaN          0         0             3  \n",
       "4                High     NaN   NaN          0         0             1  \n",
       "\n",
       "[5 rows x 21 columns]"
      ]
     },
     "execution_count": 4,
     "metadata": {},
     "output_type": "execute_result"
    }
   ],
   "source": [
    "df_Crime.head(5)"
   ]
  },
  {
   "cell_type": "code",
   "execution_count": 5,
   "metadata": {},
   "outputs": [
    {
     "data": {
      "text/plain": [
       "(170650, 21)"
      ]
     },
     "execution_count": 5,
     "metadata": {},
     "output_type": "execute_result"
    }
   ],
   "source": [
    "df_Crime.shape"
   ]
  },
  {
   "cell_type": "code",
   "execution_count": 6,
   "metadata": {},
   "outputs": [
    {
     "data": {
      "text/plain": [
       "CMPLNT_FR_DT               0\n",
       "Daytime                    0\n",
       "Day_Name                   0\n",
       "Month                      0\n",
       "Day                        0\n",
       "Year                       0\n",
       "Season                     0\n",
       "GeoCell                    0\n",
       "BORO_NM                    0\n",
       "PRCP                       0\n",
       "SNOW                       0\n",
       "TMIN                       0\n",
       "TMAX                       0\n",
       "Population                 0\n",
       "PC_INCOME                  0\n",
       "Hm_Sls_Price_Range         0\n",
       "Holiday               166062\n",
       "Event                 144780\n",
       "is_Holiday                 0\n",
       "is_Event                   0\n",
       "count_cmplnt               0\n",
       "dtype: int64"
      ]
     },
     "execution_count": 6,
     "metadata": {},
     "output_type": "execute_result"
    }
   ],
   "source": [
    "len(df_Crime) - df_Crime.count()"
   ]
  },
  {
   "cell_type": "code",
   "execution_count": 7,
   "metadata": {},
   "outputs": [],
   "source": [
    "#since the only NANs are in Holiday and Event, we'll replace those NaNs with 'None'\n",
    "df_Crime = df_Crime.fillna('None')"
   ]
  },
  {
   "cell_type": "code",
   "execution_count": 8,
   "metadata": {},
   "outputs": [
    {
     "data": {
      "text/plain": [
       "CMPLNT_FR_DT          0\n",
       "Daytime               0\n",
       "Day_Name              0\n",
       "Month                 0\n",
       "Day                   0\n",
       "Year                  0\n",
       "Season                0\n",
       "GeoCell               0\n",
       "BORO_NM               0\n",
       "PRCP                  0\n",
       "SNOW                  0\n",
       "TMIN                  0\n",
       "TMAX                  0\n",
       "Population            0\n",
       "PC_INCOME             0\n",
       "Hm_Sls_Price_Range    0\n",
       "Holiday               0\n",
       "Event                 0\n",
       "is_Holiday            0\n",
       "is_Event              0\n",
       "count_cmplnt          0\n",
       "dtype: int64"
      ]
     },
     "execution_count": 8,
     "metadata": {},
     "output_type": "execute_result"
    }
   ],
   "source": [
    "len(df_Crime) - df_Crime.count()"
   ]
  },
  {
   "cell_type": "code",
   "execution_count": 9,
   "metadata": {},
   "outputs": [
    {
     "name": "stdout",
     "output_type": "stream",
     "text": [
      "CMPLNT_FR_DT\n",
      "Daytime\n",
      "Day_Name\n",
      "Month\n",
      "Day\n",
      "Year\n",
      "Season\n",
      "GeoCell\n",
      "BORO_NM\n",
      "PRCP\n",
      "SNOW\n",
      "TMIN\n",
      "TMAX\n",
      "Population\n",
      "PC_INCOME\n",
      "Hm_Sls_Price_Range\n",
      "Holiday\n",
      "Event\n",
      "is_Holiday\n",
      "is_Event\n",
      "count_cmplnt\n"
     ]
    }
   ],
   "source": [
    "for col in df_Crime.columns:\n",
    "    print(col)"
   ]
  },
  {
   "cell_type": "markdown",
   "metadata": {},
   "source": [
    "### Data preprocessing 1\n",
    "\n",
    "For initial model development and feature analysis, the features were reduced down to a subset that sought to avoid data leakage and maximize liklihood of importance based on whether or not the value changed daily.  We dropped features such as population, income and home sales prices as they were annual figures so didn't change on a daily basis, thus do not have discriminatory power.\n",
    "\n",
    "We chose to one hot encode the categorical features and scale the continuous variables.\n",
    "\n",
    "One Hot encoded features:\n",
    "- Daytime\n",
    "- Day_Name\n",
    "- Month\n",
    "- Season\n",
    "- BORO_NM\n",
    "- Holiday\n",
    "- Event\n",
    "\n",
    "Scaled features:\n",
    "- PRCP\n",
    "- SNOW\n",
    "- TMIN\n",
    "- TMAX\n",
    "\n",
    "Features left unchanged:\n",
    "- is_Holiday\n",
    "- is_Event\n",
    "- Day\n",
    "- Year\n",
    "- GeoCell\n",
    "\n",
    "These features were used for initial model development.  In Data Preparation Part 2, we detail which are the final features selected based in Gini-Importance along with their meaning."
   ]
  },
  {
   "cell_type": "code",
   "execution_count": 10,
   "metadata": {},
   "outputs": [],
   "source": [
    "#drop population, PC_Income and Hm_Sls_Price_Range as they do not vary daily\n",
    "#drop cmplnt_fr_dt as that is captured by month, day, and year\n",
    "df_Crime = df_Crime[['Daytime','Day_Name','Month','Day','Year','Season','GeoCell','BORO_NM','PRCP','SNOW','TMIN','TMAX','Holiday','Event','is_Holiday','is_Event','count_cmplnt']]"
   ]
  },
  {
   "cell_type": "code",
   "execution_count": 11,
   "metadata": {},
   "outputs": [],
   "source": [
    "X = df_Crime[['Daytime','Day_Name','Month','Day','Year','Season','GeoCell','BORO_NM','PRCP','SNOW','TMIN','TMAX','Holiday','Event','is_Holiday','is_Event']]\n",
    "y = df_Crime[['count_cmplnt']]"
   ]
  },
  {
   "cell_type": "code",
   "execution_count": 12,
   "metadata": {},
   "outputs": [],
   "source": [
    "#one hot encode the categorical features\n",
    "from sklearn.preprocessing import StandardScaler, OneHotEncoder\n",
    "\n",
    "columns_to_encode = ['Daytime','Day_Name','Month','Season','BORO_NM','Holiday','Event']\n",
    "columns_no_change = ['is_Holiday','is_Event','Day','Year','GeoCell','PRCP','SNOW','TMIN','TMAX']\n",
    "\n",
    "df_existing = X[columns_no_change]\n",
    "existing_cols = df_existing.to_numpy()\n",
    "\n",
    "#encoder \n",
    "ohe = OneHotEncoder(sparse=False)\n",
    "\n",
    "#ohe separate columns\n",
    "encoded_columns = ohe.fit_transform(X[columns_to_encode])\n",
    "\n",
    "#concatenate processed columns back together for X\n",
    "X = np.concatenate([encoded_columns,existing_cols],axis=1)\n",
    "\n",
    "#get the column names back to the dataframe\n",
    "df1 = pd.DataFrame(X)\n",
    "feature_names = ohe.get_feature_names().tolist()\n",
    "col_names = feature_names+columns_no_change\n",
    "df1.columns = col_names\n",
    "X = df1\n"
   ]
  },
  {
   "cell_type": "code",
   "execution_count": 13,
   "metadata": {},
   "outputs": [],
   "source": [
    "#scale specific columns\n",
    "from sklearn.preprocessing import StandardScaler, OneHotEncoder\n",
    "\n",
    "#go ahead and split the data so we can scale data separately on training and then on test so we don't have leakage\n",
    "X_train, X_test, y_train, y_test = train_test_split(X, y, test_size=0.2, random_state=0)\n",
    "\n",
    "columns_to_scale = ['PRCP','SNOW','TMIN','TMAX']\n",
    "#get a list of all columns without the columns to scale above\n",
    "lstCols = X.columns.values.tolist()\n",
    "lstCols.remove('PRCP')\n",
    "lstCols.remove('SNOW')\n",
    "lstCols.remove('TMIN')\n",
    "lstCols.remove('TMAX')\n",
    "columns_no_change = lstCols\n",
    "\n",
    "df_existing = X_train[columns_no_change]\n",
    "existing_cols = df_existing.to_numpy()\n",
    "\n",
    "#scaler\n",
    "scaler = StandardScaler()\n",
    "\n",
    "#scale and encode separate columns\n",
    "scaled_columns = scaler.fit_transform(X_train[columns_to_scale])\n",
    "\n",
    "#concatenate processed columns back together for X_train\n",
    "X_train_np = np.concatenate([scaled_columns,existing_cols],axis=1)\n",
    "\n",
    "df_existing = X_test[columns_no_change]\n",
    "existing_cols = df_existing.to_numpy()\n",
    "\n",
    "#separately scale X_test\n",
    "scaled_columns = scaler.transform(X_test[columns_to_scale]) #use the fit scaler object from X_train to scale X_test\n",
    "\n",
    "X_test_np = np.concatenate([scaled_columns,existing_cols],axis=1)"
   ]
  },
  {
   "cell_type": "code",
   "execution_count": 14,
   "metadata": {},
   "outputs": [],
   "source": [
    "#convert the numpy array back to a pandas dataframe for X_train\n",
    "df1 = pd.DataFrame(X_train_np)\n",
    "#get the column names back to the dataframe\n",
    "col_names = columns_to_scale+columns_no_change\n",
    "df1.columns = col_names\n",
    "X_train = df1\n",
    "\n",
    "#convert the numpy array back to a pandas dataframe for X_test\n",
    "df1 = pd.DataFrame(X_test_np)\n",
    "#get the column names back to the dataframe\n",
    "col_names = columns_to_scale+columns_no_change\n",
    "df1.columns = col_names\n",
    "X_test = df1"
   ]
  },
  {
   "cell_type": "code",
   "execution_count": 15,
   "metadata": {},
   "outputs": [
    {
     "data": {
      "text/html": [
       "<div>\n",
       "<style scoped>\n",
       "    .dataframe tbody tr th:only-of-type {\n",
       "        vertical-align: middle;\n",
       "    }\n",
       "\n",
       "    .dataframe tbody tr th {\n",
       "        vertical-align: top;\n",
       "    }\n",
       "\n",
       "    .dataframe thead th {\n",
       "        text-align: right;\n",
       "    }\n",
       "</style>\n",
       "<table border=\"1\" class=\"dataframe\">\n",
       "  <thead>\n",
       "    <tr style=\"text-align: right;\">\n",
       "      <th></th>\n",
       "      <th>PRCP</th>\n",
       "      <th>SNOW</th>\n",
       "      <th>TMIN</th>\n",
       "      <th>TMAX</th>\n",
       "      <th>x0_Day</th>\n",
       "      <th>x0_Early Morning</th>\n",
       "      <th>x0_Evening</th>\n",
       "      <th>x0_Late Night</th>\n",
       "      <th>x0_Morning</th>\n",
       "      <th>x0_Night</th>\n",
       "      <th>...</th>\n",
       "      <th>x6_SoHo Festival</th>\n",
       "      <th>x6_St Patricks Day Parade</th>\n",
       "      <th>x6_Thanksgiving Day Parade</th>\n",
       "      <th>x6_US Open Tennis</th>\n",
       "      <th>x6_Westminster Kennel Club Dog Show</th>\n",
       "      <th>is_Holiday</th>\n",
       "      <th>is_Event</th>\n",
       "      <th>Day</th>\n",
       "      <th>Year</th>\n",
       "      <th>GeoCell</th>\n",
       "    </tr>\n",
       "  </thead>\n",
       "  <tbody>\n",
       "    <tr>\n",
       "      <th>0</th>\n",
       "      <td>0.087801</td>\n",
       "      <td>1.665900</td>\n",
       "      <td>-1.276171</td>\n",
       "      <td>-1.287526</td>\n",
       "      <td>0.0</td>\n",
       "      <td>0.0</td>\n",
       "      <td>1.0</td>\n",
       "      <td>0.0</td>\n",
       "      <td>0.0</td>\n",
       "      <td>0.0</td>\n",
       "      <td>...</td>\n",
       "      <td>0.0</td>\n",
       "      <td>0.0</td>\n",
       "      <td>0.0</td>\n",
       "      <td>0.0</td>\n",
       "      <td>0.0</td>\n",
       "      <td>0.0</td>\n",
       "      <td>0.0</td>\n",
       "      <td>18.0</td>\n",
       "      <td>2014.0</td>\n",
       "      <td>78.0</td>\n",
       "    </tr>\n",
       "    <tr>\n",
       "      <th>1</th>\n",
       "      <td>-0.350542</td>\n",
       "      <td>-0.154153</td>\n",
       "      <td>0.781596</td>\n",
       "      <td>0.698004</td>\n",
       "      <td>0.0</td>\n",
       "      <td>0.0</td>\n",
       "      <td>0.0</td>\n",
       "      <td>1.0</td>\n",
       "      <td>0.0</td>\n",
       "      <td>0.0</td>\n",
       "      <td>...</td>\n",
       "      <td>0.0</td>\n",
       "      <td>0.0</td>\n",
       "      <td>0.0</td>\n",
       "      <td>0.0</td>\n",
       "      <td>0.0</td>\n",
       "      <td>0.0</td>\n",
       "      <td>0.0</td>\n",
       "      <td>14.0</td>\n",
       "      <td>2014.0</td>\n",
       "      <td>78.0</td>\n",
       "    </tr>\n",
       "    <tr>\n",
       "      <th>2</th>\n",
       "      <td>-0.350542</td>\n",
       "      <td>-0.154153</td>\n",
       "      <td>-0.219480</td>\n",
       "      <td>0.123245</td>\n",
       "      <td>1.0</td>\n",
       "      <td>0.0</td>\n",
       "      <td>0.0</td>\n",
       "      <td>0.0</td>\n",
       "      <td>0.0</td>\n",
       "      <td>0.0</td>\n",
       "      <td>...</td>\n",
       "      <td>0.0</td>\n",
       "      <td>0.0</td>\n",
       "      <td>0.0</td>\n",
       "      <td>0.0</td>\n",
       "      <td>0.0</td>\n",
       "      <td>0.0</td>\n",
       "      <td>0.0</td>\n",
       "      <td>11.0</td>\n",
       "      <td>2014.0</td>\n",
       "      <td>98.0</td>\n",
       "    </tr>\n",
       "    <tr>\n",
       "      <th>3</th>\n",
       "      <td>-0.323145</td>\n",
       "      <td>-0.154153</td>\n",
       "      <td>1.059673</td>\n",
       "      <td>1.011509</td>\n",
       "      <td>0.0</td>\n",
       "      <td>0.0</td>\n",
       "      <td>1.0</td>\n",
       "      <td>0.0</td>\n",
       "      <td>0.0</td>\n",
       "      <td>0.0</td>\n",
       "      <td>...</td>\n",
       "      <td>0.0</td>\n",
       "      <td>0.0</td>\n",
       "      <td>0.0</td>\n",
       "      <td>0.0</td>\n",
       "      <td>0.0</td>\n",
       "      <td>0.0</td>\n",
       "      <td>0.0</td>\n",
       "      <td>9.0</td>\n",
       "      <td>2015.0</td>\n",
       "      <td>87.0</td>\n",
       "    </tr>\n",
       "    <tr>\n",
       "      <th>4</th>\n",
       "      <td>-0.049181</td>\n",
       "      <td>-0.154153</td>\n",
       "      <td>1.282134</td>\n",
       "      <td>1.011509</td>\n",
       "      <td>0.0</td>\n",
       "      <td>0.0</td>\n",
       "      <td>0.0</td>\n",
       "      <td>0.0</td>\n",
       "      <td>1.0</td>\n",
       "      <td>0.0</td>\n",
       "      <td>...</td>\n",
       "      <td>0.0</td>\n",
       "      <td>0.0</td>\n",
       "      <td>0.0</td>\n",
       "      <td>0.0</td>\n",
       "      <td>0.0</td>\n",
       "      <td>0.0</td>\n",
       "      <td>0.0</td>\n",
       "      <td>29.0</td>\n",
       "      <td>2015.0</td>\n",
       "      <td>25.0</td>\n",
       "    </tr>\n",
       "  </tbody>\n",
       "</table>\n",
       "<p>5 rows × 70 columns</p>\n",
       "</div>"
      ],
      "text/plain": [
       "       PRCP      SNOW      TMIN      TMAX  x0_Day  x0_Early Morning  \\\n",
       "0  0.087801  1.665900 -1.276171 -1.287526     0.0               0.0   \n",
       "1 -0.350542 -0.154153  0.781596  0.698004     0.0               0.0   \n",
       "2 -0.350542 -0.154153 -0.219480  0.123245     1.0               0.0   \n",
       "3 -0.323145 -0.154153  1.059673  1.011509     0.0               0.0   \n",
       "4 -0.049181 -0.154153  1.282134  1.011509     0.0               0.0   \n",
       "\n",
       "   x0_Evening  x0_Late Night  x0_Morning  x0_Night  ...  x6_SoHo Festival  \\\n",
       "0         1.0            0.0         0.0       0.0  ...               0.0   \n",
       "1         0.0            1.0         0.0       0.0  ...               0.0   \n",
       "2         0.0            0.0         0.0       0.0  ...               0.0   \n",
       "3         1.0            0.0         0.0       0.0  ...               0.0   \n",
       "4         0.0            0.0         1.0       0.0  ...               0.0   \n",
       "\n",
       "   x6_St Patricks Day Parade  x6_Thanksgiving Day Parade  x6_US Open Tennis  \\\n",
       "0                        0.0                         0.0                0.0   \n",
       "1                        0.0                         0.0                0.0   \n",
       "2                        0.0                         0.0                0.0   \n",
       "3                        0.0                         0.0                0.0   \n",
       "4                        0.0                         0.0                0.0   \n",
       "\n",
       "   x6_Westminster Kennel Club Dog Show  is_Holiday  is_Event   Day    Year  \\\n",
       "0                                  0.0         0.0       0.0  18.0  2014.0   \n",
       "1                                  0.0         0.0       0.0  14.0  2014.0   \n",
       "2                                  0.0         0.0       0.0  11.0  2014.0   \n",
       "3                                  0.0         0.0       0.0   9.0  2015.0   \n",
       "4                                  0.0         0.0       0.0  29.0  2015.0   \n",
       "\n",
       "   GeoCell  \n",
       "0     78.0  \n",
       "1     78.0  \n",
       "2     98.0  \n",
       "3     87.0  \n",
       "4     25.0  \n",
       "\n",
       "[5 rows x 70 columns]"
      ]
     },
     "execution_count": 15,
     "metadata": {},
     "output_type": "execute_result"
    }
   ],
   "source": [
    "X_train.head(5)"
   ]
  },
  {
   "cell_type": "code",
   "execution_count": 16,
   "metadata": {},
   "outputs": [
    {
     "data": {
      "text/html": [
       "<div>\n",
       "<style scoped>\n",
       "    .dataframe tbody tr th:only-of-type {\n",
       "        vertical-align: middle;\n",
       "    }\n",
       "\n",
       "    .dataframe tbody tr th {\n",
       "        vertical-align: top;\n",
       "    }\n",
       "\n",
       "    .dataframe thead th {\n",
       "        text-align: right;\n",
       "    }\n",
       "</style>\n",
       "<table border=\"1\" class=\"dataframe\">\n",
       "  <thead>\n",
       "    <tr style=\"text-align: right;\">\n",
       "      <th></th>\n",
       "      <th>PRCP</th>\n",
       "      <th>SNOW</th>\n",
       "      <th>TMIN</th>\n",
       "      <th>TMAX</th>\n",
       "      <th>x0_Day</th>\n",
       "      <th>x0_Early Morning</th>\n",
       "      <th>x0_Evening</th>\n",
       "      <th>x0_Late Night</th>\n",
       "      <th>x0_Morning</th>\n",
       "      <th>x0_Night</th>\n",
       "      <th>...</th>\n",
       "      <th>x6_SoHo Festival</th>\n",
       "      <th>x6_St Patricks Day Parade</th>\n",
       "      <th>x6_Thanksgiving Day Parade</th>\n",
       "      <th>x6_US Open Tennis</th>\n",
       "      <th>x6_Westminster Kennel Club Dog Show</th>\n",
       "      <th>is_Holiday</th>\n",
       "      <th>is_Event</th>\n",
       "      <th>Day</th>\n",
       "      <th>Year</th>\n",
       "      <th>GeoCell</th>\n",
       "    </tr>\n",
       "  </thead>\n",
       "  <tbody>\n",
       "    <tr>\n",
       "      <th>0</th>\n",
       "      <td>-0.240956</td>\n",
       "      <td>-0.032816</td>\n",
       "      <td>-1.776709</td>\n",
       "      <td>-1.653282</td>\n",
       "      <td>0.0</td>\n",
       "      <td>0.0</td>\n",
       "      <td>0.0</td>\n",
       "      <td>0.0</td>\n",
       "      <td>0.0</td>\n",
       "      <td>1.0</td>\n",
       "      <td>...</td>\n",
       "      <td>0.0</td>\n",
       "      <td>0.0</td>\n",
       "      <td>0.0</td>\n",
       "      <td>0.0</td>\n",
       "      <td>0.0</td>\n",
       "      <td>0.0</td>\n",
       "      <td>0.0</td>\n",
       "      <td>3.0</td>\n",
       "      <td>2014.0</td>\n",
       "      <td>37.0</td>\n",
       "    </tr>\n",
       "    <tr>\n",
       "      <th>1</th>\n",
       "      <td>-0.213560</td>\n",
       "      <td>-0.154153</td>\n",
       "      <td>-0.052634</td>\n",
       "      <td>0.227747</td>\n",
       "      <td>0.0</td>\n",
       "      <td>0.0</td>\n",
       "      <td>0.0</td>\n",
       "      <td>1.0</td>\n",
       "      <td>0.0</td>\n",
       "      <td>0.0</td>\n",
       "      <td>...</td>\n",
       "      <td>0.0</td>\n",
       "      <td>0.0</td>\n",
       "      <td>0.0</td>\n",
       "      <td>0.0</td>\n",
       "      <td>0.0</td>\n",
       "      <td>0.0</td>\n",
       "      <td>0.0</td>\n",
       "      <td>25.0</td>\n",
       "      <td>2015.0</td>\n",
       "      <td>36.0</td>\n",
       "    </tr>\n",
       "    <tr>\n",
       "      <th>2</th>\n",
       "      <td>-0.350542</td>\n",
       "      <td>-0.154153</td>\n",
       "      <td>1.282134</td>\n",
       "      <td>1.325013</td>\n",
       "      <td>1.0</td>\n",
       "      <td>0.0</td>\n",
       "      <td>0.0</td>\n",
       "      <td>0.0</td>\n",
       "      <td>0.0</td>\n",
       "      <td>0.0</td>\n",
       "      <td>...</td>\n",
       "      <td>0.0</td>\n",
       "      <td>0.0</td>\n",
       "      <td>0.0</td>\n",
       "      <td>0.0</td>\n",
       "      <td>0.0</td>\n",
       "      <td>0.0</td>\n",
       "      <td>0.0</td>\n",
       "      <td>12.0</td>\n",
       "      <td>2015.0</td>\n",
       "      <td>66.0</td>\n",
       "    </tr>\n",
       "    <tr>\n",
       "      <th>3</th>\n",
       "      <td>-0.350542</td>\n",
       "      <td>-0.154153</td>\n",
       "      <td>1.282134</td>\n",
       "      <td>1.325013</td>\n",
       "      <td>0.0</td>\n",
       "      <td>0.0</td>\n",
       "      <td>0.0</td>\n",
       "      <td>1.0</td>\n",
       "      <td>0.0</td>\n",
       "      <td>0.0</td>\n",
       "      <td>...</td>\n",
       "      <td>0.0</td>\n",
       "      <td>0.0</td>\n",
       "      <td>0.0</td>\n",
       "      <td>0.0</td>\n",
       "      <td>0.0</td>\n",
       "      <td>0.0</td>\n",
       "      <td>0.0</td>\n",
       "      <td>12.0</td>\n",
       "      <td>2015.0</td>\n",
       "      <td>29.0</td>\n",
       "    </tr>\n",
       "    <tr>\n",
       "      <th>4</th>\n",
       "      <td>0.306972</td>\n",
       "      <td>-0.154153</td>\n",
       "      <td>0.559135</td>\n",
       "      <td>0.175496</td>\n",
       "      <td>0.0</td>\n",
       "      <td>0.0</td>\n",
       "      <td>1.0</td>\n",
       "      <td>0.0</td>\n",
       "      <td>0.0</td>\n",
       "      <td>0.0</td>\n",
       "      <td>...</td>\n",
       "      <td>1.0</td>\n",
       "      <td>0.0</td>\n",
       "      <td>0.0</td>\n",
       "      <td>0.0</td>\n",
       "      <td>0.0</td>\n",
       "      <td>0.0</td>\n",
       "      <td>1.0</td>\n",
       "      <td>22.0</td>\n",
       "      <td>2014.0</td>\n",
       "      <td>48.0</td>\n",
       "    </tr>\n",
       "  </tbody>\n",
       "</table>\n",
       "<p>5 rows × 70 columns</p>\n",
       "</div>"
      ],
      "text/plain": [
       "       PRCP      SNOW      TMIN      TMAX  x0_Day  x0_Early Morning  \\\n",
       "0 -0.240956 -0.032816 -1.776709 -1.653282     0.0               0.0   \n",
       "1 -0.213560 -0.154153 -0.052634  0.227747     0.0               0.0   \n",
       "2 -0.350542 -0.154153  1.282134  1.325013     1.0               0.0   \n",
       "3 -0.350542 -0.154153  1.282134  1.325013     0.0               0.0   \n",
       "4  0.306972 -0.154153  0.559135  0.175496     0.0               0.0   \n",
       "\n",
       "   x0_Evening  x0_Late Night  x0_Morning  x0_Night  ...  x6_SoHo Festival  \\\n",
       "0         0.0            0.0         0.0       1.0  ...               0.0   \n",
       "1         0.0            1.0         0.0       0.0  ...               0.0   \n",
       "2         0.0            0.0         0.0       0.0  ...               0.0   \n",
       "3         0.0            1.0         0.0       0.0  ...               0.0   \n",
       "4         1.0            0.0         0.0       0.0  ...               1.0   \n",
       "\n",
       "   x6_St Patricks Day Parade  x6_Thanksgiving Day Parade  x6_US Open Tennis  \\\n",
       "0                        0.0                         0.0                0.0   \n",
       "1                        0.0                         0.0                0.0   \n",
       "2                        0.0                         0.0                0.0   \n",
       "3                        0.0                         0.0                0.0   \n",
       "4                        0.0                         0.0                0.0   \n",
       "\n",
       "   x6_Westminster Kennel Club Dog Show  is_Holiday  is_Event   Day    Year  \\\n",
       "0                                  0.0         0.0       0.0   3.0  2014.0   \n",
       "1                                  0.0         0.0       0.0  25.0  2015.0   \n",
       "2                                  0.0         0.0       0.0  12.0  2015.0   \n",
       "3                                  0.0         0.0       0.0  12.0  2015.0   \n",
       "4                                  0.0         0.0       1.0  22.0  2014.0   \n",
       "\n",
       "   GeoCell  \n",
       "0     37.0  \n",
       "1     36.0  \n",
       "2     66.0  \n",
       "3     29.0  \n",
       "4     48.0  \n",
       "\n",
       "[5 rows x 70 columns]"
      ]
     },
     "execution_count": 16,
     "metadata": {},
     "output_type": "execute_result"
    }
   ],
   "source": [
    "X_test.head(5)"
   ]
  },
  {
   "cell_type": "code",
   "execution_count": 17,
   "metadata": {},
   "outputs": [
    {
     "data": {
      "text/html": [
       "<div>\n",
       "<style scoped>\n",
       "    .dataframe tbody tr th:only-of-type {\n",
       "        vertical-align: middle;\n",
       "    }\n",
       "\n",
       "    .dataframe tbody tr th {\n",
       "        vertical-align: top;\n",
       "    }\n",
       "\n",
       "    .dataframe thead th {\n",
       "        text-align: right;\n",
       "    }\n",
       "</style>\n",
       "<table border=\"1\" class=\"dataframe\">\n",
       "  <thead>\n",
       "    <tr style=\"text-align: right;\">\n",
       "      <th></th>\n",
       "      <th>count_cmplnt</th>\n",
       "    </tr>\n",
       "  </thead>\n",
       "  <tbody>\n",
       "    <tr>\n",
       "      <th>count</th>\n",
       "      <td>136520.000000</td>\n",
       "    </tr>\n",
       "    <tr>\n",
       "      <th>mean</th>\n",
       "      <td>4.711742</td>\n",
       "    </tr>\n",
       "    <tr>\n",
       "      <th>std</th>\n",
       "      <td>5.144352</td>\n",
       "    </tr>\n",
       "    <tr>\n",
       "      <th>min</th>\n",
       "      <td>1.000000</td>\n",
       "    </tr>\n",
       "    <tr>\n",
       "      <th>25%</th>\n",
       "      <td>1.000000</td>\n",
       "    </tr>\n",
       "    <tr>\n",
       "      <th>50%</th>\n",
       "      <td>3.000000</td>\n",
       "    </tr>\n",
       "    <tr>\n",
       "      <th>75%</th>\n",
       "      <td>6.000000</td>\n",
       "    </tr>\n",
       "    <tr>\n",
       "      <th>max</th>\n",
       "      <td>132.000000</td>\n",
       "    </tr>\n",
       "  </tbody>\n",
       "</table>\n",
       "</div>"
      ],
      "text/plain": [
       "        count_cmplnt\n",
       "count  136520.000000\n",
       "mean        4.711742\n",
       "std         5.144352\n",
       "min         1.000000\n",
       "25%         1.000000\n",
       "50%         3.000000\n",
       "75%         6.000000\n",
       "max       132.000000"
      ]
     },
     "execution_count": 17,
     "metadata": {},
     "output_type": "execute_result"
    }
   ],
   "source": [
    "y_train[['count_cmplnt']].describe()"
   ]
  },
  {
   "cell_type": "code",
   "execution_count": 20,
   "metadata": {},
   "outputs": [
    {
     "name": "stdout",
     "output_type": "stream",
     "text": [
      "Wall time: 0 ns\n",
      "Wall time: 3min 56s\n",
      "Cross Validation Results: [-1.65603575 -1.64081234 -1.63430779 -1.637207   -1.6277864 ]\n"
     ]
    }
   ],
   "source": [
    "%time\n",
    "from sklearn.model_selection import train_test_split\n",
    "from sklearn.model_selection import cross_val_score\n",
    "from sklearn.model_selection import StratifiedKFold\n",
    "from sklearn.ensemble import RandomForestRegressor\n",
    "from sklearn.model_selection import GridSearchCV\n",
    "\n",
    "#create regressor object\n",
    "reg = RandomForestRegressor(n_estimators = 50, random_state = 0)\n",
    "\n",
    "#5 fold cross validation\n",
    "%time cv_results = cross_val_score(reg, X_train, y_train.values.ravel(), cv=5, scoring='neg_mean_absolute_error')\n",
    "print('Cross Validation Results: {}'.format(cv_results))"
   ]
  },
  {
   "cell_type": "code",
   "execution_count": 19,
   "metadata": {},
   "outputs": [
    {
     "name": "stdout",
     "output_type": "stream",
     "text": [
      "Wall time: 1min 2s\n"
     ]
    }
   ],
   "source": [
    "from sklearn.ensemble import RandomForestRegressor\n",
    "reg = RandomForestRegressor(n_estimators = 50, random_state = 0)\n",
    "%time reg.fit(X_train,y_train.values.ravel())\n",
    "y_pred = reg.predict(X_test)"
   ]
  },
  {
   "cell_type": "code",
   "execution_count": 20,
   "metadata": {},
   "outputs": [
    {
     "data": {
      "text/plain": [
       "<AxesSubplot:>"
      ]
     },
     "execution_count": 20,
     "metadata": {},
     "output_type": "execute_result"
    },
    {
     "data": {
      "image/png": "[encoded data removed]",
      "text/plain": [
       "<Figure size 1296x360 with 1 Axes>"
      ]
     },
     "metadata": {
      "needs_background": "light"
     },
     "output_type": "display_data"
    }
   ],
   "source": [
    "#get feature importance\n",
    "feats = {} # a dict to hold feature_name: feature_importance\n",
    "for feature, importance in zip(X_test.columns, reg.feature_importances_):\n",
    "    feats[feature] = importance #add the name/value pair \n",
    "    #print('{}, Score: %.5f'.format(feature) %(importance))\n",
    "\n",
    "importances = pd.DataFrame.from_dict(feats, orient='index').rename(columns={0: 'Gini-importance'})\n",
    "importances.sort_values(by='Gini-importance').plot(figsize=(18,5),kind='bar', rot=45)"
   ]
  },
  {
   "cell_type": "code",
   "execution_count": 21,
   "metadata": {},
   "outputs": [
    {
     "name": "stderr",
     "output_type": "stream",
     "text": [
      "C:\\Users\\BGaither\\Anaconda3\\lib\\site-packages\\ipykernel_launcher.py:2: SettingWithCopyWarning: \n",
      "A value is trying to be set on a copy of a slice from a DataFrame.\n",
      "Try using .loc[row_indexer,col_indexer] = value instead\n",
      "\n",
      "See the caveats in the documentation: https://pandas.pydata.org/pandas-docs/stable/user_guide/indexing.html#returning-a-view-versus-a-copy\n",
      "  \n"
     ]
    },
    {
     "data": {
      "text/html": [
       "<div>\n",
       "<style scoped>\n",
       "    .dataframe tbody tr th:only-of-type {\n",
       "        vertical-align: middle;\n",
       "    }\n",
       "\n",
       "    .dataframe tbody tr th {\n",
       "        vertical-align: top;\n",
       "    }\n",
       "\n",
       "    .dataframe thead th {\n",
       "        text-align: right;\n",
       "    }\n",
       "</style>\n",
       "<table border=\"1\" class=\"dataframe\">\n",
       "  <thead>\n",
       "    <tr style=\"text-align: right;\">\n",
       "      <th></th>\n",
       "      <th>Gini-importance</th>\n",
       "      <th>feature</th>\n",
       "    </tr>\n",
       "  </thead>\n",
       "  <tbody>\n",
       "    <tr>\n",
       "      <th>GeoCell</th>\n",
       "      <td>0.453479</td>\n",
       "      <td>GeoCell</td>\n",
       "    </tr>\n",
       "    <tr>\n",
       "      <th>x4_QUEENS</th>\n",
       "      <td>0.092685</td>\n",
       "      <td>x4_QUEENS</td>\n",
       "    </tr>\n",
       "    <tr>\n",
       "      <th>x4_MANHATTAN</th>\n",
       "      <td>0.070824</td>\n",
       "      <td>x4_MANHATTAN</td>\n",
       "    </tr>\n",
       "    <tr>\n",
       "      <th>Day</th>\n",
       "      <td>0.039940</td>\n",
       "      <td>Day</td>\n",
       "    </tr>\n",
       "    <tr>\n",
       "      <th>TMAX</th>\n",
       "      <td>0.036671</td>\n",
       "      <td>TMAX</td>\n",
       "    </tr>\n",
       "    <tr>\n",
       "      <th>TMIN</th>\n",
       "      <td>0.035702</td>\n",
       "      <td>TMIN</td>\n",
       "    </tr>\n",
       "    <tr>\n",
       "      <th>x4_BRONX</th>\n",
       "      <td>0.033021</td>\n",
       "      <td>x4_BRONX</td>\n",
       "    </tr>\n",
       "    <tr>\n",
       "      <th>x0_Night</th>\n",
       "      <td>0.032610</td>\n",
       "      <td>x0_Night</td>\n",
       "    </tr>\n",
       "    <tr>\n",
       "      <th>x0_Evening</th>\n",
       "      <td>0.030263</td>\n",
       "      <td>x0_Evening</td>\n",
       "    </tr>\n",
       "    <tr>\n",
       "      <th>x0_Day</th>\n",
       "      <td>0.019059</td>\n",
       "      <td>x0_Day</td>\n",
       "    </tr>\n",
       "    <tr>\n",
       "      <th>PRCP</th>\n",
       "      <td>0.016485</td>\n",
       "      <td>PRCP</td>\n",
       "    </tr>\n",
       "    <tr>\n",
       "      <th>x1_Sunday</th>\n",
       "      <td>0.014150</td>\n",
       "      <td>x1_Sunday</td>\n",
       "    </tr>\n",
       "    <tr>\n",
       "      <th>x1_Saturday</th>\n",
       "      <td>0.010036</td>\n",
       "      <td>x1_Saturday</td>\n",
       "    </tr>\n",
       "    <tr>\n",
       "      <th>x4_BROOKLYN</th>\n",
       "      <td>0.008953</td>\n",
       "      <td>x4_BROOKLYN</td>\n",
       "    </tr>\n",
       "    <tr>\n",
       "      <th>x0_Early Morning</th>\n",
       "      <td>0.008850</td>\n",
       "      <td>x0_Early Morning</td>\n",
       "    </tr>\n",
       "    <tr>\n",
       "      <th>Year</th>\n",
       "      <td>0.008067</td>\n",
       "      <td>Year</td>\n",
       "    </tr>\n",
       "    <tr>\n",
       "      <th>x0_Morning</th>\n",
       "      <td>0.008059</td>\n",
       "      <td>x0_Morning</td>\n",
       "    </tr>\n",
       "    <tr>\n",
       "      <th>x1_Friday</th>\n",
       "      <td>0.006750</td>\n",
       "      <td>x1_Friday</td>\n",
       "    </tr>\n",
       "    <tr>\n",
       "      <th>x1_Monday</th>\n",
       "      <td>0.004929</td>\n",
       "      <td>x1_Monday</td>\n",
       "    </tr>\n",
       "    <tr>\n",
       "      <th>x0_Late Night</th>\n",
       "      <td>0.004314</td>\n",
       "      <td>x0_Late Night</td>\n",
       "    </tr>\n",
       "    <tr>\n",
       "      <th>x1_Wednesday</th>\n",
       "      <td>0.004311</td>\n",
       "      <td>x1_Wednesday</td>\n",
       "    </tr>\n",
       "    <tr>\n",
       "      <th>x1_Thursday</th>\n",
       "      <td>0.004171</td>\n",
       "      <td>x1_Thursday</td>\n",
       "    </tr>\n",
       "  </tbody>\n",
       "</table>\n",
       "</div>"
      ],
      "text/plain": [
       "                  Gini-importance           feature\n",
       "GeoCell                  0.453479           GeoCell\n",
       "x4_QUEENS                0.092685         x4_QUEENS\n",
       "x4_MANHATTAN             0.070824      x4_MANHATTAN\n",
       "Day                      0.039940               Day\n",
       "TMAX                     0.036671              TMAX\n",
       "TMIN                     0.035702              TMIN\n",
       "x4_BRONX                 0.033021          x4_BRONX\n",
       "x0_Night                 0.032610          x0_Night\n",
       "x0_Evening               0.030263        x0_Evening\n",
       "x0_Day                   0.019059            x0_Day\n",
       "PRCP                     0.016485              PRCP\n",
       "x1_Sunday                0.014150         x1_Sunday\n",
       "x1_Saturday              0.010036       x1_Saturday\n",
       "x4_BROOKLYN              0.008953       x4_BROOKLYN\n",
       "x0_Early Morning         0.008850  x0_Early Morning\n",
       "Year                     0.008067              Year\n",
       "x0_Morning               0.008059        x0_Morning\n",
       "x1_Friday                0.006750         x1_Friday\n",
       "x1_Monday                0.004929         x1_Monday\n",
       "x0_Late Night            0.004314     x0_Late Night\n",
       "x1_Wednesday             0.004311      x1_Wednesday\n",
       "x1_Thursday              0.004171       x1_Thursday"
      ]
     },
     "execution_count": 21,
     "metadata": {},
     "output_type": "execute_result"
    }
   ],
   "source": [
    "df_top_features = importances[importances['Gini-importance']>.004]\n",
    "df_top_features['feature'] = df_top_features.index\n",
    "top_features = df_top_features['feature'].tolist()\n",
    "\n",
    "df_top_features.sort_values(by='Gini-importance',ascending=False)"
   ]
  },
  {
   "cell_type": "markdown",
   "metadata": {},
   "source": [
    "### Data Preparation Part 2\n",
    "Describe the final dataset that is used for regression:\n",
    "\n",
    "After fitting a preliminary Random Forest Regression model, we've identified the top performing features using the Gini-importances with a threshold of >.004 which selects 22 features to feed into the model.\n",
    "\n",
    "**Inputs to the model would be:**\n",
    "\n",
    "The following features are scaled:\n",
    "- PRCP: amount of rainfall for the day\n",
    "- TMIN: minimum temp for the day\n",
    "- TMAX: maximum temp for the day\n",
    "\n",
    "The following features are one hot encoded:\n",
    "- Daytime:  time period of the day (Early Morning, Morning, Day, Afternoon, Evening, etc...)\n",
    "- Month: the month for which you would like to predict crime volume\n",
    "- Day_Name:  Day of the week (Monday, Tuesday, Wednesday, ect...)\n",
    "- BORO_NM: Name of the borough you would like to predict crime volume\n",
    "\n",
    "The following features are left unchanged:\n",
    "- Day: the day of the month in numerical format\n",
    "- Year: the year in numerical format YYYY\n",
    "- GeoCell: We would need to perform feature transformation taking inputs x_coordinate and y_coordinate to calculate the GeoCell and then pass GeoCell value to the model.  This allows us to use geolocation details in a more abstract way to avoid overfitting to an exact location."
   ]
  },
  {
   "cell_type": "code",
   "execution_count": null,
   "metadata": {},
   "outputs": [],
   "source": []
  },
  {
   "cell_type": "code",
   "execution_count": 22,
   "metadata": {},
   "outputs": [],
   "source": [
    "#columns to keep based on feature importance\n",
    "X_train=X_train[top_features]\n",
    "\n",
    "X_test = X_test[top_features]"
   ]
  },
  {
   "cell_type": "markdown",
   "metadata": {},
   "source": [
    "## Grid Search"
   ]
  },
  {
   "cell_type": "code",
   "execution_count": 25,
   "metadata": {},
   "outputs": [],
   "source": [
    "#Set up the parameters for grid search\n",
    "parameters = {'n_estimators' : (30,50,70,90),\n",
    "              'criterion' : ('mse','mae'),\n",
    "              'max_depth' : (5,7,9,10),\n",
    "              'max_features' : ('auto','sqrt'),\n",
    "              'min_samples_split' : (2,4,6)\n",
    "             }"
   ]
  },
  {
   "cell_type": "code",
   "execution_count": 69,
   "metadata": {},
   "outputs": [
    {
     "data": {
      "text/plain": [
       "PRCP                0\n",
       "TMIN                0\n",
       "TMAX                0\n",
       "x0_Day              0\n",
       "x0_Early Morning    0\n",
       "x0_Evening          0\n",
       "x0_Late Night       0\n",
       "x0_Morning          0\n",
       "x0_Night            0\n",
       "x1_Friday           0\n",
       "x1_Monday           0\n",
       "x1_Saturday         0\n",
       "x1_Sunday           0\n",
       "x1_Thursday         0\n",
       "x1_Wednesday        0\n",
       "x4_BRONX            0\n",
       "x4_BROOKLYN         0\n",
       "x4_MANHATTAN        0\n",
       "x4_QUEENS           0\n",
       "Day                 0\n",
       "Year                0\n",
       "GeoCell             0\n",
       "count_cmplnt        0\n",
       "dtype: int64"
      ]
     },
     "execution_count": 69,
     "metadata": {},
     "output_type": "execute_result"
    }
   ],
   "source": [
    "#since grid search is taking a long time with full training data, we'll subsample \n",
    "y_train.reset_index(drop=True,inplace=True)\n",
    "df = pd.concat([X_train,y_train], axis=1)\n",
    "len(df) - df.count()"
   ]
  },
  {
   "cell_type": "code",
   "execution_count": 70,
   "metadata": {},
   "outputs": [],
   "source": [
    "df_ds = df.sample(frac=.5,replace=True,random_state=1)\n",
    "lstCols = df_ds.columns.values.tolist()\n",
    "lstCols.remove('count_cmplnt')\n",
    "X_ds_train = df_ds[lstCols]\n",
    "y_ds_train = df_ds[['count_cmplnt']]"
   ]
  },
  {
   "cell_type": "code",
   "execution_count": 71,
   "metadata": {},
   "outputs": [
    {
     "name": "stdout",
     "output_type": "stream",
     "text": [
      "Wall time: 11.7 s\n"
     ]
    },
    {
     "data": {
      "text/plain": [
       "RandomForestRegressor(n_estimators=50, random_state=0)"
      ]
     },
     "execution_count": 71,
     "metadata": {},
     "output_type": "execute_result"
    }
   ],
   "source": [
    "#compare fit time with smaller data\n",
    "%time reg.fit(X_ds_train,y_ds_train.values.ravel())"
   ]
  },
  {
   "cell_type": "code",
   "execution_count": 72,
   "metadata": {},
   "outputs": [],
   "source": [
    "reg_grid = GridSearchCV(RandomForestRegressor(n_jobs=-1,oob_score=False),param_grid=parameters,cv=3,verbose=True)\n",
    "%time reg_grid_model = reg_grid.fit(X_ds_train,y_ds_train.values.ravel())"
   ]
  },
  {
   "cell_type": "code",
   "execution_count": null,
   "metadata": {},
   "outputs": [],
   "source": [
    "%time reg_grid_model = reg_grid.fit(X_ds_train,y_ds_train.values.ravel())"
   ]
  },
  {
   "cell_type": "code",
   "execution_count": null,
   "metadata": {},
   "outputs": [],
   "source": [
    "reg_grid_model.best_estimator_"
   ]
  },
  {
   "cell_type": "markdown",
   "metadata": {},
   "source": [
    "## Results of the Grid Search\n",
    "\n",
    "Time taken:  4h 30min using SageMaker ml.c5.9xlarge\n",
    "\n",
    "<b> Best Estimator: </b>\n",
    "\n",
    "RandomForestRegressor(bootstrap=True, ccp_alpha=0.0, criterion='mae',\n",
    "                      max_depth=10, max_features='auto', max_leaf_nodes=None,\n",
    "                      max_samples=None, min_impurity_decrease=0.0,\n",
    "                      min_impurity_split=None, min_samples_leaf=1,\n",
    "                      min_samples_split=2, min_weight_fraction_leaf=0.0,\n",
    "                      n_estimators=50, n_jobs=-1, oob_score=False,\n",
    "                      random_state=None, verbose=0, warm_start=False)\n",
    "                      \n",
    "                      \n",
    "<b> Best Score (MAE)</b>\n",
    "\n",
    "0.7295567982206977"
   ]
  },
  {
   "cell_type": "markdown",
   "metadata": {},
   "source": [
    "## Implement Best Model"
   ]
  },
  {
   "cell_type": "code",
   "execution_count": 23,
   "metadata": {},
   "outputs": [
    {
     "name": "stdout",
     "output_type": "stream",
     "text": [
      "Wall time: 1h 5min 23s\n"
     ]
    },
    {
     "data": {
      "text/plain": [
       "RandomForestRegressor(criterion='mae', max_depth=10, n_estimators=50, n_jobs=-1)"
      ]
     },
     "execution_count": 23,
     "metadata": {},
     "output_type": "execute_result"
    }
   ],
   "source": [
    "from sklearn.ensemble import RandomForestRegressor\n",
    "\n",
    "reg = RandomForestRegressor(bootstrap=True, \n",
    "                            ccp_alpha=0.0, \n",
    "                            criterion='mae',\n",
    "                            max_depth=10, \n",
    "                            max_features='auto', \n",
    "                            max_leaf_nodes=None,\n",
    "                            max_samples=None, \n",
    "                            min_impurity_decrease=0.0,\n",
    "                            min_impurity_split=None, \n",
    "                            min_samples_leaf=1,\n",
    "                            min_samples_split=2, \n",
    "                            min_weight_fraction_leaf=0.0,\n",
    "                            n_estimators=50, \n",
    "                            n_jobs=-1, \n",
    "                            oob_score=False,\n",
    "                            random_state=None, \n",
    "                            verbose=0, \n",
    "                            warm_start=False)\n",
    "%time reg.fit(X_train,y_train.values.ravel())"
   ]
  },
  {
   "cell_type": "code",
   "execution_count": 24,
   "metadata": {},
   "outputs": [],
   "source": [
    "y_pred = reg.predict(X_test)"
   ]
  },
  {
   "cell_type": "markdown",
   "metadata": {},
   "source": [
    "### Modeling and Evaluation 4\n",
    "\n",
    "Here we can see the Mean Absolute Error and the R<sup>2</sup> against the test set"
   ]
  },
  {
   "cell_type": "code",
   "execution_count": 93,
   "metadata": {},
   "outputs": [
    {
     "name": "stdout",
     "output_type": "stream",
     "text": [
      "Mean Absolute Error: 1.7504608848520362 crimes per period\n",
      "Root Mean Squared Error: 2.770257865342545 crimes per period\n",
      "r2: 0.7075678909976164\n"
     ]
    }
   ],
   "source": [
    "from sklearn.metrics import *\n",
    "\n",
    "#print out the mean absolute error (mae)\n",
    "print('Mean Absolute Error:', mean_absolute_error(y_test,y_pred),'crimes per period')\n",
    "print('Root Mean Squared Error:', mean_squared_error(y_test,y_pred, squared=False),'crimes per period')\n",
    "print('r2:',r2_score(y_test,y_pred))"
   ]
  },
  {
   "cell_type": "markdown",
   "metadata": {},
   "source": [
    "### Save model to file"
   ]
  },
  {
   "cell_type": "code",
   "execution_count": 31,
   "metadata": {},
   "outputs": [],
   "source": [
    "import pickle\n",
    "#save the model to disk to prevent having to retrain\n",
    "filename = 'RF_Regressor_HyperOpt_v1.sav'\n",
    "pickle.dump(reg, open(filename,'wb'))"
   ]
  },
  {
   "cell_type": "markdown",
   "metadata": {},
   "source": [
    "### Open load model from file"
   ]
  },
  {
   "cell_type": "code",
   "execution_count": null,
   "metadata": {},
   "outputs": [],
   "source": [
    "import pickle\n",
    "#load model from file\n",
    "filename = 'RF_Regressor_HyperOpt_v1.sav'\n",
    "reg = pickle.load(open(filename, 'rb'))"
   ]
  },
  {
   "cell_type": "markdown",
   "metadata": {},
   "source": [
    "## Feature Importance of Final Model"
   ]
  },
  {
   "cell_type": "code",
   "execution_count": 32,
   "metadata": {},
   "outputs": [
    {
     "data": {
      "image/png": "[encoded data removed]",
      "text/plain": [
       "<Figure size 432x288 with 1 Axes>"
      ]
     },
     "metadata": {},
     "output_type": "display_data"
    }
   ],
   "source": [
    "importances = list(reg.feature_importances_)\n",
    "feature_list = X_train.columns.values.tolist()\n",
    "\n",
    "%matplotlib inline\n",
    "# Set the style\n",
    "plt.style.use('fivethirtyeight')\n",
    "# list of x locations for plotting\n",
    "x_values = list(range(len(importances)))\n",
    "# Make a bar chart\n",
    "plt.bar(x_values, importances, orientation = 'vertical')\n",
    "# Tick labels for x axis\n",
    "plt.xticks(x_values, feature_list, rotation='vertical')\n",
    "# Axis labels and title\n",
    "plt.ylabel('Importance'); plt.xlabel('Variable'); plt.title('Variable Importances');"
   ]
  },
  {
   "cell_type": "code",
   "execution_count": 39,
   "metadata": {},
   "outputs": [],
   "source": [
    "y_test.reset_index(drop=True,inplace=True)\n",
    "df_testWithPreds = pd.concat([X_test,y_test],axis=1)\n",
    "df_testWithPreds[\"prediction\"] = reg.predict(X_test)"
   ]
  },
  {
   "cell_type": "code",
   "execution_count": 40,
   "metadata": {},
   "outputs": [
    {
     "data": {
      "text/html": [
       "<div>\n",
       "<style scoped>\n",
       "    .dataframe tbody tr th:only-of-type {\n",
       "        vertical-align: middle;\n",
       "    }\n",
       "\n",
       "    .dataframe tbody tr th {\n",
       "        vertical-align: top;\n",
       "    }\n",
       "\n",
       "    .dataframe thead th {\n",
       "        text-align: right;\n",
       "    }\n",
       "</style>\n",
       "<table border=\"1\" class=\"dataframe\">\n",
       "  <thead>\n",
       "    <tr style=\"text-align: right;\">\n",
       "      <th></th>\n",
       "      <th>PRCP</th>\n",
       "      <th>TMIN</th>\n",
       "      <th>TMAX</th>\n",
       "      <th>x0_Day</th>\n",
       "      <th>x0_Early Morning</th>\n",
       "      <th>x0_Evening</th>\n",
       "      <th>x0_Late Night</th>\n",
       "      <th>x0_Morning</th>\n",
       "      <th>x0_Night</th>\n",
       "      <th>x1_Friday</th>\n",
       "      <th>...</th>\n",
       "      <th>x1_Wednesday</th>\n",
       "      <th>x4_BRONX</th>\n",
       "      <th>x4_BROOKLYN</th>\n",
       "      <th>x4_MANHATTAN</th>\n",
       "      <th>x4_QUEENS</th>\n",
       "      <th>Day</th>\n",
       "      <th>Year</th>\n",
       "      <th>GeoCell</th>\n",
       "      <th>count_cmplnt</th>\n",
       "      <th>prediction</th>\n",
       "    </tr>\n",
       "  </thead>\n",
       "  <tbody>\n",
       "    <tr>\n",
       "      <th>0</th>\n",
       "      <td>-0.240956</td>\n",
       "      <td>-1.776709</td>\n",
       "      <td>-1.653282</td>\n",
       "      <td>0.0</td>\n",
       "      <td>0.0</td>\n",
       "      <td>0.0</td>\n",
       "      <td>0.0</td>\n",
       "      <td>0.0</td>\n",
       "      <td>1.0</td>\n",
       "      <td>0.0</td>\n",
       "      <td>...</td>\n",
       "      <td>0.0</td>\n",
       "      <td>0.0</td>\n",
       "      <td>1.0</td>\n",
       "      <td>0.0</td>\n",
       "      <td>0.0</td>\n",
       "      <td>3.0</td>\n",
       "      <td>2014.0</td>\n",
       "      <td>37.0</td>\n",
       "      <td>9</td>\n",
       "      <td>9.16</td>\n",
       "    </tr>\n",
       "    <tr>\n",
       "      <th>1</th>\n",
       "      <td>-0.213560</td>\n",
       "      <td>-0.052634</td>\n",
       "      <td>0.227747</td>\n",
       "      <td>0.0</td>\n",
       "      <td>0.0</td>\n",
       "      <td>0.0</td>\n",
       "      <td>1.0</td>\n",
       "      <td>0.0</td>\n",
       "      <td>0.0</td>\n",
       "      <td>0.0</td>\n",
       "      <td>...</td>\n",
       "      <td>0.0</td>\n",
       "      <td>0.0</td>\n",
       "      <td>1.0</td>\n",
       "      <td>0.0</td>\n",
       "      <td>0.0</td>\n",
       "      <td>25.0</td>\n",
       "      <td>2015.0</td>\n",
       "      <td>36.0</td>\n",
       "      <td>12</td>\n",
       "      <td>4.88</td>\n",
       "    </tr>\n",
       "    <tr>\n",
       "      <th>2</th>\n",
       "      <td>-0.350542</td>\n",
       "      <td>1.282134</td>\n",
       "      <td>1.325013</td>\n",
       "      <td>1.0</td>\n",
       "      <td>0.0</td>\n",
       "      <td>0.0</td>\n",
       "      <td>0.0</td>\n",
       "      <td>0.0</td>\n",
       "      <td>0.0</td>\n",
       "      <td>0.0</td>\n",
       "      <td>...</td>\n",
       "      <td>0.0</td>\n",
       "      <td>0.0</td>\n",
       "      <td>0.0</td>\n",
       "      <td>1.0</td>\n",
       "      <td>0.0</td>\n",
       "      <td>12.0</td>\n",
       "      <td>2015.0</td>\n",
       "      <td>66.0</td>\n",
       "      <td>7</td>\n",
       "      <td>9.82</td>\n",
       "    </tr>\n",
       "    <tr>\n",
       "      <th>3</th>\n",
       "      <td>-0.350542</td>\n",
       "      <td>1.282134</td>\n",
       "      <td>1.325013</td>\n",
       "      <td>0.0</td>\n",
       "      <td>0.0</td>\n",
       "      <td>0.0</td>\n",
       "      <td>1.0</td>\n",
       "      <td>0.0</td>\n",
       "      <td>0.0</td>\n",
       "      <td>0.0</td>\n",
       "      <td>...</td>\n",
       "      <td>0.0</td>\n",
       "      <td>0.0</td>\n",
       "      <td>0.0</td>\n",
       "      <td>0.0</td>\n",
       "      <td>1.0</td>\n",
       "      <td>12.0</td>\n",
       "      <td>2015.0</td>\n",
       "      <td>29.0</td>\n",
       "      <td>1</td>\n",
       "      <td>1.04</td>\n",
       "    </tr>\n",
       "    <tr>\n",
       "      <th>4</th>\n",
       "      <td>0.306972</td>\n",
       "      <td>0.559135</td>\n",
       "      <td>0.175496</td>\n",
       "      <td>0.0</td>\n",
       "      <td>0.0</td>\n",
       "      <td>1.0</td>\n",
       "      <td>0.0</td>\n",
       "      <td>0.0</td>\n",
       "      <td>0.0</td>\n",
       "      <td>0.0</td>\n",
       "      <td>...</td>\n",
       "      <td>0.0</td>\n",
       "      <td>0.0</td>\n",
       "      <td>0.0</td>\n",
       "      <td>0.0</td>\n",
       "      <td>1.0</td>\n",
       "      <td>22.0</td>\n",
       "      <td>2014.0</td>\n",
       "      <td>48.0</td>\n",
       "      <td>5</td>\n",
       "      <td>5.36</td>\n",
       "    </tr>\n",
       "  </tbody>\n",
       "</table>\n",
       "<p>5 rows × 24 columns</p>\n",
       "</div>"
      ],
      "text/plain": [
       "       PRCP      TMIN      TMAX  x0_Day  x0_Early Morning  x0_Evening  \\\n",
       "0 -0.240956 -1.776709 -1.653282     0.0               0.0         0.0   \n",
       "1 -0.213560 -0.052634  0.227747     0.0               0.0         0.0   \n",
       "2 -0.350542  1.282134  1.325013     1.0               0.0         0.0   \n",
       "3 -0.350542  1.282134  1.325013     0.0               0.0         0.0   \n",
       "4  0.306972  0.559135  0.175496     0.0               0.0         1.0   \n",
       "\n",
       "   x0_Late Night  x0_Morning  x0_Night  x1_Friday  ...  x1_Wednesday  \\\n",
       "0            0.0         0.0       1.0        0.0  ...           0.0   \n",
       "1            1.0         0.0       0.0        0.0  ...           0.0   \n",
       "2            0.0         0.0       0.0        0.0  ...           0.0   \n",
       "3            1.0         0.0       0.0        0.0  ...           0.0   \n",
       "4            0.0         0.0       0.0        0.0  ...           0.0   \n",
       "\n",
       "   x4_BRONX  x4_BROOKLYN  x4_MANHATTAN  x4_QUEENS   Day    Year  GeoCell  \\\n",
       "0       0.0          1.0           0.0        0.0   3.0  2014.0     37.0   \n",
       "1       0.0          1.0           0.0        0.0  25.0  2015.0     36.0   \n",
       "2       0.0          0.0           1.0        0.0  12.0  2015.0     66.0   \n",
       "3       0.0          0.0           0.0        1.0  12.0  2015.0     29.0   \n",
       "4       0.0          0.0           0.0        1.0  22.0  2014.0     48.0   \n",
       "\n",
       "   count_cmplnt  prediction  \n",
       "0             9        9.16  \n",
       "1            12        4.88  \n",
       "2             7        9.82  \n",
       "3             1        1.04  \n",
       "4             5        5.36  \n",
       "\n",
       "[5 rows x 24 columns]"
      ]
     },
     "execution_count": 40,
     "metadata": {},
     "output_type": "execute_result"
    }
   ],
   "source": [
    "df_testWithPreds.head(5)"
   ]
  },
  {
   "cell_type": "code",
   "execution_count": 83,
   "metadata": {},
   "outputs": [
    {
     "data": {
      "text/plain": [
       "Text(0.5, 1.0, 'Actual and Predicted Values against Test Set')"
      ]
     },
     "execution_count": 83,
     "metadata": {},
     "output_type": "execute_result"
    },
    {
     "data": {
      "image/png": "[encoded data removed]",
      "text/plain": [
       "<Figure size 432x288 with 1 Axes>"
      ]
     },
     "metadata": {},
     "output_type": "display_data"
    }
   ],
   "source": [
    "plt.plot(df_testWithPreds['count_cmplnt'].head(100),'b-',label='Actual')\n",
    "plt.plot(df_testWithPreds['prediction'].head(100),'ro',label='Prediction')\n",
    "plt.legend()\n",
    "plt.xlabel('observation'); plt.ylabel('crime_volume'); plt.title('Actual and Predicted Values against Test Set')"
   ]
  },
  {
   "cell_type": "code",
   "execution_count": 49,
   "metadata": {},
   "outputs": [],
   "source": [
    "df_testWithPreds['PredLessActual'] = df_testWithPreds['prediction']-df_testWithPreds['count_cmplnt']"
   ]
  },
  {
   "cell_type": "code",
   "execution_count": 50,
   "metadata": {},
   "outputs": [
    {
     "data": {
      "text/html": [
       "<div>\n",
       "<style scoped>\n",
       "    .dataframe tbody tr th:only-of-type {\n",
       "        vertical-align: middle;\n",
       "    }\n",
       "\n",
       "    .dataframe tbody tr th {\n",
       "        vertical-align: top;\n",
       "    }\n",
       "\n",
       "    .dataframe thead th {\n",
       "        text-align: right;\n",
       "    }\n",
       "</style>\n",
       "<table border=\"1\" class=\"dataframe\">\n",
       "  <thead>\n",
       "    <tr style=\"text-align: right;\">\n",
       "      <th></th>\n",
       "      <th>PRCP</th>\n",
       "      <th>TMIN</th>\n",
       "      <th>TMAX</th>\n",
       "      <th>x0_Day</th>\n",
       "      <th>x0_Early Morning</th>\n",
       "      <th>x0_Evening</th>\n",
       "      <th>x0_Late Night</th>\n",
       "      <th>x0_Morning</th>\n",
       "      <th>x0_Night</th>\n",
       "      <th>x1_Friday</th>\n",
       "      <th>...</th>\n",
       "      <th>x4_BRONX</th>\n",
       "      <th>x4_BROOKLYN</th>\n",
       "      <th>x4_MANHATTAN</th>\n",
       "      <th>x4_QUEENS</th>\n",
       "      <th>Day</th>\n",
       "      <th>Year</th>\n",
       "      <th>GeoCell</th>\n",
       "      <th>count_cmplnt</th>\n",
       "      <th>prediction</th>\n",
       "      <th>PredLessActual</th>\n",
       "    </tr>\n",
       "  </thead>\n",
       "  <tbody>\n",
       "    <tr>\n",
       "      <th>0</th>\n",
       "      <td>-0.240956</td>\n",
       "      <td>-1.776709</td>\n",
       "      <td>-1.653282</td>\n",
       "      <td>0.0</td>\n",
       "      <td>0.0</td>\n",
       "      <td>0.0</td>\n",
       "      <td>0.0</td>\n",
       "      <td>0.0</td>\n",
       "      <td>1.0</td>\n",
       "      <td>0.0</td>\n",
       "      <td>...</td>\n",
       "      <td>0.0</td>\n",
       "      <td>1.0</td>\n",
       "      <td>0.0</td>\n",
       "      <td>0.0</td>\n",
       "      <td>3.0</td>\n",
       "      <td>2014.0</td>\n",
       "      <td>37.0</td>\n",
       "      <td>9</td>\n",
       "      <td>9.16</td>\n",
       "      <td>0.16</td>\n",
       "    </tr>\n",
       "    <tr>\n",
       "      <th>1</th>\n",
       "      <td>-0.213560</td>\n",
       "      <td>-0.052634</td>\n",
       "      <td>0.227747</td>\n",
       "      <td>0.0</td>\n",
       "      <td>0.0</td>\n",
       "      <td>0.0</td>\n",
       "      <td>1.0</td>\n",
       "      <td>0.0</td>\n",
       "      <td>0.0</td>\n",
       "      <td>0.0</td>\n",
       "      <td>...</td>\n",
       "      <td>0.0</td>\n",
       "      <td>1.0</td>\n",
       "      <td>0.0</td>\n",
       "      <td>0.0</td>\n",
       "      <td>25.0</td>\n",
       "      <td>2015.0</td>\n",
       "      <td>36.0</td>\n",
       "      <td>12</td>\n",
       "      <td>4.88</td>\n",
       "      <td>-7.12</td>\n",
       "    </tr>\n",
       "    <tr>\n",
       "      <th>2</th>\n",
       "      <td>-0.350542</td>\n",
       "      <td>1.282134</td>\n",
       "      <td>1.325013</td>\n",
       "      <td>1.0</td>\n",
       "      <td>0.0</td>\n",
       "      <td>0.0</td>\n",
       "      <td>0.0</td>\n",
       "      <td>0.0</td>\n",
       "      <td>0.0</td>\n",
       "      <td>0.0</td>\n",
       "      <td>...</td>\n",
       "      <td>0.0</td>\n",
       "      <td>0.0</td>\n",
       "      <td>1.0</td>\n",
       "      <td>0.0</td>\n",
       "      <td>12.0</td>\n",
       "      <td>2015.0</td>\n",
       "      <td>66.0</td>\n",
       "      <td>7</td>\n",
       "      <td>9.82</td>\n",
       "      <td>2.82</td>\n",
       "    </tr>\n",
       "    <tr>\n",
       "      <th>3</th>\n",
       "      <td>-0.350542</td>\n",
       "      <td>1.282134</td>\n",
       "      <td>1.325013</td>\n",
       "      <td>0.0</td>\n",
       "      <td>0.0</td>\n",
       "      <td>0.0</td>\n",
       "      <td>1.0</td>\n",
       "      <td>0.0</td>\n",
       "      <td>0.0</td>\n",
       "      <td>0.0</td>\n",
       "      <td>...</td>\n",
       "      <td>0.0</td>\n",
       "      <td>0.0</td>\n",
       "      <td>0.0</td>\n",
       "      <td>1.0</td>\n",
       "      <td>12.0</td>\n",
       "      <td>2015.0</td>\n",
       "      <td>29.0</td>\n",
       "      <td>1</td>\n",
       "      <td>1.04</td>\n",
       "      <td>0.04</td>\n",
       "    </tr>\n",
       "    <tr>\n",
       "      <th>4</th>\n",
       "      <td>0.306972</td>\n",
       "      <td>0.559135</td>\n",
       "      <td>0.175496</td>\n",
       "      <td>0.0</td>\n",
       "      <td>0.0</td>\n",
       "      <td>1.0</td>\n",
       "      <td>0.0</td>\n",
       "      <td>0.0</td>\n",
       "      <td>0.0</td>\n",
       "      <td>0.0</td>\n",
       "      <td>...</td>\n",
       "      <td>0.0</td>\n",
       "      <td>0.0</td>\n",
       "      <td>0.0</td>\n",
       "      <td>1.0</td>\n",
       "      <td>22.0</td>\n",
       "      <td>2014.0</td>\n",
       "      <td>48.0</td>\n",
       "      <td>5</td>\n",
       "      <td>5.36</td>\n",
       "      <td>0.36</td>\n",
       "    </tr>\n",
       "  </tbody>\n",
       "</table>\n",
       "<p>5 rows × 25 columns</p>\n",
       "</div>"
      ],
      "text/plain": [
       "       PRCP      TMIN      TMAX  x0_Day  x0_Early Morning  x0_Evening  \\\n",
       "0 -0.240956 -1.776709 -1.653282     0.0               0.0         0.0   \n",
       "1 -0.213560 -0.052634  0.227747     0.0               0.0         0.0   \n",
       "2 -0.350542  1.282134  1.325013     1.0               0.0         0.0   \n",
       "3 -0.350542  1.282134  1.325013     0.0               0.0         0.0   \n",
       "4  0.306972  0.559135  0.175496     0.0               0.0         1.0   \n",
       "\n",
       "   x0_Late Night  x0_Morning  x0_Night  x1_Friday  ...  x4_BRONX  x4_BROOKLYN  \\\n",
       "0            0.0         0.0       1.0        0.0  ...       0.0          1.0   \n",
       "1            1.0         0.0       0.0        0.0  ...       0.0          1.0   \n",
       "2            0.0         0.0       0.0        0.0  ...       0.0          0.0   \n",
       "3            1.0         0.0       0.0        0.0  ...       0.0          0.0   \n",
       "4            0.0         0.0       0.0        0.0  ...       0.0          0.0   \n",
       "\n",
       "   x4_MANHATTAN  x4_QUEENS   Day    Year  GeoCell  count_cmplnt  prediction  \\\n",
       "0           0.0        0.0   3.0  2014.0     37.0             9        9.16   \n",
       "1           0.0        0.0  25.0  2015.0     36.0            12        4.88   \n",
       "2           1.0        0.0  12.0  2015.0     66.0             7        9.82   \n",
       "3           0.0        1.0  12.0  2015.0     29.0             1        1.04   \n",
       "4           0.0        1.0  22.0  2014.0     48.0             5        5.36   \n",
       "\n",
       "   PredLessActual  \n",
       "0            0.16  \n",
       "1           -7.12  \n",
       "2            2.82  \n",
       "3            0.04  \n",
       "4            0.36  \n",
       "\n",
       "[5 rows x 25 columns]"
      ]
     },
     "execution_count": 50,
     "metadata": {},
     "output_type": "execute_result"
    }
   ],
   "source": [
    "df_testWithPreds.head(5)"
   ]
  },
  {
   "cell_type": "code",
   "execution_count": 51,
   "metadata": {},
   "outputs": [
    {
     "data": {
      "text/plain": [
       "{'whiskers': [<matplotlib.lines.Line2D at 0x2080b823fc8>,\n",
       "  <matplotlib.lines.Line2D at 0x2080b81d3c8>],\n",
       " 'caps': [<matplotlib.lines.Line2D at 0x2080b82bbc8>,\n",
       "  <matplotlib.lines.Line2D at 0x2080b82b9c8>],\n",
       " 'boxes': [<matplotlib.lines.Line2D at 0x2080b81d7c8>],\n",
       " 'medians': [<matplotlib.lines.Line2D at 0x2080b82b948>],\n",
       " 'fliers': [<matplotlib.lines.Line2D at 0x2080b835e88>],\n",
       " 'means': []}"
      ]
     },
     "execution_count": 51,
     "metadata": {},
     "output_type": "execute_result"
    },
    {
     "data": {
      "image/png": "[encoded data removed]",
      "text/plain": [
       "<Figure size 432x288 with 1 Axes>"
      ]
     },
     "metadata": {},
     "output_type": "display_data"
    }
   ],
   "source": [
    "fig1, ax1 = plt.subplots()\n",
    "ax1.set_title('residual boxplot')\n",
    "ax1.boxplot(df_testWithPreds['PredLessActual'])"
   ]
  },
  {
   "cell_type": "markdown",
   "metadata": {},
   "source": [
    "### Run model against holdout data\n",
    "\n",
    "We have created a holdout set so that we can compare various regression models against the same dataset.  Below, we'll load the data and run inference using the trained model. \n",
    "\n",
    "We'll first need to perform the same preprocessing to the holdout set that was done for the train and test set above."
   ]
  },
  {
   "cell_type": "code",
   "execution_count": 61,
   "metadata": {},
   "outputs": [],
   "source": [
    "#load csv\n",
    "file_path = \"C:\\\\Users\\\\BGaither\\\\OneDrive - McAfee\\\\Other\\\\school\\\\SMU\\\\Courses\\\\Fall 2020\\\\Machine Learning I\\\\Lab 2\\\\Data\\\\Hold_Out_Set.csv\"\n",
    "#load Data into Pandas\n",
    "df_Holdout = pd.read_csv(file_path)"
   ]
  },
  {
   "cell_type": "code",
   "execution_count": 64,
   "metadata": {},
   "outputs": [
    {
     "data": {
      "text/plain": [
       "CMPLNT_FR_DT              0\n",
       "Daytime                   0\n",
       "Day_Name                  0\n",
       "Month                     0\n",
       "Day                       0\n",
       "Year                      0\n",
       "Season                    0\n",
       "GeoCell                   0\n",
       "BORO_NM                   0\n",
       "PRCP                      0\n",
       "SNOW                      0\n",
       "TMIN                      0\n",
       "TMAX                      0\n",
       "Population                0\n",
       "PC_INCOME                 0\n",
       "Hm_Sls_Price_Range        0\n",
       "Holiday               18446\n",
       "Event                 16064\n",
       "is_Holiday                0\n",
       "is_Event                  0\n",
       "count_cmplnt              0\n",
       "dtype: int64"
      ]
     },
     "execution_count": 64,
     "metadata": {},
     "output_type": "execute_result"
    }
   ],
   "source": [
    "#check for NaNs\n",
    "len(df_Holdout) - df_Holdout.count()"
   ]
  },
  {
   "cell_type": "code",
   "execution_count": 65,
   "metadata": {},
   "outputs": [],
   "source": [
    "#since the only NANs are in Holiday and Event, we'll replace those NaNs with 'None' as we did in the train and test set\n",
    "df_Holdout = df_Holdout.fillna('None')"
   ]
  },
  {
   "cell_type": "code",
   "execution_count": 66,
   "metadata": {},
   "outputs": [
    {
     "data": {
      "text/plain": [
       "CMPLNT_FR_DT          0\n",
       "Daytime               0\n",
       "Day_Name              0\n",
       "Month                 0\n",
       "Day                   0\n",
       "Year                  0\n",
       "Season                0\n",
       "GeoCell               0\n",
       "BORO_NM               0\n",
       "PRCP                  0\n",
       "SNOW                  0\n",
       "TMIN                  0\n",
       "TMAX                  0\n",
       "Population            0\n",
       "PC_INCOME             0\n",
       "Hm_Sls_Price_Range    0\n",
       "Holiday               0\n",
       "Event                 0\n",
       "is_Holiday            0\n",
       "is_Event              0\n",
       "count_cmplnt          0\n",
       "dtype: int64"
      ]
     },
     "execution_count": 66,
     "metadata": {},
     "output_type": "execute_result"
    }
   ],
   "source": [
    "#check for NaNs again to verify we've taken care of them all\n",
    "len(df_Holdout) - df_Holdout.count()"
   ]
  },
  {
   "cell_type": "code",
   "execution_count": 67,
   "metadata": {},
   "outputs": [],
   "source": [
    "#grab the candidate variables we want to preprocess by one hot encoding and scaling as we did with the train and test sets\n",
    "X_holdout = df_Holdout[['Daytime','Day_Name','Month','Day','Year','Season','GeoCell','BORO_NM','PRCP','SNOW','TMIN','TMAX','Holiday','Event','is_Holiday','is_Event']]\n",
    "y_holdout = df_Holdout[['count_cmplnt']]"
   ]
  },
  {
   "cell_type": "code",
   "execution_count": 68,
   "metadata": {},
   "outputs": [],
   "source": [
    "#one hot encode the categorical features\n",
    "from sklearn.preprocessing import StandardScaler, OneHotEncoder\n",
    "\n",
    "columns_to_encode = ['Daytime','Day_Name','Month','Season','BORO_NM','Holiday','Event']\n",
    "columns_no_change = ['is_Holiday','is_Event','Day','Year','GeoCell','PRCP','SNOW','TMIN','TMAX']\n",
    "\n",
    "df_existing = X_holdout[columns_no_change]\n",
    "existing_cols = df_existing.to_numpy()\n",
    "\n",
    "#encoder \n",
    "ohe = OneHotEncoder(sparse=False)\n",
    "\n",
    "#ohe separate columns\n",
    "encoded_columns = ohe.fit_transform(X_holdout[columns_to_encode])\n",
    "\n",
    "#concatenate processed columns back together for X\n",
    "X_holdout = np.concatenate([encoded_columns,existing_cols],axis=1)\n",
    "\n",
    "#get the column names back to the dataframe\n",
    "df1 = pd.DataFrame(X_holdout)\n",
    "feature_names = ohe.get_feature_names().tolist()\n",
    "col_names = feature_names+columns_no_change\n",
    "df1.columns = col_names\n",
    "X_holdout = df1"
   ]
  },
  {
   "cell_type": "code",
   "execution_count": 69,
   "metadata": {},
   "outputs": [],
   "source": [
    "#scale specific columns\n",
    "from sklearn.preprocessing import StandardScaler, OneHotEncoder\n",
    "\n",
    "columns_to_scale = ['PRCP','SNOW','TMIN','TMAX']\n",
    "#get a list of all columns without the columns to scale above\n",
    "lstCols = X_holdout.columns.values.tolist()\n",
    "lstCols.remove('PRCP')\n",
    "lstCols.remove('SNOW')\n",
    "lstCols.remove('TMIN')\n",
    "lstCols.remove('TMAX')\n",
    "columns_no_change = lstCols\n",
    "\n",
    "df_existing = X_holdout[columns_no_change]\n",
    "existing_cols = df_existing.to_numpy()\n",
    "\n",
    "#separately scale X_holdout\n",
    "scaled_columns = scaler.transform(X_holdout[columns_to_scale]) #use the fit scaler object from X_train to scale X_holdout\n",
    "\n",
    "X_holdout_np = np.concatenate([scaled_columns,existing_cols],axis=1)"
   ]
  },
  {
   "cell_type": "code",
   "execution_count": 70,
   "metadata": {},
   "outputs": [],
   "source": [
    "#convert the numpy array back to a pandas dataframe for X_holdout\n",
    "df1 = pd.DataFrame(X_holdout_np)\n",
    "#get the column names back to the dataframe\n",
    "col_names = columns_to_scale+columns_no_change\n",
    "df1.columns = col_names\n",
    "X_holdout = df1"
   ]
  },
  {
   "cell_type": "code",
   "execution_count": 77,
   "metadata": {},
   "outputs": [],
   "source": [
    "#get our x and y variables set to the appropriate columns\n",
    "y_holdout = df_Holdout[['count_cmplnt']]\n",
    "X_holdout = X_holdout[top_features]\n"
   ]
  },
  {
   "cell_type": "code",
   "execution_count": 78,
   "metadata": {},
   "outputs": [
    {
     "data": {
      "text/plain": [
       "Index(['PRCP', 'TMIN', 'TMAX', 'x0_Day', 'x0_Early Morning', 'x0_Evening',\n",
       "       'x0_Late Night', 'x0_Morning', 'x0_Night', 'x1_Friday', 'x1_Monday',\n",
       "       'x1_Saturday', 'x1_Sunday', 'x1_Thursday', 'x1_Wednesday', 'x4_BRONX',\n",
       "       'x4_BROOKLYN', 'x4_MANHATTAN', 'x4_QUEENS', 'Day', 'Year', 'GeoCell'],\n",
       "      dtype='object')"
      ]
     },
     "execution_count": 78,
     "metadata": {},
     "output_type": "execute_result"
    }
   ],
   "source": [
    "#verify our columns in the x are as we expect\n",
    "X_holdout.columns"
   ]
  },
  {
   "cell_type": "code",
   "execution_count": 79,
   "metadata": {},
   "outputs": [],
   "source": [
    "#run inference against the holdout set\n",
    "y_pred_holdout = reg.predict(X_holdout)"
   ]
  },
  {
   "cell_type": "markdown",
   "metadata": {},
   "source": [
    "Now, let's check the "
   ]
  },
  {
   "cell_type": "markdown",
   "metadata": {},
   "source": [
    "### Model Evaluation 4 Continued\n",
    "\n",
    "Here we can see the Mean Absolute Error and the r<sup>2</sup> against the holdout set for the random forest regression model.  We can see that on average, we are predicting crimes with an error of 1.74 crimes per period.  Period here means per time of day (for a given day in the morning, evening, night, etc...)"
   ]
  },
  {
   "cell_type": "code",
   "execution_count": 92,
   "metadata": {},
   "outputs": [
    {
     "name": "stdout",
     "output_type": "stream",
     "text": [
      "Mean Absolute Error: 1.7447178567661636 crimes per period\n",
      "Root Mean Squared Error: 2.721773360654654 crimes per period\n",
      "r2: 0.7138778143673601\n"
     ]
    }
   ],
   "source": [
    "from sklearn.metrics import *\n",
    "\n",
    "#print out the mean absolute error (mae)\n",
    "print('Mean Absolute Error:', mean_absolute_error(y_holdout,y_pred_holdout),'crimes per period')\n",
    "print('Root Mean Squared Error:', mean_squared_error(y_holdout,y_pred_holdout, squared=False),'crimes per period')\n",
    "print('r2:',r2_score(y_holdout,y_pred_holdout))"
   ]
  },
  {
   "cell_type": "code",
   "execution_count": 81,
   "metadata": {},
   "outputs": [],
   "source": [
    "y_holdout.reset_index(drop=True,inplace=True)\n",
    "df_holdoutWithPreds = pd.concat([X_holdout,y_holdout],axis=1)\n",
    "df_holdoutWithPreds[\"prediction\"] = reg.predict(X_holdout)"
   ]
  },
  {
   "cell_type": "markdown",
   "metadata": {},
   "source": [
    "Here we plot out the top 100 records of the holdout set along with the actual and predicted values to get a sense of how far off the predictions are visually."
   ]
  },
  {
   "cell_type": "code",
   "execution_count": 82,
   "metadata": {},
   "outputs": [
    {
     "data": {
      "text/plain": [
       "Text(0.5, 1.0, 'Actual and Predicted Values against Holdout Set')"
      ]
     },
     "execution_count": 82,
     "metadata": {},
     "output_type": "execute_result"
    },
    {
     "data": {
      "image/png": "[encoded data removed]",
      "text/plain": [
       "<Figure size 432x288 with 1 Axes>"
      ]
     },
     "metadata": {},
     "output_type": "display_data"
    }
   ],
   "source": [
    "plt.plot(df_holdoutWithPreds['count_cmplnt'].head(100),'b-',label='Actual')\n",
    "plt.plot(df_holdoutWithPreds['prediction'].head(100),'ro',label='Prediction')\n",
    "plt.legend()\n",
    "plt.xlabel('observation'); plt.ylabel('crime_volume'); plt.title('Actual and Predicted Values against Holdout Set')"
   ]
  },
  {
   "cell_type": "code",
   "execution_count": 84,
   "metadata": {},
   "outputs": [],
   "source": [
    "df_holdoutWithPreds['PredLessActual'] = df_holdoutWithPreds['prediction']-df_holdoutWithPreds['count_cmplnt']"
   ]
  },
  {
   "cell_type": "markdown",
   "metadata": {},
   "source": [
    "Below, we create a boxplot of the residuals to get a sense of the distribution of how far off our predictions are.  you can see that 50% of the predictions are between -1.28 and .94"
   ]
  },
  {
   "cell_type": "code",
   "execution_count": 89,
   "metadata": {},
   "outputs": [
    {
     "data": {
      "text/plain": [
       "count    18962.000000\n",
       "mean        -0.373841\n",
       "std          2.696048\n",
       "min        -36.260000\n",
       "25%         -1.280000\n",
       "50%          0.000000\n",
       "75%          0.940000\n",
       "max         15.480000\n",
       "Name: PredLessActual, dtype: float64"
      ]
     },
     "execution_count": 89,
     "metadata": {},
     "output_type": "execute_result"
    }
   ],
   "source": [
    "df_holdoutWithPreds['PredLessActual'].describe()"
   ]
  },
  {
   "cell_type": "code",
   "execution_count": 85,
   "metadata": {},
   "outputs": [
    {
     "data": {
      "text/plain": [
       "{'whiskers': [<matplotlib.lines.Line2D at 0x2080074e788>,\n",
       "  <matplotlib.lines.Line2D at 0x2080076bc48>],\n",
       " 'caps': [<matplotlib.lines.Line2D at 0x2080076bdc8>,\n",
       "  <matplotlib.lines.Line2D at 0x20800770a08>],\n",
       " 'boxes': [<matplotlib.lines.Line2D at 0x2080076b788>],\n",
       " 'medians': [<matplotlib.lines.Line2D at 0x20800770ec8>],\n",
       " 'fliers': [<matplotlib.lines.Line2D at 0x20800770f88>],\n",
       " 'means': []}"
      ]
     },
     "execution_count": 85,
     "metadata": {},
     "output_type": "execute_result"
    },
    {
     "data": {
      "image/png": "[encoded data removed]",
      "text/plain": [
       "<Figure size 432x288 with 1 Axes>"
      ]
     },
     "metadata": {},
     "output_type": "display_data"
    }
   ],
   "source": [
    "fig1, ax1 = plt.subplots()\n",
    "ax1.set_title('residual boxplot')\n",
    "ax1.boxplot(df_holdoutWithPreds['PredLessActual'])"
   ]
  },
  {
   "cell_type": "code",
   "execution_count": 88,
   "metadata": {},
   "outputs": [
    {
     "data": {
      "text/html": [
       "<div>\n",
       "<style scoped>\n",
       "    .dataframe tbody tr th:only-of-type {\n",
       "        vertical-align: middle;\n",
       "    }\n",
       "\n",
       "    .dataframe tbody tr th {\n",
       "        vertical-align: top;\n",
       "    }\n",
       "\n",
       "    .dataframe thead th {\n",
       "        text-align: right;\n",
       "    }\n",
       "</style>\n",
       "<table border=\"1\" class=\"dataframe\">\n",
       "  <thead>\n",
       "    <tr style=\"text-align: right;\">\n",
       "      <th></th>\n",
       "      <th>PRCP</th>\n",
       "      <th>TMIN</th>\n",
       "      <th>TMAX</th>\n",
       "      <th>x0_Day</th>\n",
       "      <th>x0_Early Morning</th>\n",
       "      <th>x0_Evening</th>\n",
       "      <th>x0_Late Night</th>\n",
       "      <th>x0_Morning</th>\n",
       "      <th>x0_Night</th>\n",
       "      <th>x1_Friday</th>\n",
       "      <th>...</th>\n",
       "      <th>x4_BRONX</th>\n",
       "      <th>x4_BROOKLYN</th>\n",
       "      <th>x4_MANHATTAN</th>\n",
       "      <th>x4_QUEENS</th>\n",
       "      <th>Day</th>\n",
       "      <th>Year</th>\n",
       "      <th>GeoCell</th>\n",
       "      <th>count_cmplnt</th>\n",
       "      <th>prediction</th>\n",
       "      <th>PredLessActual</th>\n",
       "    </tr>\n",
       "  </thead>\n",
       "  <tbody>\n",
       "    <tr>\n",
       "      <th>13903</th>\n",
       "      <td>1.622</td>\n",
       "      <td>0.114212</td>\n",
       "      <td>-0.294761</td>\n",
       "      <td>0.0</td>\n",
       "      <td>0.0</td>\n",
       "      <td>0.0</td>\n",
       "      <td>0.0</td>\n",
       "      <td>1.0</td>\n",
       "      <td>0.0</td>\n",
       "      <td>0.0</td>\n",
       "      <td>...</td>\n",
       "      <td>0.0</td>\n",
       "      <td>0.0</td>\n",
       "      <td>1.0</td>\n",
       "      <td>0.0</td>\n",
       "      <td>1.0</td>\n",
       "      <td>2015.0</td>\n",
       "      <td>76.0</td>\n",
       "      <td>44</td>\n",
       "      <td>7.74</td>\n",
       "      <td>-36.26</td>\n",
       "    </tr>\n",
       "  </tbody>\n",
       "</table>\n",
       "<p>1 rows × 25 columns</p>\n",
       "</div>"
      ],
      "text/plain": [
       "        PRCP      TMIN      TMAX  x0_Day  x0_Early Morning  x0_Evening  \\\n",
       "13903  1.622  0.114212 -0.294761     0.0               0.0         0.0   \n",
       "\n",
       "       x0_Late Night  x0_Morning  x0_Night  x1_Friday  ...  x4_BRONX  \\\n",
       "13903            0.0         1.0       0.0        0.0  ...       0.0   \n",
       "\n",
       "       x4_BROOKLYN  x4_MANHATTAN  x4_QUEENS  Day    Year  GeoCell  \\\n",
       "13903          0.0           1.0        0.0  1.0  2015.0     76.0   \n",
       "\n",
       "       count_cmplnt  prediction  PredLessActual  \n",
       "13903            44        7.74          -36.26  \n",
       "\n",
       "[1 rows x 25 columns]"
      ]
     },
     "execution_count": 88,
     "metadata": {},
     "output_type": "execute_result"
    }
   ],
   "source": [
    "#let's take a look at that prediction that was less than 30 away to see what the actual value was\n",
    "df_holdoutWithPreds[df_holdoutWithPreds['PredLessActual']<-30]"
   ]
  },
  {
   "cell_type": "markdown",
   "metadata": {},
   "source": [
    "Below are the final metrics for the Random Forest Regression including Root Mean Squared Error and Mean Absolute Error"
   ]
  },
  {
   "cell_type": "markdown",
   "metadata": {},
   "source": [
    "| Model | Test Set RMSE | Holdout Set RMSE | Test Set MAE | Holdout Set MAE |\n",
    "| :----------- | ----------- |----------- |----------- |----------- |\n",
    "| Random Forest Regression | 2.77 | 2.72 | 1.75 | 1.74 |"
   ]
  }
 ],
 "metadata": {
  "kernelspec": {
   "display_name": "Python 3",
   "language": "python",
   "name": "python3"
  },
  "language_info": {
   "codemirror_mode": {
    "name": "ipython",
    "version": 3
   },
   "file_extension": ".py",
   "mimetype": "text/x-python",
   "name": "python",
   "nbconvert_exporter": "python",
   "pygments_lexer": "ipython3",
   "version": "3.7.6"
  }
 },
 "nbformat": 4,
 "nbformat_minor": 4
}
