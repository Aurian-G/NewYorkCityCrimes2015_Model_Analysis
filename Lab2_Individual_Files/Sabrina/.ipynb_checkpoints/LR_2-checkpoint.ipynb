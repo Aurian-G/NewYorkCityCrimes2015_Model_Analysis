{
 "cells": [
  {
   "cell_type": "markdown",
   "metadata": {},
   "source": [
    "# Linear Regression"
   ]
  },
  {
   "cell_type": "code",
   "execution_count": 23,
   "metadata": {},
   "outputs": [],
   "source": [
    "import pandas as pd\n",
    "import numpy as np\n",
    "from sklearn.linear_model import LinearRegression"
   ]
  },
  {
   "cell_type": "code",
   "execution_count": 24,
   "metadata": {},
   "outputs": [],
   "source": [
    "crime = pd.read_csv('Training_and_Test_Set.csv') # read in the csv %%file"
   ]
  },
  {
   "cell_type": "code",
   "execution_count": 25,
   "metadata": {
    "scrolled": true
   },
   "outputs": [
    {
     "data": {
      "text/html": [
       "<div>\n",
       "<style scoped>\n",
       "    .dataframe tbody tr th:only-of-type {\n",
       "        vertical-align: middle;\n",
       "    }\n",
       "\n",
       "    .dataframe tbody tr th {\n",
       "        vertical-align: top;\n",
       "    }\n",
       "\n",
       "    .dataframe thead th {\n",
       "        text-align: right;\n",
       "    }\n",
       "</style>\n",
       "<table border=\"1\" class=\"dataframe\">\n",
       "  <thead>\n",
       "    <tr style=\"text-align: right;\">\n",
       "      <th></th>\n",
       "      <th>CMPLNT_FR_DT</th>\n",
       "      <th>Daytime</th>\n",
       "      <th>Day_Name</th>\n",
       "      <th>Month</th>\n",
       "      <th>Day</th>\n",
       "      <th>Year</th>\n",
       "      <th>Season</th>\n",
       "      <th>GeoCell</th>\n",
       "      <th>BORO_NM</th>\n",
       "      <th>PRCP</th>\n",
       "      <th>...</th>\n",
       "      <th>TMIN</th>\n",
       "      <th>TMAX</th>\n",
       "      <th>Population</th>\n",
       "      <th>PC_INCOME</th>\n",
       "      <th>Hm_Sls_Price_Range</th>\n",
       "      <th>Holiday</th>\n",
       "      <th>Event</th>\n",
       "      <th>is_Holiday</th>\n",
       "      <th>is_Event</th>\n",
       "      <th>count_cmplnt</th>\n",
       "    </tr>\n",
       "  </thead>\n",
       "  <tbody>\n",
       "    <tr>\n",
       "      <th>0</th>\n",
       "      <td>11/26/2014</td>\n",
       "      <td>Morning</td>\n",
       "      <td>Wednesday</td>\n",
       "      <td>November</td>\n",
       "      <td>26</td>\n",
       "      <td>2014</td>\n",
       "      <td>Fall</td>\n",
       "      <td>66</td>\n",
       "      <td>QUEENS</td>\n",
       "      <td>1.24</td>\n",
       "      <td>...</td>\n",
       "      <td>34</td>\n",
       "      <td>51</td>\n",
       "      <td>2250002</td>\n",
       "      <td>40997</td>\n",
       "      <td>Medium</td>\n",
       "      <td>NaN</td>\n",
       "      <td>NaN</td>\n",
       "      <td>0</td>\n",
       "      <td>0</td>\n",
       "      <td>1</td>\n",
       "    </tr>\n",
       "    <tr>\n",
       "      <th>1</th>\n",
       "      <td>12/1/2014</td>\n",
       "      <td>Late Night</td>\n",
       "      <td>Monday</td>\n",
       "      <td>December</td>\n",
       "      <td>1</td>\n",
       "      <td>2014</td>\n",
       "      <td>Winter</td>\n",
       "      <td>60</td>\n",
       "      <td>QUEENS</td>\n",
       "      <td>0.09</td>\n",
       "      <td>...</td>\n",
       "      <td>42</td>\n",
       "      <td>65</td>\n",
       "      <td>2250002</td>\n",
       "      <td>40997</td>\n",
       "      <td>Medium</td>\n",
       "      <td>NaN</td>\n",
       "      <td>NaN</td>\n",
       "      <td>0</td>\n",
       "      <td>0</td>\n",
       "      <td>1</td>\n",
       "    </tr>\n",
       "    <tr>\n",
       "      <th>2</th>\n",
       "      <td>11/10/2015</td>\n",
       "      <td>Morning</td>\n",
       "      <td>Tuesday</td>\n",
       "      <td>November</td>\n",
       "      <td>10</td>\n",
       "      <td>2015</td>\n",
       "      <td>Fall</td>\n",
       "      <td>15</td>\n",
       "      <td>BROOKLYN</td>\n",
       "      <td>0.26</td>\n",
       "      <td>...</td>\n",
       "      <td>51</td>\n",
       "      <td>57</td>\n",
       "      <td>2552911</td>\n",
       "      <td>43915</td>\n",
       "      <td>High</td>\n",
       "      <td>NaN</td>\n",
       "      <td>NaN</td>\n",
       "      <td>0</td>\n",
       "      <td>0</td>\n",
       "      <td>2</td>\n",
       "    </tr>\n",
       "    <tr>\n",
       "      <th>3</th>\n",
       "      <td>2/4/2014</td>\n",
       "      <td>Morning</td>\n",
       "      <td>Tuesday</td>\n",
       "      <td>February</td>\n",
       "      <td>4</td>\n",
       "      <td>2014</td>\n",
       "      <td>Winter</td>\n",
       "      <td>48</td>\n",
       "      <td>QUEENS</td>\n",
       "      <td>0.00</td>\n",
       "      <td>...</td>\n",
       "      <td>22</td>\n",
       "      <td>35</td>\n",
       "      <td>2250002</td>\n",
       "      <td>40997</td>\n",
       "      <td>Medium</td>\n",
       "      <td>NaN</td>\n",
       "      <td>NaN</td>\n",
       "      <td>0</td>\n",
       "      <td>0</td>\n",
       "      <td>3</td>\n",
       "    </tr>\n",
       "    <tr>\n",
       "      <th>4</th>\n",
       "      <td>8/25/2015</td>\n",
       "      <td>Late Night</td>\n",
       "      <td>Tuesday</td>\n",
       "      <td>August</td>\n",
       "      <td>25</td>\n",
       "      <td>2015</td>\n",
       "      <td>Summer</td>\n",
       "      <td>35</td>\n",
       "      <td>BROOKLYN</td>\n",
       "      <td>0.00</td>\n",
       "      <td>...</td>\n",
       "      <td>73</td>\n",
       "      <td>90</td>\n",
       "      <td>2552911</td>\n",
       "      <td>43915</td>\n",
       "      <td>High</td>\n",
       "      <td>NaN</td>\n",
       "      <td>NaN</td>\n",
       "      <td>0</td>\n",
       "      <td>0</td>\n",
       "      <td>1</td>\n",
       "    </tr>\n",
       "  </tbody>\n",
       "</table>\n",
       "<p>5 rows × 21 columns</p>\n",
       "</div>"
      ],
      "text/plain": [
       "  CMPLNT_FR_DT     Daytime   Day_Name     Month  Day  Year  Season  GeoCell  \\\n",
       "0   11/26/2014     Morning  Wednesday  November   26  2014    Fall       66   \n",
       "1    12/1/2014  Late Night     Monday  December    1  2014  Winter       60   \n",
       "2   11/10/2015     Morning    Tuesday  November   10  2015    Fall       15   \n",
       "3     2/4/2014     Morning    Tuesday  February    4  2014  Winter       48   \n",
       "4    8/25/2015  Late Night    Tuesday    August   25  2015  Summer       35   \n",
       "\n",
       "    BORO_NM  PRCP  ...  TMIN  TMAX  Population  PC_INCOME  Hm_Sls_Price_Range  \\\n",
       "0    QUEENS  1.24  ...    34    51     2250002      40997              Medium   \n",
       "1    QUEENS  0.09  ...    42    65     2250002      40997              Medium   \n",
       "2  BROOKLYN  0.26  ...    51    57     2552911      43915                High   \n",
       "3    QUEENS  0.00  ...    22    35     2250002      40997              Medium   \n",
       "4  BROOKLYN  0.00  ...    73    90     2552911      43915                High   \n",
       "\n",
       "  Holiday Event is_Holiday  is_Event  count_cmplnt  \n",
       "0     NaN   NaN          0         0             1  \n",
       "1     NaN   NaN          0         0             1  \n",
       "2     NaN   NaN          0         0             2  \n",
       "3     NaN   NaN          0         0             3  \n",
       "4     NaN   NaN          0         0             1  \n",
       "\n",
       "[5 rows x 21 columns]"
      ]
     },
     "execution_count": 25,
     "metadata": {},
     "output_type": "execute_result"
    }
   ],
   "source": [
    "crime.head()"
   ]
  },
  {
   "cell_type": "code",
   "execution_count": 26,
   "metadata": {},
   "outputs": [],
   "source": [
    "# perform one-hot encoding of the categorical data \n",
    "tmp_df = pd.get_dummies(crime.BORO_NM,prefix='BORO_NM')\n",
    "crime = pd.concat((crime,tmp_df),axis=1) # add back into the dataframe\n",
    "\n",
    "tmp_df = pd.get_dummies(crime.Day_Name,prefix='Day_Name')\n",
    "crime = pd.concat((crime,tmp_df),axis=1) # add back into the dataframe\n",
    "\n",
    "tmp_df = pd.get_dummies(crime.Month,prefix='Month')\n",
    "crime = pd.concat((crime,tmp_df),axis=1) # add back into the dataframe\n",
    "\n",
    "tmp_df = pd.get_dummies(crime.Season,prefix='Season')\n",
    "crime = pd.concat((crime,tmp_df),axis=1) # add back into the dataframe\n",
    "\n",
    "tmp_df = pd.get_dummies(crime.Daytime,prefix='Daytime')\n",
    "crime = pd.concat((crime,tmp_df),axis=1) # add back into the dataframe\n",
    "\n",
    "tmp_df = pd.get_dummies(crime.Daytime,prefix='Hm_Sls_Price_Range')\n",
    "crime = pd.concat((crime,tmp_df),axis=1) # add back into the dataframe"
   ]
  },
  {
   "cell_type": "code",
   "execution_count": 27,
   "metadata": {},
   "outputs": [],
   "source": [
    "#Now we drop the original variables\n",
    "if 'BORO_NM' in crime:    \n",
    "    del crime['BORO_NM'] # get rid of the original category as it is now one-hot encoded\n",
    "if 'Day_Name' in crime:    \n",
    "    del crime['Day_Name'] # get rid of the original category as it is now one-hot encoded\n",
    "if 'Month' in crime:    \n",
    "    del crime['Month'] # get rid of the original category as it is now one-hot encoded\n",
    "if 'Season' in crime:    \n",
    "    del crime['Season'] # get rid of the original category as it is now one-hot encoded\n",
    "if 'Daytime' in crime:    \n",
    "    del crime['Daytime'] # get rid of the original category as it is now one-hot encoded\n",
    "if 'Hm_Sls_Price_Range' in crime:    \n",
    "    del crime['Hm_Sls_Price_Range'] # get rid of the original category as it is now one-hot encoded"
   ]
  },
  {
   "cell_type": "code",
   "execution_count": 28,
   "metadata": {},
   "outputs": [],
   "source": [
    "#binary Y/N converted to Is Holiday or Is Event.  Can drop originals\n",
    "if 'Holiday' in crime:    \n",
    "    del crime['Holiday']\n",
    "if 'Event' in crime:    \n",
    "    del crime['Event']"
   ]
  },
  {
   "cell_type": "code",
   "execution_count": 29,
   "metadata": {
    "scrolled": true
   },
   "outputs": [
    {
     "name": "stdout",
     "output_type": "stream",
     "text": [
      "<class 'pandas.core.frame.DataFrame'>\n",
      "RangeIndex: 170650 entries, 0 to 170649\n",
      "Data columns (total 53 columns):\n",
      " #   Column                            Non-Null Count   Dtype  \n",
      "---  ------                            --------------   -----  \n",
      " 0   CMPLNT_FR_DT                      170650 non-null  object \n",
      " 1   Day                               170650 non-null  int64  \n",
      " 2   Year                              170650 non-null  int64  \n",
      " 3   GeoCell                           170650 non-null  int64  \n",
      " 4   PRCP                              170650 non-null  float64\n",
      " 5   SNOW                              170650 non-null  float64\n",
      " 6   TMIN                              170650 non-null  int64  \n",
      " 7   TMAX                              170650 non-null  int64  \n",
      " 8   Population                        170650 non-null  int64  \n",
      " 9   PC_INCOME                         170650 non-null  int64  \n",
      " 10  is_Holiday                        170650 non-null  int64  \n",
      " 11  is_Event                          170650 non-null  int64  \n",
      " 12  count_cmplnt                      170650 non-null  int64  \n",
      " 13  BORO_NM_BRONX                     170650 non-null  uint8  \n",
      " 14  BORO_NM_BROOKLYN                  170650 non-null  uint8  \n",
      " 15  BORO_NM_MANHATTAN                 170650 non-null  uint8  \n",
      " 16  BORO_NM_QUEENS                    170650 non-null  uint8  \n",
      " 17  BORO_NM_STATEN ISLAND             170650 non-null  uint8  \n",
      " 18  Day_Name_Friday                   170650 non-null  uint8  \n",
      " 19  Day_Name_Monday                   170650 non-null  uint8  \n",
      " 20  Day_Name_Saturday                 170650 non-null  uint8  \n",
      " 21  Day_Name_Sunday                   170650 non-null  uint8  \n",
      " 22  Day_Name_Thursday                 170650 non-null  uint8  \n",
      " 23  Day_Name_Tuesday                  170650 non-null  uint8  \n",
      " 24  Day_Name_Wednesday                170650 non-null  uint8  \n",
      " 25  Month_April                       170650 non-null  uint8  \n",
      " 26  Month_August                      170650 non-null  uint8  \n",
      " 27  Month_December                    170650 non-null  uint8  \n",
      " 28  Month_February                    170650 non-null  uint8  \n",
      " 29  Month_January                     170650 non-null  uint8  \n",
      " 30  Month_July                        170650 non-null  uint8  \n",
      " 31  Month_June                        170650 non-null  uint8  \n",
      " 32  Month_March                       170650 non-null  uint8  \n",
      " 33  Month_May                         170650 non-null  uint8  \n",
      " 34  Month_November                    170650 non-null  uint8  \n",
      " 35  Month_October                     170650 non-null  uint8  \n",
      " 36  Month_September                   170650 non-null  uint8  \n",
      " 37  Season_Fall                       170650 non-null  uint8  \n",
      " 38  Season_Spring                     170650 non-null  uint8  \n",
      " 39  Season_Summer                     170650 non-null  uint8  \n",
      " 40  Season_Winter                     170650 non-null  uint8  \n",
      " 41  Daytime_Day                       170650 non-null  uint8  \n",
      " 42  Daytime_Early Morning             170650 non-null  uint8  \n",
      " 43  Daytime_Evening                   170650 non-null  uint8  \n",
      " 44  Daytime_Late Night                170650 non-null  uint8  \n",
      " 45  Daytime_Morning                   170650 non-null  uint8  \n",
      " 46  Daytime_Night                     170650 non-null  uint8  \n",
      " 47  Hm_Sls_Price_Range_Day            170650 non-null  uint8  \n",
      " 48  Hm_Sls_Price_Range_Early Morning  170650 non-null  uint8  \n",
      " 49  Hm_Sls_Price_Range_Evening        170650 non-null  uint8  \n",
      " 50  Hm_Sls_Price_Range_Late Night     170650 non-null  uint8  \n",
      " 51  Hm_Sls_Price_Range_Morning        170650 non-null  uint8  \n",
      " 52  Hm_Sls_Price_Range_Night          170650 non-null  uint8  \n",
      "dtypes: float64(2), int64(10), object(1), uint8(40)\n",
      "memory usage: 23.4+ MB\n"
     ]
    }
   ],
   "source": [
    "#check datatypes for conversions needed\n",
    "crime.info()"
   ]
  },
  {
   "cell_type": "code",
   "execution_count": null,
   "metadata": {},
   "outputs": [],
   "source": [
    "#split test and training set\n",
    "\n",
    "# to use the cross validation object in scikit learn, we need to grab an instance\n",
    "#    of the object and set it up. This object will be able to split our data into \n",
    "#    training and testing splits\n",
    "num_cv_iterations = 3\n",
    "num_instances = len(y)\n",
    "cv_object = ShuffleSplit(n_splits=num_cv_iterations,\n",
    "                         test_size  = 0.2)\n",
    "                         \n",
    "print(cv_object)"
   ]
  },
  {
   "cell_type": "code",
   "execution_count": null,
   "metadata": {},
   "outputs": [],
   "source": []
  },
  {
   "cell_type": "code",
   "execution_count": null,
   "metadata": {},
   "outputs": [],
   "source": []
  },
  {
   "cell_type": "code",
   "execution_count": null,
   "metadata": {},
   "outputs": [],
   "source": []
  },
  {
   "cell_type": "code",
   "execution_count": 30,
   "metadata": {
    "scrolled": true
   },
   "outputs": [
    {
     "name": "stdout",
     "output_type": "stream",
     "text": [
      "<class 'pandas.core.frame.DataFrame'>\n",
      "RangeIndex: 170650 entries, 0 to 170649\n",
      "Data columns (total 52 columns):\n",
      " #   Column                            Non-Null Count   Dtype  \n",
      "---  ------                            --------------   -----  \n",
      " 0   Day                               170650 non-null  int64  \n",
      " 1   Year                              170650 non-null  int64  \n",
      " 2   GeoCell                           170650 non-null  int64  \n",
      " 3   PRCP                              170650 non-null  float64\n",
      " 4   SNOW                              170650 non-null  float64\n",
      " 5   TMIN                              170650 non-null  int64  \n",
      " 6   TMAX                              170650 non-null  int64  \n",
      " 7   Population                        170650 non-null  int64  \n",
      " 8   PC_INCOME                         170650 non-null  int64  \n",
      " 9   is_Holiday                        170650 non-null  int64  \n",
      " 10  is_Event                          170650 non-null  int64  \n",
      " 11  count_cmplnt                      170650 non-null  int64  \n",
      " 12  BORO_NM_BRONX                     170650 non-null  uint8  \n",
      " 13  BORO_NM_BROOKLYN                  170650 non-null  uint8  \n",
      " 14  BORO_NM_MANHATTAN                 170650 non-null  uint8  \n",
      " 15  BORO_NM_QUEENS                    170650 non-null  uint8  \n",
      " 16  BORO_NM_STATEN ISLAND             170650 non-null  uint8  \n",
      " 17  Day_Name_Friday                   170650 non-null  uint8  \n",
      " 18  Day_Name_Monday                   170650 non-null  uint8  \n",
      " 19  Day_Name_Saturday                 170650 non-null  uint8  \n",
      " 20  Day_Name_Sunday                   170650 non-null  uint8  \n",
      " 21  Day_Name_Thursday                 170650 non-null  uint8  \n",
      " 22  Day_Name_Tuesday                  170650 non-null  uint8  \n",
      " 23  Day_Name_Wednesday                170650 non-null  uint8  \n",
      " 24  Month_April                       170650 non-null  uint8  \n",
      " 25  Month_August                      170650 non-null  uint8  \n",
      " 26  Month_December                    170650 non-null  uint8  \n",
      " 27  Month_February                    170650 non-null  uint8  \n",
      " 28  Month_January                     170650 non-null  uint8  \n",
      " 29  Month_July                        170650 non-null  uint8  \n",
      " 30  Month_June                        170650 non-null  uint8  \n",
      " 31  Month_March                       170650 non-null  uint8  \n",
      " 32  Month_May                         170650 non-null  uint8  \n",
      " 33  Month_November                    170650 non-null  uint8  \n",
      " 34  Month_October                     170650 non-null  uint8  \n",
      " 35  Month_September                   170650 non-null  uint8  \n",
      " 36  Season_Fall                       170650 non-null  uint8  \n",
      " 37  Season_Spring                     170650 non-null  uint8  \n",
      " 38  Season_Summer                     170650 non-null  uint8  \n",
      " 39  Season_Winter                     170650 non-null  uint8  \n",
      " 40  Daytime_Day                       170650 non-null  uint8  \n",
      " 41  Daytime_Early Morning             170650 non-null  uint8  \n",
      " 42  Daytime_Evening                   170650 non-null  uint8  \n",
      " 43  Daytime_Late Night                170650 non-null  uint8  \n",
      " 44  Daytime_Morning                   170650 non-null  uint8  \n",
      " 45  Daytime_Night                     170650 non-null  uint8  \n",
      " 46  Hm_Sls_Price_Range_Day            170650 non-null  uint8  \n",
      " 47  Hm_Sls_Price_Range_Early Morning  170650 non-null  uint8  \n",
      " 48  Hm_Sls_Price_Range_Evening        170650 non-null  uint8  \n",
      " 49  Hm_Sls_Price_Range_Late Night     170650 non-null  uint8  \n",
      " 50  Hm_Sls_Price_Range_Morning        170650 non-null  uint8  \n",
      " 51  Hm_Sls_Price_Range_Night          170650 non-null  uint8  \n",
      "dtypes: float64(2), int64(10), uint8(40)\n",
      "memory usage: 22.1 MB\n"
     ]
    }
   ],
   "source": [
    "#evaluating a linear regression model\n",
    "# create x explanatory and y response variables for regression\n",
    "y = crime['count_cmplnt']\n",
    "\n",
    "#Delete the response variable from our training dataset\n",
    "X = crime.drop('count_cmplnt', axis=1)\n",
    "X = crime.drop('CMPLNT_FR_DT', axis=1) #dropping this because I have day, month and year as columns\n",
    "\n",
    "#inspect data \n",
    "X.info()"
   ]
  },
  {
   "cell_type": "code",
   "execution_count": 36,
   "metadata": {},
   "outputs": [
    {
     "data": {
      "text/plain": [
       "count    170650.000000\n",
       "mean          4.714122\n",
       "std           5.140051\n",
       "min           1.000000\n",
       "25%           1.000000\n",
       "50%           3.000000\n",
       "75%           6.000000\n",
       "max         132.000000\n",
       "Name: count_cmplnt, dtype: float64"
      ]
     },
     "execution_count": 36,
     "metadata": {},
     "output_type": "execute_result"
    }
   ],
   "source": [
    "y.describe()"
   ]
  },
  {
   "cell_type": "code",
   "execution_count": 10,
   "metadata": {},
   "outputs": [],
   "source": [
    "#Divide data into test and training splits\n",
    "from sklearn.model_selection import ShuffleSplit\n",
    "cv = ShuffleSplit(n_splits=10, test_size=0.10, random_state=0)"
   ]
  },
  {
   "cell_type": "code",
   "execution_count": 11,
   "metadata": {},
   "outputs": [],
   "source": [
    "#Use mean absolute error (MAE) to score the regression models created \n",
    "#(the scale of MAE is identical to the response variable)\n",
    "from sklearn.metrics import mean_absolute_error, make_scorer, mean_squared_error\n",
    "\n",
    "#Function for Root mean squared error\n",
    "#https://stackoverflow.com/questions/17197492/root-mean-square-error-in-python\n",
    "def rmse(y_actual, y_predicted):\n",
    "    return np.sqrt(mean_squared_error(y_actual, y_predicted))\n",
    "\n",
    "#Function for Mean Absolute Percentage Error (MAPE) - Untested\n",
    "#Adapted from - https://stackoverflow.com/questions/42250958/how-to-optimize-mape-code-in-python\n",
    "def mape(y_actual, y_predicted): \n",
    "    mask = y_actual != 0\n",
    "    return (np.fabs(y_actual - y_predicted)/y_actual)[mask].mean() * 100\n",
    "\n",
    "#Create scorers for rmse and mape functions\n",
    "mae_scorer = make_scorer(score_func=mean_absolute_error, greater_is_better=False)\n",
    "rmse_scorer = make_scorer(score_func=rmse, greater_is_better=False)\n",
    "mape_scorer = make_scorer(score_func=mape, greater_is_better=False)\n",
    "\n",
    "#Make scorer array to pass into cross_validate() function for producing mutiple scores for each cv fold.\n",
    "errorScoring = {'MAE':  mae_scorer, \n",
    "                'RMSE': rmse_scorer,\n",
    "                'MAPE': mape_scorer\n",
    "               } "
   ]
  },
  {
   "cell_type": "code",
   "execution_count": 12,
   "metadata": {},
   "outputs": [],
   "source": [
    "from sklearn.model_selection import cross_validate\n",
    "\n",
    "def EvaluateRegressionEstimator(regEstimator, X, y, cv):\n",
    "    \n",
    "    scores = cross_validate(regEstimator, X, y, scoring=errorScoring, cv=cv, return_train_score=True)\n",
    "\n",
    "    #cross val score sign-flips the outputs of MAE\n",
    "    # https://github.com/scikit-learn/scikit-learn/issues/2439\n",
    "    scores['test_MAE'] = scores['test_MAE'] * -1\n",
    "    scores['test_MAPE'] = scores['test_MAPE'] * -1\n",
    "    scores['test_RMSE'] = scores['test_RMSE'] * -1\n",
    "\n",
    "    #print mean MAE for all folds \n",
    "    maeAvg = scores['test_MAE'].mean()\n",
    "    print_str = \"The average MAE for all cv folds is: \\t\\t\\t {maeAvg:.5}\"\n",
    "    print(print_str.format(maeAvg=maeAvg))\n",
    "\n",
    "    #print mean test_MAPE for all folds\n",
    "    scores['test_MAPE'] = scores['test_MAPE']\n",
    "    mape_avg = scores['test_MAPE'].mean()\n",
    "    print_str = \"The average MAE percentage (MAPE) for all cv folds is: \\t {mape_avg:.5}\"\n",
    "    print(print_str.format(mape_avg=mape_avg))\n",
    "\n",
    "    #print mean MAE for all folds \n",
    "    RMSEavg = scores['test_RMSE'].mean()\n",
    "    print_str = \"The average RMSE for all cv folds is: \\t\\t\\t {RMSEavg:.5}\"\n",
    "    print(print_str.format(RMSEavg=RMSEavg))\n",
    "    print('*********************************************************')\n",
    "\n",
    "    print('Cross Validation Fold Mean Error Scores')\n",
    "    scoresResults = pd.DataFrame()\n",
    "    scoresResults['MAE'] = scores['test_MAE']\n",
    "    scoresResults['MAPE'] = scores['test_MAPE']\n",
    "    scoresResults['RMSE'] = scores['test_RMSE']\n",
    "    return scoresResults\n"
   ]
  },
  {
   "cell_type": "code",
   "execution_count": 15,
   "metadata": {
    "scrolled": true
   },
   "outputs": [
    {
     "name": "stdout",
     "output_type": "stream",
     "text": [
      "Fitting 10 folds for each of 4 candidates, totalling 40 fits\n"
     ]
    },
    {
     "name": "stderr",
     "output_type": "stream",
     "text": [
      "[Parallel(n_jobs=1)]: Using backend SequentialBackend with 1 concurrent workers.\n",
      "[Parallel(n_jobs=1)]: Done  40 out of  40 | elapsed:   32.2s finished\n"
     ]
    },
    {
     "data": {
      "text/plain": [
       "GridSearchCV(cv=ShuffleSplit(n_splits=10, random_state=0, test_size=0.1, train_size=None),\n",
       "             estimator=LinearRegression(),\n",
       "             param_grid={'fit_intercept': (True, False),\n",
       "                         'normalize': (True, False)},\n",
       "             scoring=make_scorer(mean_absolute_error, greater_is_better=False),\n",
       "             verbose=1)"
      ]
     },
     "execution_count": 15,
     "metadata": {},
     "output_type": "execute_result"
    }
   ],
   "source": [
    "#Create a Linear Regression object and perform a grid search to find the best parameters\n",
    "linreg = LinearRegression()\n",
    "parameters = {'normalize':(True,False), 'fit_intercept':(True,False)}\n",
    "\n",
    "#Create a grid search object using the  \n",
    "from sklearn.model_selection import GridSearchCV\n",
    "regGridSearch = GridSearchCV(estimator=linreg\n",
    "                   , verbose=1 # low verbosity\n",
    "                   , param_grid=parameters\n",
    "                   , cv=cv # KFolds = 10\n",
    "                   , scoring=mae_scorer)\n",
    "\n",
    "#Perform hyperparameter search to find the best combination of parameters for our data\n",
    "regGridSearch.fit(X, y)"
   ]
  },
  {
   "cell_type": "code",
   "execution_count": 16,
   "metadata": {},
   "outputs": [
    {
     "data": {
      "text/plain": [
       "LinearRegression(normalize=True)"
      ]
     },
     "execution_count": 16,
     "metadata": {},
     "output_type": "execute_result"
    }
   ],
   "source": [
    "#Print the parameterization of the best estimator\n",
    "regGridSearch.best_estimator_"
   ]
  },
  {
   "cell_type": "code",
   "execution_count": 17,
   "metadata": {
    "scrolled": true
   },
   "outputs": [
    {
     "name": "stdout",
     "output_type": "stream",
     "text": [
      "The average MAE for all cv folds is: \t\t\t 9.5717e-15\n",
      "The average MAE percentage (MAPE) for all cv folds is: \t 4.5023e-13\n",
      "The average RMSE for all cv folds is: \t\t\t 1.2041e-14\n",
      "*********************************************************\n",
      "Cross Validation Fold Mean Error Scores\n"
     ]
    },
    {
     "data": {
      "text/html": [
       "<div>\n",
       "<style scoped>\n",
       "    .dataframe tbody tr th:only-of-type {\n",
       "        vertical-align: middle;\n",
       "    }\n",
       "\n",
       "    .dataframe tbody tr th {\n",
       "        vertical-align: top;\n",
       "    }\n",
       "\n",
       "    .dataframe thead th {\n",
       "        text-align: right;\n",
       "    }\n",
       "</style>\n",
       "<table border=\"1\" class=\"dataframe\">\n",
       "  <thead>\n",
       "    <tr style=\"text-align: right;\">\n",
       "      <th></th>\n",
       "      <th>MAE</th>\n",
       "      <th>MAPE</th>\n",
       "      <th>RMSE</th>\n",
       "    </tr>\n",
       "  </thead>\n",
       "  <tbody>\n",
       "    <tr>\n",
       "      <th>0</th>\n",
       "      <td>1.284496e-14</td>\n",
       "      <td>5.772997e-13</td>\n",
       "      <td>1.576470e-14</td>\n",
       "    </tr>\n",
       "    <tr>\n",
       "      <th>1</th>\n",
       "      <td>6.592266e-15</td>\n",
       "      <td>3.180736e-13</td>\n",
       "      <td>8.188876e-15</td>\n",
       "    </tr>\n",
       "    <tr>\n",
       "      <th>2</th>\n",
       "      <td>1.109276e-14</td>\n",
       "      <td>5.282709e-13</td>\n",
       "      <td>1.369531e-14</td>\n",
       "    </tr>\n",
       "    <tr>\n",
       "      <th>3</th>\n",
       "      <td>1.753690e-14</td>\n",
       "      <td>8.245726e-13</td>\n",
       "      <td>2.263585e-14</td>\n",
       "    </tr>\n",
       "    <tr>\n",
       "      <th>4</th>\n",
       "      <td>6.253890e-15</td>\n",
       "      <td>3.140672e-13</td>\n",
       "      <td>8.066542e-15</td>\n",
       "    </tr>\n",
       "    <tr>\n",
       "      <th>5</th>\n",
       "      <td>6.586534e-15</td>\n",
       "      <td>3.012246e-13</td>\n",
       "      <td>8.326144e-15</td>\n",
       "    </tr>\n",
       "    <tr>\n",
       "      <th>6</th>\n",
       "      <td>8.580043e-15</td>\n",
       "      <td>4.013461e-13</td>\n",
       "      <td>1.068112e-14</td>\n",
       "    </tr>\n",
       "    <tr>\n",
       "      <th>7</th>\n",
       "      <td>7.607262e-15</td>\n",
       "      <td>3.488059e-13</td>\n",
       "      <td>9.695190e-15</td>\n",
       "    </tr>\n",
       "    <tr>\n",
       "      <th>8</th>\n",
       "      <td>7.988948e-15</td>\n",
       "      <td>3.748987e-13</td>\n",
       "      <td>1.008160e-14</td>\n",
       "    </tr>\n",
       "    <tr>\n",
       "      <th>9</th>\n",
       "      <td>1.063328e-14</td>\n",
       "      <td>5.137466e-13</td>\n",
       "      <td>1.327062e-14</td>\n",
       "    </tr>\n",
       "  </tbody>\n",
       "</table>\n",
       "</div>"
      ],
      "text/plain": [
       "            MAE          MAPE          RMSE\n",
       "0  1.284496e-14  5.772997e-13  1.576470e-14\n",
       "1  6.592266e-15  3.180736e-13  8.188876e-15\n",
       "2  1.109276e-14  5.282709e-13  1.369531e-14\n",
       "3  1.753690e-14  8.245726e-13  2.263585e-14\n",
       "4  6.253890e-15  3.140672e-13  8.066542e-15\n",
       "5  6.586534e-15  3.012246e-13  8.326144e-15\n",
       "6  8.580043e-15  4.013461e-13  1.068112e-14\n",
       "7  7.607262e-15  3.488059e-13  9.695190e-15\n",
       "8  7.988948e-15  3.748987e-13  1.008160e-14\n",
       "9  1.063328e-14  5.137466e-13  1.327062e-14"
      ]
     },
     "execution_count": 17,
     "metadata": {},
     "output_type": "execute_result"
    }
   ],
   "source": [
    "regEstimator = regGridSearch.best_estimator_\n",
    "\n",
    "#Evaluate the regression estimator above using our pre-defined cross validation and scoring metrics. \n",
    "EvaluateRegressionEstimator(regEstimator, X, y, cv)"
   ]
  },
  {
   "cell_type": "code",
   "execution_count": null,
   "metadata": {},
   "outputs": [],
   "source": []
  },
  {
   "cell_type": "code",
   "execution_count": null,
   "metadata": {},
   "outputs": [],
   "source": []
  },
  {
   "cell_type": "code",
   "execution_count": 39,
   "metadata": {},
   "outputs": [
    {
     "ename": "ValueError",
     "evalue": "The least populated class in y has only 1 member, which is too few. The minimum number of groups for any class cannot be less than 2.",
     "output_type": "error",
     "traceback": [
      "\u001b[1;31m---------------------------------------------------------------------------\u001b[0m",
      "\u001b[1;31mValueError\u001b[0m                                Traceback (most recent call last)",
      "\u001b[1;32m<ipython-input-39-c7e5b46ae531>\u001b[0m in \u001b[0;36m<module>\u001b[1;34m\u001b[0m\n\u001b[0;32m      5\u001b[0m \u001b[1;33m\u001b[0m\u001b[0m\n\u001b[0;32m      6\u001b[0m \u001b[1;31m# fill in the training and testing data and save as separate variables\u001b[0m\u001b[1;33m\u001b[0m\u001b[1;33m\u001b[0m\u001b[1;33m\u001b[0m\u001b[0m\n\u001b[1;32m----> 7\u001b[1;33m \u001b[1;32mfor\u001b[0m \u001b[0mtrainXY\u001b[0m\u001b[1;33m,\u001b[0m \u001b[0mtestXY\u001b[0m \u001b[1;32min\u001b[0m \u001b[0mcv\u001b[0m\u001b[1;33m:\u001b[0m\u001b[1;33m\u001b[0m\u001b[1;33m\u001b[0m\u001b[0m\n\u001b[0m\u001b[0;32m      8\u001b[0m     \u001b[1;31m# note that these are sparse matrices\u001b[0m\u001b[1;33m\u001b[0m\u001b[1;33m\u001b[0m\u001b[1;33m\u001b[0m\u001b[0m\n\u001b[0;32m      9\u001b[0m     \u001b[0mX_train\u001b[0m \u001b[1;33m=\u001b[0m \u001b[0mX\u001b[0m\u001b[1;33m[\u001b[0m\u001b[0mtrainXY\u001b[0m\u001b[1;33m]\u001b[0m\u001b[1;33m\u001b[0m\u001b[1;33m\u001b[0m\u001b[0m\n",
      "\u001b[1;32m~\\Anaconda3\\envs\\ML7331\\lib\\site-packages\\sklearn\\model_selection\\_split.py\u001b[0m in \u001b[0;36msplit\u001b[1;34m(self, X, y, groups)\u001b[0m\n\u001b[0;32m   1339\u001b[0m         \"\"\"\n\u001b[0;32m   1340\u001b[0m         \u001b[0mX\u001b[0m\u001b[1;33m,\u001b[0m \u001b[0my\u001b[0m\u001b[1;33m,\u001b[0m \u001b[0mgroups\u001b[0m \u001b[1;33m=\u001b[0m \u001b[0mindexable\u001b[0m\u001b[1;33m(\u001b[0m\u001b[0mX\u001b[0m\u001b[1;33m,\u001b[0m \u001b[0my\u001b[0m\u001b[1;33m,\u001b[0m \u001b[0mgroups\u001b[0m\u001b[1;33m)\u001b[0m\u001b[1;33m\u001b[0m\u001b[1;33m\u001b[0m\u001b[0m\n\u001b[1;32m-> 1341\u001b[1;33m         \u001b[1;32mfor\u001b[0m \u001b[0mtrain\u001b[0m\u001b[1;33m,\u001b[0m \u001b[0mtest\u001b[0m \u001b[1;32min\u001b[0m \u001b[0mself\u001b[0m\u001b[1;33m.\u001b[0m\u001b[0m_iter_indices\u001b[0m\u001b[1;33m(\u001b[0m\u001b[0mX\u001b[0m\u001b[1;33m,\u001b[0m \u001b[0my\u001b[0m\u001b[1;33m,\u001b[0m \u001b[0mgroups\u001b[0m\u001b[1;33m)\u001b[0m\u001b[1;33m:\u001b[0m\u001b[1;33m\u001b[0m\u001b[1;33m\u001b[0m\u001b[0m\n\u001b[0m\u001b[0;32m   1342\u001b[0m             \u001b[1;32myield\u001b[0m \u001b[0mtrain\u001b[0m\u001b[1;33m,\u001b[0m \u001b[0mtest\u001b[0m\u001b[1;33m\u001b[0m\u001b[1;33m\u001b[0m\u001b[0m\n\u001b[0;32m   1343\u001b[0m \u001b[1;33m\u001b[0m\u001b[0m\n",
      "\u001b[1;32m~\\Anaconda3\\envs\\ML7331\\lib\\site-packages\\sklearn\\model_selection\\_split.py\u001b[0m in \u001b[0;36m_iter_indices\u001b[1;34m(self, X, y, groups)\u001b[0m\n\u001b[0;32m   1666\u001b[0m         \u001b[0mclass_counts\u001b[0m \u001b[1;33m=\u001b[0m \u001b[0mnp\u001b[0m\u001b[1;33m.\u001b[0m\u001b[0mbincount\u001b[0m\u001b[1;33m(\u001b[0m\u001b[0my_indices\u001b[0m\u001b[1;33m)\u001b[0m\u001b[1;33m\u001b[0m\u001b[1;33m\u001b[0m\u001b[0m\n\u001b[0;32m   1667\u001b[0m         \u001b[1;32mif\u001b[0m \u001b[0mnp\u001b[0m\u001b[1;33m.\u001b[0m\u001b[0mmin\u001b[0m\u001b[1;33m(\u001b[0m\u001b[0mclass_counts\u001b[0m\u001b[1;33m)\u001b[0m \u001b[1;33m<\u001b[0m \u001b[1;36m2\u001b[0m\u001b[1;33m:\u001b[0m\u001b[1;33m\u001b[0m\u001b[1;33m\u001b[0m\u001b[0m\n\u001b[1;32m-> 1668\u001b[1;33m             raise ValueError(\"The least populated class in y has only 1\"\n\u001b[0m\u001b[0;32m   1669\u001b[0m                              \u001b[1;34m\" member, which is too few. The minimum\"\u001b[0m\u001b[1;33m\u001b[0m\u001b[1;33m\u001b[0m\u001b[0m\n\u001b[0;32m   1670\u001b[0m                              \u001b[1;34m\" number of groups for any class cannot\"\u001b[0m\u001b[1;33m\u001b[0m\u001b[1;33m\u001b[0m\u001b[0m\n",
      "\u001b[1;31mValueError\u001b[0m: The least populated class in y has only 1 member, which is too few. The minimum number of groups for any class cannot be less than 2."
     ]
    }
   ],
   "source": [
    "from sklearn.model_selection import StratifiedShuffleSplit\n",
    "from sklearn.metrics import accuracy_score\n",
    "\n",
    "cv = StratifiedShuffleSplit(test_size = 0.5, train_size=0.5, random_state = 1).split(X,y)\n",
    "\n",
    "# fill in the training and testing data and save as separate variables\n",
    "for trainXY, testXY in cv:\n",
    "    # note that these are sparse matrices\n",
    "    X_train = X[trainXY] \n",
    "    X_test = X[testXY] \n",
    "    y_train = y[trainXY]\n",
    "    y_test = y[testXY]"
   ]
  },
  {
   "cell_type": "code",
   "execution_count": 40,
   "metadata": {},
   "outputs": [],
   "source": [
    "from sklearn.linear_model import LinearRegression"
   ]
  },
  {
   "cell_type": "code",
   "execution_count": 42,
   "metadata": {},
   "outputs": [
    {
     "data": {
      "text/plain": [
       "1.0"
      ]
     },
     "execution_count": 42,
     "metadata": {},
     "output_type": "execute_result"
    }
   ],
   "source": [
    "reg = LinearRegression().fit(X, y)\n",
    "reg.score(X, y)"
   ]
  }
 ],
 "metadata": {
  "kernelspec": {
   "display_name": "Python 3",
   "language": "python",
   "name": "python3"
  },
  "language_info": {
   "codemirror_mode": {
    "name": "ipython",
    "version": 3
   },
   "file_extension": ".py",
   "mimetype": "text/x-python",
   "name": "python",
   "nbconvert_exporter": "python",
   "pygments_lexer": "ipython3",
   "version": "3.8.5"
  }
 },
 "nbformat": 4,
 "nbformat_minor": 4
}
