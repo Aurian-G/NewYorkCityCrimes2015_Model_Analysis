{
 "cells": [
  {
   "cell_type": "code",
   "execution_count": 2,
   "metadata": {},
   "outputs": [],
   "source": [
    "import pandas as pd\n",
    "import numpy as np\n",
    "from sklearn.linear_model import LinearRegression"
   ]
  },
  {
   "cell_type": "code",
   "execution_count": 3,
   "metadata": {
    "scrolled": true
   },
   "outputs": [
    {
     "name": "stderr",
     "output_type": "stream",
     "text": [
      "C:\\Users\\sabri\\Anaconda3\\envs\\ML7331\\lib\\site-packages\\IPython\\core\\interactiveshell.py:3145: DtypeWarning: Columns (17) have mixed types.Specify dtype option on import or set low_memory=False.\n",
      "  has_raised = await self.run_ast_nodes(code_ast.body, cell_name,\n"
     ]
    }
   ],
   "source": [
    "crime = pd.read_csv('C:/Users/sabri/Documents/GitHub/NewYorkCityCrimes2015/Lab3_Individual_Files/Sabrina/FE1_NYPD_Complaint_Data_Historic.csv') # read in the csv %%file"
   ]
  },
  {
   "cell_type": "code",
   "execution_count": 4,
   "metadata": {
    "scrolled": true
   },
   "outputs": [
    {
     "data": {
      "text/html": [
       "<div>\n",
       "<style scoped>\n",
       "    .dataframe tbody tr th:only-of-type {\n",
       "        vertical-align: middle;\n",
       "    }\n",
       "\n",
       "    .dataframe tbody tr th {\n",
       "        vertical-align: top;\n",
       "    }\n",
       "\n",
       "    .dataframe thead th {\n",
       "        text-align: right;\n",
       "    }\n",
       "</style>\n",
       "<table border=\"1\" class=\"dataframe\">\n",
       "  <thead>\n",
       "    <tr style=\"text-align: right;\">\n",
       "      <th></th>\n",
       "      <th>CMPLNT_NUM</th>\n",
       "      <th>KY_CD</th>\n",
       "      <th>PD_CD</th>\n",
       "      <th>ADDR_PCT_CD</th>\n",
       "      <th>X_COORD_CD</th>\n",
       "      <th>Y_COORD_CD</th>\n",
       "      <th>Latitude</th>\n",
       "      <th>Longitude</th>\n",
       "      <th>Duration</th>\n",
       "      <th>Duration_to_PD</th>\n",
       "      <th>Day</th>\n",
       "      <th>Year</th>\n",
       "      <th>GeoCell</th>\n",
       "      <th>GeoCell_X</th>\n",
       "      <th>GeoCell_Y</th>\n",
       "    </tr>\n",
       "  </thead>\n",
       "  <tbody>\n",
       "    <tr>\n",
       "      <th>count</th>\n",
       "      <td>1.048575e+06</td>\n",
       "      <td>1.048575e+06</td>\n",
       "      <td>1.047842e+06</td>\n",
       "      <td>1.048574e+06</td>\n",
       "      <td>1.016158e+06</td>\n",
       "      <td>1.016158e+06</td>\n",
       "      <td>1.016158e+06</td>\n",
       "      <td>1.016158e+06</td>\n",
       "      <td>842416.000000</td>\n",
       "      <td>1.048510e+06</td>\n",
       "      <td>1.048510e+06</td>\n",
       "      <td>1.048510e+06</td>\n",
       "      <td>1.016123e+06</td>\n",
       "      <td>1.016157e+06</td>\n",
       "      <td>1.016124e+06</td>\n",
       "    </tr>\n",
       "    <tr>\n",
       "      <th>mean</th>\n",
       "      <td>5.497027e+08</td>\n",
       "      <td>2.953382e+02</td>\n",
       "      <td>4.099135e+02</td>\n",
       "      <td>6.380729e+01</td>\n",
       "      <td>1.004983e+06</td>\n",
       "      <td>2.067818e+05</td>\n",
       "      <td>4.073420e+01</td>\n",
       "      <td>-7.392516e+01</td>\n",
       "      <td>3.328113</td>\n",
       "      <td>1.359763e+01</td>\n",
       "      <td>1.552258e+01</td>\n",
       "      <td>2.014346e+03</td>\n",
       "      <td>5.844382e+01</td>\n",
       "      <td>6.444581e+00</td>\n",
       "      <td>6.199925e+00</td>\n",
       "    </tr>\n",
       "    <tr>\n",
       "      <th>std</th>\n",
       "      <td>2.598666e+08</td>\n",
       "      <td>1.505240e+02</td>\n",
       "      <td>2.192328e+02</td>\n",
       "      <td>3.434066e+01</td>\n",
       "      <td>2.146524e+04</td>\n",
       "      <td>3.043238e+04</td>\n",
       "      <td>8.353300e-02</td>\n",
       "      <td>7.741049e-02</td>\n",
       "      <td>5.232735</td>\n",
       "      <td>2.331575e+02</td>\n",
       "      <td>8.803343e+00</td>\n",
       "      <td>8.898275e-01</td>\n",
       "      <td>2.079365e+01</td>\n",
       "      <td>1.441555e+00</td>\n",
       "      <td>2.031922e+00</td>\n",
       "    </tr>\n",
       "    <tr>\n",
       "      <th>min</th>\n",
       "      <td>1.000007e+08</td>\n",
       "      <td>1.010000e+02</td>\n",
       "      <td>1.010000e+02</td>\n",
       "      <td>1.000000e+00</td>\n",
       "      <td>9.133190e+05</td>\n",
       "      <td>1.210800e+05</td>\n",
       "      <td>4.049877e+01</td>\n",
       "      <td>-7.425508e+01</td>\n",
       "      <td>0.000000</td>\n",
       "      <td>-2.410000e+02</td>\n",
       "      <td>1.000000e+00</td>\n",
       "      <td>1.910000e+03</td>\n",
       "      <td>1.000000e+00</td>\n",
       "      <td>1.000000e+00</td>\n",
       "      <td>1.000000e+00</td>\n",
       "    </tr>\n",
       "    <tr>\n",
       "      <th>25%</th>\n",
       "      <td>3.244583e+08</td>\n",
       "      <td>1.170000e+02</td>\n",
       "      <td>2.540000e+02</td>\n",
       "      <td>4.000000e+01</td>\n",
       "      <td>9.919982e+05</td>\n",
       "      <td>1.839220e+05</td>\n",
       "      <td>4.067144e+01</td>\n",
       "      <td>-7.397206e+01</td>\n",
       "      <td>1.000000</td>\n",
       "      <td>0.000000e+00</td>\n",
       "      <td>8.000000e+00</td>\n",
       "      <td>2.014000e+03</td>\n",
       "      <td>4.600000e+01</td>\n",
       "      <td>6.000000e+00</td>\n",
       "      <td>5.000000e+00</td>\n",
       "    </tr>\n",
       "    <tr>\n",
       "      <th>50%</th>\n",
       "      <td>5.494480e+08</td>\n",
       "      <td>3.410000e+02</td>\n",
       "      <td>3.570000e+02</td>\n",
       "      <td>6.600000e+01</td>\n",
       "      <td>1.004598e+06</td>\n",
       "      <td>2.053300e+05</td>\n",
       "      <td>4.073021e+01</td>\n",
       "      <td>-7.392661e+01</td>\n",
       "      <td>1.000000</td>\n",
       "      <td>0.000000e+00</td>\n",
       "      <td>1.500000e+01</td>\n",
       "      <td>2.014000e+03</td>\n",
       "      <td>5.600000e+01</td>\n",
       "      <td>6.000000e+00</td>\n",
       "      <td>6.000000e+00</td>\n",
       "    </tr>\n",
       "    <tr>\n",
       "      <th>75%</th>\n",
       "      <td>7.746526e+08</td>\n",
       "      <td>3.510000e+02</td>\n",
       "      <td>6.370000e+02</td>\n",
       "      <td>9.400000e+01</td>\n",
       "      <td>1.016552e+06</td>\n",
       "      <td>2.348090e+05</td>\n",
       "      <td>4.081116e+01</td>\n",
       "      <td>-7.388336e+01</td>\n",
       "      <td>2.000000</td>\n",
       "      <td>1.000000e+00</td>\n",
       "      <td>2.300000e+01</td>\n",
       "      <td>2.015000e+03</td>\n",
       "      <td>7.600000e+01</td>\n",
       "      <td>7.000000e+00</td>\n",
       "      <td>8.000000e+00</td>\n",
       "    </tr>\n",
       "    <tr>\n",
       "      <th>max</th>\n",
       "      <td>9.999996e+08</td>\n",
       "      <td>8.810000e+02</td>\n",
       "      <td>9.750000e+02</td>\n",
       "      <td>1.230000e+02</td>\n",
       "      <td>1.067226e+06</td>\n",
       "      <td>2.718200e+05</td>\n",
       "      <td>4.091272e+01</td>\n",
       "      <td>-7.370058e+01</td>\n",
       "      <td>24.000000</td>\n",
       "      <td>3.822300e+04</td>\n",
       "      <td>3.100000e+01</td>\n",
       "      <td>2.015000e+03</td>\n",
       "      <td>9.900000e+01</td>\n",
       "      <td>1.000000e+01</td>\n",
       "      <td>1.000000e+01</td>\n",
       "    </tr>\n",
       "  </tbody>\n",
       "</table>\n",
       "</div>"
      ],
      "text/plain": [
       "         CMPLNT_NUM         KY_CD         PD_CD   ADDR_PCT_CD    X_COORD_CD  \\\n",
       "count  1.048575e+06  1.048575e+06  1.047842e+06  1.048574e+06  1.016158e+06   \n",
       "mean   5.497027e+08  2.953382e+02  4.099135e+02  6.380729e+01  1.004983e+06   \n",
       "std    2.598666e+08  1.505240e+02  2.192328e+02  3.434066e+01  2.146524e+04   \n",
       "min    1.000007e+08  1.010000e+02  1.010000e+02  1.000000e+00  9.133190e+05   \n",
       "25%    3.244583e+08  1.170000e+02  2.540000e+02  4.000000e+01  9.919982e+05   \n",
       "50%    5.494480e+08  3.410000e+02  3.570000e+02  6.600000e+01  1.004598e+06   \n",
       "75%    7.746526e+08  3.510000e+02  6.370000e+02  9.400000e+01  1.016552e+06   \n",
       "max    9.999996e+08  8.810000e+02  9.750000e+02  1.230000e+02  1.067226e+06   \n",
       "\n",
       "         Y_COORD_CD      Latitude     Longitude       Duration  \\\n",
       "count  1.016158e+06  1.016158e+06  1.016158e+06  842416.000000   \n",
       "mean   2.067818e+05  4.073420e+01 -7.392516e+01       3.328113   \n",
       "std    3.043238e+04  8.353300e-02  7.741049e-02       5.232735   \n",
       "min    1.210800e+05  4.049877e+01 -7.425508e+01       0.000000   \n",
       "25%    1.839220e+05  4.067144e+01 -7.397206e+01       1.000000   \n",
       "50%    2.053300e+05  4.073021e+01 -7.392661e+01       1.000000   \n",
       "75%    2.348090e+05  4.081116e+01 -7.388336e+01       2.000000   \n",
       "max    2.718200e+05  4.091272e+01 -7.370058e+01      24.000000   \n",
       "\n",
       "       Duration_to_PD           Day          Year       GeoCell     GeoCell_X  \\\n",
       "count    1.048510e+06  1.048510e+06  1.048510e+06  1.016123e+06  1.016157e+06   \n",
       "mean     1.359763e+01  1.552258e+01  2.014346e+03  5.844382e+01  6.444581e+00   \n",
       "std      2.331575e+02  8.803343e+00  8.898275e-01  2.079365e+01  1.441555e+00   \n",
       "min     -2.410000e+02  1.000000e+00  1.910000e+03  1.000000e+00  1.000000e+00   \n",
       "25%      0.000000e+00  8.000000e+00  2.014000e+03  4.600000e+01  6.000000e+00   \n",
       "50%      0.000000e+00  1.500000e+01  2.014000e+03  5.600000e+01  6.000000e+00   \n",
       "75%      1.000000e+00  2.300000e+01  2.015000e+03  7.600000e+01  7.000000e+00   \n",
       "max      3.822300e+04  3.100000e+01  2.015000e+03  9.900000e+01  1.000000e+01   \n",
       "\n",
       "          GeoCell_Y  \n",
       "count  1.016124e+06  \n",
       "mean   6.199925e+00  \n",
       "std    2.031922e+00  \n",
       "min    1.000000e+00  \n",
       "25%    5.000000e+00  \n",
       "50%    6.000000e+00  \n",
       "75%    8.000000e+00  \n",
       "max    1.000000e+01  "
      ]
     },
     "execution_count": 4,
     "metadata": {},
     "output_type": "execute_result"
    }
   ],
   "source": [
    "crime.describe()"
   ]
  },
  {
   "cell_type": "code",
   "execution_count": 5,
   "metadata": {},
   "outputs": [
    {
     "name": "stdout",
     "output_type": "stream",
     "text": [
      "<class 'pandas.core.frame.DataFrame'>\n",
      "RangeIndex: 1048575 entries, 0 to 1048574\n",
      "Data columns (total 38 columns):\n",
      " #   Column             Non-Null Count    Dtype  \n",
      "---  ------             --------------    -----  \n",
      " 0   CMPLNT_NUM         1048575 non-null  int64  \n",
      " 1   CMPLNT_FR_DT       1048510 non-null  object \n",
      " 2   CMPLNT_FR_TM       1048575 non-null  object \n",
      " 3   CMPLNT_TO_DT       842616 non-null   object \n",
      " 4   CMPLNT_TO_TM       843002 non-null   object \n",
      " 5   RPT_DT             1048575 non-null  object \n",
      " 6   KY_CD              1048575 non-null  int64  \n",
      " 7   OFNS_DESC          1045695 non-null  object \n",
      " 8   PD_CD              1047842 non-null  float64\n",
      " 9   PD_DESC            1047842 non-null  object \n",
      " 10  CRM_ATPT_CPTD_CD   1048574 non-null  object \n",
      " 11  LAW_CAT_CD         1048575 non-null  object \n",
      " 12  JURIS_DESC         1048575 non-null  object \n",
      " 13  BORO_NM            1048575 non-null  object \n",
      " 14  ADDR_PCT_CD        1048574 non-null  float64\n",
      " 15  LOC_OF_OCCUR_DESC  830823 non-null   object \n",
      " 16  PREM_TYP_DESC      1043886 non-null  object \n",
      " 17  PARKS_NM           7599 non-null     object \n",
      " 18  HADEVELOPT         51772 non-null    object \n",
      " 19  X_COORD_CD         1016158 non-null  float64\n",
      " 20  Y_COORD_CD         1016158 non-null  float64\n",
      " 21  Latitude           1016158 non-null  float64\n",
      " 22  Longitude          1016158 non-null  float64\n",
      " 23  Lat_Lon            1016158 non-null  object \n",
      " 24  Start_Dt_Tm        1048510 non-null  object \n",
      " 25  End_Dt_Tm          842467 non-null   object \n",
      " 26  Day_Name           1048510 non-null  object \n",
      " 27  Duration           842416 non-null   float64\n",
      " 28  Duration_to_PD     1048510 non-null  float64\n",
      " 29  Month              1048510 non-null  object \n",
      " 30  Day                1048510 non-null  float64\n",
      " 31  Year               1048510 non-null  float64\n",
      " 32  Duration_lbl       790699 non-null   object \n",
      " 33  Season             1048510 non-null  object \n",
      " 34  Daytime            998700 non-null   object \n",
      " 35  GeoCell            1016123 non-null  float64\n",
      " 36  GeoCell_X          1016157 non-null  float64\n",
      " 37  GeoCell_Y          1016124 non-null  float64\n",
      "dtypes: float64(13), int64(2), object(23)\n",
      "memory usage: 304.0+ MB\n"
     ]
    }
   ],
   "source": [
    "crime.info()"
   ]
  },
  {
   "cell_type": "code",
   "execution_count": 6,
   "metadata": {},
   "outputs": [],
   "source": [
    "# perform one-hot encoding of the categorical data on 'JURIS_DESC','BORO_NM','LOC_OF_OCCUR_DESC',\n",
    "#'ADDR_PCT_CD','PREM_TYP_DESC','Day_Name','Month','Duration_lbl','Season','Daytime'\n",
    "tmp_df = pd.get_dummies(crime.JURIS_DESC,prefix='JURIS_DESC')\n",
    "crime = pd.concat((crime,tmp_df),axis=1) # add back into the dataframe\n",
    "\n",
    "tmp_df = pd.get_dummies(crime.BORO_NM,prefix='BORO_NM')\n",
    "crime = pd.concat((crime,tmp_df),axis=1) # add back into the dataframe\n",
    "\n",
    "tmp_df = pd.get_dummies(crime.LOC_OF_OCCUR_DESC,prefix='LOC_OF_OCCUR_DESC')\n",
    "crime = pd.concat((crime,tmp_df),axis=1) # add back into the dataframe\n",
    "\n",
    "tmp_df = pd.get_dummies(crime.ADDR_PCT_CD,prefix='ADDR_PCT_CD')\n",
    "crime = pd.concat((crime,tmp_df),axis=1) # add back into the dataframe\n",
    "\n",
    "tmp_df = pd.get_dummies(crime.PREM_TYP_DESC,prefix='PREM_TYP_DESC')\n",
    "crime = pd.concat((crime,tmp_df),axis=1) # add back into the dataframe\n",
    "\n",
    "tmp_df = pd.get_dummies(crime.Day_Name,prefix='Day_Name')\n",
    "crime = pd.concat((crime,tmp_df),axis=1) # add back into the dataframe\n",
    "\n",
    "tmp_df = pd.get_dummies(crime.Month,prefix='Month')\n",
    "crime = pd.concat((crime,tmp_df),axis=1) # add back into the dataframe\n",
    "\n",
    "tmp_df = pd.get_dummies(crime.Duration_lbl,prefix='Duration_lbl')\n",
    "crime = pd.concat((crime,tmp_df),axis=1) # add back into the dataframe\n",
    "\n",
    "tmp_df = pd.get_dummies(crime.Season,prefix='Season')\n",
    "crime = pd.concat((crime,tmp_df),axis=1) # add back into the dataframe\n",
    "\n",
    "tmp_df = pd.get_dummies(crime.Daytime,prefix='Daytime')\n",
    "crime = pd.concat((crime,tmp_df),axis=1) # add back into the dataframe\n",
    "\n",
    "tmp_df = pd.get_dummies(crime.Daytime,prefix='OFNS_DESC')\n",
    "crime = pd.concat((crime,tmp_df),axis=1) # add back into the dataframe\n",
    "\n",
    "tmp_df = pd.get_dummies(crime.Daytime,prefix='CRM_ATPT_CPTD_CD')\n",
    "crime = pd.concat((crime,tmp_df),axis=1) # add back into the dataframe\n",
    "\n",
    "tmp_df = pd.get_dummies(crime.Daytime,prefix='LAW_CAT_CD')\n",
    "crime = pd.concat((crime,tmp_df),axis=1) # add back into the dataframe"
   ]
  },
  {
   "cell_type": "code",
   "execution_count": 7,
   "metadata": {},
   "outputs": [],
   "source": [
    "#Now we drop the original variables\n",
    "if 'JURIS_DESC' in crime:    \n",
    "    del crime['JURIS_DESC'] # get rid of the original category as it is now one-hot encoded\n",
    "if 'BORO_NM' in crime:    \n",
    "    del crime['BORO_NM'] # get rid of the original category as it is now one-hot encoded\n",
    "if 'LOC_OF_OCCUR_DESC' in crime:    \n",
    "    del crime['LOC_OF_OCCUR_DESC'] # get rid of the original category as it is now one-hot encoded\n",
    "if 'ADDR_PCT_CD' in crime:    \n",
    "    del crime['ADDR_PCT_CD'] # get rid of the original category as it is now one-hot encoded\n",
    "if 'PREM_TYP_DESC' in crime:    \n",
    "    del crime['PREM_TYP_DESC'] # get rid of the original category as it is now one-hot encoded\n",
    "if 'Day_Name' in crime:    \n",
    "    del crime['Day_Name'] # get rid of the original category as it is now one-hot encoded\n",
    "if 'Month' in crime:    \n",
    "    del crime['Month'] # get rid of the original category as it is now one-hot encoded\n",
    "if 'Duration_lbl' in crime:    \n",
    "    del crime['Duration_lbl'] # get rid of the original category as it is now one-hot encoded\n",
    "if 'Season' in crime:    \n",
    "    del crime['Season'] # get rid of the original category as it is now one-hot encoded\n",
    "if 'Daytime' in crime:    \n",
    "    del crime['Daytime'] # get rid of the original category as it is now one-hot encoded\n",
    "if 'OFNS_DESC' in crime:    \n",
    "    del crime['OFNS_DESC'] # get rid of the original category as it is now one-hot encoded\n",
    "if 'CRM_ATPT_CPTD_CD' in crime:    \n",
    "    del crime['CRM_ATPT_CPTD_CD'] # get rid of the original category as it is now one-hot encoded\n",
    "if 'LAW_CAT_CD' in crime:    \n",
    "    del crime['LAW_CAT_CD'] # get rid of the original category as it is now one-hot encoded\n"
   ]
  },
  {
   "cell_type": "code",
   "execution_count": 8,
   "metadata": {},
   "outputs": [
    {
     "data": {
      "text/plain": [
       "CMPLNT_NUM                                      int64\n",
       "CMPLNT_FR_DT                                   object\n",
       "CMPLNT_FR_TM                                   object\n",
       "CMPLNT_TO_DT                                   object\n",
       "CMPLNT_TO_TM                                   object\n",
       "RPT_DT                                         object\n",
       "KY_CD                                           int64\n",
       "PD_CD                                         float64\n",
       "PD_DESC                                        object\n",
       "PARKS_NM                                       object\n",
       "HADEVELOPT                                     object\n",
       "X_COORD_CD                                    float64\n",
       "Y_COORD_CD                                    float64\n",
       "Latitude                                      float64\n",
       "Longitude                                     float64\n",
       "Lat_Lon                                        object\n",
       "Start_Dt_Tm                                    object\n",
       "End_Dt_Tm                                      object\n",
       "Duration                                      float64\n",
       "Duration_to_PD                                float64\n",
       "Day                                           float64\n",
       "Year                                          float64\n",
       "GeoCell                                       float64\n",
       "GeoCell_X                                     float64\n",
       "GeoCell_Y                                     float64\n",
       "JURIS_DESC_AMTRACK                              uint8\n",
       "JURIS_DESC_CONRAIL                              uint8\n",
       "JURIS_DESC_DEPT OF CORRECTIONS                  uint8\n",
       "JURIS_DESC_HEALTH & HOSP CORP                   uint8\n",
       "JURIS_DESC_LONG ISLAND RAILRD                   uint8\n",
       "JURIS_DESC_METRO NORTH                          uint8\n",
       "JURIS_DESC_N.Y. HOUSING POLICE                  uint8\n",
       "JURIS_DESC_N.Y. POLICE DEPT                     uint8\n",
       "JURIS_DESC_N.Y. STATE PARKS                     uint8\n",
       "JURIS_DESC_N.Y. STATE POLICE                    uint8\n",
       "JURIS_DESC_N.Y. TRANSIT POLICE                  uint8\n",
       "JURIS_DESC_NEW YORK CITY SHERIFF OFFICE         uint8\n",
       "JURIS_DESC_NYC PARKS                            uint8\n",
       "JURIS_DESC_NYS DEPT TAX AND FINANCE             uint8\n",
       "JURIS_DESC_OTHER                                uint8\n",
       "JURIS_DESC_POLICE DEPT NYC                      uint8\n",
       "JURIS_DESC_PORT AUTHORITY                       uint8\n",
       "JURIS_DESC_STATN IS RAPID TRANS                 uint8\n",
       "JURIS_DESC_TRI-BORO BRDG TUNNL                  uint8\n",
       "JURIS_DESC_U.S. PARK POLICE                     uint8\n",
       "BORO_NM_BRONX                                   uint8\n",
       "BORO_NM_BROOKLYN                                uint8\n",
       "BORO_NM_MANHATTAN                               uint8\n",
       "BORO_NM_QUEENS                                  uint8\n",
       "BORO_NM_STATEN ISLAND                           uint8\n",
       "LOC_OF_OCCUR_DESC_FRONT OF                      uint8\n",
       "LOC_OF_OCCUR_DESC_INSIDE                        uint8\n",
       "LOC_OF_OCCUR_DESC_OPPOSITE OF                   uint8\n",
       "LOC_OF_OCCUR_DESC_OUTSIDE                       uint8\n",
       "LOC_OF_OCCUR_DESC_REAR OF                       uint8\n",
       "ADDR_PCT_CD_1.0                                 uint8\n",
       "ADDR_PCT_CD_5.0                                 uint8\n",
       "ADDR_PCT_CD_6.0                                 uint8\n",
       "ADDR_PCT_CD_7.0                                 uint8\n",
       "ADDR_PCT_CD_9.0                                 uint8\n",
       "ADDR_PCT_CD_10.0                                uint8\n",
       "ADDR_PCT_CD_13.0                                uint8\n",
       "ADDR_PCT_CD_14.0                                uint8\n",
       "ADDR_PCT_CD_17.0                                uint8\n",
       "ADDR_PCT_CD_18.0                                uint8\n",
       "ADDR_PCT_CD_19.0                                uint8\n",
       "ADDR_PCT_CD_20.0                                uint8\n",
       "ADDR_PCT_CD_22.0                                uint8\n",
       "ADDR_PCT_CD_23.0                                uint8\n",
       "ADDR_PCT_CD_24.0                                uint8\n",
       "ADDR_PCT_CD_25.0                                uint8\n",
       "ADDR_PCT_CD_26.0                                uint8\n",
       "ADDR_PCT_CD_28.0                                uint8\n",
       "ADDR_PCT_CD_30.0                                uint8\n",
       "ADDR_PCT_CD_32.0                                uint8\n",
       "ADDR_PCT_CD_33.0                                uint8\n",
       "ADDR_PCT_CD_34.0                                uint8\n",
       "ADDR_PCT_CD_40.0                                uint8\n",
       "ADDR_PCT_CD_41.0                                uint8\n",
       "ADDR_PCT_CD_42.0                                uint8\n",
       "ADDR_PCT_CD_43.0                                uint8\n",
       "ADDR_PCT_CD_44.0                                uint8\n",
       "ADDR_PCT_CD_45.0                                uint8\n",
       "ADDR_PCT_CD_46.0                                uint8\n",
       "ADDR_PCT_CD_47.0                                uint8\n",
       "ADDR_PCT_CD_48.0                                uint8\n",
       "ADDR_PCT_CD_49.0                                uint8\n",
       "ADDR_PCT_CD_50.0                                uint8\n",
       "ADDR_PCT_CD_52.0                                uint8\n",
       "ADDR_PCT_CD_60.0                                uint8\n",
       "ADDR_PCT_CD_61.0                                uint8\n",
       "ADDR_PCT_CD_62.0                                uint8\n",
       "ADDR_PCT_CD_63.0                                uint8\n",
       "ADDR_PCT_CD_66.0                                uint8\n",
       "ADDR_PCT_CD_67.0                                uint8\n",
       "ADDR_PCT_CD_68.0                                uint8\n",
       "ADDR_PCT_CD_69.0                                uint8\n",
       "ADDR_PCT_CD_70.0                                uint8\n",
       "ADDR_PCT_CD_71.0                                uint8\n",
       "ADDR_PCT_CD_72.0                                uint8\n",
       "ADDR_PCT_CD_73.0                                uint8\n",
       "ADDR_PCT_CD_75.0                                uint8\n",
       "ADDR_PCT_CD_76.0                                uint8\n",
       "ADDR_PCT_CD_77.0                                uint8\n",
       "ADDR_PCT_CD_78.0                                uint8\n",
       "ADDR_PCT_CD_79.0                                uint8\n",
       "ADDR_PCT_CD_81.0                                uint8\n",
       "ADDR_PCT_CD_83.0                                uint8\n",
       "ADDR_PCT_CD_84.0                                uint8\n",
       "ADDR_PCT_CD_88.0                                uint8\n",
       "ADDR_PCT_CD_90.0                                uint8\n",
       "ADDR_PCT_CD_94.0                                uint8\n",
       "ADDR_PCT_CD_100.0                               uint8\n",
       "ADDR_PCT_CD_101.0                               uint8\n",
       "ADDR_PCT_CD_102.0                               uint8\n",
       "ADDR_PCT_CD_103.0                               uint8\n",
       "ADDR_PCT_CD_104.0                               uint8\n",
       "ADDR_PCT_CD_105.0                               uint8\n",
       "ADDR_PCT_CD_106.0                               uint8\n",
       "ADDR_PCT_CD_107.0                               uint8\n",
       "ADDR_PCT_CD_108.0                               uint8\n",
       "ADDR_PCT_CD_109.0                               uint8\n",
       "ADDR_PCT_CD_110.0                               uint8\n",
       "ADDR_PCT_CD_111.0                               uint8\n",
       "ADDR_PCT_CD_112.0                               uint8\n",
       "ADDR_PCT_CD_113.0                               uint8\n",
       "ADDR_PCT_CD_114.0                               uint8\n",
       "ADDR_PCT_CD_115.0                               uint8\n",
       "ADDR_PCT_CD_120.0                               uint8\n",
       "ADDR_PCT_CD_121.0                               uint8\n",
       "ADDR_PCT_CD_122.0                               uint8\n",
       "ADDR_PCT_CD_123.0                               uint8\n",
       "PREM_TYP_DESC_ABANDONED BUILDING                uint8\n",
       "PREM_TYP_DESC_AIRPORT TERMINAL                  uint8\n",
       "PREM_TYP_DESC_ATM                               uint8\n",
       "PREM_TYP_DESC_BANK                              uint8\n",
       "PREM_TYP_DESC_BAR/NIGHT CLUB                    uint8\n",
       "PREM_TYP_DESC_BEAUTY & NAIL SALON               uint8\n",
       "PREM_TYP_DESC_BOOK/CARD                         uint8\n",
       "PREM_TYP_DESC_BRIDGE                            uint8\n",
       "PREM_TYP_DESC_BUS (NYC TRANSIT)                 uint8\n",
       "PREM_TYP_DESC_BUS (OTHER)                       uint8\n",
       "PREM_TYP_DESC_BUS STOP                          uint8\n",
       "PREM_TYP_DESC_BUS TERMINAL                      uint8\n",
       "PREM_TYP_DESC_CANDY STORE                       uint8\n",
       "PREM_TYP_DESC_CEMETERY                          uint8\n",
       "PREM_TYP_DESC_CHAIN STORE                       uint8\n",
       "PREM_TYP_DESC_CHECK CASHING BUSINESS            uint8\n",
       "PREM_TYP_DESC_CHURCH                            uint8\n",
       "PREM_TYP_DESC_CLOTHING/BOUTIQUE                 uint8\n",
       "PREM_TYP_DESC_COMMERCIAL BUILDING               uint8\n",
       "PREM_TYP_DESC_CONSTRUCTION SITE                 uint8\n",
       "PREM_TYP_DESC_DEPARTMENT STORE                  uint8\n",
       "PREM_TYP_DESC_DOCTOR/DENTIST OFFICE             uint8\n",
       "PREM_TYP_DESC_DRUG STORE                        uint8\n",
       "PREM_TYP_DESC_DRY CLEANER/LAUNDRY               uint8\n",
       "PREM_TYP_DESC_FACTORY/WAREHOUSE                 uint8\n",
       "PREM_TYP_DESC_FAST FOOD                         uint8\n",
       "PREM_TYP_DESC_FERRY/FERRY TERMINAL              uint8\n",
       "PREM_TYP_DESC_FOOD SUPERMARKET                  uint8\n",
       "PREM_TYP_DESC_GAS STATION                       uint8\n",
       "PREM_TYP_DESC_GROCERY/BODEGA                    uint8\n",
       "PREM_TYP_DESC_GYM/FITNESS FACILITY              uint8\n",
       "PREM_TYP_DESC_HIGHWAY/PARKWAY                   uint8\n",
       "PREM_TYP_DESC_HOSPITAL                          uint8\n",
       "PREM_TYP_DESC_HOTEL/MOTEL                       uint8\n",
       "PREM_TYP_DESC_JEWELRY                           uint8\n",
       "PREM_TYP_DESC_LIQUOR STORE                      uint8\n",
       "PREM_TYP_DESC_LOAN COMPANY                      uint8\n",
       "PREM_TYP_DESC_MARINA/PIER                       uint8\n",
       "PREM_TYP_DESC_MOSQUE                            uint8\n",
       "PREM_TYP_DESC_OPEN AREAS (OPEN LOTS)            uint8\n",
       "PREM_TYP_DESC_OTHER                             uint8\n",
       "PREM_TYP_DESC_OTHER HOUSE OF WORSHIP            uint8\n",
       "PREM_TYP_DESC_PARK/PLAYGROUND                   uint8\n",
       "PREM_TYP_DESC_PARKING LOT/GARAGE (PRIVATE)      uint8\n",
       "PREM_TYP_DESC_PARKING LOT/GARAGE (PUBLIC)       uint8\n",
       "PREM_TYP_DESC_PHOTO/COPY                        uint8\n",
       "PREM_TYP_DESC_PRIVATE/PAROCHIAL SCHOOL          uint8\n",
       "PREM_TYP_DESC_PUBLIC BUILDING                   uint8\n",
       "PREM_TYP_DESC_PUBLIC SCHOOL                     uint8\n",
       "PREM_TYP_DESC_RESIDENCE - APT. HOUSE            uint8\n",
       "PREM_TYP_DESC_RESIDENCE - PUBLIC HOUSING        uint8\n",
       "PREM_TYP_DESC_RESIDENCE-HOUSE                   uint8\n",
       "PREM_TYP_DESC_RESTAURANT/DINER                  uint8\n",
       "PREM_TYP_DESC_SHOE                              uint8\n",
       "PREM_TYP_DESC_SMALL MERCHANT                    uint8\n",
       "PREM_TYP_DESC_SOCIAL CLUB/POLICY                uint8\n",
       "PREM_TYP_DESC_STORAGE FACILITY                  uint8\n",
       "PREM_TYP_DESC_STORE UNCLASSIFIED                uint8\n",
       "PREM_TYP_DESC_STREET                            uint8\n",
       "PREM_TYP_DESC_SYNAGOGUE                         uint8\n",
       "PREM_TYP_DESC_TAXI (LIVERY LICENSED)            uint8\n",
       "PREM_TYP_DESC_TAXI (YELLOW LICENSED)            uint8\n",
       "PREM_TYP_DESC_TAXI/LIVERY (UNLICENSED)          uint8\n",
       "PREM_TYP_DESC_TELECOMM. STORE                   uint8\n",
       "PREM_TYP_DESC_TRAMWAY                           uint8\n",
       "PREM_TYP_DESC_TRANSIT - NYC SUBWAY              uint8\n",
       "PREM_TYP_DESC_TRANSIT FACILITY (OTHER)          uint8\n",
       "PREM_TYP_DESC_TUNNEL                            uint8\n",
       "PREM_TYP_DESC_VARIETY STORE                     uint8\n",
       "PREM_TYP_DESC_VIDEO STORE                       uint8\n",
       "Day_Name_Friday                                 uint8\n",
       "Day_Name_Monday                                 uint8\n",
       "Day_Name_Saturday                               uint8\n",
       "Day_Name_Sunday                                 uint8\n",
       "Day_Name_Thursday                               uint8\n",
       "Day_Name_Tuesday                                uint8\n",
       "Day_Name_Wednesday                              uint8\n",
       "Month_April                                     uint8\n",
       "Month_August                                    uint8\n",
       "Month_December                                  uint8\n",
       "Month_February                                  uint8\n",
       "Month_January                                   uint8\n",
       "Month_July                                      uint8\n",
       "Month_June                                      uint8\n",
       "Month_March                                     uint8\n",
       "Month_May                                       uint8\n",
       "Month_November                                  uint8\n",
       "Month_October                                   uint8\n",
       "Month_September                                 uint8\n",
       "Duration_lbl_Long                               uint8\n",
       "Duration_lbl_Medium                             uint8\n",
       "Duration_lbl_Short                              uint8\n",
       "Season_Fall                                     uint8\n",
       "Season_Spring                                   uint8\n",
       "Season_Summer                                   uint8\n",
       "Season_Winter                                   uint8\n",
       "Daytime_Day                                     uint8\n",
       "Daytime_Early Morning                           uint8\n",
       "Daytime_Evening                                 uint8\n",
       "Daytime_Late Night                              uint8\n",
       "Daytime_Morning                                 uint8\n",
       "Daytime_Night                                   uint8\n",
       "OFNS_DESC_Day                                   uint8\n",
       "OFNS_DESC_Early Morning                         uint8\n",
       "OFNS_DESC_Evening                               uint8\n",
       "OFNS_DESC_Late Night                            uint8\n",
       "OFNS_DESC_Morning                               uint8\n",
       "OFNS_DESC_Night                                 uint8\n",
       "CRM_ATPT_CPTD_CD_Day                            uint8\n",
       "CRM_ATPT_CPTD_CD_Early Morning                  uint8\n",
       "CRM_ATPT_CPTD_CD_Evening                        uint8\n",
       "CRM_ATPT_CPTD_CD_Late Night                     uint8\n",
       "CRM_ATPT_CPTD_CD_Morning                        uint8\n",
       "CRM_ATPT_CPTD_CD_Night                          uint8\n",
       "LAW_CAT_CD_Day                                  uint8\n",
       "LAW_CAT_CD_Early Morning                        uint8\n",
       "LAW_CAT_CD_Evening                              uint8\n",
       "LAW_CAT_CD_Late Night                           uint8\n",
       "LAW_CAT_CD_Morning                              uint8\n",
       "LAW_CAT_CD_Night                                uint8\n",
       "dtype: object"
      ]
     },
     "execution_count": 8,
     "metadata": {},
     "output_type": "execute_result"
    }
   ],
   "source": [
    "pd.set_option('display.max_rows', 300)\n",
    "crime.dtypes"
   ]
  },
  {
   "cell_type": "code",
   "execution_count": 9,
   "metadata": {},
   "outputs": [],
   "source": [
    "#dropping variables that don't add value or have sizeable missing values\n",
    "if 'CMPLNT_NUM' in crime: #randomly assigned case id\n",
    "    del crime['CMPLNT_NUM']\n",
    "if 'CMPLNT_FR_DT' in crime:  #Date and time references have been binned\n",
    "    del crime['CMPLNT_FR_DT']\n",
    "if 'CMPLNT_FR_TM' in crime:\n",
    "    del crime['CMPLNT_FR_TM']\n",
    "if 'CMPLNT_TO_DT' in crime:\n",
    "    del crime['CMPLNT_TO_DT']\n",
    "if 'CMPLNT_TO_TM' in crime:\n",
    "    del crime['CMPLNT_TO_TM']\n",
    "if 'Start_Dt_Tm' in crime:\n",
    "    del crime['Start_Dt_Tm']\n",
    "if 'End_Dt_Tm' in crime:\n",
    "    del crime['End_Dt_Tm']\n",
    "if 'RPT_DT' in crime:   #this is an unknown at the time of the crime in many cases\n",
    "    del crime['RPT_DT']\n",
    "if 'PD_DESC' in crime:  #duplicate information from PD_CD\n",
    "    del crime['PD_DESC']\n",
    "if 'Lat_Lon' in crime:\n",
    "    del crime['Lat_Lon']\n",
    "if 'PARKS_NM' in crime:    \n",
    "    del crime['PARKS_NM']\n",
    "if 'HADEVELOPT' in crime:    \n",
    "    del crime['HADEVELOPT']\n",
    "if 'LOC_OF_OCCUR_DESC' in crime:    \n",
    "    del crime['LOC_OF_OCCUR_DESC']\n",
    "if 'Latitude' in crime:    \n",
    "    del crime['Latitude']\n",
    "if 'Longitude' in crime:    \n",
    "    del crime['Longitude']  \n",
    "if 'X_COORD_CD' in crime:\n",
    "    del crime['X_COORD_CD']\n",
    "if 'Y_COORD_CD' in crime:\n",
    "    del crime['Y_COORD_CD']"
   ]
  },
  {
   "cell_type": "code",
   "execution_count": 10,
   "metadata": {},
   "outputs": [],
   "source": [
    "#dropping any remaining NANs\n",
    "crime = crime.dropna() "
   ]
  },
  {
   "cell_type": "code",
   "execution_count": 11,
   "metadata": {},
   "outputs": [
    {
     "data": {
      "text/plain": [
       "0"
      ]
     },
     "execution_count": 11,
     "metadata": {},
     "output_type": "execute_result"
    }
   ],
   "source": [
    "crime.isnull().values.any()\n",
    "crime.isnull().sum().sum()"
   ]
  },
  {
   "cell_type": "code",
   "execution_count": 12,
   "metadata": {},
   "outputs": [],
   "source": [
    "#sample the dataset\n",
    "sample = crime.sample(frac =.05) "
   ]
  },
  {
   "cell_type": "code",
   "execution_count": 13,
   "metadata": {},
   "outputs": [
    {
     "name": "stdout",
     "output_type": "stream",
     "text": [
      "<class 'pandas.core.frame.DataFrame'>\n",
      "Int64Index: 40896 entries, 854575 to 573653\n",
      "Columns: 236 entries, KY_CD to LAW_CAT_CD_Night\n",
      "dtypes: float64(8), int64(1), uint8(227)\n",
      "memory usage: 12.0 MB\n"
     ]
    }
   ],
   "source": [
    "sample.info()"
   ]
  },
  {
   "cell_type": "code",
   "execution_count": 14,
   "metadata": {},
   "outputs": [],
   "source": [
    "X1=sample"
   ]
  },
  {
   "cell_type": "markdown",
   "metadata": {},
   "source": [
    "https://stackoverflow.com/questions/55291667/getting-typeerror-slicenone-none-none-0-is-an-invalid-key\n",
    "https://stackoverflow.com/questions/13187778/convert-pandas-dataframe-to-numpy-array"
   ]
  },
  {
   "cell_type": "code",
   "execution_count": 15,
   "metadata": {},
   "outputs": [
    {
     "data": {
      "text/plain": [
       "array([[351., 259.,   1., ...,   0.,   0.,   0.],\n",
       "       [117., 515.,   2., ...,   0.,   0.,   0.],\n",
       "       [344., 114.,   0., ...,   0.,   0.,   0.],\n",
       "       ...,\n",
       "       [341., 305.,   1., ...,   0.,   0.,   0.],\n",
       "       [351., 254.,   5., ...,   1.,   0.,   0.],\n",
       "       [341., 333.,   1., ...,   0.,   0.,   0.]])"
      ]
     },
     "execution_count": 15,
     "metadata": {},
     "output_type": "execute_result"
    }
   ],
   "source": [
    "import numpy as np\n",
    "import pandas as pd\n",
    "#May throw this away if code below doesn't execute\n",
    "X1.to_numpy()"
   ]
  },
  {
   "cell_type": "code",
   "execution_count": 16,
   "metadata": {},
   "outputs": [],
   "source": [
    "import numpy as np \n",
    "import pandas as pd \n",
    "import matplotlib.pyplot as plt \n",
    "\n",
    "from sklearn.cluster import DBSCAN \n",
    "from sklearn.preprocessing import StandardScaler \n",
    "from sklearn.preprocessing import normalize \n",
    "from sklearn.decomposition import PCA \n"
   ]
  },
  {
   "cell_type": "code",
   "execution_count": 17,
   "metadata": {},
   "outputs": [],
   "source": [
    "# Scaling the data to bring all the attributes to a comparable level \n",
    "scaler = StandardScaler() \n",
    "X_scaled = scaler.fit_transform(X1) \n",
    "  \n",
    "# Normalizing the data so that  \n",
    "# the data approximately follows a Gaussian distribution \n",
    "X_normalized = normalize(X_scaled) \n",
    "  \n",
    "# Converting the numpy array into a pandas DataFrame \n",
    "#X_normalized = pd.DataFrame(X_normalized) "
   ]
  },
  {
   "cell_type": "code",
   "execution_count": 18,
   "metadata": {},
   "outputs": [],
   "source": [
    "#https://jakevdp.github.io/PythonDataScienceHandbook/05.11-k-means.html"
   ]
  },
  {
   "cell_type": "code",
   "execution_count": 19,
   "metadata": {},
   "outputs": [],
   "source": [
    "from sklearn.cluster import KMeans\n",
    "kmeans = KMeans(n_clusters=10)\n",
    "kmeans.fit(X_normalized)\n",
    "y_kmeans = kmeans.predict(X_normalized)"
   ]
  },
  {
   "cell_type": "code",
   "execution_count": 20,
   "metadata": {},
   "outputs": [
    {
     "data": {
      "image/png": "[encoded data removed]",
      "text/plain": [
       "<Figure size 432x288 with 1 Axes>"
      ]
     },
     "metadata": {
      "needs_background": "light"
     },
     "output_type": "display_data"
    }
   ],
   "source": [
    "plt.scatter(X_normalized[:, 0], X_normalized[:, 1], c=y_kmeans, s=50, cmap='viridis')\n",
    "\n",
    "centers = kmeans.cluster_centers_\n",
    "plt.scatter(centers[:, 0], centers[:, 1], c='black', s=200, alpha=0.5);"
   ]
  },
  {
   "cell_type": "code",
   "execution_count": null,
   "metadata": {},
   "outputs": [],
   "source": []
  },
  {
   "cell_type": "code",
   "execution_count": 21,
   "metadata": {},
   "outputs": [
    {
     "data": {
      "image/png": "[encoded data removed]",
      "text/plain": [
       "<Figure size 432x288 with 1 Axes>"
      ]
     },
     "metadata": {
      "needs_background": "light"
     },
     "output_type": "display_data"
    }
   ],
   "source": [
    "#KMeans\n",
    "\n",
    "from sklearn.metrics import pairwise_distances_argmin\n",
    "def find_clusters(X_normalized, n_clusters, rseed=2):\n",
    "    # 1. Randomly choose clusters\n",
    "    rng = np.random.RandomState(rseed)\n",
    "    i = rng.permutation(X_normalized.shape[0])[:n_clusters]\n",
    "    centers = X_normalized[i]\n",
    "    while True:\n",
    "        # 2a. Assign labels based on closest center\n",
    "        labels = pairwise_distances_argmin(X_normalized, centers)\n",
    "        # 2b. Find new centers from means of points\n",
    "        new_centers = np.array([X_normalized[labels == i].mean(0)\n",
    "                                for i in range(n_clusters)])\n",
    "        # 2c. Check for convergence\n",
    "        if np.all(centers == new_centers):\n",
    "            break\n",
    "        centers = new_centers\n",
    "    return centers, labels\n",
    "centers, labels = find_clusters(X_normalized, 10)\n",
    "plt.scatter(X_normalized[:, 0], X_normalized[:, 1], c=labels,\n",
    "            s=50, cmap='viridis');"
   ]
  },
  {
   "cell_type": "code",
   "execution_count": 23,
   "metadata": {},
   "outputs": [
    {
     "name": "stderr",
     "output_type": "stream",
     "text": [
      "C:\\Users\\sabri\\Anaconda3\\envs\\ML7331\\lib\\site-packages\\sklearn\\manifold\\_spectral_embedding.py:236: UserWarning: Graph is not fully connected, spectral embedding may not work as expected.\n",
      "  warnings.warn(\"Graph is not fully connected, spectral embedding\"\n"
     ]
    },
    {
     "data": {
      "image/png": "[encoded data removed]",
      "text/plain": [
       "<Figure size 432x288 with 1 Axes>"
      ]
     },
     "metadata": {
      "needs_background": "light"
     },
     "output_type": "display_data"
    }
   ],
   "source": [
    "from sklearn.cluster import SpectralClustering\n",
    "model = SpectralClustering(n_clusters=10, affinity='nearest_neighbors',\n",
    "                           assign_labels='kmeans')\n",
    "labels = model.fit_predict(X_normalized)\n",
    "plt.scatter(X_normalized[:, 0], X_normalized[:, 1], c=labels,\n",
    "            s=50, cmap='viridis');"
   ]
  },
  {
   "cell_type": "code",
   "execution_count": null,
   "metadata": {},
   "outputs": [],
   "source": []
  },
  {
   "cell_type": "code",
   "execution_count": null,
   "metadata": {},
   "outputs": [],
   "source": []
  },
  {
   "cell_type": "code",
   "execution_count": null,
   "metadata": {},
   "outputs": [],
   "source": []
  },
  {
   "cell_type": "code",
   "execution_count": null,
   "metadata": {},
   "outputs": [],
   "source": []
  },
  {
   "cell_type": "code",
   "execution_count": null,
   "metadata": {},
   "outputs": [],
   "source": []
  },
  {
   "cell_type": "code",
   "execution_count": null,
   "metadata": {},
   "outputs": [],
   "source": []
  },
  {
   "cell_type": "code",
   "execution_count": null,
   "metadata": {},
   "outputs": [],
   "source": []
  },
  {
   "cell_type": "code",
   "execution_count": 15,
   "metadata": {},
   "outputs": [],
   "source": [
    "from sklearn import *"
   ]
  },
  {
   "cell_type": "markdown",
   "metadata": {},
   "source": [
    "https://www.geeksforgeeks.org/implementing-dbscan-algorithm-using-sklearn/"
   ]
  },
  {
   "cell_type": "code",
   "execution_count": 18,
   "metadata": {},
   "outputs": [
    {
     "name": "stdout",
     "output_type": "stream",
     "text": [
      "             P1            P2\n",
      "0   6324.686552   8516.793991\n",
      "1 -51543.002627 -15388.491207\n",
      "2  49816.455609   8824.435180\n",
      "3 -41646.625790  13564.120004\n",
      "4 -18229.606426 -13088.262913\n"
     ]
    }
   ],
   "source": [
    "pca = PCA(n_components = 2) \n",
    "X_principal = pca.fit_transform(sample) \n",
    "X_principal = pd.DataFrame(X_principal) \n",
    "X_principal.columns = ['P1', 'P2'] \n",
    "print(X_principal.head()) "
   ]
  },
  {
   "cell_type": "code",
   "execution_count": 19,
   "metadata": {},
   "outputs": [],
   "source": [
    "db_default = DBSCAN(eps = 0.0375, min_samples = 20).fit(X_principal) \n",
    "labels = db_default.labels_ "
   ]
  },
  {
   "cell_type": "code",
   "execution_count": 20,
   "metadata": {},
   "outputs": [
    {
     "ename": "KeyError",
     "evalue": "3",
     "output_type": "error",
     "traceback": [
      "\u001b[1;31m---------------------------------------------------------------------------\u001b[0m",
      "\u001b[1;31mKeyError\u001b[0m                                  Traceback (most recent call last)",
      "\u001b[1;32m<ipython-input-20-ba5d992627b2>\u001b[0m in \u001b[0;36m<module>\u001b[1;34m\u001b[0m\n\u001b[0;32m      7\u001b[0m \u001b[1;33m\u001b[0m\u001b[0m\n\u001b[0;32m      8\u001b[0m \u001b[1;31m# Building the colour vector for each data point\u001b[0m\u001b[1;33m\u001b[0m\u001b[1;33m\u001b[0m\u001b[1;33m\u001b[0m\u001b[0m\n\u001b[1;32m----> 9\u001b[1;33m \u001b[0mcvec\u001b[0m \u001b[1;33m=\u001b[0m \u001b[1;33m[\u001b[0m\u001b[0mcolours\u001b[0m\u001b[1;33m[\u001b[0m\u001b[0mlabel\u001b[0m\u001b[1;33m]\u001b[0m \u001b[1;32mfor\u001b[0m \u001b[0mlabel\u001b[0m \u001b[1;32min\u001b[0m \u001b[0mlabels\u001b[0m\u001b[1;33m]\u001b[0m\u001b[1;33m\u001b[0m\u001b[1;33m\u001b[0m\u001b[0m\n\u001b[0m\u001b[0;32m     10\u001b[0m \u001b[0mcolors\u001b[0m \u001b[1;33m=\u001b[0m \u001b[1;33m[\u001b[0m\u001b[1;34m'r'\u001b[0m\u001b[1;33m,\u001b[0m \u001b[1;34m'g'\u001b[0m\u001b[1;33m,\u001b[0m \u001b[1;34m'b'\u001b[0m\u001b[1;33m,\u001b[0m \u001b[1;34m'k'\u001b[0m \u001b[1;33m]\u001b[0m\u001b[1;33m\u001b[0m\u001b[1;33m\u001b[0m\u001b[0m\n\u001b[0;32m     11\u001b[0m \u001b[1;33m\u001b[0m\u001b[0m\n",
      "\u001b[1;32m<ipython-input-20-ba5d992627b2>\u001b[0m in \u001b[0;36m<listcomp>\u001b[1;34m(.0)\u001b[0m\n\u001b[0;32m      7\u001b[0m \u001b[1;33m\u001b[0m\u001b[0m\n\u001b[0;32m      8\u001b[0m \u001b[1;31m# Building the colour vector for each data point\u001b[0m\u001b[1;33m\u001b[0m\u001b[1;33m\u001b[0m\u001b[1;33m\u001b[0m\u001b[0m\n\u001b[1;32m----> 9\u001b[1;33m \u001b[0mcvec\u001b[0m \u001b[1;33m=\u001b[0m \u001b[1;33m[\u001b[0m\u001b[0mcolours\u001b[0m\u001b[1;33m[\u001b[0m\u001b[0mlabel\u001b[0m\u001b[1;33m]\u001b[0m \u001b[1;32mfor\u001b[0m \u001b[0mlabel\u001b[0m \u001b[1;32min\u001b[0m \u001b[0mlabels\u001b[0m\u001b[1;33m]\u001b[0m\u001b[1;33m\u001b[0m\u001b[1;33m\u001b[0m\u001b[0m\n\u001b[0m\u001b[0;32m     10\u001b[0m \u001b[0mcolors\u001b[0m \u001b[1;33m=\u001b[0m \u001b[1;33m[\u001b[0m\u001b[1;34m'r'\u001b[0m\u001b[1;33m,\u001b[0m \u001b[1;34m'g'\u001b[0m\u001b[1;33m,\u001b[0m \u001b[1;34m'b'\u001b[0m\u001b[1;33m,\u001b[0m \u001b[1;34m'k'\u001b[0m \u001b[1;33m]\u001b[0m\u001b[1;33m\u001b[0m\u001b[1;33m\u001b[0m\u001b[0m\n\u001b[0;32m     11\u001b[0m \u001b[1;33m\u001b[0m\u001b[0m\n",
      "\u001b[1;31mKeyError\u001b[0m: 3"
     ]
    }
   ],
   "source": [
    "# Building the label to colour mapping \n",
    "colours = {} \n",
    "colours[0] = 'r'\n",
    "colours[1] = 'g'\n",
    "colours[2] = 'b'\n",
    "colours[-1] = 'k'\n",
    "  \n",
    "# Building the colour vector for each data point \n",
    "cvec = [colours[label] for label in labels] \n",
    "colors = ['r', 'g', 'b', 'k' ] \n",
    "\n",
    "# For the construction of the legend of the plot \n",
    "r = plt.scatter(X_principal['P1'], X_principal['P2'], color ='r'); \n",
    "g = plt.scatter(X_principal['P1'], X_principal['P2'], color ='g'); \n",
    "b = plt.scatter(X_principal['P1'], X_principal['P2'], color ='b'); \n",
    "k = plt.scatter(X_principal['P1'], X_principal['P2'], color ='k'); \n",
    "  \n",
    "# Plotting P1 on the X-Axis and P2 on the Y-Axis  \n",
    "# according to the colour vector defined \n",
    "plt.figure(figsize =(9, 9)) \n",
    "plt.scatter(X_principal['P1'], X_principal['P2'], c = cvec) \n",
    "  \n",
    "# Building the legend \n",
    "plt.legend((r, g, b, k), ('Label 0', 'Label 1', 'Label 2', 'Label -1')) \n",
    "  \n",
    "plt.show() "
   ]
  },
  {
   "cell_type": "code",
   "execution_count": null,
   "metadata": {},
   "outputs": [],
   "source": [
    "db = DBSCAN(eps = 0.0375, min_samples = 50).fit(X_principal) \n",
    "labels1 = db.labels_ "
   ]
  },
  {
   "cell_type": "code",
   "execution_count": null,
   "metadata": {
    "scrolled": true
   },
   "outputs": [],
   "source": [
    "colours1 = {} \n",
    "colours1[0] = 'r'\n",
    "colours1[1] = 'g'\n",
    "colours1[2] = 'b'\n",
    "colours1[3] = 'c'\n",
    "colours1[4] = 'y'\n",
    "colours1[5] = 'm'\n",
    "colours1[-1] = 'k'\n",
    "  \n",
    "cvec = [colours1[label] for label in labels1] \n",
    "colors = ['r', 'g', 'b', 'c', 'y', 'm', 'k' ] \n",
    "  \n",
    "r = plt.scatter( \n",
    "        X_principal['P1'], X_principal['P2'], marker ='o', color = colors[0]) \n",
    "g = plt.scatter( \n",
    "        X_principal['P1'], X_principal['P2'], marker ='o', color = colors[1]) \n",
    "b = plt.scatter( \n",
    "        X_principal['P1'], X_principal['P2'], marker ='o', color = colors[2]) \n",
    "c = plt.scatter( \n",
    "        X_principal['P1'], X_principal['P2'], marker ='o', color = colors[3]) \n",
    "y = plt.scatter( \n",
    "        X_principal['P1'], X_principal['P2'], marker ='o', color = colors[4]) \n",
    "m = plt.scatter( \n",
    "        X_principal['P1'], X_principal['P2'], marker ='o', color = colors[5]) \n",
    "k = plt.scatter( \n",
    "        X_principal['P1'], X_principal['P2'], marker ='o', color = colors[6]) \n",
    "  \n",
    "plt.figure(figsize =(9, 9)) \n",
    "plt.scatter(X_principal['P1'], X_principal['P2'], c = cvec) \n",
    "plt.legend((r, g, b, c, y, m, k), \n",
    "           ('Label 0', 'Label 1', 'Label 2', 'Label 3', 'Label 4', \n",
    "            'Label 5', 'Label -1'), \n",
    "           scatterpoints = 1, \n",
    "           loc ='upper left', \n",
    "           ncol = 3, \n",
    "           fontsize = 8) \n",
    "plt.show() "
   ]
  },
  {
   "cell_type": "code",
   "execution_count": 23,
   "metadata": {},
   "outputs": [
    {
     "name": "stderr",
     "output_type": "stream",
     "text": [
      "C:\\Users\\sabri\\Anaconda3\\envs\\ML7331\\lib\\site-packages\\sklearn\\manifold\\_spectral_embedding.py:236: UserWarning: Graph is not fully connected, spectral embedding may not work as expected.\n",
      "  warnings.warn(\"Graph is not fully connected, spectral embedding\"\n"
     ]
    },
    {
     "ename": "TypeError",
     "evalue": "'(slice(None, None, None), 0)' is an invalid key",
     "output_type": "error",
     "traceback": [
      "\u001b[1;31m---------------------------------------------------------------------------\u001b[0m",
      "\u001b[1;31mTypeError\u001b[0m                                 Traceback (most recent call last)",
      "\u001b[1;32m<ipython-input-23-f8aad25cd09d>\u001b[0m in \u001b[0;36m<module>\u001b[1;34m\u001b[0m\n\u001b[0;32m     11\u001b[0m \u001b[0mlabels\u001b[0m \u001b[1;33m=\u001b[0m \u001b[0mspc\u001b[0m\u001b[1;33m.\u001b[0m\u001b[0mfit_predict\u001b[0m\u001b[1;33m(\u001b[0m\u001b[0mX\u001b[0m\u001b[1;33m)\u001b[0m\u001b[1;33m\u001b[0m\u001b[1;33m\u001b[0m\u001b[0m\n\u001b[0;32m     12\u001b[0m \u001b[1;33m\u001b[0m\u001b[0m\n\u001b[1;32m---> 13\u001b[1;33m plt.scatter(X[:, 0], X[:, 1], c=labels,\n\u001b[0m\u001b[0;32m     14\u001b[0m                     cmap=plt.cm.rainbow, s=5, linewidths=0)\n\u001b[0;32m     15\u001b[0m \u001b[1;33m\u001b[0m\u001b[0m\n",
      "\u001b[1;32m~\\Anaconda3\\envs\\ML7331\\lib\\site-packages\\pandas\\core\\frame.py\u001b[0m in \u001b[0;36m__getitem__\u001b[1;34m(self, key)\u001b[0m\n\u001b[0;32m   2900\u001b[0m             \u001b[1;32mif\u001b[0m \u001b[0mself\u001b[0m\u001b[1;33m.\u001b[0m\u001b[0mcolumns\u001b[0m\u001b[1;33m.\u001b[0m\u001b[0mnlevels\u001b[0m \u001b[1;33m>\u001b[0m \u001b[1;36m1\u001b[0m\u001b[1;33m:\u001b[0m\u001b[1;33m\u001b[0m\u001b[1;33m\u001b[0m\u001b[0m\n\u001b[0;32m   2901\u001b[0m                 \u001b[1;32mreturn\u001b[0m \u001b[0mself\u001b[0m\u001b[1;33m.\u001b[0m\u001b[0m_getitem_multilevel\u001b[0m\u001b[1;33m(\u001b[0m\u001b[0mkey\u001b[0m\u001b[1;33m)\u001b[0m\u001b[1;33m\u001b[0m\u001b[1;33m\u001b[0m\u001b[0m\n\u001b[1;32m-> 2902\u001b[1;33m             \u001b[0mindexer\u001b[0m \u001b[1;33m=\u001b[0m \u001b[0mself\u001b[0m\u001b[1;33m.\u001b[0m\u001b[0mcolumns\u001b[0m\u001b[1;33m.\u001b[0m\u001b[0mget_loc\u001b[0m\u001b[1;33m(\u001b[0m\u001b[0mkey\u001b[0m\u001b[1;33m)\u001b[0m\u001b[1;33m\u001b[0m\u001b[1;33m\u001b[0m\u001b[0m\n\u001b[0m\u001b[0;32m   2903\u001b[0m             \u001b[1;32mif\u001b[0m \u001b[0mis_integer\u001b[0m\u001b[1;33m(\u001b[0m\u001b[0mindexer\u001b[0m\u001b[1;33m)\u001b[0m\u001b[1;33m:\u001b[0m\u001b[1;33m\u001b[0m\u001b[1;33m\u001b[0m\u001b[0m\n\u001b[0;32m   2904\u001b[0m                 \u001b[0mindexer\u001b[0m \u001b[1;33m=\u001b[0m \u001b[1;33m[\u001b[0m\u001b[0mindexer\u001b[0m\u001b[1;33m]\u001b[0m\u001b[1;33m\u001b[0m\u001b[1;33m\u001b[0m\u001b[0m\n",
      "\u001b[1;32m~\\Anaconda3\\envs\\ML7331\\lib\\site-packages\\pandas\\core\\indexes\\base.py\u001b[0m in \u001b[0;36mget_loc\u001b[1;34m(self, key, method, tolerance)\u001b[0m\n\u001b[0;32m   2887\u001b[0m             \u001b[0mcasted_key\u001b[0m \u001b[1;33m=\u001b[0m \u001b[0mself\u001b[0m\u001b[1;33m.\u001b[0m\u001b[0m_maybe_cast_indexer\u001b[0m\u001b[1;33m(\u001b[0m\u001b[0mkey\u001b[0m\u001b[1;33m)\u001b[0m\u001b[1;33m\u001b[0m\u001b[1;33m\u001b[0m\u001b[0m\n\u001b[0;32m   2888\u001b[0m             \u001b[1;32mtry\u001b[0m\u001b[1;33m:\u001b[0m\u001b[1;33m\u001b[0m\u001b[1;33m\u001b[0m\u001b[0m\n\u001b[1;32m-> 2889\u001b[1;33m                 \u001b[1;32mreturn\u001b[0m \u001b[0mself\u001b[0m\u001b[1;33m.\u001b[0m\u001b[0m_engine\u001b[0m\u001b[1;33m.\u001b[0m\u001b[0mget_loc\u001b[0m\u001b[1;33m(\u001b[0m\u001b[0mcasted_key\u001b[0m\u001b[1;33m)\u001b[0m\u001b[1;33m\u001b[0m\u001b[1;33m\u001b[0m\u001b[0m\n\u001b[0m\u001b[0;32m   2890\u001b[0m             \u001b[1;32mexcept\u001b[0m \u001b[0mKeyError\u001b[0m \u001b[1;32mas\u001b[0m \u001b[0merr\u001b[0m\u001b[1;33m:\u001b[0m\u001b[1;33m\u001b[0m\u001b[1;33m\u001b[0m\u001b[0m\n\u001b[0;32m   2891\u001b[0m                 \u001b[1;32mraise\u001b[0m \u001b[0mKeyError\u001b[0m\u001b[1;33m(\u001b[0m\u001b[0mkey\u001b[0m\u001b[1;33m)\u001b[0m \u001b[1;32mfrom\u001b[0m \u001b[0merr\u001b[0m\u001b[1;33m\u001b[0m\u001b[1;33m\u001b[0m\u001b[0m\n",
      "\u001b[1;32mpandas\\_libs\\index.pyx\u001b[0m in \u001b[0;36mpandas._libs.index.IndexEngine.get_loc\u001b[1;34m()\u001b[0m\n",
      "\u001b[1;32mpandas\\_libs\\index.pyx\u001b[0m in \u001b[0;36mpandas._libs.index.IndexEngine.get_loc\u001b[1;34m()\u001b[0m\n",
      "\u001b[1;31mTypeError\u001b[0m: '(slice(None, None, None), 0)' is an invalid key"
     ]
    }
   ],
   "source": [
    "# an example using SpectralClustering, which assumes that the graphical data needs to be calculated from the structure\n",
    "from sklearn.cluster import SpectralClustering\n",
    "\n",
    "X = X1\n",
    "nclust = 10\n",
    "\n",
    "# If a string, this may be one of \n",
    "#  ‘nearest_neighbors’, ‘precomputed’, ‘rbf’ \n",
    "#  or one of the kernels supported by sklearn.metrics.pairwise_kernels\n",
    "spc = SpectralClustering(n_clusters=nclust, affinity = 'nearest_neighbors')\n",
    "labels = spc.fit_predict(X)\n",
    "\n",
    "plt.scatter(X[:, 0], X[:, 1], c=labels,\n",
    "                    cmap=plt.cm.rainbow, s=5, linewidths=0)\n",
    "\n",
    "plt.show()"
   ]
  },
  {
   "cell_type": "code",
   "execution_count": null,
   "metadata": {},
   "outputs": [],
   "source": []
  },
  {
   "cell_type": "code",
   "execution_count": null,
   "metadata": {},
   "outputs": [],
   "source": []
  },
  {
   "cell_type": "code",
   "execution_count": null,
   "metadata": {},
   "outputs": [],
   "source": []
  },
  {
   "cell_type": "code",
   "execution_count": null,
   "metadata": {},
   "outputs": [],
   "source": []
  },
  {
   "cell_type": "code",
   "execution_count": null,
   "metadata": {},
   "outputs": [],
   "source": []
  },
  {
   "cell_type": "code",
   "execution_count": 24,
   "metadata": {},
   "outputs": [
    {
     "data": {
      "image/png": "[encoded data removed]",
      "text/plain": [
       "<Figure size 1080x360 with 1 Axes>"
      ]
     },
     "metadata": {
      "needs_background": "light"
     },
     "output_type": "display_data"
    }
   ],
   "source": [
    "# lets first look at the connectivity of the graphs and distance to the nearest neighbors\n",
    "from sklearn.neighbors import kneighbors_graph\n",
    "\n",
    "#=======================================================\n",
    "# CHANGE THESE VALUES TO ADJUST MINPTS FOR EACH DATASET\n",
    "X1_N = 40\n",
    "#=======================================================\n",
    "\n",
    "# create connectivity graphs before calcualting the hierarchy\n",
    "X1_knn_graph = kneighbors_graph(X1, X1_N, mode='distance') # calculate distance to four nearest neighbors \n",
    "\n",
    "N1 = X1_knn_graph.shape[0]\n",
    "X1_4nn_distances = np.zeros((N1,1))\n",
    "for i in range(N1):\n",
    "    X1_4nn_distances[i] = X1_knn_graph[i,:].max()\n",
    "\n",
    "X1_4nn_distances = np.sort(X1_4nn_distances, axis=0)\n",
    "\n",
    "plt.figure(figsize=(15,5))\n",
    "plt.subplot(1,2,1)\n",
    "plt.plot(range(N1), X1_4nn_distances, 'r.', markersize=2) #plot the data\n",
    "plt.title('Dataset name: X1, sorted by neighbor distance')\n",
    "plt.xlabel('X1, Instance Number')\n",
    "plt.ylabel('X1, Distance to {0}th nearest neighbor'.format(X1_N))\n",
    "plt.grid()\n",
    "\n",
    "plt.show()"
   ]
  },
  {
   "cell_type": "code",
   "execution_count": 25,
   "metadata": {},
   "outputs": [
    {
     "ename": "TypeError",
     "evalue": "'(slice(None, None, None), 0)' is an invalid key",
     "output_type": "error",
     "traceback": [
      "\u001b[1;31m---------------------------------------------------------------------------\u001b[0m",
      "\u001b[1;31mTypeError\u001b[0m                                 Traceback (most recent call last)",
      "\u001b[1;32m<ipython-input-25-57351b5a21a5>\u001b[0m in \u001b[0;36m<module>\u001b[1;34m\u001b[0m\n\u001b[0;32m     31\u001b[0m         \u001b[0mxy\u001b[0m \u001b[1;33m=\u001b[0m \u001b[0mdata\u001b[0m\u001b[1;33m[\u001b[0m\u001b[0mclass_member_mask\u001b[0m \u001b[1;33m&\u001b[0m \u001b[0mcore_samples_mask\u001b[0m\u001b[1;33m]\u001b[0m\u001b[1;33m\u001b[0m\u001b[1;33m\u001b[0m\u001b[0m\n\u001b[0;32m     32\u001b[0m         \u001b[1;31m# plot the core points in this class\u001b[0m\u001b[1;33m\u001b[0m\u001b[1;33m\u001b[0m\u001b[1;33m\u001b[0m\u001b[0m\n\u001b[1;32m---> 33\u001b[1;33m         plt.plot(xy[:, 0], xy[:, 1], 'o', markerfacecolor=col,\n\u001b[0m\u001b[0;32m     34\u001b[0m                  markeredgecolor='w', markersize=6)\n\u001b[0;32m     35\u001b[0m \u001b[1;33m\u001b[0m\u001b[0m\n",
      "\u001b[1;32m~\\Anaconda3\\envs\\ML7331\\lib\\site-packages\\pandas\\core\\frame.py\u001b[0m in \u001b[0;36m__getitem__\u001b[1;34m(self, key)\u001b[0m\n\u001b[0;32m   2900\u001b[0m             \u001b[1;32mif\u001b[0m \u001b[0mself\u001b[0m\u001b[1;33m.\u001b[0m\u001b[0mcolumns\u001b[0m\u001b[1;33m.\u001b[0m\u001b[0mnlevels\u001b[0m \u001b[1;33m>\u001b[0m \u001b[1;36m1\u001b[0m\u001b[1;33m:\u001b[0m\u001b[1;33m\u001b[0m\u001b[1;33m\u001b[0m\u001b[0m\n\u001b[0;32m   2901\u001b[0m                 \u001b[1;32mreturn\u001b[0m \u001b[0mself\u001b[0m\u001b[1;33m.\u001b[0m\u001b[0m_getitem_multilevel\u001b[0m\u001b[1;33m(\u001b[0m\u001b[0mkey\u001b[0m\u001b[1;33m)\u001b[0m\u001b[1;33m\u001b[0m\u001b[1;33m\u001b[0m\u001b[0m\n\u001b[1;32m-> 2902\u001b[1;33m             \u001b[0mindexer\u001b[0m \u001b[1;33m=\u001b[0m \u001b[0mself\u001b[0m\u001b[1;33m.\u001b[0m\u001b[0mcolumns\u001b[0m\u001b[1;33m.\u001b[0m\u001b[0mget_loc\u001b[0m\u001b[1;33m(\u001b[0m\u001b[0mkey\u001b[0m\u001b[1;33m)\u001b[0m\u001b[1;33m\u001b[0m\u001b[1;33m\u001b[0m\u001b[0m\n\u001b[0m\u001b[0;32m   2903\u001b[0m             \u001b[1;32mif\u001b[0m \u001b[0mis_integer\u001b[0m\u001b[1;33m(\u001b[0m\u001b[0mindexer\u001b[0m\u001b[1;33m)\u001b[0m\u001b[1;33m:\u001b[0m\u001b[1;33m\u001b[0m\u001b[1;33m\u001b[0m\u001b[0m\n\u001b[0;32m   2904\u001b[0m                 \u001b[0mindexer\u001b[0m \u001b[1;33m=\u001b[0m \u001b[1;33m[\u001b[0m\u001b[0mindexer\u001b[0m\u001b[1;33m]\u001b[0m\u001b[1;33m\u001b[0m\u001b[1;33m\u001b[0m\u001b[0m\n",
      "\u001b[1;32m~\\Anaconda3\\envs\\ML7331\\lib\\site-packages\\pandas\\core\\indexes\\base.py\u001b[0m in \u001b[0;36mget_loc\u001b[1;34m(self, key, method, tolerance)\u001b[0m\n\u001b[0;32m   2887\u001b[0m             \u001b[0mcasted_key\u001b[0m \u001b[1;33m=\u001b[0m \u001b[0mself\u001b[0m\u001b[1;33m.\u001b[0m\u001b[0m_maybe_cast_indexer\u001b[0m\u001b[1;33m(\u001b[0m\u001b[0mkey\u001b[0m\u001b[1;33m)\u001b[0m\u001b[1;33m\u001b[0m\u001b[1;33m\u001b[0m\u001b[0m\n\u001b[0;32m   2888\u001b[0m             \u001b[1;32mtry\u001b[0m\u001b[1;33m:\u001b[0m\u001b[1;33m\u001b[0m\u001b[1;33m\u001b[0m\u001b[0m\n\u001b[1;32m-> 2889\u001b[1;33m                 \u001b[1;32mreturn\u001b[0m \u001b[0mself\u001b[0m\u001b[1;33m.\u001b[0m\u001b[0m_engine\u001b[0m\u001b[1;33m.\u001b[0m\u001b[0mget_loc\u001b[0m\u001b[1;33m(\u001b[0m\u001b[0mcasted_key\u001b[0m\u001b[1;33m)\u001b[0m\u001b[1;33m\u001b[0m\u001b[1;33m\u001b[0m\u001b[0m\n\u001b[0m\u001b[0;32m   2890\u001b[0m             \u001b[1;32mexcept\u001b[0m \u001b[0mKeyError\u001b[0m \u001b[1;32mas\u001b[0m \u001b[0merr\u001b[0m\u001b[1;33m:\u001b[0m\u001b[1;33m\u001b[0m\u001b[1;33m\u001b[0m\u001b[0m\n\u001b[0;32m   2891\u001b[0m                 \u001b[1;32mraise\u001b[0m \u001b[0mKeyError\u001b[0m\u001b[1;33m(\u001b[0m\u001b[0mkey\u001b[0m\u001b[1;33m)\u001b[0m \u001b[1;32mfrom\u001b[0m \u001b[0merr\u001b[0m\u001b[1;33m\u001b[0m\u001b[1;33m\u001b[0m\u001b[0m\n",
      "\u001b[1;32mpandas\\_libs\\index.pyx\u001b[0m in \u001b[0;36mpandas._libs.index.IndexEngine.get_loc\u001b[1;34m()\u001b[0m\n",
      "\u001b[1;32mpandas\\_libs\\index.pyx\u001b[0m in \u001b[0;36mpandas._libs.index.IndexEngine.get_loc\u001b[1;34m()\u001b[0m\n",
      "\u001b[1;31mTypeError\u001b[0m: '(slice(None, None, None), 0)' is an invalid key"
     ]
    },
    {
     "data": {
      "text/plain": [
       "<Figure size 1080x288 with 0 Axes>"
      ]
     },
     "metadata": {},
     "output_type": "display_data"
    }
   ],
   "source": [
    "from sklearn.cluster import DBSCAN\n",
    "\n",
    "#=====================================\n",
    "# ENTER YOUR CODE HERE TO CHANGE MINPTS AND EPS FOR EACH DATASET\n",
    "X1_minpts = 500 \n",
    "X1_eps = 3\n",
    "#=====================================\n",
    "\n",
    "for i, (data, minpts, eps) in enumerate(zip([X1],[X1_minpts],[X1_eps])):\n",
    "\n",
    "    db = DBSCAN(eps=eps, min_samples=minpts).fit(data)\n",
    "    labels = db.labels_\n",
    "\n",
    "    # Number of clusters in labels, ignoring noise if present.\n",
    "    n_clusters_ = len(set(labels)) - (1 if -1 in labels else 0)\n",
    "\n",
    "    # mark the samples that are considered \"core\"\n",
    "    core_samples_mask = np.zeros_like(db.labels_, dtype=bool)\n",
    "    core_samples_mask[db.core_sample_indices_] = True\n",
    "\n",
    "    plt.figure(figsize=(15,4))\n",
    "    unique_labels = set(labels) # the unique labels\n",
    "    colors = plt.cm.Spectral(np.linspace(0, 1, len(unique_labels)))\n",
    "    for k, col in zip(unique_labels, colors):\n",
    "        if k == -1:\n",
    "            # Black used for noise.\n",
    "            col = 'k'\n",
    "\n",
    "        class_member_mask = (labels == k)\n",
    "\n",
    "        xy = data[class_member_mask & core_samples_mask]\n",
    "        # plot the core points in this class\n",
    "        plt.plot(xy[:, 0], xy[:, 1], 'o', markerfacecolor=col,\n",
    "                 markeredgecolor='w', markersize=6)\n",
    "\n",
    "        # plot the remaining points that are edge points\n",
    "        xy = data[class_member_mask & ~core_samples_mask]\n",
    "        plt.plot(xy[:, 0], xy[:, 1], 'o', markerfacecolor=col,\n",
    "                 markeredgecolor='w', markersize=3)\n",
    "\n",
    "    plt.title('Estimated number of clusters: %d' % n_clusters_)\n",
    "    plt.grid()\n",
    "    plt.show()"
   ]
  }
 ],
 "metadata": {
  "kernelspec": {
   "display_name": "Python 3",
   "language": "python",
   "name": "python3"
  },
  "language_info": {
   "codemirror_mode": {
    "name": "ipython",
    "version": 3
   },
   "file_extension": ".py",
   "mimetype": "text/x-python",
   "name": "python",
   "nbconvert_exporter": "python",
   "pygments_lexer": "ipython3",
   "version": "3.8.5"
  }
 },
 "nbformat": 4,
 "nbformat_minor": 4
}
