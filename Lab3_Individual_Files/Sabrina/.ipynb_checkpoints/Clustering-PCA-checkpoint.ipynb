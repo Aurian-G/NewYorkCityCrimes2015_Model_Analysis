{
 "cells": [
  {
   "cell_type": "code",
   "execution_count": null,
   "metadata": {},
   "outputs": [],
   "source": [
    "#to throw it back together\n",
    "Clusterdf['cluster'] = results.labels_"
   ]
  },
  {
   "cell_type": "code",
   "execution_count": null,
   "metadata": {},
   "outputs": [],
   "source": []
  },
  {
   "cell_type": "code",
   "execution_count": 2,
   "metadata": {},
   "outputs": [],
   "source": [
    "import pandas as pd\n",
    "import numpy as np\n",
    "from sklearn.linear_model import LinearRegression"
   ]
  },
  {
   "cell_type": "code",
   "execution_count": 3,
   "metadata": {
    "scrolled": true
   },
   "outputs": [
    {
     "name": "stderr",
     "output_type": "stream",
     "text": [
      "C:\\Users\\sabri\\Anaconda3\\envs\\ML7331\\lib\\site-packages\\IPython\\core\\interactiveshell.py:3145: DtypeWarning: Columns (17) have mixed types.Specify dtype option on import or set low_memory=False.\n",
      "  has_raised = await self.run_ast_nodes(code_ast.body, cell_name,\n"
     ]
    }
   ],
   "source": [
    "crime = pd.read_csv('C:/Users/sabri/Documents/GitHub/NewYorkCityCrimes2015/Lab3_Individual_Files/Sabrina/FE1_NYPD_Complaint_Data_Historic.csv') # read in the csv %%file"
   ]
  },
  {
   "cell_type": "code",
   "execution_count": 4,
   "metadata": {
    "scrolled": true
   },
   "outputs": [
    {
     "data": {
      "text/html": [
       "<div>\n",
       "<style scoped>\n",
       "    .dataframe tbody tr th:only-of-type {\n",
       "        vertical-align: middle;\n",
       "    }\n",
       "\n",
       "    .dataframe tbody tr th {\n",
       "        vertical-align: top;\n",
       "    }\n",
       "\n",
       "    .dataframe thead th {\n",
       "        text-align: right;\n",
       "    }\n",
       "</style>\n",
       "<table border=\"1\" class=\"dataframe\">\n",
       "  <thead>\n",
       "    <tr style=\"text-align: right;\">\n",
       "      <th></th>\n",
       "      <th>CMPLNT_NUM</th>\n",
       "      <th>KY_CD</th>\n",
       "      <th>PD_CD</th>\n",
       "      <th>ADDR_PCT_CD</th>\n",
       "      <th>X_COORD_CD</th>\n",
       "      <th>Y_COORD_CD</th>\n",
       "      <th>Latitude</th>\n",
       "      <th>Longitude</th>\n",
       "      <th>Duration</th>\n",
       "      <th>Duration_to_PD</th>\n",
       "      <th>Day</th>\n",
       "      <th>Year</th>\n",
       "      <th>GeoCell</th>\n",
       "      <th>GeoCell_X</th>\n",
       "      <th>GeoCell_Y</th>\n",
       "    </tr>\n",
       "  </thead>\n",
       "  <tbody>\n",
       "    <tr>\n",
       "      <th>count</th>\n",
       "      <td>1.048575e+06</td>\n",
       "      <td>1.048575e+06</td>\n",
       "      <td>1.047842e+06</td>\n",
       "      <td>1.048574e+06</td>\n",
       "      <td>1.016158e+06</td>\n",
       "      <td>1.016158e+06</td>\n",
       "      <td>1.016158e+06</td>\n",
       "      <td>1.016158e+06</td>\n",
       "      <td>842416.000000</td>\n",
       "      <td>1.048510e+06</td>\n",
       "      <td>1.048510e+06</td>\n",
       "      <td>1.048510e+06</td>\n",
       "      <td>1.016123e+06</td>\n",
       "      <td>1.016157e+06</td>\n",
       "      <td>1.016124e+06</td>\n",
       "    </tr>\n",
       "    <tr>\n",
       "      <th>mean</th>\n",
       "      <td>5.497027e+08</td>\n",
       "      <td>2.953382e+02</td>\n",
       "      <td>4.099135e+02</td>\n",
       "      <td>6.380729e+01</td>\n",
       "      <td>1.004983e+06</td>\n",
       "      <td>2.067818e+05</td>\n",
       "      <td>4.073420e+01</td>\n",
       "      <td>-7.392516e+01</td>\n",
       "      <td>3.328113</td>\n",
       "      <td>1.359763e+01</td>\n",
       "      <td>1.552258e+01</td>\n",
       "      <td>2.014346e+03</td>\n",
       "      <td>5.844382e+01</td>\n",
       "      <td>6.444581e+00</td>\n",
       "      <td>6.199925e+00</td>\n",
       "    </tr>\n",
       "    <tr>\n",
       "      <th>std</th>\n",
       "      <td>2.598666e+08</td>\n",
       "      <td>1.505240e+02</td>\n",
       "      <td>2.192328e+02</td>\n",
       "      <td>3.434066e+01</td>\n",
       "      <td>2.146524e+04</td>\n",
       "      <td>3.043238e+04</td>\n",
       "      <td>8.353300e-02</td>\n",
       "      <td>7.741049e-02</td>\n",
       "      <td>5.232735</td>\n",
       "      <td>2.331575e+02</td>\n",
       "      <td>8.803343e+00</td>\n",
       "      <td>8.898275e-01</td>\n",
       "      <td>2.079365e+01</td>\n",
       "      <td>1.441555e+00</td>\n",
       "      <td>2.031922e+00</td>\n",
       "    </tr>\n",
       "    <tr>\n",
       "      <th>min</th>\n",
       "      <td>1.000007e+08</td>\n",
       "      <td>1.010000e+02</td>\n",
       "      <td>1.010000e+02</td>\n",
       "      <td>1.000000e+00</td>\n",
       "      <td>9.133190e+05</td>\n",
       "      <td>1.210800e+05</td>\n",
       "      <td>4.049877e+01</td>\n",
       "      <td>-7.425508e+01</td>\n",
       "      <td>0.000000</td>\n",
       "      <td>-2.410000e+02</td>\n",
       "      <td>1.000000e+00</td>\n",
       "      <td>1.910000e+03</td>\n",
       "      <td>1.000000e+00</td>\n",
       "      <td>1.000000e+00</td>\n",
       "      <td>1.000000e+00</td>\n",
       "    </tr>\n",
       "    <tr>\n",
       "      <th>25%</th>\n",
       "      <td>3.244583e+08</td>\n",
       "      <td>1.170000e+02</td>\n",
       "      <td>2.540000e+02</td>\n",
       "      <td>4.000000e+01</td>\n",
       "      <td>9.919982e+05</td>\n",
       "      <td>1.839220e+05</td>\n",
       "      <td>4.067144e+01</td>\n",
       "      <td>-7.397206e+01</td>\n",
       "      <td>1.000000</td>\n",
       "      <td>0.000000e+00</td>\n",
       "      <td>8.000000e+00</td>\n",
       "      <td>2.014000e+03</td>\n",
       "      <td>4.600000e+01</td>\n",
       "      <td>6.000000e+00</td>\n",
       "      <td>5.000000e+00</td>\n",
       "    </tr>\n",
       "    <tr>\n",
       "      <th>50%</th>\n",
       "      <td>5.494480e+08</td>\n",
       "      <td>3.410000e+02</td>\n",
       "      <td>3.570000e+02</td>\n",
       "      <td>6.600000e+01</td>\n",
       "      <td>1.004598e+06</td>\n",
       "      <td>2.053300e+05</td>\n",
       "      <td>4.073021e+01</td>\n",
       "      <td>-7.392661e+01</td>\n",
       "      <td>1.000000</td>\n",
       "      <td>0.000000e+00</td>\n",
       "      <td>1.500000e+01</td>\n",
       "      <td>2.014000e+03</td>\n",
       "      <td>5.600000e+01</td>\n",
       "      <td>6.000000e+00</td>\n",
       "      <td>6.000000e+00</td>\n",
       "    </tr>\n",
       "    <tr>\n",
       "      <th>75%</th>\n",
       "      <td>7.746526e+08</td>\n",
       "      <td>3.510000e+02</td>\n",
       "      <td>6.370000e+02</td>\n",
       "      <td>9.400000e+01</td>\n",
       "      <td>1.016552e+06</td>\n",
       "      <td>2.348090e+05</td>\n",
       "      <td>4.081116e+01</td>\n",
       "      <td>-7.388336e+01</td>\n",
       "      <td>2.000000</td>\n",
       "      <td>1.000000e+00</td>\n",
       "      <td>2.300000e+01</td>\n",
       "      <td>2.015000e+03</td>\n",
       "      <td>7.600000e+01</td>\n",
       "      <td>7.000000e+00</td>\n",
       "      <td>8.000000e+00</td>\n",
       "    </tr>\n",
       "    <tr>\n",
       "      <th>max</th>\n",
       "      <td>9.999996e+08</td>\n",
       "      <td>8.810000e+02</td>\n",
       "      <td>9.750000e+02</td>\n",
       "      <td>1.230000e+02</td>\n",
       "      <td>1.067226e+06</td>\n",
       "      <td>2.718200e+05</td>\n",
       "      <td>4.091272e+01</td>\n",
       "      <td>-7.370058e+01</td>\n",
       "      <td>24.000000</td>\n",
       "      <td>3.822300e+04</td>\n",
       "      <td>3.100000e+01</td>\n",
       "      <td>2.015000e+03</td>\n",
       "      <td>9.900000e+01</td>\n",
       "      <td>1.000000e+01</td>\n",
       "      <td>1.000000e+01</td>\n",
       "    </tr>\n",
       "  </tbody>\n",
       "</table>\n",
       "</div>"
      ],
      "text/plain": [
       "         CMPLNT_NUM         KY_CD         PD_CD   ADDR_PCT_CD    X_COORD_CD  \\\n",
       "count  1.048575e+06  1.048575e+06  1.047842e+06  1.048574e+06  1.016158e+06   \n",
       "mean   5.497027e+08  2.953382e+02  4.099135e+02  6.380729e+01  1.004983e+06   \n",
       "std    2.598666e+08  1.505240e+02  2.192328e+02  3.434066e+01  2.146524e+04   \n",
       "min    1.000007e+08  1.010000e+02  1.010000e+02  1.000000e+00  9.133190e+05   \n",
       "25%    3.244583e+08  1.170000e+02  2.540000e+02  4.000000e+01  9.919982e+05   \n",
       "50%    5.494480e+08  3.410000e+02  3.570000e+02  6.600000e+01  1.004598e+06   \n",
       "75%    7.746526e+08  3.510000e+02  6.370000e+02  9.400000e+01  1.016552e+06   \n",
       "max    9.999996e+08  8.810000e+02  9.750000e+02  1.230000e+02  1.067226e+06   \n",
       "\n",
       "         Y_COORD_CD      Latitude     Longitude       Duration  \\\n",
       "count  1.016158e+06  1.016158e+06  1.016158e+06  842416.000000   \n",
       "mean   2.067818e+05  4.073420e+01 -7.392516e+01       3.328113   \n",
       "std    3.043238e+04  8.353300e-02  7.741049e-02       5.232735   \n",
       "min    1.210800e+05  4.049877e+01 -7.425508e+01       0.000000   \n",
       "25%    1.839220e+05  4.067144e+01 -7.397206e+01       1.000000   \n",
       "50%    2.053300e+05  4.073021e+01 -7.392661e+01       1.000000   \n",
       "75%    2.348090e+05  4.081116e+01 -7.388336e+01       2.000000   \n",
       "max    2.718200e+05  4.091272e+01 -7.370058e+01      24.000000   \n",
       "\n",
       "       Duration_to_PD           Day          Year       GeoCell     GeoCell_X  \\\n",
       "count    1.048510e+06  1.048510e+06  1.048510e+06  1.016123e+06  1.016157e+06   \n",
       "mean     1.359763e+01  1.552258e+01  2.014346e+03  5.844382e+01  6.444581e+00   \n",
       "std      2.331575e+02  8.803343e+00  8.898275e-01  2.079365e+01  1.441555e+00   \n",
       "min     -2.410000e+02  1.000000e+00  1.910000e+03  1.000000e+00  1.000000e+00   \n",
       "25%      0.000000e+00  8.000000e+00  2.014000e+03  4.600000e+01  6.000000e+00   \n",
       "50%      0.000000e+00  1.500000e+01  2.014000e+03  5.600000e+01  6.000000e+00   \n",
       "75%      1.000000e+00  2.300000e+01  2.015000e+03  7.600000e+01  7.000000e+00   \n",
       "max      3.822300e+04  3.100000e+01  2.015000e+03  9.900000e+01  1.000000e+01   \n",
       "\n",
       "          GeoCell_Y  \n",
       "count  1.016124e+06  \n",
       "mean   6.199925e+00  \n",
       "std    2.031922e+00  \n",
       "min    1.000000e+00  \n",
       "25%    5.000000e+00  \n",
       "50%    6.000000e+00  \n",
       "75%    8.000000e+00  \n",
       "max    1.000000e+01  "
      ]
     },
     "execution_count": 4,
     "metadata": {},
     "output_type": "execute_result"
    }
   ],
   "source": [
    "crime.describe()"
   ]
  },
  {
   "cell_type": "code",
   "execution_count": 5,
   "metadata": {
    "scrolled": true
   },
   "outputs": [
    {
     "name": "stdout",
     "output_type": "stream",
     "text": [
      "<class 'pandas.core.frame.DataFrame'>\n",
      "RangeIndex: 1048575 entries, 0 to 1048574\n",
      "Data columns (total 38 columns):\n",
      " #   Column             Non-Null Count    Dtype  \n",
      "---  ------             --------------    -----  \n",
      " 0   CMPLNT_NUM         1048575 non-null  int64  \n",
      " 1   CMPLNT_FR_DT       1048510 non-null  object \n",
      " 2   CMPLNT_FR_TM       1048575 non-null  object \n",
      " 3   CMPLNT_TO_DT       842616 non-null   object \n",
      " 4   CMPLNT_TO_TM       843002 non-null   object \n",
      " 5   RPT_DT             1048575 non-null  object \n",
      " 6   KY_CD              1048575 non-null  int64  \n",
      " 7   OFNS_DESC          1045695 non-null  object \n",
      " 8   PD_CD              1047842 non-null  float64\n",
      " 9   PD_DESC            1047842 non-null  object \n",
      " 10  CRM_ATPT_CPTD_CD   1048574 non-null  object \n",
      " 11  LAW_CAT_CD         1048575 non-null  object \n",
      " 12  JURIS_DESC         1048575 non-null  object \n",
      " 13  BORO_NM            1048575 non-null  object \n",
      " 14  ADDR_PCT_CD        1048574 non-null  float64\n",
      " 15  LOC_OF_OCCUR_DESC  830823 non-null   object \n",
      " 16  PREM_TYP_DESC      1043886 non-null  object \n",
      " 17  PARKS_NM           7599 non-null     object \n",
      " 18  HADEVELOPT         51772 non-null    object \n",
      " 19  X_COORD_CD         1016158 non-null  float64\n",
      " 20  Y_COORD_CD         1016158 non-null  float64\n",
      " 21  Latitude           1016158 non-null  float64\n",
      " 22  Longitude          1016158 non-null  float64\n",
      " 23  Lat_Lon            1016158 non-null  object \n",
      " 24  Start_Dt_Tm        1048510 non-null  object \n",
      " 25  End_Dt_Tm          842467 non-null   object \n",
      " 26  Day_Name           1048510 non-null  object \n",
      " 27  Duration           842416 non-null   float64\n",
      " 28  Duration_to_PD     1048510 non-null  float64\n",
      " 29  Month              1048510 non-null  object \n",
      " 30  Day                1048510 non-null  float64\n",
      " 31  Year               1048510 non-null  float64\n",
      " 32  Duration_lbl       790699 non-null   object \n",
      " 33  Season             1048510 non-null  object \n",
      " 34  Daytime            998700 non-null   object \n",
      " 35  GeoCell            1016123 non-null  float64\n",
      " 36  GeoCell_X          1016157 non-null  float64\n",
      " 37  GeoCell_Y          1016124 non-null  float64\n",
      "dtypes: float64(13), int64(2), object(23)\n",
      "memory usage: 304.0+ MB\n"
     ]
    }
   ],
   "source": [
    "crime.info()"
   ]
  },
  {
   "cell_type": "code",
   "execution_count": 6,
   "metadata": {},
   "outputs": [],
   "source": [
    "#drop Geocell and coordinate data\n",
    "if 'Latitude' in crime:    \n",
    "    del crime['Latitude'] \n",
    "if 'Longitude' in crime:    \n",
    "    del crime['Longitude'] \n",
    "if 'Geocell' in crime:    \n",
    "    del crime['Geocell'] \n",
    "if 'Geocell_X' in crime:    \n",
    "    del crime['Geocell_X'] \n",
    "if 'Geocell_Y' in crime:    \n",
    "    del crime['Geocell_Y'] \n",
    "if 'X_COORD_CD' in crime:\n",
    "    del crime['X_COORD_CD']\n",
    "if 'Y_COORD_CD' in crime:\n",
    "    del crime['Y_COORD_CD']"
   ]
  },
  {
   "cell_type": "code",
   "execution_count": null,
   "metadata": {},
   "outputs": [],
   "source": [
    "#grabbing a copy of the original dataset, post variable drop.  I need this to append the final labels back to\n",
    "crime_df = crime\n",
    "#dropping the NANs\n",
    "crime_df = crime_df.dropna()"
   ]
  },
  {
   "cell_type": "code",
   "execution_count": 7,
   "metadata": {},
   "outputs": [],
   "source": [
    "# perform one-hot encoding of the categorical data on 'JURIS_DESC','BORO_NM','LOC_OF_OCCUR_DESC',\n",
    "#'ADDR_PCT_CD','PREM_TYP_DESC','Day_Name','Month','Duration_lbl','Season','Daytime'\n",
    "tmp_df = pd.get_dummies(crime.JURIS_DESC,prefix='JURIS_DESC')\n",
    "crime = pd.concat((crime,tmp_df),axis=1) # add back into the dataframe\n",
    "\n",
    "tmp_df = pd.get_dummies(crime.BORO_NM,prefix='BORO_NM')\n",
    "crime = pd.concat((crime,tmp_df),axis=1) # add back into the dataframe\n",
    "\n",
    "tmp_df = pd.get_dummies(crime.LOC_OF_OCCUR_DESC,prefix='LOC_OF_OCCUR_DESC')\n",
    "crime = pd.concat((crime,tmp_df),axis=1) # add back into the dataframe\n",
    "\n",
    "tmp_df = pd.get_dummies(crime.ADDR_PCT_CD,prefix='ADDR_PCT_CD')\n",
    "crime = pd.concat((crime,tmp_df),axis=1) # add back into the dataframe\n",
    "\n",
    "tmp_df = pd.get_dummies(crime.PREM_TYP_DESC,prefix='PREM_TYP_DESC')\n",
    "crime = pd.concat((crime,tmp_df),axis=1) # add back into the dataframe\n",
    "\n",
    "tmp_df = pd.get_dummies(crime.Day_Name,prefix='Day_Name')\n",
    "crime = pd.concat((crime,tmp_df),axis=1) # add back into the dataframe\n",
    "\n",
    "tmp_df = pd.get_dummies(crime.Month,prefix='Month')\n",
    "crime = pd.concat((crime,tmp_df),axis=1) # add back into the dataframe\n",
    "\n",
    "tmp_df = pd.get_dummies(crime.Duration_lbl,prefix='Duration_lbl')\n",
    "crime = pd.concat((crime,tmp_df),axis=1) # add back into the dataframe\n",
    "\n",
    "tmp_df = pd.get_dummies(crime.Season,prefix='Season')\n",
    "crime = pd.concat((crime,tmp_df),axis=1) # add back into the dataframe\n",
    "\n",
    "tmp_df = pd.get_dummies(crime.Daytime,prefix='Daytime')\n",
    "crime = pd.concat((crime,tmp_df),axis=1) # add back into the dataframe\n",
    "\n",
    "tmp_df = pd.get_dummies(crime.Daytime,prefix='OFNS_DESC')\n",
    "crime = pd.concat((crime,tmp_df),axis=1) # add back into the dataframe\n",
    "\n",
    "tmp_df = pd.get_dummies(crime.Daytime,prefix='CRM_ATPT_CPTD_CD')\n",
    "crime = pd.concat((crime,tmp_df),axis=1) # add back into the dataframe\n",
    "\n",
    "tmp_df = pd.get_dummies(crime.Daytime,prefix='LAW_CAT_CD')\n",
    "crime = pd.concat((crime,tmp_df),axis=1) # add back into the dataframe"
   ]
  },
  {
   "cell_type": "code",
   "execution_count": 8,
   "metadata": {},
   "outputs": [],
   "source": [
    "#Now we drop the original variables\n",
    "if 'JURIS_DESC' in crime:    \n",
    "    del crime['JURIS_DESC'] # get rid of the original category as it is now one-hot encoded\n",
    "if 'BORO_NM' in crime:    \n",
    "    del crime['BORO_NM'] # get rid of the original category as it is now one-hot encoded\n",
    "if 'LOC_OF_OCCUR_DESC' in crime:    \n",
    "    del crime['LOC_OF_OCCUR_DESC'] # get rid of the original category as it is now one-hot encoded\n",
    "if 'ADDR_PCT_CD' in crime:    \n",
    "    del crime['ADDR_PCT_CD'] # get rid of the original category as it is now one-hot encoded\n",
    "if 'PREM_TYP_DESC' in crime:    \n",
    "    del crime['PREM_TYP_DESC'] # get rid of the original category as it is now one-hot encoded\n",
    "if 'Day_Name' in crime:    \n",
    "    del crime['Day_Name'] # get rid of the original category as it is now one-hot encoded\n",
    "if 'Month' in crime:    \n",
    "    del crime['Month'] # get rid of the original category as it is now one-hot encoded\n",
    "if 'Duration_lbl' in crime:    \n",
    "    del crime['Duration_lbl'] # get rid of the original category as it is now one-hot encoded\n",
    "if 'Season' in crime:    \n",
    "    del crime['Season'] # get rid of the original category as it is now one-hot encoded\n",
    "if 'Daytime' in crime:    \n",
    "    del crime['Daytime'] # get rid of the original category as it is now one-hot encoded\n",
    "if 'OFNS_DESC' in crime:    \n",
    "    del crime['OFNS_DESC'] # get rid of the original category as it is now one-hot encoded\n",
    "if 'CRM_ATPT_CPTD_CD' in crime:    \n",
    "    del crime['CRM_ATPT_CPTD_CD'] # get rid of the original category as it is now one-hot encoded\n",
    "if 'LAW_CAT_CD' in crime:    \n",
    "    del crime['LAW_CAT_CD'] # get rid of the original category as it is now one-hot encoded\n"
   ]
  },
  {
   "cell_type": "code",
   "execution_count": 9,
   "metadata": {},
   "outputs": [
    {
     "data": {
      "text/plain": [
       "CMPLNT_NUM                                      int64\n",
       "CMPLNT_FR_DT                                   object\n",
       "CMPLNT_FR_TM                                   object\n",
       "CMPLNT_TO_DT                                   object\n",
       "CMPLNT_TO_TM                                   object\n",
       "RPT_DT                                         object\n",
       "KY_CD                                           int64\n",
       "PD_CD                                         float64\n",
       "PD_DESC                                        object\n",
       "PARKS_NM                                       object\n",
       "HADEVELOPT                                     object\n",
       "Lat_Lon                                        object\n",
       "Start_Dt_Tm                                    object\n",
       "End_Dt_Tm                                      object\n",
       "Duration                                      float64\n",
       "Duration_to_PD                                float64\n",
       "Day                                           float64\n",
       "Year                                          float64\n",
       "GeoCell                                       float64\n",
       "GeoCell_X                                     float64\n",
       "GeoCell_Y                                     float64\n",
       "JURIS_DESC_AMTRACK                              uint8\n",
       "JURIS_DESC_CONRAIL                              uint8\n",
       "JURIS_DESC_DEPT OF CORRECTIONS                  uint8\n",
       "JURIS_DESC_HEALTH & HOSP CORP                   uint8\n",
       "JURIS_DESC_LONG ISLAND RAILRD                   uint8\n",
       "JURIS_DESC_METRO NORTH                          uint8\n",
       "JURIS_DESC_N.Y. HOUSING POLICE                  uint8\n",
       "JURIS_DESC_N.Y. POLICE DEPT                     uint8\n",
       "JURIS_DESC_N.Y. STATE PARKS                     uint8\n",
       "JURIS_DESC_N.Y. STATE POLICE                    uint8\n",
       "JURIS_DESC_N.Y. TRANSIT POLICE                  uint8\n",
       "JURIS_DESC_NEW YORK CITY SHERIFF OFFICE         uint8\n",
       "JURIS_DESC_NYC PARKS                            uint8\n",
       "JURIS_DESC_NYS DEPT TAX AND FINANCE             uint8\n",
       "JURIS_DESC_OTHER                                uint8\n",
       "JURIS_DESC_POLICE DEPT NYC                      uint8\n",
       "JURIS_DESC_PORT AUTHORITY                       uint8\n",
       "JURIS_DESC_STATN IS RAPID TRANS                 uint8\n",
       "JURIS_DESC_TRI-BORO BRDG TUNNL                  uint8\n",
       "JURIS_DESC_U.S. PARK POLICE                     uint8\n",
       "BORO_NM_BRONX                                   uint8\n",
       "BORO_NM_BROOKLYN                                uint8\n",
       "BORO_NM_MANHATTAN                               uint8\n",
       "BORO_NM_QUEENS                                  uint8\n",
       "BORO_NM_STATEN ISLAND                           uint8\n",
       "LOC_OF_OCCUR_DESC_FRONT OF                      uint8\n",
       "LOC_OF_OCCUR_DESC_INSIDE                        uint8\n",
       "LOC_OF_OCCUR_DESC_OPPOSITE OF                   uint8\n",
       "LOC_OF_OCCUR_DESC_OUTSIDE                       uint8\n",
       "LOC_OF_OCCUR_DESC_REAR OF                       uint8\n",
       "ADDR_PCT_CD_1.0                                 uint8\n",
       "ADDR_PCT_CD_5.0                                 uint8\n",
       "ADDR_PCT_CD_6.0                                 uint8\n",
       "ADDR_PCT_CD_7.0                                 uint8\n",
       "ADDR_PCT_CD_9.0                                 uint8\n",
       "ADDR_PCT_CD_10.0                                uint8\n",
       "ADDR_PCT_CD_13.0                                uint8\n",
       "ADDR_PCT_CD_14.0                                uint8\n",
       "ADDR_PCT_CD_17.0                                uint8\n",
       "ADDR_PCT_CD_18.0                                uint8\n",
       "ADDR_PCT_CD_19.0                                uint8\n",
       "ADDR_PCT_CD_20.0                                uint8\n",
       "ADDR_PCT_CD_22.0                                uint8\n",
       "ADDR_PCT_CD_23.0                                uint8\n",
       "ADDR_PCT_CD_24.0                                uint8\n",
       "ADDR_PCT_CD_25.0                                uint8\n",
       "ADDR_PCT_CD_26.0                                uint8\n",
       "ADDR_PCT_CD_28.0                                uint8\n",
       "ADDR_PCT_CD_30.0                                uint8\n",
       "ADDR_PCT_CD_32.0                                uint8\n",
       "ADDR_PCT_CD_33.0                                uint8\n",
       "ADDR_PCT_CD_34.0                                uint8\n",
       "ADDR_PCT_CD_40.0                                uint8\n",
       "ADDR_PCT_CD_41.0                                uint8\n",
       "ADDR_PCT_CD_42.0                                uint8\n",
       "ADDR_PCT_CD_43.0                                uint8\n",
       "ADDR_PCT_CD_44.0                                uint8\n",
       "ADDR_PCT_CD_45.0                                uint8\n",
       "ADDR_PCT_CD_46.0                                uint8\n",
       "ADDR_PCT_CD_47.0                                uint8\n",
       "ADDR_PCT_CD_48.0                                uint8\n",
       "ADDR_PCT_CD_49.0                                uint8\n",
       "ADDR_PCT_CD_50.0                                uint8\n",
       "ADDR_PCT_CD_52.0                                uint8\n",
       "ADDR_PCT_CD_60.0                                uint8\n",
       "ADDR_PCT_CD_61.0                                uint8\n",
       "ADDR_PCT_CD_62.0                                uint8\n",
       "ADDR_PCT_CD_63.0                                uint8\n",
       "ADDR_PCT_CD_66.0                                uint8\n",
       "ADDR_PCT_CD_67.0                                uint8\n",
       "ADDR_PCT_CD_68.0                                uint8\n",
       "ADDR_PCT_CD_69.0                                uint8\n",
       "ADDR_PCT_CD_70.0                                uint8\n",
       "ADDR_PCT_CD_71.0                                uint8\n",
       "ADDR_PCT_CD_72.0                                uint8\n",
       "ADDR_PCT_CD_73.0                                uint8\n",
       "ADDR_PCT_CD_75.0                                uint8\n",
       "ADDR_PCT_CD_76.0                                uint8\n",
       "ADDR_PCT_CD_77.0                                uint8\n",
       "ADDR_PCT_CD_78.0                                uint8\n",
       "ADDR_PCT_CD_79.0                                uint8\n",
       "ADDR_PCT_CD_81.0                                uint8\n",
       "ADDR_PCT_CD_83.0                                uint8\n",
       "ADDR_PCT_CD_84.0                                uint8\n",
       "ADDR_PCT_CD_88.0                                uint8\n",
       "ADDR_PCT_CD_90.0                                uint8\n",
       "ADDR_PCT_CD_94.0                                uint8\n",
       "ADDR_PCT_CD_100.0                               uint8\n",
       "ADDR_PCT_CD_101.0                               uint8\n",
       "ADDR_PCT_CD_102.0                               uint8\n",
       "ADDR_PCT_CD_103.0                               uint8\n",
       "ADDR_PCT_CD_104.0                               uint8\n",
       "ADDR_PCT_CD_105.0                               uint8\n",
       "ADDR_PCT_CD_106.0                               uint8\n",
       "ADDR_PCT_CD_107.0                               uint8\n",
       "ADDR_PCT_CD_108.0                               uint8\n",
       "ADDR_PCT_CD_109.0                               uint8\n",
       "ADDR_PCT_CD_110.0                               uint8\n",
       "ADDR_PCT_CD_111.0                               uint8\n",
       "ADDR_PCT_CD_112.0                               uint8\n",
       "ADDR_PCT_CD_113.0                               uint8\n",
       "ADDR_PCT_CD_114.0                               uint8\n",
       "ADDR_PCT_CD_115.0                               uint8\n",
       "ADDR_PCT_CD_120.0                               uint8\n",
       "ADDR_PCT_CD_121.0                               uint8\n",
       "ADDR_PCT_CD_122.0                               uint8\n",
       "ADDR_PCT_CD_123.0                               uint8\n",
       "PREM_TYP_DESC_ABANDONED BUILDING                uint8\n",
       "PREM_TYP_DESC_AIRPORT TERMINAL                  uint8\n",
       "PREM_TYP_DESC_ATM                               uint8\n",
       "PREM_TYP_DESC_BANK                              uint8\n",
       "PREM_TYP_DESC_BAR/NIGHT CLUB                    uint8\n",
       "PREM_TYP_DESC_BEAUTY & NAIL SALON               uint8\n",
       "PREM_TYP_DESC_BOOK/CARD                         uint8\n",
       "PREM_TYP_DESC_BRIDGE                            uint8\n",
       "PREM_TYP_DESC_BUS (NYC TRANSIT)                 uint8\n",
       "PREM_TYP_DESC_BUS (OTHER)                       uint8\n",
       "PREM_TYP_DESC_BUS STOP                          uint8\n",
       "PREM_TYP_DESC_BUS TERMINAL                      uint8\n",
       "PREM_TYP_DESC_CANDY STORE                       uint8\n",
       "PREM_TYP_DESC_CEMETERY                          uint8\n",
       "PREM_TYP_DESC_CHAIN STORE                       uint8\n",
       "PREM_TYP_DESC_CHECK CASHING BUSINESS            uint8\n",
       "PREM_TYP_DESC_CHURCH                            uint8\n",
       "PREM_TYP_DESC_CLOTHING/BOUTIQUE                 uint8\n",
       "PREM_TYP_DESC_COMMERCIAL BUILDING               uint8\n",
       "PREM_TYP_DESC_CONSTRUCTION SITE                 uint8\n",
       "PREM_TYP_DESC_DEPARTMENT STORE                  uint8\n",
       "PREM_TYP_DESC_DOCTOR/DENTIST OFFICE             uint8\n",
       "PREM_TYP_DESC_DRUG STORE                        uint8\n",
       "PREM_TYP_DESC_DRY CLEANER/LAUNDRY               uint8\n",
       "PREM_TYP_DESC_FACTORY/WAREHOUSE                 uint8\n",
       "PREM_TYP_DESC_FAST FOOD                         uint8\n",
       "PREM_TYP_DESC_FERRY/FERRY TERMINAL              uint8\n",
       "PREM_TYP_DESC_FOOD SUPERMARKET                  uint8\n",
       "PREM_TYP_DESC_GAS STATION                       uint8\n",
       "PREM_TYP_DESC_GROCERY/BODEGA                    uint8\n",
       "PREM_TYP_DESC_GYM/FITNESS FACILITY              uint8\n",
       "PREM_TYP_DESC_HIGHWAY/PARKWAY                   uint8\n",
       "PREM_TYP_DESC_HOSPITAL                          uint8\n",
       "PREM_TYP_DESC_HOTEL/MOTEL                       uint8\n",
       "PREM_TYP_DESC_JEWELRY                           uint8\n",
       "PREM_TYP_DESC_LIQUOR STORE                      uint8\n",
       "PREM_TYP_DESC_LOAN COMPANY                      uint8\n",
       "PREM_TYP_DESC_MARINA/PIER                       uint8\n",
       "PREM_TYP_DESC_MOSQUE                            uint8\n",
       "PREM_TYP_DESC_OPEN AREAS (OPEN LOTS)            uint8\n",
       "PREM_TYP_DESC_OTHER                             uint8\n",
       "PREM_TYP_DESC_OTHER HOUSE OF WORSHIP            uint8\n",
       "PREM_TYP_DESC_PARK/PLAYGROUND                   uint8\n",
       "PREM_TYP_DESC_PARKING LOT/GARAGE (PRIVATE)      uint8\n",
       "PREM_TYP_DESC_PARKING LOT/GARAGE (PUBLIC)       uint8\n",
       "PREM_TYP_DESC_PHOTO/COPY                        uint8\n",
       "PREM_TYP_DESC_PRIVATE/PAROCHIAL SCHOOL          uint8\n",
       "PREM_TYP_DESC_PUBLIC BUILDING                   uint8\n",
       "PREM_TYP_DESC_PUBLIC SCHOOL                     uint8\n",
       "PREM_TYP_DESC_RESIDENCE - APT. HOUSE            uint8\n",
       "PREM_TYP_DESC_RESIDENCE - PUBLIC HOUSING        uint8\n",
       "PREM_TYP_DESC_RESIDENCE-HOUSE                   uint8\n",
       "PREM_TYP_DESC_RESTAURANT/DINER                  uint8\n",
       "PREM_TYP_DESC_SHOE                              uint8\n",
       "PREM_TYP_DESC_SMALL MERCHANT                    uint8\n",
       "PREM_TYP_DESC_SOCIAL CLUB/POLICY                uint8\n",
       "PREM_TYP_DESC_STORAGE FACILITY                  uint8\n",
       "PREM_TYP_DESC_STORE UNCLASSIFIED                uint8\n",
       "PREM_TYP_DESC_STREET                            uint8\n",
       "PREM_TYP_DESC_SYNAGOGUE                         uint8\n",
       "PREM_TYP_DESC_TAXI (LIVERY LICENSED)            uint8\n",
       "PREM_TYP_DESC_TAXI (YELLOW LICENSED)            uint8\n",
       "PREM_TYP_DESC_TAXI/LIVERY (UNLICENSED)          uint8\n",
       "PREM_TYP_DESC_TELECOMM. STORE                   uint8\n",
       "PREM_TYP_DESC_TRAMWAY                           uint8\n",
       "PREM_TYP_DESC_TRANSIT - NYC SUBWAY              uint8\n",
       "PREM_TYP_DESC_TRANSIT FACILITY (OTHER)          uint8\n",
       "PREM_TYP_DESC_TUNNEL                            uint8\n",
       "PREM_TYP_DESC_VARIETY STORE                     uint8\n",
       "PREM_TYP_DESC_VIDEO STORE                       uint8\n",
       "Day_Name_Friday                                 uint8\n",
       "Day_Name_Monday                                 uint8\n",
       "Day_Name_Saturday                               uint8\n",
       "Day_Name_Sunday                                 uint8\n",
       "Day_Name_Thursday                               uint8\n",
       "Day_Name_Tuesday                                uint8\n",
       "Day_Name_Wednesday                              uint8\n",
       "Month_April                                     uint8\n",
       "Month_August                                    uint8\n",
       "Month_December                                  uint8\n",
       "Month_February                                  uint8\n",
       "Month_January                                   uint8\n",
       "Month_July                                      uint8\n",
       "Month_June                                      uint8\n",
       "Month_March                                     uint8\n",
       "Month_May                                       uint8\n",
       "Month_November                                  uint8\n",
       "Month_October                                   uint8\n",
       "Month_September                                 uint8\n",
       "Duration_lbl_Long                               uint8\n",
       "Duration_lbl_Medium                             uint8\n",
       "Duration_lbl_Short                              uint8\n",
       "Season_Fall                                     uint8\n",
       "Season_Spring                                   uint8\n",
       "Season_Summer                                   uint8\n",
       "Season_Winter                                   uint8\n",
       "Daytime_Day                                     uint8\n",
       "Daytime_Early Morning                           uint8\n",
       "Daytime_Evening                                 uint8\n",
       "Daytime_Late Night                              uint8\n",
       "Daytime_Morning                                 uint8\n",
       "Daytime_Night                                   uint8\n",
       "OFNS_DESC_Day                                   uint8\n",
       "OFNS_DESC_Early Morning                         uint8\n",
       "OFNS_DESC_Evening                               uint8\n",
       "OFNS_DESC_Late Night                            uint8\n",
       "OFNS_DESC_Morning                               uint8\n",
       "OFNS_DESC_Night                                 uint8\n",
       "CRM_ATPT_CPTD_CD_Day                            uint8\n",
       "CRM_ATPT_CPTD_CD_Early Morning                  uint8\n",
       "CRM_ATPT_CPTD_CD_Evening                        uint8\n",
       "CRM_ATPT_CPTD_CD_Late Night                     uint8\n",
       "CRM_ATPT_CPTD_CD_Morning                        uint8\n",
       "CRM_ATPT_CPTD_CD_Night                          uint8\n",
       "LAW_CAT_CD_Day                                  uint8\n",
       "LAW_CAT_CD_Early Morning                        uint8\n",
       "LAW_CAT_CD_Evening                              uint8\n",
       "LAW_CAT_CD_Late Night                           uint8\n",
       "LAW_CAT_CD_Morning                              uint8\n",
       "LAW_CAT_CD_Night                                uint8\n",
       "dtype: object"
      ]
     },
     "execution_count": 9,
     "metadata": {},
     "output_type": "execute_result"
    }
   ],
   "source": [
    "pd.set_option('display.max_rows', 300)\n",
    "crime.dtypes"
   ]
  },
  {
   "cell_type": "code",
   "execution_count": 10,
   "metadata": {},
   "outputs": [],
   "source": [
    "#dropping variables that don't add value or have sizeable missing values\n",
    "if 'CMPLNT_NUM' in crime: #randomly assigned case id\n",
    "    del crime['CMPLNT_NUM']\n",
    "if 'CMPLNT_FR_DT' in crime:  #Date and time references have been binned\n",
    "    del crime['CMPLNT_FR_DT']\n",
    "if 'CMPLNT_FR_TM' in crime:\n",
    "    del crime['CMPLNT_FR_TM']\n",
    "if 'CMPLNT_TO_DT' in crime:\n",
    "    del crime['CMPLNT_TO_DT']\n",
    "if 'CMPLNT_TO_TM' in crime:\n",
    "    del crime['CMPLNT_TO_TM']\n",
    "if 'Start_Dt_Tm' in crime:\n",
    "    del crime['Start_Dt_Tm']\n",
    "if 'End_Dt_Tm' in crime:\n",
    "    del crime['End_Dt_Tm']\n",
    "if 'RPT_DT' in crime:   #this is an unknown at the time of the crime in many cases\n",
    "    del crime['RPT_DT']\n",
    "if 'PD_DESC' in crime:  #duplicate information from PD_CD\n",
    "    del crime['PD_DESC']\n",
    "if 'Lat_Lon' in crime:\n",
    "    del crime['Lat_Lon']\n",
    "if 'PARKS_NM' in crime:    \n",
    "    del crime['PARKS_NM']\n",
    "if 'HADEVELOPT' in crime:    \n",
    "    del crime['HADEVELOPT']\n",
    "if 'LOC_OF_OCCUR_DESC' in crime:    \n",
    "    del crime['LOC_OF_OCCUR_DESC']"
   ]
  },
  {
   "cell_type": "code",
   "execution_count": 11,
   "metadata": {},
   "outputs": [],
   "source": [
    "#dropping any remaining NANs\n",
    "crime = crime.dropna() "
   ]
  },
  {
   "cell_type": "code",
   "execution_count": 12,
   "metadata": {},
   "outputs": [
    {
     "data": {
      "text/plain": [
       "0"
      ]
     },
     "execution_count": 12,
     "metadata": {},
     "output_type": "execute_result"
    }
   ],
   "source": [
    "crime.isnull().values.any()\n",
    "crime.isnull().sum().sum()"
   ]
  },
  {
   "cell_type": "code",
   "execution_count": 13,
   "metadata": {},
   "outputs": [],
   "source": [
    "from sklearn.decomposition import PCA\n",
    "\n",
    "pca = PCA(n_components=5)\n",
    "\n",
    "principal_components = pca.fit_transform(crime)\n",
    "\n",
    "df_PCA = pd.DataFrame(data=principal_components,columns=['PC1','PC2','PC3', 'PC4', 'PC5'])"
   ]
  },
  {
   "cell_type": "code",
   "execution_count": 15,
   "metadata": {},
   "outputs": [
    {
     "data": {
      "image/png": "[encoded data removed]",
      "text/plain": [
       "<Figure size 432x288 with 1 Axes>"
      ]
     },
     "metadata": {},
     "output_type": "display_data"
    }
   ],
   "source": [
    "from matplotlib import pyplot as plt\n",
    "plt.style.use(\"ggplot\")\n",
    "\n",
    "per_var = np.round(pca.explained_variance_ratio_ * 100, decimals=1)\n",
    "labels = ['PC' + str(x) for x in range(1, len(per_var) + 1)]\n",
    "plt.bar(x=range(1, len(per_var)+1), height=per_var, tick_label=labels)\n",
    "plt.ylabel('percentange of explained variance')\n",
    "plt.xlabel('principal component')\n",
    "plt.title('scree plot')\n",
    "plt.show()"
   ]
  },
  {
   "cell_type": "code",
   "execution_count": 16,
   "metadata": {
    "scrolled": true
   },
   "outputs": [
    {
     "data": {
      "image/png": "[encoded data removed]",
      "text/plain": [
       "<Figure size 432x288 with 1 Axes>"
      ]
     },
     "metadata": {
      "needs_background": "light"
     },
     "output_type": "display_data"
    }
   ],
   "source": [
    "from matplotlib import pyplot as plt\n",
    "plt.style.use(\"ggplot\")\n",
    "\n",
    "%matplotlib inline\n",
    "X = df_PCA[['PC1','PC2']].values\n",
    "plt.scatter(X[:,1], X[:,0]+np.random.random(X[:,1].shape)/2,\n",
    "            s=20)\n",
    "\n",
    "plt.xlabel('PC2'), plt.ylabel('PC1')\n",
    "plt.grid()\n",
    "plt.title('PCA Analysis')\n",
    "plt.show()"
   ]
  },
  {
   "cell_type": "code",
   "execution_count": null,
   "metadata": {},
   "outputs": [],
   "source": [
    "from sklearn.cluster import KMeans\n",
    "from sklearn import metrics\n",
    "from scipy.spatial.distance import cdist\n",
    "\n",
    "x1 = df_PCA[['PC1']].to_numpy()\n",
    "x2 = df_PCA[['PC2']].to_numpy()\n",
    "\n",
    "plt.plot()\n",
    "plt.xlim([0, 10])\n",
    "plt.ylim([0, 100])\n",
    "plt.title('Dataset')\n",
    "plt.scatter(x1, x2)\n",
    "plt.show()\n",
    "# create new plot and data\n",
    "plt.plot()\n",
    "X = np.array(list(zip(x1, x2))).reshape(len(x1), 2)\n",
    "colors = ['b', 'g', 'r']\n",
    "markers = ['o','v','s']\n",
    "\n",
    "# k means determine k\n",
    "distortions = []\n",
    "K = range(1,15)\n",
    "for k in K:\n",
    "    kmeanModel = KMeans(n_clusters=k).fit(X)\n",
    "    kmeanModel.fit(X)\n",
    "    distortions.append(sum(np.min(cdist(X, kmeanModel.cluster_centers_, 'euclidean'), axis=1)) / X.shape[0])\n",
    "\n",
    "# Plot the elbow\n",
    "plt.plot(K, distortions, 'bx-')\n",
    "plt.xlabel('k')\n",
    "plt.ylabel('Distortion')\n",
    "plt.title('The Elbow Method showing the optimal k')\n",
    "plt.show()"
   ]
  },
  {
   "cell_type": "code",
   "execution_count": null,
   "metadata": {},
   "outputs": [],
   "source": []
  },
  {
   "cell_type": "code",
   "execution_count": null,
   "metadata": {},
   "outputs": [],
   "source": []
  },
  {
   "cell_type": "code",
   "execution_count": 18,
   "metadata": {},
   "outputs": [],
   "source": [
    "X1=crime"
   ]
  },
  {
   "cell_type": "markdown",
   "metadata": {},
   "source": [
    "https://stackoverflow.com/questions/55291667/getting-typeerror-slicenone-none-none-0-is-an-invalid-key\n",
    "https://stackoverflow.com/questions/13187778/convert-pandas-dataframe-to-numpy-array"
   ]
  },
  {
   "cell_type": "code",
   "execution_count": 19,
   "metadata": {},
   "outputs": [
    {
     "data": {
      "text/plain": [
       "array([[344., 101.,   1., ...,   1.,   0.,   0.],\n",
       "       [106., 109.,   1., ...,   1.,   0.,   0.],\n",
       "       [118., 792.,   0., ...,   1.,   0.,   0.],\n",
       "       ...,\n",
       "       [344., 113.,   1., ...,   0.,   0.,   1.],\n",
       "       [235., 511.,   1., ...,   0.,   0.,   1.],\n",
       "       [236., 782.,   1., ...,   0.,   0.,   1.]])"
      ]
     },
     "execution_count": 19,
     "metadata": {},
     "output_type": "execute_result"
    }
   ],
   "source": [
    "import numpy as np\n",
    "import pandas as pd\n",
    "\n",
    "X1.to_numpy()"
   ]
  },
  {
   "cell_type": "code",
   "execution_count": 20,
   "metadata": {},
   "outputs": [],
   "source": [
    "import numpy as np \n",
    "import pandas as pd \n",
    "import matplotlib.pyplot as plt \n",
    "\n",
    "from sklearn.cluster import DBSCAN \n",
    "from sklearn.preprocessing import StandardScaler \n",
    "from sklearn.preprocessing import normalize \n",
    "from sklearn.decomposition import PCA \n"
   ]
  },
  {
   "cell_type": "code",
   "execution_count": 21,
   "metadata": {},
   "outputs": [],
   "source": [
    "# Scaling the data to bring all the attributes to a comparable level \n",
    "scaler = StandardScaler() \n",
    "X_scaled = scaler.fit_transform(X1) \n",
    "  \n",
    "# Normalizing the data so that  \n",
    "# the data approximately follows a Gaussian distribution \n",
    "X_normalized = normalize(X_scaled) \n",
    "  \n",
    "# Converting the numpy array into a pandas DataFrame - code below fails as a dataframe - needs to be array\n",
    "#X_normalized = pd.DataFrame(X_normalized) "
   ]
  },
  {
   "cell_type": "markdown",
   "metadata": {},
   "source": [
    "https://jakevdp.github.io/PythonDataScienceHandbook/05.11-k-means.html"
   ]
  },
  {
   "cell_type": "code",
   "execution_count": 22,
   "metadata": {},
   "outputs": [],
   "source": [
    "from sklearn.cluster import KMeans\n",
    "kmeans = KMeans(n_clusters=5)\n",
    "kmeans.fit(X_normalized)\n",
    "y_kmeans = kmeans.predict(X_normalized)"
   ]
  },
  {
   "cell_type": "code",
   "execution_count": 23,
   "metadata": {},
   "outputs": [
    {
     "data": {
      "image/png": "[encoded data removed]",
      "text/plain": [
       "<Figure size 432x288 with 1 Axes>"
      ]
     },
     "metadata": {
      "needs_background": "light"
     },
     "output_type": "display_data"
    }
   ],
   "source": [
    "plt.scatter(X_normalized[:, 0], X_normalized[:, 1], c=y_kmeans, s=50, cmap='viridis')\n",
    "\n",
    "centers = kmeans.cluster_centers_\n",
    "plt.scatter(centers[:, 0], centers[:, 1], c='black', s=200, alpha=0.5);"
   ]
  },
  {
   "cell_type": "code",
   "execution_count": 24,
   "metadata": {
    "scrolled": true
   },
   "outputs": [
    {
     "data": {
      "image/png": "[encoded data removed]",
      "text/plain": [
       "<Figure size 432x288 with 1 Axes>"
      ]
     },
     "metadata": {
      "needs_background": "light"
     },
     "output_type": "display_data"
    }
   ],
   "source": [
    "from sklearn.metrics import pairwise_distances_argmin\n",
    "def find_clusters(X_normalized, n_clusters, rseed=2):\n",
    "    # 1. Randomly choose clusters\n",
    "    rng = np.random.RandomState(rseed)\n",
    "    i = rng.permutation(X_normalized.shape[0])[:n_clusters]\n",
    "    centers = X_normalized[i]\n",
    "    while True:\n",
    "        # 2a. Assign labels based on closest center\n",
    "        labels = pairwise_distances_argmin(X_normalized, centers)\n",
    "        # 2b. Find new centers from means of points\n",
    "        new_centers = np.array([X_normalized[labels == i].mean(0)\n",
    "                                for i in range(n_clusters)])\n",
    "        # 2c. Check for convergence\n",
    "        if np.all(centers == new_centers):\n",
    "            break\n",
    "        centers = new_centers\n",
    "    return centers, labels\n",
    "centers, labels = find_clusters(X_normalized, 5)\n",
    "plt.scatter(X_normalized[:, 0], X_normalized[:, 1], c=labels,\n",
    "            s=50, cmap='viridis');"
   ]
  },
  {
   "cell_type": "code",
   "execution_count": null,
   "metadata": {},
   "outputs": [],
   "source": [
    "from sklearn.cluster import SpectralClustering\n",
    "model = SpectralClustering(n_clusters=5, affinity='nearest_neighbors',\n",
    "                           assign_labels='kmeans')\n",
    "labels = model.fit_predict(X_normalized)\n",
    "plt.scatter(X_normalized[:, 0], X_normalized[:, 1], c=labels,\n",
    "            s=50, cmap='viridis');"
   ]
  },
  {
   "cell_type": "markdown",
   "metadata": {},
   "source": [
    "**NOTES**  Once code above completes, run new cells at beginning to make df copy then come run labels"
   ]
  },
  {
   "cell_type": "code",
   "execution_count": null,
   "metadata": {},
   "outputs": [],
   "source": [
    "labels"
   ]
  },
  {
   "cell_type": "code",
   "execution_count": null,
   "metadata": {},
   "outputs": [],
   "source": [
    "df = pd.DataFrame(labels)\n",
    "print(df)"
   ]
  },
  {
   "cell_type": "code",
   "execution_count": null,
   "metadata": {},
   "outputs": [],
   "source": [
    "crime_labeled = pd.concat([crime_df,df],axis=1)\n",
    "\n",
    "crime_labeled.head()"
   ]
  },
  {
   "cell_type": "code",
   "execution_count": null,
   "metadata": {},
   "outputs": [],
   "source": [
    "crime_labeled.to_csv('crime_labeled.csv')"
   ]
  },
  {
   "cell_type": "code",
   "execution_count": null,
   "metadata": {},
   "outputs": [],
   "source": []
  },
  {
   "cell_type": "code",
   "execution_count": null,
   "metadata": {},
   "outputs": [],
   "source": []
  },
  {
   "cell_type": "code",
   "execution_count": null,
   "metadata": {},
   "outputs": [],
   "source": []
  },
  {
   "cell_type": "code",
   "execution_count": null,
   "metadata": {},
   "outputs": [],
   "source": []
  },
  {
   "cell_type": "code",
   "execution_count": null,
   "metadata": {},
   "outputs": [],
   "source": []
  },
  {
   "cell_type": "code",
   "execution_count": null,
   "metadata": {},
   "outputs": [],
   "source": []
  },
  {
   "cell_type": "code",
   "execution_count": null,
   "metadata": {},
   "outputs": [],
   "source": []
  },
  {
   "cell_type": "code",
   "execution_count": null,
   "metadata": {},
   "outputs": [],
   "source": []
  },
  {
   "cell_type": "code",
   "execution_count": null,
   "metadata": {},
   "outputs": [],
   "source": []
  },
  {
   "cell_type": "code",
   "execution_count": null,
   "metadata": {},
   "outputs": [],
   "source": []
  },
  {
   "cell_type": "code",
   "execution_count": null,
   "metadata": {},
   "outputs": [],
   "source": []
  }
 ],
 "metadata": {
  "kernelspec": {
   "display_name": "Python 3",
   "language": "python",
   "name": "python3"
  },
  "language_info": {
   "codemirror_mode": {
    "name": "ipython",
    "version": 3
   },
   "file_extension": ".py",
   "mimetype": "text/x-python",
   "name": "python",
   "nbconvert_exporter": "python",
   "pygments_lexer": "ipython3",
   "version": "3.8.5"
  }
 },
 "nbformat": 4,
 "nbformat_minor": 4
}
