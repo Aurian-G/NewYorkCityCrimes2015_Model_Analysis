{
 "cells": [
  {
   "cell_type": "markdown",
   "metadata": {},
   "source": [
    "# New York City 5 Boroughs Crimes Data  \n",
    "  \n",
    "  \n",
    "This data has been gathered from https://www.kaggle.com/adamschroeder/crimes-new-york-city.\n",
    "  \n",
    "This dataset has a second file provided that provides each of the 5 borough population metrics by decade from 1950 with projections through 2040.\n",
    "  \n",
    "Additional Considerations:\n",
    " - weather data to see how weather affects crime\n",
    " - Unemployment statistics\n",
    "  \n",
    "Dataset has 1,048,575  observations with 24 columns  \n",
    "  \n",
    "|Variable Label|Variable Type|Data Description|\n",
    "| :-|:-|:-|\n",
    "|CMPLNT_NUM||\tRandomly generated persistent ID for each complaint |\n",
    "|CMPLNT_FR_DT||\tExact date of occurrence for the reported event (or starting date of occurrence, if CMPLNT_TO_DT exists)|\n",
    "|CMPLNT_FR_TM||\tExact time of occurrence for the reported event (or starting time of occurrence, if CMPLNT_TO_TM exists)|\n",
    "|CMPLNT_TO_DT||\tEnding date of occurrence for the reported event, if exact time of occurrence is unknown|\n",
    "|CMPLNT_TO_TM||\tEnding time of occurrence for the reported event, if exact time of occurrence is unknown|\n",
    "|RPT_DT||\tDate event was reported to police |\n",
    "|KY_CD||\tThree digit offense classification code|\n",
    "|OFNS_DESC\t||Description of offense corresponding with key code|\n",
    "|PD_CD\t||Three digit internal classification code (more granular than Key Code)|\n",
    "|PD_DESC||\tDescription of internal classification corresponding with PD code (more granular than Offense Description)|\n",
    "|CRM_ATPT_CPTD_CD||\tIndicator of whether crime was successfully completed or attempted, but failed or was interrupted prematurely|\n",
    "|LAW_CAT_CD||\tLevel of offense: felony, misdemeanor, violation |\n",
    "|JURIS_DESC||\tJurisdiction responsible for incident. Either internal, like Police, Transit, and Housing; or external, like Correction, Port Authority, etc.|\n",
    "|BORO_NM\t||The name of the borough in which the incident occurred|\n",
    "|ADDR_PCT_CD\t||The precinct in which the incident occurred|\n",
    "|LOC_OF_OCCUR_DESC||\tSpecific location of occurrence in or around the premises; inside, opposite of, front of, rear of|\n",
    "|PREM_TYP_DESC||\tSpecific description of premises; grocery store, residence, street, etc.|\n",
    "|PARKS_NM\t||Name of NYC park, playground or greenspace of occurrence, if applicable (state parks are not included)|\n",
    "|HADEVELOPT||\tName of NYCHA housing development of occurrence, if applicable|\n",
    "|X_COORD_CD||\tX-coordinate for New York State Plane Coordinate System, Long Island Zone, NAD 83, units feet (FIPS 3104)|\n",
    "|Y_COORD_CD||\tY-coordinate for New York State Plane Coordinate System, Long Island Zone, NAD 83, units feet (FIPS 3104)|\n",
    "|Latitude||\tLatitude coordinate for Global Coordinate System, WGS 1984, decimal degrees (EPSG 4326) |\n",
    "|Longitude||\tLongitude coordinate for Global Coordinate System, WGS 1984, decimal degrees (EPSG 4326)|\n"
   ]
  },
  {
   "cell_type": "markdown",
   "metadata": {},
   "source": [
    "### EDA Plan:\n",
    "\n",
    "1.  Clean up variable types\n",
    "2.  Add variables for day of week, month and year based on date variables  \n",
    "3.  Add times of day or shift allocations to time variable"
   ]
  },
  {
   "cell_type": "code",
   "execution_count": 15,
   "metadata": {},
   "outputs": [
    {
     "name": "stderr",
     "output_type": "stream",
     "text": [
      "C:\\Users\\sabrina.purvis\\Anaconda3\\envs\\ML7331\\lib\\site-packages\\IPython\\core\\interactiveshell.py:3071: DtypeWarning: Columns (17) have mixed types.Specify dtype option on import or set low_memory=False.\n",
      "  has_raised = await self.run_ast_nodes(code_ast.body, cell_name,\n"
     ]
    }
   ],
   "source": [
    "import pandas as pd\n",
    "\n",
    "df = pd.read_csv('NYPD_Complaint_Data_Historic.csv') # read in the csv %%file"
   ]
  },
  {
   "cell_type": "code",
   "execution_count": 16,
   "metadata": {},
   "outputs": [
    {
     "data": {
      "text/html": [
       "<div>\n",
       "<style scoped>\n",
       "    .dataframe tbody tr th:only-of-type {\n",
       "        vertical-align: middle;\n",
       "    }\n",
       "\n",
       "    .dataframe tbody tr th {\n",
       "        vertical-align: top;\n",
       "    }\n",
       "\n",
       "    .dataframe thead th {\n",
       "        text-align: right;\n",
       "    }\n",
       "</style>\n",
       "<table border=\"1\" class=\"dataframe\">\n",
       "  <thead>\n",
       "    <tr style=\"text-align: right;\">\n",
       "      <th></th>\n",
       "      <th>CMPLNT_NUM</th>\n",
       "      <th>CMPLNT_FR_DT</th>\n",
       "      <th>CMPLNT_FR_TM</th>\n",
       "      <th>CMPLNT_TO_DT</th>\n",
       "      <th>CMPLNT_TO_TM</th>\n",
       "      <th>RPT_DT</th>\n",
       "      <th>KY_CD</th>\n",
       "      <th>OFNS_DESC</th>\n",
       "      <th>PD_CD</th>\n",
       "      <th>PD_DESC</th>\n",
       "      <th>...</th>\n",
       "      <th>ADDR_PCT_CD</th>\n",
       "      <th>LOC_OF_OCCUR_DESC</th>\n",
       "      <th>PREM_TYP_DESC</th>\n",
       "      <th>PARKS_NM</th>\n",
       "      <th>HADEVELOPT</th>\n",
       "      <th>X_COORD_CD</th>\n",
       "      <th>Y_COORD_CD</th>\n",
       "      <th>Latitude</th>\n",
       "      <th>Longitude</th>\n",
       "      <th>Lat_Lon</th>\n",
       "    </tr>\n",
       "  </thead>\n",
       "  <tbody>\n",
       "    <tr>\n",
       "      <th>0</th>\n",
       "      <td>101109527</td>\n",
       "      <td>12/31/2015</td>\n",
       "      <td>23:45:00</td>\n",
       "      <td>NaN</td>\n",
       "      <td>NaN</td>\n",
       "      <td>12/31/2015</td>\n",
       "      <td>113</td>\n",
       "      <td>FORGERY</td>\n",
       "      <td>729.0</td>\n",
       "      <td>FORGERY,ETC.,UNCLASSIFIED-FELO</td>\n",
       "      <td>...</td>\n",
       "      <td>44.0</td>\n",
       "      <td>INSIDE</td>\n",
       "      <td>BAR/NIGHT CLUB</td>\n",
       "      <td>NaN</td>\n",
       "      <td>NaN</td>\n",
       "      <td>1007314.0</td>\n",
       "      <td>241257.0</td>\n",
       "      <td>40.828848</td>\n",
       "      <td>-73.916661</td>\n",
       "      <td>(40.828848333, -73.916661142)</td>\n",
       "    </tr>\n",
       "    <tr>\n",
       "      <th>1</th>\n",
       "      <td>153401121</td>\n",
       "      <td>12/31/2015</td>\n",
       "      <td>23:36:00</td>\n",
       "      <td>NaN</td>\n",
       "      <td>NaN</td>\n",
       "      <td>12/31/2015</td>\n",
       "      <td>101</td>\n",
       "      <td>MURDER &amp; NON-NEGL. MANSLAUGHTER</td>\n",
       "      <td>NaN</td>\n",
       "      <td>NaN</td>\n",
       "      <td>...</td>\n",
       "      <td>103.0</td>\n",
       "      <td>OUTSIDE</td>\n",
       "      <td>NaN</td>\n",
       "      <td>NaN</td>\n",
       "      <td>NaN</td>\n",
       "      <td>1043991.0</td>\n",
       "      <td>193406.0</td>\n",
       "      <td>40.697338</td>\n",
       "      <td>-73.784557</td>\n",
       "      <td>(40.697338138, -73.784556739)</td>\n",
       "    </tr>\n",
       "    <tr>\n",
       "      <th>2</th>\n",
       "      <td>569369778</td>\n",
       "      <td>12/31/2015</td>\n",
       "      <td>23:30:00</td>\n",
       "      <td>NaN</td>\n",
       "      <td>NaN</td>\n",
       "      <td>12/31/2015</td>\n",
       "      <td>117</td>\n",
       "      <td>DANGEROUS DRUGS</td>\n",
       "      <td>503.0</td>\n",
       "      <td>CONTROLLED SUBSTANCE,INTENT TO</td>\n",
       "      <td>...</td>\n",
       "      <td>28.0</td>\n",
       "      <td>NaN</td>\n",
       "      <td>OTHER</td>\n",
       "      <td>NaN</td>\n",
       "      <td>NaN</td>\n",
       "      <td>999463.0</td>\n",
       "      <td>231690.0</td>\n",
       "      <td>40.802607</td>\n",
       "      <td>-73.945052</td>\n",
       "      <td>(40.802606608, -73.945051911)</td>\n",
       "    </tr>\n",
       "    <tr>\n",
       "      <th>3</th>\n",
       "      <td>968417082</td>\n",
       "      <td>12/31/2015</td>\n",
       "      <td>23:30:00</td>\n",
       "      <td>NaN</td>\n",
       "      <td>NaN</td>\n",
       "      <td>12/31/2015</td>\n",
       "      <td>344</td>\n",
       "      <td>ASSAULT 3 &amp; RELATED OFFENSES</td>\n",
       "      <td>101.0</td>\n",
       "      <td>ASSAULT 3</td>\n",
       "      <td>...</td>\n",
       "      <td>105.0</td>\n",
       "      <td>INSIDE</td>\n",
       "      <td>RESIDENCE-HOUSE</td>\n",
       "      <td>NaN</td>\n",
       "      <td>NaN</td>\n",
       "      <td>1060183.0</td>\n",
       "      <td>177862.0</td>\n",
       "      <td>40.654549</td>\n",
       "      <td>-73.726339</td>\n",
       "      <td>(40.654549444, -73.726338791)</td>\n",
       "    </tr>\n",
       "    <tr>\n",
       "      <th>4</th>\n",
       "      <td>641637920</td>\n",
       "      <td>12/31/2015</td>\n",
       "      <td>23:25:00</td>\n",
       "      <td>12/31/2015</td>\n",
       "      <td>23:30:00</td>\n",
       "      <td>12/31/2015</td>\n",
       "      <td>344</td>\n",
       "      <td>ASSAULT 3 &amp; RELATED OFFENSES</td>\n",
       "      <td>101.0</td>\n",
       "      <td>ASSAULT 3</td>\n",
       "      <td>...</td>\n",
       "      <td>13.0</td>\n",
       "      <td>FRONT OF</td>\n",
       "      <td>OTHER</td>\n",
       "      <td>NaN</td>\n",
       "      <td>NaN</td>\n",
       "      <td>987606.0</td>\n",
       "      <td>208148.0</td>\n",
       "      <td>40.738002</td>\n",
       "      <td>-73.987891</td>\n",
       "      <td>(40.7380024, -73.98789129)</td>\n",
       "    </tr>\n",
       "  </tbody>\n",
       "</table>\n",
       "<p>5 rows × 24 columns</p>\n",
       "</div>"
      ],
      "text/plain": [
       "   CMPLNT_NUM CMPLNT_FR_DT CMPLNT_FR_TM CMPLNT_TO_DT CMPLNT_TO_TM      RPT_DT  \\\n",
       "0   101109527   12/31/2015     23:45:00          NaN          NaN  12/31/2015   \n",
       "1   153401121   12/31/2015     23:36:00          NaN          NaN  12/31/2015   \n",
       "2   569369778   12/31/2015     23:30:00          NaN          NaN  12/31/2015   \n",
       "3   968417082   12/31/2015     23:30:00          NaN          NaN  12/31/2015   \n",
       "4   641637920   12/31/2015     23:25:00   12/31/2015     23:30:00  12/31/2015   \n",
       "\n",
       "   KY_CD                        OFNS_DESC  PD_CD  \\\n",
       "0    113                          FORGERY  729.0   \n",
       "1    101  MURDER & NON-NEGL. MANSLAUGHTER    NaN   \n",
       "2    117                  DANGEROUS DRUGS  503.0   \n",
       "3    344     ASSAULT 3 & RELATED OFFENSES  101.0   \n",
       "4    344     ASSAULT 3 & RELATED OFFENSES  101.0   \n",
       "\n",
       "                          PD_DESC  ... ADDR_PCT_CD LOC_OF_OCCUR_DESC  \\\n",
       "0  FORGERY,ETC.,UNCLASSIFIED-FELO  ...        44.0            INSIDE   \n",
       "1                             NaN  ...       103.0           OUTSIDE   \n",
       "2  CONTROLLED SUBSTANCE,INTENT TO  ...        28.0               NaN   \n",
       "3                       ASSAULT 3  ...       105.0            INSIDE   \n",
       "4                       ASSAULT 3  ...        13.0          FRONT OF   \n",
       "\n",
       "     PREM_TYP_DESC PARKS_NM  HADEVELOPT X_COORD_CD Y_COORD_CD   Latitude  \\\n",
       "0   BAR/NIGHT CLUB      NaN         NaN  1007314.0   241257.0  40.828848   \n",
       "1              NaN      NaN         NaN  1043991.0   193406.0  40.697338   \n",
       "2            OTHER      NaN         NaN   999463.0   231690.0  40.802607   \n",
       "3  RESIDENCE-HOUSE      NaN         NaN  1060183.0   177862.0  40.654549   \n",
       "4            OTHER      NaN         NaN   987606.0   208148.0  40.738002   \n",
       "\n",
       "   Longitude                        Lat_Lon  \n",
       "0 -73.916661  (40.828848333, -73.916661142)  \n",
       "1 -73.784557  (40.697338138, -73.784556739)  \n",
       "2 -73.945052  (40.802606608, -73.945051911)  \n",
       "3 -73.726339  (40.654549444, -73.726338791)  \n",
       "4 -73.987891     (40.7380024, -73.98789129)  \n",
       "\n",
       "[5 rows x 24 columns]"
      ]
     },
     "execution_count": 16,
     "metadata": {},
     "output_type": "execute_result"
    }
   ],
   "source": [
    "df.head()"
   ]
  },
  {
   "cell_type": "code",
   "execution_count": 17,
   "metadata": {},
   "outputs": [
    {
     "name": "stdout",
     "output_type": "stream",
     "text": [
      "<class 'pandas.core.frame.DataFrame'>\n",
      "RangeIndex: 1048575 entries, 0 to 1048574\n",
      "Data columns (total 24 columns):\n",
      " #   Column             Non-Null Count    Dtype  \n",
      "---  ------             --------------    -----  \n",
      " 0   CMPLNT_NUM         1048575 non-null  int64  \n",
      " 1   CMPLNT_FR_DT       1048510 non-null  object \n",
      " 2   CMPLNT_FR_TM       1048575 non-null  object \n",
      " 3   CMPLNT_TO_DT       842616 non-null   object \n",
      " 4   CMPLNT_TO_TM       843002 non-null   object \n",
      " 5   RPT_DT             1048575 non-null  object \n",
      " 6   KY_CD              1048575 non-null  int64  \n",
      " 7   OFNS_DESC          1045695 non-null  object \n",
      " 8   PD_CD              1047842 non-null  float64\n",
      " 9   PD_DESC            1047842 non-null  object \n",
      " 10  CRM_ATPT_CPTD_CD   1048574 non-null  object \n",
      " 11  LAW_CAT_CD         1048575 non-null  object \n",
      " 12  JURIS_DESC         1048575 non-null  object \n",
      " 13  BORO_NM            1048575 non-null  object \n",
      " 14  ADDR_PCT_CD        1048574 non-null  float64\n",
      " 15  LOC_OF_OCCUR_DESC  830823 non-null   object \n",
      " 16  PREM_TYP_DESC      1043886 non-null  object \n",
      " 17  PARKS_NM           7599 non-null     object \n",
      " 18  HADEVELOPT         51772 non-null    object \n",
      " 19  X_COORD_CD         1016158 non-null  float64\n",
      " 20  Y_COORD_CD         1016158 non-null  float64\n",
      " 21  Latitude           1016158 non-null  float64\n",
      " 22  Longitude          1016158 non-null  float64\n",
      " 23  Lat_Lon            1016158 non-null  object \n",
      "dtypes: float64(6), int64(2), object(16)\n",
      "memory usage: 192.0+ MB\n",
      "None\n"
     ]
    }
   ],
   "source": [
    "print (df.info())"
   ]
  },
  {
   "cell_type": "code",
   "execution_count": 18,
   "metadata": {},
   "outputs": [
    {
     "data": {
      "text/html": [
       "<div>\n",
       "<style scoped>\n",
       "    .dataframe tbody tr th:only-of-type {\n",
       "        vertical-align: middle;\n",
       "    }\n",
       "\n",
       "    .dataframe tbody tr th {\n",
       "        vertical-align: top;\n",
       "    }\n",
       "\n",
       "    .dataframe thead th {\n",
       "        text-align: right;\n",
       "    }\n",
       "</style>\n",
       "<table border=\"1\" class=\"dataframe\">\n",
       "  <thead>\n",
       "    <tr style=\"text-align: right;\">\n",
       "      <th></th>\n",
       "      <th>CMPLNT_NUM</th>\n",
       "      <th>KY_CD</th>\n",
       "      <th>PD_CD</th>\n",
       "      <th>ADDR_PCT_CD</th>\n",
       "      <th>X_COORD_CD</th>\n",
       "      <th>Y_COORD_CD</th>\n",
       "      <th>Latitude</th>\n",
       "      <th>Longitude</th>\n",
       "    </tr>\n",
       "  </thead>\n",
       "  <tbody>\n",
       "    <tr>\n",
       "      <th>count</th>\n",
       "      <td>1.048575e+06</td>\n",
       "      <td>1.048575e+06</td>\n",
       "      <td>1.047842e+06</td>\n",
       "      <td>1.048574e+06</td>\n",
       "      <td>1.016158e+06</td>\n",
       "      <td>1.016158e+06</td>\n",
       "      <td>1.016158e+06</td>\n",
       "      <td>1.016158e+06</td>\n",
       "    </tr>\n",
       "    <tr>\n",
       "      <th>mean</th>\n",
       "      <td>5.497027e+08</td>\n",
       "      <td>2.953382e+02</td>\n",
       "      <td>4.099135e+02</td>\n",
       "      <td>6.380729e+01</td>\n",
       "      <td>1.004983e+06</td>\n",
       "      <td>2.067818e+05</td>\n",
       "      <td>4.073420e+01</td>\n",
       "      <td>-7.392516e+01</td>\n",
       "    </tr>\n",
       "    <tr>\n",
       "      <th>std</th>\n",
       "      <td>2.598666e+08</td>\n",
       "      <td>1.505240e+02</td>\n",
       "      <td>2.192328e+02</td>\n",
       "      <td>3.434066e+01</td>\n",
       "      <td>2.146524e+04</td>\n",
       "      <td>3.043238e+04</td>\n",
       "      <td>8.353300e-02</td>\n",
       "      <td>7.741049e-02</td>\n",
       "    </tr>\n",
       "    <tr>\n",
       "      <th>min</th>\n",
       "      <td>1.000007e+08</td>\n",
       "      <td>1.010000e+02</td>\n",
       "      <td>1.010000e+02</td>\n",
       "      <td>1.000000e+00</td>\n",
       "      <td>9.133190e+05</td>\n",
       "      <td>1.210800e+05</td>\n",
       "      <td>4.049877e+01</td>\n",
       "      <td>-7.425508e+01</td>\n",
       "    </tr>\n",
       "    <tr>\n",
       "      <th>25%</th>\n",
       "      <td>3.244583e+08</td>\n",
       "      <td>1.170000e+02</td>\n",
       "      <td>2.540000e+02</td>\n",
       "      <td>4.000000e+01</td>\n",
       "      <td>9.919982e+05</td>\n",
       "      <td>1.839220e+05</td>\n",
       "      <td>4.067144e+01</td>\n",
       "      <td>-7.397206e+01</td>\n",
       "    </tr>\n",
       "    <tr>\n",
       "      <th>50%</th>\n",
       "      <td>5.494480e+08</td>\n",
       "      <td>3.410000e+02</td>\n",
       "      <td>3.570000e+02</td>\n",
       "      <td>6.600000e+01</td>\n",
       "      <td>1.004598e+06</td>\n",
       "      <td>2.053300e+05</td>\n",
       "      <td>4.073021e+01</td>\n",
       "      <td>-7.392661e+01</td>\n",
       "    </tr>\n",
       "    <tr>\n",
       "      <th>75%</th>\n",
       "      <td>7.746526e+08</td>\n",
       "      <td>3.510000e+02</td>\n",
       "      <td>6.370000e+02</td>\n",
       "      <td>9.400000e+01</td>\n",
       "      <td>1.016552e+06</td>\n",
       "      <td>2.348090e+05</td>\n",
       "      <td>4.081116e+01</td>\n",
       "      <td>-7.388336e+01</td>\n",
       "    </tr>\n",
       "    <tr>\n",
       "      <th>max</th>\n",
       "      <td>9.999996e+08</td>\n",
       "      <td>8.810000e+02</td>\n",
       "      <td>9.750000e+02</td>\n",
       "      <td>1.230000e+02</td>\n",
       "      <td>1.067226e+06</td>\n",
       "      <td>2.718200e+05</td>\n",
       "      <td>4.091272e+01</td>\n",
       "      <td>-7.370058e+01</td>\n",
       "    </tr>\n",
       "  </tbody>\n",
       "</table>\n",
       "</div>"
      ],
      "text/plain": [
       "         CMPLNT_NUM         KY_CD         PD_CD   ADDR_PCT_CD    X_COORD_CD  \\\n",
       "count  1.048575e+06  1.048575e+06  1.047842e+06  1.048574e+06  1.016158e+06   \n",
       "mean   5.497027e+08  2.953382e+02  4.099135e+02  6.380729e+01  1.004983e+06   \n",
       "std    2.598666e+08  1.505240e+02  2.192328e+02  3.434066e+01  2.146524e+04   \n",
       "min    1.000007e+08  1.010000e+02  1.010000e+02  1.000000e+00  9.133190e+05   \n",
       "25%    3.244583e+08  1.170000e+02  2.540000e+02  4.000000e+01  9.919982e+05   \n",
       "50%    5.494480e+08  3.410000e+02  3.570000e+02  6.600000e+01  1.004598e+06   \n",
       "75%    7.746526e+08  3.510000e+02  6.370000e+02  9.400000e+01  1.016552e+06   \n",
       "max    9.999996e+08  8.810000e+02  9.750000e+02  1.230000e+02  1.067226e+06   \n",
       "\n",
       "         Y_COORD_CD      Latitude     Longitude  \n",
       "count  1.016158e+06  1.016158e+06  1.016158e+06  \n",
       "mean   2.067818e+05  4.073420e+01 -7.392516e+01  \n",
       "std    3.043238e+04  8.353300e-02  7.741049e-02  \n",
       "min    1.210800e+05  4.049877e+01 -7.425508e+01  \n",
       "25%    1.839220e+05  4.067144e+01 -7.397206e+01  \n",
       "50%    2.053300e+05  4.073021e+01 -7.392661e+01  \n",
       "75%    2.348090e+05  4.081116e+01 -7.388336e+01  \n",
       "max    2.718200e+05  4.091272e+01 -7.370058e+01  "
      ]
     },
     "execution_count": 18,
     "metadata": {},
     "output_type": "execute_result"
    }
   ],
   "source": [
    "df.describe()"
   ]
  },
  {
   "cell_type": "code",
   "execution_count": 26,
   "metadata": {},
   "outputs": [
    {
     "ename": "OutOfBoundsDatetime",
     "evalue": "Out of bounds nanosecond timestamp: 1015-12-04 00:00:00",
     "output_type": "error",
     "traceback": [
      "\u001b[1;31m---------------------------------------------------------------------------\u001b[0m",
      "\u001b[1;31mTypeError\u001b[0m                                 Traceback (most recent call last)",
      "\u001b[1;32m~\\Anaconda3\\envs\\ML7331\\lib\\site-packages\\pandas\\core\\arrays\\datetimes.py\u001b[0m in \u001b[0;36mobjects_to_datetime64ns\u001b[1;34m(data, dayfirst, yearfirst, utc, errors, require_iso8601, allow_object)\u001b[0m\n\u001b[0;32m   2053\u001b[0m         \u001b[1;32mtry\u001b[0m\u001b[1;33m:\u001b[0m\u001b[1;33m\u001b[0m\u001b[1;33m\u001b[0m\u001b[0m\n\u001b[1;32m-> 2054\u001b[1;33m             \u001b[0mvalues\u001b[0m\u001b[1;33m,\u001b[0m \u001b[0mtz_parsed\u001b[0m \u001b[1;33m=\u001b[0m \u001b[0mconversion\u001b[0m\u001b[1;33m.\u001b[0m\u001b[0mdatetime_to_datetime64\u001b[0m\u001b[1;33m(\u001b[0m\u001b[0mdata\u001b[0m\u001b[1;33m)\u001b[0m\u001b[1;33m\u001b[0m\u001b[1;33m\u001b[0m\u001b[0m\n\u001b[0m\u001b[0;32m   2055\u001b[0m             \u001b[1;31m# If tzaware, these values represent unix timestamps, so we\u001b[0m\u001b[1;33m\u001b[0m\u001b[1;33m\u001b[0m\u001b[1;33m\u001b[0m\u001b[0m\n",
      "\u001b[1;32mpandas\\_libs\\tslibs\\conversion.pyx\u001b[0m in \u001b[0;36mpandas._libs.tslibs.conversion.datetime_to_datetime64\u001b[1;34m()\u001b[0m\n",
      "\u001b[1;31mTypeError\u001b[0m: Unrecognized value type: <class 'str'>",
      "\nDuring handling of the above exception, another exception occurred:\n",
      "\u001b[1;31mOutOfBoundsDatetime\u001b[0m                       Traceback (most recent call last)",
      "\u001b[1;32m<ipython-input-26-feae351cdd24>\u001b[0m in \u001b[0;36m<module>\u001b[1;34m\u001b[0m\n\u001b[1;32m----> 1\u001b[1;33m \u001b[0mdf\u001b[0m\u001b[1;33m[\u001b[0m\u001b[1;34m'year'\u001b[0m\u001b[1;33m]\u001b[0m \u001b[1;33m=\u001b[0m \u001b[0mpd\u001b[0m\u001b[1;33m.\u001b[0m\u001b[0mDatetimeIndex\u001b[0m\u001b[1;33m(\u001b[0m\u001b[0mdf\u001b[0m\u001b[1;33m[\u001b[0m\u001b[1;34m'CMPLNT_FR_DT'\u001b[0m\u001b[1;33m]\u001b[0m\u001b[1;33m)\u001b[0m\u001b[1;33m.\u001b[0m\u001b[0myear\u001b[0m\u001b[1;33m\u001b[0m\u001b[1;33m\u001b[0m\u001b[0m\n\u001b[0m",
      "\u001b[1;32m~\\Anaconda3\\envs\\ML7331\\lib\\site-packages\\pandas\\core\\indexes\\datetimes.py\u001b[0m in \u001b[0;36m__new__\u001b[1;34m(cls, data, freq, tz, normalize, closed, ambiguous, dayfirst, yearfirst, dtype, copy, name)\u001b[0m\n\u001b[0;32m    269\u001b[0m         \u001b[0mname\u001b[0m \u001b[1;33m=\u001b[0m \u001b[0mmaybe_extract_name\u001b[0m\u001b[1;33m(\u001b[0m\u001b[0mname\u001b[0m\u001b[1;33m,\u001b[0m \u001b[0mdata\u001b[0m\u001b[1;33m,\u001b[0m \u001b[0mcls\u001b[0m\u001b[1;33m)\u001b[0m\u001b[1;33m\u001b[0m\u001b[1;33m\u001b[0m\u001b[0m\n\u001b[0;32m    270\u001b[0m \u001b[1;33m\u001b[0m\u001b[0m\n\u001b[1;32m--> 271\u001b[1;33m         dtarr = DatetimeArray._from_sequence(\n\u001b[0m\u001b[0;32m    272\u001b[0m             \u001b[0mdata\u001b[0m\u001b[1;33m,\u001b[0m\u001b[1;33m\u001b[0m\u001b[1;33m\u001b[0m\u001b[0m\n\u001b[0;32m    273\u001b[0m             \u001b[0mdtype\u001b[0m\u001b[1;33m=\u001b[0m\u001b[0mdtype\u001b[0m\u001b[1;33m,\u001b[0m\u001b[1;33m\u001b[0m\u001b[1;33m\u001b[0m\u001b[0m\n",
      "\u001b[1;32m~\\Anaconda3\\envs\\ML7331\\lib\\site-packages\\pandas\\core\\arrays\\datetimes.py\u001b[0m in \u001b[0;36m_from_sequence\u001b[1;34m(cls, data, dtype, copy, tz, freq, dayfirst, yearfirst, ambiguous)\u001b[0m\n\u001b[0;32m    314\u001b[0m         \u001b[0mfreq\u001b[0m\u001b[1;33m,\u001b[0m \u001b[0mfreq_infer\u001b[0m \u001b[1;33m=\u001b[0m \u001b[0mdtl\u001b[0m\u001b[1;33m.\u001b[0m\u001b[0mmaybe_infer_freq\u001b[0m\u001b[1;33m(\u001b[0m\u001b[0mfreq\u001b[0m\u001b[1;33m)\u001b[0m\u001b[1;33m\u001b[0m\u001b[1;33m\u001b[0m\u001b[0m\n\u001b[0;32m    315\u001b[0m \u001b[1;33m\u001b[0m\u001b[0m\n\u001b[1;32m--> 316\u001b[1;33m         subarr, tz, inferred_freq = sequence_to_dt64ns(\n\u001b[0m\u001b[0;32m    317\u001b[0m             \u001b[0mdata\u001b[0m\u001b[1;33m,\u001b[0m\u001b[1;33m\u001b[0m\u001b[1;33m\u001b[0m\u001b[0m\n\u001b[0;32m    318\u001b[0m             \u001b[0mdtype\u001b[0m\u001b[1;33m=\u001b[0m\u001b[0mdtype\u001b[0m\u001b[1;33m,\u001b[0m\u001b[1;33m\u001b[0m\u001b[1;33m\u001b[0m\u001b[0m\n",
      "\u001b[1;32m~\\Anaconda3\\envs\\ML7331\\lib\\site-packages\\pandas\\core\\arrays\\datetimes.py\u001b[0m in \u001b[0;36msequence_to_dt64ns\u001b[1;34m(data, dtype, copy, tz, dayfirst, yearfirst, ambiguous)\u001b[0m\n\u001b[0;32m   1947\u001b[0m             \u001b[1;31m# data comes back here as either i8 to denote UTC timestamps\u001b[0m\u001b[1;33m\u001b[0m\u001b[1;33m\u001b[0m\u001b[1;33m\u001b[0m\u001b[0m\n\u001b[0;32m   1948\u001b[0m             \u001b[1;31m#  or M8[ns] to denote wall times\u001b[0m\u001b[1;33m\u001b[0m\u001b[1;33m\u001b[0m\u001b[1;33m\u001b[0m\u001b[0m\n\u001b[1;32m-> 1949\u001b[1;33m             data, inferred_tz = objects_to_datetime64ns(\n\u001b[0m\u001b[0;32m   1950\u001b[0m                 \u001b[0mdata\u001b[0m\u001b[1;33m,\u001b[0m \u001b[0mdayfirst\u001b[0m\u001b[1;33m=\u001b[0m\u001b[0mdayfirst\u001b[0m\u001b[1;33m,\u001b[0m \u001b[0myearfirst\u001b[0m\u001b[1;33m=\u001b[0m\u001b[0myearfirst\u001b[0m\u001b[1;33m\u001b[0m\u001b[1;33m\u001b[0m\u001b[0m\n\u001b[0;32m   1951\u001b[0m             )\n",
      "\u001b[1;32m~\\Anaconda3\\envs\\ML7331\\lib\\site-packages\\pandas\\core\\arrays\\datetimes.py\u001b[0m in \u001b[0;36mobjects_to_datetime64ns\u001b[1;34m(data, dayfirst, yearfirst, utc, errors, require_iso8601, allow_object)\u001b[0m\n\u001b[0;32m   2057\u001b[0m             \u001b[1;32mreturn\u001b[0m \u001b[0mvalues\u001b[0m\u001b[1;33m.\u001b[0m\u001b[0mview\u001b[0m\u001b[1;33m(\u001b[0m\u001b[1;34m\"i8\"\u001b[0m\u001b[1;33m)\u001b[0m\u001b[1;33m,\u001b[0m \u001b[0mtz_parsed\u001b[0m\u001b[1;33m\u001b[0m\u001b[1;33m\u001b[0m\u001b[0m\n\u001b[0;32m   2058\u001b[0m         \u001b[1;32mexcept\u001b[0m \u001b[1;33m(\u001b[0m\u001b[0mValueError\u001b[0m\u001b[1;33m,\u001b[0m \u001b[0mTypeError\u001b[0m\u001b[1;33m)\u001b[0m\u001b[1;33m:\u001b[0m\u001b[1;33m\u001b[0m\u001b[1;33m\u001b[0m\u001b[0m\n\u001b[1;32m-> 2059\u001b[1;33m             \u001b[1;32mraise\u001b[0m \u001b[0me\u001b[0m\u001b[1;33m\u001b[0m\u001b[1;33m\u001b[0m\u001b[0m\n\u001b[0m\u001b[0;32m   2060\u001b[0m \u001b[1;33m\u001b[0m\u001b[0m\n\u001b[0;32m   2061\u001b[0m     \u001b[1;32mif\u001b[0m \u001b[0mtz_parsed\u001b[0m \u001b[1;32mis\u001b[0m \u001b[1;32mnot\u001b[0m \u001b[1;32mNone\u001b[0m\u001b[1;33m:\u001b[0m\u001b[1;33m\u001b[0m\u001b[1;33m\u001b[0m\u001b[0m\n",
      "\u001b[1;32m~\\Anaconda3\\envs\\ML7331\\lib\\site-packages\\pandas\\core\\arrays\\datetimes.py\u001b[0m in \u001b[0;36mobjects_to_datetime64ns\u001b[1;34m(data, dayfirst, yearfirst, utc, errors, require_iso8601, allow_object)\u001b[0m\n\u001b[0;32m   2042\u001b[0m \u001b[1;33m\u001b[0m\u001b[0m\n\u001b[0;32m   2043\u001b[0m     \u001b[1;32mtry\u001b[0m\u001b[1;33m:\u001b[0m\u001b[1;33m\u001b[0m\u001b[1;33m\u001b[0m\u001b[0m\n\u001b[1;32m-> 2044\u001b[1;33m         result, tz_parsed = tslib.array_to_datetime(\n\u001b[0m\u001b[0;32m   2045\u001b[0m             \u001b[0mdata\u001b[0m\u001b[1;33m,\u001b[0m\u001b[1;33m\u001b[0m\u001b[1;33m\u001b[0m\u001b[0m\n\u001b[0;32m   2046\u001b[0m             \u001b[0merrors\u001b[0m\u001b[1;33m=\u001b[0m\u001b[0merrors\u001b[0m\u001b[1;33m,\u001b[0m\u001b[1;33m\u001b[0m\u001b[1;33m\u001b[0m\u001b[0m\n",
      "\u001b[1;32mpandas\\_libs\\tslib.pyx\u001b[0m in \u001b[0;36mpandas._libs.tslib.array_to_datetime\u001b[1;34m()\u001b[0m\n",
      "\u001b[1;32mpandas\\_libs\\tslib.pyx\u001b[0m in \u001b[0;36mpandas._libs.tslib.array_to_datetime\u001b[1;34m()\u001b[0m\n",
      "\u001b[1;32mpandas\\_libs\\tslib.pyx\u001b[0m in \u001b[0;36mpandas._libs.tslib.array_to_datetime\u001b[1;34m()\u001b[0m\n",
      "\u001b[1;32mpandas\\_libs\\tslib.pyx\u001b[0m in \u001b[0;36mpandas._libs.tslib.array_to_datetime\u001b[1;34m()\u001b[0m\n",
      "\u001b[1;32mpandas\\_libs\\tslibs\\conversion.pyx\u001b[0m in \u001b[0;36mpandas._libs.tslibs.conversion.convert_datetime_to_tsobject\u001b[1;34m()\u001b[0m\n",
      "\u001b[1;32mpandas\\_libs\\tslibs\\np_datetime.pyx\u001b[0m in \u001b[0;36mpandas._libs.tslibs.np_datetime.check_dts_bounds\u001b[1;34m()\u001b[0m\n",
      "\u001b[1;31mOutOfBoundsDatetime\u001b[0m: Out of bounds nanosecond timestamp: 1015-12-04 00:00:00"
     ]
    }
   ],
   "source": [
    "df['year'] = pd.DatetimeIndex(df['CMPLNT_FR_DT']).year"
   ]
  },
  {
   "cell_type": "code",
   "execution_count": 19,
   "metadata": {},
   "outputs": [],
   "source": [
    "import matplotlib.pyplot as plt"
   ]
  },
  {
   "cell_type": "markdown",
   "metadata": {},
   "source": [
    "I am going to try and map the lat/longitude for a specific crime"
   ]
  },
  {
   "cell_type": "code",
   "execution_count": 20,
   "metadata": {},
   "outputs": [
    {
     "data": {
      "image/png": "[encoded data removed]",
      "text/plain": [
       "<Figure size 432x288 with 1 Axes>"
      ]
     },
     "metadata": {
      "needs_background": "light"
     },
     "output_type": "display_data"
    }
   ],
   "source": [
    "df.plot(kind=\"scatter\", x=\"Longitude\", y=\"Latitude\", alpha=0.4)\n",
    "plt.show()"
   ]
  },
  {
   "cell_type": "code",
   "execution_count": 21,
   "metadata": {},
   "outputs": [
    {
     "data": {
      "text/plain": [
       "-74.25507554"
      ]
     },
     "execution_count": 21,
     "metadata": {},
     "output_type": "execute_result"
    }
   ],
   "source": [
    "#finding the boundary box - used to overlay points on a city map\n",
    "#code source:  https://towardsdatascience.com/easy-steps-to-plot-geographic-data-on-a-map-python-11217859a2db\n",
    "\n",
    "df.Longitude.min()"
   ]
  },
  {
   "cell_type": "code",
   "execution_count": 22,
   "metadata": {},
   "outputs": [
    {
     "data": {
      "text/plain": [
       "-73.70057651"
      ]
     },
     "execution_count": 22,
     "metadata": {},
     "output_type": "execute_result"
    }
   ],
   "source": [
    "df.Longitude.max()"
   ]
  },
  {
   "cell_type": "code",
   "execution_count": 23,
   "metadata": {},
   "outputs": [
    {
     "data": {
      "text/plain": [
       "40.9127234"
      ]
     },
     "execution_count": 23,
     "metadata": {},
     "output_type": "execute_result"
    }
   ],
   "source": [
    "df.Latitude.max()"
   ]
  },
  {
   "cell_type": "code",
   "execution_count": 24,
   "metadata": {},
   "outputs": [
    {
     "data": {
      "text/plain": [
       "40.49876753"
      ]
     },
     "execution_count": 24,
     "metadata": {},
     "output_type": "execute_result"
    }
   ],
   "source": [
    "df.Latitude.min()"
   ]
  },
  {
   "cell_type": "code",
   "execution_count": 25,
   "metadata": {},
   "outputs": [
    {
     "ename": "NameError",
     "evalue": "name 'BORO_NM' is not defined",
     "output_type": "error",
     "traceback": [
      "\u001b[1;31m---------------------------------------------------------------------------\u001b[0m",
      "\u001b[1;31mNameError\u001b[0m                                 Traceback (most recent call last)",
      "\u001b[1;32m<ipython-input-25-ff213fcb9b2c>\u001b[0m in \u001b[0;36m<module>\u001b[1;34m\u001b[0m\n\u001b[1;32m----> 1\u001b[1;33m \u001b[0mplt\u001b[0m\u001b[1;33m.\u001b[0m\u001b[0mbar\u001b[0m\u001b[1;33m(\u001b[0m\u001b[0mBORO_NM\u001b[0m\u001b[1;33m)\u001b[0m\u001b[1;33m\u001b[0m\u001b[1;33m\u001b[0m\u001b[0m\n\u001b[0m",
      "\u001b[1;31mNameError\u001b[0m: name 'BORO_NM' is not defined"
     ]
    }
   ],
   "source": [
    "plt.bar(BORO_NM)"
   ]
  },
  {
   "cell_type": "code",
   "execution_count": null,
   "metadata": {},
   "outputs": [],
   "source": []
  }
 ],
 "metadata": {
  "kernelspec": {
   "display_name": "Python 3",
   "language": "python",
   "name": "python3"
  },
  "language_info": {
   "codemirror_mode": {
    "name": "ipython",
    "version": 3
   },
   "file_extension": ".py",
   "mimetype": "text/x-python",
   "name": "python",
   "nbconvert_exporter": "python",
   "pygments_lexer": "ipython3",
   "version": "3.8.5"
  }
 },
 "nbformat": 4,
 "nbformat_minor": 4
}
